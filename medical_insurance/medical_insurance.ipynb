{
 "cells": [
  {
   "cell_type": "markdown",
   "metadata": {},
   "source": [
    "# U.S. Medical Insurance Costs\n",
    "\n",
    "The goal of this project is to analyze various attributes within **insurance.csv**, using python, to learn more about the patient information in the file and gain insight into potential use cases for the dataset.\n",
    "\n",
    "The analysis consists of the following objectives:\n",
    "\n",
    "1. Analyze age groups and specify gender balance in them.  \n",
    "    - Determine the gender proportion in general and by age groups.\n",
    "    - Find out the age of the youngest representatives and the oldest.\n",
    "    - Find out the average age of the patients in the dataset.\n",
    "    - Figure out what the average age is for someone who has at least one child in this dataset.\n",
    "2. Find correlations between different parameters like Age and BMI, Smoking and Insurance Cost.\n",
    "3. Find out whether  the numerical values of the parameters equally distributed across the regions. \n",
    "    - Analyze where a majority of the individuals are from.\n",
    "    - Find out if there are regions where there are statistically more people who smoke and have 1 or more children.\n",
    "        - Find those who smoke and compare with the number of non smokers.\n",
    "        - Find those who have 1 or more children;\n",
    "        - Find people with bmi above (24.9) and below (18.5) normal.\n",
    "4. Compare insurance costs.\n",
    "    - Find out average, minimum, and maximum insurance costs through the whole country.\n",
    "    - Find out avarage costs:\n",
    "        - in the country;\n",
    "        - for smokers;\n",
    "        - for people with children.\n"
   ]
  },
  {
   "cell_type": "markdown",
   "metadata": {},
   "source": [
    "To implement these objectives one should import and read the insurance.csv, and put it in a list for further usage."
   ]
  },
  {
   "cell_type": "code",
   "execution_count": 708,
   "metadata": {},
   "outputs": [],
   "source": [
    "import csv\n",
    "\n",
    "users_list = []\n",
    "with open('insurance.csv', newline = '') as users_csv:\n",
    "    user_reader = csv.DictReader(users_csv)\n",
    "    for user in user_reader:\n",
    "        user['age'] = int(user['age']) \n",
    "        user['bmi'] = float(user['bmi'])\n",
    "        user['children'] = int(user['children'])\n",
    "        user['charges'] = float(user['charges'])\n",
    "        user['smoker'] = user['smoker'] == 'yes'\n",
    "        users_list.append(user)\n"
   ]
  },
  {
   "cell_type": "markdown",
   "metadata": {},
   "source": [
    "### 1. Analyze age groups and specify gender balance in them\n",
    "\n",
    "##### 1.1. Create generalized age groups:\n",
    "* 18 - 25;\n",
    "* 26 - 30;\n",
    "* 31 - 45;\n",
    "* 46 - 60;\n",
    "* 61 - 75;\n",
    "* 76 and older.\n"
   ]
  },
  {
   "cell_type": "code",
   "execution_count": 709,
   "metadata": {},
   "outputs": [],
   "source": [
    "age_groups = {\n",
    "    '18-25': {\n",
    "        'male': 0,\n",
    "        'female': 0,\n",
    "        'total': 0\n",
    "    },\n",
    "    '26-30': {\n",
    "        'male': 0,\n",
    "        'female': 0,\n",
    "        'total': 0\n",
    "    },    \n",
    "    '31-45': {\n",
    "        'male': 0,\n",
    "        'female': 0,\n",
    "        'total': 0\n",
    "    }, \n",
    "    '46-60': {\n",
    "        'male': 0,\n",
    "        'female': 0,\n",
    "        'total': 0\n",
    "    }, \n",
    "    '61-75': {\n",
    "        'male': 0,\n",
    "        'female': 0,\n",
    "        'total': 0\n",
    "    }, \n",
    "    '76 +': {\n",
    "        'male': 0,\n",
    "        'female': 0,\n",
    "        'total': 0\n",
    "    } \n",
    "}"
   ]
  },
  {
   "cell_type": "markdown",
   "metadata": {},
   "source": [
    "##### 1.2. Put representatives' data points in corresponding age groups and determine gender proportion in each of the age groups"
   ]
  },
  {
   "cell_type": "code",
   "execution_count": 710,
   "metadata": {},
   "outputs": [
    {
     "data": {
      "text/plain": [
       "{'18-25': {'male': 159, 'female': 147, 'total': 306},\n",
       " '26-30': {'male': 71, 'female': 67, 'total': 138},\n",
       " '31-45': {'male': 199, 'female': 195, 'total': 394},\n",
       " '46-60': {'male': 203, 'female': 206, 'total': 409},\n",
       " '61-75': {'male': 44, 'female': 47, 'total': 91},\n",
       " '76 +': {'male': 0, 'female': 0, 'total': 0}}"
      ]
     },
     "execution_count": 710,
     "metadata": {},
     "output_type": "execute_result"
    }
   ],
   "source": [
    "\n",
    "for user in users_list:\n",
    "    age = user['age']\n",
    "    sex = user['sex']\n",
    "    if age >= 18 and age <= 25:\n",
    "        age_groups['18-25']['total'] += 1\n",
    "        age_groups['18-25'][sex] += 1\n",
    "    elif age >= 26 and age <= 30:\n",
    "        age_groups['26-30']['total'] += 1\n",
    "        age_groups['26-30'][sex] += 1\n",
    "    elif age >= 31 and age <= 45:\n",
    "        age_groups['31-45']['total'] += 1\n",
    "        age_groups['31-45'][sex] += 1\n",
    "    elif age >= 46 and age <= 60:\n",
    "        age_groups['46-60']['total'] += 1\n",
    "        age_groups['46-60'][sex] += 1\n",
    "    elif age >= 61 and age <= 75:\n",
    "        age_groups['61-75']['total'] += 1\n",
    "        age_groups['61-75'][sex] += 1\n",
    "    elif age >= 76:\n",
    "        age_groups['76 +']['total'] += 1\n",
    "        age_groups['76 +'][sex] += 1\n",
    "age_groups"
   ]
  },
  {
   "cell_type": "markdown",
   "metadata": {},
   "source": [
    "##### 1.3. Сonvert gender distribution to percentages"
   ]
  },
  {
   "cell_type": "code",
   "execution_count": 711,
   "metadata": {},
   "outputs": [
    {
     "data": {
      "text/plain": [
       "{'18-25': {'male': 51.96, 'female': 48.04, 'diff': 3.92},\n",
       " '26-30': {'male': 51.45, 'female': 48.55, 'diff': 2.9},\n",
       " '31-45': {'male': 50.51, 'female': 49.49, 'diff': 1.02},\n",
       " '46-60': {'male': 49.63, 'female': 50.37, 'diff': 0.74},\n",
       " '61-75': {'male': 48.35, 'female': 51.65, 'diff': 3.3},\n",
       " '76 +': {'male': 0, 'female': 0, 'diff': 0}}"
      ]
     },
     "execution_count": 711,
     "metadata": {},
     "output_type": "execute_result"
    }
   ],
   "source": [
    "def percentage_calc(part, whole):\n",
    "    if whole == 0:\n",
    "        return 0\n",
    "    percentage = round(100 * part/whole, 2)\n",
    "    return percentage\n",
    "\n",
    "def age_groups_in_percentages(list):\n",
    "    age_groups_in_perc = {\n",
    "        '18-25': {\n",
    "            'male': 0,\n",
    "            'female': 0,\n",
    "            'diff': 0\n",
    "        },\n",
    "        '26-30': {\n",
    "            'male': 0,\n",
    "            'female': 0,\n",
    "            'diff': 0\n",
    "        },    \n",
    "        '31-45': {\n",
    "            'male': 0,\n",
    "            'female': 0,\n",
    "            'diff': 0\n",
    "        }, \n",
    "        '46-60': {\n",
    "            'male': 0,\n",
    "            'female': 0,\n",
    "            'diff': 0    \n",
    "        }, \n",
    "        '61-75': {\n",
    "            'male': 0,\n",
    "            'female': 0,\n",
    "            'diff': 0\n",
    "        }, \n",
    "        '76 +': {\n",
    "            'male': 0,\n",
    "            'female': 0,\n",
    "            'diff': 0\n",
    "        } \n",
    "    }\n",
    "    for key, value in age_groups.items():\n",
    "        age_groups_in_perc[key]['male'] = percentage_calc(value['male'], value['total'])\n",
    "        age_groups_in_perc[key]['female'] = percentage_calc(value['female'], value['total'])\n",
    "        age_groups_in_perc[key]['diff'] = round(abs(age_groups_in_perc[key]['male'] - age_groups_in_perc[key]['female']), 2)\n",
    "    return age_groups_in_perc\n",
    "\n",
    "\n",
    "\n",
    "\n",
    "age_groups_in_percentages(age_groups)"
   ]
  },
  {
   "cell_type": "markdown",
   "metadata": {},
   "source": [
    "##### 1.4. Determine general gender proportion in numbers and percentages"
   ]
  },
  {
   "cell_type": "code",
   "execution_count": 712,
   "metadata": {},
   "outputs": [
    {
     "name": "stdout",
     "output_type": "stream",
     "text": [
      "50.52\n",
      "49.48\n"
     ]
    }
   ],
   "source": [
    "total_n_males = 0\n",
    "total_n_females = 0\n",
    "for value in age_groups.values():\n",
    "    total_n_males += value['male']\n",
    "for value in age_groups.values():\n",
    "    total_n_females += value['female']\n",
    "\n",
    "total_n_users = total_n_females + total_n_males\n",
    "\n",
    "print(percentage_calc(total_n_males, total_n_users))\n",
    "print(percentage_calc(total_n_females, total_n_users))"
   ]
  },
  {
   "cell_type": "markdown",
   "metadata": {},
   "source": [
    "\n",
    "##### 1.5. Show gender and age distribution on a graph\n"
   ]
  },
  {
   "cell_type": "code",
   "execution_count": 713,
   "metadata": {},
   "outputs": [
    {
     "data": {
      "image/png": "[encoded data removed]",
      "text/plain": [
       "<Figure size 1008x720 with 1 Axes>"
      ]
     },
     "metadata": {
      "needs_background": "light"
     },
     "output_type": "display_data"
    }
   ],
   "source": [
    "import matplotlib.pyplot as plt\n",
    "\n",
    "labels = age_groups.keys()\n",
    "men_ages = [value['male'] for value in age_groups.values()]\n",
    "women_ages = [value['female'] for value in age_groups.values()]\n",
    "width = 0.60       # the width of the bars: can also be len(x) sequence\n",
    "\n",
    "fig, ax = plt.subplots(figsize=(14, 10))\n",
    "\n",
    "ax.bar(labels, men_ages, width, label='Men')\n",
    "ax.bar(labels, women_ages, width, bottom=men_ages,\n",
    "       label='Women')\n",
    "\n",
    "ax.set_ylabel('Number of people')\n",
    "ax.set_title('Number of people by age group and gender')\n",
    "ax.legend()\n",
    "\n",
    "plt.show()\n"
   ]
  },
  {
   "cell_type": "markdown",
   "metadata": {},
   "source": [
    "##### 1.6. Find out the age of the youngest representatives and the oldest"
   ]
  },
  {
   "cell_type": "code",
   "execution_count": 714,
   "metadata": {},
   "outputs": [
    {
     "data": {
      "text/plain": [
       "(18, 64)"
      ]
     },
     "execution_count": 714,
     "metadata": {},
     "output_type": "execute_result"
    }
   ],
   "source": [
    "ages_list = [user['age'] for user in users_list]\n",
    "youngest = min(ages_list)\n",
    "oldest = max(ages_list)\n",
    "youngest, oldest\n"
   ]
  },
  {
   "cell_type": "markdown",
   "metadata": {},
   "source": [
    "##### 1.7. Find out the average age of the patients in the dataset"
   ]
  },
  {
   "cell_type": "code",
   "execution_count": 715,
   "metadata": {},
   "outputs": [
    {
     "data": {
      "text/plain": [
       "39"
      ]
     },
     "execution_count": 715,
     "metadata": {},
     "output_type": "execute_result"
    }
   ],
   "source": [
    "def average(lst):\n",
    "  if len(lst) == 0:\n",
    "    return 0\n",
    "  return sum(lst) / len(lst)\n",
    "  \n",
    "round(average([user['age'] for user in users_list]))"
   ]
  },
  {
   "cell_type": "markdown",
   "metadata": {},
   "source": [
    "##### 1.8. Figure out what the average age is for someone who has at least one child in this dataset"
   ]
  },
  {
   "cell_type": "code",
   "execution_count": 716,
   "metadata": {},
   "outputs": [
    {
     "data": {
      "text/plain": [
       "40"
      ]
     },
     "execution_count": 716,
     "metadata": {},
     "output_type": "execute_result"
    }
   ],
   "source": [
    "round(average([user['age'] for user in users_list if user['children'] > 0]))"
   ]
  },
  {
   "cell_type": "markdown",
   "metadata": {},
   "source": [
    "#### Conclusion: \n",
    "2 age groups from `31 to 45` and from `46 to 60` are the most represented, they contain `394` and `409` people, respectively. Among the group aged `31 to 45` — `2%` more men, in the second group genders are represented `equally`.\n",
    "\n",
    "Next is the youth from `18 to 25` with the number of people `306` and with `4%` more men among them.\n",
    "\n",
    "The fewest amount of all presented in the age groups from `61 to 75` and from `26 to 31` — `91` and `138` respectively. Among the age group from `61 to 75` — `4%` more women, among age from `26 to 31` — `2%` more men.\n",
    "\n",
    "There are no people over `75` years. \n",
    "\n",
    "The youngest representatives are `18` years old.\n",
    "\n",
    "The oldest are `64`.\n",
    "\n",
    "The average age of the patients in the dataset is `39`.\n",
    "\n",
    "The average age for someone who has at least one child is `40`.\n"
   ]
  },
  {
   "cell_type": "markdown",
   "metadata": {},
   "source": [
    "### 2. Find correlations between different parameters like Age and BMI, Smoking and Insurance Cost\n",
    "\n",
    "\n"
   ]
  },
  {
   "cell_type": "markdown",
   "metadata": {},
   "source": [
    "##### 2.1. Import `NumPy` library and calculate _Pearson product-moment correlation coefficients_ using the data from **insurance.csv** file to discover a possible correlation between parameters: age, having children, BMI, smoking, and insurance costs. \n",
    "\n",
    "**Note:** Correlation measures the **strength of association** between two variables as well as the **direction** and is represented by a number — _correlation coefficient_, which numerical value lies between `-1.0` and `+1.0`. One significant type of correlation is _Pearson's correlation coefficient_. This type of correlation is used to measure the relationship between two continuous variables. "
   ]
  },
  {
   "cell_type": "code",
   "execution_count": 717,
   "metadata": {},
   "outputs": [
    {
     "data": {
      "text/plain": [
       "array([[ 1.        ,  0.042469  ,  0.10927188, -0.02501875,  0.29900819],\n",
       "       [ 0.042469  ,  1.        ,  0.0127589 ,  0.00767312,  0.06799823],\n",
       "       [ 0.10927188,  0.0127589 ,  1.        ,  0.00375043,  0.19834097],\n",
       "       [-0.02501875,  0.00767312,  0.00375043,  1.        ,  0.78725143],\n",
       "       [ 0.29900819,  0.06799823,  0.19834097,  0.78725143,  1.        ]])"
      ]
     },
     "execution_count": 717,
     "metadata": {},
     "output_type": "execute_result"
    }
   ],
   "source": [
    "import numpy\n",
    "\n",
    "numpy.corrcoef([\n",
    "    [user['age'] for user in users_list],\n",
    "    [user['children'] for user in users_list],\n",
    "    [user['bmi'] for user in users_list],\n",
    "    [1 if user['smoker'] else 0 for user in users_list],\n",
    "    [user['charges'] for user in users_list],\n",
    "])"
   ]
  },
  {
   "cell_type": "markdown",
   "metadata": {},
   "source": [
    "##### 2.2. Create a correlation matrix\n",
    "\n",
    "Parameters for correlation|Age|Children|BMI|Smoking|Insurance Cost\n",
    "-|-|-|-|-|-\n",
    "**Age**| 1. |  | |  | \n",
    "**Children**| 0.042469 | 1. | |  | \n",
    "**BMI**| **`0.10927188`** |0.0127589|1.|  | \n",
    "**Smoking**| -0.02501875 | 0.00767312 | 0.00375043 | 1. | \n",
    "**Insurance Cost**|**`0.29900819`**| 0.06799823  | **`0.19834097`** | **`0.78725143`**|1.\n",
    "\n",
    "\n",
    "\n",
    "##### Guidelines to interpret the Pearson coefficient correlation:\n",
    "\n",
    "A **negative** value of the correlation coefficient means that when there is a change in one variable, the other changes in a proportion but in the **opposite direction**, and if the value of the correlation coefficient is **positive**, both the variables change in a proportion and the **same direction**. \n",
    "\n",
    "When the value of the correlation coefficient is **exactly 1.0**, it is said to be a **perfect positive correlation**. This situation means that when there is a change in one variable, either negative or positive, the second variable changes in lockstep, in the same direction. **In this case, it happens when the same parameters are being correlated e.g. age and age**\n",
    "\n",
    "A **perfect negative correlation (-1)** means that two assets move in **opposite directions**, while a **zero** correlation implies **no linear relationship** at all. \n",
    "\n",
    "\n",
    "Strength of association|Positive|Negative\n",
    "-|-|-\n",
    "Small|.1 to .3|-0.1 to -0.3\n",
    "Medium|.3 to .5|-0.3 to -0.5\n",
    "Large|.5 to 1.0|-0.5 to -1.0\n",
    "\n",
    "\n"
   ]
  },
  {
   "cell_type": "markdown",
   "metadata": {},
   "source": [
    "#### Conclusion: \n",
    "\n",
    "The strongest positive correlation is traced between **Smoking** and **Insurance cost**: it's equal to almost `0.8`. Meaning if a person smokes they pay significantly more for a health insurance. \n",
    "\n",
    "There is also a small positive correlation  —  equal to almost `0.3`,  between **Age** and **Insurance cost**.\n",
    "\n",
    "**BMI** and **Insurance cost**  —  almost `0.2`.\n",
    "\n",
    "As well as **BMI** and **Age**  —  `0.1`.\n",
    "\n",
    "All other correlations, according to guidelines, may be considered insignificant. "
   ]
  },
  {
   "cell_type": "markdown",
   "metadata": {},
   "source": [
    "### 3. Find out whether  the numerical values of the parameters equally distributed across the regions\n",
    "\n",
    "\n",
    "##### 3.1. Create separate datasets (dictionaries)  contain users' info from each region in them\n"
   ]
  },
  {
   "cell_type": "code",
   "execution_count": 718,
   "metadata": {},
   "outputs": [],
   "source": [
    "def separate_regions(list_of_users):\n",
    "    southwest = [user for user in list_of_users if user['region'] == 'southwest']\n",
    "    southeast = [user for user in list_of_users if user['region'] == 'southeast']\n",
    "    northwest = [user for user in list_of_users if user['region'] == 'northwest']\n",
    "    northeast = [user for user in list_of_users if user['region'] == 'northeast']\n",
    "    return {\n",
    "        'southwest': southwest, \n",
    "        'southeast': southeast, \n",
    "        'northwest': northwest, \n",
    "        'northeast': northeast,\n",
    "    }\n",
    "\n",
    "regions = separate_regions(users_list)"
   ]
  },
  {
   "cell_type": "markdown",
   "metadata": {},
   "source": [
    "##### 3.2. Count the number of people in each of the regions"
   ]
  },
  {
   "cell_type": "code",
   "execution_count": 719,
   "metadata": {},
   "outputs": [
    {
     "data": {
      "text/plain": [
       "[('southwest', 325),\n",
       " ('southeast', 364),\n",
       " ('northwest', 325),\n",
       " ('northeast', 324)]"
      ]
     },
     "execution_count": 719,
     "metadata": {},
     "output_type": "execute_result"
    }
   ],
   "source": [
    "region_counts = [(region[0], len(region[1])) for region in regions.items()]\n",
    "region_counts"
   ]
  },
  {
   "cell_type": "markdown",
   "metadata": {},
   "source": [
    "##### 3.3. Analyze where a majority of the individuals are from"
   ]
  },
  {
   "cell_type": "code",
   "execution_count": 720,
   "metadata": {},
   "outputs": [
    {
     "data": {
      "text/plain": [
       "('southeast', 364)"
      ]
     },
     "execution_count": 720,
     "metadata": {},
     "output_type": "execute_result"
    }
   ],
   "source": [
    "max(region_counts, key=lambda r: r[1])"
   ]
  },
  {
   "cell_type": "markdown",
   "metadata": {},
   "source": [
    "##### 3.4. Find out if there are regions where there are statistically more people who smoke and have 1 or more children\n",
    "3.4.1. Find those who smokes and compare with the number of non smokers\n",
    "\n"
   ]
  },
  {
   "cell_type": "code",
   "execution_count": 721,
   "metadata": {},
   "outputs": [
    {
     "name": "stdout",
     "output_type": "stream",
     "text": [
      "[('southwest', 58), ('southeast', 91), ('northwest', 58), ('northeast', 67)]\n",
      "[('southwest', 267), ('southeast', 273), ('northwest', 267), ('northeast', 257)]\n"
     ]
    }
   ],
   "source": [
    "smokers_counts = [(region[0], len([user for user in region[1] if user['smoker']])) for region in regions.items()]\n",
    "non_smokers_counts = [(region[0], len([user for user in region[1] if not user['smoker']])) for region in regions.items()]\n",
    "\n",
    "print(smokers_counts)\n",
    "print(non_smokers_counts)"
   ]
  },
  {
   "cell_type": "markdown",
   "metadata": {},
   "source": [
    "3.4.2. Output result on a graph"
   ]
  },
  {
   "cell_type": "code",
   "execution_count": 722,
   "metadata": {},
   "outputs": [
    {
     "data": {
      "image/png": "[encoded data removed]",
      "text/plain": [
       "<Figure size 1008x720 with 1 Axes>"
      ]
     },
     "metadata": {
      "needs_background": "light"
     },
     "output_type": "display_data"
    }
   ],
   "source": [
    "import matplotlib.pyplot as plt\n",
    "\n",
    "labels = regions.keys()\n",
    "smokers = [value[1] for value in smokers_counts]\n",
    "non_smokers = [value[1] for value in non_smokers_counts]\n",
    "width = 0.60       # the width of the bars: can also be len(x) sequence\n",
    "\n",
    "fig, ax = plt.subplots(figsize=(14, 10))\n",
    "\n",
    "ax.bar(labels, smokers, width, label='Smokers')\n",
    "ax.bar(labels, non_smokers, width, bottom=smokers, label='Non smokers')\n",
    "\n",
    "ax.set_ylabel('Number of people')\n",
    "ax.set_title('Number of smokers compared to non smokers by region')\n",
    "ax.legend()\n",
    "\n",
    "plt.show()\n"
   ]
  },
  {
   "cell_type": "code",
   "execution_count": 723,
   "metadata": {},
   "outputs": [
    {
     "name": "stdout",
     "output_type": "stream",
     "text": [
      "[('southwest', 325), ('southeast', 364), ('northwest', 325), ('northeast', 324)]\n",
      "[('southwest', 58), ('southeast', 91), ('northwest', 58), ('northeast', 67)]\n"
     ]
    }
   ],
   "source": [
    "print(region_counts)\n",
    "print(smokers_counts)\n",
    "smokers_counts = [(region[0], len([user for user in region[1] if user['smoker']])) for region in regions.items()]"
   ]
  },
  {
   "cell_type": "markdown",
   "metadata": {},
   "source": [
    "3.4.2. Find smokers in percentages"
   ]
  },
  {
   "cell_type": "code",
   "execution_count": 724,
   "metadata": {},
   "outputs": [
    {
     "data": {
      "text/plain": [
       "[('southwest', 17.85),\n",
       " ('southeast', 25.0),\n",
       " ('northwest', 17.85),\n",
       " ('northeast', 20.68)]"
      ]
     },
     "execution_count": 724,
     "metadata": {},
     "output_type": "execute_result"
    }
   ],
   "source": [
    "smokers_in_pers = [(smokers_counts[value][0], percentage_calc(smokers_counts[value][1], region_counts[value][1])) for value in range(4)]\n",
    "smokers_in_pers\n"
   ]
  },
  {
   "cell_type": "markdown",
   "metadata": {},
   "source": [
    "3.4.3. Find those who have 1 or more children"
   ]
  },
  {
   "cell_type": "code",
   "execution_count": 733,
   "metadata": {},
   "outputs": [
    {
     "data": {
      "text/plain": [
       "{1: [('southwest', 78),\n",
       "  ('southeast', 95),\n",
       "  ('northwest', 74),\n",
       "  ('northeast', 77)],\n",
       " 2: [('southwest', 57),\n",
       "  ('southeast', 66),\n",
       "  ('northwest', 66),\n",
       "  ('northeast', 51)],\n",
       " 3: [('southwest', 37),\n",
       "  ('southeast', 35),\n",
       "  ('northwest', 46),\n",
       "  ('northeast', 39)],\n",
       " 4: [('southwest', 7), ('southeast', 5), ('northwest', 6), ('northeast', 7)],\n",
       " 5: [('southwest', 8), ('southeast', 6), ('northwest', 1), ('northeast', 3)],\n",
       " 6: [('southwest', 0), ('southeast', 0), ('northwest', 0), ('northeast', 0)]}"
      ]
     },
     "execution_count": 733,
     "metadata": {},
     "output_type": "execute_result"
    }
   ],
   "source": [
    "def children_counter():\n",
    "    children_n_by_region = {}\n",
    "    for value in range(1,7):\n",
    "        children_n_by_region[value] = [(region[0], len([user for user in region[1] if user['children'] == value])) for region in regions.items()]\n",
    "    return children_n_by_region\n",
    "\n",
    "children_counter()"
   ]
  },
  {
   "cell_type": "markdown",
   "metadata": {},
   "source": [
    "3.4.4. Find the average number of children by region"
   ]
  },
  {
   "cell_type": "code",
   "execution_count": 726,
   "metadata": {},
   "outputs": [
    {
     "data": {
      "text/plain": [
       "[('southwest', 2), ('southeast', 2), ('northwest', 2), ('northeast', 2)]"
      ]
     },
     "execution_count": 726,
     "metadata": {},
     "output_type": "execute_result"
    }
   ],
   "source": [
    "[(region[0], round(average([user['children'] for user in region[1] if user['children'] > 0]))) for region in regions.items()]"
   ]
  },
  {
   "cell_type": "markdown",
   "metadata": {},
   "source": [
    "3.4.5. Find people with bmi above (24.9) and below (18.5) normal"
   ]
  },
  {
   "cell_type": "code",
   "execution_count": 727,
   "metadata": {},
   "outputs": [
    {
     "data": {
      "text/plain": [
       "{'southwest': {'above_norm': 274,\n",
       "  'in_percentages_above': 84.31,\n",
       "  'below_norm': 3,\n",
       "  'in_percentages_below': 0.92},\n",
       " 'southeast': {'above_norm': 324,\n",
       "  'in_percentages_above': 89.01,\n",
       "  'below_norm': 0,\n",
       "  'in_percentages_below': 0.0},\n",
       " 'northwest': {'above_norm': 256,\n",
       "  'in_percentages_above': 78.77,\n",
       "  'below_norm': 7,\n",
       "  'in_percentages_below': 2.15},\n",
       " 'northeast': {'above_norm': 242,\n",
       "  'in_percentages_above': 74.69,\n",
       "  'below_norm': 10,\n",
       "  'in_percentages_below': 3.09}}"
      ]
     },
     "execution_count": 727,
     "metadata": {},
     "output_type": "execute_result"
    }
   ],
   "source": [
    "def deviations_in_bmi(list_of_regions, people_n_by_region):\n",
    "    bmi_deviations = {\n",
    "            'southwest': {\n",
    "                'above_norm': 0,\n",
    "                'in_percentages_above': 0,\n",
    "                'below_norm': 0,\n",
    "                'in_percentages_below': 0\n",
    "            }, \n",
    "            'southeast': {\n",
    "                'above_norm': 0,\n",
    "                'in_percentages_above': 0,\n",
    "                'below_norm': 0,\n",
    "                'in_percentages_below': 0\n",
    "            }, \n",
    "            'northwest': {\n",
    "                'above_norm': 0,\n",
    "                'in_percentages_above': 0,\n",
    "                'below_norm': 0,\n",
    "                'in_percentages_below': 0\n",
    "            }, \n",
    "            'northeast': {\n",
    "                'above_norm': 0,\n",
    "                'in_percentages_above': 0,\n",
    "                'below_norm': 0,\n",
    "                'in_percentages_below': 0\n",
    "            }\n",
    "        }\n",
    "\n",
    "    for region in regions.items():\n",
    "        for user in region[1]:\n",
    "            if user['bmi'] > 24.9:\n",
    "                bmi_deviations[region[0]]['above_norm'] += 1\n",
    "            elif user['bmi'] < 18.5:\n",
    "                bmi_deviations[region[0]]['below_norm'] += 1\n",
    "        bmi_deviations[region[0]]['in_percentages_above'] = percentage_calc(bmi_deviations[region[0]]['above_norm'], len(region[1]))\n",
    "        bmi_deviations[region[0]]['in_percentages_below'] = percentage_calc(bmi_deviations[region[0]]['below_norm'], len(region[1]))    \n",
    "        \n",
    "    return bmi_deviations\n",
    "    \n",
    "\n",
    "deviations_in_bmi(regions, region_counts)\n"
   ]
  },
  {
   "cell_type": "markdown",
   "metadata": {},
   "source": [
    "#### Conclusion:\n",
    "Most users are from the southeast region, there are `364` of them, which is `~40` more than in others.\n",
    "There are also significantly more smokers in this region — `91 or 25%` of all people in the dataset, whereas in other regions only `17-20%`. \n",
    "\n",
    "The average number of children by region is `~2`, with a difference in thousandths of a percent, even for a region where there are more people. \n",
    "\n",
    "The BMI is above normal in all regions. Most people over the age of 18 are affected by this factor:  \n",
    "  - `84.31%` in the southwest;\n",
    "  - `89.01%` in the southeast;\n",
    "  - `78.77%` in the northwest:\n",
    "  - `74.69%` in the northeast.\n",
    "\n",
    "The southeast is an absolute leader among regions, although one can notice that despite the issue being extremely serious through all parts of America, in the south it's even more imperative than in the north. On the contrary, a number of cases with the BMI less than normal are absent in the southeast, only `3%` in the southwest, but goes up to `7%`, and `10%` in the northwest and northeast respectively. "
   ]
  },
  {
   "cell_type": "markdown",
   "metadata": {},
   "source": [
    "### 4. Compare insurance costs\n",
    "\n",
    "4.1. Find out average cost through the whole country\n"
   ]
  },
  {
   "cell_type": "code",
   "execution_count": 728,
   "metadata": {},
   "outputs": [
    {
     "data": {
      "text/plain": [
       "13270"
      ]
     },
     "execution_count": 728,
     "metadata": {},
     "output_type": "execute_result"
    }
   ],
   "source": [
    "round(average([user['charges'] for user in users_list]))\n"
   ]
  },
  {
   "cell_type": "markdown",
   "metadata": {},
   "source": [
    "4.2. Compare average costs through regions"
   ]
  },
  {
   "cell_type": "code",
   "execution_count": 729,
   "metadata": {},
   "outputs": [
    {
     "data": {
      "text/plain": [
       "{'southwest': 12347,\n",
       " 'southeast': 14735,\n",
       " 'northwest': 12418,\n",
       " 'northeast': 13406}"
      ]
     },
     "execution_count": 729,
     "metadata": {},
     "output_type": "execute_result"
    }
   ],
   "source": [
    "cost_by_regions = {region: round(average([user['charges'] for user in users])) for region, users in regions.items()}\n",
    "cost_by_regions"
   ]
  },
  {
   "cell_type": "markdown",
   "metadata": {},
   "source": [
    "4.3. Find out the minimum and maximum insurance costs"
   ]
  },
  {
   "cell_type": "code",
   "execution_count": 730,
   "metadata": {},
   "outputs": [
    {
     "name": "stdout",
     "output_type": "stream",
     "text": [
      "('min', 1122)\n",
      "('max', 63770)\n"
     ]
    }
   ],
   "source": [
    "print(('min', round(min([user['charges'] for user in users_list]))))\n",
    "print(('max', round(max([user['charges'] for user in users_list]))))"
   ]
  },
  {
   "cell_type": "markdown",
   "metadata": {},
   "source": [
    "4.4. Find out avarage cost for smokers"
   ]
  },
  {
   "cell_type": "code",
   "execution_count": 731,
   "metadata": {},
   "outputs": [
    {
     "data": {
      "text/plain": [
       "32050"
      ]
     },
     "execution_count": 731,
     "metadata": {},
     "output_type": "execute_result"
    }
   ],
   "source": [
    "cost_for_smokers = round(average([user['charges'] for user in users_list if user['smoker']]))\n",
    "cost_for_smokers"
   ]
  },
  {
   "cell_type": "markdown",
   "metadata": {},
   "source": [
    "4.5. Find out average insurance costs for people with children"
   ]
  },
  {
   "cell_type": "code",
   "execution_count": 732,
   "metadata": {},
   "outputs": [
    {
     "data": {
      "text/plain": [
       "{0: 12366, 1: 12731, 2: 15074, 3: 15355, 4: 13851, 5: 8786}"
      ]
     },
     "execution_count": 732,
     "metadata": {},
     "output_type": "execute_result"
    }
   ],
   "source": [
    "{\n",
    "    children: round(average([user['charges'] for user in users_list if user['children'] == children])) for children in range(6)\n",
    "}"
   ]
  },
  {
   "cell_type": "markdown",
   "metadata": {},
   "source": [
    "#### Conclusion:\n",
    "The average insurance cost in America is `13 270`.\n",
    "\n",
    "The minimum cost is `1121`.\n",
    "The maximum — `63 770`.\n",
    "\n",
    "Average costs though regions differ, but not significantly. The southeast has the most costly average health insurance of `14 735`. Others have `~12-13K`.\n",
    "\n",
    "The avarage cost for smokers is `32 050`\n",
    "\n",
    "The average cost for people with children are differ, but judging by results from item 2, there is no correlation between number of children and cost of insurance, so there should be some other factors at play, like age or bmi on a lesser amount of users. The depending on the number of children are the following: \n",
    "- `12 366` if no children;\n",
    "- `12 731` if only 1 child;\n",
    "- `15 074` if 2 children;\n",
    "- `15 355` if 3 children;\n",
    "- `13 851` if 4 children;\n",
    "- `8 786` if 5 children.\n",
    "\n"
   ]
  }
 ],
 "metadata": {
  "interpreter": {
   "hash": "160a818681411a8002335ee858b919729529a414da382d51992e56b23a3c20b1"
  },
  "kernelspec": {
   "display_name": "Python 3.8.8 64-bit ('base': conda)",
   "language": "python",
   "name": "python3"
  },
  "language_info": {
   "codemirror_mode": {
    "name": "ipython",
    "version": 3
   },
   "file_extension": ".py",
   "mimetype": "text/x-python",
   "name": "python",
   "nbconvert_exporter": "python",
   "pygments_lexer": "ipython3",
   "version": "3.8.8"
  },
  "orig_nbformat": 4
 },
 "nbformat": 4,
 "nbformat_minor": 2
}
