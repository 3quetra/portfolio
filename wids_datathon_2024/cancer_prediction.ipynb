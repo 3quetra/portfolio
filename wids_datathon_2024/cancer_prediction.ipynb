{
 "cells": [
  {
   "cell_type": "markdown",
   "metadata": {},
   "source": [
    "## Data Dictionary\n",
    "\n",
    "### Covariates\n",
    "For this datathon challenge, we are using a real-world evidence dataset from Health Verity (HV), one of the largest healthcare data ecosystems in the US, as the main data source for the Datathon. In particular, the HV dataset that we use for this challenge contains health related information of patients who were diagnosed with metastatic triple negative breast cancers in the US. We also enriched the data set with the US Zip Codes Database which were built from the ground up using authoritative sources including the U.S. Postal Service™, U.S. Census Bureau, National Weather Service, American Community Survey, and the IRS, to obtain additional social economic information based on the locations of the patients. The dataset was then further enriched, also using zip code level, with toxicology data from NASA/Columbia University, to explore the relations between health outcomes and toxic air conditions.\n",
    "\n",
    "### Target\n",
    "\n",
    "- `DiagPeriodL90D`: Diagnosis Period Less Than 90 Days. This is an indication of whether the cancer was diagnosed within 90 Days.\n",
    "\n",
    "---------------------------------\n",
    "\n",
    "### Patient Related info\n",
    "\n",
    "#### Identifier:\n",
    "- `patient_id` - Unique identification number of patient\n",
    "\n",
    "#### Physical parameters of a patient: \n",
    "- `patient_race` - Asian, African American, Hispanic or Latino, White, Other Race\n",
    "- `patient_age` - Derived from Patient Year of Birth (index year minus year of birth)\n",
    "- `patient_gender` - F, M on the metastatic date\n",
    "- `bmi` - If Available, will show available BMI information (Earliest BMI recording post metastatic date)\n",
    "\n",
    "#### Diagnosis related info:\n",
    "- `breast_cancer_diagnosis_code` - ICD10 or ICD9 diagnoses code\n",
    "- `breast_cancer_diagnosis_desc` - ICD10 or ICD9 code description. This column is raw text and may require NLP/ processing and cleaning\n",
    "- `metastatic_cancer_diagnosis_code` - ICD10 diagnoses code\n",
    "\n",
    "#### Treatment related info:\n",
    "- `metastatic_first_novel_treatment` - Generic drug name of the first novel treatment (e.g. \"Cisplatin\") after metastatic diagnosis\n",
    "- `metastatic_first_novel_treatment_type` - Description of Treatment (e.g. Antineoplastic) of first novel treatment after metastatic diagnosis\n",
    "\n",
    "#### Payment type: \n",
    "- `payer_type` - payer type at Medicaid, Commercial, Medicare on the metastatic date\n",
    "\n",
    "---------------------------------\n",
    "\n",
    "### Geolocation related info\n",
    "\n",
    "#### Geographical location of a patient:\n",
    "- `patient_state` - Patient State (e.g. AL, AK, AZ, AR, CA, CO etc…) on the metastatic date\n",
    "- `patient_zip3` - Patient Zip3 (e.g. 190) on the metastatic date\n",
    "- `region` - Region of patient location\n",
    "- `division` - Division of patient location\n",
    "\n",
    "#### Air Quality in patient's Geolocation:\n",
    "- `ozone` - Annual Ozone (O3) concentration data at Zip3 level. This data shows how air quality data may impact health.\n",
    "- `PM25` - Annual Fine Particulate Matter (PM2.5) concentration data at Zip3 level. This data shows how air quality data may impact health.\n",
    "- `N02` - Annual Nitrogen Dioxide (NO2) concentration data at Zip3 level. This data shows how air quality data may impact health.\n",
    "\n",
    "---------------------------------\n",
    "\n",
    "### Population related info in patient's geolocation\n",
    "\n",
    "##### General:\n",
    "- `population` - An estimate of the zip code's population.\n",
    "- `density` - The estimated population per square kilometer.\n",
    "- `poverty` - The median value of owner occupied homes.\n",
    "- `commute_time` - The median commute time of resident workers in minutes.\n",
    "\n",
    "##### Age: \n",
    "- `age_median` - The median age of residents in the zip code.\n",
    "- `age_under_10` - The percentage of residents aged 0-9.\n",
    "- `age_10_to_19` - The percentage of residents aged 10-19.\n",
    "- `age_20s` - The percentage of residents aged 20-29.\n",
    "- `age_30s` - The percentage of residents aged 30-39.\n",
    "- `age_40s` - The percentage of residents aged 40-49.\n",
    "- `age_50s` - The percentage of residents aged 50-59.\n",
    "- `age_60s` - The percentage of residents aged 60-69.\n",
    "- `age_70s` - The percentage of residents aged 70-79.\n",
    "- `age_over_80` - The percentage of residents aged over 80.\n",
    "\n",
    "##### Gender: \n",
    "- `male` - The percentage of residents who report being male (e.g. 55.1).\n",
    "- `female` - The percentage of residents who report being female (e.g. 44.9).\n",
    "\n",
    "##### Race or ethnicity:\n",
    "- `race_multiple` - The percentage of residents who report their race as Two or more races.\n",
    "- `race_white` - The percentage of residents who report their race White.\n",
    "- `race_black` - The percentage of residents who report their race as Black or African American.\n",
    "- `race_asian` - The percentage of residents who report their race as Asian.\n",
    "- `race_native` - The percentage of residents who report their race as American Indian and Alaska Native.\n",
    "- `race_pacific` - The percentage of residents who report their race as Native Hawaiian and Other Pacific Islander.\n",
    "- `race_other` - The percentage of residents who report their race as Some other race.\n",
    "- `hispanic` - The percentage of residents who report being Hispanic. Note: Hispanic is considered to be an ethnicity and not a race.\n",
    "\n",
    "##### Health determining situation:\n",
    "- `health_uninsured` - The percentage of residents who report not having health insurance.\n",
    "- `disabled` - The percentage of residents who report a disability.\n",
    "- `veteran` - The percentage of residents who are veterans.\n",
    "\n",
    "##### Social status:\n",
    "- `married` - The percentage of residents who report being married (e.g. 44.9).\n",
    "- `divorced` - The percentage of residents divorced.\n",
    "- `never_married` - The percentage of residents never married.\n",
    "- `widowed` - The percentage of residents never widowed.\n",
    "\n",
    "##### Family: \n",
    "- `family_size` - The average size of resident families (e.g. 3.22).\n",
    "\n",
    "##### Home ownership: \n",
    "- `home_ownership` - Percentage of households that own (rather than rent) their residence.\n",
    "- `housing_units` - The number of housing units (or households) in the zip code.\n",
    "- `home_value` - The median value of homes that are owned by residents.\n",
    "\n",
    "##### Rent:\n",
    "- `rent_median` - The median rent paid by renters.\n",
    "- `rent_burden` - The median rent as a percentage of the median renter's household income.\n",
    "    \n",
    "##### Educaton:\n",
    "- `education_college_or_above` - The percentage of residents with at least a 4-year degree.\n",
    "- `education_less_highschool` - The percentage of residents with less than a high school education.\n",
    "- `education_highschool` - The percentage of residents with a high school diploma but no more.\n",
    "- `education_some_college` - The percentage of residents with some college but no more.\n",
    "- `education_bachelors` - The percentage of residents with a bachelor's degree (or equivalent) but no more.\n",
    "- `education_graduate` - The percentage of residents with a graduate degree.\n",
    "- `education_stem_degree` - The percentage of college graduates with a Bachelor's degree or higher in a Science and Engineering (or related) field.\n",
    "- `limited_english` - The percentage of residents who only speak limited English.\n",
    "\n",
    "##### Employment:\n",
    "- `labor_force_participation` - The percentage of residents 16 and older in the labor force.\n",
    "- `unemployment_rate` - The percentage of residents unemployed.\n",
    "- `self_employed` - The percentage of households reporting self-employment income on their 2016 IRS tax return.\n",
    "   \n",
    "  \n",
    "##### Houshold income:\n",
    "- `income_household_median` - Median household income in USD.\n",
    "- `income_household_six_figure` - Percentage of households that earn at least $100,000 (e.g. 25.3)\n",
    "- `family_dual_income` - The percentage of families with dual income earners.\n",
    "- `income_household_under_5` - The percentage of households with income under $5,000.\n",
    "- `income_household_5_to_10` - The percentage of households with income from $5,000-$10,000.\n",
    "- `income_household_10_to_15` - The percentage of households with income from $10,000-$15,000.\n",
    "- `income_household_15_to_20` - The percentage of households with income from $15,000-$20,000.\n",
    "- `income_household_20_to_25` - The percentage of households with income from $20,000-$25,000.\n",
    "- `income_household_25_to_35` - The percentage of households with income from $25,000-$35,000.\n",
    "- `income_household_35_to_50` - The percentage of households with income from $35,000-$50,000.\n",
    "- `income_household_50_to_75` - The percentage of households with income from $50,000-$75,000.\n",
    "- `income_household_75_to_100` - The percentage of households with income from $75,000-$100,000.\n",
    "- `income_household_100_to_150` - The percentage of households with income from $100,000-$150,000.\n",
    "- `income_household_150_over` - The percentage of households with income over $150,000.\n",
    "- `income_individual_median` - The median income of individuals in the zip code.\n",
    "- `farmer` - The percentage of households reporting farm income on their 2016 IRS tax return.\n",
    "    "
   ]
  },
  {
   "cell_type": "code",
   "execution_count": null,
   "metadata": {},
   "outputs": [
    {
     "ename": "",
     "evalue": "",
     "output_type": "error",
     "traceback": [
      "\u001b[1;31mFailed to start the Kernel. \n",
      "\u001b[1;31mUnable to start Kernel 'Python 3.10.8' due to a timeout waiting for the ports to get used. \n",
      "\u001b[1;31mView Jupyter <a href='command:jupyter.viewOutput'>log</a> for further details."
     ]
    }
   ],
   "source": [
    "import pandas as pd\n",
    "import numpy as np"
   ]
  },
  {
   "cell_type": "code",
   "execution_count": null,
   "metadata": {},
   "outputs": [
    {
     "ename": "",
     "evalue": "",
     "output_type": "error",
     "traceback": [
      "\u001b[1;31mFailed to start the Kernel. \n",
      "\u001b[1;31mUnable to start Kernel 'Python 3.10.8' due to a timeout waiting for the ports to get used. \n",
      "\u001b[1;31mView Jupyter <a href='command:jupyter.viewOutput'>log</a> for further details."
     ]
    }
   ],
   "source": [
    "pd.set_option('display.max_columns', None)"
   ]
  },
  {
   "cell_type": "code",
   "execution_count": null,
   "metadata": {},
   "outputs": [
    {
     "ename": "",
     "evalue": "",
     "output_type": "error",
     "traceback": [
      "\u001b[1;31mFailed to start the Kernel. \n",
      "\u001b[1;31mUnable to start Kernel 'Python 3.10.8' due to a timeout waiting for the ports to get used. \n",
      "\u001b[1;31mView Jupyter <a href='command:jupyter.viewOutput'>log</a> for further details."
     ]
    }
   ],
   "source": [
    "train = pd.read_csv('training.csv')\n",
    "train"
   ]
  },
  {
   "cell_type": "code",
   "execution_count": null,
   "metadata": {},
   "outputs": [
    {
     "ename": "",
     "evalue": "",
     "output_type": "error",
     "traceback": [
      "\u001b[1;31mFailed to start the Kernel. \n",
      "\u001b[1;31mUnable to start Kernel 'Python 3.10.8' due to a timeout waiting for the ports to get used. \n",
      "\u001b[1;31mView Jupyter <a href='command:jupyter.viewOutput'>log</a> for further details."
     ]
    }
   ],
   "source": [
    "test = pd.read_csv('test.csv')\n",
    "test"
   ]
  },
  {
   "cell_type": "code",
   "execution_count": null,
   "metadata": {},
   "outputs": [
    {
     "ename": "",
     "evalue": "",
     "output_type": "error",
     "traceback": [
      "\u001b[1;31mFailed to start the Kernel. \n",
      "\u001b[1;31mUnable to start Kernel 'Python 3.10.8' due to a timeout waiting for the ports to get used. \n",
      "\u001b[1;31mView Jupyter <a href='command:jupyter.viewOutput'>log</a> for further details."
     ]
    }
   ],
   "source": [
    "test.isna().sum().sort_values(ascending=False)[:15]"
   ]
  },
  {
   "cell_type": "code",
   "execution_count": null,
   "metadata": {},
   "outputs": [
    {
     "ename": "",
     "evalue": "",
     "output_type": "error",
     "traceback": [
      "\u001b[1;31mFailed to start the Kernel. \n",
      "\u001b[1;31mUnable to start Kernel 'Python 3.10.8' due to a timeout waiting for the ports to get used. \n",
      "\u001b[1;31mView Jupyter <a href='command:jupyter.viewOutput'>log</a> for further details."
     ]
    }
   ],
   "source": [
    "train.isna().sum().sort_values(ascending=False)[:15]"
   ]
  },
  {
   "cell_type": "code",
   "execution_count": null,
   "metadata": {},
   "outputs": [
    {
     "ename": "",
     "evalue": "",
     "output_type": "error",
     "traceback": [
      "\u001b[1;31mFailed to start the Kernel. \n",
      "\u001b[1;31mUnable to start Kernel 'Python 3.10.8' due to a timeout waiting for the ports to get used. \n",
      "\u001b[1;31mView Jupyter <a href='command:jupyter.viewOutput'>log</a> for further details."
     ]
    }
   ],
   "source": [
    "train.drop([\n",
    "    'metastatic_first_novel_treatment', \n",
    "    'metastatic_first_novel_treatment_type', \n",
    "    'breast_cancer_diagnosis_desc', \n",
    "    'bmi'], \n",
    "    axis=1, \n",
    "    inplace=True\n",
    "    )\n",
    "\n",
    "test.drop([\n",
    "    'metastatic_first_novel_treatment', \n",
    "    'metastatic_first_novel_treatment_type', \n",
    "    'breast_cancer_diagnosis_desc', \n",
    "    'bmi'], \n",
    "    axis=1, \n",
    "    inplace=True\n",
    "    )"
   ]
  },
  {
   "cell_type": "code",
   "execution_count": null,
   "metadata": {},
   "outputs": [
    {
     "ename": "",
     "evalue": "",
     "output_type": "error",
     "traceback": [
      "\u001b[1;31mFailed to start the Kernel. \n",
      "\u001b[1;31mUnable to start Kernel 'Python 3.10.8' due to a timeout waiting for the ports to get used. \n",
      "\u001b[1;31mView Jupyter <a href='command:jupyter.viewOutput'>log</a> for further details."
     ]
    }
   ],
   "source": [
    "for column in train.select_dtypes(include='object').columns: \n",
    "    train[column] = train[column].astype('category')\n",
    "\n",
    "train.select_dtypes(include='category')"
   ]
  },
  {
   "cell_type": "code",
   "execution_count": null,
   "metadata": {},
   "outputs": [
    {
     "ename": "",
     "evalue": "",
     "output_type": "error",
     "traceback": [
      "\u001b[1;31mFailed to start the Kernel. \n",
      "\u001b[1;31mUnable to start Kernel 'Python 3.10.8' due to a timeout waiting for the ports to get used. \n",
      "\u001b[1;31mView Jupyter <a href='command:jupyter.viewOutput'>log</a> for further details."
     ]
    }
   ],
   "source": [
    "race_by_state = pd.DataFrame(train.groupby(['patient_state', 'patient_race'])['patient_id'].count()).reset_index()\n",
    "race_by_state['total'] = race_by_state.apply(lambda row: sum(race_by_state[race_by_state['patient_state'] == row['patient_state']]['patient_id']), axis=1)\n",
    "race_by_state['percentage'] = race_by_state['patient_id'] / race_by_state['total']\n",
    "race_by_state.sort_values(by=['total', 'patient_id'], ascending=False)[:20]"
   ]
  },
  {
   "cell_type": "markdown",
   "metadata": {},
   "source": [
    "### Fill NaN in State, Region and Division"
   ]
  },
  {
   "cell_type": "code",
   "execution_count": null,
   "metadata": {},
   "outputs": [
    {
     "ename": "",
     "evalue": "",
     "output_type": "error",
     "traceback": [
      "\u001b[1;31mFailed to start the Kernel. \n",
      "\u001b[1;31mUnable to start Kernel 'Python 3.10.8' due to a timeout waiting for the ports to get used. \n",
      "\u001b[1;31mView Jupyter <a href='command:jupyter.viewOutput'>log</a> for further details."
     ]
    }
   ],
   "source": [
    "zip_suffixes = pd.read_html(\"https://en.wikipedia.org/wiki/List_of_ZIP_Code_prefixes#Notes\")\n",
    "\n",
    "zip_state_dict = {}\n",
    "# Iterate through the DataFrame\n",
    "for i in range(len(zip_suffixes)):\n",
    "    for column in zip_suffixes[i].columns:\n",
    "        for j in range(len(zip_suffixes[i].columns)):\n",
    "            try:\n",
    "                key = int(zip_suffixes[i][column][j][:3])\n",
    "                if len(str(key)) == 3:  # Check if the length of key is equal to 3\n",
    "                    value = zip_suffixes[i][column][j][4:6]  # Assuming the state code is always after the space\n",
    "                    zip_state_dict[key] = value\n",
    "            except ValueError:\n",
    "                pass\n",
    "\n",
    "\n",
    "test.patient_state = [(lambda zip3: zip_state_dict.get(zip3, None))(zip3) for zip3 in test.patient_zip3]\n",
    "train.patient_state = [(lambda zip3: zip_state_dict.get(zip3, None))(zip3) for zip3 in train.patient_zip3]"
   ]
  },
  {
   "cell_type": "code",
   "execution_count": null,
   "metadata": {},
   "outputs": [
    {
     "ename": "",
     "evalue": "",
     "output_type": "error",
     "traceback": [
      "\u001b[1;31mFailed to start the Kernel. \n",
      "\u001b[1;31mUnable to start Kernel 'Python 3.10.8' due to a timeout waiting for the ports to get used. \n",
      "\u001b[1;31mView Jupyter <a href='command:jupyter.viewOutput'>log</a> for further details."
     ]
    }
   ],
   "source": [
    "states = pd.read_csv('states.csv')\n",
    "states.head()"
   ]
  },
  {
   "cell_type": "code",
   "execution_count": null,
   "metadata": {},
   "outputs": [
    {
     "ename": "",
     "evalue": "",
     "output_type": "error",
     "traceback": [
      "\u001b[1;31mFailed to start the Kernel. \n",
      "\u001b[1;31mUnable to start Kernel 'Python 3.10.8' due to a timeout waiting for the ports to get used. \n",
      "\u001b[1;31mView Jupyter <a href='command:jupyter.viewOutput'>log</a> for further details."
     ]
    }
   ],
   "source": [
    "reg = states.set_index('State Code')['Region'].to_dict()\n",
    "div = states.set_index('State Code')['Division'].to_dict()\n",
    "\n",
    "train['Region'] = [(lambda state: reg.get(state, None))(state) for state in train.patient_state]\n",
    "train['Division'] = [(lambda state: reg.get(state, None))(state) for state in train.patient_state]\n",
    "\n",
    "test['Region'] = [(lambda state: reg.get(state, None))(state) for state in test.patient_state]\n",
    "test['Division'] = [(lambda state: reg.get(state, None))(state) for state in test.patient_state]\n"
   ]
  },
  {
   "cell_type": "markdown",
   "metadata": {},
   "source": [
    "Drop the rows with too many absent values. "
   ]
  },
  {
   "cell_type": "code",
   "execution_count": null,
   "metadata": {},
   "outputs": [
    {
     "ename": "",
     "evalue": "",
     "output_type": "error",
     "traceback": [
      "\u001b[1;31mFailed to start the Kernel. \n",
      "\u001b[1;31mUnable to start Kernel 'Python 3.10.8' due to a timeout waiting for the ports to get used. \n",
      "\u001b[1;31mView Jupyter <a href='command:jupyter.viewOutput'>log</a> for further details."
     ]
    }
   ],
   "source": [
    "train.drop(10542, inplace=True)\n",
    "train.drop(list(train[train.family_size.isna()].index), inplace=True)\n",
    "\n",
    "test.drop(1622, inplace=True)"
   ]
  },
  {
   "cell_type": "markdown",
   "metadata": {},
   "source": [
    "### Fill NaN in Race"
   ]
  },
  {
   "cell_type": "code",
   "execution_count": null,
   "metadata": {},
   "outputs": [
    {
     "ename": "",
     "evalue": "",
     "output_type": "error",
     "traceback": [
      "\u001b[1;31mFailed to start the Kernel. \n",
      "\u001b[1;31mUnable to start Kernel 'Python 3.10.8' due to a timeout waiting for the ports to get used. \n",
      "\u001b[1;31mView Jupyter <a href='command:jupyter.viewOutput'>log</a> for further details."
     ]
    }
   ],
   "source": [
    "from catboost import CatBoostClassifier\n",
    "from sklearn.model_selection import train_test_split, RandomizedSearchCV\n",
    "from sklearn.preprocessing import MinMaxScaler\n",
    "from imblearn.under_sampling import RandomUnderSampler\n",
    "from imblearn.over_sampling import RandomOverSampler\n",
    "\n",
    "# Assuming 'train' is your DataFrame\n",
    "# Extract the features and target columns\n",
    "features = train.drop(['patient_race', 'payer_type'], axis=1)\n",
    "target_race = train['patient_race']\n",
    "# target_payer = train['payer_type']\n",
    "cat_features = ['patient_state', 'patient_gender', 'Region', 'Division', 'breast_cancer_diagnosis_code', 'metastatic_cancer_diagnosis_code']\n",
    "\n",
    "# Identify the indices where 'patient_race' is NaN\n",
    "missing_race_indices = target_race[target_race.isna()].index\n",
    "\n",
    "# Drop rows with missing values from features\n",
    "features.drop(missing_race_indices, inplace=True)\n",
    "\n",
    "# Drop corresponding rows from the target_race\n",
    "target_race.drop(missing_race_indices, inplace=True)\n"
   ]
  },
  {
   "cell_type": "code",
   "execution_count": null,
   "metadata": {},
   "outputs": [
    {
     "ename": "",
     "evalue": "",
     "output_type": "error",
     "traceback": [
      "\u001b[1;31mFailed to start the Kernel. \n",
      "\u001b[1;31mUnable to start Kernel 'Python 3.10.8' due to a timeout waiting for the ports to get used. \n",
      "\u001b[1;31mView Jupyter <a href='command:jupyter.viewOutput'>log</a> for further details."
     ]
    }
   ],
   "source": [
    "len(features)"
   ]
  },
  {
   "cell_type": "code",
   "execution_count": null,
   "metadata": {},
   "outputs": [
    {
     "ename": "",
     "evalue": "",
     "output_type": "error",
     "traceback": [
      "\u001b[1;31mFailed to start the Kernel. \n",
      "\u001b[1;31mUnable to start Kernel 'Python 3.10.8' due to a timeout waiting for the ports to get used. \n",
      "\u001b[1;31mView Jupyter <a href='command:jupyter.viewOutput'>log</a> for further details."
     ]
    }
   ],
   "source": [
    "len(target_race)"
   ]
  },
  {
   "cell_type": "code",
   "execution_count": null,
   "metadata": {},
   "outputs": [
    {
     "ename": "",
     "evalue": "",
     "output_type": "error",
     "traceback": [
      "\u001b[1;31mFailed to start the Kernel. \n",
      "\u001b[1;31mUnable to start Kernel 'Python 3.10.8' due to a timeout waiting for the ports to get used. \n",
      "\u001b[1;31mView Jupyter <a href='command:jupyter.viewOutput'>log</a> for further details."
     ]
    }
   ],
   "source": [
    "target_race = target_race.astype('category').cat.codes\n",
    "target_race.unique()"
   ]
  },
  {
   "cell_type": "code",
   "execution_count": null,
   "metadata": {},
   "outputs": [
    {
     "ename": "",
     "evalue": "",
     "output_type": "error",
     "traceback": [
      "\u001b[1;31mFailed to start the Kernel. \n",
      "\u001b[1;31mUnable to start Kernel 'Python 3.10.8' due to a timeout waiting for the ports to get used. \n",
      "\u001b[1;31mView Jupyter <a href='command:jupyter.viewOutput'>log</a> for further details."
     ]
    }
   ],
   "source": [
    "# Split the data into training and testing sets\n",
    "X_train_race, X_test_race, y_train_race, y_test_race = train_test_split(features, target_race, test_size=0.2, random_state=42)\n"
   ]
  },
  {
   "cell_type": "code",
   "execution_count": null,
   "metadata": {},
   "outputs": [
    {
     "ename": "",
     "evalue": "",
     "output_type": "error",
     "traceback": [
      "\u001b[1;31mFailed to start the Kernel. \n",
      "\u001b[1;31mUnable to start Kernel 'Python 3.10.8' due to a timeout waiting for the ports to get used. \n",
      "\u001b[1;31mView Jupyter <a href='command:jupyter.viewOutput'>log</a> for further details."
     ]
    }
   ],
   "source": [
    "# Initialize the RandomUnderSampler\n",
    "under_sampler = RandomUnderSampler(sampling_strategy='majority', random_state=42)\n",
    "\n",
    "# Fit and transform the training data\n",
    "X_train_resampled, y_train_resampled = under_sampler.fit_resample(X_train_race, y_train_race)"
   ]
  },
  {
   "cell_type": "code",
   "execution_count": null,
   "metadata": {},
   "outputs": [
    {
     "ename": "",
     "evalue": "",
     "output_type": "error",
     "traceback": [
      "\u001b[1;31mFailed to start the Kernel. \n",
      "\u001b[1;31mUnable to start Kernel 'Python 3.10.8' due to a timeout waiting for the ports to get used. \n",
      "\u001b[1;31mView Jupyter <a href='command:jupyter.viewOutput'>log</a> for further details."
     ]
    }
   ],
   "source": [
    "np.bincount(y_train_resampled)"
   ]
  },
  {
   "cell_type": "code",
   "execution_count": null,
   "metadata": {},
   "outputs": [
    {
     "ename": "",
     "evalue": "",
     "output_type": "error",
     "traceback": [
      "\u001b[1;31mFailed to start the Kernel. \n",
      "\u001b[1;31mUnable to start Kernel 'Python 3.10.8' due to a timeout waiting for the ports to get used. \n",
      "\u001b[1;31mView Jupyter <a href='command:jupyter.viewOutput'>log</a> for further details."
     ]
    }
   ],
   "source": [
    "# Define the desired number of samples for each class after oversampling\n",
    "desired_samples = {\n",
    "    0: 2893,  \n",
    "    1: 2893, \n",
    "    2: 2893,\n",
    "    3: 2893,\n",
    "    4: 2893 \n",
    "}"
   ]
  },
  {
   "cell_type": "code",
   "execution_count": null,
   "metadata": {},
   "outputs": [
    {
     "ename": "",
     "evalue": "",
     "output_type": "error",
     "traceback": [
      "\u001b[1;31mFailed to start the Kernel. \n",
      "\u001b[1;31mUnable to start Kernel 'Python 3.10.8' due to a timeout waiting for the ports to get used. \n",
      "\u001b[1;31mView Jupyter <a href='command:jupyter.viewOutput'>log</a> for further details."
     ]
    }
   ],
   "source": [
    "# Initialize the RandomOverSampler\n",
    "over_sampler = RandomOverSampler(sampling_strategy=desired_samples, random_state=42)\n",
    "\n",
    "# Fit and transform the training data\n",
    "X_train_race, y_train_race = over_sampler.fit_resample(X_train_race, y_train_race)"
   ]
  },
  {
   "cell_type": "code",
   "execution_count": null,
   "metadata": {},
   "outputs": [
    {
     "ename": "",
     "evalue": "",
     "output_type": "error",
     "traceback": [
      "\u001b[1;31mFailed to start the Kernel. \n",
      "\u001b[1;31mUnable to start Kernel 'Python 3.10.8' due to a timeout waiting for the ports to get used. \n",
      "\u001b[1;31mView Jupyter <a href='command:jupyter.viewOutput'>log</a> for further details."
     ]
    }
   ],
   "source": [
    "np.bincount(y_train_race)"
   ]
  },
  {
   "cell_type": "code",
   "execution_count": null,
   "metadata": {},
   "outputs": [
    {
     "ename": "",
     "evalue": "",
     "output_type": "error",
     "traceback": [
      "\u001b[1;31mFailed to start the Kernel. \n",
      "\u001b[1;31mUnable to start Kernel 'Python 3.10.8' due to a timeout waiting for the ports to get used. \n",
      "\u001b[1;31mView Jupyter <a href='command:jupyter.viewOutput'>log</a> for further details."
     ]
    }
   ],
   "source": [
    "# Calculate class weights based on class frequencies in the training set\n",
    "# class_weights = list(X_train_race.shape[0] / (len(np.unique(y_train_race)) * np.bincount(y_train_race)))\n",
    "# class_weights"
   ]
  },
  {
   "cell_type": "code",
   "execution_count": null,
   "metadata": {},
   "outputs": [
    {
     "ename": "",
     "evalue": "",
     "output_type": "error",
     "traceback": [
      "\u001b[1;31mFailed to start the Kernel. \n",
      "\u001b[1;31mUnable to start Kernel 'Python 3.10.8' due to a timeout waiting for the ports to get used. \n",
      "\u001b[1;31mView Jupyter <a href='command:jupyter.viewOutput'>log</a> for further details."
     ]
    }
   ],
   "source": [
    "from sklearn.utils.class_weight import compute_class_weight"
   ]
  },
  {
   "cell_type": "code",
   "execution_count": null,
   "metadata": {},
   "outputs": [
    {
     "ename": "",
     "evalue": "",
     "output_type": "error",
     "traceback": [
      "\u001b[1;31mFailed to start the Kernel. \n",
      "\u001b[1;31mUnable to start Kernel 'Python 3.10.8' due to a timeout waiting for the ports to get used. \n",
      "\u001b[1;31mView Jupyter <a href='command:jupyter.viewOutput'>log</a> for further details."
     ]
    }
   ],
   "source": [
    "# Calculate class weights based on class frequencies in the training set\n",
    "# class_counts = np.bincount(y_train_race)\n",
    "# total_samples = len(y_train_race)\n",
    "\n",
    "# # Calculate the inverse of class frequencies\n",
    "# class_weights = total_samples / (len(np.unique(y_train_race)) * class_counts)\n",
    "\n",
    "# # Normalize the weights to sum to the number of classes\n",
    "# class_weights /= class_weights.sum()\n",
    "# class_weights"
   ]
  },
  {
   "cell_type": "code",
   "execution_count": null,
   "metadata": {},
   "outputs": [
    {
     "ename": "",
     "evalue": "",
     "output_type": "error",
     "traceback": [
      "\u001b[1;31mFailed to start the Kernel. \n",
      "\u001b[1;31mUnable to start Kernel 'Python 3.10.8' due to a timeout waiting for the ports to get used. \n",
      "\u001b[1;31mView Jupyter <a href='command:jupyter.viewOutput'>log</a> for further details."
     ]
    }
   ],
   "source": [
    "# Identify non-categorical columns\n",
    "non_cat_columns = [col for col in X_train_race.columns if col not in cat_features]\n",
    "\n",
    "# Apply Min-Max scaling to non-categorical columns\n",
    "scaler = MinMaxScaler()\n",
    "X_train_race_scaled = X_train_race.copy()\n",
    "X_train_race_scaled[non_cat_columns] = scaler.fit_transform(X_train_race[non_cat_columns])\n",
    "\n",
    "X_test_race_scaled = X_test_race.copy()\n",
    "X_test_race_scaled[non_cat_columns] = scaler.transform(X_test_race[non_cat_columns])\n"
   ]
  },
  {
   "cell_type": "code",
   "execution_count": null,
   "metadata": {},
   "outputs": [
    {
     "ename": "",
     "evalue": "",
     "output_type": "error",
     "traceback": [
      "\u001b[1;31mFailed to restart the Kernel. \n",
      "\u001b[1;31mUnable to start Kernel 'Python 3.10.8' due to a timeout waiting for the ports to get used. \n",
      "\u001b[1;31mView Jupyter <a href='command:jupyter.viewOutput'>log</a> for further details."
     ]
    },
    {
     "ename": "",
     "evalue": "",
     "output_type": "error",
     "traceback": [
      "\u001b[1;31mFailed to start the Kernel. \n",
      "\u001b[1;31mUnable to start Kernel 'Python 3.10.8' due to a timeout waiting for the ports to get used. \n",
      "\u001b[1;31mView Jupyter <a href='command:jupyter.viewOutput'>log</a> for further details."
     ]
    }
   ],
   "source": [
    "# Define the parameter grid for hyperparameter search\n",
    "param_grid = {\n",
    "    'iterations': [250, 300, 350, 400, 450],\n",
    "    'depth': [3, 4, 5, 6, 7],\n",
    "    'learning_rate': [0.005, 0.02, 0.05, 0.1, 0.15],\n",
    "}\n",
    "\n",
    "# Create CatBoost classifier\n",
    "base_classifier = CatBoostClassifier(loss_function='MultiClass', cat_features=cat_features)\n",
    "\n",
    "# Use RandomizedSearchCV for hyperparameter optimization\n",
    "grid_search = RandomizedSearchCV(base_classifier, param_distributions=param_grid, n_iter=20, cv=3, random_state=42, scoring='accuracy', n_jobs=-1)\n",
    "\n",
    "# Fit the classifier for 'patient_race' using scaled features and hyperparameter optimization\n",
    "grid_search.fit(X_train_race_scaled, y_train_race)\n",
    "\n",
    "# Get the best hyperparameters\n",
    "best_params = grid_search.best_params_\n",
    "print(\"Best Hyperparameters:\", best_params)\n",
    "\n",
    "# Predict on the entire dataset\n",
    "predicted_race_values = grid_search.predict(features)\n",
    "\n",
    "# Continue with the evaluation metrics as previously shown\n"
   ]
  },
  {
   "cell_type": "code",
   "execution_count": null,
   "metadata": {},
   "outputs": [
    {
     "ename": "",
     "evalue": "",
     "output_type": "error",
     "traceback": [
      "\u001b[1;31mFailed to start the Kernel. \n",
      "\u001b[1;31mUnable to start Kernel 'Python 3.10.8' due to a timeout waiting for the ports to get used. \n",
      "\u001b[1;31mView Jupyter <a href='command:jupyter.viewOutput'>log</a> for further details."
     ]
    }
   ],
   "source": [
    "best_params"
   ]
  },
  {
   "cell_type": "code",
   "execution_count": null,
   "metadata": {},
   "outputs": [
    {
     "ename": "",
     "evalue": "",
     "output_type": "error",
     "traceback": [
      "\u001b[1;31mFailed to start the Kernel. \n",
      "\u001b[1;31mUnable to start Kernel 'Python 3.10.8' due to a timeout waiting for the ports to get used. \n",
      "\u001b[1;31mView Jupyter <a href='command:jupyter.viewOutput'>log</a> for further details."
     ]
    }
   ],
   "source": [
    "from sklearn.metrics import accuracy_score, precision_score, recall_score, f1_score, confusion_matrix, classification_report\n",
    "\n",
    "# Assuming y_true contains the true labels and y_pred contains the predicted labels\n",
    "y_true = target_race.loc[X_test_race.index]  # Replace with the actual true labels\n",
    "y_pred = grid_search.predict(X_test_race)\n",
    "\n",
    "# Convert categorical labels in y_true to numerical labels\n",
    "y_true_numerical = y_true.astype('category').cat.codes\n",
    "\n",
    "# Calculate accuracy\n",
    "accuracy = accuracy_score(y_true_numerical, y_pred)\n",
    "print(f\"Accuracy: {accuracy:.2%}\")\n",
    "\n",
    "# Calculate precision, recall, and F1 score\n",
    "precision = precision_score(y_true_numerical, y_pred, average='weighted')\n",
    "recall = recall_score(y_true_numerical, y_pred, average='weighted')\n",
    "f1 = f1_score(y_true_numerical, y_pred, average='weighted')\n",
    "\n",
    "print(f\"Precision: {precision:.2%}\")\n",
    "print(f\"Recall: {recall:.2%}\")\n",
    "print(f\"F1 Score: {f1:.2%}\")\n",
    "\n",
    "# Confusion matrix\n",
    "conf_matrix = confusion_matrix(y_true_numerical, y_pred)\n",
    "print(\"Confusion Matrix:\")\n",
    "print(conf_matrix)\n",
    "\n",
    "# Classification report\n",
    "class_report = classification_report(y_true_numerical, y_pred)\n",
    "print(\"Classification Report:\")\n",
    "print(class_report)\n",
    "\n"
   ]
  },
  {
   "cell_type": "code",
   "execution_count": null,
   "metadata": {},
   "outputs": [
    {
     "ename": "",
     "evalue": "",
     "output_type": "error",
     "traceback": [
      "\u001b[1;31mFailed to start the Kernel. \n",
      "\u001b[1;31mUnable to start Kernel 'Python 3.10.8' due to a timeout waiting for the ports to get used. \n",
      "\u001b[1;31mView Jupyter <a href='command:jupyter.viewOutput'>log</a> for further details."
     ]
    }
   ],
   "source": [
    "# Create CatBoost classifier for 'patient_race'\n",
    "# race_classifier = CatBoostClassifier(iterations=200, depth=5, learning_rate=0.1, loss_function='MultiClass', cat_features=cat_features)\n"
   ]
  },
  {
   "cell_type": "code",
   "execution_count": null,
   "metadata": {},
   "outputs": [
    {
     "ename": "",
     "evalue": "",
     "output_type": "error",
     "traceback": [
      "\u001b[1;31mFailed to start the Kernel. \n",
      "\u001b[1;31mUnable to start Kernel 'Python 3.10.8' due to a timeout waiting for the ports to get used. \n",
      "\u001b[1;31mView Jupyter <a href='command:jupyter.viewOutput'>log</a> for further details."
     ]
    }
   ],
   "source": [
    "# Fit the classifier for 'patient_race'\n",
    "# race_classifier.fit(X_train_race, y_train_race)"
   ]
  },
  {
   "cell_type": "code",
   "execution_count": null,
   "metadata": {},
   "outputs": [
    {
     "ename": "",
     "evalue": "",
     "output_type": "error",
     "traceback": [
      "\u001b[1;31mFailed to start the Kernel. \n",
      "\u001b[1;31mUnable to start Kernel 'Python 3.10.8' due to a timeout waiting for the ports to get used. \n",
      "\u001b[1;31mView Jupyter <a href='command:jupyter.viewOutput'>log</a> for further details."
     ]
    }
   ],
   "source": [
    "# Predict missing values for 'patient_race'\n",
    "# predicted_race_values = race_classifier.predict(features)"
   ]
  },
  {
   "cell_type": "code",
   "execution_count": null,
   "metadata": {},
   "outputs": [
    {
     "ename": "",
     "evalue": "",
     "output_type": "error",
     "traceback": [
      "\u001b[1;31mFailed to start the Kernel. \n",
      "\u001b[1;31mUnable to start Kernel 'Python 3.10.8' due to a timeout waiting for the ports to get used. \n",
      "\u001b[1;31mView Jupyter <a href='command:jupyter.viewOutput'>log</a> for further details."
     ]
    }
   ],
   "source": [
    "from sklearn.metrics import accuracy_score, precision_score, recall_score, f1_score, confusion_matrix\n",
    "\n",
    "# Assuming y_true contains the true labels and y_pred contains the predicted labels\n",
    "y_true = target_race.loc[X_test_race.index]  # Replace with the actual true labels\n",
    "y_pred = predicted_race_values.predict(X_test_race)\n",
    "\n",
    "# Calculate accuracy\n",
    "accuracy = accuracy_score(y_true, y_pred)\n",
    "print(f\"Accuracy: {accuracy:.2%}\")\n",
    "\n",
    "# Calculate precision, recall, and F1 score\n",
    "precision = precision_score(y_true, y_pred, average='weighted')\n",
    "recall = recall_score(y_true, y_pred, average='weighted')\n",
    "f1 = f1_score(y_true, y_pred, average='weighted')\n",
    "\n",
    "print(f\"Precision: {precision:.2%}\")\n",
    "print(f\"Recall: {recall:.2%}\")\n",
    "print(f\"F1 Score: {f1:.2%}\")\n",
    "\n",
    "# Confusion matrix\n",
    "conf_matrix = confusion_matrix(y_true, y_pred)\n",
    "print(\"Confusion Matrix:\")\n",
    "print(conf_matrix)\n"
   ]
  },
  {
   "cell_type": "code",
   "execution_count": null,
   "metadata": {},
   "outputs": [
    {
     "ename": "",
     "evalue": "",
     "output_type": "error",
     "traceback": [
      "\u001b[1;31mFailed to start the Kernel. \n",
      "\u001b[1;31mUnable to start Kernel 'Python 3.10.8' due to a timeout waiting for the ports to get used. \n",
      "\u001b[1;31mView Jupyter <a href='command:jupyter.viewOutput'>log</a> for further details."
     ]
    }
   ],
   "source": [
    "# # Update the 'patient_race' column with predicted values\n",
    "# train.loc[missing_race_indices, 'patient_race'] = predicted_race_values\n",
    "\n",
    "# # Split the data into training and testing sets for 'payer_type'\n",
    "# X_train_payer, X_test_payer, y_train_payer, y_test_payer = train_test_split(features.drop(['patient_race', 'payer_type'], axis=1), target_payer, test_size=0.2, random_state=42)\n",
    "\n",
    "# # Create CatBoost classifier for 'payer_type'\n",
    "# payer_classifier = CatBoostClassifier(iterations=100, depth=5, learning_rate=0.1, loss_function='MultiClass', cat_features=['patient_state', 'patient_gender', 'Region', 'Division'])\n",
    "\n",
    "# # Fit the classifier for 'payer_type'\n",
    "# payer_classifier.fit(X_train_payer, y_train_payer)\n",
    "\n",
    "# # Predict missing values for 'payer_type'\n",
    "# predicted_payer_values = payer_classifier.predict(features.loc[missing_payer_indices].drop(['patient_race', 'payer_type'], axis=1))\n",
    "\n",
    "# # Update the 'payer_type' column with predicted values\n",
    "# train.loc[missing_payer_indices, 'payer_type'] = predicted_payer_values"
   ]
  }
 ],
 "metadata": {
  "kernelspec": {
   "display_name": "Python 3",
   "language": "python",
   "name": "python3"
  },
  "language_info": {
   "codemirror_mode": {
    "name": "ipython",
    "version": 3
   },
   "file_extension": ".py",
   "mimetype": "text/x-python",
   "name": "python",
   "nbconvert_exporter": "python",
   "pygments_lexer": "ipython3",
   "version": "3.10.8"
  }
 },
 "nbformat": 4,
 "nbformat_minor": 2
}
