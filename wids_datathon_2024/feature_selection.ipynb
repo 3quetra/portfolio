{
 "cells": [
  {
   "cell_type": "markdown",
   "metadata": {},
   "source": [
    "# Cancer Diagnosis Prediction \n",
    "\n",
    "## Feature Selection\n",
    "\n",
    "Approach I: \n",
    "1. Train base models - Random Forest, SVM and KNN - on all prepared features. \n",
    "2. Devide features by logical categories and apply Lasso Regression to select important features within these categories, as well as remove highly correlated between each other features. \n",
    "3. Use the models again on selected features. "
   ]
  },
  {
   "cell_type": "code",
   "execution_count": 158,
   "metadata": {},
   "outputs": [],
   "source": [
    "import pandas as pd\n",
    "import numpy as np"
   ]
  },
  {
   "cell_type": "code",
   "execution_count": 159,
   "metadata": {},
   "outputs": [],
   "source": [
    "pd.set_option('display.max_columns', None)"
   ]
  },
  {
   "cell_type": "code",
   "execution_count": 160,
   "metadata": {},
   "outputs": [],
   "source": [
    "train = pd.read_csv('target_encoded_train.csv') \n",
    "test = pd.read_csv('target_encoded_test.csv') "
   ]
  },
  {
   "cell_type": "code",
   "execution_count": 161,
   "metadata": {},
   "outputs": [],
   "source": [
    "patient_id = test['patient_id']\n",
    "\n",
    "train.drop(columns=['patient_id'], axis=1, inplace=True)\n",
    "test.drop(columns=['patient_id'], axis=1, inplace=True)"
   ]
  },
  {
   "cell_type": "code",
   "execution_count": 162,
   "metadata": {},
   "outputs": [
    {
     "data": {
      "text/plain": [
       "patient_race                 0\n",
       "education_highschool         0\n",
       "unemployment_rate            0\n",
       "labor_force_participation    0\n",
       "education_stem_degree        0\n",
       "                            ..\n",
       "never_married                0\n",
       "divorced                     0\n",
       "married                      0\n",
       "female                       0\n",
       "DiagPeriodL90D               0\n",
       "Length: 77, dtype: int64"
      ]
     },
     "execution_count": 162,
     "metadata": {},
     "output_type": "execute_result"
    }
   ],
   "source": [
    "train.isna().sum().sort_values(ascending=False)"
   ]
  },
  {
   "cell_type": "code",
   "execution_count": 163,
   "metadata": {},
   "outputs": [],
   "source": [
    "target = train['DiagPeriodL90D']\n",
    "train.drop(columns=target.name, axis=1, inplace=True) \n"
   ]
  },
  {
   "cell_type": "markdown",
   "metadata": {},
   "source": [
    "## Apply Lasso Regression for Feature Selection"
   ]
  },
  {
   "cell_type": "code",
   "execution_count": 164,
   "metadata": {},
   "outputs": [],
   "source": [
    "# Define dictionary to group columns based on themes\n",
    "column_groups = {\n",
    "    'locations': ['patient_state', 'Region', 'Division'],\n",
    "    'age': ['age'],\n",
    "    'race': ['race'],\n",
    "    'education': ['education'],\n",
    "    'income': ['income'],\n",
    "    'rent': ['rent'],\n",
    "    'social_status': ['married', 'divorced', 'widowed'],\n",
    "    'empl_status': ['labor', 'employ'],\n",
    "    'home_status': ['home', 'housing'],\n",
    "    'health_status': ['payer', 'veteran', 'disabled', 'insured'],\n",
    "    'gender_status': ['male', 'gender'],\n",
    "    'diagnosis_status': ['breast_cancer'],\n",
    "    'metastatic_diagnosis_status': ['metastatic_cancer'],\n",
    "    'air_quality': ['Ozone', 'PM25', 'N02']\n",
    "}\n",
    "\n",
    "# Create dictionary to store sliced dataframes\n",
    "sliced_dfs = {}\n",
    "\n",
    "# Iterate over column_groups dictionary\n",
    "for group, columns in column_groups.items():\n",
    "    # Filter columns based on column name patterns\n",
    "    relevant_columns = [column for column in train.columns if any(col in column for col in columns)]\n",
    "    # Slice dataframe based on relevant columns\n",
    "    sliced_dfs[group] = train[relevant_columns]\n",
    "\n",
    "# Access sliced dataframes using keys from column_groups dictionary\n",
    "locations = sliced_dfs['locations']\n",
    "age = sliced_dfs['age']\n",
    "race = sliced_dfs['race']\n",
    "education = sliced_dfs['education']\n",
    "income = sliced_dfs['income']\n",
    "rent = sliced_dfs['rent']\n",
    "social_status = sliced_dfs['social_status']\n",
    "empl_status = sliced_dfs['empl_status']\n",
    "home_status = sliced_dfs['home_status']\n",
    "health_status = sliced_dfs['health_status']\n",
    "diagnosis_status = sliced_dfs['diagnosis_status']\n",
    "metastatic_diagnosis_status = sliced_dfs['metastatic_diagnosis_status']\n",
    "air_quality = sliced_dfs['air_quality']\n",
    "\n"
   ]
  },
  {
   "cell_type": "code",
   "execution_count": 165,
   "metadata": {},
   "outputs": [],
   "source": [
    "from lasso import apply_lasso"
   ]
  },
  {
   "cell_type": "code",
   "execution_count": 166,
   "metadata": {},
   "outputs": [
    {
     "name": "stdout",
     "output_type": "stream",
     "text": [
      "Best Parameters for LASSO: {'lasso__alpha': 0.01}\n",
      "Best MSE for LASSO: 0.23436320180043563\n",
      "Important Features: Index(['patient_age', 'age_30s'], dtype='object')\n"
     ]
    }
   ],
   "source": [
    "important_ages= apply_lasso(age, target)"
   ]
  },
  {
   "cell_type": "code",
   "execution_count": 167,
   "metadata": {},
   "outputs": [
    {
     "name": "stdout",
     "output_type": "stream",
     "text": [
      "Best Parameters for LASSO: {'lasso__alpha': 0.01}\n",
      "Best MSE for LASSO: 0.23278732970013277\n",
      "Important Features: Index(['patient_state'], dtype='object')\n"
     ]
    }
   ],
   "source": [
    "important_locs= apply_lasso(locations, target)"
   ]
  },
  {
   "cell_type": "code",
   "execution_count": 168,
   "metadata": {},
   "outputs": [
    {
     "name": "stdout",
     "output_type": "stream",
     "text": [
      "Best Parameters for LASSO: {'lasso__alpha': 0.01}\n",
      "Best MSE for LASSO: 0.23439380678045546\n",
      "Important Features: Index(['patient_race'], dtype='object')\n"
     ]
    }
   ],
   "source": [
    "important_race_info = apply_lasso(race, target)"
   ]
  },
  {
   "cell_type": "code",
   "execution_count": 169,
   "metadata": {},
   "outputs": [
    {
     "name": "stdout",
     "output_type": "stream",
     "text": [
      "Best Parameters for LASSO: {'lasso__alpha': 0.01}\n",
      "Best MSE for LASSO: 0.23472063705491003\n",
      "Important Features: Index(['education_less_highschool', 'education_bachelors'], dtype='object')\n"
     ]
    }
   ],
   "source": [
    "important_education_info = apply_lasso(education, target)"
   ]
  },
  {
   "cell_type": "code",
   "execution_count": 170,
   "metadata": {},
   "outputs": [
    {
     "name": "stdout",
     "output_type": "stream",
     "text": [
      "Best Parameters for LASSO: {'lasso__alpha': 0.01}\n",
      "Best MSE for LASSO: 0.2348618173059057\n",
      "Important Features: Index(['income_household_25_to_35', 'income_household_75_to_100',\n",
      "       'income_individual_median'],\n",
      "      dtype='object')\n"
     ]
    }
   ],
   "source": [
    "important_income_info = apply_lasso(income, target)"
   ]
  },
  {
   "cell_type": "code",
   "execution_count": 171,
   "metadata": {},
   "outputs": [
    {
     "name": "stdout",
     "output_type": "stream",
     "text": [
      "Best Parameters for LASSO: {'lasso__alpha': 0.01}\n",
      "Best MSE for LASSO: 0.23488479137924861\n",
      "Important Features: Index(['widowed'], dtype='object')\n"
     ]
    }
   ],
   "source": [
    "important_social_info = apply_lasso(social_status, target)"
   ]
  },
  {
   "cell_type": "code",
   "execution_count": 172,
   "metadata": {},
   "outputs": [
    {
     "name": "stdout",
     "output_type": "stream",
     "text": [
      "Best Parameters for LASSO: {'lasso__alpha': 0.01}\n",
      "Best MSE for LASSO: 0.2348721455511149\n",
      "Important Features: Index(['labor_force_participation'], dtype='object')\n"
     ]
    }
   ],
   "source": [
    "important_empl_info = apply_lasso(empl_status, target)"
   ]
  },
  {
   "cell_type": "code",
   "execution_count": 173,
   "metadata": {},
   "outputs": [
    {
     "name": "stdout",
     "output_type": "stream",
     "text": [
      "Best Parameters for LASSO: {'lasso__alpha': 0.01}\n",
      "Best MSE for LASSO: 0.23494151110930983\n",
      "Important Features: Index(['home_value'], dtype='object')\n"
     ]
    }
   ],
   "source": [
    "important_home_info = apply_lasso(home_status, target)"
   ]
  },
  {
   "cell_type": "code",
   "execution_count": 174,
   "metadata": {},
   "outputs": [
    {
     "name": "stdout",
     "output_type": "stream",
     "text": [
      "Best Parameters for LASSO: {'lasso__alpha': 0.01}\n",
      "Best MSE for LASSO: 0.23370006403499527\n",
      "Important Features: Index(['payer_type', 'disabled', 'health_uninsured'], dtype='object')\n"
     ]
    }
   ],
   "source": [
    "important_health_info = apply_lasso(health_status, target)"
   ]
  },
  {
   "cell_type": "code",
   "execution_count": 175,
   "metadata": {},
   "outputs": [
    {
     "name": "stdout",
     "output_type": "stream",
     "text": [
      "Best Parameters for LASSO: {'lasso__alpha': 0.01}\n",
      "Best MSE for LASSO: 0.23495126730865898\n",
      "Important Features: Index(['rent_median'], dtype='object')\n"
     ]
    }
   ],
   "source": [
    "important_rent_info = apply_lasso(rent, target)"
   ]
  },
  {
   "cell_type": "code",
   "execution_count": 176,
   "metadata": {},
   "outputs": [
    {
     "name": "stdout",
     "output_type": "stream",
     "text": [
      "Best Parameters for LASSO: {'lasso__alpha': 0.01}\n",
      "Best MSE for LASSO: 0.14939180660060353\n",
      "Important Features: Index(['breast_cancer_diagnosis_code'], dtype='object')\n"
     ]
    }
   ],
   "source": [
    "important_diagnosis_info = apply_lasso(diagnosis_status, target)"
   ]
  },
  {
   "cell_type": "code",
   "execution_count": 177,
   "metadata": {},
   "outputs": [
    {
     "name": "stdout",
     "output_type": "stream",
     "text": [
      "Best Parameters for LASSO: {'lasso__alpha': 0.01}\n",
      "Best MSE for LASSO: 0.23060038525615778\n",
      "Important Features: Index(['metastatic_cancer_diagnosis_code'], dtype='object')\n"
     ]
    }
   ],
   "source": [
    "important_met_diagnosis_info = apply_lasso(metastatic_diagnosis_status, target)"
   ]
  },
  {
   "cell_type": "code",
   "execution_count": 178,
   "metadata": {},
   "outputs": [
    {
     "name": "stdout",
     "output_type": "stream",
     "text": [
      "Best Parameters for LASSO: {'lasso__alpha': 0.1}\n",
      "Best MSE for LASSO: 0.23498375813624522\n",
      "Important Features: Index([], dtype='object')\n"
     ]
    }
   ],
   "source": [
    "important_air_info = apply_lasso(air_quality, target)"
   ]
  },
  {
   "cell_type": "markdown",
   "metadata": {},
   "source": [
    "Let's create a list of features that didn't have a group. "
   ]
  },
  {
   "cell_type": "code",
   "execution_count": 137,
   "metadata": {},
   "outputs": [],
   "source": [
    "miscellaneous  = ['patient_zip3', 'population', 'density', 'poverty', 'commute_time', 'family_size', 'limited_english', 'farmer']"
   ]
  },
  {
   "cell_type": "markdown",
   "metadata": {},
   "source": [
    "Now we can crate a df with features that were selected by the Lasso model, didn't have the groups or weren't specified by Lasso as important. To these features we are going to apply another selection method."
   ]
  },
  {
   "cell_type": "code",
   "execution_count": 179,
   "metadata": {},
   "outputs": [
    {
     "data": {
      "text/html": [
       "<div>\n",
       "<style scoped>\n",
       "    .dataframe tbody tr th:only-of-type {\n",
       "        vertical-align: middle;\n",
       "    }\n",
       "\n",
       "    .dataframe tbody tr th {\n",
       "        vertical-align: top;\n",
       "    }\n",
       "\n",
       "    .dataframe thead th {\n",
       "        text-align: right;\n",
       "    }\n",
       "</style>\n",
       "<table border=\"1\" class=\"dataframe\">\n",
       "  <thead>\n",
       "    <tr style=\"text-align: right;\">\n",
       "      <th></th>\n",
       "      <th>payer_type</th>\n",
       "      <th>disabled</th>\n",
       "      <th>health_uninsured</th>\n",
       "      <th>home_value</th>\n",
       "      <th>widowed</th>\n",
       "      <th>income_household_25_to_35</th>\n",
       "      <th>income_household_75_to_100</th>\n",
       "      <th>income_individual_median</th>\n",
       "      <th>education_less_highschool</th>\n",
       "      <th>education_bachelors</th>\n",
       "      <th>patient_race</th>\n",
       "      <th>patient_state</th>\n",
       "      <th>patient_age</th>\n",
       "      <th>age_30s</th>\n",
       "      <th>rent_median</th>\n",
       "      <th>breast_cancer_diagnosis_code</th>\n",
       "      <th>metastatic_cancer_diagnosis_code</th>\n",
       "      <th>patient_zip3</th>\n",
       "      <th>population</th>\n",
       "      <th>density</th>\n",
       "      <th>poverty</th>\n",
       "      <th>commute_time</th>\n",
       "      <th>family_size</th>\n",
       "      <th>limited_english</th>\n",
       "      <th>farmer</th>\n",
       "      <th>labor_force_participation</th>\n",
       "      <th>unemployment_rate</th>\n",
       "      <th>self_employed</th>\n",
       "      <th>Ozone</th>\n",
       "      <th>PM25</th>\n",
       "      <th>N02</th>\n",
       "    </tr>\n",
       "  </thead>\n",
       "  <tbody>\n",
       "    <tr>\n",
       "      <th>0</th>\n",
       "      <td>0.610440</td>\n",
       "      <td>12.871429</td>\n",
       "      <td>11.200000</td>\n",
       "      <td>2.646343e+05</td>\n",
       "      <td>4.442857</td>\n",
       "      <td>10.142857</td>\n",
       "      <td>12.742857</td>\n",
       "      <td>24563.57143</td>\n",
       "      <td>33.257143</td>\n",
       "      <td>8.357143</td>\n",
       "      <td>0.605515</td>\n",
       "      <td>0.645148</td>\n",
       "      <td>84</td>\n",
       "      <td>14.014286</td>\n",
       "      <td>1165.000000</td>\n",
       "      <td>0.781037</td>\n",
       "      <td>0.593023</td>\n",
       "      <td>924</td>\n",
       "      <td>31437.75000</td>\n",
       "      <td>1189.562500</td>\n",
       "      <td>22.542857</td>\n",
       "      <td>27.814286</td>\n",
       "      <td>3.928571</td>\n",
       "      <td>10.100000</td>\n",
       "      <td>0.000000</td>\n",
       "      <td>61.528571</td>\n",
       "      <td>8.471429</td>\n",
       "      <td>13.428571</td>\n",
       "      <td>52.237210</td>\n",
       "      <td>8.650555</td>\n",
       "      <td>18.606528</td>\n",
       "    </tr>\n",
       "    <tr>\n",
       "      <th>1</th>\n",
       "      <td>0.599005</td>\n",
       "      <td>8.957576</td>\n",
       "      <td>7.018182</td>\n",
       "      <td>6.776885e+05</td>\n",
       "      <td>4.651515</td>\n",
       "      <td>5.163636</td>\n",
       "      <td>12.469697</td>\n",
       "      <td>41287.27273</td>\n",
       "      <td>14.230303</td>\n",
       "      <td>23.739394</td>\n",
       "      <td>0.659142</td>\n",
       "      <td>0.645148</td>\n",
       "      <td>62</td>\n",
       "      <td>13.418182</td>\n",
       "      <td>2003.125000</td>\n",
       "      <td>0.783231</td>\n",
       "      <td>0.669078</td>\n",
       "      <td>928</td>\n",
       "      <td>39121.87879</td>\n",
       "      <td>2295.939394</td>\n",
       "      <td>10.109091</td>\n",
       "      <td>30.606061</td>\n",
       "      <td>3.622727</td>\n",
       "      <td>8.057576</td>\n",
       "      <td>0.027273</td>\n",
       "      <td>65.230303</td>\n",
       "      <td>5.103030</td>\n",
       "      <td>15.224242</td>\n",
       "      <td>42.301121</td>\n",
       "      <td>8.487175</td>\n",
       "      <td>20.113179</td>\n",
       "    </tr>\n",
       "    <tr>\n",
       "      <th>2</th>\n",
       "      <td>0.599005</td>\n",
       "      <td>11.253333</td>\n",
       "      <td>15.066667</td>\n",
       "      <td>2.377131e+05</td>\n",
       "      <td>4.710000</td>\n",
       "      <td>6.763333</td>\n",
       "      <td>13.560000</td>\n",
       "      <td>40399.03333</td>\n",
       "      <td>10.811667</td>\n",
       "      <td>19.678333</td>\n",
       "      <td>0.659142</td>\n",
       "      <td>0.599649</td>\n",
       "      <td>43</td>\n",
       "      <td>13.545000</td>\n",
       "      <td>1235.907407</td>\n",
       "      <td>0.760766</td>\n",
       "      <td>0.669078</td>\n",
       "      <td>760</td>\n",
       "      <td>21996.68333</td>\n",
       "      <td>626.236667</td>\n",
       "      <td>9.663333</td>\n",
       "      <td>31.394915</td>\n",
       "      <td>3.260667</td>\n",
       "      <td>3.356667</td>\n",
       "      <td>3.650847</td>\n",
       "      <td>66.428333</td>\n",
       "      <td>4.560000</td>\n",
       "      <td>13.722034</td>\n",
       "      <td>40.108207</td>\n",
       "      <td>7.642753</td>\n",
       "      <td>14.839351</td>\n",
       "    </tr>\n",
       "    <tr>\n",
       "      <th>3</th>\n",
       "      <td>0.599005</td>\n",
       "      <td>8.845238</td>\n",
       "      <td>4.404762</td>\n",
       "      <td>1.012474e+06</td>\n",
       "      <td>4.623810</td>\n",
       "      <td>4.380952</td>\n",
       "      <td>10.721429</td>\n",
       "      <td>55336.28571</td>\n",
       "      <td>5.835714</td>\n",
       "      <td>33.285714</td>\n",
       "      <td>0.659142</td>\n",
       "      <td>0.645148</td>\n",
       "      <td>45</td>\n",
       "      <td>12.464286</td>\n",
       "      <td>2354.738095</td>\n",
       "      <td>0.774744</td>\n",
       "      <td>0.669078</td>\n",
       "      <td>926</td>\n",
       "      <td>32795.32558</td>\n",
       "      <td>1896.220930</td>\n",
       "      <td>8.688095</td>\n",
       "      <td>27.561905</td>\n",
       "      <td>3.098095</td>\n",
       "      <td>5.280952</td>\n",
       "      <td>0.052381</td>\n",
       "      <td>64.430952</td>\n",
       "      <td>5.264286</td>\n",
       "      <td>18.502381</td>\n",
       "      <td>42.070075</td>\n",
       "      <td>7.229393</td>\n",
       "      <td>15.894123</td>\n",
       "    </tr>\n",
       "    <tr>\n",
       "      <th>4</th>\n",
       "      <td>0.599005</td>\n",
       "      <td>15.276000</td>\n",
       "      <td>12.088000</td>\n",
       "      <td>2.498457e+05</td>\n",
       "      <td>5.406000</td>\n",
       "      <td>11.462000</td>\n",
       "      <td>12.480000</td>\n",
       "      <td>29073.18367</td>\n",
       "      <td>11.576000</td>\n",
       "      <td>13.978000</td>\n",
       "      <td>0.605515</td>\n",
       "      <td>0.623656</td>\n",
       "      <td>55</td>\n",
       "      <td>10.364000</td>\n",
       "      <td>919.743590</td>\n",
       "      <td>0.091322</td>\n",
       "      <td>0.669078</td>\n",
       "      <td>836</td>\n",
       "      <td>10886.26000</td>\n",
       "      <td>116.886000</td>\n",
       "      <td>11.224000</td>\n",
       "      <td>26.170213</td>\n",
       "      <td>3.352653</td>\n",
       "      <td>1.946000</td>\n",
       "      <td>6.890909</td>\n",
       "      <td>57.488000</td>\n",
       "      <td>4.258000</td>\n",
       "      <td>13.029545</td>\n",
       "      <td>41.356058</td>\n",
       "      <td>4.110749</td>\n",
       "      <td>11.722197</td>\n",
       "    </tr>\n",
       "    <tr>\n",
       "      <th>...</th>\n",
       "      <td>...</td>\n",
       "      <td>...</td>\n",
       "      <td>...</td>\n",
       "      <td>...</td>\n",
       "      <td>...</td>\n",
       "      <td>...</td>\n",
       "      <td>...</td>\n",
       "      <td>...</td>\n",
       "      <td>...</td>\n",
       "      <td>...</td>\n",
       "      <td>...</td>\n",
       "      <td>...</td>\n",
       "      <td>...</td>\n",
       "      <td>...</td>\n",
       "      <td>...</td>\n",
       "      <td>...</td>\n",
       "      <td>...</td>\n",
       "      <td>...</td>\n",
       "      <td>...</td>\n",
       "      <td>...</td>\n",
       "      <td>...</td>\n",
       "      <td>...</td>\n",
       "      <td>...</td>\n",
       "      <td>...</td>\n",
       "      <td>...</td>\n",
       "      <td>...</td>\n",
       "      <td>...</td>\n",
       "      <td>...</td>\n",
       "      <td>...</td>\n",
       "      <td>...</td>\n",
       "      <td>...</td>\n",
       "    </tr>\n",
       "    <tr>\n",
       "      <th>12897</th>\n",
       "      <td>0.706045</td>\n",
       "      <td>17.400000</td>\n",
       "      <td>6.300000</td>\n",
       "      <td>1.005470e+05</td>\n",
       "      <td>5.705882</td>\n",
       "      <td>10.364706</td>\n",
       "      <td>11.047059</td>\n",
       "      <td>27888.52941</td>\n",
       "      <td>12.923529</td>\n",
       "      <td>14.400000</td>\n",
       "      <td>0.659142</td>\n",
       "      <td>0.622016</td>\n",
       "      <td>50</td>\n",
       "      <td>12.705882</td>\n",
       "      <td>772.647059</td>\n",
       "      <td>0.783231</td>\n",
       "      <td>0.669078</td>\n",
       "      <td>436</td>\n",
       "      <td>19413.05882</td>\n",
       "      <td>1196.805882</td>\n",
       "      <td>23.600000</td>\n",
       "      <td>19.841176</td>\n",
       "      <td>3.039412</td>\n",
       "      <td>0.864706</td>\n",
       "      <td>0.023529</td>\n",
       "      <td>61.429412</td>\n",
       "      <td>9.135294</td>\n",
       "      <td>9.105882</td>\n",
       "      <td>38.753055</td>\n",
       "      <td>8.068682</td>\n",
       "      <td>21.140731</td>\n",
       "    </tr>\n",
       "    <tr>\n",
       "      <th>12898</th>\n",
       "      <td>0.599005</td>\n",
       "      <td>11.243210</td>\n",
       "      <td>3.845679</td>\n",
       "      <td>8.179491e+05</td>\n",
       "      <td>5.466667</td>\n",
       "      <td>5.148750</td>\n",
       "      <td>11.286250</td>\n",
       "      <td>52778.65000</td>\n",
       "      <td>8.916049</td>\n",
       "      <td>26.903704</td>\n",
       "      <td>0.605515</td>\n",
       "      <td>0.645148</td>\n",
       "      <td>50</td>\n",
       "      <td>13.101235</td>\n",
       "      <td>2223.445946</td>\n",
       "      <td>0.776869</td>\n",
       "      <td>0.669078</td>\n",
       "      <td>945</td>\n",
       "      <td>30153.87952</td>\n",
       "      <td>976.289157</td>\n",
       "      <td>7.837037</td>\n",
       "      <td>34.700000</td>\n",
       "      <td>3.271125</td>\n",
       "      <td>5.411250</td>\n",
       "      <td>0.416250</td>\n",
       "      <td>63.281481</td>\n",
       "      <td>5.332099</td>\n",
       "      <td>14.116250</td>\n",
       "      <td>36.469947</td>\n",
       "      <td>6.265266</td>\n",
       "      <td>10.728732</td>\n",
       "    </tr>\n",
       "    <tr>\n",
       "      <th>12899</th>\n",
       "      <td>0.599005</td>\n",
       "      <td>8.845238</td>\n",
       "      <td>4.404762</td>\n",
       "      <td>1.012474e+06</td>\n",
       "      <td>4.623810</td>\n",
       "      <td>4.380952</td>\n",
       "      <td>10.721429</td>\n",
       "      <td>55336.28571</td>\n",
       "      <td>5.835714</td>\n",
       "      <td>33.285714</td>\n",
       "      <td>0.605515</td>\n",
       "      <td>0.645148</td>\n",
       "      <td>61</td>\n",
       "      <td>12.464286</td>\n",
       "      <td>2354.738095</td>\n",
       "      <td>0.776869</td>\n",
       "      <td>0.647687</td>\n",
       "      <td>926</td>\n",
       "      <td>32795.32558</td>\n",
       "      <td>1896.220930</td>\n",
       "      <td>8.688095</td>\n",
       "      <td>27.561905</td>\n",
       "      <td>3.098095</td>\n",
       "      <td>5.280952</td>\n",
       "      <td>0.052381</td>\n",
       "      <td>64.430952</td>\n",
       "      <td>5.264286</td>\n",
       "      <td>18.502381</td>\n",
       "      <td>42.070075</td>\n",
       "      <td>7.229393</td>\n",
       "      <td>15.894123</td>\n",
       "    </tr>\n",
       "    <tr>\n",
       "      <th>12900</th>\n",
       "      <td>0.706045</td>\n",
       "      <td>10.194737</td>\n",
       "      <td>6.392105</td>\n",
       "      <td>8.708732e+05</td>\n",
       "      <td>5.186842</td>\n",
       "      <td>7.589474</td>\n",
       "      <td>10.742105</td>\n",
       "      <td>39491.78947</td>\n",
       "      <td>16.200000</td>\n",
       "      <td>24.371053</td>\n",
       "      <td>0.605515</td>\n",
       "      <td>0.579577</td>\n",
       "      <td>37</td>\n",
       "      <td>17.255263</td>\n",
       "      <td>1678.447368</td>\n",
       "      <td>0.091322</td>\n",
       "      <td>0.669078</td>\n",
       "      <td>112</td>\n",
       "      <td>71374.13158</td>\n",
       "      <td>17326.407890</td>\n",
       "      <td>18.642105</td>\n",
       "      <td>42.502632</td>\n",
       "      <td>3.412105</td>\n",
       "      <td>14.173684</td>\n",
       "      <td>0.002703</td>\n",
       "      <td>64.197368</td>\n",
       "      <td>7.184211</td>\n",
       "      <td>18.145946</td>\n",
       "      <td>37.722740</td>\n",
       "      <td>7.879795</td>\n",
       "      <td>27.496367</td>\n",
       "    </tr>\n",
       "    <tr>\n",
       "      <th>12901</th>\n",
       "      <td>0.610440</td>\n",
       "      <td>10.988889</td>\n",
       "      <td>11.759259</td>\n",
       "      <td>2.793877e+05</td>\n",
       "      <td>4.544444</td>\n",
       "      <td>8.855556</td>\n",
       "      <td>12.211111</td>\n",
       "      <td>35116.88889</td>\n",
       "      <td>10.844444</td>\n",
       "      <td>23.403704</td>\n",
       "      <td>0.624019</td>\n",
       "      <td>0.641447</td>\n",
       "      <td>29</td>\n",
       "      <td>15.251852</td>\n",
       "      <td>1362.307692</td>\n",
       "      <td>0.797035</td>\n",
       "      <td>0.669078</td>\n",
       "      <td>336</td>\n",
       "      <td>30205.48148</td>\n",
       "      <td>1517.174074</td>\n",
       "      <td>18.470370</td>\n",
       "      <td>24.951852</td>\n",
       "      <td>3.211154</td>\n",
       "      <td>11.777778</td>\n",
       "      <td>0.026923</td>\n",
       "      <td>65.992593</td>\n",
       "      <td>5.488889</td>\n",
       "      <td>13.423077</td>\n",
       "      <td>37.228624</td>\n",
       "      <td>8.652507</td>\n",
       "      <td>16.436409</td>\n",
       "    </tr>\n",
       "  </tbody>\n",
       "</table>\n",
       "<p>12902 rows × 31 columns</p>\n",
       "</div>"
      ],
      "text/plain": [
       "       payer_type   disabled  health_uninsured    home_value   widowed  \\\n",
       "0        0.610440  12.871429         11.200000  2.646343e+05  4.442857   \n",
       "1        0.599005   8.957576          7.018182  6.776885e+05  4.651515   \n",
       "2        0.599005  11.253333         15.066667  2.377131e+05  4.710000   \n",
       "3        0.599005   8.845238          4.404762  1.012474e+06  4.623810   \n",
       "4        0.599005  15.276000         12.088000  2.498457e+05  5.406000   \n",
       "...           ...        ...               ...           ...       ...   \n",
       "12897    0.706045  17.400000          6.300000  1.005470e+05  5.705882   \n",
       "12898    0.599005  11.243210          3.845679  8.179491e+05  5.466667   \n",
       "12899    0.599005   8.845238          4.404762  1.012474e+06  4.623810   \n",
       "12900    0.706045  10.194737          6.392105  8.708732e+05  5.186842   \n",
       "12901    0.610440  10.988889         11.759259  2.793877e+05  4.544444   \n",
       "\n",
       "       income_household_25_to_35  income_household_75_to_100  \\\n",
       "0                      10.142857                   12.742857   \n",
       "1                       5.163636                   12.469697   \n",
       "2                       6.763333                   13.560000   \n",
       "3                       4.380952                   10.721429   \n",
       "4                      11.462000                   12.480000   \n",
       "...                          ...                         ...   \n",
       "12897                  10.364706                   11.047059   \n",
       "12898                   5.148750                   11.286250   \n",
       "12899                   4.380952                   10.721429   \n",
       "12900                   7.589474                   10.742105   \n",
       "12901                   8.855556                   12.211111   \n",
       "\n",
       "       income_individual_median  education_less_highschool  \\\n",
       "0                   24563.57143                  33.257143   \n",
       "1                   41287.27273                  14.230303   \n",
       "2                   40399.03333                  10.811667   \n",
       "3                   55336.28571                   5.835714   \n",
       "4                   29073.18367                  11.576000   \n",
       "...                         ...                        ...   \n",
       "12897               27888.52941                  12.923529   \n",
       "12898               52778.65000                   8.916049   \n",
       "12899               55336.28571                   5.835714   \n",
       "12900               39491.78947                  16.200000   \n",
       "12901               35116.88889                  10.844444   \n",
       "\n",
       "       education_bachelors  patient_race  patient_state  patient_age  \\\n",
       "0                 8.357143      0.605515       0.645148           84   \n",
       "1                23.739394      0.659142       0.645148           62   \n",
       "2                19.678333      0.659142       0.599649           43   \n",
       "3                33.285714      0.659142       0.645148           45   \n",
       "4                13.978000      0.605515       0.623656           55   \n",
       "...                    ...           ...            ...          ...   \n",
       "12897            14.400000      0.659142       0.622016           50   \n",
       "12898            26.903704      0.605515       0.645148           50   \n",
       "12899            33.285714      0.605515       0.645148           61   \n",
       "12900            24.371053      0.605515       0.579577           37   \n",
       "12901            23.403704      0.624019       0.641447           29   \n",
       "\n",
       "         age_30s  rent_median  breast_cancer_diagnosis_code  \\\n",
       "0      14.014286  1165.000000                      0.781037   \n",
       "1      13.418182  2003.125000                      0.783231   \n",
       "2      13.545000  1235.907407                      0.760766   \n",
       "3      12.464286  2354.738095                      0.774744   \n",
       "4      10.364000   919.743590                      0.091322   \n",
       "...          ...          ...                           ...   \n",
       "12897  12.705882   772.647059                      0.783231   \n",
       "12898  13.101235  2223.445946                      0.776869   \n",
       "12899  12.464286  2354.738095                      0.776869   \n",
       "12900  17.255263  1678.447368                      0.091322   \n",
       "12901  15.251852  1362.307692                      0.797035   \n",
       "\n",
       "       metastatic_cancer_diagnosis_code  patient_zip3   population  \\\n",
       "0                              0.593023           924  31437.75000   \n",
       "1                              0.669078           928  39121.87879   \n",
       "2                              0.669078           760  21996.68333   \n",
       "3                              0.669078           926  32795.32558   \n",
       "4                              0.669078           836  10886.26000   \n",
       "...                                 ...           ...          ...   \n",
       "12897                          0.669078           436  19413.05882   \n",
       "12898                          0.669078           945  30153.87952   \n",
       "12899                          0.647687           926  32795.32558   \n",
       "12900                          0.669078           112  71374.13158   \n",
       "12901                          0.669078           336  30205.48148   \n",
       "\n",
       "            density    poverty  commute_time  family_size  limited_english  \\\n",
       "0       1189.562500  22.542857     27.814286     3.928571        10.100000   \n",
       "1       2295.939394  10.109091     30.606061     3.622727         8.057576   \n",
       "2        626.236667   9.663333     31.394915     3.260667         3.356667   \n",
       "3       1896.220930   8.688095     27.561905     3.098095         5.280952   \n",
       "4        116.886000  11.224000     26.170213     3.352653         1.946000   \n",
       "...             ...        ...           ...          ...              ...   \n",
       "12897   1196.805882  23.600000     19.841176     3.039412         0.864706   \n",
       "12898    976.289157   7.837037     34.700000     3.271125         5.411250   \n",
       "12899   1896.220930   8.688095     27.561905     3.098095         5.280952   \n",
       "12900  17326.407890  18.642105     42.502632     3.412105        14.173684   \n",
       "12901   1517.174074  18.470370     24.951852     3.211154        11.777778   \n",
       "\n",
       "         farmer  labor_force_participation  unemployment_rate  self_employed  \\\n",
       "0      0.000000                  61.528571           8.471429      13.428571   \n",
       "1      0.027273                  65.230303           5.103030      15.224242   \n",
       "2      3.650847                  66.428333           4.560000      13.722034   \n",
       "3      0.052381                  64.430952           5.264286      18.502381   \n",
       "4      6.890909                  57.488000           4.258000      13.029545   \n",
       "...         ...                        ...                ...            ...   \n",
       "12897  0.023529                  61.429412           9.135294       9.105882   \n",
       "12898  0.416250                  63.281481           5.332099      14.116250   \n",
       "12899  0.052381                  64.430952           5.264286      18.502381   \n",
       "12900  0.002703                  64.197368           7.184211      18.145946   \n",
       "12901  0.026923                  65.992593           5.488889      13.423077   \n",
       "\n",
       "           Ozone      PM25        N02  \n",
       "0      52.237210  8.650555  18.606528  \n",
       "1      42.301121  8.487175  20.113179  \n",
       "2      40.108207  7.642753  14.839351  \n",
       "3      42.070075  7.229393  15.894123  \n",
       "4      41.356058  4.110749  11.722197  \n",
       "...          ...       ...        ...  \n",
       "12897  38.753055  8.068682  21.140731  \n",
       "12898  36.469947  6.265266  10.728732  \n",
       "12899  42.070075  7.229393  15.894123  \n",
       "12900  37.722740  7.879795  27.496367  \n",
       "12901  37.228624  8.652507  16.436409  \n",
       "\n",
       "[12902 rows x 31 columns]"
      ]
     },
     "execution_count": 179,
     "metadata": {},
     "output_type": "execute_result"
    }
   ],
   "source": [
    "important_feats_train = train[\n",
    "    important_health_info + \n",
    "    important_home_info + \n",
    "    important_social_info + \n",
    "    important_income_info + \n",
    "    important_education_info + \n",
    "    important_race_info + \n",
    "    important_locs + \n",
    "    important_ages + \n",
    "    important_rent_info + \n",
    "    important_diagnosis_info +\n",
    "    important_met_diagnosis_info +\n",
    "    miscellaneous + \n",
    "    list(empl_status.columns) +\n",
    "    list(air_quality.columns)\n",
    "    ]\n",
    "important_feats_train"
   ]
  },
  {
   "cell_type": "code",
   "execution_count": 180,
   "metadata": {},
   "outputs": [],
   "source": [
    "important_feats_test = test[\n",
    "    important_health_info + \n",
    "    important_home_info + \n",
    "    important_social_info + \n",
    "    important_income_info + \n",
    "    important_education_info + \n",
    "    important_race_info + \n",
    "    important_locs + \n",
    "    important_ages + \n",
    "    important_rent_info + \n",
    "    important_diagnosis_info +\n",
    "    important_met_diagnosis_info +\n",
    "    miscellaneous + \n",
    "    list(empl_status.columns) + \n",
    "    list(air_quality.columns)\n",
    "    ]"
   ]
  },
  {
   "cell_type": "markdown",
   "metadata": {},
   "source": [
    "Let's check feature correlations and remove features with high correlations."
   ]
  },
  {
   "cell_type": "code",
   "execution_count": 181,
   "metadata": {},
   "outputs": [
    {
     "name": "stdout",
     "output_type": "stream",
     "text": [
      "High correlation between disabled and income_household_25_to_35: 0.7231136467734144\n",
      "High correlation between disabled and income_individual_median: -0.7168323413079525\n",
      "High correlation between disabled and education_bachelors: -0.7473949509929\n",
      "High correlation between disabled and labor_force_participation: -0.7871973905168711\n",
      "High correlation between home_value and rent_median: 0.9034218318106001\n",
      "High correlation between widowed and labor_force_participation: -0.7014492570225168\n",
      "High correlation between income_household_25_to_35 and income_individual_median: -0.8124964068287303\n",
      "High correlation between income_household_25_to_35 and education_bachelors: -0.7120724906899256\n",
      "High correlation between income_household_25_to_35 and rent_median: -0.7327612295396232\n",
      "High correlation between income_individual_median and education_bachelors: 0.8146836159218646\n",
      "High correlation between income_individual_median and rent_median: 0.7411039816304006\n",
      "High correlation between education_bachelors and rent_median: 0.749232234151081\n",
      "High correlation between education_bachelors and labor_force_participation: 0.7022821707483208\n",
      "High correlation between population and density: 0.731291425928936\n"
     ]
    }
   ],
   "source": [
    "# Compute the correlation matrix\n",
    "correlation_matrix = important_feats_train.corr()\n",
    "\n",
    "# Set the threshold for high correlation\n",
    "threshold = 0.7  # You can adjust this threshold as needed\n",
    "\n",
    "# Find pairs of features with correlation above the threshold\n",
    "high_correlation_pairs = []\n",
    "for i in range(len(correlation_matrix.columns)):\n",
    "    for j in range(i+1, len(correlation_matrix.columns)):\n",
    "        if abs(correlation_matrix.iloc[i, j]) > threshold:\n",
    "            high_correlation_pairs.append((correlation_matrix.columns[i], correlation_matrix.columns[j], correlation_matrix.iloc[i, j]))\n",
    "\n",
    "# Display pairs of features with high correlation\n",
    "for pair in high_correlation_pairs:\n",
    "    print(f\"High correlation between {pair[0]} and {pair[1]}: {pair[2]}\")"
   ]
  },
  {
   "cell_type": "code",
   "execution_count": 182,
   "metadata": {},
   "outputs": [],
   "source": [
    "lasso_cor_train = important_feats_train.drop([\n",
    "    'disabled',\n",
    "    'home_value', \n",
    "    'income_household_25_to_35', \n",
    "    'education_bachelors', \n",
    "    # 'Division_Pacific', \n",
    "    'population',\n",
    "    'widowed',\n",
    "    ], \n",
    "    axis=1\n",
    "    )\n",
    "\n",
    "lasso_cor_test = important_feats_test.drop([\n",
    "    'disabled',\n",
    "    'home_value', \n",
    "    'income_household_25_to_35', \n",
    "    'education_bachelors', \n",
    "    # 'Division_Pacific', \n",
    "    'population',\n",
    "    'widowed', \n",
    "    ],  \n",
    "    axis=1\n",
    "    )\n"
   ]
  },
  {
   "cell_type": "code",
   "execution_count": 183,
   "metadata": {},
   "outputs": [],
   "source": [
    "import matplotlib.pyplot as plt\n",
    "import seaborn as sns"
   ]
  },
  {
   "cell_type": "code",
   "execution_count": 184,
   "metadata": {},
   "outputs": [],
   "source": [
    "# Extract numerical columns for correlation analysis\n",
    "numerical_columns = lasso_cor_train.select_dtypes(include='number')\n",
    "\n",
    "# Calculate correlation matrix\n",
    "correlation_matrix = numerical_columns.corr()\n",
    "\n",
    "# Create a mask to hide the upper triangle\n",
    "mask = np.triu(np.ones_like(correlation_matrix, dtype=bool))\n",
    "\n",
    "# Apply the threshold for significance\n",
    "significant_corr_mask = np.abs(correlation_matrix) > 0.6\n",
    "\n",
    "# Combine the upper triangle mask and the significance mask\n",
    "final_mask = np.logical_and(mask, significant_corr_mask)\n",
    "\n",
    "# Set values outside the final mask to NaN\n",
    "correlation_matrix[~final_mask] = np.nan"
   ]
  },
  {
   "cell_type": "code",
   "execution_count": 185,
   "metadata": {},
   "outputs": [
    {
     "data": {
      "image/png": "[encoded data removed]",
      "text/plain": [
       "<Figure size 1200x1000 with 2 Axes>"
      ]
     },
     "metadata": {},
     "output_type": "display_data"
    }
   ],
   "source": [
    "# Define the size of the figure\n",
    "plt.figure(figsize=(12, 10))\n",
    "\n",
    "# Plot the heatmap\n",
    "sns.heatmap(correlation_matrix, annot=True, cmap='coolwarm', fmt='.2f', linewidths=.5, cbar_kws={\"shrink\": 0.7})\n",
    "\n",
    "# Show the plot\n",
    "\n",
    "plt.show()"
   ]
  },
  {
   "cell_type": "markdown",
   "metadata": {},
   "source": [
    "Let's split features on train and test to train the models for the baseline prediction. "
   ]
  },
  {
   "cell_type": "code",
   "execution_count": 186,
   "metadata": {},
   "outputs": [
    {
     "name": "stdout",
     "output_type": "stream",
     "text": [
      "breast_cancer_diagnosis_code: 0.3978015384057615\n",
      "patient_age: 0.16803931895246518\n",
      "metastatic_cancer_diagnosis_code: 0.0794167635280324\n",
      "payer_type: 0.04943237573175643\n",
      "patient_race: 0.04526420635860813\n",
      "patient_state: 0.0049729285182582884\n",
      "commute_time: 0.004687219630831839\n",
      "widowed: 0.004492022611090486\n",
      "Ozone: 0.004383246931458289\n",
      "patient_zip3: 0.004380481273178371\n",
      "income_household_75_to_100: 0.004228314675483228\n",
      "age_over_80: 0.0042105620699802665\n",
      "race_native: 0.0042042759886755056\n",
      "age_40s: 0.004165275895646192\n",
      "race_pacific: 0.004115248088454267\n",
      "labor_force_participation: 0.004098752603611697\n",
      "education_highschool: 0.004020785712504536\n",
      "education_bachelors: 0.004019584683430661\n",
      "health_uninsured: 0.004016193921026759\n",
      "unemployment_rate: 0.004016189893428645\n",
      "income_household_100_to_150: 0.004000363753167487\n",
      "education_stem_degree: 0.00395800257924234\n",
      "family_size: 0.003922894126099529\n",
      "divorced: 0.0039153784434196506\n",
      "veteran: 0.003909402209269674\n",
      "income_household_35_to_50: 0.003883148633924351\n",
      "age_30s: 0.0038721881300815453\n",
      "education_less_highschool: 0.0038603412759706875\n",
      "income_household_20_to_25: 0.0038582227714947536\n",
      "PM25: 0.0038497971731439855\n",
      "income_household_25_to_35: 0.003811025019196086\n",
      "self_employed: 0.003809491622965695\n",
      "race_multiple: 0.0038057273315725117\n",
      "age_50s: 0.0037840061427711056\n",
      "hispanic: 0.0037635127123832376\n",
      "age_10_to_19: 0.0037494089222984\n",
      "female: 0.0037484902442921093\n",
      "education_some_college: 0.0037387956380494788\n",
      "male: 0.0037099136823050133\n",
      "age_70s: 0.0037063580740330005\n",
      "ROC AUC scores: [0.76729697 0.78133045 0.77532005 0.77993437 0.79067397]\n",
      "Mean ROC AUC score: 0.7789111603044839\n",
      "ROC AUC score on test set: 0.7686049335824154\n"
     ]
    }
   ],
   "source": [
    "from sklearn.ensemble import RandomForestClassifier\n",
    "from sklearn.model_selection import train_test_split, cross_val_score\n",
    "from sklearn.metrics import roc_auc_score\n",
    "\n",
    "# Split the data into train and test sets\n",
    "X_train, X_test, y_train, y_test = train_test_split(train, target, test_size=0.2, random_state=42)\n",
    "\n",
    "# Instantiate the Random Forest classifier\n",
    "rf_classifier = RandomForestClassifier(random_state=42)\n",
    "\n",
    "# Fit the model to training data\n",
    "rf_classifier.fit(X_train, y_train)\n",
    "\n",
    "# Get feature importances\n",
    "feature_importances = rf_classifier.feature_importances_\n",
    "\n",
    "# Get the indices of the top n features\n",
    "n = 40  # Change this to the number of top features you want\n",
    "top_feature_indices = feature_importances.argsort()[-n:][::-1]\n",
    "\n",
    "# Get the names of the top features\n",
    "top_feature_names = X_train.columns[top_feature_indices]\n",
    "\n",
    "# Print the top features and their importances\n",
    "for feature_name, importance in zip(top_feature_names, feature_importances[top_feature_indices]):\n",
    "    print(f\"{feature_name}: {importance}\")\n",
    "\n",
    "# Calculate ROC AUC score using cross-validation\n",
    "roc_auc_scores = cross_val_score(rf_classifier, X_train, y_train, cv=5, scoring='roc_auc')\n",
    "\n",
    "print(\"ROC AUC scores:\", roc_auc_scores)\n",
    "print(\"Mean ROC AUC score:\", roc_auc_scores.mean())\n",
    "\n",
    "# Evaluate on the test set\n",
    "y_pred_proba = rf_classifier.predict_proba(X_test)[:, 1]\n",
    "roc_auc_test = roc_auc_score(y_test, y_pred_proba)\n",
    "print(\"ROC AUC score on test set:\", roc_auc_test)\n"
   ]
  },
  {
   "cell_type": "code",
   "execution_count": 187,
   "metadata": {},
   "outputs": [],
   "source": [
    "from train_test_simple_models import train_test_models"
   ]
  },
  {
   "cell_type": "code",
   "execution_count": 147,
   "metadata": {},
   "outputs": [],
   "source": [
    "# best_base_models, base_feature_importances, base_pipelines = train_test_models(train, target)"
   ]
  },
  {
   "cell_type": "code",
   "execution_count": 188,
   "metadata": {},
   "outputs": [
    {
     "name": "stdout",
     "output_type": "stream",
     "text": [
      "\n",
      "Training RandomForest model with GridSearchCV...\n",
      "Best Parameters for RandomForest: {'classifier__max_depth': 10, 'classifier__n_estimators': 100}\n",
      "Best ROC for RandomForest: 0.8041986826605833\n",
      "\n",
      "Best RandomForest Model Evaluation:\n",
      "ROC AUC: 0.7908295027918381\n",
      "Classification Report:\n",
      "              precision    recall  f1-score   support\n",
      "\n",
      "           0       0.88      0.55      0.68       948\n",
      "           1       0.79      0.96      0.86      1633\n",
      "\n",
      "    accuracy                           0.81      2581\n",
      "   macro avg       0.83      0.76      0.77      2581\n",
      "weighted avg       0.82      0.81      0.80      2581\n",
      "\n",
      "\n",
      "Training SVM model with GridSearchCV...\n",
      "Best Parameters for SVM: {'classifier__C': 0.1, 'classifier__gamma': 0.001}\n",
      "Best ROC for SVM: 0.7923392346193185\n",
      "\n",
      "Best SVM Model Evaluation:\n",
      "ROC AUC: 0.7824488206066338\n",
      "Classification Report:\n",
      "              precision    recall  f1-score   support\n",
      "\n",
      "           0       0.89      0.56      0.68       948\n",
      "           1       0.79      0.96      0.87      1633\n",
      "\n",
      "    accuracy                           0.81      2581\n",
      "   macro avg       0.84      0.76      0.77      2581\n",
      "weighted avg       0.83      0.81      0.80      2581\n",
      "\n",
      "\n",
      "Training KNN model with GridSearchCV...\n",
      "Best Parameters for KNN: {'classifier__n_neighbors': 7, 'classifier__weights': 'uniform'}\n",
      "Best ROC for KNN: 0.7663530290472123\n",
      "\n",
      "Best KNN Model Evaluation:\n",
      "ROC AUC: 0.7701365042207012\n",
      "Classification Report:\n",
      "              precision    recall  f1-score   support\n",
      "\n",
      "           0       0.79      0.55      0.65       948\n",
      "           1       0.78      0.92      0.84      1633\n",
      "\n",
      "    accuracy                           0.78      2581\n",
      "   macro avg       0.78      0.73      0.74      2581\n",
      "weighted avg       0.78      0.78      0.77      2581\n",
      "\n"
     ]
    }
   ],
   "source": [
    "best_models, feature_importances, pipelines = train_test_models(lasso_cor_train, target)"
   ]
  },
  {
   "cell_type": "code",
   "execution_count": 189,
   "metadata": {},
   "outputs": [],
   "source": [
    "def feature_importance(feature_importances_dict):\n",
    "    # Display feature importances\n",
    "    for name, feature_importances in feature_importances_dict.items():\n",
    "        print(f\"\\nFeature Importances for {name} model:\")\n",
    "        if feature_importances:\n",
    "            for feature, importance in sorted(feature_importances.items(), key=lambda x: x[1], reverse=True):\n",
    "                print(f\"{feature}: {importance}\")\n",
    "        else:\n",
    "            print(f\"No feature importances available for {name} model.\")\n"
   ]
  },
  {
   "cell_type": "code",
   "execution_count": 190,
   "metadata": {},
   "outputs": [],
   "source": [
    "# feature_importance(base_feature_importances)"
   ]
  },
  {
   "cell_type": "code",
   "execution_count": 191,
   "metadata": {},
   "outputs": [
    {
     "name": "stdout",
     "output_type": "stream",
     "text": [
      "\n",
      "Feature Importances for RandomForest model:\n",
      "breast_cancer_diagnosis_code: 0.6710367211983231\n",
      "patient_age: 0.05616571049180028\n",
      "metastatic_cancer_diagnosis_code: 0.04157139671400754\n",
      "payer_type: 0.01480735761237983\n",
      "patient_state: 0.01263309690201596\n",
      "patient_zip3: 0.011761871780672272\n",
      "labor_force_participation: 0.011611226167749478\n",
      "commute_time: 0.011310772601608836\n",
      "Ozone: 0.011287685125500282\n",
      "health_uninsured: 0.011123917702017008\n",
      "unemployment_rate: 0.010919803466699017\n",
      "income_household_75_to_100: 0.010739280907665714\n",
      "self_employed: 0.010488951065072619\n",
      "PM25: 0.010439913201969634\n",
      "age_30s: 0.010321386268013027\n",
      "education_less_highschool: 0.010175264110239501\n",
      "rent_median: 0.009698981487958032\n",
      "density: 0.009684317414538192\n",
      "limited_english: 0.009551607700303893\n",
      "poverty: 0.009451017526813833\n",
      "family_size: 0.009389917908921455\n",
      "N02: 0.009388811763294884\n",
      "income_individual_median: 0.008992423823761487\n",
      "patient_race: 0.008910648228917514\n",
      "farmer: 0.008537918829756541\n",
      "\n",
      "Feature Importances for SVM model:\n",
      "No feature importances available for SVM model.\n",
      "\n",
      "Feature Importances for KNN model:\n",
      "No feature importances available for KNN model.\n"
     ]
    }
   ],
   "source": [
    "feature_importance(feature_importances)"
   ]
  },
  {
   "cell_type": "code",
   "execution_count": 192,
   "metadata": {},
   "outputs": [],
   "source": [
    "def predict_test_set(pipelines, best_models, test, patient_id):\n",
    "    \"\"\"\n",
    "    Predict the target variable using the provided models on the test set.\n",
    "    \n",
    "    Parameters:\n",
    "        pipelines (dict): Dictionary containing the pipelines for each model.\n",
    "        best_models (dict): Dictionary containing the best models for each classifier.\n",
    "        test (pd.DataFrame): Test dataset.\n",
    "        patient_id (pd.Series): Series containing patient IDs.\n",
    "        \n",
    "    Returns:\n",
    "        predictions (dict): Dictionary containing the predicted values for each model.\n",
    "    \"\"\"\n",
    "    predictions = {}\n",
    "    for name, model in best_models.items():\n",
    "        y_pred = model.predict(test)\n",
    "        predictions[name] = y_pred\n",
    "\n",
    "    # Insert patient_id to RandomForest predictions\n",
    "    predictions['RandomForest'] = pd.DataFrame(predictions['RandomForest'], columns=['DiagPeriodL90D'])\n",
    "    predictions['RandomForest'].insert(0, 'patient_id', patient_id)\n",
    "\n",
    "    predictions['SVM'] = pd.DataFrame(predictions['SVM'], columns=['DiagPeriodL90D'])\n",
    "    predictions['SVM'].insert(0, 'patient_id', patient_id)\n",
    "\n",
    "    predictions['KNN'] = pd.DataFrame(predictions['SVM'], columns=['DiagPeriodL90D'])\n",
    "    predictions['KNN'].insert(0, 'patient_id', patient_id)\n",
    "\n",
    "    return predictions['RandomForest'], predictions['SVM'], predictions['KNN']\n",
    "\n",
    "RandomForest_result, SVM_result, KNN_result = predict_test_set(pipelines, best_models, lasso_cor_test, patient_id)\n"
   ]
  },
  {
   "cell_type": "code",
   "execution_count": 193,
   "metadata": {},
   "outputs": [
    {
     "data": {
      "text/plain": [
       "25"
      ]
     },
     "execution_count": 193,
     "metadata": {},
     "output_type": "execute_result"
    }
   ],
   "source": [
    "len(feature_importances['RandomForest'].keys())"
   ]
  },
  {
   "cell_type": "code",
   "execution_count": 194,
   "metadata": {},
   "outputs": [],
   "source": [
    "forest_imp_feats = pd.DataFrame(feature_importances['RandomForest'].keys(), columns=['imp_features'])\n",
    "forest_imp_feats.to_csv('forest_imp_feats.csv', index=False)"
   ]
  },
  {
   "cell_type": "code",
   "execution_count": 195,
   "metadata": {},
   "outputs": [],
   "source": [
    "RandomForest_result.to_csv('forest_result.csv', index=False)\n",
    "SVM_result.to_csv('svm_result.csv', index=False)\n",
    "KNN_result.to_csv('knn_result.csv', index=False)"
   ]
  }
 ],
 "metadata": {
  "kernelspec": {
   "display_name": "Python 3",
   "language": "python",
   "name": "python3"
  },
  "language_info": {
   "codemirror_mode": {
    "name": "ipython",
    "version": 3
   },
   "file_extension": ".py",
   "mimetype": "text/x-python",
   "name": "python",
   "nbconvert_exporter": "python",
   "pygments_lexer": "ipython3",
   "version": "3.10.8"
  }
 },
 "nbformat": 4,
 "nbformat_minor": 2
}
