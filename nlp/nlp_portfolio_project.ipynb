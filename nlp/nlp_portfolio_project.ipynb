{
 "cells": [
  {
   "cell_type": "markdown",
   "metadata": {},
   "source": [
    "# Movie Review\n",
    "\n",
    "The goal of this project is to analyse IMDB movie reviews texts using various NLP techniques and libraries. A dataset that we are going to use is ment mainly for binary sentiment classification and perform this particular type of analysis will, indeed, be our primary goal, but additionaly we'll find the most common movie themes and topics users wrote about, determine how similar various users’ texts are (by topic, vocabulary use and Levenshtein distance) and, finally, create frequency distributions for key words/phrases. \n",
    "\n",
    "Thanks to authors of this dataset it contains substantially more data than previous benchmark datasets. They provide a set of 25,000 highly polar movie reviews for training, and 25,000 for testing. In this regard, I respectfully would like to draw your attention to their research paper: [Learning Word Vectors for Sentiment Analysis](https://aclanthology.org/P11-1015) (Maas et al., ACL 2011)\n",
    "\n",
    "## EDA\n",
    "\n",
    "Let's import necessary libraries and methods crucial for further work and look at our dataset. We are going to upload data via `pandas` to see if it would facilitate further analysis."
   ]
  },
  {
   "cell_type": "code",
   "execution_count": 1,
   "metadata": {},
   "outputs": [],
   "source": [
    "import pandas as pd\n",
    "import os\n",
    "import pickle\n",
    "import re\n",
    "from nltk import pos_tag_sents, RegexpParser\n",
    "from nltk import word_tokenize, sent_tokenize\n",
    "from IPython.display import display"
   ]
  },
  {
   "cell_type": "markdown",
   "metadata": {},
   "source": [
    "Note: we are going to use `pickle` to speed up running time of certain cells after restart of a Kernel, so in some cells will be placed `pickle` functions. "
   ]
  },
  {
   "cell_type": "code",
   "execution_count": 2,
   "metadata": {},
   "outputs": [],
   "source": [
    "def pickle_object(object, file_path):\n",
    "    with open(file_path, 'wb') as f:\n",
    "        pickle.dump(object, f)\n",
    "\n",
    "def unpickle_object(file_path):\n",
    "    if not os.path.isfile(file_path):\n",
    "        return None\n",
    "    with open(file_path, 'rb') as f:\n",
    "        return pickle.load(f)\n",
    "\n",
    "def with_pickle(file_path, fun):\n",
    "    value = unpickle_object(file_path)\n",
    "    if value is None:\n",
    "        value = fun()\n",
    "        pickle_object(value, file_path)\n",
    "    return value"
   ]
  },
  {
   "cell_type": "markdown",
   "metadata": {},
   "source": [
    "Now let's upload data into `pandas` DataFrame and see first several rows. "
   ]
  },
  {
   "cell_type": "code",
   "execution_count": 3,
   "metadata": {},
   "outputs": [
    {
     "data": {
      "text/html": [
       "<div>\n",
       "<style scoped>\n",
       "    .dataframe tbody tr th:only-of-type {\n",
       "        vertical-align: middle;\n",
       "    }\n",
       "\n",
       "    .dataframe tbody tr th {\n",
       "        vertical-align: top;\n",
       "    }\n",
       "\n",
       "    .dataframe thead th {\n",
       "        text-align: right;\n",
       "    }\n",
       "</style>\n",
       "<table border=\"1\" class=\"dataframe\">\n",
       "  <thead>\n",
       "    <tr style=\"text-align: right;\">\n",
       "      <th></th>\n",
       "      <th>review</th>\n",
       "      <th>sentiment</th>\n",
       "    </tr>\n",
       "  </thead>\n",
       "  <tbody>\n",
       "    <tr>\n",
       "      <th>0</th>\n",
       "      <td>One of the other reviewers has mentioned that after watching just 1 Oz episode you'll be hooked. They are right, as this is exactly what happened with me.&lt;br /&gt;&lt;br /&gt;The first thing that struck me about Oz was its brutality and unflinching scenes of violence, which set in right from the word GO. Trust me, this is not a show for the faint hearted or timid. This show pulls no punches with regards to drugs, sex or violence. Its is hardcore, in the classic use of the word.&lt;br /&gt;&lt;br /&gt;It is called OZ as that is the nickname given to the Oswald Maximum Security State Penitentary. It focuses mainly on Emerald City, an experimental section of the prison where all the cells have glass fronts and face inwards, so privacy is not high on the agenda. Em City is home to many..Aryans, Muslims, gangstas, Latinos, Christians, Italians, Irish and more....so scuffles, death stares, dodgy dealings and shady agreements are never far away.&lt;br /&gt;&lt;br /&gt;I would say the main appeal of the show is due to the fact that it goes where other shows wouldn't dare. Forget pretty pictures painted for mainstream audiences, forget charm, forget romance...OZ doesn't mess around. The first episode I ever saw struck me as so nasty it was surreal, I couldn't say I was ready for it, but as I watched more, I developed a taste for Oz, and got accustomed to the high levels of graphic violence. Not just violence, but injustice (crooked guards who'll be sold out for a nickel, inmates who'll kill on order and get away with it, well mannered, middle class inmates being turned into prison bitches due to their lack of street skills or prison experience) Watching Oz, you may become comfortable with what is uncomfortable viewing....thats if you can get in touch with your darker side.</td>\n",
       "      <td>positive</td>\n",
       "    </tr>\n",
       "    <tr>\n",
       "      <th>1</th>\n",
       "      <td>A wonderful little production. &lt;br /&gt;&lt;br /&gt;The filming technique is very unassuming- very old-time-BBC fashion and gives a comforting, and sometimes discomforting, sense of realism to the entire piece. &lt;br /&gt;&lt;br /&gt;The actors are extremely well chosen- Michael Sheen not only \"has got all the polari\" but he has all the voices down pat too! You can truly see the seamless editing guided by the references to Williams' diary entries, not only is it well worth the watching but it is a terrificly written and performed piece. A masterful production about one of the great master's of comedy and his life. &lt;br /&gt;&lt;br /&gt;The realism really comes home with the little things: the fantasy of the guard which, rather than use the traditional 'dream' techniques remains solid then disappears. It plays on our knowledge and our senses, particularly with the scenes concerning Orton and Halliwell and the sets (particularly of their flat with Halliwell's murals decorating every surface) are terribly well done.</td>\n",
       "      <td>positive</td>\n",
       "    </tr>\n",
       "    <tr>\n",
       "      <th>2</th>\n",
       "      <td>I thought this was a wonderful way to spend time on a too hot summer weekend, sitting in the air conditioned theater and watching a light-hearted comedy. The plot is simplistic, but the dialogue is witty and the characters are likable (even the well bread suspected serial killer). While some may be disappointed when they realize this is not Match Point 2: Risk Addiction, I thought it was proof that Woody Allen is still fully in control of the style many of us have grown to love.&lt;br /&gt;&lt;br /&gt;This was the most I'd laughed at one of Woody's comedies in years (dare I say a decade?). While I've never been impressed with Scarlet Johanson, in this she managed to tone down her \"sexy\" image and jumped right into a average, but spirited young woman.&lt;br /&gt;&lt;br /&gt;This may not be the crown jewel of his career, but it was wittier than \"Devil Wears Prada\" and more interesting than \"Superman\" a great comedy to go see with friends.</td>\n",
       "      <td>positive</td>\n",
       "    </tr>\n",
       "    <tr>\n",
       "      <th>3</th>\n",
       "      <td>Basically there's a family where a little boy (Jake) thinks there's a zombie in his closet &amp; his parents are fighting all the time.&lt;br /&gt;&lt;br /&gt;This movie is slower than a soap opera... and suddenly, Jake decides to become Rambo and kill the zombie.&lt;br /&gt;&lt;br /&gt;OK, first of all when you're going to make a film you must Decide if its a thriller or a drama! As a drama the movie is watchable. Parents are divorcing &amp; arguing like in real life. And then we have Jake with his closet which totally ruins all the film! I expected to see a BOOGEYMAN similar movie, and instead i watched a drama with some meaningless thriller spots.&lt;br /&gt;&lt;br /&gt;3 out of 10 just for the well playing parents &amp; descent dialogs. As for the shots with Jake: just ignore them.</td>\n",
       "      <td>negative</td>\n",
       "    </tr>\n",
       "    <tr>\n",
       "      <th>4</th>\n",
       "      <td>Petter Mattei's \"Love in the Time of Money\" is a visually stunning film to watch. Mr. Mattei offers us a vivid portrait about human relations. This is a movie that seems to be telling us what money, power and success do to people in the different situations we encounter. &lt;br /&gt;&lt;br /&gt;This being a variation on the Arthur Schnitzler's play about the same theme, the director transfers the action to the present time New York where all these different characters meet and connect. Each one is connected in one way, or another to the next person, but no one seems to know the previous point of contact. Stylishly, the film has a sophisticated luxurious look. We are taken to see how these people live and the world they live in their own habitat.&lt;br /&gt;&lt;br /&gt;The only thing one gets out of all these souls in the picture is the different stages of loneliness each one inhabits. A big city is not exactly the best place in which human relations find sincere fulfillment, as one discerns is the case with most of the people we encounter.&lt;br /&gt;&lt;br /&gt;The acting is good under Mr. Mattei's direction. Steve Buscemi, Rosario Dawson, Carol Kane, Michael Imperioli, Adrian Grenier, and the rest of the talented cast, make these characters come alive.&lt;br /&gt;&lt;br /&gt;We wish Mr. Mattei good luck and await anxiously for his next work.</td>\n",
       "      <td>positive</td>\n",
       "    </tr>\n",
       "  </tbody>\n",
       "</table>\n",
       "</div>"
      ],
      "text/plain": [
       "                                                                                                                                                                                                                                                                                                                                                                                                                                                                                                                                                                                                                                                                                                                                                                                                                                                                                                                                                                                                                                                                                                                                                                                                                                                                                                                                                                                                                                                                                                                                                                                                                                                                                                                                                                                                                              review  \\\n",
       "0  One of the other reviewers has mentioned that after watching just 1 Oz episode you'll be hooked. They are right, as this is exactly what happened with me.<br /><br />The first thing that struck me about Oz was its brutality and unflinching scenes of violence, which set in right from the word GO. Trust me, this is not a show for the faint hearted or timid. This show pulls no punches with regards to drugs, sex or violence. Its is hardcore, in the classic use of the word.<br /><br />It is called OZ as that is the nickname given to the Oswald Maximum Security State Penitentary. It focuses mainly on Emerald City, an experimental section of the prison where all the cells have glass fronts and face inwards, so privacy is not high on the agenda. Em City is home to many..Aryans, Muslims, gangstas, Latinos, Christians, Italians, Irish and more....so scuffles, death stares, dodgy dealings and shady agreements are never far away.<br /><br />I would say the main appeal of the show is due to the fact that it goes where other shows wouldn't dare. Forget pretty pictures painted for mainstream audiences, forget charm, forget romance...OZ doesn't mess around. The first episode I ever saw struck me as so nasty it was surreal, I couldn't say I was ready for it, but as I watched more, I developed a taste for Oz, and got accustomed to the high levels of graphic violence. Not just violence, but injustice (crooked guards who'll be sold out for a nickel, inmates who'll kill on order and get away with it, well mannered, middle class inmates being turned into prison bitches due to their lack of street skills or prison experience) Watching Oz, you may become comfortable with what is uncomfortable viewing....thats if you can get in touch with your darker side.   \n",
       "1                                                                                                                                                                                                                                                                                                                                                                                                                                                                                                                                                                                                                                                                                                                                                                                             A wonderful little production. <br /><br />The filming technique is very unassuming- very old-time-BBC fashion and gives a comforting, and sometimes discomforting, sense of realism to the entire piece. <br /><br />The actors are extremely well chosen- Michael Sheen not only \"has got all the polari\" but he has all the voices down pat too! You can truly see the seamless editing guided by the references to Williams' diary entries, not only is it well worth the watching but it is a terrificly written and performed piece. A masterful production about one of the great master's of comedy and his life. <br /><br />The realism really comes home with the little things: the fantasy of the guard which, rather than use the traditional 'dream' techniques remains solid then disappears. It plays on our knowledge and our senses, particularly with the scenes concerning Orton and Halliwell and the sets (particularly of their flat with Halliwell's murals decorating every surface) are terribly well done.   \n",
       "2                                                                                                                                                                                                                                                                                                                                                                                                                                                                                                                                                                                                                                                                                                                                                                                                                                                                     I thought this was a wonderful way to spend time on a too hot summer weekend, sitting in the air conditioned theater and watching a light-hearted comedy. The plot is simplistic, but the dialogue is witty and the characters are likable (even the well bread suspected serial killer). While some may be disappointed when they realize this is not Match Point 2: Risk Addiction, I thought it was proof that Woody Allen is still fully in control of the style many of us have grown to love.<br /><br />This was the most I'd laughed at one of Woody's comedies in years (dare I say a decade?). While I've never been impressed with Scarlet Johanson, in this she managed to tone down her \"sexy\" image and jumped right into a average, but spirited young woman.<br /><br />This may not be the crown jewel of his career, but it was wittier than \"Devil Wears Prada\" and more interesting than \"Superman\" a great comedy to go see with friends.   \n",
       "3                                                                                                                                                                                                                                                                                                                                                                                                                                                                                                                                                                                                                                                                                                                                                                                                                                                                                                                                                                                                                                                       Basically there's a family where a little boy (Jake) thinks there's a zombie in his closet & his parents are fighting all the time.<br /><br />This movie is slower than a soap opera... and suddenly, Jake decides to become Rambo and kill the zombie.<br /><br />OK, first of all when you're going to make a film you must Decide if its a thriller or a drama! As a drama the movie is watchable. Parents are divorcing & arguing like in real life. And then we have Jake with his closet which totally ruins all the film! I expected to see a BOOGEYMAN similar movie, and instead i watched a drama with some meaningless thriller spots.<br /><br />3 out of 10 just for the well playing parents & descent dialogs. As for the shots with Jake: just ignore them.   \n",
       "4                                                                                                                                                                                                                                                                                                                                                                                                                                                              Petter Mattei's \"Love in the Time of Money\" is a visually stunning film to watch. Mr. Mattei offers us a vivid portrait about human relations. This is a movie that seems to be telling us what money, power and success do to people in the different situations we encounter. <br /><br />This being a variation on the Arthur Schnitzler's play about the same theme, the director transfers the action to the present time New York where all these different characters meet and connect. Each one is connected in one way, or another to the next person, but no one seems to know the previous point of contact. Stylishly, the film has a sophisticated luxurious look. We are taken to see how these people live and the world they live in their own habitat.<br /><br />The only thing one gets out of all these souls in the picture is the different stages of loneliness each one inhabits. A big city is not exactly the best place in which human relations find sincere fulfillment, as one discerns is the case with most of the people we encounter.<br /><br />The acting is good under Mr. Mattei's direction. Steve Buscemi, Rosario Dawson, Carol Kane, Michael Imperioli, Adrian Grenier, and the rest of the talented cast, make these characters come alive.<br /><br />We wish Mr. Mattei good luck and await anxiously for his next work.   \n",
       "\n",
       "  sentiment  \n",
       "0  positive  \n",
       "1  positive  \n",
       "2  positive  \n",
       "3  negative  \n",
       "4  positive  "
      ]
     },
     "execution_count": 3,
     "metadata": {},
     "output_type": "execute_result"
    }
   ],
   "source": [
    "movie_reviews = pd.read_csv('imdb_dataset.csv')\n",
    "# Display full length text in column\n",
    "pd.options.display.max_colwidth = None\n",
    "movie_reviews.head(5)"
   ]
  },
  {
   "cell_type": "markdown",
   "metadata": {},
   "source": [
    "Reviews text is medium length and does not look too noisy from the first glance. We see some HTML tags and that's basically it for the first few texts. We are going to check in depth some other \"noise issues\" of this text, but let's first check how many positive and negative reviews this dataset contains exactly. "
   ]
  },
  {
   "cell_type": "code",
   "execution_count": 4,
   "metadata": {},
   "outputs": [
    {
     "data": {
      "text/plain": [
       "25000"
      ]
     },
     "execution_count": 4,
     "metadata": {},
     "output_type": "execute_result"
    }
   ],
   "source": [
    "(movie_reviews.sentiment =='negative').sum()"
   ]
  },
  {
   "cell_type": "code",
   "execution_count": 5,
   "metadata": {},
   "outputs": [
    {
     "data": {
      "text/plain": [
       "25000"
      ]
     },
     "execution_count": 5,
     "metadata": {},
     "output_type": "execute_result"
    }
   ],
   "source": [
    "(movie_reviews.sentiment =='positive').sum() "
   ]
  },
  {
   "cell_type": "code",
   "execution_count": 6,
   "metadata": {},
   "outputs": [
    {
     "data": {
      "text/plain": [
       "50000"
      ]
     },
     "execution_count": 6,
     "metadata": {},
     "output_type": "execute_result"
    }
   ],
   "source": [
    "len(movie_reviews)"
   ]
  },
  {
   "cell_type": "markdown",
   "metadata": {},
   "source": [
    "So, of 50 thousand reviews exactly half marked as \"negative\" and the other half as \"positive\". Considering, there are only 2 columns in this DataFrame, which are \"review\" texts themselves and their \"sentiment\", there is not much quck insights we can get out of the dataset without applying NLP methods, so let's get to noise removal part.\n",
    "\n",
    "## Noise Removal\n",
    "\n",
    "We'll start with pretty standart noise removal:\n",
    "- HTML tags;\n",
    "- Links."
   ]
  },
  {
   "cell_type": "code",
   "execution_count": 7,
   "metadata": {},
   "outputs": [],
   "source": [
    "def remove_html_tags():\n",
    "    movie_reviews.review = movie_reviews.review.str.replace(r'<br />|</?(i|p|em|hr)|', '', regex=True)\n",
    "    return movie_reviews\n",
    "\n",
    "# Remove HTML tags\n",
    "movie_reviews = with_pickle('pickles/html_tags_removed.pickle', remove_html_tags)"
   ]
  },
  {
   "cell_type": "code",
   "execution_count": 8,
   "metadata": {},
   "outputs": [],
   "source": [
    "# Remove links\n",
    "movie_reviews.review = movie_reviews.review.str.replace(r'''[(http(s)?):\\/\\/(www\\.)?a-zA-Z0-9@:%._\\+~#=]{2,256}\\.[a-z]{2,6}\\b([-a-zA-Z0-9@:%_\\+.~#?&//=]*)''', '', regex=True)"
   ]
  },
  {
   "cell_type": "markdown",
   "metadata": {},
   "source": [
    "To check the results after applying our nose removal `regex` expressions and find other different flaws of this dataset we'll use pretty sophysticated codesnippet from StackOverflow which highlights user entered strings or regex expressions. \n",
    "\n",
    "Using this method we may not only check data for noise, but also find some interesting text properties, like `emoticons`. There is a huge ammount of valuable sentiment information hidden withing these symbols, yet not many public libraries are capable of their efficient interpretation. After some reseach of available libraries I decided to leave these symbols as they are, but in the future it could be benificial to \"translate\" them to text strings, meaningful for text processing algorithms. There are some examples of text containing different types of `emoticons` below. "
   ]
  },
  {
   "cell_type": "code",
   "execution_count": 9,
   "metadata": {},
   "outputs": [
    {
     "data": {
      "text/html": [
       "\n",
       "    <table>\n",
       "        <thead>\n",
       "            <th> review </th><th> sentiment </th>\n",
       "        </thead>\n",
       "    <tbody><tr><td> I have to say that this miniseries was the best interpretation of the beloved novel \"Jane Eyre\". Both Dalton and Clarke are very believable as Rochester and Jane. I've seen other versions, but none compare to this one. The best one for me. I could never imagine anyone else playing these characters ever again. The last time I saw this one was in 1984 when I was only 13. At that time, I was a bookworm and I had just read Charlotte Bronte's novel. I was completely enchanted by this miniseries and I remember not missing any of the episodes. I'd like to see it again because it's so good. <span style='color:red;'>:-)</span> </td></tr><td> positive </td></tr><tr><td> This was one of my favorite series when I was a kid. The Swedish broadcasting company decided to broadcast it once again a couple of summers ago when I had just finished my first semester of medical school. I was surprised to see the depth in which the organs was explained. Sure, some things are simplified but most of it was correct (even though it was made 22 years ago!) and quite understandable. I would suggest that all soon-to-be medical student should watch it. It is a very good way to learn some of the basic medical words for example. Now I'm in my 7th semester and I think I'll watch the series once again as soon as I've bought the DVD-box <span style='color:red;'>:-)</span> </td></tr><td> positive </td></tr></tbody></table>"
      ],
      "text/plain": [
       "<IPython.core.display.HTML object>"
      ]
     },
     "metadata": {},
     "output_type": "display_data"
    }
   ],
   "source": [
    "from IPython.display import HTML\n",
    "def display_highlighted_words(df, keywords):\n",
    "    head = \"\"\"\n",
    "    <table>\n",
    "        <thead>\n",
    "            \"\"\" + \\\n",
    "            \"\".join([\"<th> %s </th>\" % c for c in df.columns])\\\n",
    "            + \"\"\"\n",
    "        </thead>\n",
    "    <tbody>\"\"\"\n",
    "\n",
    "    for i,r in df.iterrows():\n",
    "        row = \"<tr>\"\n",
    "        for c in df.columns:\n",
    "            matches = []\n",
    "            for k in keywords:\n",
    "                for match in re.finditer(k, str(r[c])):\n",
    "                    matches.append(match)\n",
    "        \n",
    "            # reverse sorting\n",
    "            matches = sorted(matches, key = lambda x: x.start(), reverse=True)\n",
    "        \n",
    "            # building HTML row\n",
    "            cell = str(r[c])\n",
    "            for match in matches:\n",
    "                cell = cell[:match.start()] +\\\n",
    "                    \"<span style='color:red;'>%s</span>\" % cell[match.start():match.end()] +\\\n",
    "                    cell[match.end():]\n",
    "            row += \"<td> %s </td>\" % cell\n",
    "                \n",
    "            row += \"</tr>\"\n",
    "        head += row\n",
    "\n",
    "    head += \"</tbody></table>\"\n",
    "    display(HTML(head))\n",
    "\n",
    "display_highlighted_words(movie_reviews[movie_reviews.review.str.contains(r':-\\)')][:2], [':-\\)'])\n"
   ]
  },
  {
   "cell_type": "code",
   "execution_count": 13,
   "metadata": {},
   "outputs": [
    {
     "data": {
      "text/html": [
       "\n",
       "    <table>\n",
       "        <thead>\n",
       "            <th> review </th><th> sentiment </th>\n",
       "        </thead>\n",
       "    <tbody><tr><td> Since the last horrid Astérix film and the fact that we only get the Swiss German version in cinemas, here, I went to watch it with quite a bit of trepidation... Unfounded, as I was happy to discover <span style='color:red;'>^</span><span style='color:red;'>_</span><span style='color:red;'>_</span><span style='color:red;'>_</span><span style='color:red;'>_</span><span style='color:red;'>^</span>The film is funny and modern, has good gags, a good animation, an amusing character interaction, a good voice cast (Note: I can only speak for the Swiss German one!) except for the Viking chief's daughter Abba (her name is great, despite the not very inspired voice actress)...I especially liked the character Justforkix (Goudurix in French, Grautvornix in German. He's the young man who is supposed to be put in shape...). He's a very amusing portrayal of a mollycoddled, urban teenager; but he's very likable, despite the teenage mannerisms... XD The interaction between Astérix & Obélix and their young charge is fantastic and thoroughly entertaining.It shouldn't be compared to the old films, since this one is quite different... Which surprisingly doesn't make it bad. On the contrary. When they tried to modernize the last film (twelve years ago), they completely blew it. This film, however, proved that it can be done just fine... <span style='color:red;'>^</span><span style='color:red;'>-</span><span style='color:red;'>^</span>I came out of the theater cheerful... Always a good sign <span style='color:red;'>^</span><span style='color:red;'>_</span><span style='color:red;'>~</span> </td></tr><td> positive </td></tr><tr><td> Just finished watching the movie and wanted to give my own opinion(and justice) to the movie.First of all, to get things straight, this movie is not pretending to be anything other than a solid action comedy movie. It doesn't aim to revolutionize the movie industry and garner critical acclaims nor does it want to be regarded as one. If you really want to enjoy this movie to the fullest, I suggest you discard your critical<span style='color:red;'>-</span>mindedness and your longing for a good plot because you won't find any in here. With that established, let us further into the movie.I had low expectations for this movie simply because it didn't have a strong plot(Yes, moviegoers, I underrated this movie as well), but I never expected myself to enjoy this movie that much. I even enjoyed this more than the Stephen Chow flicks(which I find Kung Fu Hustle to be his best effort and would've rated it a 9 as well). Action is tight and epic while comedy chokes on to the right places.SPOILERS alert, I think The action might be unreal, but why would I want to watch a serious basketball movie anyways? There are a lot other sports movies(drama) that already did it well, why create another? SPOILERS endI'm not even sure why you're reading this. Go ahead and watch it. Just remember, no thinking <span style='color:red;'>-</span> just watch, enjoy, smile, laugh, and Every once in a while they(the movie industry) creates masterpieces such as Pulp Fiction or The Godfather movies, and sometimes they create movies which are better off in the pile of dump. I'm not saying Kung Fu Dunk deserves the recognition that the previous examples have, then again, if we're talking about Stephen Chow<span style='color:red;'>-</span>ish comedy, this one's a top ten.Highly recommended if you love: <span style='color:red;'>-</span>no brainer movies with really good action <span style='color:red;'>-</span>Kung Fu <span style='color:red;'>-</span>Death Trance <span style='color:red;'>-</span>Kung Fu and comedy <span style='color:red;'>-</span>what the heck, watch this. you'll have a great time.9/10 for you the cast of Kung Fu Dunk. <span style='color:red;'>^</span><span style='color:red;'>_</span><span style='color:red;'>^</span> </td></tr><td> positive </td></tr><tr><td> Susie Q. is one of those rare, and sweet movies that give you a warm feeling. It's bittersweet, but wholesome, and it's characters are fun, and captivating. At first, I thought the movie would be the cliché cuddly movie that would bore me after five minutes, but was I wrong. It made me tear up at times, and it's plot was enticing, making me root for the good guys. I loved the movie, and still remember it today, 9 years later!! I recommend it highly to ANYONE, and the movie is family oriented, so you won't have to worry about unsuitable content. Truly, if Disney would show more movies that are up to par as Susie Q., it would be the most popular family oriented channel in the world. Now if only Disney would show it just ONE more time!<span style='color:red;'>^</span><span style='color:red;'>_</span><span style='color:red;'>^</span> Go Susie Q.!! </td></tr><td> positive </td></tr><tr><td> Okay, this may not be the most sophisticated movie you'll ever see. Actually, there isn't a bit of \"sophisticatedlyness\"* in it. It's puerile, adolescent, inoffensive, idiotic..And utterly hilarious. Basically, Richie and Eddie run the worst hotel in Britain. Cue some ridiculous antics with the guests while they beat each other up, try to get the rent money out of the only resident who is daft enough to stay, have an all night drinking binge with the boys from the power plant next door...And fall in lust with the beautiful actress who comes to stay to avoid the press. Give it a try if you're a fan of Rik and Ade and their work. If you're not...Don't get the movie. Simple as that.*I'm not being thick, this is a word from another one of Rik's fab jaunts into the movie world <span style='color:red;'>^</span><span style='color:red;'>_</span><span style='color:red;'>^</span> </td></tr><td> positive </td></tr><tr><td> I love this movie... it can make me laugh! <span style='color:red;'>=</span><span style='color:red;'>^</span><span style='color:red;'>_</span><span style='color:red;'>^</span><span style='color:red;'>=</span> Which is kinda hard to do. This movie is one of the best cartoon adaptations ever. It doesn't warp the characters like other movies out there. Everyone is in character and has a role to play!The movie focuses around Buster and Babs going down river after a flood (courtesy of Buster), to Plucky going on a trip with Hamton (hilarious stuff), Elmyra running around torturing animals (as usual), Fifi following her crush around for an autograph, and Shirley and Fowlmouth going to the movies.In my own personal opinion, I didn't like the Buster and Babs segments that much, although they had some notable dialogue and jokes. I have got to say the Plucky and Hampton 'Vacation' parts were the best! Hamton's family is HILARIOUS! I especially like Uncle Stinky. Fifi in the hotel was also hilarious. I love the actor cameos during this scene. :DProbably the most famous part in this movie, again IMHO, is when Fowlmouth and Shirley are in the movie theater... LOL! You've got to see it to appreciate it! And when Hamton and Plucky go through the tunnel to make a wish... :)Although this movie moved slowly during the Buster/Babs parts, the rest is pure gold! I rate this movie 8/10. Show this to your kids one day... or even adults yourselves <span style='color:red;'>-</span> WATCH THIS MOVIE! You won't regret it. </td></tr><td> positive </td></tr></tbody></table>"
      ],
      "text/plain": [
       "<IPython.core.display.HTML object>"
      ]
     },
     "metadata": {},
     "output_type": "display_data"
    }
   ],
   "source": [
    "display_highlighted_words(movie_reviews[movie_reviews.review.str.contains(r'\\^_+')][2:7], ['_', '\\^', '-', '~', '='])"
   ]
  },
  {
   "cell_type": "markdown",
   "metadata": {},
   "source": [
    "Other interesting thing that is probably specific to reviews in general - users tend to give their personal score on the scale from one to 10, which can be a big help for machine learning algorithms if interpreted correctly. As well as `emoticons`, `user scores` are worth looking into on the further stages of algorithms tunning so I'll leave them in place with other digits for now. "
   ]
  },
  {
   "cell_type": "markdown",
   "metadata": {},
   "source": [
    "## Pre-processing\n",
    "\n",
    "Now that we removed at least some noise we are going to apply text preprocessing methods. We are going to need part of speech tagging applied to these reviews for different kinds of analysis ahead, but to make it more relevant and efficient we will apply `pos_tag` method to the whole, mostly unchanged, sentence, this way parts of speach will be determined by context hence, in theory, more accurate. \n",
    "\n",
    "To achieve it we first are going to tokenise each review by sentence and then by words before feeding it to `tag_sents` method."
   ]
  },
  {
   "cell_type": "code",
   "execution_count": null,
   "metadata": {},
   "outputs": [],
   "source": [
    "def word_sent_tokenize(text):\n",
    "    word_sent_tokenized = [word_tokenize(s) for s in sent_tokenize(text)]\n",
    "    return word_sent_tokenized"
   ]
  },
  {
   "cell_type": "code",
   "execution_count": null,
   "metadata": {},
   "outputs": [],
   "source": [
    "def tokenize_df():\n",
    "    movie_reviews['sent_tokenized'] = movie_reviews.review.apply(word_sent_tokenize)\n",
    "    return movie_reviews\n",
    "\n",
    "movie_reviews = with_pickle('pickles/sent_tokenized.pickle', tokenize_df)"
   ]
  },
  {
   "cell_type": "code",
   "execution_count": 17,
   "metadata": {},
   "outputs": [
    {
     "data": {
      "text/html": [
       "<div>\n",
       "<style scoped>\n",
       "    .dataframe tbody tr th:only-of-type {\n",
       "        vertical-align: middle;\n",
       "    }\n",
       "\n",
       "    .dataframe tbody tr th {\n",
       "        vertical-align: top;\n",
       "    }\n",
       "\n",
       "    .dataframe thead th {\n",
       "        text-align: right;\n",
       "    }\n",
       "</style>\n",
       "<table border=\"1\" class=\"dataframe\">\n",
       "  <thead>\n",
       "    <tr style=\"text-align: right;\">\n",
       "      <th></th>\n",
       "      <th>review</th>\n",
       "      <th>sentiment</th>\n",
       "      <th>sent_tokenized</th>\n",
       "      <th>sent_pos_tagged</th>\n",
       "    </tr>\n",
       "  </thead>\n",
       "  <tbody>\n",
       "    <tr>\n",
       "      <th>0</th>\n",
       "      <td>One of the other reviewers has mentioned that after watching just 1 Oz episode you'll be hooked. They are right, as this is exactly what happened with me.The first thing that struck me about Oz was its brutality and unflinching scenes of violence, which set in right from the word GO. Trust me, this is not a show for the faint hearted or timid. This show pulls no punches with regards to drugs, sex or violence. Its is hardcore, in the classic use of the word.It is called OZ as that is the nickname given to the Oswald Maximum Security State Penitentary. It focuses mainly on Emerald City, an experimental section of the prison where all the cells have glass fronts and face inwards, so privacy is not high on the agenda. Em City is home to many..Aryans, Muslims, gangstas, Latinos, Christians, Italians, Irish and  scuffles, death stares, dodgy dealings and shady agreements are never far away.I would say the main appeal of the show is due to the fact that it goes where other shows wouldn't dare. Forget pretty pictures painted for mainstream audiences, forget charm, forget romance...OZ doesn't mess around. The first episode I ever saw struck me as so nasty it was surreal, I couldn't say I was ready for it, but as I watched more, I developed a taste for Oz, and got accustomed to the high levels of graphic violence. Not just violence, but injustice (crooked guards who'll be sold out for a nickel, inmates who'll kill on order and get away with it, well mannered, middle class inmates being turned into prison bitches due to their lack of street skills or prison experience) Watching Oz, you may become comfortable with what is uncomfortable  if you can get in touch with your darker side.</td>\n",
       "      <td>positive</td>\n",
       "      <td>[[One, of, the, other, reviewers, has, mentioned, that, after, watching, just, 1, Oz, episode, you, 'll, be, hooked, .], [They, are, right, ,, as, this, is, exactly, what, happened, with, me.The, first, thing, that, struck, me, about, Oz, was, its, brutality, and, unflinching, scenes, of, violence, ,, which, set, in, right, from, the, word, GO, .], [Trust, me, ,, this, is, not, a, show, for, the, faint, hearted, or, timid, .], [This, show, pulls, no, punches, with, regards, to, drugs, ,, sex, or, violence, .], [Its, is, hardcore, ,, in, the, classic, use, of, the, word.It, is, called, OZ, as, that, is, the, nickname, given, to, the, Oswald, Maximum, Security, State, Penitentary, .], [It, focuses, mainly, on, Emerald, City, ,, an, experimental, section, of, the, prison, where, all, the, cells, have, glass, fronts, and, face, inwards, ,, so, privacy, is, not, high, on, the, agenda, .], [Em, City, is, home, to, many, .., Aryans, ,, Muslims, ,, gangstas, ,, Latinos, ,, Christians, ,, Italians, ,, Irish, and, scuffles, ,, death, stares, ,, dodgy, dealings, and, shady, agreements, are, never, far, away.I, would, say, the, main, appeal, of, the, show, is, due, to, the, fact, that, it, goes, where, other, shows, would, n't, dare, .], [Forget, pretty, pictures, painted, for, mainstream, audiences, ,, forget, charm, ,, forget, romance, ..., OZ, does, n't, mess, around, .], [The, first, episode, I, ever, saw, struck, me, as, so, nasty, it, was, surreal, ,, I, could, n't, say, I, was, ready, for, it, ,, but, as, I, watched, more, ,, I, developed, a, taste, for, Oz, ,, and, got, accustomed, to, the, high, levels, of, graphic, violence, .], [Not, just, violence, ,, but, injustice, (, crooked, guards, who, 'll, be, sold, out, for, a, nickel, ,, inmates, who, 'll, kill, on, order, and, get, away, with, it, ,, well, mannered, ,, middle, class, inmates, being, turned, into, prison, bitches, due, to, their, lack, of, street, skills, or, prison, experience, ), Watching, Oz, ,, you, may, become, comfortable, with, what, is, uncomfortable, if, you, can, get, in, touch, with, your, darker, side, .]]</td>\n",
       "      <td>[[(One, CD), (of, IN), (the, DT), (other, JJ), (reviewers, NNS), (has, VBZ), (mentioned, VBN), (that, IN), (after, IN), (watching, VBG), (just, RB), (1, CD), (Oz, NNP), (episode, NN), (you, PRP), ('ll, MD), (be, VB), (hooked, VBN), (., .)], [(They, PRP), (are, VBP), (right, JJ), (,, ,), (as, IN), (this, DT), (is, VBZ), (exactly, RB), (what, WP), (happened, VBD), (with, IN), (me.The, NN), (first, JJ), (thing, NN), (that, WDT), (struck, VBD), (me, PRP), (about, IN), (Oz, NNP), (was, VBD), (its, PRP$), (brutality, NN), (and, CC), (unflinching, JJ), (scenes, NNS), (of, IN), (violence, NN), (,, ,), (which, WDT), (set, VBP), (in, IN), (right, NN), (from, IN), (the, DT), (word, NN), (GO, NNP), (., .)], [(Trust, NNP), (me, PRP), (,, ,), (this, DT), (is, VBZ), (not, RB), (a, DT), (show, NN), (for, IN), (the, DT), (faint, NN), (hearted, VBD), (or, CC), (timid, NNS), (., .)], [(This, DT), (show, NN), (pulls, VBZ), (no, DT), (punches, NNS), (with, IN), (regards, NNS), (to, TO), (drugs, NNS), (,, ,), (sex, NN), (or, CC), (violence, NN), (., .)], [(Its, PRP$), (is, VBZ), (hardcore, NN), (,, ,), (in, IN), (the, DT), (classic, JJ), (use, NN), (of, IN), (the, DT), (word.It, NN), (is, VBZ), (called, VBN), (OZ, NNP), (as, IN), (that, DT), (is, VBZ), (the, DT), (nickname, JJ), (given, VBN), (to, TO), (the, DT), (Oswald, NNP), (Maximum, NNP), (Security, NNP), (State, NNP), (Penitentary, NNP), (., .)], [(It, PRP), (focuses, VBZ), (mainly, RB), (on, IN), (Emerald, NNP), (City, NNP), (,, ,), (an, DT), (experimental, JJ), (section, NN), (of, IN), (the, DT), (prison, NN), (where, WRB), (all, PDT), (the, DT), (cells, NNS), (have, VBP), (glass, NN), (fronts, NNS), (and, CC), (face, NN), (inwards, NNS), (,, ,), (so, RB), (privacy, NN), (is, VBZ), (not, RB), (high, JJ), (on, IN), (the, DT), (agenda, NN), (., .)], [(Em, NNP), (City, NNP), (is, VBZ), (home, VBN), (to, TO), (many, JJ), (.., JJ), (Aryans, NNPS), (,, ,), (Muslims, NNP), (,, ,), (gangstas, NN), (,, ,), (Latinos, NNP), (,, ,), (Christians, NNP), (,, ,), (Italians, NNP), (,, ,), (Irish, NNP), (and, CC), (scuffles, NNS), (,, ,), (death, NN), (stares, NNS), (,, ,), (dodgy, JJ), (dealings, NNS), (and, CC), (shady, JJ), (agreements, NNS), (are, VBP), (never, RB), (far, RB), (away.I, JJ), (would, MD), (say, VB), (the, DT), (main, JJ), (appeal, NN), (of, IN), (the, DT), (show, NN), (is, VBZ), (due, JJ), (to, TO), (the, DT), (fact, NN), (that, IN), (it, PRP), (goes, VBZ), (where, WRB), (other, JJ), (shows, NNS), (would, MD), (n't, RB), (dare, VB), (., .)], [(Forget, NNP), (pretty, JJ), (pictures, NNS), (painted, VBN), (for, IN), (mainstream, JJ), (audiences, NNS), (,, ,), (forget, VB), (charm, NN), (,, ,), (forget, VB), (romance, NN), (..., :), (OZ, NNP), (does, VBZ), (n't, RB), (mess, VB), (around, RP), (., .)], [(The, DT), (first, JJ), (episode, NN), (I, PRP), (ever, RB), (saw, VBD), (struck, VB), (me, PRP), (as, IN), (so, RB), (nasty, JJ), (it, PRP), (was, VBD), (surreal, JJ), (,, ,), (I, PRP), (could, MD), (n't, RB), (say, VB), (I, PRP), (was, VBD), (ready, JJ), (for, IN), (it, PRP), (,, ,), (but, CC), (as, IN), (I, PRP), (watched, VBD), (more, RBR), (,, ,), (I, PRP), (developed, VBD), (a, DT), (taste, NN), (for, IN), (Oz, NNP), (,, ,), (and, CC), (got, VBD), (accustomed, VBN), (to, TO), (the, DT), (high, JJ), (levels, NNS), (of, IN), (graphic, JJ), (violence, NN), (., .)], [(Not, RB), (just, RB), (violence, NN), (,, ,), (but, CC), (injustice, NN), ((, (), (crooked, JJ), (guards, NNS), (who, WP), ('ll, MD), (be, VB), (sold, VBN), (out, RP), (for, IN), (a, DT), (nickel, NN), (,, ,), (inmates, NNS), (who, WP), ('ll, MD), (kill, VB), (on, IN), (order, NN), (and, CC), (get, VB), (away, RB), (with, IN), (it, PRP), (,, ,), (well, RB), (mannered, VBN), (,, ,), (middle, JJ), (class, NN), (inmates, NNS), (being, VBG), (turned, VBN), (into, IN), (prison, NN), (bitches, NNS), (due, JJ), (to, TO), (their, PRP$), (lack, NN), (of, IN), (street, NN), (skills, NNS), (or, CC), (prison, NN), (experience, NN), (), )), (Watching, NNP), (Oz, NNP), (,, ,), (you, PRP), (may, MD), (become, VB), (comfortable, JJ), (with, IN), (what, WP), (is, VBZ), (uncomfortable, JJ), (if, IN), (you, PRP), (can, MD), (get, VB), (in, IN), (touch, JJ), (with, IN), (your, PRP$), (darker, NN), (side, NN), (., .)]]</td>\n",
       "    </tr>\n",
       "  </tbody>\n",
       "</table>\n",
       "</div>"
      ],
      "text/plain": [
       "                                                                                                                                                                                                                                                                                                                                                                                                                                                                                                                                                                                                                                                                                                                                                                                                                                                                                                                                                                                                                                                                                                                                                                                                                                                                                                                                                                                                                                                                                                                                                                                                                                                                                                                                                                review  \\\n",
       "0  One of the other reviewers has mentioned that after watching just 1 Oz episode you'll be hooked. They are right, as this is exactly what happened with me.The first thing that struck me about Oz was its brutality and unflinching scenes of violence, which set in right from the word GO. Trust me, this is not a show for the faint hearted or timid. This show pulls no punches with regards to drugs, sex or violence. Its is hardcore, in the classic use of the word.It is called OZ as that is the nickname given to the Oswald Maximum Security State Penitentary. It focuses mainly on Emerald City, an experimental section of the prison where all the cells have glass fronts and face inwards, so privacy is not high on the agenda. Em City is home to many..Aryans, Muslims, gangstas, Latinos, Christians, Italians, Irish and  scuffles, death stares, dodgy dealings and shady agreements are never far away.I would say the main appeal of the show is due to the fact that it goes where other shows wouldn't dare. Forget pretty pictures painted for mainstream audiences, forget charm, forget romance...OZ doesn't mess around. The first episode I ever saw struck me as so nasty it was surreal, I couldn't say I was ready for it, but as I watched more, I developed a taste for Oz, and got accustomed to the high levels of graphic violence. Not just violence, but injustice (crooked guards who'll be sold out for a nickel, inmates who'll kill on order and get away with it, well mannered, middle class inmates being turned into prison bitches due to their lack of street skills or prison experience) Watching Oz, you may become comfortable with what is uncomfortable  if you can get in touch with your darker side.   \n",
       "\n",
       "  sentiment  \\\n",
       "0  positive   \n",
       "\n",
       "                                                                                                                                                                                                                                                                                                                                                                                                                                                                                                                                                                                                                                                                                                                                                                                                                                                                                                                                                                                                                                                                                                                                                                                                                                                                                                                                                                                                                                                                                                                                                                                                                                                                                                                                                                                                                                                                                                                                                                                                                                                                                                                                                                                      sent_tokenized  \\\n",
       "0  [[One, of, the, other, reviewers, has, mentioned, that, after, watching, just, 1, Oz, episode, you, 'll, be, hooked, .], [They, are, right, ,, as, this, is, exactly, what, happened, with, me.The, first, thing, that, struck, me, about, Oz, was, its, brutality, and, unflinching, scenes, of, violence, ,, which, set, in, right, from, the, word, GO, .], [Trust, me, ,, this, is, not, a, show, for, the, faint, hearted, or, timid, .], [This, show, pulls, no, punches, with, regards, to, drugs, ,, sex, or, violence, .], [Its, is, hardcore, ,, in, the, classic, use, of, the, word.It, is, called, OZ, as, that, is, the, nickname, given, to, the, Oswald, Maximum, Security, State, Penitentary, .], [It, focuses, mainly, on, Emerald, City, ,, an, experimental, section, of, the, prison, where, all, the, cells, have, glass, fronts, and, face, inwards, ,, so, privacy, is, not, high, on, the, agenda, .], [Em, City, is, home, to, many, .., Aryans, ,, Muslims, ,, gangstas, ,, Latinos, ,, Christians, ,, Italians, ,, Irish, and, scuffles, ,, death, stares, ,, dodgy, dealings, and, shady, agreements, are, never, far, away.I, would, say, the, main, appeal, of, the, show, is, due, to, the, fact, that, it, goes, where, other, shows, would, n't, dare, .], [Forget, pretty, pictures, painted, for, mainstream, audiences, ,, forget, charm, ,, forget, romance, ..., OZ, does, n't, mess, around, .], [The, first, episode, I, ever, saw, struck, me, as, so, nasty, it, was, surreal, ,, I, could, n't, say, I, was, ready, for, it, ,, but, as, I, watched, more, ,, I, developed, a, taste, for, Oz, ,, and, got, accustomed, to, the, high, levels, of, graphic, violence, .], [Not, just, violence, ,, but, injustice, (, crooked, guards, who, 'll, be, sold, out, for, a, nickel, ,, inmates, who, 'll, kill, on, order, and, get, away, with, it, ,, well, mannered, ,, middle, class, inmates, being, turned, into, prison, bitches, due, to, their, lack, of, street, skills, or, prison, experience, ), Watching, Oz, ,, you, may, become, comfortable, with, what, is, uncomfortable, if, you, can, get, in, touch, with, your, darker, side, .]]   \n",
       "\n",
       "                                                                                                                                                                                                                                                                                                                                                                                                                                                                                                                                                                                                                                                                                                                                                                                                                                                                                                                                                                                                                                                                                                                                                                                                                                                                                                                                                                                                                                                                                                                                                                                                                                                                                                                                                                                                                                                                                                                                                                                                                                                                                                                                                                                                                                                                                                                                                                                                                                                                                                                                                                                                                                                                                                                                                                                                                                                                                                                                                                                                                                                                                                                                                                                                                                                                                                                                                                                                                                                                                                                                                                                                                                                                                                                                                                                                                                                                                                                                                                                                                                                                                                                                                                                                                                                                                                                                                                                                                                       sent_pos_tagged  \n",
       "0  [[(One, CD), (of, IN), (the, DT), (other, JJ), (reviewers, NNS), (has, VBZ), (mentioned, VBN), (that, IN), (after, IN), (watching, VBG), (just, RB), (1, CD), (Oz, NNP), (episode, NN), (you, PRP), ('ll, MD), (be, VB), (hooked, VBN), (., .)], [(They, PRP), (are, VBP), (right, JJ), (,, ,), (as, IN), (this, DT), (is, VBZ), (exactly, RB), (what, WP), (happened, VBD), (with, IN), (me.The, NN), (first, JJ), (thing, NN), (that, WDT), (struck, VBD), (me, PRP), (about, IN), (Oz, NNP), (was, VBD), (its, PRP$), (brutality, NN), (and, CC), (unflinching, JJ), (scenes, NNS), (of, IN), (violence, NN), (,, ,), (which, WDT), (set, VBP), (in, IN), (right, NN), (from, IN), (the, DT), (word, NN), (GO, NNP), (., .)], [(Trust, NNP), (me, PRP), (,, ,), (this, DT), (is, VBZ), (not, RB), (a, DT), (show, NN), (for, IN), (the, DT), (faint, NN), (hearted, VBD), (or, CC), (timid, NNS), (., .)], [(This, DT), (show, NN), (pulls, VBZ), (no, DT), (punches, NNS), (with, IN), (regards, NNS), (to, TO), (drugs, NNS), (,, ,), (sex, NN), (or, CC), (violence, NN), (., .)], [(Its, PRP$), (is, VBZ), (hardcore, NN), (,, ,), (in, IN), (the, DT), (classic, JJ), (use, NN), (of, IN), (the, DT), (word.It, NN), (is, VBZ), (called, VBN), (OZ, NNP), (as, IN), (that, DT), (is, VBZ), (the, DT), (nickname, JJ), (given, VBN), (to, TO), (the, DT), (Oswald, NNP), (Maximum, NNP), (Security, NNP), (State, NNP), (Penitentary, NNP), (., .)], [(It, PRP), (focuses, VBZ), (mainly, RB), (on, IN), (Emerald, NNP), (City, NNP), (,, ,), (an, DT), (experimental, JJ), (section, NN), (of, IN), (the, DT), (prison, NN), (where, WRB), (all, PDT), (the, DT), (cells, NNS), (have, VBP), (glass, NN), (fronts, NNS), (and, CC), (face, NN), (inwards, NNS), (,, ,), (so, RB), (privacy, NN), (is, VBZ), (not, RB), (high, JJ), (on, IN), (the, DT), (agenda, NN), (., .)], [(Em, NNP), (City, NNP), (is, VBZ), (home, VBN), (to, TO), (many, JJ), (.., JJ), (Aryans, NNPS), (,, ,), (Muslims, NNP), (,, ,), (gangstas, NN), (,, ,), (Latinos, NNP), (,, ,), (Christians, NNP), (,, ,), (Italians, NNP), (,, ,), (Irish, NNP), (and, CC), (scuffles, NNS), (,, ,), (death, NN), (stares, NNS), (,, ,), (dodgy, JJ), (dealings, NNS), (and, CC), (shady, JJ), (agreements, NNS), (are, VBP), (never, RB), (far, RB), (away.I, JJ), (would, MD), (say, VB), (the, DT), (main, JJ), (appeal, NN), (of, IN), (the, DT), (show, NN), (is, VBZ), (due, JJ), (to, TO), (the, DT), (fact, NN), (that, IN), (it, PRP), (goes, VBZ), (where, WRB), (other, JJ), (shows, NNS), (would, MD), (n't, RB), (dare, VB), (., .)], [(Forget, NNP), (pretty, JJ), (pictures, NNS), (painted, VBN), (for, IN), (mainstream, JJ), (audiences, NNS), (,, ,), (forget, VB), (charm, NN), (,, ,), (forget, VB), (romance, NN), (..., :), (OZ, NNP), (does, VBZ), (n't, RB), (mess, VB), (around, RP), (., .)], [(The, DT), (first, JJ), (episode, NN), (I, PRP), (ever, RB), (saw, VBD), (struck, VB), (me, PRP), (as, IN), (so, RB), (nasty, JJ), (it, PRP), (was, VBD), (surreal, JJ), (,, ,), (I, PRP), (could, MD), (n't, RB), (say, VB), (I, PRP), (was, VBD), (ready, JJ), (for, IN), (it, PRP), (,, ,), (but, CC), (as, IN), (I, PRP), (watched, VBD), (more, RBR), (,, ,), (I, PRP), (developed, VBD), (a, DT), (taste, NN), (for, IN), (Oz, NNP), (,, ,), (and, CC), (got, VBD), (accustomed, VBN), (to, TO), (the, DT), (high, JJ), (levels, NNS), (of, IN), (graphic, JJ), (violence, NN), (., .)], [(Not, RB), (just, RB), (violence, NN), (,, ,), (but, CC), (injustice, NN), ((, (), (crooked, JJ), (guards, NNS), (who, WP), ('ll, MD), (be, VB), (sold, VBN), (out, RP), (for, IN), (a, DT), (nickel, NN), (,, ,), (inmates, NNS), (who, WP), ('ll, MD), (kill, VB), (on, IN), (order, NN), (and, CC), (get, VB), (away, RB), (with, IN), (it, PRP), (,, ,), (well, RB), (mannered, VBN), (,, ,), (middle, JJ), (class, NN), (inmates, NNS), (being, VBG), (turned, VBN), (into, IN), (prison, NN), (bitches, NNS), (due, JJ), (to, TO), (their, PRP$), (lack, NN), (of, IN), (street, NN), (skills, NNS), (or, CC), (prison, NN), (experience, NN), (), )), (Watching, NNP), (Oz, NNP), (,, ,), (you, PRP), (may, MD), (become, VB), (comfortable, JJ), (with, IN), (what, WP), (is, VBZ), (uncomfortable, JJ), (if, IN), (you, PRP), (can, MD), (get, VB), (in, IN), (touch, JJ), (with, IN), (your, PRP$), (darker, NN), (side, NN), (., .)]]  "
      ]
     },
     "execution_count": 17,
     "metadata": {},
     "output_type": "execute_result"
    }
   ],
   "source": [
    "def tag_sents():\n",
    "    movie_reviews['sent_pos_tagged'] = movie_reviews.sent_tokenized.apply(pos_tag_sents)\n",
    "    return movie_reviews\n",
    "\n",
    "movie_reviews = with_pickle('pickles/pos_tagged.pickle', tag_sents)\n",
    "movie_reviews.head(1)"
   ]
  },
  {
   "cell_type": "markdown",
   "metadata": {},
   "source": [
    "TBC"
   ]
  }
 ],
 "metadata": {
  "interpreter": {
   "hash": "a166e61b3f1e7b9ccc9f59f78d7cc3087a9ccbb0b1a7cff444b301613a633a54"
  },
  "kernelspec": {
   "display_name": "Python 3.10.5 64-bit (windows store)",
   "language": "python",
   "name": "python3"
  },
  "language_info": {
   "codemirror_mode": {
    "name": "ipython",
    "version": 3
   },
   "file_extension": ".py",
   "mimetype": "text/x-python",
   "name": "python",
   "nbconvert_exporter": "python",
   "pygments_lexer": "ipython3",
   "version": "3.10.5"
  },
  "orig_nbformat": 4
 },
 "nbformat": 4,
 "nbformat_minor": 2
}
