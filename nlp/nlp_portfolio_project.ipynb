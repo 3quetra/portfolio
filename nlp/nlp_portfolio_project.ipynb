{
 "cells": [
  {
   "cell_type": "markdown",
   "metadata": {},
   "source": [
    "# Movie Review\n",
    "\n",
    "The goal of this project is to analyse IMDB movie reviews texts using various NLP techniques and libraries. A dataset that we are going to use is ment mainly for **binary sentiment classification** and perform this particular type of analysis will, indeed, be our primary goal, but additionaly we'll **use POS tagging and chunking to find commonly used nown and verb phrases** and **find the most common movie topics users wrote about (topic modeling using LDA)**.\n",
    "\n",
    "Thanks to authors of this dataset it contains substantially more data than previous benchmark datasets. They provide a set of 25,000 highly polar movie reviews for training, and 25,000 for testing. In this regard, I respectfully would like to draw your attention to their research paper: [Learning Word Vectors for Sentiment Analysis](https://aclanthology.org/P11-1015) (Maas et al., ACL 2011)\n",
    "\n",
    "## EDA\n",
    "\n",
    "Let's import necessary libraries and methods crucial for further work and look at our dataset. We are going to upload data via `pandas` to see if it would facilitate further analysis."
   ]
  },
  {
   "cell_type": "code",
   "execution_count": 1,
   "metadata": {},
   "outputs": [],
   "source": [
    "import pandas as pd\n",
    "import numpy as np\n",
    "import os\n",
    "import pickle\n",
    "import re, nltk\n",
    "from nltk import pos_tag_sents, RegexpParser\n",
    "from nltk import word_tokenize, sent_tokenize\n",
    "from IPython.display import display\n",
    "from nltk.corpus import stopwords"
   ]
  },
  {
   "cell_type": "markdown",
   "metadata": {},
   "source": [
    "Note: we are going to use `pickle` to speed up running time, so in some cells will be placed `pickle` functions."
   ]
  },
  {
   "cell_type": "code",
   "execution_count": 2,
   "metadata": {},
   "outputs": [],
   "source": [
    "def pickle_object(object, file_path):\n",
    "    with open(file_path, 'wb') as f:\n",
    "        pickle.dump(object, f)\n",
    "\n",
    "def unpickle_object(file_path):\n",
    "    if not os.path.isfile(file_path):\n",
    "        return None\n",
    "    with open(file_path, 'rb') as f:\n",
    "        return pickle.load(f)\n",
    "\n",
    "def with_pickle(file_path, fun):\n",
    "    value = unpickle_object(file_path)\n",
    "    if value is None:\n",
    "        value = fun()\n",
    "        pickle_object(value, file_path)\n",
    "    return value"
   ]
  },
  {
   "cell_type": "markdown",
   "metadata": {},
   "source": [
    "Now let's upload data into `pandas` DataFrame and see first several rows. "
   ]
  },
  {
   "cell_type": "code",
   "execution_count": 3,
   "metadata": {},
   "outputs": [
    {
     "data": {
      "text/html": [
       "<div>\n",
       "<style scoped>\n",
       "    .dataframe tbody tr th:only-of-type {\n",
       "        vertical-align: middle;\n",
       "    }\n",
       "\n",
       "    .dataframe tbody tr th {\n",
       "        vertical-align: top;\n",
       "    }\n",
       "\n",
       "    .dataframe thead th {\n",
       "        text-align: right;\n",
       "    }\n",
       "</style>\n",
       "<table border=\"1\" class=\"dataframe\">\n",
       "  <thead>\n",
       "    <tr style=\"text-align: right;\">\n",
       "      <th></th>\n",
       "      <th>review</th>\n",
       "      <th>sentiment</th>\n",
       "    </tr>\n",
       "  </thead>\n",
       "  <tbody>\n",
       "    <tr>\n",
       "      <th>0</th>\n",
       "      <td>One of the other reviewers has mentioned that after watching just 1 Oz episode you'll be hooked. They are right, as this is exactly what happened with me.&lt;br /&gt;&lt;br /&gt;The first thing that struck me about Oz was its brutality and unflinching scenes of violence, which set in right from the word GO. Trust me, this is not a show for the faint hearted or timid. This show pulls no punches with regards to drugs, sex or violence. Its is hardcore, in the classic use of the word.&lt;br /&gt;&lt;br /&gt;It is called OZ as that is the nickname given to the Oswald Maximum Security State Penitentary. It focuses mainly on Emerald City, an experimental section of the prison where all the cells have glass fronts and face inwards, so privacy is not high on the agenda. Em City is home to many..Aryans, Muslims, gangstas, Latinos, Christians, Italians, Irish and more....so scuffles, death stares, dodgy dealings and shady agreements are never far away.&lt;br /&gt;&lt;br /&gt;I would say the main appeal of the show is due to the fact that it goes where other shows wouldn't dare. Forget pretty pictures painted for mainstream audiences, forget charm, forget romance...OZ doesn't mess around. The first episode I ever saw struck me as so nasty it was surreal, I couldn't say I was ready for it, but as I watched more, I developed a taste for Oz, and got accustomed to the high levels of graphic violence. Not just violence, but injustice (crooked guards who'll be sold out for a nickel, inmates who'll kill on order and get away with it, well mannered, middle class inmates being turned into prison bitches due to their lack of street skills or prison experience) Watching Oz, you may become comfortable with what is uncomfortable viewing....thats if you can get in touch with your darker side.</td>\n",
       "      <td>positive</td>\n",
       "    </tr>\n",
       "    <tr>\n",
       "      <th>1</th>\n",
       "      <td>A wonderful little production. &lt;br /&gt;&lt;br /&gt;The filming technique is very unassuming- very old-time-BBC fashion and gives a comforting, and sometimes discomforting, sense of realism to the entire piece. &lt;br /&gt;&lt;br /&gt;The actors are extremely well chosen- Michael Sheen not only \"has got all the polari\" but he has all the voices down pat too! You can truly see the seamless editing guided by the references to Williams' diary entries, not only is it well worth the watching but it is a terrificly written and performed piece. A masterful production about one of the great master's of comedy and his life. &lt;br /&gt;&lt;br /&gt;The realism really comes home with the little things: the fantasy of the guard which, rather than use the traditional 'dream' techniques remains solid then disappears. It plays on our knowledge and our senses, particularly with the scenes concerning Orton and Halliwell and the sets (particularly of their flat with Halliwell's murals decorating every surface) are terribly well done.</td>\n",
       "      <td>positive</td>\n",
       "    </tr>\n",
       "    <tr>\n",
       "      <th>2</th>\n",
       "      <td>I thought this was a wonderful way to spend time on a too hot summer weekend, sitting in the air conditioned theater and watching a light-hearted comedy. The plot is simplistic, but the dialogue is witty and the characters are likable (even the well bread suspected serial killer). While some may be disappointed when they realize this is not Match Point 2: Risk Addiction, I thought it was proof that Woody Allen is still fully in control of the style many of us have grown to love.&lt;br /&gt;&lt;br /&gt;This was the most I'd laughed at one of Woody's comedies in years (dare I say a decade?). While I've never been impressed with Scarlet Johanson, in this she managed to tone down her \"sexy\" image and jumped right into a average, but spirited young woman.&lt;br /&gt;&lt;br /&gt;This may not be the crown jewel of his career, but it was wittier than \"Devil Wears Prada\" and more interesting than \"Superman\" a great comedy to go see with friends.</td>\n",
       "      <td>positive</td>\n",
       "    </tr>\n",
       "    <tr>\n",
       "      <th>3</th>\n",
       "      <td>Basically there's a family where a little boy (Jake) thinks there's a zombie in his closet &amp; his parents are fighting all the time.&lt;br /&gt;&lt;br /&gt;This movie is slower than a soap opera... and suddenly, Jake decides to become Rambo and kill the zombie.&lt;br /&gt;&lt;br /&gt;OK, first of all when you're going to make a film you must Decide if its a thriller or a drama! As a drama the movie is watchable. Parents are divorcing &amp; arguing like in real life. And then we have Jake with his closet which totally ruins all the film! I expected to see a BOOGEYMAN similar movie, and instead i watched a drama with some meaningless thriller spots.&lt;br /&gt;&lt;br /&gt;3 out of 10 just for the well playing parents &amp; descent dialogs. As for the shots with Jake: just ignore them.</td>\n",
       "      <td>negative</td>\n",
       "    </tr>\n",
       "    <tr>\n",
       "      <th>4</th>\n",
       "      <td>Petter Mattei's \"Love in the Time of Money\" is a visually stunning film to watch. Mr. Mattei offers us a vivid portrait about human relations. This is a movie that seems to be telling us what money, power and success do to people in the different situations we encounter. &lt;br /&gt;&lt;br /&gt;This being a variation on the Arthur Schnitzler's play about the same theme, the director transfers the action to the present time New York where all these different characters meet and connect. Each one is connected in one way, or another to the next person, but no one seems to know the previous point of contact. Stylishly, the film has a sophisticated luxurious look. We are taken to see how these people live and the world they live in their own habitat.&lt;br /&gt;&lt;br /&gt;The only thing one gets out of all these souls in the picture is the different stages of loneliness each one inhabits. A big city is not exactly the best place in which human relations find sincere fulfillment, as one discerns is the case with most of the people we encounter.&lt;br /&gt;&lt;br /&gt;The acting is good under Mr. Mattei's direction. Steve Buscemi, Rosario Dawson, Carol Kane, Michael Imperioli, Adrian Grenier, and the rest of the talented cast, make these characters come alive.&lt;br /&gt;&lt;br /&gt;We wish Mr. Mattei good luck and await anxiously for his next work.</td>\n",
       "      <td>positive</td>\n",
       "    </tr>\n",
       "  </tbody>\n",
       "</table>\n",
       "</div>"
      ],
      "text/plain": [
       "                                                                                                                                                                                                                                                                                                                                                                                                                                                                                                                                                                                                                                                                                                                                                                                                                                                                                                                                                                                                                                                                                                                                                                                                                                                                                                                                                                                                                                                                                                                                                                                                                                                                                                                                                                                                                              review  \\\n",
       "0  One of the other reviewers has mentioned that after watching just 1 Oz episode you'll be hooked. They are right, as this is exactly what happened with me.<br /><br />The first thing that struck me about Oz was its brutality and unflinching scenes of violence, which set in right from the word GO. Trust me, this is not a show for the faint hearted or timid. This show pulls no punches with regards to drugs, sex or violence. Its is hardcore, in the classic use of the word.<br /><br />It is called OZ as that is the nickname given to the Oswald Maximum Security State Penitentary. It focuses mainly on Emerald City, an experimental section of the prison where all the cells have glass fronts and face inwards, so privacy is not high on the agenda. Em City is home to many..Aryans, Muslims, gangstas, Latinos, Christians, Italians, Irish and more....so scuffles, death stares, dodgy dealings and shady agreements are never far away.<br /><br />I would say the main appeal of the show is due to the fact that it goes where other shows wouldn't dare. Forget pretty pictures painted for mainstream audiences, forget charm, forget romance...OZ doesn't mess around. The first episode I ever saw struck me as so nasty it was surreal, I couldn't say I was ready for it, but as I watched more, I developed a taste for Oz, and got accustomed to the high levels of graphic violence. Not just violence, but injustice (crooked guards who'll be sold out for a nickel, inmates who'll kill on order and get away with it, well mannered, middle class inmates being turned into prison bitches due to their lack of street skills or prison experience) Watching Oz, you may become comfortable with what is uncomfortable viewing....thats if you can get in touch with your darker side.   \n",
       "1                                                                                                                                                                                                                                                                                                                                                                                                                                                                                                                                                                                                                                                                                                                                                                                             A wonderful little production. <br /><br />The filming technique is very unassuming- very old-time-BBC fashion and gives a comforting, and sometimes discomforting, sense of realism to the entire piece. <br /><br />The actors are extremely well chosen- Michael Sheen not only \"has got all the polari\" but he has all the voices down pat too! You can truly see the seamless editing guided by the references to Williams' diary entries, not only is it well worth the watching but it is a terrificly written and performed piece. A masterful production about one of the great master's of comedy and his life. <br /><br />The realism really comes home with the little things: the fantasy of the guard which, rather than use the traditional 'dream' techniques remains solid then disappears. It plays on our knowledge and our senses, particularly with the scenes concerning Orton and Halliwell and the sets (particularly of their flat with Halliwell's murals decorating every surface) are terribly well done.   \n",
       "2                                                                                                                                                                                                                                                                                                                                                                                                                                                                                                                                                                                                                                                                                                                                                                                                                                                                     I thought this was a wonderful way to spend time on a too hot summer weekend, sitting in the air conditioned theater and watching a light-hearted comedy. The plot is simplistic, but the dialogue is witty and the characters are likable (even the well bread suspected serial killer). While some may be disappointed when they realize this is not Match Point 2: Risk Addiction, I thought it was proof that Woody Allen is still fully in control of the style many of us have grown to love.<br /><br />This was the most I'd laughed at one of Woody's comedies in years (dare I say a decade?). While I've never been impressed with Scarlet Johanson, in this she managed to tone down her \"sexy\" image and jumped right into a average, but spirited young woman.<br /><br />This may not be the crown jewel of his career, but it was wittier than \"Devil Wears Prada\" and more interesting than \"Superman\" a great comedy to go see with friends.   \n",
       "3                                                                                                                                                                                                                                                                                                                                                                                                                                                                                                                                                                                                                                                                                                                                                                                                                                                                                                                                                                                                                                                       Basically there's a family where a little boy (Jake) thinks there's a zombie in his closet & his parents are fighting all the time.<br /><br />This movie is slower than a soap opera... and suddenly, Jake decides to become Rambo and kill the zombie.<br /><br />OK, first of all when you're going to make a film you must Decide if its a thriller or a drama! As a drama the movie is watchable. Parents are divorcing & arguing like in real life. And then we have Jake with his closet which totally ruins all the film! I expected to see a BOOGEYMAN similar movie, and instead i watched a drama with some meaningless thriller spots.<br /><br />3 out of 10 just for the well playing parents & descent dialogs. As for the shots with Jake: just ignore them.   \n",
       "4                                                                                                                                                                                                                                                                                                                                                                                                                                                              Petter Mattei's \"Love in the Time of Money\" is a visually stunning film to watch. Mr. Mattei offers us a vivid portrait about human relations. This is a movie that seems to be telling us what money, power and success do to people in the different situations we encounter. <br /><br />This being a variation on the Arthur Schnitzler's play about the same theme, the director transfers the action to the present time New York where all these different characters meet and connect. Each one is connected in one way, or another to the next person, but no one seems to know the previous point of contact. Stylishly, the film has a sophisticated luxurious look. We are taken to see how these people live and the world they live in their own habitat.<br /><br />The only thing one gets out of all these souls in the picture is the different stages of loneliness each one inhabits. A big city is not exactly the best place in which human relations find sincere fulfillment, as one discerns is the case with most of the people we encounter.<br /><br />The acting is good under Mr. Mattei's direction. Steve Buscemi, Rosario Dawson, Carol Kane, Michael Imperioli, Adrian Grenier, and the rest of the talented cast, make these characters come alive.<br /><br />We wish Mr. Mattei good luck and await anxiously for his next work.   \n",
       "\n",
       "  sentiment  \n",
       "0  positive  \n",
       "1  positive  \n",
       "2  positive  \n",
       "3  negative  \n",
       "4  positive  "
      ]
     },
     "execution_count": 3,
     "metadata": {},
     "output_type": "execute_result"
    }
   ],
   "source": [
    "movie_reviews = pd.read_csv('imdb_dataset.csv')\n",
    "# Display full length text in column\n",
    "pd.options.display.max_colwidth = None\n",
    "movie_reviews.head(5)"
   ]
  },
  {
   "cell_type": "markdown",
   "metadata": {},
   "source": [
    "Reviews text is medium length and does not look too noisy from the first glance. We see some HTML tags and that's basically it for the first few texts. We are going to check in depth some other \"noise issues\" of this text, but let's first check how many positive and negative reviews this dataset contains exactly. "
   ]
  },
  {
   "cell_type": "code",
   "execution_count": 4,
   "metadata": {},
   "outputs": [
    {
     "data": {
      "text/plain": [
       "25000"
      ]
     },
     "execution_count": 4,
     "metadata": {},
     "output_type": "execute_result"
    }
   ],
   "source": [
    "(movie_reviews.sentiment =='negative').sum()"
   ]
  },
  {
   "cell_type": "code",
   "execution_count": 5,
   "metadata": {},
   "outputs": [
    {
     "data": {
      "text/plain": [
       "25000"
      ]
     },
     "execution_count": 5,
     "metadata": {},
     "output_type": "execute_result"
    }
   ],
   "source": [
    "(movie_reviews.sentiment =='positive').sum()"
   ]
  },
  {
   "cell_type": "code",
   "execution_count": 6,
   "metadata": {},
   "outputs": [
    {
     "data": {
      "text/plain": [
       "50000"
      ]
     },
     "execution_count": 6,
     "metadata": {},
     "output_type": "execute_result"
    }
   ],
   "source": [
    "len(movie_reviews)"
   ]
  },
  {
   "cell_type": "markdown",
   "metadata": {},
   "source": [
    "So, of 50 thousand reviews exactly half marked as \"negative\" and the other half as \"positive\". Considering, there are only 2 columns in this DataFrame, which are \"review\" texts themselves and their \"sentiment\", there is not much quck insights we can get out of the dataset without applying NLP methods, so let's get to noise removal part.\n",
    "\n",
    "## Noise Removal\n",
    "\n",
    "We'll start with pretty standart noise removal:\n",
    "- HTML tags;\n",
    "- Links.\n"
   ]
  },
  {
   "cell_type": "code",
   "execution_count": 7,
   "metadata": {},
   "outputs": [],
   "source": [
    "def remove_html_tags():\n",
    "    return movie_reviews.review.str.replace(r'<br />|</?(i|p|em|hr)|', '', regex=True)\n",
    "\n",
    "# Remove HTML tags\n",
    "movie_reviews.review = with_pickle('pickles/html_tags_removed.pickle', remove_html_tags)"
   ]
  },
  {
   "cell_type": "code",
   "execution_count": 8,
   "metadata": {},
   "outputs": [],
   "source": [
    "# Remove links\n",
    "movie_reviews.review = movie_reviews.review.str.replace(r'''[(http(s)?):\\/\\/(www\\.)?a-zA-Z0-9@:%._\\+~#=]{2,256}\\.[a-z]{2,6}\\b([-a-zA-Z0-9@:%_\\+.~#?&//=]*)''', '', regex=True)"
   ]
  },
  {
   "cell_type": "markdown",
   "metadata": {},
   "source": [
    "To check the results after applying our noise removal `regex` expressions and find other different flaws of this dataset we'll use pretty sophysticated codesnippet from StackOverflow which highlights user entered strings or regex expressions. \n",
    "\n",
    "Using this method we may not only check data for noise, but also find some interesting text properties, like `emoticons`. There is a huge ammount of valuable sentiment information hidden withing these symbols, yet not many public libraries are capable of their efficient interpretation. After some reseach of available libraries I decided to leave these symbols as they are, but in the future it could be benificial to \"translate\" them to text strings, meaningful for text processing algorithms. There are some examples of text containing different types of `emoticons` below. "
   ]
  },
  {
   "cell_type": "code",
   "execution_count": 9,
   "metadata": {},
   "outputs": [
    {
     "data": {
      "text/html": [
       "\n",
       "    <table>\n",
       "        <thead>\n",
       "            <th> review </th><th> sentiment </th>\n",
       "        </thead>\n",
       "    <tbody><tr><td> I have to say that this miniseries was the best interpretation of the beloved novel \"Jane Eyre\". Both Dalton and Clarke are very believable as Rochester and Jane. I've seen other versions, but none compare to this one. The best one for me. I could never imagine anyone else playing these characters ever again. The last time I saw this one was in 1984 when I was only 13. At that time, I was a bookworm and I had just read Charlotte Bronte's novel. I was completely enchanted by this miniseries and I remember not missing any of the episodes. I'd like to see it again because it's so good. <span style='color:red;'>:-)</span> </td></tr><td> positive </td></tr><tr><td> This was one of my favorite series when I was a kid. The Swedish broadcasting company decided to broadcast it once again a couple of summers ago when I had just finished my first semester of medical school. I was surprised to see the depth in which the organs was explained. Sure, some things are simplified but most of it was correct (even though it was made 22 years ago!) and quite understandable. I would suggest that all soon-to-be medical student should watch it. It is a very good way to learn some of the basic medical words for example. Now I'm in my 7th semester and I think I'll watch the series once again as soon as I've bought the DVD-box <span style='color:red;'>:-)</span> </td></tr><td> positive </td></tr></tbody></table>"
      ],
      "text/plain": [
       "<IPython.core.display.HTML object>"
      ]
     },
     "metadata": {},
     "output_type": "display_data"
    }
   ],
   "source": [
    "from IPython.display import HTML\n",
    "def display_highlighted_words(df, keywords):\n",
    "    head = \"\"\"\n",
    "    <table>\n",
    "        <thead>\n",
    "            \"\"\" + \\\n",
    "            \"\".join([\"<th> %s </th>\" % c for c in df.columns])\\\n",
    "            + \"\"\"\n",
    "        </thead>\n",
    "    <tbody>\"\"\"\n",
    "\n",
    "    for i,r in df.iterrows():\n",
    "        row = \"<tr>\"\n",
    "        for c in df.columns:\n",
    "            matches = []\n",
    "            for k in keywords:\n",
    "                for match in re.finditer(k, str(r[c])):\n",
    "                    matches.append(match)\n",
    "        \n",
    "            # reverse sorting\n",
    "            matches = sorted(matches, key = lambda x: x.start(), reverse=True)\n",
    "        \n",
    "            # building HTML row\n",
    "            cell = str(r[c])\n",
    "            for match in matches:\n",
    "                cell = cell[:match.start()] +\\\n",
    "                    \"<span style='color:red;'>%s</span>\" % cell[match.start():match.end()] +\\\n",
    "                    cell[match.end():]\n",
    "            row += \"<td> %s </td>\" % cell\n",
    "                \n",
    "            row += \"</tr>\"\n",
    "        head += row\n",
    "\n",
    "    head += \"</tbody></table>\"\n",
    "    display(HTML(head))\n",
    "\n",
    "display_highlighted_words(movie_reviews[movie_reviews.review.str.contains(r':-\\)')][:2], [':-\\)'])\n"
   ]
  },
  {
   "cell_type": "code",
   "execution_count": 10,
   "metadata": {},
   "outputs": [
    {
     "data": {
      "text/html": [
       "\n",
       "    <table>\n",
       "        <thead>\n",
       "            <th> review </th><th> sentiment </th>\n",
       "        </thead>\n",
       "    <tbody><tr><td> Since the last horrid Astérix film and the fact that we only get the Swiss German version in cinemas, here, I went to watch it with quite a bit of trepidation... Unfounded, as I was happy to discover <span style='color:red;'>^</span><span style='color:red;'>_</span><span style='color:red;'>_</span><span style='color:red;'>_</span><span style='color:red;'>_</span><span style='color:red;'>^</span>The film is funny and modern, has good gags, a good animation, an amusing character interaction, a good voice cast (Note: I can only speak for the Swiss German one!) except for the Viking chief's daughter Abba (her name is great, despite the not very inspired voice actress)...I especially liked the character Justforkix (Goudurix in French, Grautvornix in German. He's the young man who is supposed to be put in shape...). He's a very amusing portrayal of a mollycoddled, urban teenager; but he's very likable, despite the teenage mannerisms... XD The interaction between Astérix & Obélix and their young charge is fantastic and thoroughly entertaining.It shouldn't be compared to the old films, since this one is quite different... Which surprisingly doesn't make it bad. On the contrary. When they tried to modernize the last film (twelve years ago), they completely blew it. This film, however, proved that it can be done just fine... <span style='color:red;'>^</span><span style='color:red;'>-</span><span style='color:red;'>^</span>I came out of the theater cheerful... Always a good sign <span style='color:red;'>^</span><span style='color:red;'>_</span><span style='color:red;'>~</span> </td></tr><td> positive </td></tr><tr><td> Just finished watching the movie and wanted to give my own opinion(and justice) to the movie.First of all, to get things straight, this movie is not pretending to be anything other than a solid action comedy movie. It doesn't aim to revolutionize the movie industry and garner critical acclaims nor does it want to be regarded as one. If you really want to enjoy this movie to the fullest, I suggest you discard your critical<span style='color:red;'>-</span>mindedness and your longing for a good plot because you won't find any in here. With that established, let us further into the movie.I had low expectations for this movie simply because it didn't have a strong plot(Yes, moviegoers, I underrated this movie as well), but I never expected myself to enjoy this movie that much. I even enjoyed this more than the Stephen Chow flicks(which I find Kung Fu Hustle to be his best effort and would've rated it a 9 as well). Action is tight and epic while comedy chokes on to the right places.SPOILERS alert, I think The action might be unreal, but why would I want to watch a serious basketball movie anyways? There are a lot other sports movies(drama) that already did it well, why create another? SPOILERS endI'm not even sure why you're reading this. Go ahead and watch it. Just remember, no thinking <span style='color:red;'>-</span> just watch, enjoy, smile, laugh, and Every once in a while they(the movie industry) creates masterpieces such as Pulp Fiction or The Godfather movies, and sometimes they create movies which are better off in the pile of dump. I'm not saying Kung Fu Dunk deserves the recognition that the previous examples have, then again, if we're talking about Stephen Chow<span style='color:red;'>-</span>ish comedy, this one's a top ten.Highly recommended if you love: <span style='color:red;'>-</span>no brainer movies with really good action <span style='color:red;'>-</span>Kung Fu <span style='color:red;'>-</span>Death Trance <span style='color:red;'>-</span>Kung Fu and comedy <span style='color:red;'>-</span>what the heck, watch this. you'll have a great time.9/10 for you the cast of Kung Fu Dunk. <span style='color:red;'>^</span><span style='color:red;'>_</span><span style='color:red;'>^</span> </td></tr><td> positive </td></tr></tbody></table>"
      ],
      "text/plain": [
       "<IPython.core.display.HTML object>"
      ]
     },
     "metadata": {},
     "output_type": "display_data"
    }
   ],
   "source": [
    "display_highlighted_words(movie_reviews[movie_reviews.review.str.contains(r'\\^_+')][2:4], ['_', '\\^', '-', '~', '='])"
   ]
  },
  {
   "cell_type": "markdown",
   "metadata": {},
   "source": [
    "Other interesting thing that is probably specific to reviews in general - users tend to give their personal score on the scale from 1 to 10, which can be a big help for machine learning algorithms if interpreted correctly. As well as `emoticons`, `user scores` are worth looking into on the further stages of algorithms tunning so I'll leave them in place with other digits for now, since they will not affect the first part of our analysis. "
   ]
  },
  {
   "cell_type": "markdown",
   "metadata": {},
   "source": [
    "### Pre-processing: phase 1\n",
    "\n",
    "Now that we removed at least some noise we are going to apply text preprocessing methods. We are going to need part of speech tagging applied to these reviews so we can use chunk grammar to determine common verb and noun phrases. To make part of speech tagging more relevant, fast and efficient we will apply the `pos_tag` method to the whole, mostly unchanged, sentence, this way parts of speech will be determined by context hence, in theory, it would yield a more accurate result. \n",
    "\n",
    "To achieve it we first are going to tokenise each review by sentence and then by words before feeding it to the `tag_sents` method."
   ]
  },
  {
   "cell_type": "code",
   "execution_count": 11,
   "metadata": {},
   "outputs": [],
   "source": [
    "def word_sent_tokenize(text):\n",
    "    word_sent_tokenized = [word_tokenize(s) for s in sent_tokenize(text)]\n",
    "    return word_sent_tokenized"
   ]
  },
  {
   "cell_type": "code",
   "execution_count": 12,
   "metadata": {},
   "outputs": [],
   "source": [
    "def tokenize_df():\n",
    "    return movie_reviews.review.apply(word_sent_tokenize)\n",
    "\n",
    "movie_reviews['sent_tokenized'] = with_pickle('pickles/sent_tokenized.pickle', tokenize_df)"
   ]
  },
  {
   "cell_type": "code",
   "execution_count": 13,
   "metadata": {},
   "outputs": [],
   "source": [
    "def tag_sents():\n",
    "    return movie_reviews.sent_tokenized.apply(pos_tag_sents)\n",
    "\n",
    "movie_reviews['sent_pos_tagged'] = with_pickle('pickles/pos_tagged.pickle', tag_sents)"
   ]
  },
  {
   "cell_type": "markdown",
   "metadata": {},
   "source": [
    "## Chunk Sentences\n",
    "\n",
    "Now that we have part-of-speech tagged our texts, we can move on to syntax parsing. We are going to use different mixes of chunk grammar within Noun and Verb Phrases to perform it."
   ]
  },
  {
   "cell_type": "code",
   "execution_count": 14,
   "metadata": {},
   "outputs": [],
   "source": [
    "def np_chunking_text(pos_tagged_text):\n",
    "    # Noun phrase chunk grammar\n",
    "    np_chunk_grammar = r'NP: {<JJ.*>+<NN.*>+|<NN.*>+<JJ.*>+|<RB.*>+<NN.*>+|<NN.*>+<RB.*>+|<RB.*>+<JJ.*>+|<NN.*>+<NN.*>+}'\n",
    "\n",
    "    # Create NP RegexpParser object\n",
    "    np_chunk_parser = RegexpParser(np_chunk_grammar) \n",
    "\n",
    "    np_chunked_text = [np_chunk_parser.parse(w) for w in pos_tagged_text]\n",
    "\n",
    "    return np_chunked_text"
   ]
  },
  {
   "cell_type": "code",
   "execution_count": 15,
   "metadata": {},
   "outputs": [],
   "source": [
    "def vp_chunking_text(pos_tagged_text):\n",
    "    # Verb phrase chunk grammar\n",
    "    vp_chunk_grammar = r'VP: {<JJ.*>*<RB.*>*<NN.*>+<VB.*>+|<NN.*>+<VB.*>+<JJ.*>*<RB.*>*|<RB.*>+<NN.*>+<VB.*>+|<JJ.*>+<VB.*>+}'\n",
    "\n",
    "    # Create VP RegexpParser object\n",
    "    vp_chunk_parser = RegexpParser(vp_chunk_grammar) \n",
    "\n",
    "    vp_chunked_text = [vp_chunk_parser.parse(w) for w in pos_tagged_text]\n",
    "\n",
    "    return vp_chunked_text\n"
   ]
  },
  {
   "cell_type": "code",
   "execution_count": 16,
   "metadata": {},
   "outputs": [],
   "source": [
    "def np_rows_chunking():\n",
    "    return movie_reviews.sent_pos_tagged.apply(np_chunking_text)\n",
    "\n",
    "movie_reviews['np_chunked'] = with_pickle('pickles/np_chunked.pickle', np_rows_chunking)\n"
   ]
  },
  {
   "cell_type": "code",
   "execution_count": 17,
   "metadata": {},
   "outputs": [],
   "source": [
    "def vp_rows_chunking():\n",
    "    return movie_reviews.sent_pos_tagged.apply(vp_chunking_text)\n",
    "\n",
    "movie_reviews['vp_chunked'] = with_pickle('pickles/vp_chunked.pickle', vp_rows_chunking)"
   ]
  },
  {
   "cell_type": "markdown",
   "metadata": {},
   "source": [
    "Let's see an example of NP chunk to understand what phrases we could get."
   ]
  },
  {
   "cell_type": "code",
   "execution_count": 18,
   "metadata": {},
   "outputs": [
    {
     "data": {
      "image/svg+xml": "<svg baseProfile=\"full\" height=\"168px\" preserveAspectRatio=\"xMidYMid meet\" style=\"font-family: times, serif; font-weight:normal; font-style: normal; font-size: 16px;\" version=\"1.1\" viewBox=\"0,0,1416.0,168.0\" width=\"1416px\" xmlns=\"http://www.w3.org/2000/svg\" xmlns:ev=\"http://www.w3.org/2001/xml-events\" xmlns:xlink=\"http://www.w3.org/1999/xlink\"><defs /><svg width=\"100%\" x=\"0\" y=\"0em\"><defs /><text text-anchor=\"middle\" x=\"50%\" y=\"1em\">S</text></svg><svg width=\"2.82486%\" x=\"0%\" y=\"3em\"><defs /><svg width=\"100%\" x=\"0\" y=\"0em\"><defs /><text text-anchor=\"middle\" x=\"50%\" y=\"1em\">The</text></svg><svg width=\"100%\" x=\"0%\" y=\"3em\"><defs /><svg width=\"100%\" x=\"0\" y=\"0em\"><defs /><text text-anchor=\"middle\" x=\"50%\" y=\"1em\">DT</text></svg></svg><line stroke=\"black\" x1=\"50%\" x2=\"50%\" y1=\"1.2em\" y2=\"3em\" /></svg><line stroke=\"black\" x1=\"50%\" x2=\"1.41243%\" y1=\"1.2em\" y2=\"3em\" /><svg width=\"12.4294%\" x=\"2.82486%\" y=\"3em\"><defs /><svg width=\"100%\" x=\"0\" y=\"0em\"><defs /><text text-anchor=\"middle\" x=\"50%\" y=\"1em\">NP</text></svg><svg width=\"31.8182%\" x=\"0%\" y=\"3em\"><defs /><svg width=\"100%\" x=\"0\" y=\"0em\"><defs /><text text-anchor=\"middle\" x=\"50%\" y=\"1em\">shaky</text></svg><svg width=\"100%\" x=\"0%\" y=\"3em\"><defs /><svg width=\"100%\" x=\"0\" y=\"0em\"><defs /><text text-anchor=\"middle\" x=\"50%\" y=\"1em\">JJ</text></svg></svg><line stroke=\"black\" x1=\"50%\" x2=\"50%\" y1=\"1.2em\" y2=\"3em\" /></svg><line stroke=\"black\" x1=\"50%\" x2=\"15.9091%\" y1=\"1.2em\" y2=\"3em\" /><svg width=\"36.3636%\" x=\"31.8182%\" y=\"3em\"><defs /><svg width=\"100%\" x=\"0\" y=\"0em\"><defs /><text text-anchor=\"middle\" x=\"50%\" y=\"1em\">camera</text></svg><svg width=\"100%\" x=\"0%\" y=\"3em\"><defs /><svg width=\"100%\" x=\"0\" y=\"0em\"><defs /><text text-anchor=\"middle\" x=\"50%\" y=\"1em\">NN</text></svg></svg><line stroke=\"black\" x1=\"50%\" x2=\"50%\" y1=\"1.2em\" y2=\"3em\" /></svg><line stroke=\"black\" x1=\"50%\" x2=\"50%\" y1=\"1.2em\" y2=\"3em\" /><svg width=\"31.8182%\" x=\"68.1818%\" y=\"3em\"><defs /><svg width=\"100%\" x=\"0\" y=\"0em\"><defs /><text text-anchor=\"middle\" x=\"50%\" y=\"1em\">shots</text></svg><svg width=\"100%\" x=\"0%\" y=\"3em\"><defs /><svg width=\"100%\" x=\"0\" y=\"0em\"><defs /><text text-anchor=\"middle\" x=\"50%\" y=\"1em\">NNS</text></svg></svg><line stroke=\"black\" x1=\"50%\" x2=\"50%\" y1=\"1.2em\" y2=\"3em\" /></svg><line stroke=\"black\" x1=\"50%\" x2=\"84.0909%\" y1=\"1.2em\" y2=\"3em\" /></svg><line stroke=\"black\" x1=\"50%\" x2=\"9.03955%\" y1=\"1.2em\" y2=\"3em\" /><svg width=\"2.82486%\" x=\"15.2542%\" y=\"3em\"><defs /><svg width=\"100%\" x=\"0\" y=\"0em\"><defs /><text text-anchor=\"middle\" x=\"50%\" y=\"1em\">and</text></svg><svg width=\"100%\" x=\"0%\" y=\"3em\"><defs /><svg width=\"100%\" x=\"0\" y=\"0em\"><defs /><text text-anchor=\"middle\" x=\"50%\" y=\"1em\">CC</text></svg></svg><line stroke=\"black\" x1=\"50%\" x2=\"50%\" y1=\"1.2em\" y2=\"3em\" /></svg><line stroke=\"black\" x1=\"50%\" x2=\"16.6667%\" y1=\"1.2em\" y2=\"3em\" /><svg width=\"4.51977%\" x=\"18.0791%\" y=\"3em\"><defs /><svg width=\"100%\" x=\"0\" y=\"0em\"><defs /><text text-anchor=\"middle\" x=\"50%\" y=\"1em\">angles</text></svg><svg width=\"100%\" x=\"0%\" y=\"3em\"><defs /><svg width=\"100%\" x=\"0\" y=\"0em\"><defs /><text text-anchor=\"middle\" x=\"50%\" y=\"1em\">NNS</text></svg></svg><line stroke=\"black\" x1=\"50%\" x2=\"50%\" y1=\"1.2em\" y2=\"3em\" /></svg><line stroke=\"black\" x1=\"50%\" x2=\"20.339%\" y1=\"1.2em\" y2=\"3em\" /><svg width=\"1.69492%\" x=\"22.5989%\" y=\"3em\"><defs /><svg width=\"100%\" x=\"0\" y=\"0em\"><defs /><text text-anchor=\"middle\" x=\"50%\" y=\"1em\">,</text></svg><svg width=\"100%\" x=\"0%\" y=\"3em\"><defs /><svg width=\"100%\" x=\"0\" y=\"0em\"><defs /><text text-anchor=\"middle\" x=\"50%\" y=\"1em\">,</text></svg></svg><line stroke=\"black\" x1=\"50%\" x2=\"50%\" y1=\"1.2em\" y2=\"3em\" /></svg><line stroke=\"black\" x1=\"50%\" x2=\"23.4463%\" y1=\"1.2em\" y2=\"3em\" /><svg width=\"17.5141%\" x=\"24.2938%\" y=\"3em\"><defs /><svg width=\"100%\" x=\"0\" y=\"0em\"><defs /><text text-anchor=\"middle\" x=\"50%\" y=\"1em\">NP</text></svg><svg width=\"29.0323%\" x=\"0%\" y=\"3em\"><defs /><svg width=\"100%\" x=\"0\" y=\"0em\"><defs /><text text-anchor=\"middle\" x=\"50%\" y=\"1em\">general</text></svg><svg width=\"100%\" x=\"0%\" y=\"3em\"><defs /><svg width=\"100%\" x=\"0\" y=\"0em\"><defs /><text text-anchor=\"middle\" x=\"50%\" y=\"1em\">JJ</text></svg></svg><line stroke=\"black\" x1=\"50%\" x2=\"50%\" y1=\"1.2em\" y2=\"3em\" /></svg><line stroke=\"black\" x1=\"50%\" x2=\"14.5161%\" y1=\"1.2em\" y2=\"3em\" /><svg width=\"19.3548%\" x=\"29.0323%\" y=\"3em\"><defs /><svg width=\"100%\" x=\"0\" y=\"0em\"><defs /><text text-anchor=\"middle\" x=\"50%\" y=\"1em\">poor</text></svg><svg width=\"100%\" x=\"0%\" y=\"3em\"><defs /><svg width=\"100%\" x=\"0\" y=\"0em\"><defs /><text text-anchor=\"middle\" x=\"50%\" y=\"1em\">JJ</text></svg></svg><line stroke=\"black\" x1=\"50%\" x2=\"50%\" y1=\"1.2em\" y2=\"3em\" /></svg><line stroke=\"black\" x1=\"50%\" x2=\"38.7097%\" y1=\"1.2em\" y2=\"3em\" /><svg width=\"51.6129%\" x=\"48.3871%\" y=\"3em\"><defs /><svg width=\"100%\" x=\"0\" y=\"0em\"><defs /><text text-anchor=\"middle\" x=\"50%\" y=\"1em\">cinematography</text></svg><svg width=\"100%\" x=\"0%\" y=\"3em\"><defs /><svg width=\"100%\" x=\"0\" y=\"0em\"><defs /><text text-anchor=\"middle\" x=\"50%\" y=\"1em\">NN</text></svg></svg><line stroke=\"black\" x1=\"50%\" x2=\"50%\" y1=\"1.2em\" y2=\"3em\" /></svg><line stroke=\"black\" x1=\"50%\" x2=\"74.1935%\" y1=\"1.2em\" y2=\"3em\" /></svg><line stroke=\"black\" x1=\"50%\" x2=\"33.0508%\" y1=\"1.2em\" y2=\"3em\" /><svg width=\"1.69492%\" x=\"41.8079%\" y=\"3em\"><defs /><svg width=\"100%\" x=\"0\" y=\"0em\"><defs /><text text-anchor=\"middle\" x=\"50%\" y=\"1em\">,</text></svg><svg width=\"100%\" x=\"0%\" y=\"3em\"><defs /><svg width=\"100%\" x=\"0\" y=\"0em\"><defs /><text text-anchor=\"middle\" x=\"50%\" y=\"1em\">,</text></svg></svg><line stroke=\"black\" x1=\"50%\" x2=\"50%\" y1=\"1.2em\" y2=\"3em\" /></svg><line stroke=\"black\" x1=\"50%\" x2=\"42.6554%\" y1=\"1.2em\" y2=\"3em\" /><svg width=\"6.21469%\" x=\"43.5028%\" y=\"3em\"><defs /><svg width=\"100%\" x=\"0\" y=\"0em\"><defs /><text text-anchor=\"middle\" x=\"50%\" y=\"1em\">direction</text></svg><svg width=\"100%\" x=\"0%\" y=\"3em\"><defs /><svg width=\"100%\" x=\"0\" y=\"0em\"><defs /><text text-anchor=\"middle\" x=\"50%\" y=\"1em\">NN</text></svg></svg><line stroke=\"black\" x1=\"50%\" x2=\"50%\" y1=\"1.2em\" y2=\"3em\" /></svg><line stroke=\"black\" x1=\"50%\" x2=\"46.6102%\" y1=\"1.2em\" y2=\"3em\" /><svg width=\"2.82486%\" x=\"49.7175%\" y=\"3em\"><defs /><svg width=\"100%\" x=\"0\" y=\"0em\"><defs /><text text-anchor=\"middle\" x=\"50%\" y=\"1em\">and</text></svg><svg width=\"100%\" x=\"0%\" y=\"3em\"><defs /><svg width=\"100%\" x=\"0\" y=\"0em\"><defs /><text text-anchor=\"middle\" x=\"50%\" y=\"1em\">CC</text></svg></svg><line stroke=\"black\" x1=\"50%\" x2=\"50%\" y1=\"1.2em\" y2=\"3em\" /></svg><line stroke=\"black\" x1=\"50%\" x2=\"51.1299%\" y1=\"1.2em\" y2=\"3em\" /><svg width=\"12.4294%\" x=\"52.5424%\" y=\"3em\"><defs /><svg width=\"100%\" x=\"0\" y=\"0em\"><defs /><text text-anchor=\"middle\" x=\"50%\" y=\"1em\">NP</text></svg><svg width=\"36.3636%\" x=\"0%\" y=\"3em\"><defs /><svg width=\"100%\" x=\"0\" y=\"0em\"><defs /><text text-anchor=\"middle\" x=\"50%\" y=\"1em\">wooden</text></svg><svg width=\"100%\" x=\"0%\" y=\"3em\"><defs /><svg width=\"100%\" x=\"0\" y=\"0em\"><defs /><text text-anchor=\"middle\" x=\"50%\" y=\"1em\">JJ</text></svg></svg><line stroke=\"black\" x1=\"50%\" x2=\"50%\" y1=\"1.2em\" y2=\"3em\" /></svg><line stroke=\"black\" x1=\"50%\" x2=\"18.1818%\" y1=\"1.2em\" y2=\"3em\" /><svg width=\"63.6364%\" x=\"36.3636%\" y=\"3em\"><defs /><svg width=\"100%\" x=\"0\" y=\"0em\"><defs /><text text-anchor=\"middle\" x=\"50%\" y=\"1em\">performances</text></svg><svg width=\"100%\" x=\"0%\" y=\"3em\"><defs /><svg width=\"100%\" x=\"0\" y=\"0em\"><defs /><text text-anchor=\"middle\" x=\"50%\" y=\"1em\">NNS</text></svg></svg><line stroke=\"black\" x1=\"50%\" x2=\"50%\" y1=\"1.2em\" y2=\"3em\" /></svg><line stroke=\"black\" x1=\"50%\" x2=\"68.1818%\" y1=\"1.2em\" y2=\"3em\" /></svg><line stroke=\"black\" x1=\"50%\" x2=\"58.7571%\" y1=\"1.2em\" y2=\"3em\" /><svg width=\"2.82486%\" x=\"64.9718%\" y=\"3em\"><defs /><svg width=\"100%\" x=\"0\" y=\"0em\"><defs /><text text-anchor=\"middle\" x=\"50%\" y=\"1em\">had</text></svg><svg width=\"100%\" x=\"0%\" y=\"3em\"><defs /><svg width=\"100%\" x=\"0\" y=\"0em\"><defs /><text text-anchor=\"middle\" x=\"50%\" y=\"1em\">VBD</text></svg></svg><line stroke=\"black\" x1=\"50%\" x2=\"50%\" y1=\"1.2em\" y2=\"3em\" /></svg><line stroke=\"black\" x1=\"50%\" x2=\"66.3842%\" y1=\"1.2em\" y2=\"3em\" /><svg width=\"5.08475%\" x=\"67.7966%\" y=\"3em\"><defs /><svg width=\"100%\" x=\"0\" y=\"0em\"><defs /><text text-anchor=\"middle\" x=\"50%\" y=\"1em\">already</text></svg><svg width=\"100%\" x=\"0%\" y=\"3em\"><defs /><svg width=\"100%\" x=\"0\" y=\"0em\"><defs /><text text-anchor=\"middle\" x=\"50%\" y=\"1em\">RB</text></svg></svg><line stroke=\"black\" x1=\"50%\" x2=\"50%\" y1=\"1.2em\" y2=\"3em\" /></svg><line stroke=\"black\" x1=\"50%\" x2=\"70.339%\" y1=\"1.2em\" y2=\"3em\" /><svg width=\"3.38983%\" x=\"72.8814%\" y=\"3em\"><defs /><svg width=\"100%\" x=\"0\" y=\"0em\"><defs /><text text-anchor=\"middle\" x=\"50%\" y=\"1em\">left</text></svg><svg width=\"100%\" x=\"0%\" y=\"3em\"><defs /><svg width=\"100%\" x=\"0\" y=\"0em\"><defs /><text text-anchor=\"middle\" x=\"50%\" y=\"1em\">VBN</text></svg></svg><line stroke=\"black\" x1=\"50%\" x2=\"50%\" y1=\"1.2em\" y2=\"3em\" /></svg><line stroke=\"black\" x1=\"50%\" x2=\"74.5763%\" y1=\"1.2em\" y2=\"3em\" /><svg width=\"2.82486%\" x=\"76.2712%\" y=\"3em\"><defs /><svg width=\"100%\" x=\"0\" y=\"0em\"><defs /><text text-anchor=\"middle\" x=\"50%\" y=\"1em\">us</text></svg><svg width=\"100%\" x=\"0%\" y=\"3em\"><defs /><svg width=\"100%\" x=\"0\" y=\"0em\"><defs /><text text-anchor=\"middle\" x=\"50%\" y=\"1em\">PRP</text></svg></svg><line stroke=\"black\" x1=\"50%\" x2=\"50%\" y1=\"1.2em\" y2=\"3em\" /></svg><line stroke=\"black\" x1=\"50%\" x2=\"77.6836%\" y1=\"1.2em\" y2=\"3em\" /><svg width=\"5.08475%\" x=\"79.096%\" y=\"3em\"><defs /><svg width=\"100%\" x=\"0\" y=\"0em\"><defs /><text text-anchor=\"middle\" x=\"50%\" y=\"1em\">feeling</text></svg><svg width=\"100%\" x=\"0%\" y=\"3em\"><defs /><svg width=\"100%\" x=\"0\" y=\"0em\"><defs /><text text-anchor=\"middle\" x=\"50%\" y=\"1em\">VBG</text></svg></svg><line stroke=\"black\" x1=\"50%\" x2=\"50%\" y1=\"1.2em\" y2=\"3em\" /></svg><line stroke=\"black\" x1=\"50%\" x2=\"81.6384%\" y1=\"1.2em\" y2=\"3em\" /><svg width=\"3.38983%\" x=\"84.1808%\" y=\"3em\"><defs /><svg width=\"100%\" x=\"0\" y=\"0em\"><defs /><text text-anchor=\"middle\" x=\"50%\" y=\"1em\">flat</text></svg><svg width=\"100%\" x=\"0%\" y=\"3em\"><defs /><svg width=\"100%\" x=\"0\" y=\"0em\"><defs /><text text-anchor=\"middle\" x=\"50%\" y=\"1em\">JJ</text></svg></svg><line stroke=\"black\" x1=\"50%\" x2=\"50%\" y1=\"1.2em\" y2=\"3em\" /></svg><line stroke=\"black\" x1=\"50%\" x2=\"85.8757%\" y1=\"1.2em\" y2=\"3em\" /><svg width=\"2.82486%\" x=\"87.5706%\" y=\"3em\"><defs /><svg width=\"100%\" x=\"0\" y=\"0em\"><defs /><text text-anchor=\"middle\" x=\"50%\" y=\"1em\">and</text></svg><svg width=\"100%\" x=\"0%\" y=\"3em\"><defs /><svg width=\"100%\" x=\"0\" y=\"0em\"><defs /><text text-anchor=\"middle\" x=\"50%\" y=\"1em\">CC</text></svg></svg><line stroke=\"black\" x1=\"50%\" x2=\"50%\" y1=\"1.2em\" y2=\"3em\" /></svg><line stroke=\"black\" x1=\"50%\" x2=\"88.9831%\" y1=\"1.2em\" y2=\"3em\" /><svg width=\"7.9096%\" x=\"90.3955%\" y=\"3em\"><defs /><svg width=\"100%\" x=\"0\" y=\"0em\"><defs /><text text-anchor=\"middle\" x=\"50%\" y=\"1em\">dissatisfied</text></svg><svg width=\"100%\" x=\"0%\" y=\"3em\"><defs /><svg width=\"100%\" x=\"0\" y=\"0em\"><defs /><text text-anchor=\"middle\" x=\"50%\" y=\"1em\">JJ</text></svg></svg><line stroke=\"black\" x1=\"50%\" x2=\"50%\" y1=\"1.2em\" y2=\"3em\" /></svg><line stroke=\"black\" x1=\"50%\" x2=\"94.3503%\" y1=\"1.2em\" y2=\"3em\" /><svg width=\"1.69492%\" x=\"98.3051%\" y=\"3em\"><defs /><svg width=\"100%\" x=\"0\" y=\"0em\"><defs /><text text-anchor=\"middle\" x=\"50%\" y=\"1em\">.</text></svg><svg width=\"100%\" x=\"0%\" y=\"3em\"><defs /><svg width=\"100%\" x=\"0\" y=\"0em\"><defs /><text text-anchor=\"middle\" x=\"50%\" y=\"1em\">.</text></svg></svg><line stroke=\"black\" x1=\"50%\" x2=\"50%\" y1=\"1.2em\" y2=\"3em\" /></svg><line stroke=\"black\" x1=\"50%\" x2=\"99.1525%\" y1=\"1.2em\" y2=\"3em\" /></svg>",
      "text/plain": [
       "Tree('S', [('The', 'DT'), Tree('NP', [('shaky', 'JJ'), ('camera', 'NN'), ('shots', 'NNS')]), ('and', 'CC'), ('angles', 'NNS'), (',', ','), Tree('NP', [('general', 'JJ'), ('poor', 'JJ'), ('cinematography', 'NN')]), (',', ','), ('direction', 'NN'), ('and', 'CC'), Tree('NP', [('wooden', 'JJ'), ('performances', 'NNS')]), ('had', 'VBD'), ('already', 'RB'), ('left', 'VBN'), ('us', 'PRP'), ('feeling', 'VBG'), ('flat', 'JJ'), ('and', 'CC'), ('dissatisfied', 'JJ'), ('.', '.')])"
      ]
     },
     "metadata": {},
     "output_type": "display_data"
    }
   ],
   "source": [
    "display(movie_reviews.np_chunked[424][3])"
   ]
  },
  {
   "cell_type": "markdown",
   "metadata": {},
   "source": [
    "Looks good, what about VP chunks? "
   ]
  },
  {
   "cell_type": "code",
   "execution_count": 19,
   "metadata": {},
   "outputs": [
    {
     "data": {
      "image/svg+xml": "<svg baseProfile=\"full\" height=\"168px\" preserveAspectRatio=\"xMidYMid meet\" style=\"font-family: times, serif; font-weight:normal; font-style: normal; font-size: 16px;\" version=\"1.1\" viewBox=\"0,0,1104.0,168.0\" width=\"1104px\" xmlns=\"http://www.w3.org/2000/svg\" xmlns:ev=\"http://www.w3.org/2001/xml-events\" xmlns:xlink=\"http://www.w3.org/1999/xlink\"><defs /><svg width=\"100%\" x=\"0\" y=\"0em\"><defs /><text text-anchor=\"middle\" x=\"50%\" y=\"1em\">S</text></svg><svg width=\"3.62319%\" x=\"0%\" y=\"3em\"><defs /><svg width=\"100%\" x=\"0\" y=\"0em\"><defs /><text text-anchor=\"middle\" x=\"50%\" y=\"1em\">I</text></svg><svg width=\"100%\" x=\"0%\" y=\"3em\"><defs /><svg width=\"100%\" x=\"0\" y=\"0em\"><defs /><text text-anchor=\"middle\" x=\"50%\" y=\"1em\">PRP</text></svg></svg><line stroke=\"black\" x1=\"50%\" x2=\"50%\" y1=\"1.2em\" y2=\"3em\" /></svg><line stroke=\"black\" x1=\"50%\" x2=\"1.81159%\" y1=\"1.2em\" y2=\"3em\" /><svg width=\"5.07246%\" x=\"3.62319%\" y=\"3em\"><defs /><svg width=\"100%\" x=\"0\" y=\"0em\"><defs /><text text-anchor=\"middle\" x=\"50%\" y=\"1em\">think</text></svg><svg width=\"100%\" x=\"0%\" y=\"3em\"><defs /><svg width=\"100%\" x=\"0\" y=\"0em\"><defs /><text text-anchor=\"middle\" x=\"50%\" y=\"1em\">VBP</text></svg></svg><line stroke=\"black\" x1=\"50%\" x2=\"50%\" y1=\"1.2em\" y2=\"3em\" /></svg><line stroke=\"black\" x1=\"50%\" x2=\"6.15942%\" y1=\"1.2em\" y2=\"3em\" /><svg width=\"3.62319%\" x=\"8.69565%\" y=\"3em\"><defs /><svg width=\"100%\" x=\"0\" y=\"0em\"><defs /><text text-anchor=\"middle\" x=\"50%\" y=\"1em\">the</text></svg><svg width=\"100%\" x=\"0%\" y=\"3em\"><defs /><svg width=\"100%\" x=\"0\" y=\"0em\"><defs /><text text-anchor=\"middle\" x=\"50%\" y=\"1em\">DT</text></svg></svg><line stroke=\"black\" x1=\"50%\" x2=\"50%\" y1=\"1.2em\" y2=\"3em\" /></svg><line stroke=\"black\" x1=\"50%\" x2=\"10.5072%\" y1=\"1.2em\" y2=\"3em\" /><svg width=\"10.1449%\" x=\"12.3188%\" y=\"3em\"><defs /><svg width=\"100%\" x=\"0\" y=\"0em\"><defs /><text text-anchor=\"middle\" x=\"50%\" y=\"1em\">VP</text></svg><svg width=\"64.2857%\" x=\"0%\" y=\"3em\"><defs /><svg width=\"100%\" x=\"0\" y=\"0em\"><defs /><text text-anchor=\"middle\" x=\"50%\" y=\"1em\">feeling</text></svg><svg width=\"100%\" x=\"0%\" y=\"3em\"><defs /><svg width=\"100%\" x=\"0\" y=\"0em\"><defs /><text text-anchor=\"middle\" x=\"50%\" y=\"1em\">NN</text></svg></svg><line stroke=\"black\" x1=\"50%\" x2=\"50%\" y1=\"1.2em\" y2=\"3em\" /></svg><line stroke=\"black\" x1=\"50%\" x2=\"32.1429%\" y1=\"1.2em\" y2=\"3em\" /><svg width=\"35.7143%\" x=\"64.2857%\" y=\"3em\"><defs /><svg width=\"100%\" x=\"0\" y=\"0em\"><defs /><text text-anchor=\"middle\" x=\"50%\" y=\"1em\">is</text></svg><svg width=\"100%\" x=\"0%\" y=\"3em\"><defs /><svg width=\"100%\" x=\"0\" y=\"0em\"><defs /><text text-anchor=\"middle\" x=\"50%\" y=\"1em\">VBZ</text></svg></svg><line stroke=\"black\" x1=\"50%\" x2=\"50%\" y1=\"1.2em\" y2=\"3em\" /></svg><line stroke=\"black\" x1=\"50%\" x2=\"82.1429%\" y1=\"1.2em\" y2=\"3em\" /></svg><line stroke=\"black\" x1=\"50%\" x2=\"17.3913%\" y1=\"1.2em\" y2=\"3em\" /><svg width=\"5.07246%\" x=\"22.4638%\" y=\"3em\"><defs /><svg width=\"100%\" x=\"0\" y=\"0em\"><defs /><text text-anchor=\"middle\" x=\"50%\" y=\"1em\">still</text></svg><svg width=\"100%\" x=\"0%\" y=\"3em\"><defs /><svg width=\"100%\" x=\"0\" y=\"0em\"><defs /><text text-anchor=\"middle\" x=\"50%\" y=\"1em\">RB</text></svg></svg><line stroke=\"black\" x1=\"50%\" x2=\"50%\" y1=\"1.2em\" y2=\"3em\" /></svg><line stroke=\"black\" x1=\"50%\" x2=\"25%\" y1=\"1.2em\" y2=\"3em\" /><svg width=\"5.07246%\" x=\"27.5362%\" y=\"3em\"><defs /><svg width=\"100%\" x=\"0\" y=\"0em\"><defs /><text text-anchor=\"middle\" x=\"50%\" y=\"1em\">there</text></svg><svg width=\"100%\" x=\"0%\" y=\"3em\"><defs /><svg width=\"100%\" x=\"0\" y=\"0em\"><defs /><text text-anchor=\"middle\" x=\"50%\" y=\"1em\">RB</text></svg></svg><line stroke=\"black\" x1=\"50%\" x2=\"50%\" y1=\"1.2em\" y2=\"3em\" /></svg><line stroke=\"black\" x1=\"50%\" x2=\"30.0725%\" y1=\"1.2em\" y2=\"3em\" /><svg width=\"2.17391%\" x=\"32.6087%\" y=\"3em\"><defs /><svg width=\"100%\" x=\"0\" y=\"0em\"><defs /><text text-anchor=\"middle\" x=\"50%\" y=\"1em\">,</text></svg><svg width=\"100%\" x=\"0%\" y=\"3em\"><defs /><svg width=\"100%\" x=\"0\" y=\"0em\"><defs /><text text-anchor=\"middle\" x=\"50%\" y=\"1em\">,</text></svg></svg><line stroke=\"black\" x1=\"50%\" x2=\"50%\" y1=\"1.2em\" y2=\"3em\" /></svg><line stroke=\"black\" x1=\"50%\" x2=\"33.6957%\" y1=\"1.2em\" y2=\"3em\" /><svg width=\"3.62319%\" x=\"34.7826%\" y=\"3em\"><defs /><svg width=\"100%\" x=\"0\" y=\"0em\"><defs /><text text-anchor=\"middle\" x=\"50%\" y=\"1em\">but</text></svg><svg width=\"100%\" x=\"0%\" y=\"3em\"><defs /><svg width=\"100%\" x=\"0\" y=\"0em\"><defs /><text text-anchor=\"middle\" x=\"50%\" y=\"1em\">CC</text></svg></svg><line stroke=\"black\" x1=\"50%\" x2=\"50%\" y1=\"1.2em\" y2=\"3em\" /></svg><line stroke=\"black\" x1=\"50%\" x2=\"36.5942%\" y1=\"1.2em\" y2=\"3em\" /><svg width=\"2.89855%\" x=\"38.4058%\" y=\"3em\"><defs /><svg width=\"100%\" x=\"0\" y=\"0em\"><defs /><text text-anchor=\"middle\" x=\"50%\" y=\"1em\">in</text></svg><svg width=\"100%\" x=\"0%\" y=\"3em\"><defs /><svg width=\"100%\" x=\"0\" y=\"0em\"><defs /><text text-anchor=\"middle\" x=\"50%\" y=\"1em\">IN</text></svg></svg><line stroke=\"black\" x1=\"50%\" x2=\"50%\" y1=\"1.2em\" y2=\"3em\" /></svg><line stroke=\"black\" x1=\"50%\" x2=\"39.8551%\" y1=\"1.2em\" y2=\"3em\" /><svg width=\"2.89855%\" x=\"41.3043%\" y=\"3em\"><defs /><svg width=\"100%\" x=\"0\" y=\"0em\"><defs /><text text-anchor=\"middle\" x=\"50%\" y=\"1em\">a</text></svg><svg width=\"100%\" x=\"0%\" y=\"3em\"><defs /><svg width=\"100%\" x=\"0\" y=\"0em\"><defs /><text text-anchor=\"middle\" x=\"50%\" y=\"1em\">DT</text></svg></svg><line stroke=\"black\" x1=\"50%\" x2=\"50%\" y1=\"1.2em\" y2=\"3em\" /></svg><line stroke=\"black\" x1=\"50%\" x2=\"42.7536%\" y1=\"1.2em\" y2=\"3em\" /><svg width=\"5.07246%\" x=\"44.2029%\" y=\"3em\"><defs /><svg width=\"100%\" x=\"0\" y=\"0em\"><defs /><text text-anchor=\"middle\" x=\"50%\" y=\"1em\">heavy</text></svg><svg width=\"100%\" x=\"0%\" y=\"3em\"><defs /><svg width=\"100%\" x=\"0\" y=\"0em\"><defs /><text text-anchor=\"middle\" x=\"50%\" y=\"1em\">JJ</text></svg></svg><line stroke=\"black\" x1=\"50%\" x2=\"50%\" y1=\"1.2em\" y2=\"3em\" /></svg><line stroke=\"black\" x1=\"50%\" x2=\"46.7391%\" y1=\"1.2em\" y2=\"3em\" /><svg width=\"7.24638%\" x=\"49.2754%\" y=\"3em\"><defs /><svg width=\"100%\" x=\"0\" y=\"0em\"><defs /><text text-anchor=\"middle\" x=\"50%\" y=\"1em\">downward</text></svg><svg width=\"100%\" x=\"0%\" y=\"3em\"><defs /><svg width=\"100%\" x=\"0\" y=\"0em\"><defs /><text text-anchor=\"middle\" x=\"50%\" y=\"1em\">JJ</text></svg></svg><line stroke=\"black\" x1=\"50%\" x2=\"50%\" y1=\"1.2em\" y2=\"3em\" /></svg><line stroke=\"black\" x1=\"50%\" x2=\"52.8986%\" y1=\"1.2em\" y2=\"3em\" /><svg width=\"5.7971%\" x=\"56.5217%\" y=\"3em\"><defs /><svg width=\"100%\" x=\"0\" y=\"0em\"><defs /><text text-anchor=\"middle\" x=\"50%\" y=\"1em\">spiral</text></svg><svg width=\"100%\" x=\"0%\" y=\"3em\"><defs /><svg width=\"100%\" x=\"0\" y=\"0em\"><defs /><text text-anchor=\"middle\" x=\"50%\" y=\"1em\">NN</text></svg></svg><line stroke=\"black\" x1=\"50%\" x2=\"50%\" y1=\"1.2em\" y2=\"3em\" /></svg><line stroke=\"black\" x1=\"50%\" x2=\"59.4203%\" y1=\"1.2em\" y2=\"3em\" /><svg width=\"4.34783%\" x=\"62.3188%\" y=\"3em\"><defs /><svg width=\"100%\" x=\"0\" y=\"0em\"><defs /><text text-anchor=\"middle\" x=\"50%\" y=\"1em\">with</text></svg><svg width=\"100%\" x=\"0%\" y=\"3em\"><defs /><svg width=\"100%\" x=\"0\" y=\"0em\"><defs /><text text-anchor=\"middle\" x=\"50%\" y=\"1em\">IN</text></svg></svg><line stroke=\"black\" x1=\"50%\" x2=\"50%\" y1=\"1.2em\" y2=\"3em\" /></svg><line stroke=\"black\" x1=\"50%\" x2=\"64.4928%\" y1=\"1.2em\" y2=\"3em\" /><svg width=\"2.89855%\" x=\"66.6667%\" y=\"3em\"><defs /><svg width=\"100%\" x=\"0\" y=\"0em\"><defs /><text text-anchor=\"middle\" x=\"50%\" y=\"1em\">so</text></svg><svg width=\"100%\" x=\"0%\" y=\"3em\"><defs /><svg width=\"100%\" x=\"0\" y=\"0em\"><defs /><text text-anchor=\"middle\" x=\"50%\" y=\"1em\">RB</text></svg></svg><line stroke=\"black\" x1=\"50%\" x2=\"50%\" y1=\"1.2em\" y2=\"3em\" /></svg><line stroke=\"black\" x1=\"50%\" x2=\"68.1159%\" y1=\"1.2em\" y2=\"3em\" /><svg width=\"19.5652%\" x=\"69.5652%\" y=\"3em\"><defs /><svg width=\"100%\" x=\"0\" y=\"0em\"><defs /><text text-anchor=\"middle\" x=\"50%\" y=\"1em\">VP</text></svg><svg width=\"22.2222%\" x=\"0%\" y=\"3em\"><defs /><svg width=\"100%\" x=\"0\" y=\"0em\"><defs /><text text-anchor=\"middle\" x=\"50%\" y=\"1em\">many</text></svg><svg width=\"100%\" x=\"0%\" y=\"3em\"><defs /><svg width=\"100%\" x=\"0\" y=\"0em\"><defs /><text text-anchor=\"middle\" x=\"50%\" y=\"1em\">JJ</text></svg></svg><line stroke=\"black\" x1=\"50%\" x2=\"50%\" y1=\"1.2em\" y2=\"3em\" /></svg><line stroke=\"black\" x1=\"50%\" x2=\"11.1111%\" y1=\"1.2em\" y2=\"3em\" /><svg width=\"29.6296%\" x=\"22.2222%\" y=\"3em\"><defs /><svg width=\"100%\" x=\"0\" y=\"0em\"><defs /><text text-anchor=\"middle\" x=\"50%\" y=\"1em\">things</text></svg><svg width=\"100%\" x=\"0%\" y=\"3em\"><defs /><svg width=\"100%\" x=\"0\" y=\"0em\"><defs /><text text-anchor=\"middle\" x=\"50%\" y=\"1em\">NNS</text></svg></svg><line stroke=\"black\" x1=\"50%\" x2=\"50%\" y1=\"1.2em\" y2=\"3em\" /></svg><line stroke=\"black\" x1=\"50%\" x2=\"37.037%\" y1=\"1.2em\" y2=\"3em\" /><svg width=\"25.9259%\" x=\"51.8519%\" y=\"3em\"><defs /><svg width=\"100%\" x=\"0\" y=\"0em\"><defs /><text text-anchor=\"middle\" x=\"50%\" y=\"1em\">being</text></svg><svg width=\"100%\" x=\"0%\" y=\"3em\"><defs /><svg width=\"100%\" x=\"0\" y=\"0em\"><defs /><text text-anchor=\"middle\" x=\"50%\" y=\"1em\">VBG</text></svg></svg><line stroke=\"black\" x1=\"50%\" x2=\"50%\" y1=\"1.2em\" y2=\"3em\" /></svg><line stroke=\"black\" x1=\"50%\" x2=\"64.8148%\" y1=\"1.2em\" y2=\"3em\" /><svg width=\"22.2222%\" x=\"77.7778%\" y=\"3em\"><defs /><svg width=\"100%\" x=\"0\" y=\"0em\"><defs /><text text-anchor=\"middle\" x=\"50%\" y=\"1em\">made</text></svg><svg width=\"100%\" x=\"0%\" y=\"3em\"><defs /><svg width=\"100%\" x=\"0\" y=\"0em\"><defs /><text text-anchor=\"middle\" x=\"50%\" y=\"1em\">VBN</text></svg></svg><line stroke=\"black\" x1=\"50%\" x2=\"50%\" y1=\"1.2em\" y2=\"3em\" /></svg><line stroke=\"black\" x1=\"50%\" x2=\"88.8889%\" y1=\"1.2em\" y2=\"3em\" /></svg><line stroke=\"black\" x1=\"50%\" x2=\"79.3478%\" y1=\"1.2em\" y2=\"3em\" /><svg width=\"7.24638%\" x=\"89.1304%\" y=\"3em\"><defs /><svg width=\"100%\" x=\"0\" y=\"0em\"><defs /><text text-anchor=\"middle\" x=\"50%\" y=\"1em\">overseas</text></svg><svg width=\"100%\" x=\"0%\" y=\"3em\"><defs /><svg width=\"100%\" x=\"0\" y=\"0em\"><defs /><text text-anchor=\"middle\" x=\"50%\" y=\"1em\">NNS</text></svg></svg><line stroke=\"black\" x1=\"50%\" x2=\"50%\" y1=\"1.2em\" y2=\"3em\" /></svg><line stroke=\"black\" x1=\"50%\" x2=\"92.7536%\" y1=\"1.2em\" y2=\"3em\" /><svg width=\"3.62319%\" x=\"96.3768%\" y=\"3em\"><defs /><svg width=\"100%\" x=\"0\" y=\"0em\"><defs /><text text-anchor=\"middle\" x=\"50%\" y=\"1em\">...</text></svg><svg width=\"100%\" x=\"0%\" y=\"3em\"><defs /><svg width=\"100%\" x=\"0\" y=\"0em\"><defs /><text text-anchor=\"middle\" x=\"50%\" y=\"1em\">:</text></svg></svg><line stroke=\"black\" x1=\"50%\" x2=\"50%\" y1=\"1.2em\" y2=\"3em\" /></svg><line stroke=\"black\" x1=\"50%\" x2=\"98.1884%\" y1=\"1.2em\" y2=\"3em\" /></svg>",
      "text/plain": [
       "Tree('S', [('I', 'PRP'), ('think', 'VBP'), ('the', 'DT'), Tree('VP', [('feeling', 'NN'), ('is', 'VBZ')]), ('still', 'RB'), ('there', 'RB'), (',', ','), ('but', 'CC'), ('in', 'IN'), ('a', 'DT'), ('heavy', 'JJ'), ('downward', 'JJ'), ('spiral', 'NN'), ('with', 'IN'), ('so', 'RB'), Tree('VP', [('many', 'JJ'), ('things', 'NNS'), ('being', 'VBG'), ('made', 'VBN')]), ('overseas', 'NNS'), ('...', ':')])"
      ]
     },
     "metadata": {},
     "output_type": "display_data"
    }
   ],
   "source": [
    "display(movie_reviews.vp_chunked[44][7])"
   ]
  },
  {
   "cell_type": "markdown",
   "metadata": {},
   "source": [
    "Also quite good, but we probably need to remove stop words to get most common phrases. We are going to use default `nltk` stop words list, but also put some common words from this corpora to get more meaningful results. Initial results contained a lot of phrases with a word \"film\" or \"movie\" which is expected from this corpora and does not tell us anything new."
   ]
  },
  {
   "cell_type": "code",
   "execution_count": 20,
   "metadata": {},
   "outputs": [],
   "source": [
    "stop_words = set(stopwords.words('english'))\n",
    "custom_stop_words = [\n",
    "    'anyone', 'goes', 'give', 'make', 'made', 'get', 'going', 'gets', 'better', 'done', 'worse', 'everyone', 'great', 'even',\n",
    "    'someone', 'n\\'t', 'something', 'best', 'worst', 'anything', 'everything', 'nothing', 'worth', 'years', 'year', 'people',\n",
    "    'movie', 'one', 'story', 'plot', 'film', 'films', 'good', 'really', 'first', '*', 'thing', 'many', 'much', 'really', 'things',\n",
    "    'last', 'next', 'main', 'bad', 'long', 'bit', 'second', 'several', 'lot', 'named', 'seem', 'seemed', 'seems', 'Everyone', 'Go', 'IT', \n",
    "    'come', 'go', 'take', 'however', 'also', 'quite', 'may', 'rather',  'yet', 'find', 'take', 'would', 'see', 'like', 'say', 'know',\n",
    "    'could', 'want']\n",
    "stop_words = stop_words.union(custom_stop_words)"
   ]
  },
  {
   "cell_type": "code",
   "execution_count": 21,
   "metadata": {},
   "outputs": [],
   "source": [
    "def chunk_counter(column, label, stopwords = []):\n",
    "    word_freq = nltk.FreqDist()\n",
    "    for review in column:\n",
    "        for tree in review:\n",
    "            for chunk in tree.subtrees(lambda node: \n",
    "                    node.label() == label\n",
    "                    and sum([word in stopwords for (word, tag) in node.leaves()]) == 0):\n",
    "                word_freq[str(chunk.flatten())] += 1\n",
    "    return word_freq"
   ]
  },
  {
   "cell_type": "markdown",
   "metadata": {},
   "source": [
    "Let's review 50 most common noun phrases from 50 thousand reviews texsts. "
   ]
  },
  {
   "cell_type": "code",
   "execution_count": 22,
   "metadata": {},
   "outputs": [
    {
     "data": {
      "text/plain": [
       "[('(NP special/JJ effects/NNS)', 1284),\n",
       " ('(NP New/NNP York/NNP)', 634),\n",
       " ('(NP real/JJ life/NN)', 622),\n",
       " ('(NP character/NN development/NN)', 431),\n",
       " ('(NP low/JJ budget/NN)', 390),\n",
       " ('(NP big/JJ fan/NN)', 360),\n",
       " ('(NP young/JJ man/NN)', 360),\n",
       " ('(NP high/JJ school/NN)', 358),\n",
       " ('(NP big/JJ screen/NN)', 337),\n",
       " ('(NP young/JJ woman/NN)', 290),\n",
       " ('(NP camera/NN work/NN)', 285),\n",
       " ('(NP TV/NN series/NN)', 279),\n",
       " ('(NP subject/JJ matter/NN)', 269),\n",
       " ('(NP production/NN values/NNS)', 267),\n",
       " ('(NP old/JJ man/NN)', 254),\n",
       " ('(NP little/JJ girl/NN)', 248),\n",
       " ('(NP action/NN scenes/NNS)', 248),\n",
       " ('(NP United/NNP States/NNPS)', 243),\n",
       " ('(NP young/JJ girl/NN)', 239),\n",
       " ('(NP horror/NN movies/NNS)', 236),\n",
       " ('(NP fight/NN scenes/NNS)', 224),\n",
       " ('(NP final/JJ scene/NN)', 223),\n",
       " ('(NP huge/JJ fan/NN)', 219),\n",
       " ('(NP small/JJ town/NN)', 216),\n",
       " ('(NP serial/JJ killer/NN)', 207),\n",
       " ('(NP TV/NN show/NN)', 205),\n",
       " ('(NP sex/NN scenes/NNS)', 201),\n",
       " ('(NP Star/NNP Wars/NNP)', 200),\n",
       " ('(NP video/NN store/NN)', 191),\n",
       " ('(NP New/NNP York/NNP City/NNP)', 187),\n",
       " ('(NP opening/NN credits/NNS)', 184),\n",
       " ('(NP completely/RB different/JJ)', 182),\n",
       " ('(NP real/JJ world/NN)', 178),\n",
       " ('(NP action/NN sequences/NNS)', 172),\n",
       " ('(NP opening/NN scene/NN)', 171),\n",
       " ('(NP Los/NNP Angeles/NNP)', 168),\n",
       " ('(NP young/JJ boy/NN)', 164),\n",
       " ('(NP love/NN interest/NN)', 162),\n",
       " ('(NP box/NN office/NN)', 159),\n",
       " ('(NP World/NNP War/NNP II/NNP)', 158),\n",
       " ('(NP complete/JJ waste/NN)', 157),\n",
       " ('(NP screen/JJ time/NN)', 157),\n",
       " ('(NP hard/JJ time/NN)', 150),\n",
       " ('(NP excellent/JJ job/NN)', 150),\n",
       " ('(NP Star/NNP Trek/NNP)', 148),\n",
       " ('(NP lead/JJ character/NN)', 147),\n",
       " ('(NP comic/JJ relief/NN)', 146),\n",
       " ('(NP musical/JJ score/NN)', 146),\n",
       " ('(NP Hong/NNP Kong/NNP)', 143),\n",
       " ('(NP little/JJ boy/NN)', 140)]"
      ]
     },
     "execution_count": 22,
     "metadata": {},
     "output_type": "execute_result"
    }
   ],
   "source": [
    "chunk_counter(movie_reviews.np_chunked, 'NP', stop_words).most_common(50)"
   ]
  },
  {
   "cell_type": "markdown",
   "metadata": {},
   "source": [
    "There are some interersting findings, for example: \n",
    "- The absolute hero in mention count is a noun phrase `special effects`, with the count 1284.\n",
    "- Most common city names are `New-York` (more than 700 times), `Los Angeles` (168) and `Hong Kong` (143). \n",
    "- Quite big mention count compared to others has a phrase `real life` with 622 of them as well as `real world` with 178. \n",
    "- Most common country name is the `US` (243). \n",
    "- There are a few big movies and TV series projects mentioned like `Star Wars` (200) and `Star Treck` (148).\n",
    "- The unexpected finding is `World War II`, which is still mentioned 158 times many years after.\n",
    "- `Low budget` is mentioned 390 times, which is significant compared to other phrases. At the same time any variations of `big budget` didn't get into the list. \n",
    "- There are some generic phrases describing characters age and gender: `young man` (360 times mentioned), `young woman` (290), `old man` (254), `little girl` (248), `young girl` (239), `young boy` (164), `little boy` (140). \n",
    "- There are many phrases that are specific to the sphere, like: `big screen` (337), `camera work` (285), `TV series` (279), `production values` (267), `action scenes` (248), `horror movies` (236), `fight scenes` (224), `final scene` (223), `sex scenes` (201), `video store`(191), `opening credits` (184), `box office` (159), `screen time` (157), `lead character` (147), `comic relief` (146).\n",
    "- Apparantly there are a lot of movies picturing a `small town` (216 metiones) and `serial killer` (207).\n",
    "- Some reviewers also mentioned `musical score` (146) in their reviews."
   ]
  },
  {
   "cell_type": "code",
   "execution_count": 23,
   "metadata": {},
   "outputs": [
    {
     "data": {
      "text/plain": [
       "[('(VP happy/JJ ending/VBG)', 183),\n",
       " ('(VP time/NN watching/VBG)', 120),\n",
       " ('(VP pun/NN intended/VBN)', 64),\n",
       " ('(VP cast/NN includes/VBZ)', 59),\n",
       " ('(VP life/NN watching/VBG)', 50),\n",
       " ('(VP familiar/JJ faces/VBZ)', 49),\n",
       " ('(VP end/NN credits/VBZ)', 49),\n",
       " ('(VP actor/NN playing/VBG)', 47),\n",
       " ('(VP Simply/NNP put/VBD)', 46),\n",
       " ('(VP old/JJ fashioned/VBN)', 45),\n",
       " ('(VP character/NN played/VBN)', 44),\n",
       " ('(VP cult/NN following/VBG)', 43),\n",
       " ('(VP cheap/JJ looking/VBG)', 43),\n",
       " ('(VP actors/NNS playing/VBG)', 42),\n",
       " ('(VP middle/JJ aged/VBN)', 42),\n",
       " ('(VP action/NN takes/VBZ)', 41),\n",
       " ('(VP God/NNP knows/VBZ)', 36),\n",
       " ('(VP actors/NNS look/VBP)', 35),\n",
       " ('(VP scenes/NNS involving/VBG)', 33),\n",
       " ('(VP predictable/JJ ending/VBG)', 33),\n",
       " ('(VP heavy/JJ handed/VBN)', 33),\n",
       " ('(VP Highly/NNP recommended/VBD)', 33),\n",
       " ('(VP minute/NN running/VBG)', 32),\n",
       " ('(VP action/NN packed/VBD)', 31),\n",
       " ('(VP fun/NN watching/VBG)', 31),\n",
       " ('(VP surprise/NN ending/VBG)', 29),\n",
       " ('(VP actress/NN playing/VBG)', 29),\n",
       " ('(VP award/NN winning/VBG)', 29),\n",
       " ('(VP camera/NN pans/VBZ)', 28),\n",
       " ('(VP director/NN wanted/VBD)', 28),\n",
       " ('(VP well/NN known/VBN)', 28),\n",
       " ('(VP light/JJ hearted/VBN)', 27),\n",
       " ('(VP Worth/JJ seeing/VBG)', 27),\n",
       " ('(VP poor/JJ acting/VBG)', 26),\n",
       " ('(VP lesser/JJR known/VBN)', 25),\n",
       " ('(VP computer/NN generated/VBD)', 25),\n",
       " ('(VP twist/NN ending/VBG)', 25),\n",
       " ('(VP credits/NNS roll/VBP)', 25),\n",
       " ('(VP title/NN suggests/VBZ)', 24),\n",
       " ('(VP less/NN said/VBD)', 24),\n",
       " ('(VP scene/NN involving/VBG)', 23),\n",
       " ('(VP slow/JJ moving/VBG)', 23),\n",
       " ('(VP events/NNS leading/VBG)', 23),\n",
       " ('(VP credits/NNS rolled/VBN)', 23),\n",
       " ('(VP movies/NNS based/VBN)', 22),\n",
       " ('(VP terrible/JJ acting/VBG)', 22),\n",
       " ('(VP guy/NN playing/VBG)', 22),\n",
       " ('(VP title/NN says/VBZ)', 22),\n",
       " ('(VP time/NN spent/VBN)', 22),\n",
       " ('(VP THIS/NNP IS/VBZ)', 21)]"
      ]
     },
     "execution_count": 23,
     "metadata": {},
     "output_type": "execute_result"
    }
   ],
   "source": [
    "chunk_counter(movie_reviews.vp_chunked, 'VP', stop_words).most_common(50)"
   ]
  },
  {
   "cell_type": "markdown",
   "metadata": {},
   "source": [
    "In VP list we concentrated on descriptive verb phrases that are not filled with too common words like \"worth\" plus verb, or forms of \"to be\" plus \"actor\" word, that absolutely dominate the review corpora though don't add any specifics. In the end we got the following statistics: \n",
    "\n",
    "- There are many phrases that describe movie or series endings, like: `predictable ending` (33), `surprise ending` (29), `twist ending` (25), `happy ending` dominates this list though, with the count 183.\n",
    "- Phrase `pun intended` (64) pops up quite often.\n",
    "- Some phrases were many times incorrectly determined as VP, like `familiar faces` (49).\n",
    "- There are some negative descriptive phrases like: `cheap looking` (43), `heavy handed` (33), `poor acting` (26), `terrible acting` (22).\n",
    "- And some positive: `Highly recommended` (33), `fun watching` (31), `award winning` (29), `Worth seeing` (27).\n",
    "- Some context dependant descriptive phrases: `old fashioned` (45), `God knows` (36), `action packed` (31), `well known` (28),`light hearted` (27),  `computer generated` (25), `slow moving` (23).\n",
    "- Some industry generic phrases like `time watching` (120), `cast includes` (59), `end credits` (49) etc.\n",
    "- Unexpected finding like `cult following` with 43 mentions.\n",
    "- Characters or actors involving phrases: `actor playing` (47), `character played` (44), `actors playing` (42), `actors look` (35), `actress playing` (29), `characters come` (23), `guy playing` (22)."
   ]
  },
  {
   "cell_type": "markdown",
   "metadata": {},
   "source": [
    "## Topic modelling via LDA model\n",
    "\n",
    "We are going to use a Latent Dirichlet Allocation model to perform our topic modelling. LDA is an unsupervised, machine learning, clustering technique that is commonly used in the commercial field for text analysis. Our IMDB corpora set is quite extensive, so this model will take time to train itself. But first, let's prepare our texts in a more thorough way than before and add some additional preprocessing steps. \n",
    "\n",
    "### Preprocessing: phase 2\n",
    "\n",
    "- lower-case;\n",
    "- remove punctuation;\n",
    "- remove digits;\n",
    "- lemmatise.\n",
    "\n",
    "Considering that we performed minimum preprocessing for POS tagging continue preprocessing with current tags will be a bit more tedious, but manageable. Let's hope our contextual pos-tags are better than dictionary-based. To map tags from `sent_pos_tagged` and those which are accepted by `lemmatiser` we are going to use a `tag_map` located in a separate file. "
   ]
  },
  {
   "cell_type": "code",
   "execution_count": 24,
   "metadata": {},
   "outputs": [],
   "source": [
    "from nltk.stem import WordNetLemmatizer\n",
    "from tag_map import tag_map\n",
    "\n",
    "normalizer = WordNetLemmatizer()"
   ]
  },
  {
   "cell_type": "code",
   "execution_count": 25,
   "metadata": {},
   "outputs": [
    {
     "data": {
      "text/plain": [
       "0    [[one, of, the, other, reviewer, have, mention, that, after, watch, just, 1, oz, episode, you, 'll, be, hook, .], [they, be, right, ,, as, this, be, exactly, what, happen, with, me.the, first, thing, that, strike, me, about, oz, be, it, brutality, and, unflinching, scene, of, violence, ,, which, set, in, right, from, the, word, go, .], [trust, me, ,, this, be, not, a, show, for, the, faint, hearted, or, timid, .], [this, show, pull, no, punch, with, regard, to, drug, ,, sex, or, violence, .], [its, be, hardcore, ,, in, the, classic, use, of, the, word.it, be, call, oz, as, that, be, the, nickname, give, to, the, oswald, maximum, security, state, penitentary, .], [it, focus, mainly, on, emerald, city, ,, an, experimental, section, of, the, prison, where, all, the, cell, have, glass, front, and, face, inwards, ,, so, privacy, be, not, high, on, the, agenda, .], [em, city, be, home, to, many, .., aryans, ,, muslims, ,, gangsta, ,, latinos, ,, christians, ,, italians, ,, irish, and, scuffle, ,, death, stare, ,, dodgy, dealing, and, shady, agreement, be, never, far, away.i, would, say, the, main, appeal, of, the, show, be, due, to, the, fact, that, it, go, where, other, show, would, n't, dare, .], [forget, pretty, picture, paint, for, mainstream, audience, ,, forget, charm, ,, forget, romance, ..., oz, do, n't, mess, around, .], [the, first, episode, i, ever, saw, strike, me, as, so, nasty, it, be, surreal, ,, i, could, n't, say, i, be, ready, for, it, ,, but, as, i, watch, more, ,, i, develop, a, taste, for, oz, ,, and, get, accustom, to, the, high, level, of, graphic, violence, .], [not, just, violence, ,, but, injustice, (, crooked, guard, who, 'll, be, sell, out, for, a, nickel, ,, inmate, who, 'll, kill, on, order, and, get, away, with, it, ,, well, mannered, ,, middle, class, inmate, be, turn, into, prison, bitch, due, to, their, lack, of, street, skill, or, prison, experience, ), watching, oz, ,, you, may, become, comfortable, with, what, be, uncomfortable, if, you, can, get, in, touch, with, your, darker, side, .]]\n",
       "Name: sent_pos_tagged, dtype: object"
      ]
     },
     "execution_count": 25,
     "metadata": {},
     "output_type": "execute_result"
    }
   ],
   "source": [
    "def lemmatise_text(reviews):\n",
    "    return [[normalizer.lemmatize(token, tag_map[tag] or 'n').lower() for (token, tag) in review] for review in reviews]\n",
    "\n",
    "# Testing lemmatisation and lowercasing on the 1st sentence of sent_pos_tagged\n",
    "movie_reviews[:1].sent_pos_tagged.apply(lemmatise_text)"
   ]
  },
  {
   "cell_type": "code",
   "execution_count": 26,
   "metadata": {},
   "outputs": [
    {
     "data": {
      "text/plain": [
       "['wonderful',\n",
       " 'little',\n",
       " 'production',\n",
       " 'filming',\n",
       " 'technique',\n",
       " 'unassuming-',\n",
       " 'old-time-bbc',\n",
       " 'fashion',\n",
       " 'comforting',\n",
       " 'sometimes']"
      ]
     },
     "execution_count": 26,
     "metadata": {},
     "output_type": "execute_result"
    }
   ],
   "source": [
    "# Create list of lists with all words for processing\n",
    "docs = []\n",
    "for review in movie_reviews.sent_pos_tagged.apply(lemmatise_text):\n",
    "    doc = []\n",
    "    for sentence in review:\n",
    "        doc += sentence\n",
    "    docs.append(doc)\n",
    "\n",
    "# Remove numbers, but not words that contain numbers\n",
    "docs = [[token for token in doc if not token.isnumeric() and not token in stop_words and re.match(r'\\W+', token) is None] for doc in docs]\n",
    "\n",
    "# Remove words that are only one character\n",
    "docs = [[token for token in doc if len(token) > 1] for doc in docs]\n",
    "docs[1][:10]"
   ]
  },
  {
   "cell_type": "markdown",
   "metadata": {},
   "source": [
    "Result: seems like our current tokeniser did not do very great, considering that he couldn't separate `'me.the'` words, probably because someone forgot to put a space in this spot. Fortunately, that does not seem like a common issue, so we'll proceed as it is. \n",
    "\n",
    "### Build an N-gram Phrase Model\n",
    "\n",
    "Before feature engineering and vectorization, we want to extract some useful n-gram-based phrases from our texts and remove some unnecessary terms. To achieve it we'll leverage a `gensim's` model `Phrases` and active `Dictionary`. It will help us automatically detect common phrases from a stream of sentences, which are typically multi-word expressions, and filter our super common or rare words that are not good candidates for topic modelling.  "
   ]
  },
  {
   "cell_type": "code",
   "execution_count": 27,
   "metadata": {},
   "outputs": [
    {
     "name": "stdout",
     "output_type": "stream",
     "text": [
      "['petter', 'mattei', 'love', 'time', 'money', 'visually_stunning', 'watch', 'mr.', 'mattei', 'offer', 'vivid', 'portrait', 'human', 'relation', 'tell', 'money', 'power', 'success', 'different', 'situation', 'encounter', 'variation', 'arthur', 'schnitzler', 'play', 'theme', 'director', 'transfer', 'action', 'present', 'time', 'new_york', 'different', 'character', 'meet', 'connect', 'connect', 'way', 'another', 'person', 'previous', 'point', 'contact', 'stylishly', 'sophisticated', 'luxurious', 'look', 'live', 'world', 'live']\n"
     ]
    }
   ],
   "source": [
    "from gensim.models import Phrases\n",
    "import gensim\n",
    "\n",
    "bigram = gensim.models.Phrases(docs, min_count=20, threshold=20, delimiter='_') # higher threshold fewer phrases.\n",
    "bigram_model = gensim.models.phrases.Phraser(bigram)\n",
    "\n",
    "print(bigram_model[docs[4]][:50])"
   ]
  },
  {
   "cell_type": "code",
   "execution_count": 28,
   "metadata": {},
   "outputs": [],
   "source": [
    "docs_bigrams = [bigram_model[doc] for doc in docs]"
   ]
  },
  {
   "cell_type": "markdown",
   "metadata": {},
   "source": [
    "Now let's remove too rare or common tokens."
   ]
  },
  {
   "cell_type": "code",
   "execution_count": 29,
   "metadata": {},
   "outputs": [],
   "source": [
    "from gensim.corpora import Dictionary\n",
    "\n",
    "# Create a dictionary representation of the documents\n",
    "dictionary = Dictionary(docs_bigrams)\n",
    "\n",
    "# Filter out words that occur less than 20 documents, or more than 60% of the documents\n",
    "dictionary.filter_extremes(no_below=20, no_above=0.6)"
   ]
  },
  {
   "cell_type": "markdown",
   "metadata": {},
   "source": [
    "### Vectorisation with BoW"
   ]
  },
  {
   "cell_type": "code",
   "execution_count": 30,
   "metadata": {},
   "outputs": [],
   "source": [
    "# Bag-of-words representation of the documents\n",
    "bow_corpus = [dictionary.doc2bow(doc) for doc in docs_bigrams]"
   ]
  },
  {
   "cell_type": "code",
   "execution_count": 31,
   "metadata": {},
   "outputs": [
    {
     "name": "stdout",
     "output_type": "stream",
     "text": [
      "Number of unique tokens: 16860\n",
      "Number of documents: 50000\n"
     ]
    }
   ],
   "source": [
    "print('Number of unique tokens: %d' % len(dictionary))\n",
    "print('Number of documents: %d' % len(bow_corpus))"
   ]
  },
  {
   "cell_type": "markdown",
   "metadata": {},
   "source": [
    "### Training LDA model\n",
    "\n",
    "We have everything required to train the LDA model. In addition to the corpus and dictionary, we need to provide the number of topics as well. We'll start with 10 and see what we'll get. "
   ]
  },
  {
   "cell_type": "code",
   "execution_count": 32,
   "metadata": {},
   "outputs": [],
   "source": [
    "# Activate logging if required\n",
    "# import logging\n",
    "# logging.basicConfig(format='%(asctime)s : %(levelname)s : %(message)s', level=logging.DEBUG)\n",
    "\n",
    "from gensim.models import LdaModel\n",
    "\n",
    "def train_lda(num_topics, chunksize, passes, iterations, eval_every=None):\n",
    "\n",
    "    # Make an index to word dictionary.\n",
    "    temp = dictionary[0]  # This is only to \"load\" the dictionary.\n",
    "    id2word = dictionary.id2token\n",
    "    # Train LDA model\n",
    "    return LdaModel(\n",
    "        corpus=bow_corpus,\n",
    "        id2word=id2word,\n",
    "        chunksize=chunksize,\n",
    "        alpha='auto',\n",
    "        eta='auto',\n",
    "        iterations=iterations,\n",
    "        num_topics=num_topics,\n",
    "        passes=passes,\n",
    "        eval_every=eval_every\n",
    "    )\n",
    "\n",
    "# Serialise lda model with 10 topics\n",
    "lda_model = with_pickle('pickles/lda_model.pickle', lambda : train_lda(num_topics=10, chunksize=2000, passes=600, iterations=5000))"
   ]
  },
  {
   "cell_type": "markdown",
   "metadata": {},
   "source": [
    "### Evaluating topic model quality\n",
    "\n",
    "We can use perplexity and coherence scores as measures to evaluate the topic model. Typically, lower the perplexity, the better the model. Similarly, the lower the UMass score and the higher the Cv score in coherence, the better the model."
   ]
  },
  {
   "cell_type": "code",
   "execution_count": 52,
   "metadata": {},
   "outputs": [],
   "source": [
    "from gensim.models.coherencemodel import CoherenceModel\n",
    "\n",
    "def coherance_and_perplexity(model_name):\n",
    "    # Find c_v coherance\n",
    "    cv_coherence_model_lda = gensim.models.CoherenceModel(model=model_name, corpus=bow_corpus, \n",
    "                                                                texts=docs_bigrams,\n",
    "                                                                dictionary=dictionary, \n",
    "                                                                coherence='c_v')\n",
    "    avg_coherence_cv = cv_coherence_model_lda.get_coherence()\n",
    "\n",
    "    # Find u_mass coherance\n",
    "    umass_coherence_model_lda = gensim.models.CoherenceModel(model=model_name, corpus=bow_corpus, \n",
    "                                                            texts=docs_bigrams,\n",
    "                                                            dictionary=dictionary, \n",
    "                                                            coherence='u_mass')\n",
    "    avg_coherence_umass = umass_coherence_model_lda.get_coherence()\n",
    "\n",
    "    # Find perplexity\n",
    "    perplexity = model_name.log_perplexity(bow_corpus)\n",
    "\n",
    "    print('Avg. Coherence Score (Cv):', avg_coherence_cv),\\\n",
    "    print('Avg. Coherence Score (UMass):', avg_coherence_umass),\\\n",
    "    print( 'Model Perplexity:', perplexity)\n"
   ]
  },
  {
   "cell_type": "code",
   "execution_count": 53,
   "metadata": {},
   "outputs": [
    {
     "name": "stdout",
     "output_type": "stream",
     "text": [
      "Avg. Coherence Score (Cv): 0.3620304013789168\n",
      "Avg. Coherence Score (UMass): -4.104708083763867\n",
      "Model Perplexity: -8.403909609966716\n"
     ]
    }
   ],
   "source": [
    "# Find coherance and perplexity for model with 10 topics\n",
    "coherance_and_perplexity(lda_model)"
   ]
  },
  {
   "cell_type": "markdown",
   "metadata": {},
   "source": [
    "### LDA Tuning: Finding the optimal number of topics\n",
    "\n",
    "LDA is an unsupervised technique, meaning that we don’t know prior to running the model how many topics exits in our corpus. So to find the optimal number of topics. We'll need to build many LDA models with constantly small number of passes and iterations, but with different number of topics for each. This way we will be able to pick the one that gives good evaluative metrics values, but does not put same words in different topics to often."
   ]
  },
  {
   "cell_type": "code",
   "execution_count": 35,
   "metadata": {},
   "outputs": [],
   "source": [
    "from gensim.models import LdaModel\n",
    "\n",
    "def compute_coherence_values(dictionary, corpus, texts, limit, start, step, coherence_type):\n",
    "    \"\"\"\n",
    "    \n",
    "    Parameters:\n",
    "    ----------\n",
    "    dictionary : Gensim dictionary\n",
    "    corpus : Gensim corpus\n",
    "    texts : List of input texts\n",
    "    limit : Max num of topics\n",
    "\n",
    "    Returns:\n",
    "    -------\n",
    "    model_list : List of LDA topic models\n",
    "    coherence_values : Coherence values corresponding to the LDA model with respective number of topics\n",
    "    \"\"\"\n",
    "    coherence_values = []\n",
    "    model_list = []\n",
    "    for num_topics in range(start, limit, step):\n",
    "        model=LdaModel(corpus=corpus, id2word=dictionary, num_topics=num_topics)\n",
    "        model_list.append(model)\n",
    "        coherencemodel = CoherenceModel(model=model, texts=texts, dictionary=dictionary, coherence=coherence_type)\n",
    "        coherence_values.append(coherencemodel.get_coherence())\n",
    "\n",
    "    return model_list, coherence_values"
   ]
  },
  {
   "cell_type": "code",
   "execution_count": 36,
   "metadata": {},
   "outputs": [],
   "source": [
    "# x params: different number of topics for each model\n",
    "limit=40; start=2; step=6\n",
    "\n",
    "# Compute c_v coherence for various number of topics\n",
    "model_list_c_v, coherence_values_c_v = with_pickle(\\\n",
    "    'pickles/compute_coherence_values_c_v.pickle',\\\n",
    "    lambda : compute_coherence_values(\n",
    "        dictionary=dictionary, \n",
    "        corpus=bow_corpus, \n",
    "        texts=docs_bigrams, \n",
    "        start=start, \n",
    "        limit=limit, \n",
    "        step=step, \n",
    "        coherence_type='c_v')) \n",
    "\n",
    "model_list_u_mass, coherence_values_u_mass = with_pickle(\\\n",
    "    'pickles/compute_coherence_values_u_mass.pickle',\\\n",
    "    lambda : compute_coherence_values(\n",
    "        dictionary=dictionary, \n",
    "        corpus=bow_corpus, \n",
    "        texts=docs_bigrams, \n",
    "        start=start, \n",
    "        limit=limit, \n",
    "        step=step, \n",
    "        coherence_type='u_mass')) \n"
   ]
  },
  {
   "cell_type": "code",
   "execution_count": 37,
   "metadata": {},
   "outputs": [],
   "source": [
    "import matplotlib.pyplot as plt\n",
    "\n",
    "# Draw topics and coherence on graph\n",
    "def coherence_graph(coherence_values):\n",
    "    x = range(start, limit, step)\n",
    "    plt.plot(x, coherence_values)\n",
    "    plt.xlabel(\"Num Topics\")\n",
    "    plt.ylabel(\"Coherence score\")\n",
    "    plt.legend((\"coherence_values\"), loc='best')\n",
    "    return plt.show()"
   ]
  },
  {
   "cell_type": "code",
   "execution_count": 38,
   "metadata": {},
   "outputs": [
    {
     "data": {
      "image/png": "[encoded data removed]",
      "text/plain": [
       "<Figure size 432x288 with 1 Axes>"
      ]
     },
     "metadata": {
      "needs_background": "light"
     },
     "output_type": "display_data"
    }
   ],
   "source": [
    "coherence_graph(coherence_values_c_v)"
   ]
  },
  {
   "cell_type": "code",
   "execution_count": 39,
   "metadata": {},
   "outputs": [
    {
     "data": {
      "image/png": "[encoded data removed]",
      "text/plain": [
       "<Figure size 432x288 with 1 Axes>"
      ]
     },
     "metadata": {
      "needs_background": "light"
     },
     "output_type": "display_data"
    }
   ],
   "source": [
    "coherence_graph(coherence_values_u_mass)"
   ]
  },
  {
   "cell_type": "markdown",
   "metadata": {},
   "source": [
    "Result: looks like optimal number of topics is somewhere around 20, let's try train lda model with 20 topics. "
   ]
  },
  {
   "cell_type": "code",
   "execution_count": 40,
   "metadata": {},
   "outputs": [],
   "source": [
    "# Serialise lda model with 20 topics\n",
    "lda_model_20 = with_pickle('pickles/lda_model_20.pickle', lambda : train_lda(num_topics=20, chunksize=2000, passes=600, iterations=5000))"
   ]
  },
  {
   "cell_type": "code",
   "execution_count": 54,
   "metadata": {},
   "outputs": [
    {
     "name": "stdout",
     "output_type": "stream",
     "text": [
      "Avg. Coherence Score (Cv): 0.39942755423804466\n",
      "Avg. Coherence Score (UMass): -5.169380887714146\n",
      "Model Perplexity: -8.76992271435497\n"
     ]
    }
   ],
   "source": [
    "# Find coherance and perplexity for model with 20 topics\n",
    "coherance_and_perplexity(lda_model_20)"
   ]
  },
  {
   "cell_type": "markdown",
   "metadata": {},
   "source": [
    "### Viewing LDA Model topics"
   ]
  },
  {
   "cell_type": "markdown",
   "metadata": {},
   "source": [
    "Let's see what key words topics of different models contain. "
   ]
  },
  {
   "cell_type": "code",
   "execution_count": 51,
   "metadata": {},
   "outputs": [],
   "source": [
    "def display_keyw_per_topic(model):\n",
    "    topics = [[(term, round(probability, 3)) \n",
    "               for term, probability in model.show_topic(n, topn=20)] \n",
    "                   for n in range(0, model.num_topics)]\n",
    "    \n",
    "    pd.set_option('display.max_colwidth', None)\n",
    "\n",
    "    topics_df = pd.DataFrame([', '.join([term for term, probability in topic]) for topic in topics],\n",
    "                            columns = ['Key Words per Topic'],\n",
    "                            index=['Topic'+str(t) for t in range(1, model.num_topics+1)])\n",
    "    return topics_df"
   ]
  },
  {
   "cell_type": "code",
   "execution_count": 42,
   "metadata": {},
   "outputs": [
    {
     "data": {
      "text/html": [
       "<div>\n",
       "<style scoped>\n",
       "    .dataframe tbody tr th:only-of-type {\n",
       "        vertical-align: middle;\n",
       "    }\n",
       "\n",
       "    .dataframe tbody tr th {\n",
       "        vertical-align: top;\n",
       "    }\n",
       "\n",
       "    .dataframe thead th {\n",
       "        text-align: right;\n",
       "    }\n",
       "</style>\n",
       "<table border=\"1\" class=\"dataframe\">\n",
       "  <thead>\n",
       "    <tr style=\"text-align: right;\">\n",
       "      <th></th>\n",
       "      <th>Key Words per Topic</th>\n",
       "    </tr>\n",
       "  </thead>\n",
       "  <tbody>\n",
       "    <tr>\n",
       "      <th>Topic1</th>\n",
       "      <td>documentary, japanese, interview, bond, chinese, president, japan, propaganda, jesus, asian, china, superman, music_video, footage, nazis, korean, madonna, moore, dentist, bergman</td>\n",
       "    </tr>\n",
       "    <tr>\n",
       "      <th>Topic2</th>\n",
       "      <td>work, director, performance, actor, audience, scene, version, character, set, hollywood, screen, perhaps, use, often, certainly, style, fine, picture, production, cinema</td>\n",
       "    </tr>\n",
       "    <tr>\n",
       "      <th>Topic3</th>\n",
       "      <td>watch, show, think, ever, funny, acting, actor, actually, act, laugh, episode, line, tv, mean, script, comedy, try, ca, least, maybe</td>\n",
       "    </tr>\n",
       "    <tr>\n",
       "      <th>Topic4</th>\n",
       "      <td>western, horse, west, charlie, town, arthur, danny, sheriff, stewart, mexican, davis, bank, louis, johnson, jack, cat, betty, cowboy, heist, keaton</td>\n",
       "    </tr>\n",
       "    <tr>\n",
       "      <th>Topic5</th>\n",
       "      <td>time, character, well, love, way, still, part, little, end, never, think, feel, though, enjoy, always, real, saw, fan, day, kid</td>\n",
       "    </tr>\n",
       "    <tr>\n",
       "      <th>Topic6</th>\n",
       "      <td>scene, look, end, kill, use, try, horror, action, start, guy, turn, point, back, another, enough, pretty, around, happen, head, run</td>\n",
       "    </tr>\n",
       "    <tr>\n",
       "      <th>Topic7</th>\n",
       "      <td>woman, girl, young, family, man, friend, old, wife, two, father, boy, meet, home, mother, son, sex, house, brother, daughter, men</td>\n",
       "    </tr>\n",
       "    <tr>\n",
       "      <th>Topic8</th>\n",
       "      <td>play, role, star, cast, john, comedy, name, career, mr., murder, classic, early, late, michael, include, series, team, big, lead, three</td>\n",
       "    </tr>\n",
       "    <tr>\n",
       "      <th>Topic9</th>\n",
       "      <td>life, world, man, american, become, human, war, history, fact, present, event, deal, live, portray, country, believe, place, reality, city, view</td>\n",
       "    </tr>\n",
       "    <tr>\n",
       "      <th>Topic10</th>\n",
       "      <td>game, indian, martial_art, sport, prince, alice, anime, india, seagal, serial, walker, baseball, marie, player, mitchell, hong_kong, titanic, murphy, scarlett, morris</td>\n",
       "    </tr>\n",
       "  </tbody>\n",
       "</table>\n",
       "</div>"
      ],
      "text/plain": [
       "                                                                                                                                                                         Key Words per Topic\n",
       "Topic1   documentary, japanese, interview, bond, chinese, president, japan, propaganda, jesus, asian, china, superman, music_video, footage, nazis, korean, madonna, moore, dentist, bergman\n",
       "Topic2             work, director, performance, actor, audience, scene, version, character, set, hollywood, screen, perhaps, use, often, certainly, style, fine, picture, production, cinema\n",
       "Topic3                                                  watch, show, think, ever, funny, acting, actor, actually, act, laugh, episode, line, tv, mean, script, comedy, try, ca, least, maybe\n",
       "Topic4                                   western, horse, west, charlie, town, arthur, danny, sheriff, stewart, mexican, davis, bank, louis, johnson, jack, cat, betty, cowboy, heist, keaton\n",
       "Topic5                                                       time, character, well, love, way, still, part, little, end, never, think, feel, though, enjoy, always, real, saw, fan, day, kid\n",
       "Topic6                                                   scene, look, end, kill, use, try, horror, action, start, guy, turn, point, back, another, enough, pretty, around, happen, head, run\n",
       "Topic7                                                     woman, girl, young, family, man, friend, old, wife, two, father, boy, meet, home, mother, son, sex, house, brother, daughter, men\n",
       "Topic8                                               play, role, star, cast, john, comedy, name, career, mr., murder, classic, early, late, michael, include, series, team, big, lead, three\n",
       "Topic9                                      life, world, man, american, become, human, war, history, fact, present, event, deal, live, portray, country, believe, place, reality, city, view\n",
       "Topic10               game, indian, martial_art, sport, prince, alice, anime, india, seagal, serial, walker, baseball, marie, player, mitchell, hong_kong, titanic, murphy, scarlett, morris"
      ]
     },
     "execution_count": 42,
     "metadata": {},
     "output_type": "execute_result"
    }
   ],
   "source": [
    "display_keyw_per_topic(lda_model)"
   ]
  },
  {
   "cell_type": "code",
   "execution_count": 43,
   "metadata": {},
   "outputs": [
    {
     "data": {
      "text/html": [
       "<div>\n",
       "<style scoped>\n",
       "    .dataframe tbody tr th:only-of-type {\n",
       "        vertical-align: middle;\n",
       "    }\n",
       "\n",
       "    .dataframe tbody tr th {\n",
       "        vertical-align: top;\n",
       "    }\n",
       "\n",
       "    .dataframe thead th {\n",
       "        text-align: right;\n",
       "    }\n",
       "</style>\n",
       "<table border=\"1\" class=\"dataframe\">\n",
       "  <thead>\n",
       "    <tr style=\"text-align: right;\">\n",
       "      <th></th>\n",
       "      <th>Key Words per Topic</th>\n",
       "    </tr>\n",
       "  </thead>\n",
       "  <tbody>\n",
       "    <tr>\n",
       "      <th>Topic1</th>\n",
       "      <td>show, series, episode, tv, season, television, air, program, host, new, dave, hbo, robin, week, t.v, release_dvd, commercial, oz, nbc, holly</td>\n",
       "    </tr>\n",
       "    <tr>\n",
       "      <th>Topic2</th>\n",
       "      <td>funny, comedy, laugh, joke, humor, hilarious, dog, animation, cartoon, fun, cute, comic, disney, cat, gag, amuse, comedic, witty, spoof, laughter</td>\n",
       "    </tr>\n",
       "    <tr>\n",
       "      <th>Topic3</th>\n",
       "      <td>gay, oscar, paris, howard, anderson, louis, bug, award, wayne, kate, al, simon, nominate, clark, gray, jay, cinderella, pray, rick, valley</td>\n",
       "    </tr>\n",
       "    <tr>\n",
       "      <th>Topic4</th>\n",
       "      <td>game, joe, bond, charlie, mike, australian, snake, adam, texas, max, ninja, football, australia, video_game, dean, mst3k, hoffman, carpenter, che, james_bond</td>\n",
       "    </tr>\n",
       "    <tr>\n",
       "      <th>Topic5</th>\n",
       "      <td>music, version, song, voice, soundtrack, dance, musical, stage, rock, sing, band, dvd, jane, sound, number, singer, tune, record, kelly, print</td>\n",
       "    </tr>\n",
       "    <tr>\n",
       "      <th>Topic6</th>\n",
       "      <td>play, performance, role, star, early, classic, actress, fine, late, john, picture, hollywood, career, win, cast, mr., include, british, excellent, big</td>\n",
       "    </tr>\n",
       "    <tr>\n",
       "      <th>Topic7</th>\n",
       "      <td>kill, death, fight, group, evil, hero, monster, use, die, body, fire, earth, human, doctor, attack, gun, space, special_effect, fly, escape</td>\n",
       "    </tr>\n",
       "    <tr>\n",
       "      <th>Topic8</th>\n",
       "      <td>cop, gang, sam, harry, steve, arthur, arrest, driver, ed_wood, virus, arnold, hood, racial, mayor, turkish, argento, angela, jewel, doug, jr</td>\n",
       "    </tr>\n",
       "    <tr>\n",
       "      <th>Topic9</th>\n",
       "      <td>watch, think, time, look, end, ever, try, way, never, guy, actually, still, start, acting, pretty, happen, enjoy, saw, whole, mean</td>\n",
       "    </tr>\n",
       "    <tr>\n",
       "      <th>Topic10</th>\n",
       "      <td>black, city, white, street, drug, new_york, race, stereotype, law, generation, stone, heaven, angel, satire, south, sitcom, card, trial, spite, racist</td>\n",
       "    </tr>\n",
       "    <tr>\n",
       "      <th>Topic11</th>\n",
       "      <td>girl, young, family, old, child, wife, friend, father, boy, home, mother, house, son, age, brother, daughter, school, town, husband, live</td>\n",
       "    </tr>\n",
       "    <tr>\n",
       "      <th>Topic12</th>\n",
       "      <td>love, life, world, time, way, feel, real, become, different, true, beautiful, viewer, bring, change, without, live, truly, always, wonderful, audience</td>\n",
       "    </tr>\n",
       "    <tr>\n",
       "      <th>Topic13</th>\n",
       "      <td>book, novel, adaptation, read_book, read, tarzan, hard_believe, shelf, 1/10, catherine, victoria, abc, emma, poorly_write, adapt, biography, troma, celluloid, amanda, mini-series</td>\n",
       "    </tr>\n",
       "    <tr>\n",
       "      <th>Topic14</th>\n",
       "      <td>zombie, german, germany, hitler, wwii, vietnam, germans, holmes, lucy, nuclear, ireland, wine, lane, carter, scarlett, uniform, poison, chuck, von, ali</td>\n",
       "    </tr>\n",
       "    <tr>\n",
       "      <th>Topic15</th>\n",
       "      <td>american, history, documentary, country, god, french, subject, class, english, society, student, america, issue, footage, us, italian, political, public, culture, interview</td>\n",
       "    </tr>\n",
       "    <tr>\n",
       "      <th>Topic16</th>\n",
       "      <td>character, well, scene, actor, work, director, little, though, use, part, original, script, action, far, especially, interesting, almost, although, point, act</td>\n",
       "    </tr>\n",
       "    <tr>\n",
       "      <th>Topic17</th>\n",
       "      <td>war, soldier, japanese, military, canadian, anime, battle, dinosaur, training, cowboy, north, swedish, navy, civil_war, canada, 2/10, andrews, jacket, kingdom, iraq</td>\n",
       "    </tr>\n",
       "    <tr>\n",
       "      <th>Topic18</th>\n",
       "      <td>michael, paul, tom, christmas, sport, radio, tony, jones, martin, bob, werewolf, ann, jackson, jr., dan, lewis, jewish, eddie, jimmy, chaplin</td>\n",
       "    </tr>\n",
       "    <tr>\n",
       "      <th>Topic19</th>\n",
       "      <td>two, man, woman, turn, another, three, run, help, begin, leave, men, face, hand, name, place, back, along, later, head, murder</td>\n",
       "    </tr>\n",
       "    <tr>\n",
       "      <th>Topic20</th>\n",
       "      <td>horror, killer, scary, blood, gore, creepy, ghost, kill, slasher, scar, scare, bloody, house, batman, dark, nightmare, castle, killing, japan, terror</td>\n",
       "    </tr>\n",
       "  </tbody>\n",
       "</table>\n",
       "</div>"
      ],
      "text/plain": [
       "                                                                                                                                                                        Key Words per Topic\n",
       "Topic1                                         show, series, episode, tv, season, television, air, program, host, new, dave, hbo, robin, week, t.v, release_dvd, commercial, oz, nbc, holly\n",
       "Topic2                                    funny, comedy, laugh, joke, humor, hilarious, dog, animation, cartoon, fun, cute, comic, disney, cat, gag, amuse, comedic, witty, spoof, laughter\n",
       "Topic3                                           gay, oscar, paris, howard, anderson, louis, bug, award, wayne, kate, al, simon, nominate, clark, gray, jay, cinderella, pray, rick, valley\n",
       "Topic4                        game, joe, bond, charlie, mike, australian, snake, adam, texas, max, ninja, football, australia, video_game, dean, mst3k, hoffman, carpenter, che, james_bond\n",
       "Topic5                                       music, version, song, voice, soundtrack, dance, musical, stage, rock, sing, band, dvd, jane, sound, number, singer, tune, record, kelly, print\n",
       "Topic6                               play, performance, role, star, early, classic, actress, fine, late, john, picture, hollywood, career, win, cast, mr., include, british, excellent, big\n",
       "Topic7                                          kill, death, fight, group, evil, hero, monster, use, die, body, fire, earth, human, doctor, attack, gun, space, special_effect, fly, escape\n",
       "Topic8                                         cop, gang, sam, harry, steve, arthur, arrest, driver, ed_wood, virus, arnold, hood, racial, mayor, turkish, argento, angela, jewel, doug, jr\n",
       "Topic9                                                   watch, think, time, look, end, ever, try, way, never, guy, actually, still, start, acting, pretty, happen, enjoy, saw, whole, mean\n",
       "Topic10                              black, city, white, street, drug, new_york, race, stereotype, law, generation, stone, heaven, angel, satire, south, sitcom, card, trial, spite, racist\n",
       "Topic11                                           girl, young, family, old, child, wife, friend, father, boy, home, mother, house, son, age, brother, daughter, school, town, husband, live\n",
       "Topic12                              love, life, world, time, way, feel, real, become, different, true, beautiful, viewer, bring, change, without, live, truly, always, wonderful, audience\n",
       "Topic13  book, novel, adaptation, read_book, read, tarzan, hard_believe, shelf, 1/10, catherine, victoria, abc, emma, poorly_write, adapt, biography, troma, celluloid, amanda, mini-series\n",
       "Topic14                             zombie, german, germany, hitler, wwii, vietnam, germans, holmes, lucy, nuclear, ireland, wine, lane, carter, scarlett, uniform, poison, chuck, von, ali\n",
       "Topic15        american, history, documentary, country, god, french, subject, class, english, society, student, america, issue, footage, us, italian, political, public, culture, interview\n",
       "Topic16                      character, well, scene, actor, work, director, little, though, use, part, original, script, action, far, especially, interesting, almost, although, point, act\n",
       "Topic17                war, soldier, japanese, military, canadian, anime, battle, dinosaur, training, cowboy, north, swedish, navy, civil_war, canada, 2/10, andrews, jacket, kingdom, iraq\n",
       "Topic18                                       michael, paul, tom, christmas, sport, radio, tony, jones, martin, bob, werewolf, ann, jackson, jr., dan, lewis, jewish, eddie, jimmy, chaplin\n",
       "Topic19                                                      two, man, woman, turn, another, three, run, help, begin, leave, men, face, hand, name, place, back, along, later, head, murder\n",
       "Topic20                               horror, killer, scary, blood, gore, creepy, ghost, kill, slasher, scar, scare, bloody, house, batman, dark, nightmare, castle, killing, japan, terror"
      ]
     },
     "execution_count": 43,
     "metadata": {},
     "output_type": "execute_result"
    }
   ],
   "source": [
    "display_keyw_per_topic(lda_model_20)"
   ]
  },
  {
   "cell_type": "markdown",
   "metadata": {},
   "source": [
    "Now we are going to find what is a dominant topic for each review and how much its  contribution to the review in percentages."
   ]
  },
  {
   "cell_type": "code",
   "execution_count": 44,
   "metadata": {},
   "outputs": [],
   "source": [
    "def display_corpus_topics(model):\n",
    "    # Get vectors of each review\n",
    "    tm_results = model[bow_corpus]\n",
    "\n",
    "    corpus_topics = [sorted(topics, key=lambda record: -record[1])[0] \n",
    "                     for topics in tm_results]\n",
    "\n",
    "    corpus_topics_df = pd.DataFrame()\n",
    "    corpus_topics_df['Document'] = range(0, len(movie_reviews))\n",
    "    corpus_topics_df['Dominant Topic'] = [item[0]+1 for item in corpus_topics]\n",
    "    corpus_topics_df['Contribution %'] = [round(item[1]*100, 2) for item in corpus_topics]\n",
    "    corpus_topics_df['Topic Key Words'] = [display_keyw_per_topic(model).iloc[t[0]]['Key Words per Topic'] for t in corpus_topics]\n",
    "    return corpus_topics_df\n"
   ]
  },
  {
   "cell_type": "markdown",
   "metadata": {},
   "source": [
    "Let's check first 10 results for both models. "
   ]
  },
  {
   "cell_type": "code",
   "execution_count": 45,
   "metadata": {},
   "outputs": [
    {
     "data": {
      "text/html": [
       "<div>\n",
       "<style scoped>\n",
       "    .dataframe tbody tr th:only-of-type {\n",
       "        vertical-align: middle;\n",
       "    }\n",
       "\n",
       "    .dataframe tbody tr th {\n",
       "        vertical-align: top;\n",
       "    }\n",
       "\n",
       "    .dataframe thead th {\n",
       "        text-align: right;\n",
       "    }\n",
       "</style>\n",
       "<table border=\"1\" class=\"dataframe\">\n",
       "  <thead>\n",
       "    <tr style=\"text-align: right;\">\n",
       "      <th></th>\n",
       "      <th>Document</th>\n",
       "      <th>Dominant Topic</th>\n",
       "      <th>Contribution %</th>\n",
       "      <th>Topic Key Words</th>\n",
       "    </tr>\n",
       "  </thead>\n",
       "  <tbody>\n",
       "    <tr>\n",
       "      <th>0</th>\n",
       "      <td>0</td>\n",
       "      <td>2</td>\n",
       "      <td>27.93</td>\n",
       "      <td>work, director, performance, actor, audience, scene, version, character, set, hollywood, screen, perhaps, use, often, certainly, style, fine, picture, production, cinema</td>\n",
       "    </tr>\n",
       "    <tr>\n",
       "      <th>1</th>\n",
       "      <td>1</td>\n",
       "      <td>2</td>\n",
       "      <td>35.87</td>\n",
       "      <td>work, director, performance, actor, audience, scene, version, character, set, hollywood, screen, perhaps, use, often, certainly, style, fine, picture, production, cinema</td>\n",
       "    </tr>\n",
       "    <tr>\n",
       "      <th>2</th>\n",
       "      <td>2</td>\n",
       "      <td>2</td>\n",
       "      <td>23.40</td>\n",
       "      <td>work, director, performance, actor, audience, scene, version, character, set, hollywood, screen, perhaps, use, often, certainly, style, fine, picture, production, cinema</td>\n",
       "    </tr>\n",
       "    <tr>\n",
       "      <th>3</th>\n",
       "      <td>3</td>\n",
       "      <td>6</td>\n",
       "      <td>26.14</td>\n",
       "      <td>scene, look, end, kill, use, try, horror, action, start, guy, turn, point, back, another, enough, pretty, around, happen, head, run</td>\n",
       "    </tr>\n",
       "    <tr>\n",
       "      <th>4</th>\n",
       "      <td>4</td>\n",
       "      <td>9</td>\n",
       "      <td>24.28</td>\n",
       "      <td>life, world, man, american, become, human, war, history, fact, present, event, deal, live, portray, country, believe, place, reality, city, view</td>\n",
       "    </tr>\n",
       "    <tr>\n",
       "      <th>5</th>\n",
       "      <td>5</td>\n",
       "      <td>5</td>\n",
       "      <td>25.71</td>\n",
       "      <td>time, character, well, love, way, still, part, little, end, never, think, feel, though, enjoy, always, real, saw, fan, day, kid</td>\n",
       "    </tr>\n",
       "    <tr>\n",
       "      <th>6</th>\n",
       "      <td>6</td>\n",
       "      <td>3</td>\n",
       "      <td>31.42</td>\n",
       "      <td>watch, show, think, ever, funny, acting, actor, actually, act, laugh, episode, line, tv, mean, script, comedy, try, ca, least, maybe</td>\n",
       "    </tr>\n",
       "    <tr>\n",
       "      <th>7</th>\n",
       "      <td>7</td>\n",
       "      <td>3</td>\n",
       "      <td>33.18</td>\n",
       "      <td>watch, show, think, ever, funny, acting, actor, actually, act, laugh, episode, line, tv, mean, script, comedy, try, ca, least, maybe</td>\n",
       "    </tr>\n",
       "    <tr>\n",
       "      <th>8</th>\n",
       "      <td>8</td>\n",
       "      <td>5</td>\n",
       "      <td>21.33</td>\n",
       "      <td>time, character, well, love, way, still, part, little, end, never, think, feel, though, enjoy, always, real, saw, fan, day, kid</td>\n",
       "    </tr>\n",
       "    <tr>\n",
       "      <th>9</th>\n",
       "      <td>9</td>\n",
       "      <td>6</td>\n",
       "      <td>22.95</td>\n",
       "      <td>scene, look, end, kill, use, try, horror, action, start, guy, turn, point, back, another, enough, pretty, around, happen, head, run</td>\n",
       "    </tr>\n",
       "  </tbody>\n",
       "</table>\n",
       "</div>"
      ],
      "text/plain": [
       "   Document  Dominant Topic  Contribution %  \\\n",
       "0         0               2           27.93   \n",
       "1         1               2           35.87   \n",
       "2         2               2           23.40   \n",
       "3         3               6           26.14   \n",
       "4         4               9           24.28   \n",
       "5         5               5           25.71   \n",
       "6         6               3           31.42   \n",
       "7         7               3           33.18   \n",
       "8         8               5           21.33   \n",
       "9         9               6           22.95   \n",
       "\n",
       "                                                                                                                                                             Topic Key Words  \n",
       "0  work, director, performance, actor, audience, scene, version, character, set, hollywood, screen, perhaps, use, often, certainly, style, fine, picture, production, cinema  \n",
       "1  work, director, performance, actor, audience, scene, version, character, set, hollywood, screen, perhaps, use, often, certainly, style, fine, picture, production, cinema  \n",
       "2  work, director, performance, actor, audience, scene, version, character, set, hollywood, screen, perhaps, use, often, certainly, style, fine, picture, production, cinema  \n",
       "3                                        scene, look, end, kill, use, try, horror, action, start, guy, turn, point, back, another, enough, pretty, around, happen, head, run  \n",
       "4                           life, world, man, american, become, human, war, history, fact, present, event, deal, live, portray, country, believe, place, reality, city, view  \n",
       "5                                            time, character, well, love, way, still, part, little, end, never, think, feel, though, enjoy, always, real, saw, fan, day, kid  \n",
       "6                                       watch, show, think, ever, funny, acting, actor, actually, act, laugh, episode, line, tv, mean, script, comedy, try, ca, least, maybe  \n",
       "7                                       watch, show, think, ever, funny, acting, actor, actually, act, laugh, episode, line, tv, mean, script, comedy, try, ca, least, maybe  \n",
       "8                                            time, character, well, love, way, still, part, little, end, never, think, feel, though, enjoy, always, real, saw, fan, day, kid  \n",
       "9                                        scene, look, end, kill, use, try, horror, action, start, guy, turn, point, back, another, enough, pretty, around, happen, head, run  "
      ]
     },
     "execution_count": 45,
     "metadata": {},
     "output_type": "execute_result"
    }
   ],
   "source": [
    "display_corpus_topics_lda10 = with_pickle('pickles/display_corpus_topics_lda10.pickle', lambda : display_corpus_topics(lda_model))\n",
    "display_corpus_topics_lda10[:10]"
   ]
  },
  {
   "cell_type": "code",
   "execution_count": 46,
   "metadata": {},
   "outputs": [
    {
     "data": {
      "text/html": [
       "<div>\n",
       "<style scoped>\n",
       "    .dataframe tbody tr th:only-of-type {\n",
       "        vertical-align: middle;\n",
       "    }\n",
       "\n",
       "    .dataframe tbody tr th {\n",
       "        vertical-align: top;\n",
       "    }\n",
       "\n",
       "    .dataframe thead th {\n",
       "        text-align: right;\n",
       "    }\n",
       "</style>\n",
       "<table border=\"1\" class=\"dataframe\">\n",
       "  <thead>\n",
       "    <tr style=\"text-align: right;\">\n",
       "      <th></th>\n",
       "      <th>Document</th>\n",
       "      <th>Dominant Topic</th>\n",
       "      <th>Contribution %</th>\n",
       "      <th>Topic Key Words</th>\n",
       "    </tr>\n",
       "  </thead>\n",
       "  <tbody>\n",
       "    <tr>\n",
       "      <th>0</th>\n",
       "      <td>0</td>\n",
       "      <td>9</td>\n",
       "      <td>22.10</td>\n",
       "      <td>watch, think, time, look, end, ever, try, way, never, guy, actually, still, start, acting, pretty, happen, enjoy, saw, whole, mean</td>\n",
       "    </tr>\n",
       "    <tr>\n",
       "      <th>1</th>\n",
       "      <td>1</td>\n",
       "      <td>16</td>\n",
       "      <td>31.69</td>\n",
       "      <td>character, well, scene, actor, work, director, little, though, use, part, original, script, action, far, especially, interesting, almost, although, point, act</td>\n",
       "    </tr>\n",
       "    <tr>\n",
       "      <th>2</th>\n",
       "      <td>2</td>\n",
       "      <td>9</td>\n",
       "      <td>23.72</td>\n",
       "      <td>watch, think, time, look, end, ever, try, way, never, guy, actually, still, start, acting, pretty, happen, enjoy, saw, whole, mean</td>\n",
       "    </tr>\n",
       "    <tr>\n",
       "      <th>3</th>\n",
       "      <td>3</td>\n",
       "      <td>16</td>\n",
       "      <td>24.03</td>\n",
       "      <td>character, well, scene, actor, work, director, little, though, use, part, original, script, action, far, especially, interesting, almost, although, point, act</td>\n",
       "    </tr>\n",
       "    <tr>\n",
       "      <th>4</th>\n",
       "      <td>4</td>\n",
       "      <td>12</td>\n",
       "      <td>23.29</td>\n",
       "      <td>love, life, world, time, way, feel, real, become, different, true, beautiful, viewer, bring, change, without, live, truly, always, wonderful, audience</td>\n",
       "    </tr>\n",
       "    <tr>\n",
       "      <th>5</th>\n",
       "      <td>5</td>\n",
       "      <td>9</td>\n",
       "      <td>25.65</td>\n",
       "      <td>watch, think, time, look, end, ever, try, way, never, guy, actually, still, start, acting, pretty, happen, enjoy, saw, whole, mean</td>\n",
       "    </tr>\n",
       "    <tr>\n",
       "      <th>6</th>\n",
       "      <td>6</td>\n",
       "      <td>9</td>\n",
       "      <td>32.78</td>\n",
       "      <td>watch, think, time, look, end, ever, try, way, never, guy, actually, still, start, acting, pretty, happen, enjoy, saw, whole, mean</td>\n",
       "    </tr>\n",
       "    <tr>\n",
       "      <th>7</th>\n",
       "      <td>7</td>\n",
       "      <td>9</td>\n",
       "      <td>22.79</td>\n",
       "      <td>watch, think, time, look, end, ever, try, way, never, guy, actually, still, start, acting, pretty, happen, enjoy, saw, whole, mean</td>\n",
       "    </tr>\n",
       "    <tr>\n",
       "      <th>8</th>\n",
       "      <td>8</td>\n",
       "      <td>9</td>\n",
       "      <td>31.41</td>\n",
       "      <td>watch, think, time, look, end, ever, try, way, never, guy, actually, still, start, acting, pretty, happen, enjoy, saw, whole, mean</td>\n",
       "    </tr>\n",
       "    <tr>\n",
       "      <th>9</th>\n",
       "      <td>9</td>\n",
       "      <td>9</td>\n",
       "      <td>24.33</td>\n",
       "      <td>watch, think, time, look, end, ever, try, way, never, guy, actually, still, start, acting, pretty, happen, enjoy, saw, whole, mean</td>\n",
       "    </tr>\n",
       "  </tbody>\n",
       "</table>\n",
       "</div>"
      ],
      "text/plain": [
       "   Document  Dominant Topic  Contribution %  \\\n",
       "0         0               9           22.10   \n",
       "1         1              16           31.69   \n",
       "2         2               9           23.72   \n",
       "3         3              16           24.03   \n",
       "4         4              12           23.29   \n",
       "5         5               9           25.65   \n",
       "6         6               9           32.78   \n",
       "7         7               9           22.79   \n",
       "8         8               9           31.41   \n",
       "9         9               9           24.33   \n",
       "\n",
       "                                                                                                                                                  Topic Key Words  \n",
       "0                              watch, think, time, look, end, ever, try, way, never, guy, actually, still, start, acting, pretty, happen, enjoy, saw, whole, mean  \n",
       "1  character, well, scene, actor, work, director, little, though, use, part, original, script, action, far, especially, interesting, almost, although, point, act  \n",
       "2                              watch, think, time, look, end, ever, try, way, never, guy, actually, still, start, acting, pretty, happen, enjoy, saw, whole, mean  \n",
       "3  character, well, scene, actor, work, director, little, though, use, part, original, script, action, far, especially, interesting, almost, although, point, act  \n",
       "4          love, life, world, time, way, feel, real, become, different, true, beautiful, viewer, bring, change, without, live, truly, always, wonderful, audience  \n",
       "5                              watch, think, time, look, end, ever, try, way, never, guy, actually, still, start, acting, pretty, happen, enjoy, saw, whole, mean  \n",
       "6                              watch, think, time, look, end, ever, try, way, never, guy, actually, still, start, acting, pretty, happen, enjoy, saw, whole, mean  \n",
       "7                              watch, think, time, look, end, ever, try, way, never, guy, actually, still, start, acting, pretty, happen, enjoy, saw, whole, mean  \n",
       "8                              watch, think, time, look, end, ever, try, way, never, guy, actually, still, start, acting, pretty, happen, enjoy, saw, whole, mean  \n",
       "9                              watch, think, time, look, end, ever, try, way, never, guy, actually, still, start, acting, pretty, happen, enjoy, saw, whole, mean  "
      ]
     },
     "execution_count": 46,
     "metadata": {},
     "output_type": "execute_result"
    }
   ],
   "source": [
    "display_corpus_topics_lda20 = with_pickle('pickles/display_corpus_topics_lda20.pickle', lambda : display_corpus_topics(lda_model_20))\n",
    "display_corpus_topics_lda20[:10]"
   ]
  },
  {
   "cell_type": "markdown",
   "metadata": {},
   "source": [
    "Now we are going to reshape our previous DataFrame and find out how many reviews that contain each topic exist and how much is it in percentages from total number of reviews."
   ]
  },
  {
   "cell_type": "code",
   "execution_count": 47,
   "metadata": {},
   "outputs": [],
   "source": [
    "def topic_stats_df(model):\n",
    "    pd.set_option('display.max_colwidth', 200)\n",
    "    topic_stats_df = display_corpus_topics(model).groupby('Dominant Topic')\\\n",
    "        .aggregate({'Document': np.size, 'Contribution %': np.size})\\\n",
    "        .rename(columns={'Document': 'Review Count', 'Contribution %': '% Total Reviews'})\n",
    "    topic_stats_df = topic_stats_df.reset_index()\n",
    "    topic_stats_df['% Total Reviews'] = topic_stats_df['% Total Reviews'].apply(lambda row: round((row*100) / len(movie_reviews), 2))\n",
    "    topic_stats_df['Topic Key Words'] = [display_keyw_per_topic(model).iloc[t]['Key Words per Topic'] for t in range(len(topic_stats_df))]\n",
    "    return topic_stats_df"
   ]
  },
  {
   "cell_type": "code",
   "execution_count": 48,
   "metadata": {},
   "outputs": [
    {
     "data": {
      "text/html": [
       "<div>\n",
       "<style scoped>\n",
       "    .dataframe tbody tr th:only-of-type {\n",
       "        vertical-align: middle;\n",
       "    }\n",
       "\n",
       "    .dataframe tbody tr th {\n",
       "        vertical-align: top;\n",
       "    }\n",
       "\n",
       "    .dataframe thead th {\n",
       "        text-align: right;\n",
       "    }\n",
       "</style>\n",
       "<table border=\"1\" class=\"dataframe\">\n",
       "  <thead>\n",
       "    <tr style=\"text-align: right;\">\n",
       "      <th></th>\n",
       "      <th>Dominant Topic</th>\n",
       "      <th>Review Count</th>\n",
       "      <th>% Total Reviews</th>\n",
       "      <th>Topic Key Words</th>\n",
       "    </tr>\n",
       "  </thead>\n",
       "  <tbody>\n",
       "    <tr>\n",
       "      <th>0</th>\n",
       "      <td>1</td>\n",
       "      <td>2</td>\n",
       "      <td>0.00</td>\n",
       "      <td>documentary, japanese, interview, bond, chinese, president, japan, propaganda, jesus, asian, china, superman, music_video, footage, nazis, korean, madonna, moore, dentist, bergman</td>\n",
       "    </tr>\n",
       "    <tr>\n",
       "      <th>1</th>\n",
       "      <td>2</td>\n",
       "      <td>6214</td>\n",
       "      <td>12.43</td>\n",
       "      <td>work, director, performance, actor, audience, scene, version, character, set, hollywood, screen, perhaps, use, often, certainly, style, fine, picture, production, cinema</td>\n",
       "    </tr>\n",
       "    <tr>\n",
       "      <th>2</th>\n",
       "      <td>3</td>\n",
       "      <td>5354</td>\n",
       "      <td>10.71</td>\n",
       "      <td>watch, show, think, ever, funny, acting, actor, actually, act, laugh, episode, line, tv, mean, script, comedy, try, ca, least, maybe</td>\n",
       "    </tr>\n",
       "    <tr>\n",
       "      <th>3</th>\n",
       "      <td>4</td>\n",
       "      <td>14</td>\n",
       "      <td>0.03</td>\n",
       "      <td>western, horse, west, charlie, town, arthur, danny, sheriff, stewart, mexican, davis, bank, louis, johnson, jack, cat, betty, cowboy, heist, keaton</td>\n",
       "    </tr>\n",
       "    <tr>\n",
       "      <th>4</th>\n",
       "      <td>5</td>\n",
       "      <td>9814</td>\n",
       "      <td>19.63</td>\n",
       "      <td>time, character, well, love, way, still, part, little, end, never, think, feel, though, enjoy, always, real, saw, fan, day, kid</td>\n",
       "    </tr>\n",
       "    <tr>\n",
       "      <th>5</th>\n",
       "      <td>6</td>\n",
       "      <td>22360</td>\n",
       "      <td>44.72</td>\n",
       "      <td>scene, look, end, kill, use, try, horror, action, start, guy, turn, point, back, another, enough, pretty, around, happen, head, run</td>\n",
       "    </tr>\n",
       "    <tr>\n",
       "      <th>6</th>\n",
       "      <td>7</td>\n",
       "      <td>984</td>\n",
       "      <td>1.97</td>\n",
       "      <td>woman, girl, young, family, man, friend, old, wife, two, father, boy, meet, home, mother, son, sex, house, brother, daughter, men</td>\n",
       "    </tr>\n",
       "    <tr>\n",
       "      <th>7</th>\n",
       "      <td>8</td>\n",
       "      <td>1375</td>\n",
       "      <td>2.75</td>\n",
       "      <td>play, role, star, cast, john, comedy, name, career, mr., murder, classic, early, late, michael, include, series, team, big, lead, three</td>\n",
       "    </tr>\n",
       "    <tr>\n",
       "      <th>8</th>\n",
       "      <td>9</td>\n",
       "      <td>3879</td>\n",
       "      <td>7.76</td>\n",
       "      <td>life, world, man, american, become, human, war, history, fact, present, event, deal, live, portray, country, believe, place, reality, city, view</td>\n",
       "    </tr>\n",
       "    <tr>\n",
       "      <th>9</th>\n",
       "      <td>10</td>\n",
       "      <td>4</td>\n",
       "      <td>0.01</td>\n",
       "      <td>game, indian, martial_art, sport, prince, alice, anime, india, seagal, serial, walker, baseball, marie, player, mitchell, hong_kong, titanic, murphy, scarlett, morris</td>\n",
       "    </tr>\n",
       "  </tbody>\n",
       "</table>\n",
       "</div>"
      ],
      "text/plain": [
       "   Dominant Topic  Review Count  % Total Reviews  \\\n",
       "0               1             2             0.00   \n",
       "1               2          6214            12.43   \n",
       "2               3          5354            10.71   \n",
       "3               4            14             0.03   \n",
       "4               5          9814            19.63   \n",
       "5               6         22360            44.72   \n",
       "6               7           984             1.97   \n",
       "7               8          1375             2.75   \n",
       "8               9          3879             7.76   \n",
       "9              10             4             0.01   \n",
       "\n",
       "                                                                                                                                                                       Topic Key Words  \n",
       "0  documentary, japanese, interview, bond, chinese, president, japan, propaganda, jesus, asian, china, superman, music_video, footage, nazis, korean, madonna, moore, dentist, bergman  \n",
       "1            work, director, performance, actor, audience, scene, version, character, set, hollywood, screen, perhaps, use, often, certainly, style, fine, picture, production, cinema  \n",
       "2                                                 watch, show, think, ever, funny, acting, actor, actually, act, laugh, episode, line, tv, mean, script, comedy, try, ca, least, maybe  \n",
       "3                                  western, horse, west, charlie, town, arthur, danny, sheriff, stewart, mexican, davis, bank, louis, johnson, jack, cat, betty, cowboy, heist, keaton  \n",
       "4                                                      time, character, well, love, way, still, part, little, end, never, think, feel, though, enjoy, always, real, saw, fan, day, kid  \n",
       "5                                                  scene, look, end, kill, use, try, horror, action, start, guy, turn, point, back, another, enough, pretty, around, happen, head, run  \n",
       "6                                                    woman, girl, young, family, man, friend, old, wife, two, father, boy, meet, home, mother, son, sex, house, brother, daughter, men  \n",
       "7                                              play, role, star, cast, john, comedy, name, career, mr., murder, classic, early, late, michael, include, series, team, big, lead, three  \n",
       "8                                     life, world, man, american, become, human, war, history, fact, present, event, deal, live, portray, country, believe, place, reality, city, view  \n",
       "9               game, indian, martial_art, sport, prince, alice, anime, india, seagal, serial, walker, baseball, marie, player, mitchell, hong_kong, titanic, murphy, scarlett, morris  "
      ]
     },
     "execution_count": 48,
     "metadata": {},
     "output_type": "execute_result"
    }
   ],
   "source": [
    "topic_stats_df_lda10 = with_pickle('pickles/topic_stats_df_lda10.pickle', lambda : topic_stats_df(lda_model))\n",
    "topic_stats_df_lda10"
   ]
  },
  {
   "cell_type": "code",
   "execution_count": 49,
   "metadata": {},
   "outputs": [
    {
     "data": {
      "text/html": [
       "<div>\n",
       "<style scoped>\n",
       "    .dataframe tbody tr th:only-of-type {\n",
       "        vertical-align: middle;\n",
       "    }\n",
       "\n",
       "    .dataframe tbody tr th {\n",
       "        vertical-align: top;\n",
       "    }\n",
       "\n",
       "    .dataframe thead th {\n",
       "        text-align: right;\n",
       "    }\n",
       "</style>\n",
       "<table border=\"1\" class=\"dataframe\">\n",
       "  <thead>\n",
       "    <tr style=\"text-align: right;\">\n",
       "      <th></th>\n",
       "      <th>Dominant Topic</th>\n",
       "      <th>Review Count</th>\n",
       "      <th>% Total Reviews</th>\n",
       "      <th>Topic Key Words</th>\n",
       "    </tr>\n",
       "  </thead>\n",
       "  <tbody>\n",
       "    <tr>\n",
       "      <th>0</th>\n",
       "      <td>1</td>\n",
       "      <td>1</td>\n",
       "      <td>0.00</td>\n",
       "      <td>show, series, episode, tv, season, television, air, program, host, new, dave, hbo, robin, week, t.v, release_dvd, commercial, oz, nbc, holly</td>\n",
       "    </tr>\n",
       "    <tr>\n",
       "      <th>1</th>\n",
       "      <td>2</td>\n",
       "      <td>7</td>\n",
       "      <td>0.01</td>\n",
       "      <td>funny, comedy, laugh, joke, humor, hilarious, dog, animation, cartoon, fun, cute, comic, disney, cat, gag, amuse, comedic, witty, spoof, laughter</td>\n",
       "    </tr>\n",
       "    <tr>\n",
       "      <th>2</th>\n",
       "      <td>3</td>\n",
       "      <td>5</td>\n",
       "      <td>0.01</td>\n",
       "      <td>gay, oscar, paris, howard, anderson, louis, bug, award, wayne, kate, al, simon, nominate, clark, gray, jay, cinderella, pray, rick, valley</td>\n",
       "    </tr>\n",
       "    <tr>\n",
       "      <th>3</th>\n",
       "      <td>4</td>\n",
       "      <td>1</td>\n",
       "      <td>0.00</td>\n",
       "      <td>game, joe, bond, charlie, mike, australian, snake, adam, texas, max, ninja, football, australia, video_game, dean, mst3k, hoffman, carpenter, che, james_bond</td>\n",
       "    </tr>\n",
       "    <tr>\n",
       "      <th>4</th>\n",
       "      <td>5</td>\n",
       "      <td>2</td>\n",
       "      <td>0.00</td>\n",
       "      <td>music, version, song, voice, soundtrack, dance, musical, stage, rock, sing, band, dvd, jane, sound, number, singer, tune, record, kelly, print</td>\n",
       "    </tr>\n",
       "    <tr>\n",
       "      <th>5</th>\n",
       "      <td>6</td>\n",
       "      <td>433</td>\n",
       "      <td>0.87</td>\n",
       "      <td>play, performance, role, star, early, classic, actress, fine, late, john, picture, hollywood, career, win, cast, mr., include, british, excellent, big</td>\n",
       "    </tr>\n",
       "    <tr>\n",
       "      <th>6</th>\n",
       "      <td>7</td>\n",
       "      <td>70</td>\n",
       "      <td>0.14</td>\n",
       "      <td>kill, death, fight, group, evil, hero, monster, use, die, body, fire, earth, human, doctor, attack, gun, space, special_effect, fly, escape</td>\n",
       "    </tr>\n",
       "    <tr>\n",
       "      <th>7</th>\n",
       "      <td>9</td>\n",
       "      <td>35577</td>\n",
       "      <td>71.15</td>\n",
       "      <td>cop, gang, sam, harry, steve, arthur, arrest, driver, ed_wood, virus, arnold, hood, racial, mayor, turkish, argento, angela, jewel, doug, jr</td>\n",
       "    </tr>\n",
       "    <tr>\n",
       "      <th>8</th>\n",
       "      <td>10</td>\n",
       "      <td>2</td>\n",
       "      <td>0.00</td>\n",
       "      <td>watch, think, time, look, end, ever, try, way, never, guy, actually, still, start, acting, pretty, happen, enjoy, saw, whole, mean</td>\n",
       "    </tr>\n",
       "    <tr>\n",
       "      <th>9</th>\n",
       "      <td>11</td>\n",
       "      <td>45</td>\n",
       "      <td>0.09</td>\n",
       "      <td>black, city, white, street, drug, new_york, race, stereotype, law, generation, stone, heaven, angel, satire, south, sitcom, card, trial, spite, racist</td>\n",
       "    </tr>\n",
       "    <tr>\n",
       "      <th>10</th>\n",
       "      <td>12</td>\n",
       "      <td>4692</td>\n",
       "      <td>9.38</td>\n",
       "      <td>girl, young, family, old, child, wife, friend, father, boy, home, mother, house, son, age, brother, daughter, school, town, husband, live</td>\n",
       "    </tr>\n",
       "    <tr>\n",
       "      <th>11</th>\n",
       "      <td>14</td>\n",
       "      <td>1</td>\n",
       "      <td>0.00</td>\n",
       "      <td>love, life, world, time, way, feel, real, become, different, true, beautiful, viewer, bring, change, without, live, truly, always, wonderful, audience</td>\n",
       "    </tr>\n",
       "    <tr>\n",
       "      <th>12</th>\n",
       "      <td>15</td>\n",
       "      <td>12</td>\n",
       "      <td>0.02</td>\n",
       "      <td>book, novel, adaptation, read_book, read, tarzan, hard_believe, shelf, 1/10, catherine, victoria, abc, emma, poorly_write, adapt, biography, troma, celluloid, amanda, mini-series</td>\n",
       "    </tr>\n",
       "    <tr>\n",
       "      <th>13</th>\n",
       "      <td>16</td>\n",
       "      <td>6395</td>\n",
       "      <td>12.79</td>\n",
       "      <td>zombie, german, germany, hitler, wwii, vietnam, germans, holmes, lucy, nuclear, ireland, wine, lane, carter, scarlett, uniform, poison, chuck, von, ali</td>\n",
       "    </tr>\n",
       "    <tr>\n",
       "      <th>14</th>\n",
       "      <td>17</td>\n",
       "      <td>2</td>\n",
       "      <td>0.00</td>\n",
       "      <td>american, history, documentary, country, god, french, subject, class, english, society, student, america, issue, footage, us, italian, political, public, culture, interview</td>\n",
       "    </tr>\n",
       "    <tr>\n",
       "      <th>15</th>\n",
       "      <td>18</td>\n",
       "      <td>1</td>\n",
       "      <td>0.00</td>\n",
       "      <td>character, well, scene, actor, work, director, little, though, use, part, original, script, action, far, especially, interesting, almost, although, point, act</td>\n",
       "    </tr>\n",
       "    <tr>\n",
       "      <th>16</th>\n",
       "      <td>19</td>\n",
       "      <td>2751</td>\n",
       "      <td>5.50</td>\n",
       "      <td>war, soldier, japanese, military, canadian, anime, battle, dinosaur, training, cowboy, north, swedish, navy, civil_war, canada, 2/10, andrews, jacket, kingdom, iraq</td>\n",
       "    </tr>\n",
       "    <tr>\n",
       "      <th>17</th>\n",
       "      <td>20</td>\n",
       "      <td>3</td>\n",
       "      <td>0.01</td>\n",
       "      <td>michael, paul, tom, christmas, sport, radio, tony, jones, martin, bob, werewolf, ann, jackson, jr., dan, lewis, jewish, eddie, jimmy, chaplin</td>\n",
       "    </tr>\n",
       "  </tbody>\n",
       "</table>\n",
       "</div>"
      ],
      "text/plain": [
       "    Dominant Topic  Review Count  % Total Reviews  \\\n",
       "0                1             1             0.00   \n",
       "1                2             7             0.01   \n",
       "2                3             5             0.01   \n",
       "3                4             1             0.00   \n",
       "4                5             2             0.00   \n",
       "5                6           433             0.87   \n",
       "6                7            70             0.14   \n",
       "7                9         35577            71.15   \n",
       "8               10             2             0.00   \n",
       "9               11            45             0.09   \n",
       "10              12          4692             9.38   \n",
       "11              14             1             0.00   \n",
       "12              15            12             0.02   \n",
       "13              16          6395            12.79   \n",
       "14              17             2             0.00   \n",
       "15              18             1             0.00   \n",
       "16              19          2751             5.50   \n",
       "17              20             3             0.01   \n",
       "\n",
       "                                                                                                                                                                       Topic Key Words  \n",
       "0                                         show, series, episode, tv, season, television, air, program, host, new, dave, hbo, robin, week, t.v, release_dvd, commercial, oz, nbc, holly  \n",
       "1                                    funny, comedy, laugh, joke, humor, hilarious, dog, animation, cartoon, fun, cute, comic, disney, cat, gag, amuse, comedic, witty, spoof, laughter  \n",
       "2                                           gay, oscar, paris, howard, anderson, louis, bug, award, wayne, kate, al, simon, nominate, clark, gray, jay, cinderella, pray, rick, valley  \n",
       "3                        game, joe, bond, charlie, mike, australian, snake, adam, texas, max, ninja, football, australia, video_game, dean, mst3k, hoffman, carpenter, che, james_bond  \n",
       "4                                       music, version, song, voice, soundtrack, dance, musical, stage, rock, sing, band, dvd, jane, sound, number, singer, tune, record, kelly, print  \n",
       "5                               play, performance, role, star, early, classic, actress, fine, late, john, picture, hollywood, career, win, cast, mr., include, british, excellent, big  \n",
       "6                                          kill, death, fight, group, evil, hero, monster, use, die, body, fire, earth, human, doctor, attack, gun, space, special_effect, fly, escape  \n",
       "7                                         cop, gang, sam, harry, steve, arthur, arrest, driver, ed_wood, virus, arnold, hood, racial, mayor, turkish, argento, angela, jewel, doug, jr  \n",
       "8                                                   watch, think, time, look, end, ever, try, way, never, guy, actually, still, start, acting, pretty, happen, enjoy, saw, whole, mean  \n",
       "9                               black, city, white, street, drug, new_york, race, stereotype, law, generation, stone, heaven, angel, satire, south, sitcom, card, trial, spite, racist  \n",
       "10                                           girl, young, family, old, child, wife, friend, father, boy, home, mother, house, son, age, brother, daughter, school, town, husband, live  \n",
       "11                              love, life, world, time, way, feel, real, become, different, true, beautiful, viewer, bring, change, without, live, truly, always, wonderful, audience  \n",
       "12  book, novel, adaptation, read_book, read, tarzan, hard_believe, shelf, 1/10, catherine, victoria, abc, emma, poorly_write, adapt, biography, troma, celluloid, amanda, mini-series  \n",
       "13                             zombie, german, germany, hitler, wwii, vietnam, germans, holmes, lucy, nuclear, ireland, wine, lane, carter, scarlett, uniform, poison, chuck, von, ali  \n",
       "14        american, history, documentary, country, god, french, subject, class, english, society, student, america, issue, footage, us, italian, political, public, culture, interview  \n",
       "15                      character, well, scene, actor, work, director, little, though, use, part, original, script, action, far, especially, interesting, almost, although, point, act  \n",
       "16                war, soldier, japanese, military, canadian, anime, battle, dinosaur, training, cowboy, north, swedish, navy, civil_war, canada, 2/10, andrews, jacket, kingdom, iraq  \n",
       "17                                       michael, paul, tom, christmas, sport, radio, tony, jones, martin, bob, werewolf, ann, jackson, jr., dan, lewis, jewish, eddie, jimmy, chaplin  "
      ]
     },
     "execution_count": 49,
     "metadata": {},
     "output_type": "execute_result"
    }
   ],
   "source": [
    "topic_stats_df_lda20 = with_pickle('pickles/topic_stats_df_lda20.pickle', lambda : topic_stats_df(lda_model_20))\n",
    "topic_stats_df_lda20"
   ]
  },
  {
   "cell_type": "markdown",
   "metadata": {},
   "source": [
    "### LDA Results\n",
    "\n",
    "In general we can see that the topics above make a lot of sense for an IMDB dataset. However, they are not without flaws. We can see that there is substantial overlap between some topics, others are hard to interpret, and most of them have at least some terms that seem out of place. Besides if we look at statistics of both tables we will be able to notice that topics that have highest review count are not so similar by their key words content, what makes this statistic pretty arbitrary. "
   ]
  }
 ],
 "metadata": {
  "interpreter": {
   "hash": "a166e61b3f1e7b9ccc9f59f78d7cc3087a9ccbb0b1a7cff444b301613a633a54"
  },
  "kernelspec": {
   "display_name": "Python 3.10.5 64-bit (windows store)",
   "language": "python",
   "name": "python3"
  },
  "language_info": {
   "codemirror_mode": {
    "name": "ipython",
    "version": 3
   },
   "file_extension": ".py",
   "mimetype": "text/x-python",
   "name": "python",
   "nbconvert_exporter": "python",
   "pygments_lexer": "ipython3",
   "version": "3.10.5"
  },
  "orig_nbformat": 4
 },
 "nbformat": 4,
 "nbformat_minor": 2
}
