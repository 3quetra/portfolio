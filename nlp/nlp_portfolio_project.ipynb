{
 "cells": [
  {
   "cell_type": "markdown",
   "metadata": {},
   "source": [
    "# Movie Reviews\n",
    "\n",
    "The goal of this project is to analyse IMDB movie review texts using various NLP techniques and libraries. A dataset that we are going to use is meant mainly for **binary sentiment classification** and performing this particular type of analysis will, indeed, be our primary goal, but additionally, we'll **use POS tagging and chunking to find commonly used noun and verb phrases** and **find the most common movie topics users wrote about (topic modelling using LDA)**. All these techniques should give us insights into review texts on different levels as well as give us a new model to perform topic modelling on similar datasets as well as a sentiment analysis model to identify positive or negative reviews. \n",
    "\n",
    "Thanks to authors of this dataset it contains substantially more data than previous benchmark datasets. They provide a set of 25,000 highly polar movie reviews for training, and 25,000 for testing. In this regard, I respectfully would like to draw your attention to their research paper: [Learning Word Vectors for Sentiment Analysis](https://aclanthology.org/P11-1015) (Maas et al., ACL 2011)\n",
    "\n",
    "## EDA\n",
    "\n",
    "Let's import necessary libraries and methods crucial for further work and look at our dataset. We are going to upload data via `pandas` to see if it would facilitate further analysis."
   ]
  },
  {
   "cell_type": "code",
   "execution_count": 1,
   "metadata": {},
   "outputs": [],
   "source": [
    "# Basic imports\n",
    "import numpy as np\n",
    "import pandas as pd\n",
    "\n",
    "# Imports for files processing\n",
    "import os\n",
    "import pickle\n",
    "\n",
    "# Imports for visualisation\n",
    "from IPython.display import display\n",
    "from IPython.display import HTML\n",
    "\n",
    "# Imports for preprocessing\n",
    "from nltk.corpus import stopwords\n",
    "import re, nltk\n",
    "from nltk import pos_tag_sents, RegexpParser\n",
    "from nltk import word_tokenize, sent_tokenize"
   ]
  },
  {
   "cell_type": "markdown",
   "metadata": {},
   "source": [
    "Note: we are going to use `pickle` to speed up running time, so in some cells will be placed `pickle` functions."
   ]
  },
  {
   "cell_type": "code",
   "execution_count": 2,
   "metadata": {},
   "outputs": [],
   "source": [
    "def pickle_object(object, file_path):\n",
    "    with open(file_path, 'wb') as f:\n",
    "        pickle.dump(object, f)\n",
    "\n",
    "def unpickle_object(file_path):\n",
    "    if not os.path.isfile(file_path):\n",
    "        return None\n",
    "    with open(file_path, 'rb') as f:\n",
    "        return pickle.load(f)\n",
    "\n",
    "def with_pickle(file_path, fun):\n",
    "    value = unpickle_object(file_path)\n",
    "    if value is None:\n",
    "        value = fun()\n",
    "        pickle_object(value, file_path)\n",
    "    return value"
   ]
  },
  {
   "cell_type": "markdown",
   "metadata": {},
   "source": [
    "Now let's upload data into `pandas` DataFrame and see first several rows. "
   ]
  },
  {
   "cell_type": "code",
   "execution_count": 82,
   "metadata": {},
   "outputs": [
    {
     "data": {
      "text/html": [
       "<div>\n",
       "<style scoped>\n",
       "    .dataframe tbody tr th:only-of-type {\n",
       "        vertical-align: middle;\n",
       "    }\n",
       "\n",
       "    .dataframe tbody tr th {\n",
       "        vertical-align: top;\n",
       "    }\n",
       "\n",
       "    .dataframe thead th {\n",
       "        text-align: right;\n",
       "    }\n",
       "</style>\n",
       "<table border=\"1\" class=\"dataframe\">\n",
       "  <thead>\n",
       "    <tr style=\"text-align: right;\">\n",
       "      <th></th>\n",
       "      <th>review</th>\n",
       "      <th>sentiment</th>\n",
       "    </tr>\n",
       "  </thead>\n",
       "  <tbody>\n",
       "    <tr>\n",
       "      <th>0</th>\n",
       "      <td>One of the other reviewers has mentioned that after watching just 1 Oz episode you'll be hooked. They are right, as this is exactly what happened with me.&lt;br /&gt;&lt;br /&gt;The first thing that struck me about Oz was its brutality and unflinching scenes of violence, which set in right from the word GO. Trust me, this is not a show for the faint hearted or timid. This show pulls no punches with regards to drugs, sex or violence. Its is hardcore, in the classic use of the word.&lt;br /&gt;&lt;br /&gt;It is called OZ as that is the nickname given to the Oswald Maximum Security State Penitentary. It focuses mainly on Emerald City, an experimental section of the prison where all the cells have glass fronts and face inwards, so privacy is not high on the agenda. Em City is home to many..Aryans, Muslims, gangstas, Latinos, Christians, Italians, Irish and more....so scuffles, death stares, dodgy dealings and shady agreements are never far away.&lt;br /&gt;&lt;br /&gt;I would say the main appeal of the show is due to the fact that it goes where other shows wouldn't dare. Forget pretty pictures painted for mainstream audiences, forget charm, forget romance...OZ doesn't mess around. The first episode I ever saw struck me as so nasty it was surreal, I couldn't say I was ready for it, but as I watched more, I developed a taste for Oz, and got accustomed to the high levels of graphic violence. Not just violence, but injustice (crooked guards who'll be sold out for a nickel, inmates who'll kill on order and get away with it, well mannered, middle class inmates being turned into prison bitches due to their lack of street skills or prison experience) Watching Oz, you may become comfortable with what is uncomfortable viewing....thats if you can get in touch with your darker side.</td>\n",
       "      <td>positive</td>\n",
       "    </tr>\n",
       "    <tr>\n",
       "      <th>1</th>\n",
       "      <td>A wonderful little production. &lt;br /&gt;&lt;br /&gt;The filming technique is very unassuming- very old-time-BBC fashion and gives a comforting, and sometimes discomforting, sense of realism to the entire piece. &lt;br /&gt;&lt;br /&gt;The actors are extremely well chosen- Michael Sheen not only \"has got all the polari\" but he has all the voices down pat too! You can truly see the seamless editing guided by the references to Williams' diary entries, not only is it well worth the watching but it is a terrificly written and performed piece. A masterful production about one of the great master's of comedy and his life. &lt;br /&gt;&lt;br /&gt;The realism really comes home with the little things: the fantasy of the guard which, rather than use the traditional 'dream' techniques remains solid then disappears. It plays on our knowledge and our senses, particularly with the scenes concerning Orton and Halliwell and the sets (particularly of their flat with Halliwell's murals decorating every surface) are terribly well done.</td>\n",
       "      <td>positive</td>\n",
       "    </tr>\n",
       "    <tr>\n",
       "      <th>2</th>\n",
       "      <td>I thought this was a wonderful way to spend time on a too hot summer weekend, sitting in the air conditioned theater and watching a light-hearted comedy. The plot is simplistic, but the dialogue is witty and the characters are likable (even the well bread suspected serial killer). While some may be disappointed when they realize this is not Match Point 2: Risk Addiction, I thought it was proof that Woody Allen is still fully in control of the style many of us have grown to love.&lt;br /&gt;&lt;br /&gt;This was the most I'd laughed at one of Woody's comedies in years (dare I say a decade?). While I've never been impressed with Scarlet Johanson, in this she managed to tone down her \"sexy\" image and jumped right into a average, but spirited young woman.&lt;br /&gt;&lt;br /&gt;This may not be the crown jewel of his career, but it was wittier than \"Devil Wears Prada\" and more interesting than \"Superman\" a great comedy to go see with friends.</td>\n",
       "      <td>positive</td>\n",
       "    </tr>\n",
       "    <tr>\n",
       "      <th>3</th>\n",
       "      <td>Basically there's a family where a little boy (Jake) thinks there's a zombie in his closet &amp; his parents are fighting all the time.&lt;br /&gt;&lt;br /&gt;This movie is slower than a soap opera... and suddenly, Jake decides to become Rambo and kill the zombie.&lt;br /&gt;&lt;br /&gt;OK, first of all when you're going to make a film you must Decide if its a thriller or a drama! As a drama the movie is watchable. Parents are divorcing &amp; arguing like in real life. And then we have Jake with his closet which totally ruins all the film! I expected to see a BOOGEYMAN similar movie, and instead i watched a drama with some meaningless thriller spots.&lt;br /&gt;&lt;br /&gt;3 out of 10 just for the well playing parents &amp; descent dialogs. As for the shots with Jake: just ignore them.</td>\n",
       "      <td>negative</td>\n",
       "    </tr>\n",
       "    <tr>\n",
       "      <th>4</th>\n",
       "      <td>Petter Mattei's \"Love in the Time of Money\" is a visually stunning film to watch. Mr. Mattei offers us a vivid portrait about human relations. This is a movie that seems to be telling us what money, power and success do to people in the different situations we encounter. &lt;br /&gt;&lt;br /&gt;This being a variation on the Arthur Schnitzler's play about the same theme, the director transfers the action to the present time New York where all these different characters meet and connect. Each one is connected in one way, or another to the next person, but no one seems to know the previous point of contact. Stylishly, the film has a sophisticated luxurious look. We are taken to see how these people live and the world they live in their own habitat.&lt;br /&gt;&lt;br /&gt;The only thing one gets out of all these souls in the picture is the different stages of loneliness each one inhabits. A big city is not exactly the best place in which human relations find sincere fulfillment, as one discerns is the case with most of the people we encounter.&lt;br /&gt;&lt;br /&gt;The acting is good under Mr. Mattei's direction. Steve Buscemi, Rosario Dawson, Carol Kane, Michael Imperioli, Adrian Grenier, and the rest of the talented cast, make these characters come alive.&lt;br /&gt;&lt;br /&gt;We wish Mr. Mattei good luck and await anxiously for his next work.</td>\n",
       "      <td>positive</td>\n",
       "    </tr>\n",
       "  </tbody>\n",
       "</table>\n",
       "</div>"
      ],
      "text/plain": [
       "                                                                                                                                                                                                                                                                                                                                                                                                                                                                                                                                                                                                                                                                                                                                                                                                                                                                                                                                                                                                                                                                                                                                                                                                                                                                                                                                                                                                                                                                                                                                                                                                                                                                                                                                                                                                                              review  \\\n",
       "0  One of the other reviewers has mentioned that after watching just 1 Oz episode you'll be hooked. They are right, as this is exactly what happened with me.<br /><br />The first thing that struck me about Oz was its brutality and unflinching scenes of violence, which set in right from the word GO. Trust me, this is not a show for the faint hearted or timid. This show pulls no punches with regards to drugs, sex or violence. Its is hardcore, in the classic use of the word.<br /><br />It is called OZ as that is the nickname given to the Oswald Maximum Security State Penitentary. It focuses mainly on Emerald City, an experimental section of the prison where all the cells have glass fronts and face inwards, so privacy is not high on the agenda. Em City is home to many..Aryans, Muslims, gangstas, Latinos, Christians, Italians, Irish and more....so scuffles, death stares, dodgy dealings and shady agreements are never far away.<br /><br />I would say the main appeal of the show is due to the fact that it goes where other shows wouldn't dare. Forget pretty pictures painted for mainstream audiences, forget charm, forget romance...OZ doesn't mess around. The first episode I ever saw struck me as so nasty it was surreal, I couldn't say I was ready for it, but as I watched more, I developed a taste for Oz, and got accustomed to the high levels of graphic violence. Not just violence, but injustice (crooked guards who'll be sold out for a nickel, inmates who'll kill on order and get away with it, well mannered, middle class inmates being turned into prison bitches due to their lack of street skills or prison experience) Watching Oz, you may become comfortable with what is uncomfortable viewing....thats if you can get in touch with your darker side.   \n",
       "1                                                                                                                                                                                                                                                                                                                                                                                                                                                                                                                                                                                                                                                                                                                                                                                             A wonderful little production. <br /><br />The filming technique is very unassuming- very old-time-BBC fashion and gives a comforting, and sometimes discomforting, sense of realism to the entire piece. <br /><br />The actors are extremely well chosen- Michael Sheen not only \"has got all the polari\" but he has all the voices down pat too! You can truly see the seamless editing guided by the references to Williams' diary entries, not only is it well worth the watching but it is a terrificly written and performed piece. A masterful production about one of the great master's of comedy and his life. <br /><br />The realism really comes home with the little things: the fantasy of the guard which, rather than use the traditional 'dream' techniques remains solid then disappears. It plays on our knowledge and our senses, particularly with the scenes concerning Orton and Halliwell and the sets (particularly of their flat with Halliwell's murals decorating every surface) are terribly well done.   \n",
       "2                                                                                                                                                                                                                                                                                                                                                                                                                                                                                                                                                                                                                                                                                                                                                                                                                                                                     I thought this was a wonderful way to spend time on a too hot summer weekend, sitting in the air conditioned theater and watching a light-hearted comedy. The plot is simplistic, but the dialogue is witty and the characters are likable (even the well bread suspected serial killer). While some may be disappointed when they realize this is not Match Point 2: Risk Addiction, I thought it was proof that Woody Allen is still fully in control of the style many of us have grown to love.<br /><br />This was the most I'd laughed at one of Woody's comedies in years (dare I say a decade?). While I've never been impressed with Scarlet Johanson, in this she managed to tone down her \"sexy\" image and jumped right into a average, but spirited young woman.<br /><br />This may not be the crown jewel of his career, but it was wittier than \"Devil Wears Prada\" and more interesting than \"Superman\" a great comedy to go see with friends.   \n",
       "3                                                                                                                                                                                                                                                                                                                                                                                                                                                                                                                                                                                                                                                                                                                                                                                                                                                                                                                                                                                                                                                       Basically there's a family where a little boy (Jake) thinks there's a zombie in his closet & his parents are fighting all the time.<br /><br />This movie is slower than a soap opera... and suddenly, Jake decides to become Rambo and kill the zombie.<br /><br />OK, first of all when you're going to make a film you must Decide if its a thriller or a drama! As a drama the movie is watchable. Parents are divorcing & arguing like in real life. And then we have Jake with his closet which totally ruins all the film! I expected to see a BOOGEYMAN similar movie, and instead i watched a drama with some meaningless thriller spots.<br /><br />3 out of 10 just for the well playing parents & descent dialogs. As for the shots with Jake: just ignore them.   \n",
       "4                                                                                                                                                                                                                                                                                                                                                                                                                                                              Petter Mattei's \"Love in the Time of Money\" is a visually stunning film to watch. Mr. Mattei offers us a vivid portrait about human relations. This is a movie that seems to be telling us what money, power and success do to people in the different situations we encounter. <br /><br />This being a variation on the Arthur Schnitzler's play about the same theme, the director transfers the action to the present time New York where all these different characters meet and connect. Each one is connected in one way, or another to the next person, but no one seems to know the previous point of contact. Stylishly, the film has a sophisticated luxurious look. We are taken to see how these people live and the world they live in their own habitat.<br /><br />The only thing one gets out of all these souls in the picture is the different stages of loneliness each one inhabits. A big city is not exactly the best place in which human relations find sincere fulfillment, as one discerns is the case with most of the people we encounter.<br /><br />The acting is good under Mr. Mattei's direction. Steve Buscemi, Rosario Dawson, Carol Kane, Michael Imperioli, Adrian Grenier, and the rest of the talented cast, make these characters come alive.<br /><br />We wish Mr. Mattei good luck and await anxiously for his next work.   \n",
       "\n",
       "  sentiment  \n",
       "0  positive  \n",
       "1  positive  \n",
       "2  positive  \n",
       "3  negative  \n",
       "4  positive  "
      ]
     },
     "execution_count": 82,
     "metadata": {},
     "output_type": "execute_result"
    }
   ],
   "source": [
    "movie_reviews = pd.read_csv('data/imdb_dataset.csv')\n",
    "# Display full length text in column\n",
    "pd.options.display.max_colwidth = None\n",
    "movie_reviews.head(5)"
   ]
  },
  {
   "cell_type": "markdown",
   "metadata": {},
   "source": [
    "Reviews text is medium length and does not look too noisy from the first glance. We see some HTML tags and that's basically it for the first few texts. We are going to check in depth some other \"noise issues\" of this text, but let's first check how many positive and negative reviews this dataset contains exactly. "
   ]
  },
  {
   "cell_type": "code",
   "execution_count": 4,
   "metadata": {},
   "outputs": [
    {
     "data": {
      "text/plain": [
       "25000"
      ]
     },
     "execution_count": 4,
     "metadata": {},
     "output_type": "execute_result"
    }
   ],
   "source": [
    "(movie_reviews.sentiment =='negative').sum()"
   ]
  },
  {
   "cell_type": "code",
   "execution_count": 5,
   "metadata": {},
   "outputs": [
    {
     "data": {
      "text/plain": [
       "25000"
      ]
     },
     "execution_count": 5,
     "metadata": {},
     "output_type": "execute_result"
    }
   ],
   "source": [
    "(movie_reviews.sentiment =='positive').sum()"
   ]
  },
  {
   "cell_type": "code",
   "execution_count": 6,
   "metadata": {},
   "outputs": [
    {
     "data": {
      "text/plain": [
       "50000"
      ]
     },
     "execution_count": 6,
     "metadata": {},
     "output_type": "execute_result"
    }
   ],
   "source": [
    "len(movie_reviews)"
   ]
  },
  {
   "cell_type": "markdown",
   "metadata": {},
   "source": [
    "So, of 50 thousand reviews exactly half marked as \"negative\" and the other half as \"positive\". Considering, there are only 2 columns in this DataFrame, which are \"review\" texts themselves and their \"sentiment\", there is not much quck insights we can get out of the dataset without applying NLP methods, so let's get to noise removal part.\n",
    "\n",
    "## Noise Removal\n",
    "\n",
    "We'll start with pretty standart noise removal:\n",
    "- HTML tags;\n",
    "- Links.\n"
   ]
  },
  {
   "cell_type": "code",
   "execution_count": 7,
   "metadata": {},
   "outputs": [],
   "source": [
    "def remove_html_tags():\n",
    "    return movie_reviews.review.str.replace(r'<br />|</?(i|p|em|hr)|', '', regex=True)\n",
    "\n",
    "# Remove HTML tags\n",
    "movie_reviews.review = with_pickle('pickles/html_tags_removed.pickle', remove_html_tags)"
   ]
  },
  {
   "cell_type": "code",
   "execution_count": 8,
   "metadata": {},
   "outputs": [],
   "source": [
    "# Remove links\n",
    "movie_reviews.review = movie_reviews.review.str.replace(r'''[(http(s)?):\\/\\/(www\\.)?a-zA-Z0-9@:%._\\+~#=]{2,256}\\.[a-z]{2,6}\\b([-a-zA-Z0-9@:%_\\+.~#?&//=]*)''', '', regex=True)"
   ]
  },
  {
   "cell_type": "markdown",
   "metadata": {},
   "source": [
    "To check the results after applying our noise removal `regex` expressions and find other different flaws of this dataset we'll use pretty sophysticated codesnippet from StackOverflow which highlights user entered strings or regex expressions. \n",
    "\n",
    "Using this method we may not only check data for noise, but also find some interesting text properties, like `emoticons`. There is a huge ammount of valuable sentiment information hidden withing these symbols, yet not many public libraries are capable of their efficient interpretation. After some reseach of available libraries I decided to leave these symbols as they are, but in the future it could be benificial to \"translate\" them to text strings, meaningful for text processing algorithms. There are some examples of text containing different types of `emoticons` below. "
   ]
  },
  {
   "cell_type": "code",
   "execution_count": 9,
   "metadata": {},
   "outputs": [
    {
     "data": {
      "text/html": [
       "\n",
       "    <table>\n",
       "        <thead>\n",
       "            <th> review </th><th> sentiment </th>\n",
       "        </thead>\n",
       "    <tbody><tr><td> I have to say that this miniseries was the best interpretation of the beloved novel \"Jane Eyre\". Both Dalton and Clarke are very believable as Rochester and Jane. I've seen other versions, but none compare to this one. The best one for me. I could never imagine anyone else playing these characters ever again. The last time I saw this one was in 1984 when I was only 13. At that time, I was a bookworm and I had just read Charlotte Bronte's novel. I was completely enchanted by this miniseries and I remember not missing any of the episodes. I'd like to see it again because it's so good. <span style='color:red;'>:-)</span> </td></tr><td> positive </td></tr><tr><td> This was one of my favorite series when I was a kid. The Swedish broadcasting company decided to broadcast it once again a couple of summers ago when I had just finished my first semester of medical school. I was surprised to see the depth in which the organs was explained. Sure, some things are simplified but most of it was correct (even though it was made 22 years ago!) and quite understandable. I would suggest that all soon-to-be medical student should watch it. It is a very good way to learn some of the basic medical words for example. Now I'm in my 7th semester and I think I'll watch the series once again as soon as I've bought the DVD-box <span style='color:red;'>:-)</span> </td></tr><td> positive </td></tr></tbody></table>"
      ],
      "text/plain": [
       "<IPython.core.display.HTML object>"
      ]
     },
     "metadata": {},
     "output_type": "display_data"
    }
   ],
   "source": [
    "def display_highlighted_words(df, keywords):\n",
    "    head = \"\"\"\n",
    "    <table>\n",
    "        <thead>\n",
    "            \"\"\" + \\\n",
    "            \"\".join([\"<th> %s </th>\" % c for c in df.columns])\\\n",
    "            + \"\"\"\n",
    "        </thead>\n",
    "    <tbody>\"\"\"\n",
    "\n",
    "    for i,r in df.iterrows():\n",
    "        row = \"<tr>\"\n",
    "        for c in df.columns:\n",
    "            matches = []\n",
    "            for k in keywords:\n",
    "                for match in re.finditer(k, str(r[c])):\n",
    "                    matches.append(match)\n",
    "        \n",
    "            # reverse sorting\n",
    "            matches = sorted(matches, key = lambda x: x.start(), reverse=True)\n",
    "        \n",
    "            # building HTML row\n",
    "            cell = str(r[c])\n",
    "            for match in matches:\n",
    "                cell = cell[:match.start()] +\\\n",
    "                    \"<span style='color:red;'>%s</span>\" % cell[match.start():match.end()] +\\\n",
    "                    cell[match.end():]\n",
    "            row += \"<td> %s </td>\" % cell\n",
    "                \n",
    "            row += \"</tr>\"\n",
    "        head += row\n",
    "\n",
    "    head += \"</tbody></table>\"\n",
    "    display(HTML(head))\n",
    "\n",
    "display_highlighted_words(movie_reviews[movie_reviews.review.str.contains(r':-\\)')][:2], [':-\\)'])\n"
   ]
  },
  {
   "cell_type": "code",
   "execution_count": 10,
   "metadata": {},
   "outputs": [
    {
     "data": {
      "text/html": [
       "\n",
       "    <table>\n",
       "        <thead>\n",
       "            <th> review </th><th> sentiment </th>\n",
       "        </thead>\n",
       "    <tbody><tr><td> Since the last horrid Astérix film and the fact that we only get the Swiss German version in cinemas, here, I went to watch it with quite a bit of trepidation... Unfounded, as I was happy to discover <span style='color:red;'>^</span><span style='color:red;'>_</span><span style='color:red;'>_</span><span style='color:red;'>_</span><span style='color:red;'>_</span><span style='color:red;'>^</span>The film is funny and modern, has good gags, a good animation, an amusing character interaction, a good voice cast (Note: I can only speak for the Swiss German one!) except for the Viking chief's daughter Abba (her name is great, despite the not very inspired voice actress)...I especially liked the character Justforkix (Goudurix in French, Grautvornix in German. He's the young man who is supposed to be put in shape...). He's a very amusing portrayal of a mollycoddled, urban teenager; but he's very likable, despite the teenage mannerisms... XD The interaction between Astérix & Obélix and their young charge is fantastic and thoroughly entertaining.It shouldn't be compared to the old films, since this one is quite different... Which surprisingly doesn't make it bad. On the contrary. When they tried to modernize the last film (twelve years ago), they completely blew it. This film, however, proved that it can be done just fine... <span style='color:red;'>^</span><span style='color:red;'>-</span><span style='color:red;'>^</span>I came out of the theater cheerful... Always a good sign <span style='color:red;'>^</span><span style='color:red;'>_</span><span style='color:red;'>~</span> </td></tr><td> positive </td></tr><tr><td> Just finished watching the movie and wanted to give my own opinion(and justice) to the movie.First of all, to get things straight, this movie is not pretending to be anything other than a solid action comedy movie. It doesn't aim to revolutionize the movie industry and garner critical acclaims nor does it want to be regarded as one. If you really want to enjoy this movie to the fullest, I suggest you discard your critical<span style='color:red;'>-</span>mindedness and your longing for a good plot because you won't find any in here. With that established, let us further into the movie.I had low expectations for this movie simply because it didn't have a strong plot(Yes, moviegoers, I underrated this movie as well), but I never expected myself to enjoy this movie that much. I even enjoyed this more than the Stephen Chow flicks(which I find Kung Fu Hustle to be his best effort and would've rated it a 9 as well). Action is tight and epic while comedy chokes on to the right places.SPOILERS alert, I think The action might be unreal, but why would I want to watch a serious basketball movie anyways? There are a lot other sports movies(drama) that already did it well, why create another? SPOILERS endI'm not even sure why you're reading this. Go ahead and watch it. Just remember, no thinking <span style='color:red;'>-</span> just watch, enjoy, smile, laugh, and Every once in a while they(the movie industry) creates masterpieces such as Pulp Fiction or The Godfather movies, and sometimes they create movies which are better off in the pile of dump. I'm not saying Kung Fu Dunk deserves the recognition that the previous examples have, then again, if we're talking about Stephen Chow<span style='color:red;'>-</span>ish comedy, this one's a top ten.Highly recommended if you love: <span style='color:red;'>-</span>no brainer movies with really good action <span style='color:red;'>-</span>Kung Fu <span style='color:red;'>-</span>Death Trance <span style='color:red;'>-</span>Kung Fu and comedy <span style='color:red;'>-</span>what the heck, watch this. you'll have a great time.9/10 for you the cast of Kung Fu Dunk. <span style='color:red;'>^</span><span style='color:red;'>_</span><span style='color:red;'>^</span> </td></tr><td> positive </td></tr></tbody></table>"
      ],
      "text/plain": [
       "<IPython.core.display.HTML object>"
      ]
     },
     "metadata": {},
     "output_type": "display_data"
    }
   ],
   "source": [
    "display_highlighted_words(movie_reviews[movie_reviews.review.str.contains(r'\\^_+')][2:4], ['_', '\\^', '-', '~', '='])"
   ]
  },
  {
   "cell_type": "markdown",
   "metadata": {},
   "source": [
    "Other interesting thing that is probably specific to reviews in general - users tend to give their personal score on the scale from 1 to 10, which can be a big help for machine learning algorithms if interpreted correctly. As well as `emoticons`, `user scores` are worth looking into on the further stages of algorithms tunning so I'll leave them in place with other digits for now, since they will not affect the first part of our analysis. "
   ]
  },
  {
   "cell_type": "markdown",
   "metadata": {},
   "source": [
    "### Pre-processing: phase 1\n",
    "\n",
    "Now that we removed at least some noise we are going to apply text preprocessing methods. We are going to need part of speech tagging applied to these reviews so we can use chunk grammar to determine common verb and noun phrases. To make part of speech tagging more relevant, fast and efficient we will apply the `pos_tag` method to the whole, mostly unchanged, sentence, this way parts of speech will be determined by context hence, in theory, it would yield a more accurate result. \n",
    "\n",
    "To achieve it we first are going to tokenise each review by sentence and then by words before feeding it to the `tag_sents` method."
   ]
  },
  {
   "cell_type": "code",
   "execution_count": 11,
   "metadata": {},
   "outputs": [],
   "source": [
    "def word_sent_tokenize(text):\n",
    "    word_sent_tokenized = [word_tokenize(s) for s in sent_tokenize(text)]\n",
    "    return word_sent_tokenized"
   ]
  },
  {
   "cell_type": "code",
   "execution_count": 12,
   "metadata": {},
   "outputs": [],
   "source": [
    "def tokenize_df():\n",
    "    return movie_reviews.review.apply(word_sent_tokenize)\n",
    "\n",
    "movie_reviews['sent_tokenized'] = with_pickle('pickles/sent_tokenized.pickle', tokenize_df)"
   ]
  },
  {
   "cell_type": "code",
   "execution_count": 13,
   "metadata": {},
   "outputs": [],
   "source": [
    "def tag_sents():\n",
    "    return movie_reviews.sent_tokenized.apply(pos_tag_sents)\n",
    "\n",
    "movie_reviews['sent_pos_tagged'] = with_pickle('pickles/pos_tagged.pickle', tag_sents)"
   ]
  },
  {
   "cell_type": "markdown",
   "metadata": {},
   "source": [
    "## Sentences Chunking\n",
    "\n",
    "Now that we have part-of-speech tagged our texts, we can move on to syntax parsing. We are going to use different mixes of chunk grammar within Noun and Verb Phrases to perform it."
   ]
  },
  {
   "cell_type": "code",
   "execution_count": 14,
   "metadata": {},
   "outputs": [],
   "source": [
    "def np_chunking_text(pos_tagged_text):\n",
    "    # Noun phrase chunk grammar\n",
    "    np_chunk_grammar = r'NP: {<JJ.*>+<NN.*>+|<NN.*>+<JJ.*>+|<RB.*>+<NN.*>+|<NN.*>+<RB.*>+|<RB.*>+<JJ.*>+|<NN.*>+<NN.*>+}'\n",
    "\n",
    "    # Create NP RegexpParser object\n",
    "    np_chunk_parser = RegexpParser(np_chunk_grammar) \n",
    "\n",
    "    np_chunked_text = [np_chunk_parser.parse(w) for w in pos_tagged_text]\n",
    "\n",
    "    return np_chunked_text"
   ]
  },
  {
   "cell_type": "code",
   "execution_count": 15,
   "metadata": {},
   "outputs": [],
   "source": [
    "def vp_chunking_text(pos_tagged_text):\n",
    "    # Verb phrase chunk grammar\n",
    "    vp_chunk_grammar = r'VP: {<JJ.*>*<RB.*>*<NN.*>+<VB.*>+|<NN.*>+<VB.*>+<JJ.*>*<RB.*>*|<RB.*>+<NN.*>+<VB.*>+|<JJ.*>+<VB.*>+}'\n",
    "\n",
    "    # Create VP RegexpParser object\n",
    "    vp_chunk_parser = RegexpParser(vp_chunk_grammar) \n",
    "\n",
    "    vp_chunked_text = [vp_chunk_parser.parse(w) for w in pos_tagged_text]\n",
    "\n",
    "    return vp_chunked_text\n"
   ]
  },
  {
   "cell_type": "code",
   "execution_count": 16,
   "metadata": {},
   "outputs": [],
   "source": [
    "def np_rows_chunking():\n",
    "    return movie_reviews.sent_pos_tagged.apply(np_chunking_text)\n",
    "\n",
    "movie_reviews['np_chunked'] = with_pickle('pickles/np_chunked.pickle', np_rows_chunking)\n"
   ]
  },
  {
   "cell_type": "code",
   "execution_count": 17,
   "metadata": {},
   "outputs": [],
   "source": [
    "def vp_rows_chunking():\n",
    "    return movie_reviews.sent_pos_tagged.apply(vp_chunking_text)\n",
    "\n",
    "movie_reviews['vp_chunked'] = with_pickle('pickles/vp_chunked.pickle', vp_rows_chunking)"
   ]
  },
  {
   "cell_type": "markdown",
   "metadata": {},
   "source": [
    "Let's see an example of NP chunk to understand what phrases we could get."
   ]
  },
  {
   "cell_type": "code",
   "execution_count": 18,
   "metadata": {},
   "outputs": [
    {
     "data": {
      "image/svg+xml": "<svg baseProfile=\"full\" height=\"168px\" preserveAspectRatio=\"xMidYMid meet\" style=\"font-family: times, serif; font-weight:normal; font-style: normal; font-size: 16px;\" version=\"1.1\" viewBox=\"0,0,1416.0,168.0\" width=\"1416px\" xmlns=\"http://www.w3.org/2000/svg\" xmlns:ev=\"http://www.w3.org/2001/xml-events\" xmlns:xlink=\"http://www.w3.org/1999/xlink\"><defs /><svg width=\"100%\" x=\"0\" y=\"0em\"><defs /><text text-anchor=\"middle\" x=\"50%\" y=\"1em\">S</text></svg><svg width=\"2.82486%\" x=\"0%\" y=\"3em\"><defs /><svg width=\"100%\" x=\"0\" y=\"0em\"><defs /><text text-anchor=\"middle\" x=\"50%\" y=\"1em\">The</text></svg><svg width=\"100%\" x=\"0%\" y=\"3em\"><defs /><svg width=\"100%\" x=\"0\" y=\"0em\"><defs /><text text-anchor=\"middle\" x=\"50%\" y=\"1em\">DT</text></svg></svg><line stroke=\"black\" x1=\"50%\" x2=\"50%\" y1=\"1.2em\" y2=\"3em\" /></svg><line stroke=\"black\" x1=\"50%\" x2=\"1.41243%\" y1=\"1.2em\" y2=\"3em\" /><svg width=\"12.4294%\" x=\"2.82486%\" y=\"3em\"><defs /><svg width=\"100%\" x=\"0\" y=\"0em\"><defs /><text text-anchor=\"middle\" x=\"50%\" y=\"1em\">NP</text></svg><svg width=\"31.8182%\" x=\"0%\" y=\"3em\"><defs /><svg width=\"100%\" x=\"0\" y=\"0em\"><defs /><text text-anchor=\"middle\" x=\"50%\" y=\"1em\">shaky</text></svg><svg width=\"100%\" x=\"0%\" y=\"3em\"><defs /><svg width=\"100%\" x=\"0\" y=\"0em\"><defs /><text text-anchor=\"middle\" x=\"50%\" y=\"1em\">JJ</text></svg></svg><line stroke=\"black\" x1=\"50%\" x2=\"50%\" y1=\"1.2em\" y2=\"3em\" /></svg><line stroke=\"black\" x1=\"50%\" x2=\"15.9091%\" y1=\"1.2em\" y2=\"3em\" /><svg width=\"36.3636%\" x=\"31.8182%\" y=\"3em\"><defs /><svg width=\"100%\" x=\"0\" y=\"0em\"><defs /><text text-anchor=\"middle\" x=\"50%\" y=\"1em\">camera</text></svg><svg width=\"100%\" x=\"0%\" y=\"3em\"><defs /><svg width=\"100%\" x=\"0\" y=\"0em\"><defs /><text text-anchor=\"middle\" x=\"50%\" y=\"1em\">NN</text></svg></svg><line stroke=\"black\" x1=\"50%\" x2=\"50%\" y1=\"1.2em\" y2=\"3em\" /></svg><line stroke=\"black\" x1=\"50%\" x2=\"50%\" y1=\"1.2em\" y2=\"3em\" /><svg width=\"31.8182%\" x=\"68.1818%\" y=\"3em\"><defs /><svg width=\"100%\" x=\"0\" y=\"0em\"><defs /><text text-anchor=\"middle\" x=\"50%\" y=\"1em\">shots</text></svg><svg width=\"100%\" x=\"0%\" y=\"3em\"><defs /><svg width=\"100%\" x=\"0\" y=\"0em\"><defs /><text text-anchor=\"middle\" x=\"50%\" y=\"1em\">NNS</text></svg></svg><line stroke=\"black\" x1=\"50%\" x2=\"50%\" y1=\"1.2em\" y2=\"3em\" /></svg><line stroke=\"black\" x1=\"50%\" x2=\"84.0909%\" y1=\"1.2em\" y2=\"3em\" /></svg><line stroke=\"black\" x1=\"50%\" x2=\"9.03955%\" y1=\"1.2em\" y2=\"3em\" /><svg width=\"2.82486%\" x=\"15.2542%\" y=\"3em\"><defs /><svg width=\"100%\" x=\"0\" y=\"0em\"><defs /><text text-anchor=\"middle\" x=\"50%\" y=\"1em\">and</text></svg><svg width=\"100%\" x=\"0%\" y=\"3em\"><defs /><svg width=\"100%\" x=\"0\" y=\"0em\"><defs /><text text-anchor=\"middle\" x=\"50%\" y=\"1em\">CC</text></svg></svg><line stroke=\"black\" x1=\"50%\" x2=\"50%\" y1=\"1.2em\" y2=\"3em\" /></svg><line stroke=\"black\" x1=\"50%\" x2=\"16.6667%\" y1=\"1.2em\" y2=\"3em\" /><svg width=\"4.51977%\" x=\"18.0791%\" y=\"3em\"><defs /><svg width=\"100%\" x=\"0\" y=\"0em\"><defs /><text text-anchor=\"middle\" x=\"50%\" y=\"1em\">angles</text></svg><svg width=\"100%\" x=\"0%\" y=\"3em\"><defs /><svg width=\"100%\" x=\"0\" y=\"0em\"><defs /><text text-anchor=\"middle\" x=\"50%\" y=\"1em\">NNS</text></svg></svg><line stroke=\"black\" x1=\"50%\" x2=\"50%\" y1=\"1.2em\" y2=\"3em\" /></svg><line stroke=\"black\" x1=\"50%\" x2=\"20.339%\" y1=\"1.2em\" y2=\"3em\" /><svg width=\"1.69492%\" x=\"22.5989%\" y=\"3em\"><defs /><svg width=\"100%\" x=\"0\" y=\"0em\"><defs /><text text-anchor=\"middle\" x=\"50%\" y=\"1em\">,</text></svg><svg width=\"100%\" x=\"0%\" y=\"3em\"><defs /><svg width=\"100%\" x=\"0\" y=\"0em\"><defs /><text text-anchor=\"middle\" x=\"50%\" y=\"1em\">,</text></svg></svg><line stroke=\"black\" x1=\"50%\" x2=\"50%\" y1=\"1.2em\" y2=\"3em\" /></svg><line stroke=\"black\" x1=\"50%\" x2=\"23.4463%\" y1=\"1.2em\" y2=\"3em\" /><svg width=\"17.5141%\" x=\"24.2938%\" y=\"3em\"><defs /><svg width=\"100%\" x=\"0\" y=\"0em\"><defs /><text text-anchor=\"middle\" x=\"50%\" y=\"1em\">NP</text></svg><svg width=\"29.0323%\" x=\"0%\" y=\"3em\"><defs /><svg width=\"100%\" x=\"0\" y=\"0em\"><defs /><text text-anchor=\"middle\" x=\"50%\" y=\"1em\">general</text></svg><svg width=\"100%\" x=\"0%\" y=\"3em\"><defs /><svg width=\"100%\" x=\"0\" y=\"0em\"><defs /><text text-anchor=\"middle\" x=\"50%\" y=\"1em\">JJ</text></svg></svg><line stroke=\"black\" x1=\"50%\" x2=\"50%\" y1=\"1.2em\" y2=\"3em\" /></svg><line stroke=\"black\" x1=\"50%\" x2=\"14.5161%\" y1=\"1.2em\" y2=\"3em\" /><svg width=\"19.3548%\" x=\"29.0323%\" y=\"3em\"><defs /><svg width=\"100%\" x=\"0\" y=\"0em\"><defs /><text text-anchor=\"middle\" x=\"50%\" y=\"1em\">poor</text></svg><svg width=\"100%\" x=\"0%\" y=\"3em\"><defs /><svg width=\"100%\" x=\"0\" y=\"0em\"><defs /><text text-anchor=\"middle\" x=\"50%\" y=\"1em\">JJ</text></svg></svg><line stroke=\"black\" x1=\"50%\" x2=\"50%\" y1=\"1.2em\" y2=\"3em\" /></svg><line stroke=\"black\" x1=\"50%\" x2=\"38.7097%\" y1=\"1.2em\" y2=\"3em\" /><svg width=\"51.6129%\" x=\"48.3871%\" y=\"3em\"><defs /><svg width=\"100%\" x=\"0\" y=\"0em\"><defs /><text text-anchor=\"middle\" x=\"50%\" y=\"1em\">cinematography</text></svg><svg width=\"100%\" x=\"0%\" y=\"3em\"><defs /><svg width=\"100%\" x=\"0\" y=\"0em\"><defs /><text text-anchor=\"middle\" x=\"50%\" y=\"1em\">NN</text></svg></svg><line stroke=\"black\" x1=\"50%\" x2=\"50%\" y1=\"1.2em\" y2=\"3em\" /></svg><line stroke=\"black\" x1=\"50%\" x2=\"74.1935%\" y1=\"1.2em\" y2=\"3em\" /></svg><line stroke=\"black\" x1=\"50%\" x2=\"33.0508%\" y1=\"1.2em\" y2=\"3em\" /><svg width=\"1.69492%\" x=\"41.8079%\" y=\"3em\"><defs /><svg width=\"100%\" x=\"0\" y=\"0em\"><defs /><text text-anchor=\"middle\" x=\"50%\" y=\"1em\">,</text></svg><svg width=\"100%\" x=\"0%\" y=\"3em\"><defs /><svg width=\"100%\" x=\"0\" y=\"0em\"><defs /><text text-anchor=\"middle\" x=\"50%\" y=\"1em\">,</text></svg></svg><line stroke=\"black\" x1=\"50%\" x2=\"50%\" y1=\"1.2em\" y2=\"3em\" /></svg><line stroke=\"black\" x1=\"50%\" x2=\"42.6554%\" y1=\"1.2em\" y2=\"3em\" /><svg width=\"6.21469%\" x=\"43.5028%\" y=\"3em\"><defs /><svg width=\"100%\" x=\"0\" y=\"0em\"><defs /><text text-anchor=\"middle\" x=\"50%\" y=\"1em\">direction</text></svg><svg width=\"100%\" x=\"0%\" y=\"3em\"><defs /><svg width=\"100%\" x=\"0\" y=\"0em\"><defs /><text text-anchor=\"middle\" x=\"50%\" y=\"1em\">NN</text></svg></svg><line stroke=\"black\" x1=\"50%\" x2=\"50%\" y1=\"1.2em\" y2=\"3em\" /></svg><line stroke=\"black\" x1=\"50%\" x2=\"46.6102%\" y1=\"1.2em\" y2=\"3em\" /><svg width=\"2.82486%\" x=\"49.7175%\" y=\"3em\"><defs /><svg width=\"100%\" x=\"0\" y=\"0em\"><defs /><text text-anchor=\"middle\" x=\"50%\" y=\"1em\">and</text></svg><svg width=\"100%\" x=\"0%\" y=\"3em\"><defs /><svg width=\"100%\" x=\"0\" y=\"0em\"><defs /><text text-anchor=\"middle\" x=\"50%\" y=\"1em\">CC</text></svg></svg><line stroke=\"black\" x1=\"50%\" x2=\"50%\" y1=\"1.2em\" y2=\"3em\" /></svg><line stroke=\"black\" x1=\"50%\" x2=\"51.1299%\" y1=\"1.2em\" y2=\"3em\" /><svg width=\"12.4294%\" x=\"52.5424%\" y=\"3em\"><defs /><svg width=\"100%\" x=\"0\" y=\"0em\"><defs /><text text-anchor=\"middle\" x=\"50%\" y=\"1em\">NP</text></svg><svg width=\"36.3636%\" x=\"0%\" y=\"3em\"><defs /><svg width=\"100%\" x=\"0\" y=\"0em\"><defs /><text text-anchor=\"middle\" x=\"50%\" y=\"1em\">wooden</text></svg><svg width=\"100%\" x=\"0%\" y=\"3em\"><defs /><svg width=\"100%\" x=\"0\" y=\"0em\"><defs /><text text-anchor=\"middle\" x=\"50%\" y=\"1em\">JJ</text></svg></svg><line stroke=\"black\" x1=\"50%\" x2=\"50%\" y1=\"1.2em\" y2=\"3em\" /></svg><line stroke=\"black\" x1=\"50%\" x2=\"18.1818%\" y1=\"1.2em\" y2=\"3em\" /><svg width=\"63.6364%\" x=\"36.3636%\" y=\"3em\"><defs /><svg width=\"100%\" x=\"0\" y=\"0em\"><defs /><text text-anchor=\"middle\" x=\"50%\" y=\"1em\">performances</text></svg><svg width=\"100%\" x=\"0%\" y=\"3em\"><defs /><svg width=\"100%\" x=\"0\" y=\"0em\"><defs /><text text-anchor=\"middle\" x=\"50%\" y=\"1em\">NNS</text></svg></svg><line stroke=\"black\" x1=\"50%\" x2=\"50%\" y1=\"1.2em\" y2=\"3em\" /></svg><line stroke=\"black\" x1=\"50%\" x2=\"68.1818%\" y1=\"1.2em\" y2=\"3em\" /></svg><line stroke=\"black\" x1=\"50%\" x2=\"58.7571%\" y1=\"1.2em\" y2=\"3em\" /><svg width=\"2.82486%\" x=\"64.9718%\" y=\"3em\"><defs /><svg width=\"100%\" x=\"0\" y=\"0em\"><defs /><text text-anchor=\"middle\" x=\"50%\" y=\"1em\">had</text></svg><svg width=\"100%\" x=\"0%\" y=\"3em\"><defs /><svg width=\"100%\" x=\"0\" y=\"0em\"><defs /><text text-anchor=\"middle\" x=\"50%\" y=\"1em\">VBD</text></svg></svg><line stroke=\"black\" x1=\"50%\" x2=\"50%\" y1=\"1.2em\" y2=\"3em\" /></svg><line stroke=\"black\" x1=\"50%\" x2=\"66.3842%\" y1=\"1.2em\" y2=\"3em\" /><svg width=\"5.08475%\" x=\"67.7966%\" y=\"3em\"><defs /><svg width=\"100%\" x=\"0\" y=\"0em\"><defs /><text text-anchor=\"middle\" x=\"50%\" y=\"1em\">already</text></svg><svg width=\"100%\" x=\"0%\" y=\"3em\"><defs /><svg width=\"100%\" x=\"0\" y=\"0em\"><defs /><text text-anchor=\"middle\" x=\"50%\" y=\"1em\">RB</text></svg></svg><line stroke=\"black\" x1=\"50%\" x2=\"50%\" y1=\"1.2em\" y2=\"3em\" /></svg><line stroke=\"black\" x1=\"50%\" x2=\"70.339%\" y1=\"1.2em\" y2=\"3em\" /><svg width=\"3.38983%\" x=\"72.8814%\" y=\"3em\"><defs /><svg width=\"100%\" x=\"0\" y=\"0em\"><defs /><text text-anchor=\"middle\" x=\"50%\" y=\"1em\">left</text></svg><svg width=\"100%\" x=\"0%\" y=\"3em\"><defs /><svg width=\"100%\" x=\"0\" y=\"0em\"><defs /><text text-anchor=\"middle\" x=\"50%\" y=\"1em\">VBN</text></svg></svg><line stroke=\"black\" x1=\"50%\" x2=\"50%\" y1=\"1.2em\" y2=\"3em\" /></svg><line stroke=\"black\" x1=\"50%\" x2=\"74.5763%\" y1=\"1.2em\" y2=\"3em\" /><svg width=\"2.82486%\" x=\"76.2712%\" y=\"3em\"><defs /><svg width=\"100%\" x=\"0\" y=\"0em\"><defs /><text text-anchor=\"middle\" x=\"50%\" y=\"1em\">us</text></svg><svg width=\"100%\" x=\"0%\" y=\"3em\"><defs /><svg width=\"100%\" x=\"0\" y=\"0em\"><defs /><text text-anchor=\"middle\" x=\"50%\" y=\"1em\">PRP</text></svg></svg><line stroke=\"black\" x1=\"50%\" x2=\"50%\" y1=\"1.2em\" y2=\"3em\" /></svg><line stroke=\"black\" x1=\"50%\" x2=\"77.6836%\" y1=\"1.2em\" y2=\"3em\" /><svg width=\"5.08475%\" x=\"79.096%\" y=\"3em\"><defs /><svg width=\"100%\" x=\"0\" y=\"0em\"><defs /><text text-anchor=\"middle\" x=\"50%\" y=\"1em\">feeling</text></svg><svg width=\"100%\" x=\"0%\" y=\"3em\"><defs /><svg width=\"100%\" x=\"0\" y=\"0em\"><defs /><text text-anchor=\"middle\" x=\"50%\" y=\"1em\">VBG</text></svg></svg><line stroke=\"black\" x1=\"50%\" x2=\"50%\" y1=\"1.2em\" y2=\"3em\" /></svg><line stroke=\"black\" x1=\"50%\" x2=\"81.6384%\" y1=\"1.2em\" y2=\"3em\" /><svg width=\"3.38983%\" x=\"84.1808%\" y=\"3em\"><defs /><svg width=\"100%\" x=\"0\" y=\"0em\"><defs /><text text-anchor=\"middle\" x=\"50%\" y=\"1em\">flat</text></svg><svg width=\"100%\" x=\"0%\" y=\"3em\"><defs /><svg width=\"100%\" x=\"0\" y=\"0em\"><defs /><text text-anchor=\"middle\" x=\"50%\" y=\"1em\">JJ</text></svg></svg><line stroke=\"black\" x1=\"50%\" x2=\"50%\" y1=\"1.2em\" y2=\"3em\" /></svg><line stroke=\"black\" x1=\"50%\" x2=\"85.8757%\" y1=\"1.2em\" y2=\"3em\" /><svg width=\"2.82486%\" x=\"87.5706%\" y=\"3em\"><defs /><svg width=\"100%\" x=\"0\" y=\"0em\"><defs /><text text-anchor=\"middle\" x=\"50%\" y=\"1em\">and</text></svg><svg width=\"100%\" x=\"0%\" y=\"3em\"><defs /><svg width=\"100%\" x=\"0\" y=\"0em\"><defs /><text text-anchor=\"middle\" x=\"50%\" y=\"1em\">CC</text></svg></svg><line stroke=\"black\" x1=\"50%\" x2=\"50%\" y1=\"1.2em\" y2=\"3em\" /></svg><line stroke=\"black\" x1=\"50%\" x2=\"88.9831%\" y1=\"1.2em\" y2=\"3em\" /><svg width=\"7.9096%\" x=\"90.3955%\" y=\"3em\"><defs /><svg width=\"100%\" x=\"0\" y=\"0em\"><defs /><text text-anchor=\"middle\" x=\"50%\" y=\"1em\">dissatisfied</text></svg><svg width=\"100%\" x=\"0%\" y=\"3em\"><defs /><svg width=\"100%\" x=\"0\" y=\"0em\"><defs /><text text-anchor=\"middle\" x=\"50%\" y=\"1em\">JJ</text></svg></svg><line stroke=\"black\" x1=\"50%\" x2=\"50%\" y1=\"1.2em\" y2=\"3em\" /></svg><line stroke=\"black\" x1=\"50%\" x2=\"94.3503%\" y1=\"1.2em\" y2=\"3em\" /><svg width=\"1.69492%\" x=\"98.3051%\" y=\"3em\"><defs /><svg width=\"100%\" x=\"0\" y=\"0em\"><defs /><text text-anchor=\"middle\" x=\"50%\" y=\"1em\">.</text></svg><svg width=\"100%\" x=\"0%\" y=\"3em\"><defs /><svg width=\"100%\" x=\"0\" y=\"0em\"><defs /><text text-anchor=\"middle\" x=\"50%\" y=\"1em\">.</text></svg></svg><line stroke=\"black\" x1=\"50%\" x2=\"50%\" y1=\"1.2em\" y2=\"3em\" /></svg><line stroke=\"black\" x1=\"50%\" x2=\"99.1525%\" y1=\"1.2em\" y2=\"3em\" /></svg>",
      "text/plain": [
       "Tree('S', [('The', 'DT'), Tree('NP', [('shaky', 'JJ'), ('camera', 'NN'), ('shots', 'NNS')]), ('and', 'CC'), ('angles', 'NNS'), (',', ','), Tree('NP', [('general', 'JJ'), ('poor', 'JJ'), ('cinematography', 'NN')]), (',', ','), ('direction', 'NN'), ('and', 'CC'), Tree('NP', [('wooden', 'JJ'), ('performances', 'NNS')]), ('had', 'VBD'), ('already', 'RB'), ('left', 'VBN'), ('us', 'PRP'), ('feeling', 'VBG'), ('flat', 'JJ'), ('and', 'CC'), ('dissatisfied', 'JJ'), ('.', '.')])"
      ]
     },
     "metadata": {},
     "output_type": "display_data"
    }
   ],
   "source": [
    "display(movie_reviews.np_chunked[424][3])"
   ]
  },
  {
   "cell_type": "markdown",
   "metadata": {},
   "source": [
    "Looks good, what about VP chunks? "
   ]
  },
  {
   "cell_type": "code",
   "execution_count": 19,
   "metadata": {},
   "outputs": [
    {
     "data": {
      "image/svg+xml": "<svg baseProfile=\"full\" height=\"168px\" preserveAspectRatio=\"xMidYMid meet\" style=\"font-family: times, serif; font-weight:normal; font-style: normal; font-size: 16px;\" version=\"1.1\" viewBox=\"0,0,1104.0,168.0\" width=\"1104px\" xmlns=\"http://www.w3.org/2000/svg\" xmlns:ev=\"http://www.w3.org/2001/xml-events\" xmlns:xlink=\"http://www.w3.org/1999/xlink\"><defs /><svg width=\"100%\" x=\"0\" y=\"0em\"><defs /><text text-anchor=\"middle\" x=\"50%\" y=\"1em\">S</text></svg><svg width=\"3.62319%\" x=\"0%\" y=\"3em\"><defs /><svg width=\"100%\" x=\"0\" y=\"0em\"><defs /><text text-anchor=\"middle\" x=\"50%\" y=\"1em\">I</text></svg><svg width=\"100%\" x=\"0%\" y=\"3em\"><defs /><svg width=\"100%\" x=\"0\" y=\"0em\"><defs /><text text-anchor=\"middle\" x=\"50%\" y=\"1em\">PRP</text></svg></svg><line stroke=\"black\" x1=\"50%\" x2=\"50%\" y1=\"1.2em\" y2=\"3em\" /></svg><line stroke=\"black\" x1=\"50%\" x2=\"1.81159%\" y1=\"1.2em\" y2=\"3em\" /><svg width=\"5.07246%\" x=\"3.62319%\" y=\"3em\"><defs /><svg width=\"100%\" x=\"0\" y=\"0em\"><defs /><text text-anchor=\"middle\" x=\"50%\" y=\"1em\">think</text></svg><svg width=\"100%\" x=\"0%\" y=\"3em\"><defs /><svg width=\"100%\" x=\"0\" y=\"0em\"><defs /><text text-anchor=\"middle\" x=\"50%\" y=\"1em\">VBP</text></svg></svg><line stroke=\"black\" x1=\"50%\" x2=\"50%\" y1=\"1.2em\" y2=\"3em\" /></svg><line stroke=\"black\" x1=\"50%\" x2=\"6.15942%\" y1=\"1.2em\" y2=\"3em\" /><svg width=\"3.62319%\" x=\"8.69565%\" y=\"3em\"><defs /><svg width=\"100%\" x=\"0\" y=\"0em\"><defs /><text text-anchor=\"middle\" x=\"50%\" y=\"1em\">the</text></svg><svg width=\"100%\" x=\"0%\" y=\"3em\"><defs /><svg width=\"100%\" x=\"0\" y=\"0em\"><defs /><text text-anchor=\"middle\" x=\"50%\" y=\"1em\">DT</text></svg></svg><line stroke=\"black\" x1=\"50%\" x2=\"50%\" y1=\"1.2em\" y2=\"3em\" /></svg><line stroke=\"black\" x1=\"50%\" x2=\"10.5072%\" y1=\"1.2em\" y2=\"3em\" /><svg width=\"10.1449%\" x=\"12.3188%\" y=\"3em\"><defs /><svg width=\"100%\" x=\"0\" y=\"0em\"><defs /><text text-anchor=\"middle\" x=\"50%\" y=\"1em\">VP</text></svg><svg width=\"64.2857%\" x=\"0%\" y=\"3em\"><defs /><svg width=\"100%\" x=\"0\" y=\"0em\"><defs /><text text-anchor=\"middle\" x=\"50%\" y=\"1em\">feeling</text></svg><svg width=\"100%\" x=\"0%\" y=\"3em\"><defs /><svg width=\"100%\" x=\"0\" y=\"0em\"><defs /><text text-anchor=\"middle\" x=\"50%\" y=\"1em\">NN</text></svg></svg><line stroke=\"black\" x1=\"50%\" x2=\"50%\" y1=\"1.2em\" y2=\"3em\" /></svg><line stroke=\"black\" x1=\"50%\" x2=\"32.1429%\" y1=\"1.2em\" y2=\"3em\" /><svg width=\"35.7143%\" x=\"64.2857%\" y=\"3em\"><defs /><svg width=\"100%\" x=\"0\" y=\"0em\"><defs /><text text-anchor=\"middle\" x=\"50%\" y=\"1em\">is</text></svg><svg width=\"100%\" x=\"0%\" y=\"3em\"><defs /><svg width=\"100%\" x=\"0\" y=\"0em\"><defs /><text text-anchor=\"middle\" x=\"50%\" y=\"1em\">VBZ</text></svg></svg><line stroke=\"black\" x1=\"50%\" x2=\"50%\" y1=\"1.2em\" y2=\"3em\" /></svg><line stroke=\"black\" x1=\"50%\" x2=\"82.1429%\" y1=\"1.2em\" y2=\"3em\" /></svg><line stroke=\"black\" x1=\"50%\" x2=\"17.3913%\" y1=\"1.2em\" y2=\"3em\" /><svg width=\"5.07246%\" x=\"22.4638%\" y=\"3em\"><defs /><svg width=\"100%\" x=\"0\" y=\"0em\"><defs /><text text-anchor=\"middle\" x=\"50%\" y=\"1em\">still</text></svg><svg width=\"100%\" x=\"0%\" y=\"3em\"><defs /><svg width=\"100%\" x=\"0\" y=\"0em\"><defs /><text text-anchor=\"middle\" x=\"50%\" y=\"1em\">RB</text></svg></svg><line stroke=\"black\" x1=\"50%\" x2=\"50%\" y1=\"1.2em\" y2=\"3em\" /></svg><line stroke=\"black\" x1=\"50%\" x2=\"25%\" y1=\"1.2em\" y2=\"3em\" /><svg width=\"5.07246%\" x=\"27.5362%\" y=\"3em\"><defs /><svg width=\"100%\" x=\"0\" y=\"0em\"><defs /><text text-anchor=\"middle\" x=\"50%\" y=\"1em\">there</text></svg><svg width=\"100%\" x=\"0%\" y=\"3em\"><defs /><svg width=\"100%\" x=\"0\" y=\"0em\"><defs /><text text-anchor=\"middle\" x=\"50%\" y=\"1em\">RB</text></svg></svg><line stroke=\"black\" x1=\"50%\" x2=\"50%\" y1=\"1.2em\" y2=\"3em\" /></svg><line stroke=\"black\" x1=\"50%\" x2=\"30.0725%\" y1=\"1.2em\" y2=\"3em\" /><svg width=\"2.17391%\" x=\"32.6087%\" y=\"3em\"><defs /><svg width=\"100%\" x=\"0\" y=\"0em\"><defs /><text text-anchor=\"middle\" x=\"50%\" y=\"1em\">,</text></svg><svg width=\"100%\" x=\"0%\" y=\"3em\"><defs /><svg width=\"100%\" x=\"0\" y=\"0em\"><defs /><text text-anchor=\"middle\" x=\"50%\" y=\"1em\">,</text></svg></svg><line stroke=\"black\" x1=\"50%\" x2=\"50%\" y1=\"1.2em\" y2=\"3em\" /></svg><line stroke=\"black\" x1=\"50%\" x2=\"33.6957%\" y1=\"1.2em\" y2=\"3em\" /><svg width=\"3.62319%\" x=\"34.7826%\" y=\"3em\"><defs /><svg width=\"100%\" x=\"0\" y=\"0em\"><defs /><text text-anchor=\"middle\" x=\"50%\" y=\"1em\">but</text></svg><svg width=\"100%\" x=\"0%\" y=\"3em\"><defs /><svg width=\"100%\" x=\"0\" y=\"0em\"><defs /><text text-anchor=\"middle\" x=\"50%\" y=\"1em\">CC</text></svg></svg><line stroke=\"black\" x1=\"50%\" x2=\"50%\" y1=\"1.2em\" y2=\"3em\" /></svg><line stroke=\"black\" x1=\"50%\" x2=\"36.5942%\" y1=\"1.2em\" y2=\"3em\" /><svg width=\"2.89855%\" x=\"38.4058%\" y=\"3em\"><defs /><svg width=\"100%\" x=\"0\" y=\"0em\"><defs /><text text-anchor=\"middle\" x=\"50%\" y=\"1em\">in</text></svg><svg width=\"100%\" x=\"0%\" y=\"3em\"><defs /><svg width=\"100%\" x=\"0\" y=\"0em\"><defs /><text text-anchor=\"middle\" x=\"50%\" y=\"1em\">IN</text></svg></svg><line stroke=\"black\" x1=\"50%\" x2=\"50%\" y1=\"1.2em\" y2=\"3em\" /></svg><line stroke=\"black\" x1=\"50%\" x2=\"39.8551%\" y1=\"1.2em\" y2=\"3em\" /><svg width=\"2.89855%\" x=\"41.3043%\" y=\"3em\"><defs /><svg width=\"100%\" x=\"0\" y=\"0em\"><defs /><text text-anchor=\"middle\" x=\"50%\" y=\"1em\">a</text></svg><svg width=\"100%\" x=\"0%\" y=\"3em\"><defs /><svg width=\"100%\" x=\"0\" y=\"0em\"><defs /><text text-anchor=\"middle\" x=\"50%\" y=\"1em\">DT</text></svg></svg><line stroke=\"black\" x1=\"50%\" x2=\"50%\" y1=\"1.2em\" y2=\"3em\" /></svg><line stroke=\"black\" x1=\"50%\" x2=\"42.7536%\" y1=\"1.2em\" y2=\"3em\" /><svg width=\"5.07246%\" x=\"44.2029%\" y=\"3em\"><defs /><svg width=\"100%\" x=\"0\" y=\"0em\"><defs /><text text-anchor=\"middle\" x=\"50%\" y=\"1em\">heavy</text></svg><svg width=\"100%\" x=\"0%\" y=\"3em\"><defs /><svg width=\"100%\" x=\"0\" y=\"0em\"><defs /><text text-anchor=\"middle\" x=\"50%\" y=\"1em\">JJ</text></svg></svg><line stroke=\"black\" x1=\"50%\" x2=\"50%\" y1=\"1.2em\" y2=\"3em\" /></svg><line stroke=\"black\" x1=\"50%\" x2=\"46.7391%\" y1=\"1.2em\" y2=\"3em\" /><svg width=\"7.24638%\" x=\"49.2754%\" y=\"3em\"><defs /><svg width=\"100%\" x=\"0\" y=\"0em\"><defs /><text text-anchor=\"middle\" x=\"50%\" y=\"1em\">downward</text></svg><svg width=\"100%\" x=\"0%\" y=\"3em\"><defs /><svg width=\"100%\" x=\"0\" y=\"0em\"><defs /><text text-anchor=\"middle\" x=\"50%\" y=\"1em\">JJ</text></svg></svg><line stroke=\"black\" x1=\"50%\" x2=\"50%\" y1=\"1.2em\" y2=\"3em\" /></svg><line stroke=\"black\" x1=\"50%\" x2=\"52.8986%\" y1=\"1.2em\" y2=\"3em\" /><svg width=\"5.7971%\" x=\"56.5217%\" y=\"3em\"><defs /><svg width=\"100%\" x=\"0\" y=\"0em\"><defs /><text text-anchor=\"middle\" x=\"50%\" y=\"1em\">spiral</text></svg><svg width=\"100%\" x=\"0%\" y=\"3em\"><defs /><svg width=\"100%\" x=\"0\" y=\"0em\"><defs /><text text-anchor=\"middle\" x=\"50%\" y=\"1em\">NN</text></svg></svg><line stroke=\"black\" x1=\"50%\" x2=\"50%\" y1=\"1.2em\" y2=\"3em\" /></svg><line stroke=\"black\" x1=\"50%\" x2=\"59.4203%\" y1=\"1.2em\" y2=\"3em\" /><svg width=\"4.34783%\" x=\"62.3188%\" y=\"3em\"><defs /><svg width=\"100%\" x=\"0\" y=\"0em\"><defs /><text text-anchor=\"middle\" x=\"50%\" y=\"1em\">with</text></svg><svg width=\"100%\" x=\"0%\" y=\"3em\"><defs /><svg width=\"100%\" x=\"0\" y=\"0em\"><defs /><text text-anchor=\"middle\" x=\"50%\" y=\"1em\">IN</text></svg></svg><line stroke=\"black\" x1=\"50%\" x2=\"50%\" y1=\"1.2em\" y2=\"3em\" /></svg><line stroke=\"black\" x1=\"50%\" x2=\"64.4928%\" y1=\"1.2em\" y2=\"3em\" /><svg width=\"2.89855%\" x=\"66.6667%\" y=\"3em\"><defs /><svg width=\"100%\" x=\"0\" y=\"0em\"><defs /><text text-anchor=\"middle\" x=\"50%\" y=\"1em\">so</text></svg><svg width=\"100%\" x=\"0%\" y=\"3em\"><defs /><svg width=\"100%\" x=\"0\" y=\"0em\"><defs /><text text-anchor=\"middle\" x=\"50%\" y=\"1em\">RB</text></svg></svg><line stroke=\"black\" x1=\"50%\" x2=\"50%\" y1=\"1.2em\" y2=\"3em\" /></svg><line stroke=\"black\" x1=\"50%\" x2=\"68.1159%\" y1=\"1.2em\" y2=\"3em\" /><svg width=\"19.5652%\" x=\"69.5652%\" y=\"3em\"><defs /><svg width=\"100%\" x=\"0\" y=\"0em\"><defs /><text text-anchor=\"middle\" x=\"50%\" y=\"1em\">VP</text></svg><svg width=\"22.2222%\" x=\"0%\" y=\"3em\"><defs /><svg width=\"100%\" x=\"0\" y=\"0em\"><defs /><text text-anchor=\"middle\" x=\"50%\" y=\"1em\">many</text></svg><svg width=\"100%\" x=\"0%\" y=\"3em\"><defs /><svg width=\"100%\" x=\"0\" y=\"0em\"><defs /><text text-anchor=\"middle\" x=\"50%\" y=\"1em\">JJ</text></svg></svg><line stroke=\"black\" x1=\"50%\" x2=\"50%\" y1=\"1.2em\" y2=\"3em\" /></svg><line stroke=\"black\" x1=\"50%\" x2=\"11.1111%\" y1=\"1.2em\" y2=\"3em\" /><svg width=\"29.6296%\" x=\"22.2222%\" y=\"3em\"><defs /><svg width=\"100%\" x=\"0\" y=\"0em\"><defs /><text text-anchor=\"middle\" x=\"50%\" y=\"1em\">things</text></svg><svg width=\"100%\" x=\"0%\" y=\"3em\"><defs /><svg width=\"100%\" x=\"0\" y=\"0em\"><defs /><text text-anchor=\"middle\" x=\"50%\" y=\"1em\">NNS</text></svg></svg><line stroke=\"black\" x1=\"50%\" x2=\"50%\" y1=\"1.2em\" y2=\"3em\" /></svg><line stroke=\"black\" x1=\"50%\" x2=\"37.037%\" y1=\"1.2em\" y2=\"3em\" /><svg width=\"25.9259%\" x=\"51.8519%\" y=\"3em\"><defs /><svg width=\"100%\" x=\"0\" y=\"0em\"><defs /><text text-anchor=\"middle\" x=\"50%\" y=\"1em\">being</text></svg><svg width=\"100%\" x=\"0%\" y=\"3em\"><defs /><svg width=\"100%\" x=\"0\" y=\"0em\"><defs /><text text-anchor=\"middle\" x=\"50%\" y=\"1em\">VBG</text></svg></svg><line stroke=\"black\" x1=\"50%\" x2=\"50%\" y1=\"1.2em\" y2=\"3em\" /></svg><line stroke=\"black\" x1=\"50%\" x2=\"64.8148%\" y1=\"1.2em\" y2=\"3em\" /><svg width=\"22.2222%\" x=\"77.7778%\" y=\"3em\"><defs /><svg width=\"100%\" x=\"0\" y=\"0em\"><defs /><text text-anchor=\"middle\" x=\"50%\" y=\"1em\">made</text></svg><svg width=\"100%\" x=\"0%\" y=\"3em\"><defs /><svg width=\"100%\" x=\"0\" y=\"0em\"><defs /><text text-anchor=\"middle\" x=\"50%\" y=\"1em\">VBN</text></svg></svg><line stroke=\"black\" x1=\"50%\" x2=\"50%\" y1=\"1.2em\" y2=\"3em\" /></svg><line stroke=\"black\" x1=\"50%\" x2=\"88.8889%\" y1=\"1.2em\" y2=\"3em\" /></svg><line stroke=\"black\" x1=\"50%\" x2=\"79.3478%\" y1=\"1.2em\" y2=\"3em\" /><svg width=\"7.24638%\" x=\"89.1304%\" y=\"3em\"><defs /><svg width=\"100%\" x=\"0\" y=\"0em\"><defs /><text text-anchor=\"middle\" x=\"50%\" y=\"1em\">overseas</text></svg><svg width=\"100%\" x=\"0%\" y=\"3em\"><defs /><svg width=\"100%\" x=\"0\" y=\"0em\"><defs /><text text-anchor=\"middle\" x=\"50%\" y=\"1em\">NNS</text></svg></svg><line stroke=\"black\" x1=\"50%\" x2=\"50%\" y1=\"1.2em\" y2=\"3em\" /></svg><line stroke=\"black\" x1=\"50%\" x2=\"92.7536%\" y1=\"1.2em\" y2=\"3em\" /><svg width=\"3.62319%\" x=\"96.3768%\" y=\"3em\"><defs /><svg width=\"100%\" x=\"0\" y=\"0em\"><defs /><text text-anchor=\"middle\" x=\"50%\" y=\"1em\">...</text></svg><svg width=\"100%\" x=\"0%\" y=\"3em\"><defs /><svg width=\"100%\" x=\"0\" y=\"0em\"><defs /><text text-anchor=\"middle\" x=\"50%\" y=\"1em\">:</text></svg></svg><line stroke=\"black\" x1=\"50%\" x2=\"50%\" y1=\"1.2em\" y2=\"3em\" /></svg><line stroke=\"black\" x1=\"50%\" x2=\"98.1884%\" y1=\"1.2em\" y2=\"3em\" /></svg>",
      "text/plain": [
       "Tree('S', [('I', 'PRP'), ('think', 'VBP'), ('the', 'DT'), Tree('VP', [('feeling', 'NN'), ('is', 'VBZ')]), ('still', 'RB'), ('there', 'RB'), (',', ','), ('but', 'CC'), ('in', 'IN'), ('a', 'DT'), ('heavy', 'JJ'), ('downward', 'JJ'), ('spiral', 'NN'), ('with', 'IN'), ('so', 'RB'), Tree('VP', [('many', 'JJ'), ('things', 'NNS'), ('being', 'VBG'), ('made', 'VBN')]), ('overseas', 'NNS'), ('...', ':')])"
      ]
     },
     "metadata": {},
     "output_type": "display_data"
    }
   ],
   "source": [
    "display(movie_reviews.vp_chunked[44][7])"
   ]
  },
  {
   "cell_type": "markdown",
   "metadata": {},
   "source": [
    "Also quite good, but we probably need to remove stop words to get most common phrases. We are going to use default `nltk` stop words list, but also put some common words from this corpora to get more meaningful results. Initial results contained a lot of phrases with a word \"film\" or \"movie\" which is expected from this corpora and does not tell us anything new."
   ]
  },
  {
   "cell_type": "code",
   "execution_count": 20,
   "metadata": {},
   "outputs": [],
   "source": [
    "stop_words = set(stopwords.words('english'))\n",
    "custom_stop_words = [\n",
    "    'anyone', 'goes', 'give', 'make', 'made', 'get', 'going', 'gets', 'better', 'done', 'worse', 'everyone', 'great', 'even',\n",
    "    'someone', 'n\\'t', 'something', 'best', 'worst', 'anything', 'everything', 'nothing', 'worth', 'years', 'year', 'people',\n",
    "    'movie', 'one', 'story', 'plot', 'film', 'films', 'good', 'really', 'first', '*', 'thing', 'many', 'much', 'really', 'things',\n",
    "    'last', 'next', 'main', 'bad', 'long', 'bit', 'second', 'several', 'lot', 'named', 'seem', 'seemed', 'seems', 'Everyone', 'Go', 'IT', \n",
    "    'come', 'go', 'take', 'however', 'also', 'quite', 'may', 'rather',  'yet', 'find', 'take', 'would', 'see', 'like', 'say', 'know',\n",
    "    'could', 'want']\n",
    "stop_words = stop_words.union(custom_stop_words)"
   ]
  },
  {
   "cell_type": "code",
   "execution_count": 21,
   "metadata": {},
   "outputs": [],
   "source": [
    "def chunk_counter(column, label, stopwords = []):\n",
    "    word_freq = nltk.FreqDist()\n",
    "    for review in column:\n",
    "        for tree in review:\n",
    "            for chunk in tree.subtrees(lambda node: \n",
    "                    node.label() == label\n",
    "                    and sum([word in stopwords for (word, tag) in node.leaves()]) == 0):\n",
    "                word_freq[str(chunk.flatten())] += 1\n",
    "    return word_freq"
   ]
  },
  {
   "cell_type": "markdown",
   "metadata": {},
   "source": [
    "Let's review 50 most common noun phrases from 50 thousand reviews texsts. "
   ]
  },
  {
   "cell_type": "code",
   "execution_count": 22,
   "metadata": {},
   "outputs": [
    {
     "data": {
      "text/plain": [
       "[('(NP special/JJ effects/NNS)', 1284),\n",
       " ('(NP New/NNP York/NNP)', 634),\n",
       " ('(NP real/JJ life/NN)', 622),\n",
       " ('(NP character/NN development/NN)', 431),\n",
       " ('(NP low/JJ budget/NN)', 390),\n",
       " ('(NP big/JJ fan/NN)', 360),\n",
       " ('(NP young/JJ man/NN)', 360),\n",
       " ('(NP high/JJ school/NN)', 358),\n",
       " ('(NP big/JJ screen/NN)', 337),\n",
       " ('(NP young/JJ woman/NN)', 290),\n",
       " ('(NP camera/NN work/NN)', 285),\n",
       " ('(NP TV/NN series/NN)', 279),\n",
       " ('(NP subject/JJ matter/NN)', 269),\n",
       " ('(NP production/NN values/NNS)', 267),\n",
       " ('(NP old/JJ man/NN)', 254),\n",
       " ('(NP little/JJ girl/NN)', 248),\n",
       " ('(NP action/NN scenes/NNS)', 248),\n",
       " ('(NP United/NNP States/NNPS)', 243),\n",
       " ('(NP young/JJ girl/NN)', 239),\n",
       " ('(NP horror/NN movies/NNS)', 236),\n",
       " ('(NP fight/NN scenes/NNS)', 224),\n",
       " ('(NP final/JJ scene/NN)', 223),\n",
       " ('(NP huge/JJ fan/NN)', 219),\n",
       " ('(NP small/JJ town/NN)', 216),\n",
       " ('(NP serial/JJ killer/NN)', 207),\n",
       " ('(NP TV/NN show/NN)', 205),\n",
       " ('(NP sex/NN scenes/NNS)', 201),\n",
       " ('(NP Star/NNP Wars/NNP)', 200),\n",
       " ('(NP video/NN store/NN)', 191),\n",
       " ('(NP New/NNP York/NNP City/NNP)', 187),\n",
       " ('(NP opening/NN credits/NNS)', 184),\n",
       " ('(NP completely/RB different/JJ)', 182),\n",
       " ('(NP real/JJ world/NN)', 178),\n",
       " ('(NP action/NN sequences/NNS)', 172),\n",
       " ('(NP opening/NN scene/NN)', 171),\n",
       " ('(NP Los/NNP Angeles/NNP)', 168),\n",
       " ('(NP young/JJ boy/NN)', 164),\n",
       " ('(NP love/NN interest/NN)', 162),\n",
       " ('(NP box/NN office/NN)', 159),\n",
       " ('(NP World/NNP War/NNP II/NNP)', 158),\n",
       " ('(NP complete/JJ waste/NN)', 157),\n",
       " ('(NP screen/JJ time/NN)', 157),\n",
       " ('(NP hard/JJ time/NN)', 150),\n",
       " ('(NP excellent/JJ job/NN)', 150),\n",
       " ('(NP Star/NNP Trek/NNP)', 148),\n",
       " ('(NP lead/JJ character/NN)', 147),\n",
       " ('(NP comic/JJ relief/NN)', 146),\n",
       " ('(NP musical/JJ score/NN)', 146),\n",
       " ('(NP Hong/NNP Kong/NNP)', 143),\n",
       " ('(NP little/JJ boy/NN)', 140)]"
      ]
     },
     "execution_count": 22,
     "metadata": {},
     "output_type": "execute_result"
    }
   ],
   "source": [
    "chunk_counter(movie_reviews.np_chunked, 'NP', stop_words).most_common(50)"
   ]
  },
  {
   "cell_type": "markdown",
   "metadata": {},
   "source": [
    "There are some interersting findings, for example: \n",
    "- The absolute hero in mention count is a noun phrase `special effects`, with the count 1284.\n",
    "- Most common city names are `New-York` (more than 700 times), `Los Angeles` (168) and `Hong Kong` (143). \n",
    "- Quite big mention count compared to others has a phrase `real life` with 622 of them as well as `real world` with 178. \n",
    "- Most common country name is the `US` (243). \n",
    "- There are a few big movies and TV series projects mentioned like `Star Wars` (200) and `Star Treck` (148).\n",
    "- The unexpected finding is `World War II`, which is still mentioned 158 times many years after.\n",
    "- `Low budget` is mentioned 390 times, which is significant compared to other phrases. At the same time any variations of `big budget` didn't get into the list. \n",
    "- There are some generic phrases describing characters age and gender: `young man` (360 times mentioned), `young woman` (290), `old man` (254), `little girl` (248), `young girl` (239), `young boy` (164), `little boy` (140). \n",
    "- There are many phrases that are specific to the sphere, like: `big screen` (337), `camera work` (285), `TV series` (279), `production values` (267), `action scenes` (248), `horror movies` (236), `fight scenes` (224), `final scene` (223), `sex scenes` (201), `video store`(191), `opening credits` (184), `box office` (159), `screen time` (157), `lead character` (147), `comic relief` (146).\n",
    "- Apparantly there are a lot of movies picturing a `small town` (216 metiones) and `serial killer` (207).\n",
    "- Some reviewers also mentioned `musical score` (146) in their reviews."
   ]
  },
  {
   "cell_type": "code",
   "execution_count": 23,
   "metadata": {},
   "outputs": [
    {
     "data": {
      "text/plain": [
       "[('(VP happy/JJ ending/VBG)', 183),\n",
       " ('(VP time/NN watching/VBG)', 120),\n",
       " ('(VP pun/NN intended/VBN)', 64),\n",
       " ('(VP cast/NN includes/VBZ)', 59),\n",
       " ('(VP life/NN watching/VBG)', 50),\n",
       " ('(VP familiar/JJ faces/VBZ)', 49),\n",
       " ('(VP end/NN credits/VBZ)', 49),\n",
       " ('(VP actor/NN playing/VBG)', 47),\n",
       " ('(VP Simply/NNP put/VBD)', 46),\n",
       " ('(VP old/JJ fashioned/VBN)', 45),\n",
       " ('(VP character/NN played/VBN)', 44),\n",
       " ('(VP cult/NN following/VBG)', 43),\n",
       " ('(VP cheap/JJ looking/VBG)', 43),\n",
       " ('(VP actors/NNS playing/VBG)', 42),\n",
       " ('(VP middle/JJ aged/VBN)', 42),\n",
       " ('(VP action/NN takes/VBZ)', 41),\n",
       " ('(VP God/NNP knows/VBZ)', 36),\n",
       " ('(VP actors/NNS look/VBP)', 35),\n",
       " ('(VP scenes/NNS involving/VBG)', 33),\n",
       " ('(VP predictable/JJ ending/VBG)', 33),\n",
       " ('(VP heavy/JJ handed/VBN)', 33),\n",
       " ('(VP Highly/NNP recommended/VBD)', 33),\n",
       " ('(VP minute/NN running/VBG)', 32),\n",
       " ('(VP action/NN packed/VBD)', 31),\n",
       " ('(VP fun/NN watching/VBG)', 31),\n",
       " ('(VP surprise/NN ending/VBG)', 29),\n",
       " ('(VP actress/NN playing/VBG)', 29),\n",
       " ('(VP award/NN winning/VBG)', 29),\n",
       " ('(VP camera/NN pans/VBZ)', 28),\n",
       " ('(VP director/NN wanted/VBD)', 28),\n",
       " ('(VP well/NN known/VBN)', 28),\n",
       " ('(VP light/JJ hearted/VBN)', 27),\n",
       " ('(VP Worth/JJ seeing/VBG)', 27),\n",
       " ('(VP poor/JJ acting/VBG)', 26),\n",
       " ('(VP lesser/JJR known/VBN)', 25),\n",
       " ('(VP computer/NN generated/VBD)', 25),\n",
       " ('(VP twist/NN ending/VBG)', 25),\n",
       " ('(VP credits/NNS roll/VBP)', 25),\n",
       " ('(VP title/NN suggests/VBZ)', 24),\n",
       " ('(VP less/NN said/VBD)', 24),\n",
       " ('(VP scene/NN involving/VBG)', 23),\n",
       " ('(VP slow/JJ moving/VBG)', 23),\n",
       " ('(VP events/NNS leading/VBG)', 23),\n",
       " ('(VP credits/NNS rolled/VBN)', 23),\n",
       " ('(VP movies/NNS based/VBN)', 22),\n",
       " ('(VP terrible/JJ acting/VBG)', 22),\n",
       " ('(VP guy/NN playing/VBG)', 22),\n",
       " ('(VP title/NN says/VBZ)', 22),\n",
       " ('(VP time/NN spent/VBN)', 22),\n",
       " ('(VP THIS/NNP IS/VBZ)', 21)]"
      ]
     },
     "execution_count": 23,
     "metadata": {},
     "output_type": "execute_result"
    }
   ],
   "source": [
    "chunk_counter(movie_reviews.vp_chunked, 'VP', stop_words).most_common(50)"
   ]
  },
  {
   "cell_type": "markdown",
   "metadata": {},
   "source": [
    "In VP list we concentrated on descriptive verb phrases that are not filled with too common words like \"worth\" plus verb, or forms of \"to be\" plus \"actor\" word, that absolutely dominate the review corpora though don't add any specifics. In the end we got the following statistics: \n",
    "\n",
    "- There are many phrases that describe movie or series endings, like: `predictable ending` (33), `surprise ending` (29), `twist ending` (25), `happy ending` dominates this list though, with the count 183.\n",
    "- Phrase `pun intended` (64) pops up quite often.\n",
    "- Some phrases were many times incorrectly determined as VP, like `familiar faces` (49).\n",
    "- There are some negative descriptive phrases like: `cheap looking` (43), `heavy handed` (33), `poor acting` (26), `terrible acting` (22).\n",
    "- And some positive: `Highly recommended` (33), `fun watching` (31), `award winning` (29), `Worth seeing` (27).\n",
    "- Some context dependant descriptive phrases: `old fashioned` (45), `God knows` (36), `action packed` (31), `well known` (28),`light hearted` (27),  `computer generated` (25), `slow moving` (23).\n",
    "- Some industry generic phrases like `time watching` (120), `cast includes` (59), `end credits` (49) etc.\n",
    "- Unexpected finding like `cult following` with 43 mentions.\n",
    "- Characters or actors involving phrases: `actor playing` (47), `character played` (44), `actors playing` (42), `actors look` (35), `actress playing` (29), `characters come` (23), `guy playing` (22)."
   ]
  },
  {
   "cell_type": "markdown",
   "metadata": {},
   "source": [
    "## Topic Modelling via LDA model\n",
    "\n",
    "We are going to use a Latent Dirichlet Allocation model to perform our topic modelling. LDA is an unsupervised, machine learning, clustering technique that is commonly used in the commercial field for text analysis. Our IMDB corpora set is quite extensive, so this model will take time to train itself. But first, let's prepare our texts in a more thorough way than before and add some additional preprocessing steps. \n",
    "\n",
    "### Preprocessing: phase 2\n",
    "\n",
    "- lower-case;\n",
    "- remove punctuation;\n",
    "- remove digits;\n",
    "- lemmatise.\n",
    "\n",
    "Considering that we performed minimum preprocessing for POS tagging continue preprocessing with current tags will be a bit more tedious, but manageable. Let's hope our contextual pos-tags are better than dictionary-based. To map tags from `sent_pos_tagged` and those which are accepted by `lemmatiser` we are going to use a `tag_map` located in a separate file. "
   ]
  },
  {
   "cell_type": "code",
   "execution_count": 24,
   "metadata": {},
   "outputs": [],
   "source": [
    "# Imports relatied to modeling\n",
    "from gensim.models import Phrases\n",
    "import gensim\n",
    "from gensim.corpora import Dictionary\n",
    "from gensim.models import LdaModel\n",
    "from gensim.models.coherencemodel import CoherenceModel\n",
    "\n",
    "# Imports related to visualisation\n",
    "import matplotlib.pyplot as plt\n",
    "\n",
    "# Imports related to preprocessing\n",
    "from nltk.stem import WordNetLemmatizer\n",
    "from tag_map import tag_map"
   ]
  },
  {
   "cell_type": "code",
   "execution_count": 25,
   "metadata": {},
   "outputs": [
    {
     "data": {
      "text/plain": [
       "0    [[one, of, the, other, reviewer, have, mention, that, after, watch, just, 1, oz, episode, you, 'll, be, hook, .], [they, be, right, ,, as, this, be, exactly, what, happen, with, me.the, first, thing, that, strike, me, about, oz, be, it, brutality, and, unflinching, scene, of, violence, ,, which, set, in, right, from, the, word, go, .], [trust, me, ,, this, be, not, a, show, for, the, faint, hearted, or, timid, .], [this, show, pull, no, punch, with, regard, to, drug, ,, sex, or, violence, .], [its, be, hardcore, ,, in, the, classic, use, of, the, word.it, be, call, oz, as, that, be, the, nickname, give, to, the, oswald, maximum, security, state, penitentary, .], [it, focus, mainly, on, emerald, city, ,, an, experimental, section, of, the, prison, where, all, the, cell, have, glass, front, and, face, inwards, ,, so, privacy, be, not, high, on, the, agenda, .], [em, city, be, home, to, many, .., aryans, ,, muslims, ,, gangsta, ,, latinos, ,, christians, ,, italians, ,, irish, and, scuffle, ,, death, stare, ,, dodgy, dealing, and, shady, agreement, be, never, far, away.i, would, say, the, main, appeal, of, the, show, be, due, to, the, fact, that, it, go, where, other, show, would, n't, dare, .], [forget, pretty, picture, paint, for, mainstream, audience, ,, forget, charm, ,, forget, romance, ..., oz, do, n't, mess, around, .], [the, first, episode, i, ever, saw, strike, me, as, so, nasty, it, be, surreal, ,, i, could, n't, say, i, be, ready, for, it, ,, but, as, i, watch, more, ,, i, develop, a, taste, for, oz, ,, and, get, accustom, to, the, high, level, of, graphic, violence, .], [not, just, violence, ,, but, injustice, (, crooked, guard, who, 'll, be, sell, out, for, a, nickel, ,, inmate, who, 'll, kill, on, order, and, get, away, with, it, ,, well, mannered, ,, middle, class, inmate, be, turn, into, prison, bitch, due, to, their, lack, of, street, skill, or, prison, experience, ), watching, oz, ,, you, may, become, comfortable, with, what, be, uncomfortable, if, you, can, get, in, touch, with, your, darker, side, .]]\n",
       "Name: sent_pos_tagged, dtype: object"
      ]
     },
     "execution_count": 25,
     "metadata": {},
     "output_type": "execute_result"
    }
   ],
   "source": [
    "normalizer = WordNetLemmatizer()\n",
    "def lemmatise_text(reviews):\n",
    "    return [[normalizer.lemmatize(token, tag_map[tag] or 'n').lower() for (token, tag) in review] for review in reviews]\n",
    "\n",
    "# Testing lemmatisation and lowercasing on the 1st sentence of sent_pos_tagged\n",
    "movie_reviews[:1].sent_pos_tagged.apply(lemmatise_text)"
   ]
  },
  {
   "cell_type": "code",
   "execution_count": 26,
   "metadata": {},
   "outputs": [
    {
     "data": {
      "text/plain": [
       "['wonderful',\n",
       " 'little',\n",
       " 'production',\n",
       " 'filming',\n",
       " 'technique',\n",
       " 'unassuming-',\n",
       " 'old-time-bbc',\n",
       " 'fashion',\n",
       " 'comforting',\n",
       " 'sometimes']"
      ]
     },
     "execution_count": 26,
     "metadata": {},
     "output_type": "execute_result"
    }
   ],
   "source": [
    "# Create list of lists with all words for processing\n",
    "docs = []\n",
    "for review in movie_reviews.sent_pos_tagged.apply(lemmatise_text):\n",
    "    doc = []\n",
    "    for sentence in review:\n",
    "        doc += sentence\n",
    "    docs.append(doc)\n",
    "\n",
    "# Remove numbers, but not words that contain numbers\n",
    "docs = [[token for token in doc if not token.isnumeric() and not token in stop_words and re.match(r'\\W+', token) is None] for doc in docs]\n",
    "\n",
    "# Remove words that are only one character\n",
    "docs = [[token for token in doc if len(token) > 1] for doc in docs]\n",
    "docs[1][:10]"
   ]
  },
  {
   "cell_type": "markdown",
   "metadata": {},
   "source": [
    "### Building N-gram Phrase Model\n",
    "\n",
    "Before feature engineering and vectorization, we want to extract some useful n-gram-based phrases from our texts and remove some unnecessary terms. To achieve it we'll leverage a `gensim's` model `Phrases` and active `Dictionary`. It will help us automatically detect common phrases from a stream of sentences, which are typically multi-word expressions, and filter our super common or rare words that are not good candidates for topic modelling.  "
   ]
  },
  {
   "cell_type": "code",
   "execution_count": 1,
   "metadata": {},
   "outputs": [],
   "source": []
  },
  {
   "cell_type": "code",
   "execution_count": 28,
   "metadata": {},
   "outputs": [
    {
     "name": "stdout",
     "output_type": "stream",
     "text": [
      "['petter', 'mattei', 'love', 'time', 'money', 'visually_stunning', 'watch', 'mr.', 'mattei', 'offer', 'vivid_portrait', 'human_relation', 'tell', 'money', 'power', 'success', 'different', 'situation', 'encounter', 'variation', 'arthur', 'schnitzler', 'play', 'theme', 'director', 'transfer', 'action', 'present', 'time', 'new_york', 'different', 'character', 'meet', 'connect', 'connect', 'way', 'another', 'person', 'previous', 'point', 'contact', 'stylishly', 'sophisticated', 'luxurious', 'look', 'live', 'world', 'live', 'habitat.the', 'soul']\n"
     ]
    }
   ],
   "source": [
    "bigram = Phrases(docs, min_count=3, threshold=20, delimiter='_') # higher threshold fewer phrases.\n",
    "bigram_model = gensim.models.phrases.Phraser(bigram)\n",
    "\n",
    "print(bigram_model[docs[4]][:50])"
   ]
  },
  {
   "cell_type": "code",
   "execution_count": 29,
   "metadata": {},
   "outputs": [],
   "source": [
    "docs_bigrams = [bigram_model[doc] for doc in docs]"
   ]
  },
  {
   "cell_type": "markdown",
   "metadata": {},
   "source": [
    "Now let's remove too rare or common tokens."
   ]
  },
  {
   "cell_type": "code",
   "execution_count": 30,
   "metadata": {},
   "outputs": [],
   "source": [
    "# Create a dictionary representation of the documents\n",
    "dictionary = Dictionary(docs_bigrams)\n",
    "\n",
    "# Filter out words that occur less than 20 documents, or more than 60% of the documents\n",
    "dictionary.filter_extremes(no_below=20, no_above=0.6)"
   ]
  },
  {
   "cell_type": "markdown",
   "metadata": {},
   "source": [
    "### Vectorization with BoW"
   ]
  },
  {
   "cell_type": "code",
   "execution_count": 31,
   "metadata": {},
   "outputs": [],
   "source": [
    "# Bag-of-words representation of the documents\n",
    "bow_corpus = [dictionary.doc2bow(doc) for doc in docs_bigrams]"
   ]
  },
  {
   "cell_type": "code",
   "execution_count": 32,
   "metadata": {},
   "outputs": [
    {
     "name": "stdout",
     "output_type": "stream",
     "text": [
      "Number of unique tokens: 16371\n",
      "Number of documents: 50000\n"
     ]
    }
   ],
   "source": [
    "print('Number of unique tokens: %d' % len(dictionary))\n",
    "print('Number of documents: %d' % len(bow_corpus))"
   ]
  },
  {
   "cell_type": "markdown",
   "metadata": {},
   "source": [
    "### Training LDA model\n",
    "\n",
    "We have everything required to train the LDA model. In addition to the corpus and dictionary, we need to provide the number of topics as well. We'll start with 10 and see what we'll get. "
   ]
  },
  {
   "cell_type": "code",
   "execution_count": 33,
   "metadata": {},
   "outputs": [],
   "source": [
    "# Activate logging if required\n",
    "# import logging\n",
    "# logging.basicConfig(format='%(asctime)s : %(levelname)s : %(message)s', level=logging.DEBUG)\n",
    "\n",
    "def train_lda(num_topics, chunksize, passes, iterations, eval_every=None):\n",
    "\n",
    "    # Make an index to word dictionary.\n",
    "    temp = dictionary[0]  # This is only to \"load\" the dictionary.\n",
    "    id2word = dictionary.id2token\n",
    "    # Train LDA model\n",
    "    return LdaModel(\n",
    "        corpus=bow_corpus,\n",
    "        id2word=id2word,\n",
    "        chunksize=chunksize,\n",
    "        alpha='auto',\n",
    "        eta='auto',\n",
    "        iterations=iterations,\n",
    "        num_topics=num_topics,\n",
    "        passes=passes,\n",
    "        eval_every=eval_every,\n",
    "        random_state=1234\n",
    "    )\n",
    "\n",
    "# Serialise lda model with 10 topics\n",
    "lda_model = with_pickle('pickles/lda_model.pickle', lambda : train_lda(num_topics=10, chunksize=2000, passes=600, iterations=5000))"
   ]
  },
  {
   "cell_type": "markdown",
   "metadata": {},
   "source": [
    "### Evaluating topic model quality\n",
    "\n",
    "We can use perplexity and coherence scores as measures to evaluate the topic model. Typically, lower the perplexity, the better the model. Similarly, the lower the UMass score and the higher the Cv score in coherence, the better the model."
   ]
  },
  {
   "cell_type": "code",
   "execution_count": 34,
   "metadata": {},
   "outputs": [],
   "source": [
    "def coherance_and_perplexity(model_name):\n",
    "    # Find c_v coherance\n",
    "    cv_coherence_model_lda = gensim.models.CoherenceModel(model=model_name, corpus=bow_corpus, \n",
    "                                                                texts=docs_bigrams,\n",
    "                                                                dictionary=dictionary, \n",
    "                                                                coherence='c_v')\n",
    "    avg_coherence_cv = cv_coherence_model_lda.get_coherence()\n",
    "\n",
    "    # Find u_mass coherance\n",
    "    umass_coherence_model_lda = gensim.models.CoherenceModel(model=model_name, corpus=bow_corpus, \n",
    "                                                            texts=docs_bigrams,\n",
    "                                                            dictionary=dictionary, \n",
    "                                                            coherence='u_mass')\n",
    "    avg_coherence_umass = umass_coherence_model_lda.get_coherence()\n",
    "\n",
    "    # Find perplexity\n",
    "    perplexity = model_name.log_perplexity(bow_corpus)\n",
    "\n",
    "    print('Avg. Coherence Score (Cv):', avg_coherence_cv),\\\n",
    "    print('Avg. Coherence Score (UMass):', avg_coherence_umass),\\\n",
    "    print( 'Model Perplexity:', perplexity)\n"
   ]
  },
  {
   "cell_type": "code",
   "execution_count": 35,
   "metadata": {},
   "outputs": [
    {
     "name": "stdout",
     "output_type": "stream",
     "text": [
      "Avg. Coherence Score (Cv): 0.36492368406056286\n",
      "Avg. Coherence Score (UMass): -2.9889340662978254\n",
      "Model Perplexity: -8.3384680836938\n"
     ]
    }
   ],
   "source": [
    "# Find coherance and perplexity for model with 10 topics\n",
    "coherance_and_perplexity(lda_model)"
   ]
  },
  {
   "cell_type": "markdown",
   "metadata": {},
   "source": [
    "### LDA Tuning: Finding the optimal number of topics\n",
    "\n",
    "LDA is an unsupervised technique, meaning that we don’t know prior to running the model how many topics exits in our corpus. So to find the optimal number of topics. We'll need to build many LDA models with constantly small number of passes and iterations, but with different number of topics for each. This way we will be able to pick the one that gives good evaluative metrics values, but does not put same words in different topics to often."
   ]
  },
  {
   "cell_type": "code",
   "execution_count": 36,
   "metadata": {},
   "outputs": [],
   "source": [
    "def compute_coherence_values(dictionary, corpus, texts, limit, start, step, coherence_type):\n",
    "    \"\"\"\n",
    "    \n",
    "    Parameters:\n",
    "    ----------\n",
    "    dictionary : Gensim dictionary\n",
    "    corpus : Gensim corpus\n",
    "    texts : List of input texts\n",
    "    limit : Max num of topics\n",
    "\n",
    "    Returns:\n",
    "    -------\n",
    "    model_list : List of LDA topic models\n",
    "    coherence_values : Coherence values corresponding to the LDA model with respective number of topics\n",
    "    \"\"\"\n",
    "    coherence_values = []\n",
    "    model_list = []\n",
    "    for num_topics in range(start, limit, step):\n",
    "        model=LdaModel(corpus=corpus, id2word=dictionary, num_topics=num_topics, random_state=1234)\n",
    "        model_list.append(model)\n",
    "        coherencemodel = CoherenceModel(model=model, texts=texts, dictionary=dictionary, coherence=coherence_type)\n",
    "        coherence_values.append(coherencemodel.get_coherence())\n",
    "\n",
    "    return model_list, coherence_values"
   ]
  },
  {
   "cell_type": "code",
   "execution_count": 37,
   "metadata": {},
   "outputs": [],
   "source": [
    "# Set x params: different number of topics for each model\n",
    "limit=40; start=2; step=6\n",
    "\n",
    "# Compute c_v coherence for various number of topics\n",
    "model_list_c_v, coherence_values_c_v = with_pickle(\\\n",
    "    'pickles/compute_coherence_values_c_v.pickle',\\\n",
    "    lambda : compute_coherence_values(\n",
    "        dictionary=dictionary, \n",
    "        corpus=bow_corpus, \n",
    "        texts=docs_bigrams, \n",
    "        start=start, \n",
    "        limit=limit, \n",
    "        step=step, \n",
    "        coherence_type='c_v')) \n",
    "\n",
    "model_list_u_mass, coherence_values_u_mass = with_pickle(\\\n",
    "    'pickles/compute_coherence_values_u_mass.pickle',\\\n",
    "    lambda : compute_coherence_values(\n",
    "        dictionary=dictionary, \n",
    "        corpus=bow_corpus, \n",
    "        texts=docs_bigrams, \n",
    "        start=start, \n",
    "        limit=limit, \n",
    "        step=step, \n",
    "        coherence_type='u_mass')) \n"
   ]
  },
  {
   "cell_type": "code",
   "execution_count": 38,
   "metadata": {},
   "outputs": [],
   "source": [
    "# Draw topics and coherence on graph\n",
    "def coherence_graph(coherence_values):\n",
    "    x = range(start, limit, step)\n",
    "    plt.plot(x, coherence_values)\n",
    "    plt.xlabel(\"Num Topics\")\n",
    "    plt.ylabel(\"Coherence score\")\n",
    "    plt.legend((\"coherence_values\"), loc='best')\n",
    "    return plt.show()"
   ]
  },
  {
   "cell_type": "code",
   "execution_count": 39,
   "metadata": {},
   "outputs": [
    {
     "data": {
      "image/png": "[encoded data removed]",
      "text/plain": [
       "<Figure size 432x288 with 1 Axes>"
      ]
     },
     "metadata": {
      "needs_background": "light"
     },
     "output_type": "display_data"
    }
   ],
   "source": [
    "coherence_graph(coherence_values_c_v)"
   ]
  },
  {
   "cell_type": "code",
   "execution_count": 40,
   "metadata": {},
   "outputs": [
    {
     "data": {
      "image/png": "[encoded data removed]",
      "text/plain": [
       "<Figure size 432x288 with 1 Axes>"
      ]
     },
     "metadata": {
      "needs_background": "light"
     },
     "output_type": "display_data"
    }
   ],
   "source": [
    "coherence_graph(coherence_values_u_mass)"
   ]
  },
  {
   "cell_type": "markdown",
   "metadata": {},
   "source": [
    "Result: looks like an optimal number of topics is somewhere around 14, let's try to train the LDA model with 14 topics because with more topics we risk getting too many duplicates in different topics."
   ]
  },
  {
   "cell_type": "code",
   "execution_count": 41,
   "metadata": {},
   "outputs": [],
   "source": [
    "# Serialise lda model with 20 topics\n",
    "lda_model_14 = with_pickle('pickles/lda_model_14.pickle', lambda : train_lda(num_topics=14, chunksize=2000, passes=600, iterations=5000))"
   ]
  },
  {
   "cell_type": "code",
   "execution_count": 42,
   "metadata": {},
   "outputs": [
    {
     "name": "stdout",
     "output_type": "stream",
     "text": [
      "Avg. Coherence Score (Cv): 0.36578543858700513\n",
      "Avg. Coherence Score (UMass): -3.6416493523728053\n",
      "Model Perplexity: -8.575068039197376\n"
     ]
    }
   ],
   "source": [
    "# Find coherance and perplexity for model with 20 topics\n",
    "coherance_and_perplexity(lda_model_14)"
   ]
  },
  {
   "cell_type": "markdown",
   "metadata": {},
   "source": [
    "### Viewing LDA Model topics"
   ]
  },
  {
   "cell_type": "markdown",
   "metadata": {},
   "source": [
    "Let's see what key words topics of different models contain. "
   ]
  },
  {
   "cell_type": "code",
   "execution_count": 43,
   "metadata": {},
   "outputs": [],
   "source": [
    "def display_keyw_per_topic(model):\n",
    "    topics = [[(term, round(probability, 3)) \n",
    "               for term, probability in model.show_topic(n, topn=20)] \n",
    "                   for n in range(0, model.num_topics)]\n",
    "    \n",
    "    pd.set_option('display.max_colwidth', None)\n",
    "\n",
    "    topics_df = pd.DataFrame([', '.join([term for term, probability in topic]) for topic in topics],\n",
    "                            columns = ['Key Words per Topic'],\n",
    "                            index=['Topic'+str(t) for t in range(1, model.num_topics+1)])\n",
    "    return topics_df"
   ]
  },
  {
   "cell_type": "code",
   "execution_count": 44,
   "metadata": {},
   "outputs": [
    {
     "data": {
      "text/html": [
       "<div>\n",
       "<style scoped>\n",
       "    .dataframe tbody tr th:only-of-type {\n",
       "        vertical-align: middle;\n",
       "    }\n",
       "\n",
       "    .dataframe tbody tr th {\n",
       "        vertical-align: top;\n",
       "    }\n",
       "\n",
       "    .dataframe thead th {\n",
       "        text-align: right;\n",
       "    }\n",
       "</style>\n",
       "<table border=\"1\" class=\"dataframe\">\n",
       "  <thead>\n",
       "    <tr style=\"text-align: right;\">\n",
       "      <th></th>\n",
       "      <th>Key Words per Topic</th>\n",
       "    </tr>\n",
       "  </thead>\n",
       "  <tbody>\n",
       "    <tr>\n",
       "      <th>Topic1</th>\n",
       "      <td>watch, think, time, well, look, end, scene, character, way, ever, actor, never, try, funny, actually, acting, little, still, part, act</td>\n",
       "    </tr>\n",
       "    <tr>\n",
       "      <th>Topic2</th>\n",
       "      <td>song, dance, musical, sing, joe, george, scott, sam, music, tony, number, singer, dancing, stage, jackson, broadway, dancer, mgm, rose, julie</td>\n",
       "    </tr>\n",
       "    <tr>\n",
       "      <th>Topic3</th>\n",
       "      <td>character, work, performance, role, director, world, two, way, life, audience, become, well, excellent, without, use, scene, viewer, real, different, feel</td>\n",
       "    </tr>\n",
       "    <tr>\n",
       "      <th>Topic4</th>\n",
       "      <td>original, horror, special_effect, flick, effect, sequel, scary, monster, cheap, zombie, gore, dark, blood, remake, cheesy, low_budget, classic, genre, creepy, killer</td>\n",
       "    </tr>\n",
       "    <tr>\n",
       "      <th>Topic5</th>\n",
       "      <td>love, old, play, life, young, girl, kid, family, live, child, friend, day, father, little, boy, always, wonderful, mother, beautiful, new</td>\n",
       "    </tr>\n",
       "    <tr>\n",
       "      <th>Topic6</th>\n",
       "      <td>play, include, star, action, set, feature, appear, early, lead, involve, murder, hero, release, city, sequence, career, late, cop, usual, villain</td>\n",
       "    </tr>\n",
       "    <tr>\n",
       "      <th>Topic7</th>\n",
       "      <td>sex, japanese, russian, bond, lee, fight, battle, fight_scene, chinese, sex_scene, martial_art, japan, opera, rape, porn, lesbian, imagery, asian, alice, fighting</td>\n",
       "    </tr>\n",
       "    <tr>\n",
       "      <th>Topic8</th>\n",
       "      <td>show, series, episode, tv, war, american, documentary, country, history, television, british, season, soldier, air, america, new, german, interview, political, god</td>\n",
       "    </tr>\n",
       "    <tr>\n",
       "      <th>Topic9</th>\n",
       "      <td>book, version, game, novel, play, adaptation, read_book, read, player, sport, charlie, jane, smith, ben, ray, team, de, johnny, billy, nick</td>\n",
       "    </tr>\n",
       "    <tr>\n",
       "      <th>Topic10</th>\n",
       "      <td>man, woman, kill, two, back, run, men, head, end, leave, house, die, turn, guy, three, another, shoot, death, night, start</td>\n",
       "    </tr>\n",
       "  </tbody>\n",
       "</table>\n",
       "</div>"
      ],
      "text/plain": [
       "                                                                                                                                                           Key Words per Topic\n",
       "Topic1                                  watch, think, time, well, look, end, scene, character, way, ever, actor, never, try, funny, actually, acting, little, still, part, act\n",
       "Topic2                           song, dance, musical, sing, joe, george, scott, sam, music, tony, number, singer, dancing, stage, jackson, broadway, dancer, mgm, rose, julie\n",
       "Topic3              character, work, performance, role, director, world, two, way, life, audience, become, well, excellent, without, use, scene, viewer, real, different, feel\n",
       "Topic4   original, horror, special_effect, flick, effect, sequel, scary, monster, cheap, zombie, gore, dark, blood, remake, cheesy, low_budget, classic, genre, creepy, killer\n",
       "Topic5                               love, old, play, life, young, girl, kid, family, live, child, friend, day, father, little, boy, always, wonderful, mother, beautiful, new\n",
       "Topic6                       play, include, star, action, set, feature, appear, early, lead, involve, murder, hero, release, city, sequence, career, late, cop, usual, villain\n",
       "Topic7      sex, japanese, russian, bond, lee, fight, battle, fight_scene, chinese, sex_scene, martial_art, japan, opera, rape, porn, lesbian, imagery, asian, alice, fighting\n",
       "Topic8     show, series, episode, tv, war, american, documentary, country, history, television, british, season, soldier, air, america, new, german, interview, political, god\n",
       "Topic9                             book, version, game, novel, play, adaptation, read_book, read, player, sport, charlie, jane, smith, ben, ray, team, de, johnny, billy, nick\n",
       "Topic10                                             man, woman, kill, two, back, run, men, head, end, leave, house, die, turn, guy, three, another, shoot, death, night, start"
      ]
     },
     "execution_count": 44,
     "metadata": {},
     "output_type": "execute_result"
    }
   ],
   "source": [
    "# Display top 20 keywords per topic, when there are 10 topics\n",
    "display_keyw_per_topic(lda_model)"
   ]
  },
  {
   "cell_type": "code",
   "execution_count": 45,
   "metadata": {},
   "outputs": [
    {
     "data": {
      "text/html": [
       "<div>\n",
       "<style scoped>\n",
       "    .dataframe tbody tr th:only-of-type {\n",
       "        vertical-align: middle;\n",
       "    }\n",
       "\n",
       "    .dataframe tbody tr th {\n",
       "        vertical-align: top;\n",
       "    }\n",
       "\n",
       "    .dataframe thead th {\n",
       "        text-align: right;\n",
       "    }\n",
       "</style>\n",
       "<table border=\"1\" class=\"dataframe\">\n",
       "  <thead>\n",
       "    <tr style=\"text-align: right;\">\n",
       "      <th></th>\n",
       "      <th>Key Words per Topic</th>\n",
       "    </tr>\n",
       "  </thead>\n",
       "  <tbody>\n",
       "    <tr>\n",
       "      <th>Topic1</th>\n",
       "      <td>time, watch, think, well, end, way, actor, never, ever, little, still, try, funny, part, look, character, act, guy, every, though</td>\n",
       "    </tr>\n",
       "    <tr>\n",
       "      <th>Topic2</th>\n",
       "      <td>young, kid, family, child, wife, father, mother, son, daughter, husband, sister, parent, old, adult, marry, age, home, fall_love, dad, joe</td>\n",
       "    </tr>\n",
       "    <tr>\n",
       "      <th>Topic3</th>\n",
       "      <td>character, work, performance, role, director, become, audience, two, scene, use, without, lead, excellent, viewer, set, interesting, although, perhaps, bring, point</td>\n",
       "    </tr>\n",
       "    <tr>\n",
       "      <th>Topic4</th>\n",
       "      <td>scene, look, acting, script, horror, minute, original, pretty, poor, instead, terrible, shot, dialogue, least, use, idea, awful, effect, boring, sound</td>\n",
       "    </tr>\n",
       "    <tr>\n",
       "      <th>Topic5</th>\n",
       "      <td>play, star, music, classic, feature, song, release, hollywood, include, late, voice, early, picture, talent, production, number, career, score, soundtrack, mr.</td>\n",
       "    </tr>\n",
       "    <tr>\n",
       "      <th>Topic6</th>\n",
       "      <td>man, woman, kill, two, turn, help, three, run, back, name, death, leave, men, head, begin, die, another, face, later, meet</td>\n",
       "    </tr>\n",
       "    <tr>\n",
       "      <th>Topic7</th>\n",
       "      <td>action, american, war, fight, hero, country, villain, soldier, western, battle, america, japanese, fly, us, italian, ship, revenge, government, indian, crew</td>\n",
       "    </tr>\n",
       "    <tr>\n",
       "      <th>Topic8</th>\n",
       "      <td>show, series, episode, tv, documentary, television, season, air, interview, program, new, tv_series, pilot, christian, batman, host, religion, sitcom, creator, canadian</td>\n",
       "    </tr>\n",
       "    <tr>\n",
       "      <th>Topic9</th>\n",
       "      <td>girl, boy, sex, school, class, student, high_school, party, friend, teen, hot, teenager, david, boyfriend, bill, college, paul, teacher, club, buddy</td>\n",
       "    </tr>\n",
       "    <tr>\n",
       "      <th>Topic10</th>\n",
       "      <td>monster, team, earth, match, space, alien, creature, jack, scientist, christmas, planet, sport, win, hotel, robot, science, tree, reporter, mike, wave</td>\n",
       "    </tr>\n",
       "    <tr>\n",
       "      <th>Topic11</th>\n",
       "      <td>love, life, world, live, book, true, beautiful, change, wonderful, human, truly, perfect, brilliant, today, feeling, simple, heart, amazing, grow, move</td>\n",
       "    </tr>\n",
       "    <tr>\n",
       "      <th>Topic12</th>\n",
       "      <td>version, game, remake, original, player, hitchcock, bond, jane, opera, jungle, star_wars, tarzan, video_game, wayne, jerry, disc, russell, anthony, luke, welles</td>\n",
       "    </tr>\n",
       "    <tr>\n",
       "      <th>Topic13</th>\n",
       "      <td>james, george, tom, oscar, delightful, australian, harry, jr., chris, william, alex, johnny, brown, henry, texas, australia, anna, max, anderson, anne</td>\n",
       "    </tr>\n",
       "    <tr>\n",
       "      <th>Topic14</th>\n",
       "      <td>house, british, ghost, german, island, cat, wood, camp, segment, paris, sea, world_war, boat, ii, haunt, nightmare, france, shadow, account, castle</td>\n",
       "    </tr>\n",
       "  </tbody>\n",
       "</table>\n",
       "</div>"
      ],
      "text/plain": [
       "                                                                                                                                                              Key Words per Topic\n",
       "Topic1                                          time, watch, think, well, end, way, actor, never, ever, little, still, try, funny, part, look, character, act, guy, every, though\n",
       "Topic2                                 young, kid, family, child, wife, father, mother, son, daughter, husband, sister, parent, old, adult, marry, age, home, fall_love, dad, joe\n",
       "Topic3       character, work, performance, role, director, become, audience, two, scene, use, without, lead, excellent, viewer, set, interesting, although, perhaps, bring, point\n",
       "Topic4                     scene, look, acting, script, horror, minute, original, pretty, poor, instead, terrible, shot, dialogue, least, use, idea, awful, effect, boring, sound\n",
       "Topic5            play, star, music, classic, feature, song, release, hollywood, include, late, voice, early, picture, talent, production, number, career, score, soundtrack, mr.\n",
       "Topic6                                                 man, woman, kill, two, turn, help, three, run, back, name, death, leave, men, head, begin, die, another, face, later, meet\n",
       "Topic7               action, american, war, fight, hero, country, villain, soldier, western, battle, america, japanese, fly, us, italian, ship, revenge, government, indian, crew\n",
       "Topic8   show, series, episode, tv, documentary, television, season, air, interview, program, new, tv_series, pilot, christian, batman, host, religion, sitcom, creator, canadian\n",
       "Topic9                       girl, boy, sex, school, class, student, high_school, party, friend, teen, hot, teenager, david, boyfriend, bill, college, paul, teacher, club, buddy\n",
       "Topic10                    monster, team, earth, match, space, alien, creature, jack, scientist, christmas, planet, sport, win, hotel, robot, science, tree, reporter, mike, wave\n",
       "Topic11                   love, life, world, live, book, true, beautiful, change, wonderful, human, truly, perfect, brilliant, today, feeling, simple, heart, amazing, grow, move\n",
       "Topic12          version, game, remake, original, player, hitchcock, bond, jane, opera, jungle, star_wars, tarzan, video_game, wayne, jerry, disc, russell, anthony, luke, welles\n",
       "Topic13                    james, george, tom, oscar, delightful, australian, harry, jr., chris, william, alex, johnny, brown, henry, texas, australia, anna, max, anderson, anne\n",
       "Topic14                       house, british, ghost, german, island, cat, wood, camp, segment, paris, sea, world_war, boat, ii, haunt, nightmare, france, shadow, account, castle"
      ]
     },
     "execution_count": 45,
     "metadata": {},
     "output_type": "execute_result"
    }
   ],
   "source": [
    "# Display top 20 keywords per topic, when there are 14 topics\n",
    "display_keyw_per_topic(lda_model_14)"
   ]
  },
  {
   "cell_type": "markdown",
   "metadata": {},
   "source": [
    "Now we are going to find what is a dominant topic for each review and how much its  contribution to the review in percentages."
   ]
  },
  {
   "cell_type": "code",
   "execution_count": 46,
   "metadata": {},
   "outputs": [],
   "source": [
    "def display_corpus_topics(model):\n",
    "    # Get vectors of each review\n",
    "    tm_results = model[bow_corpus]\n",
    "\n",
    "    corpus_topics = [sorted(topics, key=lambda record: -record[1])[0] \n",
    "                     for topics in tm_results]\n",
    "\n",
    "    corpus_topics_df = pd.DataFrame()\n",
    "    corpus_topics_df['Document'] = range(0, len(movie_reviews))\n",
    "    corpus_topics_df['Dominant Topic'] = [item[0]+1 for item in corpus_topics]\n",
    "    corpus_topics_df['Contribution %'] = [round(item[1]*100, 2) for item in corpus_topics]\n",
    "    corpus_topics_df['Topic Key Words'] = [display_keyw_per_topic(model).iloc[t[0]]['Key Words per Topic'] for t in corpus_topics]\n",
    "    return corpus_topics_df\n"
   ]
  },
  {
   "cell_type": "markdown",
   "metadata": {},
   "source": [
    "Let's check first 10 results for both models. "
   ]
  },
  {
   "cell_type": "code",
   "execution_count": 47,
   "metadata": {},
   "outputs": [
    {
     "data": {
      "text/html": [
       "<div>\n",
       "<style scoped>\n",
       "    .dataframe tbody tr th:only-of-type {\n",
       "        vertical-align: middle;\n",
       "    }\n",
       "\n",
       "    .dataframe tbody tr th {\n",
       "        vertical-align: top;\n",
       "    }\n",
       "\n",
       "    .dataframe thead th {\n",
       "        text-align: right;\n",
       "    }\n",
       "</style>\n",
       "<table border=\"1\" class=\"dataframe\">\n",
       "  <thead>\n",
       "    <tr style=\"text-align: right;\">\n",
       "      <th></th>\n",
       "      <th>Document</th>\n",
       "      <th>Dominant Topic</th>\n",
       "      <th>Contribution %</th>\n",
       "      <th>Topic Key Words</th>\n",
       "    </tr>\n",
       "  </thead>\n",
       "  <tbody>\n",
       "    <tr>\n",
       "      <th>0</th>\n",
       "      <td>0</td>\n",
       "      <td>1</td>\n",
       "      <td>24.57</td>\n",
       "      <td>watch, think, time, well, look, end, scene, character, way, ever, actor, never, try, funny, actually, acting, little, still, part, act</td>\n",
       "    </tr>\n",
       "    <tr>\n",
       "      <th>1</th>\n",
       "      <td>1</td>\n",
       "      <td>3</td>\n",
       "      <td>38.33</td>\n",
       "      <td>character, work, performance, role, director, world, two, way, life, audience, become, well, excellent, without, use, scene, viewer, real, different, feel</td>\n",
       "    </tr>\n",
       "    <tr>\n",
       "      <th>2</th>\n",
       "      <td>2</td>\n",
       "      <td>1</td>\n",
       "      <td>43.90</td>\n",
       "      <td>watch, think, time, well, look, end, scene, character, way, ever, actor, never, try, funny, actually, acting, little, still, part, act</td>\n",
       "    </tr>\n",
       "    <tr>\n",
       "      <th>3</th>\n",
       "      <td>3</td>\n",
       "      <td>1</td>\n",
       "      <td>30.49</td>\n",
       "      <td>watch, think, time, well, look, end, scene, character, way, ever, actor, never, try, funny, actually, acting, little, still, part, act</td>\n",
       "    </tr>\n",
       "    <tr>\n",
       "      <th>4</th>\n",
       "      <td>4</td>\n",
       "      <td>3</td>\n",
       "      <td>33.05</td>\n",
       "      <td>character, work, performance, role, director, world, two, way, life, audience, become, well, excellent, without, use, scene, viewer, real, different, feel</td>\n",
       "    </tr>\n",
       "    <tr>\n",
       "      <th>5</th>\n",
       "      <td>5</td>\n",
       "      <td>1</td>\n",
       "      <td>31.85</td>\n",
       "      <td>watch, think, time, well, look, end, scene, character, way, ever, actor, never, try, funny, actually, acting, little, still, part, act</td>\n",
       "    </tr>\n",
       "    <tr>\n",
       "      <th>6</th>\n",
       "      <td>6</td>\n",
       "      <td>1</td>\n",
       "      <td>38.96</td>\n",
       "      <td>watch, think, time, well, look, end, scene, character, way, ever, actor, never, try, funny, actually, acting, little, still, part, act</td>\n",
       "    </tr>\n",
       "    <tr>\n",
       "      <th>7</th>\n",
       "      <td>7</td>\n",
       "      <td>1</td>\n",
       "      <td>37.59</td>\n",
       "      <td>watch, think, time, well, look, end, scene, character, way, ever, actor, never, try, funny, actually, acting, little, still, part, act</td>\n",
       "    </tr>\n",
       "    <tr>\n",
       "      <th>8</th>\n",
       "      <td>8</td>\n",
       "      <td>1</td>\n",
       "      <td>43.01</td>\n",
       "      <td>watch, think, time, well, look, end, scene, character, way, ever, actor, never, try, funny, actually, acting, little, still, part, act</td>\n",
       "    </tr>\n",
       "    <tr>\n",
       "      <th>9</th>\n",
       "      <td>9</td>\n",
       "      <td>1</td>\n",
       "      <td>30.90</td>\n",
       "      <td>watch, think, time, well, look, end, scene, character, way, ever, actor, never, try, funny, actually, acting, little, still, part, act</td>\n",
       "    </tr>\n",
       "  </tbody>\n",
       "</table>\n",
       "</div>"
      ],
      "text/plain": [
       "   Document  Dominant Topic  Contribution %  \\\n",
       "0         0               1           24.57   \n",
       "1         1               3           38.33   \n",
       "2         2               1           43.90   \n",
       "3         3               1           30.49   \n",
       "4         4               3           33.05   \n",
       "5         5               1           31.85   \n",
       "6         6               1           38.96   \n",
       "7         7               1           37.59   \n",
       "8         8               1           43.01   \n",
       "9         9               1           30.90   \n",
       "\n",
       "                                                                                                                                              Topic Key Words  \n",
       "0                      watch, think, time, well, look, end, scene, character, way, ever, actor, never, try, funny, actually, acting, little, still, part, act  \n",
       "1  character, work, performance, role, director, world, two, way, life, audience, become, well, excellent, without, use, scene, viewer, real, different, feel  \n",
       "2                      watch, think, time, well, look, end, scene, character, way, ever, actor, never, try, funny, actually, acting, little, still, part, act  \n",
       "3                      watch, think, time, well, look, end, scene, character, way, ever, actor, never, try, funny, actually, acting, little, still, part, act  \n",
       "4  character, work, performance, role, director, world, two, way, life, audience, become, well, excellent, without, use, scene, viewer, real, different, feel  \n",
       "5                      watch, think, time, well, look, end, scene, character, way, ever, actor, never, try, funny, actually, acting, little, still, part, act  \n",
       "6                      watch, think, time, well, look, end, scene, character, way, ever, actor, never, try, funny, actually, acting, little, still, part, act  \n",
       "7                      watch, think, time, well, look, end, scene, character, way, ever, actor, never, try, funny, actually, acting, little, still, part, act  \n",
       "8                      watch, think, time, well, look, end, scene, character, way, ever, actor, never, try, funny, actually, acting, little, still, part, act  \n",
       "9                      watch, think, time, well, look, end, scene, character, way, ever, actor, never, try, funny, actually, acting, little, still, part, act  "
      ]
     },
     "execution_count": 47,
     "metadata": {},
     "output_type": "execute_result"
    }
   ],
   "source": [
    "display_corpus_topics_lda10 = with_pickle('pickles/display_corpus_topics_lda10.pickle', lambda : display_corpus_topics(lda_model))\n",
    "display_corpus_topics_lda10[:10]"
   ]
  },
  {
   "cell_type": "code",
   "execution_count": 48,
   "metadata": {},
   "outputs": [
    {
     "data": {
      "text/html": [
       "<div>\n",
       "<style scoped>\n",
       "    .dataframe tbody tr th:only-of-type {\n",
       "        vertical-align: middle;\n",
       "    }\n",
       "\n",
       "    .dataframe tbody tr th {\n",
       "        vertical-align: top;\n",
       "    }\n",
       "\n",
       "    .dataframe thead th {\n",
       "        text-align: right;\n",
       "    }\n",
       "</style>\n",
       "<table border=\"1\" class=\"dataframe\">\n",
       "  <thead>\n",
       "    <tr style=\"text-align: right;\">\n",
       "      <th></th>\n",
       "      <th>Document</th>\n",
       "      <th>Dominant Topic</th>\n",
       "      <th>Contribution %</th>\n",
       "      <th>Topic Key Words</th>\n",
       "    </tr>\n",
       "  </thead>\n",
       "  <tbody>\n",
       "    <tr>\n",
       "      <th>0</th>\n",
       "      <td>0</td>\n",
       "      <td>1</td>\n",
       "      <td>22.13</td>\n",
       "      <td>time, watch, think, well, end, way, actor, never, ever, little, still, try, funny, part, look, character, act, guy, every, though</td>\n",
       "    </tr>\n",
       "    <tr>\n",
       "      <th>1</th>\n",
       "      <td>1</td>\n",
       "      <td>3</td>\n",
       "      <td>29.02</td>\n",
       "      <td>character, work, performance, role, director, become, audience, two, scene, use, without, lead, excellent, viewer, set, interesting, although, perhaps, bring, point</td>\n",
       "    </tr>\n",
       "    <tr>\n",
       "      <th>2</th>\n",
       "      <td>2</td>\n",
       "      <td>1</td>\n",
       "      <td>36.03</td>\n",
       "      <td>time, watch, think, well, end, way, actor, never, ever, little, still, try, funny, part, look, character, act, guy, every, though</td>\n",
       "    </tr>\n",
       "    <tr>\n",
       "      <th>3</th>\n",
       "      <td>3</td>\n",
       "      <td>1</td>\n",
       "      <td>27.57</td>\n",
       "      <td>time, watch, think, well, end, way, actor, never, ever, little, still, try, funny, part, look, character, act, guy, every, though</td>\n",
       "    </tr>\n",
       "    <tr>\n",
       "      <th>4</th>\n",
       "      <td>4</td>\n",
       "      <td>1</td>\n",
       "      <td>25.77</td>\n",
       "      <td>time, watch, think, well, end, way, actor, never, ever, little, still, try, funny, part, look, character, act, guy, every, though</td>\n",
       "    </tr>\n",
       "    <tr>\n",
       "      <th>5</th>\n",
       "      <td>5</td>\n",
       "      <td>1</td>\n",
       "      <td>27.12</td>\n",
       "      <td>time, watch, think, well, end, way, actor, never, ever, little, still, try, funny, part, look, character, act, guy, every, though</td>\n",
       "    </tr>\n",
       "    <tr>\n",
       "      <th>6</th>\n",
       "      <td>6</td>\n",
       "      <td>1</td>\n",
       "      <td>35.71</td>\n",
       "      <td>time, watch, think, well, end, way, actor, never, ever, little, still, try, funny, part, look, character, act, guy, every, though</td>\n",
       "    </tr>\n",
       "    <tr>\n",
       "      <th>7</th>\n",
       "      <td>7</td>\n",
       "      <td>1</td>\n",
       "      <td>28.84</td>\n",
       "      <td>time, watch, think, well, end, way, actor, never, ever, little, still, try, funny, part, look, character, act, guy, every, though</td>\n",
       "    </tr>\n",
       "    <tr>\n",
       "      <th>8</th>\n",
       "      <td>8</td>\n",
       "      <td>1</td>\n",
       "      <td>25.82</td>\n",
       "      <td>time, watch, think, well, end, way, actor, never, ever, little, still, try, funny, part, look, character, act, guy, every, though</td>\n",
       "    </tr>\n",
       "    <tr>\n",
       "      <th>9</th>\n",
       "      <td>9</td>\n",
       "      <td>1</td>\n",
       "      <td>26.51</td>\n",
       "      <td>time, watch, think, well, end, way, actor, never, ever, little, still, try, funny, part, look, character, act, guy, every, though</td>\n",
       "    </tr>\n",
       "  </tbody>\n",
       "</table>\n",
       "</div>"
      ],
      "text/plain": [
       "   Document  Dominant Topic  Contribution %  \\\n",
       "0         0               1           22.13   \n",
       "1         1               3           29.02   \n",
       "2         2               1           36.03   \n",
       "3         3               1           27.57   \n",
       "4         4               1           25.77   \n",
       "5         5               1           27.12   \n",
       "6         6               1           35.71   \n",
       "7         7               1           28.84   \n",
       "8         8               1           25.82   \n",
       "9         9               1           26.51   \n",
       "\n",
       "                                                                                                                                                        Topic Key Words  \n",
       "0                                     time, watch, think, well, end, way, actor, never, ever, little, still, try, funny, part, look, character, act, guy, every, though  \n",
       "1  character, work, performance, role, director, become, audience, two, scene, use, without, lead, excellent, viewer, set, interesting, although, perhaps, bring, point  \n",
       "2                                     time, watch, think, well, end, way, actor, never, ever, little, still, try, funny, part, look, character, act, guy, every, though  \n",
       "3                                     time, watch, think, well, end, way, actor, never, ever, little, still, try, funny, part, look, character, act, guy, every, though  \n",
       "4                                     time, watch, think, well, end, way, actor, never, ever, little, still, try, funny, part, look, character, act, guy, every, though  \n",
       "5                                     time, watch, think, well, end, way, actor, never, ever, little, still, try, funny, part, look, character, act, guy, every, though  \n",
       "6                                     time, watch, think, well, end, way, actor, never, ever, little, still, try, funny, part, look, character, act, guy, every, though  \n",
       "7                                     time, watch, think, well, end, way, actor, never, ever, little, still, try, funny, part, look, character, act, guy, every, though  \n",
       "8                                     time, watch, think, well, end, way, actor, never, ever, little, still, try, funny, part, look, character, act, guy, every, though  \n",
       "9                                     time, watch, think, well, end, way, actor, never, ever, little, still, try, funny, part, look, character, act, guy, every, though  "
      ]
     },
     "execution_count": 48,
     "metadata": {},
     "output_type": "execute_result"
    }
   ],
   "source": [
    "display_corpus_topics_lda14 = with_pickle('pickles/display_corpus_topics_lda14.pickle', lambda : display_corpus_topics(lda_model_14))\n",
    "display_corpus_topics_lda14[:10]"
   ]
  },
  {
   "cell_type": "markdown",
   "metadata": {},
   "source": [
    "Now we are going to reshape our previous DataFrame and find out how many reviews that contain each topic exist and how much is in percentages from the total number of reviews."
   ]
  },
  {
   "cell_type": "code",
   "execution_count": 49,
   "metadata": {},
   "outputs": [],
   "source": [
    "def topic_stats_df(model):\n",
    "    pd.set_option('display.max_colwidth', 200)\n",
    "    topic_stats_df = display_corpus_topics(model).groupby('Dominant Topic')\\\n",
    "        .aggregate({'Document': np.size, 'Contribution %': np.size})\\\n",
    "        .rename(columns={'Document': 'Review Count', 'Contribution %': '% Total Reviews'})\n",
    "    topic_stats_df = topic_stats_df.reset_index()\n",
    "    topic_stats_df['% Total Reviews'] = topic_stats_df['% Total Reviews'].apply(lambda row: round((row*100) / len(movie_reviews), 2))\n",
    "    topic_stats_df['Topic Key Words'] = [display_keyw_per_topic(model).iloc[t]['Key Words per Topic'] for t in range(len(topic_stats_df))]\n",
    "    return topic_stats_df"
   ]
  },
  {
   "cell_type": "code",
   "execution_count": 50,
   "metadata": {},
   "outputs": [
    {
     "data": {
      "text/html": [
       "<div>\n",
       "<style scoped>\n",
       "    .dataframe tbody tr th:only-of-type {\n",
       "        vertical-align: middle;\n",
       "    }\n",
       "\n",
       "    .dataframe tbody tr th {\n",
       "        vertical-align: top;\n",
       "    }\n",
       "\n",
       "    .dataframe thead th {\n",
       "        text-align: right;\n",
       "    }\n",
       "</style>\n",
       "<table border=\"1\" class=\"dataframe\">\n",
       "  <thead>\n",
       "    <tr style=\"text-align: right;\">\n",
       "      <th></th>\n",
       "      <th>Dominant Topic</th>\n",
       "      <th>Review Count</th>\n",
       "      <th>% Total Reviews</th>\n",
       "      <th>Topic Key Words</th>\n",
       "    </tr>\n",
       "  </thead>\n",
       "  <tbody>\n",
       "    <tr>\n",
       "      <th>0</th>\n",
       "      <td>1</td>\n",
       "      <td>38376</td>\n",
       "      <td>76.75</td>\n",
       "      <td>watch, think, time, well, look, end, scene, character, way, ever, actor, never, try, funny, actually, acting, little, still, part, act</td>\n",
       "    </tr>\n",
       "    <tr>\n",
       "      <th>1</th>\n",
       "      <td>2</td>\n",
       "      <td>3</td>\n",
       "      <td>0.01</td>\n",
       "      <td>song, dance, musical, sing, joe, george, scott, sam, music, tony, number, singer, dancing, stage, jackson, broadway, dancer, mgm, rose, julie</td>\n",
       "    </tr>\n",
       "    <tr>\n",
       "      <th>2</th>\n",
       "      <td>3</td>\n",
       "      <td>10017</td>\n",
       "      <td>20.03</td>\n",
       "      <td>character, work, performance, role, director, world, two, way, life, audience, become, well, excellent, without, use, scene, viewer, real, different, feel</td>\n",
       "    </tr>\n",
       "    <tr>\n",
       "      <th>3</th>\n",
       "      <td>4</td>\n",
       "      <td>15</td>\n",
       "      <td>0.03</td>\n",
       "      <td>original, horror, special_effect, flick, effect, sequel, scary, monster, cheap, zombie, gore, dark, blood, remake, cheesy, low_budget, classic, genre, creepy, killer</td>\n",
       "    </tr>\n",
       "    <tr>\n",
       "      <th>4</th>\n",
       "      <td>5</td>\n",
       "      <td>496</td>\n",
       "      <td>0.99</td>\n",
       "      <td>love, old, play, life, young, girl, kid, family, live, child, friend, day, father, little, boy, always, wonderful, mother, beautiful, new</td>\n",
       "    </tr>\n",
       "    <tr>\n",
       "      <th>5</th>\n",
       "      <td>6</td>\n",
       "      <td>208</td>\n",
       "      <td>0.42</td>\n",
       "      <td>play, include, star, action, set, feature, appear, early, lead, involve, murder, hero, release, city, sequence, career, late, cop, usual, villain</td>\n",
       "    </tr>\n",
       "    <tr>\n",
       "      <th>6</th>\n",
       "      <td>8</td>\n",
       "      <td>24</td>\n",
       "      <td>0.05</td>\n",
       "      <td>sex, japanese, russian, bond, lee, fight, battle, fight_scene, chinese, sex_scene, martial_art, japan, opera, rape, porn, lesbian, imagery, asian, alice, fighting</td>\n",
       "    </tr>\n",
       "    <tr>\n",
       "      <th>7</th>\n",
       "      <td>9</td>\n",
       "      <td>1</td>\n",
       "      <td>0.00</td>\n",
       "      <td>show, series, episode, tv, war, american, documentary, country, history, television, british, season, soldier, air, america, new, german, interview, political, god</td>\n",
       "    </tr>\n",
       "    <tr>\n",
       "      <th>8</th>\n",
       "      <td>10</td>\n",
       "      <td>860</td>\n",
       "      <td>1.72</td>\n",
       "      <td>book, version, game, novel, play, adaptation, read_book, read, player, sport, charlie, jane, smith, ben, ray, team, de, johnny, billy, nick</td>\n",
       "    </tr>\n",
       "  </tbody>\n",
       "</table>\n",
       "</div>"
      ],
      "text/plain": [
       "   Dominant Topic  Review Count  % Total Reviews  \\\n",
       "0               1         38376            76.75   \n",
       "1               2             3             0.01   \n",
       "2               3         10017            20.03   \n",
       "3               4            15             0.03   \n",
       "4               5           496             0.99   \n",
       "5               6           208             0.42   \n",
       "6               8            24             0.05   \n",
       "7               9             1             0.00   \n",
       "8              10           860             1.72   \n",
       "\n",
       "                                                                                                                                                         Topic Key Words  \n",
       "0                                 watch, think, time, well, look, end, scene, character, way, ever, actor, never, try, funny, actually, acting, little, still, part, act  \n",
       "1                          song, dance, musical, sing, joe, george, scott, sam, music, tony, number, singer, dancing, stage, jackson, broadway, dancer, mgm, rose, julie  \n",
       "2             character, work, performance, role, director, world, two, way, life, audience, become, well, excellent, without, use, scene, viewer, real, different, feel  \n",
       "3  original, horror, special_effect, flick, effect, sequel, scary, monster, cheap, zombie, gore, dark, blood, remake, cheesy, low_budget, classic, genre, creepy, killer  \n",
       "4                              love, old, play, life, young, girl, kid, family, live, child, friend, day, father, little, boy, always, wonderful, mother, beautiful, new  \n",
       "5                      play, include, star, action, set, feature, appear, early, lead, involve, murder, hero, release, city, sequence, career, late, cop, usual, villain  \n",
       "6     sex, japanese, russian, bond, lee, fight, battle, fight_scene, chinese, sex_scene, martial_art, japan, opera, rape, porn, lesbian, imagery, asian, alice, fighting  \n",
       "7    show, series, episode, tv, war, american, documentary, country, history, television, british, season, soldier, air, america, new, german, interview, political, god  \n",
       "8                            book, version, game, novel, play, adaptation, read_book, read, player, sport, charlie, jane, smith, ben, ray, team, de, johnny, billy, nick  "
      ]
     },
     "execution_count": 50,
     "metadata": {},
     "output_type": "execute_result"
    }
   ],
   "source": [
    "topic_stats_df_lda10 = with_pickle('pickles/topic_stats_df_lda10.pickle', lambda : topic_stats_df(lda_model))\n",
    "topic_stats_df_lda10"
   ]
  },
  {
   "cell_type": "code",
   "execution_count": 51,
   "metadata": {},
   "outputs": [
    {
     "data": {
      "text/html": [
       "<div>\n",
       "<style scoped>\n",
       "    .dataframe tbody tr th:only-of-type {\n",
       "        vertical-align: middle;\n",
       "    }\n",
       "\n",
       "    .dataframe tbody tr th {\n",
       "        vertical-align: top;\n",
       "    }\n",
       "\n",
       "    .dataframe thead th {\n",
       "        text-align: right;\n",
       "    }\n",
       "</style>\n",
       "<table border=\"1\" class=\"dataframe\">\n",
       "  <thead>\n",
       "    <tr style=\"text-align: right;\">\n",
       "      <th></th>\n",
       "      <th>Dominant Topic</th>\n",
       "      <th>Review Count</th>\n",
       "      <th>% Total Reviews</th>\n",
       "      <th>Topic Key Words</th>\n",
       "    </tr>\n",
       "  </thead>\n",
       "  <tbody>\n",
       "    <tr>\n",
       "      <th>0</th>\n",
       "      <td>1</td>\n",
       "      <td>37820</td>\n",
       "      <td>75.64</td>\n",
       "      <td>time, watch, think, well, end, way, actor, never, ever, little, still, try, funny, part, look, character, act, guy, every, though</td>\n",
       "    </tr>\n",
       "    <tr>\n",
       "      <th>1</th>\n",
       "      <td>2</td>\n",
       "      <td>1</td>\n",
       "      <td>0.00</td>\n",
       "      <td>young, kid, family, child, wife, father, mother, son, daughter, husband, sister, parent, old, adult, marry, age, home, fall_love, dad, joe</td>\n",
       "    </tr>\n",
       "    <tr>\n",
       "      <th>2</th>\n",
       "      <td>3</td>\n",
       "      <td>9804</td>\n",
       "      <td>19.61</td>\n",
       "      <td>character, work, performance, role, director, become, audience, two, scene, use, without, lead, excellent, viewer, set, interesting, although, perhaps, bring, point</td>\n",
       "    </tr>\n",
       "    <tr>\n",
       "      <th>3</th>\n",
       "      <td>4</td>\n",
       "      <td>600</td>\n",
       "      <td>1.20</td>\n",
       "      <td>scene, look, acting, script, horror, minute, original, pretty, poor, instead, terrible, shot, dialogue, least, use, idea, awful, effect, boring, sound</td>\n",
       "    </tr>\n",
       "    <tr>\n",
       "      <th>4</th>\n",
       "      <td>5</td>\n",
       "      <td>45</td>\n",
       "      <td>0.09</td>\n",
       "      <td>play, star, music, classic, feature, song, release, hollywood, include, late, voice, early, picture, talent, production, number, career, score, soundtrack, mr.</td>\n",
       "    </tr>\n",
       "    <tr>\n",
       "      <th>5</th>\n",
       "      <td>6</td>\n",
       "      <td>1688</td>\n",
       "      <td>3.38</td>\n",
       "      <td>man, woman, kill, two, turn, help, three, run, back, name, death, leave, men, head, begin, die, another, face, later, meet</td>\n",
       "    </tr>\n",
       "    <tr>\n",
       "      <th>6</th>\n",
       "      <td>7</td>\n",
       "      <td>2</td>\n",
       "      <td>0.00</td>\n",
       "      <td>action, american, war, fight, hero, country, villain, soldier, western, battle, america, japanese, fly, us, italian, ship, revenge, government, indian, crew</td>\n",
       "    </tr>\n",
       "    <tr>\n",
       "      <th>7</th>\n",
       "      <td>8</td>\n",
       "      <td>1</td>\n",
       "      <td>0.00</td>\n",
       "      <td>show, series, episode, tv, documentary, television, season, air, interview, program, new, tv_series, pilot, christian, batman, host, religion, sitcom, creator, canadian</td>\n",
       "    </tr>\n",
       "    <tr>\n",
       "      <th>8</th>\n",
       "      <td>10</td>\n",
       "      <td>8</td>\n",
       "      <td>0.02</td>\n",
       "      <td>girl, boy, sex, school, class, student, high_school, party, friend, teen, hot, teenager, david, boyfriend, bill, college, paul, teacher, club, buddy</td>\n",
       "    </tr>\n",
       "    <tr>\n",
       "      <th>9</th>\n",
       "      <td>11</td>\n",
       "      <td>29</td>\n",
       "      <td>0.06</td>\n",
       "      <td>monster, team, earth, match, space, alien, creature, jack, scientist, christmas, planet, sport, win, hotel, robot, science, tree, reporter, mike, wave</td>\n",
       "    </tr>\n",
       "    <tr>\n",
       "      <th>10</th>\n",
       "      <td>14</td>\n",
       "      <td>2</td>\n",
       "      <td>0.00</td>\n",
       "      <td>love, life, world, live, book, true, beautiful, change, wonderful, human, truly, perfect, brilliant, today, feeling, simple, heart, amazing, grow, move</td>\n",
       "    </tr>\n",
       "  </tbody>\n",
       "</table>\n",
       "</div>"
      ],
      "text/plain": [
       "    Dominant Topic  Review Count  % Total Reviews  \\\n",
       "0                1         37820            75.64   \n",
       "1                2             1             0.00   \n",
       "2                3          9804            19.61   \n",
       "3                4           600             1.20   \n",
       "4                5            45             0.09   \n",
       "5                6          1688             3.38   \n",
       "6                7             2             0.00   \n",
       "7                8             1             0.00   \n",
       "8               10             8             0.02   \n",
       "9               11            29             0.06   \n",
       "10              14             2             0.00   \n",
       "\n",
       "                                                                                                                                                             Topic Key Words  \n",
       "0                                          time, watch, think, well, end, way, actor, never, ever, little, still, try, funny, part, look, character, act, guy, every, though  \n",
       "1                                 young, kid, family, child, wife, father, mother, son, daughter, husband, sister, parent, old, adult, marry, age, home, fall_love, dad, joe  \n",
       "2       character, work, performance, role, director, become, audience, two, scene, use, without, lead, excellent, viewer, set, interesting, although, perhaps, bring, point  \n",
       "3                     scene, look, acting, script, horror, minute, original, pretty, poor, instead, terrible, shot, dialogue, least, use, idea, awful, effect, boring, sound  \n",
       "4            play, star, music, classic, feature, song, release, hollywood, include, late, voice, early, picture, talent, production, number, career, score, soundtrack, mr.  \n",
       "5                                                 man, woman, kill, two, turn, help, three, run, back, name, death, leave, men, head, begin, die, another, face, later, meet  \n",
       "6               action, american, war, fight, hero, country, villain, soldier, western, battle, america, japanese, fly, us, italian, ship, revenge, government, indian, crew  \n",
       "7   show, series, episode, tv, documentary, television, season, air, interview, program, new, tv_series, pilot, christian, batman, host, religion, sitcom, creator, canadian  \n",
       "8                       girl, boy, sex, school, class, student, high_school, party, friend, teen, hot, teenager, david, boyfriend, bill, college, paul, teacher, club, buddy  \n",
       "9                     monster, team, earth, match, space, alien, creature, jack, scientist, christmas, planet, sport, win, hotel, robot, science, tree, reporter, mike, wave  \n",
       "10                   love, life, world, live, book, true, beautiful, change, wonderful, human, truly, perfect, brilliant, today, feeling, simple, heart, amazing, grow, move  "
      ]
     },
     "execution_count": 51,
     "metadata": {},
     "output_type": "execute_result"
    }
   ],
   "source": [
    "topic_stats_df_lda14 = with_pickle('pickles/topic_stats_df_lda14.pickle', lambda : topic_stats_df(lda_model_14))\n",
    "topic_stats_df_lda14"
   ]
  },
  {
   "cell_type": "markdown",
   "metadata": {},
   "source": [
    "### LDA Results\n",
    "\n",
    "In general, we can see that the topics above make a lot of sense for an IMDB dataset. However, they are not without flaws. We can see that there is some word overlap between topics, others are hard to interpret, and most of them have at least some terms that seem out of place. Besides if we look at the statistics of both tables we will be able to notice that topics that have the highest review count are not so similar by the content of their keywords, which makes this statistic pretty dependent on the number of topics.\n",
    "\n",
    "## Sentiment Analysis\n",
    "\n",
    "In this part, we will finally perform our main and most popular NLP task known as *text classification*. Text classification is the process of assigning one or more categories to a given piece of text from a more extensive set of possible categories. In our case, it will be binary sentiment classification of the same IMDB dataset. Feature engineering technique of choice will be *word embeddings* using `word2vec`. \n",
    "\n",
    "For a pre-trained embedding model, we will use the Google News vectors. https://drive.google.com/file/d/0B7XkCwpI5KDYNlNUTTlSS21pQmM \n",
    "**Note:** there were no good uploading options for the time of writing so I uploaded the file manually and will provide a path to it on my local machine. \n",
    "\n",
    "\n",
    "To evaluate the test results of the classification we are going to use automatically building text report showing the main classification metrics for each class: \n",
    "- Precision;\n",
    "- Recall; \n",
    "- F1 score. \n",
    "\n",
    "\n",
    "Steps of sentiment analysis: \n",
    "\n",
    "- perform EDA; \n",
    "- transform the raw text into feature vectors;\n",
    "- split the dataset into two parts training and testing;\n",
    "- train a classifier using the feature vectors and the corresponding labels from the training set;\n",
    "- using the evaluation metric(s), benchmark the model performance on the test set;\n",
    "- apply a classifier to the 10 latest unlabeled user reviews from IMDB and evaluate the results.\n",
    "\n",
    "\n"
   ]
  },
  {
   "cell_type": "markdown",
   "metadata": {},
   "source": [
    "### EDA"
   ]
  },
  {
   "cell_type": "code",
   "execution_count": 79,
   "metadata": {},
   "outputs": [],
   "source": [
    "# Imports related to modeling\n",
    "from gensim.models import KeyedVectors\n",
    "from sklearn.linear_model import LogisticRegression\n",
    "from sklearn.model_selection import train_test_split\n",
    "from sklearn.metrics import classification_report\n",
    "\n",
    "# Unlabeled reviews file import\n",
    "from data.reviews_for_classification import reviews_for_classification"
   ]
  },
  {
   "cell_type": "code",
   "execution_count": 53,
   "metadata": {},
   "outputs": [],
   "source": [
    "# Provide path to uploaded pretrained model on local machine\n",
    "path_to_model = 'data/GoogleNews-vectors-negative300.bin'\n",
    "# Load W2V model\n",
    "w2v_model = KeyedVectors.load_word2vec_format(path_to_model, binary=True)"
   ]
  },
  {
   "cell_type": "code",
   "execution_count": 54,
   "metadata": {},
   "outputs": [],
   "source": [
    "# Create new column with tokenised and cleaned dataset\n",
    "movie_reviews['tokenised_cleaned'] = docs"
   ]
  },
  {
   "cell_type": "code",
   "execution_count": 55,
   "metadata": {},
   "outputs": [
    {
     "data": {
      "text/plain": [
       "3000000"
      ]
     },
     "execution_count": 55,
     "metadata": {},
     "output_type": "execute_result"
    }
   ],
   "source": [
    "# Inspect the model and find how many words it contains\n",
    "len(w2v_model)"
   ]
  },
  {
   "cell_type": "code",
   "execution_count": 56,
   "metadata": {},
   "outputs": [
    {
     "data": {
      "text/plain": [
       "50000"
      ]
     },
     "execution_count": 56,
     "metadata": {},
     "output_type": "execute_result"
    }
   ],
   "source": [
    "# Double check number of reviews in column\n",
    "len(movie_reviews.tokenised_cleaned)"
   ]
  },
  {
   "cell_type": "code",
   "execution_count": 57,
   "metadata": {},
   "outputs": [
    {
     "data": {
      "text/plain": [
       "0    [reviewer, mention, watch, oz, episode, hook, right, exactly, happen, me.the, strike, oz, brutality, unflinching, scene, violence, set, right, word, trust, show, faint, hearted, timid, show, pull, punch, regard, drug, sex, violence, hardcore, classic, use, word.it, call, oz, nickname, oswald, maximum, security, state, penitentary, focus, mainly, emerald, city, experimental, section, prison, cell, glass, front, face, inwards, privacy, high, agenda, em, city, home, aryans, muslims, gangsta, latinos, christians, italians, irish, scuffle, death, stare, dodgy, dealing, shady, agreement, never, far, away.i, appeal, show, due, fact, show, dare, forget, pretty, picture, paint, mainstream, audience, forget, charm, forget, romance, oz, mess, around, episode, ever, saw, ...]\n",
       "1                                                                                                                                              [wonderful, little, production, filming, technique, unassuming-, old-time-bbc, fashion, comforting, sometimes, discomforting, sense, realism, entire, piece, actor, extremely, well, chosen-, michael, sheen, polari, voice, pat, truly, seamless, edit, guide, reference, williams, diary, entry, well, watching, terrificly, write, perform, piece, masterful, production, master, comedy, life, realism, home, little, fantasy, guard, use, traditional, technique, remain, solid, disappear, play, knowledge, sens, particularly, scene, concern, orton, halliwell, set, particularly, flat, halliwell, mural, decorate, every, surface, terribly, well]\n",
       "Name: tokenised_cleaned, dtype: object"
      ]
     },
     "execution_count": 57,
     "metadata": {},
     "output_type": "execute_result"
    }
   ],
   "source": [
    "# View first 2 reviews\n",
    "movie_reviews.tokenised_cleaned.head(2)"
   ]
  },
  {
   "cell_type": "code",
   "execution_count": 58,
   "metadata": {},
   "outputs": [
    {
     "data": {
      "text/plain": [
       "0    positive\n",
       "1    positive\n",
       "Name: sentiment, dtype: object"
      ]
     },
     "execution_count": 58,
     "metadata": {},
     "output_type": "execute_result"
    }
   ],
   "source": [
    "# View sentiments of first 2 reviews\n",
    "movie_reviews.sentiment.head(2)"
   ]
  },
  {
   "cell_type": "markdown",
   "metadata": {},
   "source": [
    "### Word Embeddings Creation"
   ]
  },
  {
   "cell_type": "code",
   "execution_count": 59,
   "metadata": {},
   "outputs": [
    {
     "name": "stdout",
     "output_type": "stream",
     "text": [
      "50000\n"
     ]
    }
   ],
   "source": [
    "# Creating a feature vector by averaging all embeddings for all sentences\n",
    "def embedding_features(list_of_lists):\n",
    "    DIMENSION = 300\n",
    "    zero_vector = np.zeros(DIMENSION)\n",
    "    feats = []\n",
    "    for tokens in list_of_lists:\n",
    "        feat_for_this =  np.zeros(DIMENSION)\n",
    "        count_for_this = 0 + 1e-5 # to avoid divide-by-zero \n",
    "        for token in tokens:\n",
    "            if token in w2v_model:\n",
    "                feat_for_this += w2v_model[token]\n",
    "                count_for_this +=1\n",
    "        if(count_for_this!=0):\n",
    "            feats.append(feat_for_this/count_for_this) \n",
    "        else:\n",
    "            feats.append(zero_vector)\n",
    "    return feats\n",
    "\n",
    "\n",
    "train_vectors = embedding_features(movie_reviews.tokenised_cleaned)\n",
    "print(len(train_vectors))"
   ]
  },
  {
   "cell_type": "markdown",
   "metadata": {},
   "source": [
    "### Classifier Training and Testing "
   ]
  },
  {
   "cell_type": "code",
   "execution_count": 68,
   "metadata": {},
   "outputs": [
    {
     "data": {
      "text/plain": [
       "LogisticRegression(max_iter=120, random_state=1234)"
      ]
     },
     "execution_count": 68,
     "metadata": {},
     "output_type": "execute_result"
    }
   ],
   "source": [
    "# Train LogisticRegression classifier\n",
    "classifier = LogisticRegression(random_state=1234, max_iter=120)\n",
    "train_data, test_data, train_cats, test_cats = train_test_split(train_vectors, movie_reviews.sentiment)\n",
    "classifier.fit(train_data, train_cats)"
   ]
  },
  {
   "cell_type": "markdown",
   "metadata": {},
   "source": [
    "### Intrinsic Evaluation"
   ]
  },
  {
   "cell_type": "code",
   "execution_count": 76,
   "metadata": {},
   "outputs": [
    {
     "name": "stdout",
     "output_type": "stream",
     "text": [
      "Accuracy:  0.84144\n",
      "              precision    recall  f1-score   support\n",
      "\n",
      "    negative       0.85      0.83      0.84      6255\n",
      "    positive       0.84      0.85      0.84      6245\n",
      "\n",
      "    accuracy                           0.84     12500\n",
      "   macro avg       0.84      0.84      0.84     12500\n",
      "weighted avg       0.84      0.84      0.84     12500\n",
      "\n"
     ]
    }
   ],
   "source": [
    "# Get accuracy\n",
    "print(\"Accuracy: \", classifier.score(test_data, test_cats))\n",
    "\n",
    "# Get sentiments for test data\n",
    "preds = classifier.predict(test_data)\n",
    "\n",
    "# Calculate evaluation metrics\n",
    "print(classification_report(test_cats, preds))"
   ]
  },
  {
   "cell_type": "markdown",
   "metadata": {},
   "source": [
    "Result: key performance metrics looks very good, let's test this classifier in a more \"extrinsic\" way. "
   ]
  },
  {
   "cell_type": "markdown",
   "metadata": {},
   "source": [
    "### Simulation of Extrinsic Evaluation"
   ]
  },
  {
   "cell_type": "markdown",
   "metadata": {},
   "source": [
    "I gathered 10 random user reviews on the latest movies and TV series on IMDB. Each review had a score from 1 to 10 based on the IMDB rating system, so I arranged them according to their score in ascending order to test our classifier on different gradations of sentiments. If our classifier performs as good as metrics say it should give us 5 negatives at the beginning and 5 positives in the end. Let's test that. "
   ]
  },
  {
   "cell_type": "code",
   "execution_count": 80,
   "metadata": {},
   "outputs": [
    {
     "name": "stdout",
     "output_type": "stream",
     "text": [
      "[['i', 'mean', 'serious', 'holes', 'solid', 'acting', 'behalf', 'cast', 'stellar', 'either', 'a', 'pretty', 'solid', 'average', 'score', 'surprisingly', 'i', 'ryder', 'acting', 'irritating', 'cast', 'she', 'strikes', 'shrill', 'little', 'nuance', 'i', 'think', 'series', 'without'], ['i', 'finished', 'season', '4-', 'episode', 'i', 'continue', 'watch', 'season', 'events', 'always', 'moment', 'happened', 'illogical', 'traditional', 'indian', 'movies', 'especially', 'war', 'changretta', 'occasions', 'italian', 'kill', 'thomas', 'easily', 'like', 'play', 'games', 'war', 'and', 'waiting', 'kill', 'respect', 'series', 'lovers', 'respect', 'indian', 'mentioning', 'movies'], ['ms.', 'marvel', 'started', 'well', 'connecting', 'kamala', 'love', 'superhero', 'dreaming', 'fiction', 'relatable', 'so', 'i', 'thought', 'show', 'fun', 'watch', 'it', 'fun', 'series', 'suffered', 'way', 'multiverse', 'madness', 'suffered', 'villain', 'i', 'whole', 'clandestine', 'storyline', 'reasons', 'mentioned', 'enough', 'doings', 'so', 'writing', 'i', 'understand', 'concept', 'time', 'travel', 'i', 'think', 'easy', 'show', 'paradox', 'mcu', 'project', 'now', 'final', 'episode', 'childish', 'finished', 'episode', 'among', 'actors', 'i', 'loved', 'bollywood', 'actors', 'mohan', 'kapur', 'yusuf', 'khan', 'favourite', 'character', 'show', 'farhan', 'akhtar', 'short', 'screen', 'time', 'got', 'cool', 'action', 'scenes', 'well', 'fawad', 'khan', 'along', 'mehwish', 'hayat', 'shined', 'well', 'many', 'criticising', 'iman', 'vellani', 'portrayal', 'ms.', 'marvel', 'i', 'think', 'perfect', 'role', 'overall', 'okay', 'series'], ['i', 'big', 'fan', 'loved', 'this', 'i', 'thought', 'this', 'series', 'expansion', 'original', 'hp', 'movies', 'the', 'moves', 'pacing', 'the', 'special', 'effects', 'amazing', 'all', 'movies', 'series', 'look', 'amazing']]\n"
     ]
    }
   ],
   "source": [
    "# Preprocess the text.\n",
    "def preprocess_corpus(texts):\n",
    "    def remove_stops_digits(tokens):\n",
    "        # Nested function that lowercases, removes stopwords, digits if they are not from a list of tokens\n",
    "        return [token.lower() for token in tokens if token not in stop_words \n",
    "            and not token.isdigit()\n",
    "            and re.match(r'\\W+', token) is None]\n",
    "    #This return statement below uses the above function to process twitter tokenizer output further. \n",
    "    return [remove_stops_digits(word_tokenize(text)) for text in texts]\n",
    "\n",
    "reviews_processed = preprocess_corpus(reviews_for_classification)\n",
    "# Get reviews with scores 5, 6, 7, 8\n",
    "print(reviews_processed[4:8])\n"
   ]
  },
  {
   "cell_type": "code",
   "execution_count": 72,
   "metadata": {},
   "outputs": [
    {
     "data": {
      "text/plain": [
       "10"
      ]
     },
     "execution_count": 72,
     "metadata": {},
     "output_type": "execute_result"
    }
   ],
   "source": [
    "# Get the number of reviews\n",
    "len(reviews_processed)"
   ]
  },
  {
   "cell_type": "code",
   "execution_count": 73,
   "metadata": {},
   "outputs": [],
   "source": [
    "# Create word embeddings\n",
    "reviews_for_class = embedding_features(reviews_processed)"
   ]
  },
  {
   "cell_type": "code",
   "execution_count": 78,
   "metadata": {},
   "outputs": [
    {
     "data": {
      "text/plain": [
       "array(['negative', 'negative', 'negative', 'negative', 'negative',\n",
       "       'positive', 'positive', 'positive', 'positive', 'positive'],\n",
       "      dtype=object)"
      ]
     },
     "execution_count": 78,
     "metadata": {},
     "output_type": "execute_result"
    }
   ],
   "source": [
    "# Predict sentiments\n",
    "fresh_preds = classifier.predict(reviews_for_class)\n",
    "fresh_preds"
   ]
  },
  {
   "cell_type": "code",
   "execution_count": 75,
   "metadata": {},
   "outputs": [
    {
     "data": {
      "text/html": [
       "<div>\n",
       "<style scoped>\n",
       "    .dataframe tbody tr th:only-of-type {\n",
       "        vertical-align: middle;\n",
       "    }\n",
       "\n",
       "    .dataframe tbody tr th {\n",
       "        vertical-align: top;\n",
       "    }\n",
       "\n",
       "    .dataframe thead th {\n",
       "        text-align: right;\n",
       "    }\n",
       "</style>\n",
       "<table border=\"1\" class=\"dataframe\">\n",
       "  <thead>\n",
       "    <tr style=\"text-align: right;\">\n",
       "      <th></th>\n",
       "      <th>Reviews</th>\n",
       "      <th>Predicted Sentiment</th>\n",
       "    </tr>\n",
       "  </thead>\n",
       "  <tbody>\n",
       "    <tr>\n",
       "      <th>0</th>\n",
       "      <td>The first season pushes boundaries with gore and flipping the script on superhero tropes and presents a story that's interesting to follow. Season 2, on the other hand, completes forgets that the point of any story should be the plot, and focuses instead on just coming up with reasons to insert gore and violence that do not advance the plot in any tangible way. There may be a good story that you could find in season 2, if you dig down. But they cover it up with gratuitous and utterly unnecessary gore. Plenty of shows and movies have copious amounts of violence, yet still remain loyal to putting the plot first. This is not one of those. Why? Just, why?</td>\n",
       "      <td>negative</td>\n",
       "    </tr>\n",
       "    <tr>\n",
       "      <th>1</th>\n",
       "      <td>Watch three episodes and was almost bored to death. This garbage has nothing to do with the Starwars canon where Obiwan is great protector of a great cause, not the nitwit loser, going against his will to rescue one of the key figures in the StarWars universe, that is portrayed in this dumpster fire. No decant story line, not fitting in canon (have the writers even watch and understood the original series? Totally dragged out plot. Mandalorian took a fresh watchable approach? But this pile of junk is unwatchable. This series is totally unwatchable and leaves me hurt and said... What are they thinking @Disney. Just an other cash cow, and trying to cheapskate is? I don't think so. This is one of the moments that I wish I could give minus points. May the force be with you, when you try to watch this abomination, you will need it....</td>\n",
       "      <td>negative</td>\n",
       "    </tr>\n",
       "    <tr>\n",
       "      <th>2</th>\n",
       "      <td>Such a good cast completely wasted on the dullest possible take on Moon Knight. Didn't need to be a generic end of the world plot for the first season. The finale was like somebody watched Gods of Egypt and said \"Let's do this again but, much worse\". Easily the weakest of the Disney+ Marvel shows, just edging out The Falcon and the Winter Soldier. Some things work well stretched across a longer runtime but something like this just doesn't. There was like 90 minutes of actual story. The action was rubbish and they just have him black out constantly like \"I wonder whats happening? Is it Jake?\" but its just to save money on choreography or whatever. Its just incredibly bland from beginning to end. A real shame.</td>\n",
       "      <td>negative</td>\n",
       "    </tr>\n",
       "    <tr>\n",
       "      <th>3</th>\n",
       "      <td>I think that \"Loki\" was badly written and executed, and does not add much to the MCU. We already know about the Multiverse, but Marvel is constantly pushing this concept which was introduced for the first time in \"Doctor Strange\" back in 2016. It started to be old and repetitive. I have to admit that the TVA storyline is interesting but it is watered down in six episodes. The show is slow, there are a lot of empty moments where the story does not progress. Honestly they could have done a movie for Disney +, and it would be way more entertaining and less time consuming for the audience. A potentially good preamble for \"Multiverse of Madness\". There are interesting ideas, such as different Lokis, from different timelines. It was genuinely funny, but I don't like what they have done with the main characters. The God of Mischief, that was always an interesting depiction of hero/villain duality, here seems more like a scared child that does not know how to use his powers. The entire wannabe love story between him and Sylvie could have been completely cut out. Creators wanted to add too much to the plate, instead of keeping things simple and straightforward. Hence, the show, at least for me, is very chaotic and lacks vision. Action sequences are completely censored. There is no blood and no bruises, even though the characters are beating the hell out of each other. I do not understand why Disney made this childish decision, considering that in \"The Falcon and the Winter Soldier\" and in \"Black Widow\" there are some strong and explicit images. Moreover, action sequences are bland and definitely not up to Marvel standards. However, cinematography and special effects are amazing. Owen Wilson basically carried this show alone; the other actors are nowhere close to his level, not even Tom Hiddleston. I mean, the rest of the cast is composed by skillful people, but the gap is very noticeable. If in a series titled after the God of Outcasts, the only character that can grab my undivided attention is Mobius, there were clearly big issues somewhere along the way. If I gave this show four stars out of ten, it is only because of his performance. Once again Marvel and Disney think that throwing tons of money down the pipe for production design, visual effects and marketing is good enough to make an entertaining show. If you do not focus on an interesting plot and if you keep pushing for forced comedy, you'll end up with a pretty average product that cannot stand out. If the first season of this show is already so weak, I am really worried about the second one.</td>\n",
       "      <td>negative</td>\n",
       "    </tr>\n",
       "    <tr>\n",
       "      <th>4</th>\n",
       "      <td>I mean, no serious plot holes, and some solid acting on behalf of most of the cast, , but nothing stellar, either. A pretty solid, average score of 5. Surprisingly, I find Ryder's acting to be the most irritating out of anyone's in the cast. She strikes me as shrill, with very little nuance. I think the series would be much better without her.</td>\n",
       "      <td>negative</td>\n",
       "    </tr>\n",
       "    <tr>\n",
       "      <th>5</th>\n",
       "      <td>I finished season 4- episode 6. I couldn't continue to watch Season 5, because there were too many events which always at the last moment something happened which they're really illogical things \"like the traditional Indian movies\"! Especially in the war against Changretta, in many occasions the Italian could kill Thomas easily but they don't! Like they want to play games not War! And they're waiting for him to kill them. Respect for this Series' lovers, and also respect to Indian for mentioning their movies.</td>\n",
       "      <td>positive</td>\n",
       "    </tr>\n",
       "    <tr>\n",
       "      <th>6</th>\n",
       "      <td>Ms. Marvel started very well, we all were connecting to Kamala, her love for a superhero, dreaming fiction, it was all relatable. So, I thought this show would be fun to watch. It's really a fun series, but it suffered the same way Multiverse of Madness suffered - the villain plot. I didn't like that whole clandestine storyline, the reasons mentioned were not enough for their doings. So, writing was not that good. I didn't understand the concept of time travel here as I think it's not easy to show paradox in any MCU project. Now, the final episode was so childish, it would've been good if it finished in episode 5. Among the actors I loved our bollywood actors the most. Mohan Kapur's Yusuf Khan is my favourite character from the show. Farhan Akhtar in his short screen time got some cool action scenes and he did it very well. Fawad Khan along with Mehwish Hayat shined very well. Many were criticising Iman Vellani's portrayal of Ms. Marvel but I think she is perfect for this role. Overall, it was a OKAY series.</td>\n",
       "      <td>positive</td>\n",
       "    </tr>\n",
       "    <tr>\n",
       "      <th>7</th>\n",
       "      <td>I was a big fan of the first one. Loved the second one. This one I thought was great. This series is a great expansion of the original HP movies. The story is good and moves, great pacing. The special effects are amazing in this one. All of the movies in this series look amazing.</td>\n",
       "      <td>positive</td>\n",
       "    </tr>\n",
       "    <tr>\n",
       "      <th>8</th>\n",
       "      <td>Very entertaining series about superheroes, where superheroes have a life, a character, dramas and traumas... But what in my opinion raises it above the already good series is the use of music in the movie. Remarkable, impressive, needs to recognized with an award. It's been years (pulp fiction?) since I saw such a perfect use of music for the last time!</td>\n",
       "      <td>positive</td>\n",
       "    </tr>\n",
       "    <tr>\n",
       "      <th>9</th>\n",
       "      <td>The Falcon and the Winter Soldier episode 1 just streamed on Disney's Hotstar and it's one of the best thing marvel has done it terms of action, emotion as well as humour. The Blip raised a lot of dark things that superheros had to face now on. They brought into picture some real deep questions about the day to day life of superheros and genuine issues about their livelihood, Blip victims' livelihood and those who survived through the crisis in these 5 years. And the action sequences were groundbreaking as always. Really a excellent job by mcu and it was really a mind-provoking experience. Just loved it.</td>\n",
       "      <td>positive</td>\n",
       "    </tr>\n",
       "  </tbody>\n",
       "</table>\n",
       "</div>"
      ],
      "text/plain": [
       "                                                                                                                                                                                                                                                                                                                                                                                                                                                                                                                                                                                                                                                                                                                                                                                                                                                                                                                                                                                                                                                                                                                                                                                                                                                                                                                                                                                                                                                                                                                                                                                                                                                                                                                                                                                                                                                                                                                                                                                                                                                                                                                                                                                                                                                                                                                                                                                                                                                                                                                                                                                                                                                                                       Reviews  \\\n",
       "0                                                                                                                                                                                                                                                                                                                                                                                                                                                                                                                                                                                                                                                                                                                                                                                                                                                                                                                                                                                                                                                                                                                                                                                                                                                                                                                                                                                                                                                                                                                                                                                                                                                                                                                                                                                                                                                                                                                                                                                                          The first season pushes boundaries with gore and flipping the script on superhero tropes and presents a story that's interesting to follow. Season 2, on the other hand, completes forgets that the point of any story should be the plot, and focuses instead on just coming up with reasons to insert gore and violence that do not advance the plot in any tangible way. There may be a good story that you could find in season 2, if you dig down. But they cover it up with gratuitous and utterly unnecessary gore. Plenty of shows and movies have copious amounts of violence, yet still remain loyal to putting the plot first. This is not one of those. Why? Just, why?   \n",
       "1                                                                                                                                                                                                                                                                                                                                                                                                                                                                                                                                                                                                                                                                                                                                                                                                                                                                                                                                                                                                                                                                                                                                                                                                                                                                                                                                                                                                                                                                                                                                                                                                                                                                                                                                                                                                                    Watch three episodes and was almost bored to death. This garbage has nothing to do with the Starwars canon where Obiwan is great protector of a great cause, not the nitwit loser, going against his will to rescue one of the key figures in the StarWars universe, that is portrayed in this dumpster fire. No decant story line, not fitting in canon (have the writers even watch and understood the original series? Totally dragged out plot. Mandalorian took a fresh watchable approach? But this pile of junk is unwatchable. This series is totally unwatchable and leaves me hurt and said... What are they thinking @Disney. Just an other cash cow, and trying to cheapskate is? I don't think so. This is one of the moments that I wish I could give minus points. May the force be with you, when you try to watch this abomination, you will need it....   \n",
       "2                                                                                                                                                                                                                                                                                                                                                                                                                                                                                                                                                                                                                                                                                                                                                                                                                                                                                                                                                                                                                                                                                                                                                                                                                                                                                                                                                                                                                                                                                                                                                                                                                                                                                                                                                                                                                                                                                                                                                Such a good cast completely wasted on the dullest possible take on Moon Knight. Didn't need to be a generic end of the world plot for the first season. The finale was like somebody watched Gods of Egypt and said \"Let's do this again but, much worse\". Easily the weakest of the Disney+ Marvel shows, just edging out The Falcon and the Winter Soldier. Some things work well stretched across a longer runtime but something like this just doesn't. There was like 90 minutes of actual story. The action was rubbish and they just have him black out constantly like \"I wonder whats happening? Is it Jake?\" but its just to save money on choreography or whatever. Its just incredibly bland from beginning to end. A real shame.   \n",
       "3  I think that \"Loki\" was badly written and executed, and does not add much to the MCU. We already know about the Multiverse, but Marvel is constantly pushing this concept which was introduced for the first time in \"Doctor Strange\" back in 2016. It started to be old and repetitive. I have to admit that the TVA storyline is interesting but it is watered down in six episodes. The show is slow, there are a lot of empty moments where the story does not progress. Honestly they could have done a movie for Disney +, and it would be way more entertaining and less time consuming for the audience. A potentially good preamble for \"Multiverse of Madness\". There are interesting ideas, such as different Lokis, from different timelines. It was genuinely funny, but I don't like what they have done with the main characters. The God of Mischief, that was always an interesting depiction of hero/villain duality, here seems more like a scared child that does not know how to use his powers. The entire wannabe love story between him and Sylvie could have been completely cut out. Creators wanted to add too much to the plate, instead of keeping things simple and straightforward. Hence, the show, at least for me, is very chaotic and lacks vision. Action sequences are completely censored. There is no blood and no bruises, even though the characters are beating the hell out of each other. I do not understand why Disney made this childish decision, considering that in \"The Falcon and the Winter Soldier\" and in \"Black Widow\" there are some strong and explicit images. Moreover, action sequences are bland and definitely not up to Marvel standards. However, cinematography and special effects are amazing. Owen Wilson basically carried this show alone; the other actors are nowhere close to his level, not even Tom Hiddleston. I mean, the rest of the cast is composed by skillful people, but the gap is very noticeable. If in a series titled after the God of Outcasts, the only character that can grab my undivided attention is Mobius, there were clearly big issues somewhere along the way. If I gave this show four stars out of ten, it is only because of his performance. Once again Marvel and Disney think that throwing tons of money down the pipe for production design, visual effects and marketing is good enough to make an entertaining show. If you do not focus on an interesting plot and if you keep pushing for forced comedy, you'll end up with a pretty average product that cannot stand out. If the first season of this show is already so weak, I am really worried about the second one.   \n",
       "4                                                                                                                                                                                                                                                                                                                                                                                                                                                                                                                                                                                                                                                                                                                                                                                                                                                                                                                                                                                                                                                                                                                                                                                                                                                                                                                                                                                                                                                                                                                                                                                                                                                                                                                                                                                                                                                                                                                                                                                                                                                                                                                                                                                                                                                                                                                                    I mean, no serious plot holes, and some solid acting on behalf of most of the cast, , but nothing stellar, either. A pretty solid, average score of 5. Surprisingly, I find Ryder's acting to be the most irritating out of anyone's in the cast. She strikes me as shrill, with very little nuance. I think the series would be much better without her.   \n",
       "5                                                                                                                                                                                                                                                                                                                                                                                                                                                                                                                                                                                                                                                                                                                                                                                                                                                                                                                                                                                                                                                                                                                                                                                                                                                                                                                                                                                                                                                                                                                                                                                                                                                                                                                                                                                                                                                                                                                                                                                                                                                                                                                                                           I finished season 4- episode 6. I couldn't continue to watch Season 5, because there were too many events which always at the last moment something happened which they're really illogical things \"like the traditional Indian movies\"! Especially in the war against Changretta, in many occasions the Italian could kill Thomas easily but they don't! Like they want to play games not War! And they're waiting for him to kill them. Respect for this Series' lovers, and also respect to Indian for mentioning their movies.   \n",
       "6                                                                                                                                                                                                                                                                                                                                                                                                                                                                                                                                                                                                                                                                                                                                                                                                                                                                                                                                                                                                                                                                                                                                                                                                                                                                                                                                                                                                                                                                                                                                                                                                                              Ms. Marvel started very well, we all were connecting to Kamala, her love for a superhero, dreaming fiction, it was all relatable. So, I thought this show would be fun to watch. It's really a fun series, but it suffered the same way Multiverse of Madness suffered - the villain plot. I didn't like that whole clandestine storyline, the reasons mentioned were not enough for their doings. So, writing was not that good. I didn't understand the concept of time travel here as I think it's not easy to show paradox in any MCU project. Now, the final episode was so childish, it would've been good if it finished in episode 5. Among the actors I loved our bollywood actors the most. Mohan Kapur's Yusuf Khan is my favourite character from the show. Farhan Akhtar in his short screen time got some cool action scenes and he did it very well. Fawad Khan along with Mehwish Hayat shined very well. Many were criticising Iman Vellani's portrayal of Ms. Marvel but I think she is perfect for this role. Overall, it was a OKAY series.   \n",
       "7                                                                                                                                                                                                                                                                                                                                                                                                                                                                                                                                                                                                                                                                                                                                                                                                                                                                                                                                                                                                                                                                                                                                                                                                                                                                                                                                                                                                                                                                                                                                                                                                                                                                                                                                                                                                                                                                                                                                                                                                                                                                                                                                                                                                                                                                                                                                                                                                     I was a big fan of the first one. Loved the second one. This one I thought was great. This series is a great expansion of the original HP movies. The story is good and moves, great pacing. The special effects are amazing in this one. All of the movies in this series look amazing.   \n",
       "8                                                                                                                                                                                                                                                                                                                                                                                                                                                                                                                                                                                                                                                                                                                                                                                                                                                                                                                                                                                                                                                                                                                                                                                                                                                                                                                                                                                                                                                                                                                                                                                                                                                                                                                                                                                                                                                                                                                                                                                                                                                                                                                                                                                                                                                                                                                         Very entertaining series about superheroes, where superheroes have a life, a character, dramas and traumas... But what in my opinion raises it above the already good series is the use of music in the movie. Remarkable, impressive, needs to recognized with an award. It's been years (pulp fiction?) since I saw such a perfect use of music for the last time!   \n",
       "9                                                                                                                                                                                                                                                                                                                                                                                                                                                                                                                                                                                                                                                                                                                                                                                                                                                                                                                                                                                                                                                                                                                                                                                                                                                                                                                                                                                                                                                                                                                                                                                                                                                                                                                                                                                                                                                                                                                                                                                                                                                          The Falcon and the Winter Soldier episode 1 just streamed on Disney's Hotstar and it's one of the best thing marvel has done it terms of action, emotion as well as humour. The Blip raised a lot of dark things that superheros had to face now on. They brought into picture some real deep questions about the day to day life of superheros and genuine issues about their livelihood, Blip victims' livelihood and those who survived through the crisis in these 5 years. And the action sequences were groundbreaking as always. Really a excellent job by mcu and it was really a mind-provoking experience. Just loved it.   \n",
       "\n",
       "  Predicted Sentiment  \n",
       "0            negative  \n",
       "1            negative  \n",
       "2            negative  \n",
       "3            negative  \n",
       "4            negative  \n",
       "5            positive  \n",
       "6            positive  \n",
       "7            positive  \n",
       "8            positive  \n",
       "9            positive  "
      ]
     },
     "execution_count": 75,
     "metadata": {},
     "output_type": "execute_result"
    }
   ],
   "source": [
    "# Create DataFrame with 10 classified reviews\n",
    "fresh_reviews = pd.DataFrame({\n",
    "    'Reviews': reviews_for_classification,\n",
    "    'Predicted Sentiment': fresh_preds\n",
    "})\n",
    "fresh_reviews"
   ]
  },
  {
   "cell_type": "markdown",
   "metadata": {},
   "source": [
    "Result: number of negative and positive sentiments matches the predicted values, so one can say it's a good result at least with such shallow testing. \n",
    "\n",
    "## Conclusion\n",
    "Within this project we have:\n",
    "- applied heuristic methods of text analysis using `regex` to find the most common noun and verb phrases for IMDB users;\n",
    "- performed topic modelling using Latent Dirichlet Allocation model;\n",
    "- trained and tested the new  Logistic Regression classifier for binary sentiment analysis using word embeddings as a feature representation technique. \n",
    "\n",
    "All these methods, techniques and models gave us insights into different layers of the IMDB dataset, although not all of them were equally efficient and valuable from the first run and without an extensive setup. "
   ]
  }
 ],
 "metadata": {
  "interpreter": {
   "hash": "a166e61b3f1e7b9ccc9f59f78d7cc3087a9ccbb0b1a7cff444b301613a633a54"
  },
  "kernelspec": {
   "display_name": "Python 3.10.5 64-bit (windows store)",
   "language": "python",
   "name": "python3"
  },
  "language_info": {
   "codemirror_mode": {
    "name": "ipython",
    "version": 3
   },
   "file_extension": ".py",
   "mimetype": "text/x-python",
   "name": "python",
   "nbconvert_exporter": "python",
   "pygments_lexer": "ipython3",
   "version": "3.10.8"
  },
  "orig_nbformat": 4
 },
 "nbformat": 4,
 "nbformat_minor": 2
}
