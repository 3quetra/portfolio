{
 "cells": [
  {
   "cell_type": "markdown",
   "metadata": {},
   "source": [
    "# Movie Review\n",
    "\n",
    "The goal of this project is to analyse IMDB movie reviews texts using various NLP techniques and libraries. A dataset that we are going to use is ment mainly for binary sentiment classification and perform this particular type of analysis will, indeed, be our primary goal, but additionaly we'll use POS tagging to find commonly used nown and verb phrases, find the most common movie themes and topics users wrote about, determine how similar various users’ texts are (by topic, vocabulary use and Levenshtein distance) and, finally, create frequency distributions for key words/phrases. \n",
    "\n",
    "Thanks to authors of this dataset it contains substantially more data than previous benchmark datasets. They provide a set of 25,000 highly polar movie reviews for training, and 25,000 for testing. In this regard, I respectfully would like to draw your attention to their research paper: [Learning Word Vectors for Sentiment Analysis](https://aclanthology.org/P11-1015) (Maas et al., ACL 2011)\n",
    "\n",
    "## EDA\n",
    "\n",
    "Let's import necessary libraries and methods crucial for further work and look at our dataset. We are going to upload data via `pandas` to see if it would facilitate further analysis."
   ]
  },
  {
   "cell_type": "code",
   "execution_count": 1,
   "metadata": {},
   "outputs": [],
   "source": [
    "import pandas as pd\n",
    "import os\n",
    "import pickle\n",
    "import re, nltk\n",
    "from nltk import pos_tag_sents, RegexpParser\n",
    "from nltk import word_tokenize, sent_tokenize\n",
    "from IPython.display import display\n",
    "from nltk.corpus import stopwords"
   ]
  },
  {
   "cell_type": "markdown",
   "metadata": {},
   "source": [
    "Note: we are going to use `pickle` to speed up running time of certain cells after restart of a Kernel, so in some cells will be placed `pickle` functions. "
   ]
  },
  {
   "cell_type": "code",
   "execution_count": 2,
   "metadata": {},
   "outputs": [],
   "source": [
    "def pickle_object(object, file_path):\n",
    "    with open(file_path, 'wb') as f:\n",
    "        pickle.dump(object, f)\n",
    "\n",
    "def unpickle_object(file_path):\n",
    "    if not os.path.isfile(file_path):\n",
    "        return None\n",
    "    with open(file_path, 'rb') as f:\n",
    "        return pickle.load(f)\n",
    "\n",
    "def with_pickle(file_path, fun):\n",
    "    value = unpickle_object(file_path)\n",
    "    if value is None:\n",
    "        value = fun()\n",
    "        pickle_object(value, file_path)\n",
    "    return value"
   ]
  },
  {
   "cell_type": "markdown",
   "metadata": {},
   "source": [
    "Now let's upload data into `pandas` DataFrame and see first several rows. "
   ]
  },
  {
   "cell_type": "code",
   "execution_count": 3,
   "metadata": {},
   "outputs": [
    {
     "data": {
      "text/html": [
       "<div>\n",
       "<style scoped>\n",
       "    .dataframe tbody tr th:only-of-type {\n",
       "        vertical-align: middle;\n",
       "    }\n",
       "\n",
       "    .dataframe tbody tr th {\n",
       "        vertical-align: top;\n",
       "    }\n",
       "\n",
       "    .dataframe thead th {\n",
       "        text-align: right;\n",
       "    }\n",
       "</style>\n",
       "<table border=\"1\" class=\"dataframe\">\n",
       "  <thead>\n",
       "    <tr style=\"text-align: right;\">\n",
       "      <th></th>\n",
       "      <th>review</th>\n",
       "      <th>sentiment</th>\n",
       "    </tr>\n",
       "  </thead>\n",
       "  <tbody>\n",
       "    <tr>\n",
       "      <th>0</th>\n",
       "      <td>One of the other reviewers has mentioned that after watching just 1 Oz episode you'll be hooked. They are right, as this is exactly what happened with me.&lt;br /&gt;&lt;br /&gt;The first thing that struck me about Oz was its brutality and unflinching scenes of violence, which set in right from the word GO. Trust me, this is not a show for the faint hearted or timid. This show pulls no punches with regards to drugs, sex or violence. Its is hardcore, in the classic use of the word.&lt;br /&gt;&lt;br /&gt;It is called OZ as that is the nickname given to the Oswald Maximum Security State Penitentary. It focuses mainly on Emerald City, an experimental section of the prison where all the cells have glass fronts and face inwards, so privacy is not high on the agenda. Em City is home to many..Aryans, Muslims, gangstas, Latinos, Christians, Italians, Irish and more....so scuffles, death stares, dodgy dealings and shady agreements are never far away.&lt;br /&gt;&lt;br /&gt;I would say the main appeal of the show is due to the fact that it goes where other shows wouldn't dare. Forget pretty pictures painted for mainstream audiences, forget charm, forget romance...OZ doesn't mess around. The first episode I ever saw struck me as so nasty it was surreal, I couldn't say I was ready for it, but as I watched more, I developed a taste for Oz, and got accustomed to the high levels of graphic violence. Not just violence, but injustice (crooked guards who'll be sold out for a nickel, inmates who'll kill on order and get away with it, well mannered, middle class inmates being turned into prison bitches due to their lack of street skills or prison experience) Watching Oz, you may become comfortable with what is uncomfortable viewing....thats if you can get in touch with your darker side.</td>\n",
       "      <td>positive</td>\n",
       "    </tr>\n",
       "    <tr>\n",
       "      <th>1</th>\n",
       "      <td>A wonderful little production. &lt;br /&gt;&lt;br /&gt;The filming technique is very unassuming- very old-time-BBC fashion and gives a comforting, and sometimes discomforting, sense of realism to the entire piece. &lt;br /&gt;&lt;br /&gt;The actors are extremely well chosen- Michael Sheen not only \"has got all the polari\" but he has all the voices down pat too! You can truly see the seamless editing guided by the references to Williams' diary entries, not only is it well worth the watching but it is a terrificly written and performed piece. A masterful production about one of the great master's of comedy and his life. &lt;br /&gt;&lt;br /&gt;The realism really comes home with the little things: the fantasy of the guard which, rather than use the traditional 'dream' techniques remains solid then disappears. It plays on our knowledge and our senses, particularly with the scenes concerning Orton and Halliwell and the sets (particularly of their flat with Halliwell's murals decorating every surface) are terribly well done.</td>\n",
       "      <td>positive</td>\n",
       "    </tr>\n",
       "    <tr>\n",
       "      <th>2</th>\n",
       "      <td>I thought this was a wonderful way to spend time on a too hot summer weekend, sitting in the air conditioned theater and watching a light-hearted comedy. The plot is simplistic, but the dialogue is witty and the characters are likable (even the well bread suspected serial killer). While some may be disappointed when they realize this is not Match Point 2: Risk Addiction, I thought it was proof that Woody Allen is still fully in control of the style many of us have grown to love.&lt;br /&gt;&lt;br /&gt;This was the most I'd laughed at one of Woody's comedies in years (dare I say a decade?). While I've never been impressed with Scarlet Johanson, in this she managed to tone down her \"sexy\" image and jumped right into a average, but spirited young woman.&lt;br /&gt;&lt;br /&gt;This may not be the crown jewel of his career, but it was wittier than \"Devil Wears Prada\" and more interesting than \"Superman\" a great comedy to go see with friends.</td>\n",
       "      <td>positive</td>\n",
       "    </tr>\n",
       "    <tr>\n",
       "      <th>3</th>\n",
       "      <td>Basically there's a family where a little boy (Jake) thinks there's a zombie in his closet &amp; his parents are fighting all the time.&lt;br /&gt;&lt;br /&gt;This movie is slower than a soap opera... and suddenly, Jake decides to become Rambo and kill the zombie.&lt;br /&gt;&lt;br /&gt;OK, first of all when you're going to make a film you must Decide if its a thriller or a drama! As a drama the movie is watchable. Parents are divorcing &amp; arguing like in real life. And then we have Jake with his closet which totally ruins all the film! I expected to see a BOOGEYMAN similar movie, and instead i watched a drama with some meaningless thriller spots.&lt;br /&gt;&lt;br /&gt;3 out of 10 just for the well playing parents &amp; descent dialogs. As for the shots with Jake: just ignore them.</td>\n",
       "      <td>negative</td>\n",
       "    </tr>\n",
       "    <tr>\n",
       "      <th>4</th>\n",
       "      <td>Petter Mattei's \"Love in the Time of Money\" is a visually stunning film to watch. Mr. Mattei offers us a vivid portrait about human relations. This is a movie that seems to be telling us what money, power and success do to people in the different situations we encounter. &lt;br /&gt;&lt;br /&gt;This being a variation on the Arthur Schnitzler's play about the same theme, the director transfers the action to the present time New York where all these different characters meet and connect. Each one is connected in one way, or another to the next person, but no one seems to know the previous point of contact. Stylishly, the film has a sophisticated luxurious look. We are taken to see how these people live and the world they live in their own habitat.&lt;br /&gt;&lt;br /&gt;The only thing one gets out of all these souls in the picture is the different stages of loneliness each one inhabits. A big city is not exactly the best place in which human relations find sincere fulfillment, as one discerns is the case with most of the people we encounter.&lt;br /&gt;&lt;br /&gt;The acting is good under Mr. Mattei's direction. Steve Buscemi, Rosario Dawson, Carol Kane, Michael Imperioli, Adrian Grenier, and the rest of the talented cast, make these characters come alive.&lt;br /&gt;&lt;br /&gt;We wish Mr. Mattei good luck and await anxiously for his next work.</td>\n",
       "      <td>positive</td>\n",
       "    </tr>\n",
       "  </tbody>\n",
       "</table>\n",
       "</div>"
      ],
      "text/plain": [
       "                                                                                                                                                                                                                                                                                                                                                                                                                                                                                                                                                                                                                                                                                                                                                                                                                                                                                                                                                                                                                                                                                                                                                                                                                                                                                                                                                                                                                                                                                                                                                                                                                                                                                                                                                                                                                              review  \\\n",
       "0  One of the other reviewers has mentioned that after watching just 1 Oz episode you'll be hooked. They are right, as this is exactly what happened with me.<br /><br />The first thing that struck me about Oz was its brutality and unflinching scenes of violence, which set in right from the word GO. Trust me, this is not a show for the faint hearted or timid. This show pulls no punches with regards to drugs, sex or violence. Its is hardcore, in the classic use of the word.<br /><br />It is called OZ as that is the nickname given to the Oswald Maximum Security State Penitentary. It focuses mainly on Emerald City, an experimental section of the prison where all the cells have glass fronts and face inwards, so privacy is not high on the agenda. Em City is home to many..Aryans, Muslims, gangstas, Latinos, Christians, Italians, Irish and more....so scuffles, death stares, dodgy dealings and shady agreements are never far away.<br /><br />I would say the main appeal of the show is due to the fact that it goes where other shows wouldn't dare. Forget pretty pictures painted for mainstream audiences, forget charm, forget romance...OZ doesn't mess around. The first episode I ever saw struck me as so nasty it was surreal, I couldn't say I was ready for it, but as I watched more, I developed a taste for Oz, and got accustomed to the high levels of graphic violence. Not just violence, but injustice (crooked guards who'll be sold out for a nickel, inmates who'll kill on order and get away with it, well mannered, middle class inmates being turned into prison bitches due to their lack of street skills or prison experience) Watching Oz, you may become comfortable with what is uncomfortable viewing....thats if you can get in touch with your darker side.   \n",
       "1                                                                                                                                                                                                                                                                                                                                                                                                                                                                                                                                                                                                                                                                                                                                                                                             A wonderful little production. <br /><br />The filming technique is very unassuming- very old-time-BBC fashion and gives a comforting, and sometimes discomforting, sense of realism to the entire piece. <br /><br />The actors are extremely well chosen- Michael Sheen not only \"has got all the polari\" but he has all the voices down pat too! You can truly see the seamless editing guided by the references to Williams' diary entries, not only is it well worth the watching but it is a terrificly written and performed piece. A masterful production about one of the great master's of comedy and his life. <br /><br />The realism really comes home with the little things: the fantasy of the guard which, rather than use the traditional 'dream' techniques remains solid then disappears. It plays on our knowledge and our senses, particularly with the scenes concerning Orton and Halliwell and the sets (particularly of their flat with Halliwell's murals decorating every surface) are terribly well done.   \n",
       "2                                                                                                                                                                                                                                                                                                                                                                                                                                                                                                                                                                                                                                                                                                                                                                                                                                                                     I thought this was a wonderful way to spend time on a too hot summer weekend, sitting in the air conditioned theater and watching a light-hearted comedy. The plot is simplistic, but the dialogue is witty and the characters are likable (even the well bread suspected serial killer). While some may be disappointed when they realize this is not Match Point 2: Risk Addiction, I thought it was proof that Woody Allen is still fully in control of the style many of us have grown to love.<br /><br />This was the most I'd laughed at one of Woody's comedies in years (dare I say a decade?). While I've never been impressed with Scarlet Johanson, in this she managed to tone down her \"sexy\" image and jumped right into a average, but spirited young woman.<br /><br />This may not be the crown jewel of his career, but it was wittier than \"Devil Wears Prada\" and more interesting than \"Superman\" a great comedy to go see with friends.   \n",
       "3                                                                                                                                                                                                                                                                                                                                                                                                                                                                                                                                                                                                                                                                                                                                                                                                                                                                                                                                                                                                                                                       Basically there's a family where a little boy (Jake) thinks there's a zombie in his closet & his parents are fighting all the time.<br /><br />This movie is slower than a soap opera... and suddenly, Jake decides to become Rambo and kill the zombie.<br /><br />OK, first of all when you're going to make a film you must Decide if its a thriller or a drama! As a drama the movie is watchable. Parents are divorcing & arguing like in real life. And then we have Jake with his closet which totally ruins all the film! I expected to see a BOOGEYMAN similar movie, and instead i watched a drama with some meaningless thriller spots.<br /><br />3 out of 10 just for the well playing parents & descent dialogs. As for the shots with Jake: just ignore them.   \n",
       "4                                                                                                                                                                                                                                                                                                                                                                                                                                                              Petter Mattei's \"Love in the Time of Money\" is a visually stunning film to watch. Mr. Mattei offers us a vivid portrait about human relations. This is a movie that seems to be telling us what money, power and success do to people in the different situations we encounter. <br /><br />This being a variation on the Arthur Schnitzler's play about the same theme, the director transfers the action to the present time New York where all these different characters meet and connect. Each one is connected in one way, or another to the next person, but no one seems to know the previous point of contact. Stylishly, the film has a sophisticated luxurious look. We are taken to see how these people live and the world they live in their own habitat.<br /><br />The only thing one gets out of all these souls in the picture is the different stages of loneliness each one inhabits. A big city is not exactly the best place in which human relations find sincere fulfillment, as one discerns is the case with most of the people we encounter.<br /><br />The acting is good under Mr. Mattei's direction. Steve Buscemi, Rosario Dawson, Carol Kane, Michael Imperioli, Adrian Grenier, and the rest of the talented cast, make these characters come alive.<br /><br />We wish Mr. Mattei good luck and await anxiously for his next work.   \n",
       "\n",
       "  sentiment  \n",
       "0  positive  \n",
       "1  positive  \n",
       "2  positive  \n",
       "3  negative  \n",
       "4  positive  "
      ]
     },
     "execution_count": 3,
     "metadata": {},
     "output_type": "execute_result"
    }
   ],
   "source": [
    "movie_reviews = pd.read_csv('imdb_dataset.csv')\n",
    "# Display full length text in column\n",
    "pd.options.display.max_colwidth = None\n",
    "movie_reviews.head(5)"
   ]
  },
  {
   "cell_type": "markdown",
   "metadata": {},
   "source": [
    "Reviews text is medium length and does not look too noisy from the first glance. We see some HTML tags and that's basically it for the first few texts. We are going to check in depth some other \"noise issues\" of this text, but let's first check how many positive and negative reviews this dataset contains exactly. "
   ]
  },
  {
   "cell_type": "code",
   "execution_count": 4,
   "metadata": {},
   "outputs": [
    {
     "data": {
      "text/plain": [
       "25000"
      ]
     },
     "execution_count": 4,
     "metadata": {},
     "output_type": "execute_result"
    }
   ],
   "source": [
    "(movie_reviews.sentiment =='negative').sum()"
   ]
  },
  {
   "cell_type": "code",
   "execution_count": 5,
   "metadata": {},
   "outputs": [
    {
     "data": {
      "text/plain": [
       "25000"
      ]
     },
     "execution_count": 5,
     "metadata": {},
     "output_type": "execute_result"
    }
   ],
   "source": [
    "(movie_reviews.sentiment =='positive').sum() "
   ]
  },
  {
   "cell_type": "code",
   "execution_count": 6,
   "metadata": {},
   "outputs": [
    {
     "data": {
      "text/plain": [
       "50000"
      ]
     },
     "execution_count": 6,
     "metadata": {},
     "output_type": "execute_result"
    }
   ],
   "source": [
    "len(movie_reviews)"
   ]
  },
  {
   "cell_type": "markdown",
   "metadata": {},
   "source": [
    "So, of 50 thousand reviews exactly half marked as \"negative\" and the other half as \"positive\". Considering, there are only 2 columns in this DataFrame, which are \"review\" texts themselves and their \"sentiment\", there is not much quck insights we can get out of the dataset without applying NLP methods, so let's get to noise removal part.\n",
    "\n",
    "## Noise Removal\n",
    "\n",
    "We'll start with pretty standart noise removal:\n",
    "- HTML tags;\n",
    "- Links."
   ]
  },
  {
   "cell_type": "code",
   "execution_count": 7,
   "metadata": {},
   "outputs": [],
   "source": [
    "def remove_html_tags():\n",
    "    movie_reviews.review = movie_reviews.review.str.replace(r'<br />|</?(i|p|em|hr)|', '', regex=True)\n",
    "    return movie_reviews\n",
    "\n",
    "# Remove HTML tags\n",
    "movie_reviews = with_pickle('pickles/html_tags_removed.pickle', remove_html_tags)"
   ]
  },
  {
   "cell_type": "code",
   "execution_count": 8,
   "metadata": {},
   "outputs": [],
   "source": [
    "# Remove links\n",
    "movie_reviews.review = movie_reviews.review.str.replace(r'''[(http(s)?):\\/\\/(www\\.)?a-zA-Z0-9@:%._\\+~#=]{2,256}\\.[a-z]{2,6}\\b([-a-zA-Z0-9@:%_\\+.~#?&//=]*)''', '', regex=True)"
   ]
  },
  {
   "cell_type": "markdown",
   "metadata": {},
   "source": [
    "To check the results after applying our nose removal `regex` expressions and find other different flaws of this dataset we'll use pretty sophysticated codesnippet from StackOverflow which highlights user entered strings or regex expressions. \n",
    "\n",
    "Using this method we may not only check data for noise, but also find some interesting text properties, like `emoticons`. There is a huge ammount of valuable sentiment information hidden withing these symbols, yet not many public libraries are capable of their efficient interpretation. After some reseach of available libraries I decided to leave these symbols as they are, but in the future it could be benificial to \"translate\" them to text strings, meaningful for text processing algorithms. There are some examples of text containing different types of `emoticons` below. "
   ]
  },
  {
   "cell_type": "code",
   "execution_count": 9,
   "metadata": {},
   "outputs": [
    {
     "data": {
      "text/html": [
       "\n",
       "    <table>\n",
       "        <thead>\n",
       "            <th> review </th><th> sentiment </th>\n",
       "        </thead>\n",
       "    <tbody><tr><td> I have to say that this miniseries was the best interpretation of the beloved novel \"Jane Eyre\". Both Dalton and Clarke are very believable as Rochester and Jane. I've seen other versions, but none compare to this one. The best one for me. I could never imagine anyone else playing these characters ever again. The last time I saw this one was in 1984 when I was only 13. At that time, I was a bookworm and I had just read Charlotte Bronte's novel. I was completely enchanted by this miniseries and I remember not missing any of the episodes. I'd like to see it again because it's so good. <span style='color:red;'>:-)</span> </td></tr><td> positive </td></tr><tr><td> This was one of my favorite series when I was a kid. The Swedish broadcasting company decided to broadcast it once again a couple of summers ago when I had just finished my first semester of medical school. I was surprised to see the depth in which the organs was explained. Sure, some things are simplified but most of it was correct (even though it was made 22 years ago!) and quite understandable. I would suggest that all soon-to-be medical student should watch it. It is a very good way to learn some of the basic medical words for example. Now I'm in my 7th semester and I think I'll watch the series once again as soon as I've bought the DVD-box <span style='color:red;'>:-)</span> </td></tr><td> positive </td></tr></tbody></table>"
      ],
      "text/plain": [
       "<IPython.core.display.HTML object>"
      ]
     },
     "metadata": {},
     "output_type": "display_data"
    }
   ],
   "source": [
    "from IPython.display import HTML\n",
    "def display_highlighted_words(df, keywords):\n",
    "    head = \"\"\"\n",
    "    <table>\n",
    "        <thead>\n",
    "            \"\"\" + \\\n",
    "            \"\".join([\"<th> %s </th>\" % c for c in df.columns])\\\n",
    "            + \"\"\"\n",
    "        </thead>\n",
    "    <tbody>\"\"\"\n",
    "\n",
    "    for i,r in df.iterrows():\n",
    "        row = \"<tr>\"\n",
    "        for c in df.columns:\n",
    "            matches = []\n",
    "            for k in keywords:\n",
    "                for match in re.finditer(k, str(r[c])):\n",
    "                    matches.append(match)\n",
    "        \n",
    "            # reverse sorting\n",
    "            matches = sorted(matches, key = lambda x: x.start(), reverse=True)\n",
    "        \n",
    "            # building HTML row\n",
    "            cell = str(r[c])\n",
    "            for match in matches:\n",
    "                cell = cell[:match.start()] +\\\n",
    "                    \"<span style='color:red;'>%s</span>\" % cell[match.start():match.end()] +\\\n",
    "                    cell[match.end():]\n",
    "            row += \"<td> %s </td>\" % cell\n",
    "                \n",
    "            row += \"</tr>\"\n",
    "        head += row\n",
    "\n",
    "    head += \"</tbody></table>\"\n",
    "    display(HTML(head))\n",
    "\n",
    "display_highlighted_words(movie_reviews[movie_reviews.review.str.contains(r':-\\)')][:2], [':-\\)'])\n"
   ]
  },
  {
   "cell_type": "code",
   "execution_count": 10,
   "metadata": {},
   "outputs": [
    {
     "data": {
      "text/html": [
       "\n",
       "    <table>\n",
       "        <thead>\n",
       "            <th> review </th><th> sentiment </th>\n",
       "        </thead>\n",
       "    <tbody><tr><td> Since the last horrid Astérix film and the fact that we only get the Swiss German version in cinemas, here, I went to watch it with quite a bit of trepidation... Unfounded, as I was happy to discover <span style='color:red;'>^</span><span style='color:red;'>_</span><span style='color:red;'>_</span><span style='color:red;'>_</span><span style='color:red;'>_</span><span style='color:red;'>^</span>The film is funny and modern, has good gags, a good animation, an amusing character interaction, a good voice cast (Note: I can only speak for the Swiss German one!) except for the Viking chief's daughter Abba (her name is great, despite the not very inspired voice actress)...I especially liked the character Justforkix (Goudurix in French, Grautvornix in German. He's the young man who is supposed to be put in shape...). He's a very amusing portrayal of a mollycoddled, urban teenager; but he's very likable, despite the teenage mannerisms... XD The interaction between Astérix & Obélix and their young charge is fantastic and thoroughly entertaining.It shouldn't be compared to the old films, since this one is quite different... Which surprisingly doesn't make it bad. On the contrary. When they tried to modernize the last film (twelve years ago), they completely blew it. This film, however, proved that it can be done just fine... <span style='color:red;'>^</span><span style='color:red;'>-</span><span style='color:red;'>^</span>I came out of the theater cheerful... Always a good sign <span style='color:red;'>^</span><span style='color:red;'>_</span><span style='color:red;'>~</span> </td></tr><td> positive </td></tr><tr><td> Just finished watching the movie and wanted to give my own opinion(and justice) to the movie.First of all, to get things straight, this movie is not pretending to be anything other than a solid action comedy movie. It doesn't aim to revolutionize the movie industry and garner critical acclaims nor does it want to be regarded as one. If you really want to enjoy this movie to the fullest, I suggest you discard your critical<span style='color:red;'>-</span>mindedness and your longing for a good plot because you won't find any in here. With that established, let us further into the movie.I had low expectations for this movie simply because it didn't have a strong plot(Yes, moviegoers, I underrated this movie as well), but I never expected myself to enjoy this movie that much. I even enjoyed this more than the Stephen Chow flicks(which I find Kung Fu Hustle to be his best effort and would've rated it a 9 as well). Action is tight and epic while comedy chokes on to the right places.SPOILERS alert, I think The action might be unreal, but why would I want to watch a serious basketball movie anyways? There are a lot other sports movies(drama) that already did it well, why create another? SPOILERS endI'm not even sure why you're reading this. Go ahead and watch it. Just remember, no thinking <span style='color:red;'>-</span> just watch, enjoy, smile, laugh, and Every once in a while they(the movie industry) creates masterpieces such as Pulp Fiction or The Godfather movies, and sometimes they create movies which are better off in the pile of dump. I'm not saying Kung Fu Dunk deserves the recognition that the previous examples have, then again, if we're talking about Stephen Chow<span style='color:red;'>-</span>ish comedy, this one's a top ten.Highly recommended if you love: <span style='color:red;'>-</span>no brainer movies with really good action <span style='color:red;'>-</span>Kung Fu <span style='color:red;'>-</span>Death Trance <span style='color:red;'>-</span>Kung Fu and comedy <span style='color:red;'>-</span>what the heck, watch this. you'll have a great time.9/10 for you the cast of Kung Fu Dunk. <span style='color:red;'>^</span><span style='color:red;'>_</span><span style='color:red;'>^</span> </td></tr><td> positive </td></tr><tr><td> Susie Q. is one of those rare, and sweet movies that give you a warm feeling. It's bittersweet, but wholesome, and it's characters are fun, and captivating. At first, I thought the movie would be the cliché cuddly movie that would bore me after five minutes, but was I wrong. It made me tear up at times, and it's plot was enticing, making me root for the good guys. I loved the movie, and still remember it today, 9 years later!! I recommend it highly to ANYONE, and the movie is family oriented, so you won't have to worry about unsuitable content. Truly, if Disney would show more movies that are up to par as Susie Q., it would be the most popular family oriented channel in the world. Now if only Disney would show it just ONE more time!<span style='color:red;'>^</span><span style='color:red;'>_</span><span style='color:red;'>^</span> Go Susie Q.!! </td></tr><td> positive </td></tr><tr><td> Okay, this may not be the most sophisticated movie you'll ever see. Actually, there isn't a bit of \"sophisticatedlyness\"* in it. It's puerile, adolescent, inoffensive, idiotic..And utterly hilarious. Basically, Richie and Eddie run the worst hotel in Britain. Cue some ridiculous antics with the guests while they beat each other up, try to get the rent money out of the only resident who is daft enough to stay, have an all night drinking binge with the boys from the power plant next door...And fall in lust with the beautiful actress who comes to stay to avoid the press. Give it a try if you're a fan of Rik and Ade and their work. If you're not...Don't get the movie. Simple as that.*I'm not being thick, this is a word from another one of Rik's fab jaunts into the movie world <span style='color:red;'>^</span><span style='color:red;'>_</span><span style='color:red;'>^</span> </td></tr><td> positive </td></tr><tr><td> I love this movie... it can make me laugh! <span style='color:red;'>=</span><span style='color:red;'>^</span><span style='color:red;'>_</span><span style='color:red;'>^</span><span style='color:red;'>=</span> Which is kinda hard to do. This movie is one of the best cartoon adaptations ever. It doesn't warp the characters like other movies out there. Everyone is in character and has a role to play!The movie focuses around Buster and Babs going down river after a flood (courtesy of Buster), to Plucky going on a trip with Hamton (hilarious stuff), Elmyra running around torturing animals (as usual), Fifi following her crush around for an autograph, and Shirley and Fowlmouth going to the movies.In my own personal opinion, I didn't like the Buster and Babs segments that much, although they had some notable dialogue and jokes. I have got to say the Plucky and Hampton 'Vacation' parts were the best! Hamton's family is HILARIOUS! I especially like Uncle Stinky. Fifi in the hotel was also hilarious. I love the actor cameos during this scene. :DProbably the most famous part in this movie, again IMHO, is when Fowlmouth and Shirley are in the movie theater... LOL! You've got to see it to appreciate it! And when Hamton and Plucky go through the tunnel to make a wish... :)Although this movie moved slowly during the Buster/Babs parts, the rest is pure gold! I rate this movie 8/10. Show this to your kids one day... or even adults yourselves <span style='color:red;'>-</span> WATCH THIS MOVIE! You won't regret it. </td></tr><td> positive </td></tr></tbody></table>"
      ],
      "text/plain": [
       "<IPython.core.display.HTML object>"
      ]
     },
     "metadata": {},
     "output_type": "display_data"
    }
   ],
   "source": [
    "display_highlighted_words(movie_reviews[movie_reviews.review.str.contains(r'\\^_+')][2:7], ['_', '\\^', '-', '~', '='])"
   ]
  },
  {
   "cell_type": "markdown",
   "metadata": {},
   "source": [
    "Other interesting thing that is probably specific to reviews in general - users tend to give their personal score on the scale from 1 to 10, which can be a big help for machine learning algorithms if interpreted correctly. As well as `emoticons`, `user scores` are worth looking into on the further stages of algorithms tunning so I'll leave them in place with other digits for now, since they will not affect the first part of our analysis. "
   ]
  },
  {
   "cell_type": "markdown",
   "metadata": {},
   "source": [
    "## Pre-processing: phase 1\n",
    "\n",
    "Now that we removed at least some noise we are going to apply text preprocessing methods. We are going to need part of speech tagging applied to these reviews so we can use chunk grammar to determine common verb and noun phrases. To make part of speech tagging more relevant, fast and efficient we will apply the `pos_tag` method to the whole, mostly unchanged, sentence, this way parts of speech will be determined by context hence, in theory, it would yield a more accurate result. \n",
    "\n",
    "To achieve it we first are going to tokenise each review by sentence and then by words before feeding it to the `tag_sents` method."
   ]
  },
  {
   "cell_type": "code",
   "execution_count": 11,
   "metadata": {},
   "outputs": [],
   "source": [
    "def word_sent_tokenize(text):\n",
    "    word_sent_tokenized = [word_tokenize(s) for s in sent_tokenize(text)]\n",
    "    return word_sent_tokenized"
   ]
  },
  {
   "cell_type": "code",
   "execution_count": 12,
   "metadata": {},
   "outputs": [],
   "source": [
    "def tokenize_df():\n",
    "    movie_reviews['sent_tokenized'] = movie_reviews.review.apply(word_sent_tokenize)\n",
    "    return movie_reviews\n",
    "\n",
    "movie_reviews = with_pickle('pickles/sent_tokenized.pickle', tokenize_df)"
   ]
  },
  {
   "cell_type": "code",
   "execution_count": 13,
   "metadata": {},
   "outputs": [],
   "source": [
    "def tag_sents():\n",
    "    movie_reviews['sent_pos_tagged'] = movie_reviews.sent_tokenized.apply(pos_tag_sents)\n",
    "    return movie_reviews\n",
    "\n",
    "movie_reviews = with_pickle('pickles/pos_tagged.pickle', tag_sents)\n"
   ]
  },
  {
   "cell_type": "markdown",
   "metadata": {},
   "source": [
    "## Chunk Sentences\n",
    "\n",
    "Now that we have part-of-speech tagged our texts, we can move on to syntax parsing. We are going to use different mixes of chunk grammar within Noun and Verb Phrases to perform it."
   ]
  },
  {
   "cell_type": "code",
   "execution_count": 14,
   "metadata": {},
   "outputs": [],
   "source": [
    "def np_chunking_text(pos_tagged_text):\n",
    "    # Noun phrase chunk grammar\n",
    "    np_chunk_grammar = r'NP: {<JJ.*>+<NN.*>+|<NN.*>+<JJ.*>+|<RB.*>+<NN.*>+|<NN.*>+<RB.*>+|<RB.*>+<JJ.*>+|<NN.*>+<NN.*>+}'\n",
    "\n",
    "    # Create NP RegexpParser object\n",
    "    np_chunk_parser = RegexpParser(np_chunk_grammar) \n",
    "\n",
    "    np_chunked_text = [np_chunk_parser.parse(w) for w in pos_tagged_text]\n",
    "\n",
    "    return np_chunked_text"
   ]
  },
  {
   "cell_type": "code",
   "execution_count": 15,
   "metadata": {},
   "outputs": [],
   "source": [
    "def vp_chunking_text(pos_tagged_text):\n",
    "    # Verb phrase chunk grammar\n",
    "    vp_chunk_grammar = r'VP: {<JJ.*>*<RB.*>*<NN.*>+<VB.*>+|<NN.*>+<VB.*>+<JJ.*>*<RB.*>*|<RB.*>+<NN.*>+<VB.*>+|<JJ.*>+<VB.*>+}'\n",
    "\n",
    "    # Create VP RegexpParser object\n",
    "    vp_chunk_parser = RegexpParser(vp_chunk_grammar) \n",
    "\n",
    "    vp_chunked_text = [vp_chunk_parser.parse(w) for w in pos_tagged_text]\n",
    "\n",
    "    return vp_chunked_text\n"
   ]
  },
  {
   "cell_type": "code",
   "execution_count": 16,
   "metadata": {},
   "outputs": [],
   "source": [
    "def np_rows_chunking():\n",
    "    movie_reviews['np_chunked'] = movie_reviews.sent_pos_tagged.apply(np_chunking_text)\n",
    "    return movie_reviews\n",
    "\n",
    "movie_reviews = with_pickle('pickles/np_chunked.pickle', np_rows_chunking)\n"
   ]
  },
  {
   "cell_type": "code",
   "execution_count": 17,
   "metadata": {},
   "outputs": [],
   "source": [
    "def vp_rows_chunking():\n",
    "    movie_reviews['vp_chunked'] = movie_reviews.sent_pos_tagged.apply(vp_chunking_text)\n",
    "    return movie_reviews\n",
    "\n",
    "movie_reviews = with_pickle('pickles/vp_chunked.pickle', vp_rows_chunking)"
   ]
  },
  {
   "cell_type": "code",
   "execution_count": 18,
   "metadata": {},
   "outputs": [
    {
     "data": {
      "image/svg+xml": "<svg baseProfile=\"full\" height=\"168px\" preserveAspectRatio=\"xMidYMid meet\" style=\"font-family: times, serif; font-weight:normal; font-style: normal; font-size: 16px;\" version=\"1.1\" viewBox=\"0,0,2480.0,168.0\" width=\"2480px\" xmlns=\"http://www.w3.org/2000/svg\" xmlns:ev=\"http://www.w3.org/2001/xml-events\" xmlns:xlink=\"http://www.w3.org/1999/xlink\"><defs /><svg width=\"100%\" x=\"0\" y=\"0em\"><defs /><text text-anchor=\"middle\" x=\"50%\" y=\"1em\">S</text></svg><svg width=\"1.6129%\" x=\"0%\" y=\"3em\"><defs /><svg width=\"100%\" x=\"0\" y=\"0em\"><defs /><text text-anchor=\"middle\" x=\"50%\" y=\"1em\">He</text></svg><svg width=\"100%\" x=\"0%\" y=\"3em\"><defs /><svg width=\"100%\" x=\"0\" y=\"0em\"><defs /><text text-anchor=\"middle\" x=\"50%\" y=\"1em\">PRP</text></svg></svg><line stroke=\"black\" x1=\"50%\" x2=\"50%\" y1=\"1.2em\" y2=\"3em\" /></svg><line stroke=\"black\" x1=\"50%\" x2=\"0.806452%\" y1=\"1.2em\" y2=\"3em\" /><svg width=\"2.25806%\" x=\"1.6129%\" y=\"3em\"><defs /><svg width=\"100%\" x=\"0\" y=\"0em\"><defs /><text text-anchor=\"middle\" x=\"50%\" y=\"1em\">sites</text></svg><svg width=\"100%\" x=\"0%\" y=\"3em\"><defs /><svg width=\"100%\" x=\"0\" y=\"0em\"><defs /><text text-anchor=\"middle\" x=\"50%\" y=\"1em\">VBZ</text></svg></svg><line stroke=\"black\" x1=\"50%\" x2=\"50%\" y1=\"1.2em\" y2=\"3em\" /></svg><line stroke=\"black\" x1=\"50%\" x2=\"2.74194%\" y1=\"1.2em\" y2=\"3em\" /><svg width=\"6.77419%\" x=\"3.87097%\" y=\"3em\"><defs /><svg width=\"100%\" x=\"0\" y=\"0em\"><defs /><text text-anchor=\"middle\" x=\"50%\" y=\"1em\">NP</text></svg><svg width=\"42.8571%\" x=\"0%\" y=\"3em\"><defs /><svg width=\"100%\" x=\"0\" y=\"0em\"><defs /><text text-anchor=\"middle\" x=\"50%\" y=\"1em\">profane</text></svg><svg width=\"100%\" x=\"0%\" y=\"3em\"><defs /><svg width=\"100%\" x=\"0\" y=\"0em\"><defs /><text text-anchor=\"middle\" x=\"50%\" y=\"1em\">JJ</text></svg></svg><line stroke=\"black\" x1=\"50%\" x2=\"50%\" y1=\"1.2em\" y2=\"3em\" /></svg><line stroke=\"black\" x1=\"50%\" x2=\"21.4286%\" y1=\"1.2em\" y2=\"3em\" /><svg width=\"57.1429%\" x=\"42.8571%\" y=\"3em\"><defs /><svg width=\"100%\" x=\"0\" y=\"0em\"><defs /><text text-anchor=\"middle\" x=\"50%\" y=\"1em\">literature</text></svg><svg width=\"100%\" x=\"0%\" y=\"3em\"><defs /><svg width=\"100%\" x=\"0\" y=\"0em\"><defs /><text text-anchor=\"middle\" x=\"50%\" y=\"1em\">NN</text></svg></svg><line stroke=\"black\" x1=\"50%\" x2=\"50%\" y1=\"1.2em\" y2=\"3em\" /></svg><line stroke=\"black\" x1=\"50%\" x2=\"71.4286%\" y1=\"1.2em\" y2=\"3em\" /></svg><line stroke=\"black\" x1=\"50%\" x2=\"7.25806%\" y1=\"1.2em\" y2=\"3em\" /><svg width=\"0.967742%\" x=\"10.6452%\" y=\"3em\"><defs /><svg width=\"100%\" x=\"0\" y=\"0em\"><defs /><text text-anchor=\"middle\" x=\"50%\" y=\"1em\">(</text></svg><svg width=\"100%\" x=\"0%\" y=\"3em\"><defs /><svg width=\"100%\" x=\"0\" y=\"0em\"><defs /><text text-anchor=\"middle\" x=\"50%\" y=\"1em\">(</text></svg></svg><line stroke=\"black\" x1=\"50%\" x2=\"50%\" y1=\"1.2em\" y2=\"3em\" /></svg><line stroke=\"black\" x1=\"50%\" x2=\"11.129%\" y1=\"1.2em\" y2=\"3em\" /><svg width=\"3.22581%\" x=\"11.6129%\" y=\"3em\"><defs /><svg width=\"100%\" x=\"0\" y=\"0em\"><defs /><text text-anchor=\"middle\" x=\"50%\" y=\"1em\">writings</text></svg><svg width=\"100%\" x=\"0%\" y=\"3em\"><defs /><svg width=\"100%\" x=\"0\" y=\"0em\"><defs /><text text-anchor=\"middle\" x=\"50%\" y=\"1em\">NNS</text></svg></svg><line stroke=\"black\" x1=\"50%\" x2=\"50%\" y1=\"1.2em\" y2=\"3em\" /></svg><line stroke=\"black\" x1=\"50%\" x2=\"13.2258%\" y1=\"1.2em\" y2=\"3em\" /><svg width=\"1.93548%\" x=\"14.8387%\" y=\"3em\"><defs /><svg width=\"100%\" x=\"0\" y=\"0em\"><defs /><text text-anchor=\"middle\" x=\"50%\" y=\"1em\">from</text></svg><svg width=\"100%\" x=\"0%\" y=\"3em\"><defs /><svg width=\"100%\" x=\"0\" y=\"0em\"><defs /><text text-anchor=\"middle\" x=\"50%\" y=\"1em\">IN</text></svg></svg><line stroke=\"black\" x1=\"50%\" x2=\"50%\" y1=\"1.2em\" y2=\"3em\" /></svg><line stroke=\"black\" x1=\"50%\" x2=\"15.8065%\" y1=\"1.2em\" y2=\"3em\" /><svg width=\"1.6129%\" x=\"16.7742%\" y=\"3em\"><defs /><svg width=\"100%\" x=\"0\" y=\"0em\"><defs /><text text-anchor=\"middle\" x=\"50%\" y=\"1em\">the</text></svg><svg width=\"100%\" x=\"0%\" y=\"3em\"><defs /><svg width=\"100%\" x=\"0\" y=\"0em\"><defs /><text text-anchor=\"middle\" x=\"50%\" y=\"1em\">DT</text></svg></svg><line stroke=\"black\" x1=\"50%\" x2=\"50%\" y1=\"1.2em\" y2=\"3em\" /></svg><line stroke=\"black\" x1=\"50%\" x2=\"17.5806%\" y1=\"1.2em\" y2=\"3em\" /><svg width=\"6.45161%\" x=\"18.3871%\" y=\"3em\"><defs /><svg width=\"100%\" x=\"0\" y=\"0em\"><defs /><text text-anchor=\"middle\" x=\"50%\" y=\"1em\">NP</text></svg><svg width=\"30%\" x=\"0%\" y=\"3em\"><defs /><svg width=\"100%\" x=\"0\" y=\"0em\"><defs /><text text-anchor=\"middle\" x=\"50%\" y=\"1em\">same</text></svg><svg width=\"100%\" x=\"0%\" y=\"3em\"><defs /><svg width=\"100%\" x=\"0\" y=\"0em\"><defs /><text text-anchor=\"middle\" x=\"50%\" y=\"1em\">JJ</text></svg></svg><line stroke=\"black\" x1=\"50%\" x2=\"50%\" y1=\"1.2em\" y2=\"3em\" /></svg><line stroke=\"black\" x1=\"50%\" x2=\"15%\" y1=\"1.2em\" y2=\"3em\" /><svg width=\"30%\" x=\"30%\" y=\"3em\"><defs /><svg width=\"100%\" x=\"0\" y=\"0em\"><defs /><text text-anchor=\"middle\" x=\"50%\" y=\"1em\">time</text></svg><svg width=\"100%\" x=\"0%\" y=\"3em\"><defs /><svg width=\"100%\" x=\"0\" y=\"0em\"><defs /><text text-anchor=\"middle\" x=\"50%\" y=\"1em\">NN</text></svg></svg><line stroke=\"black\" x1=\"50%\" x2=\"50%\" y1=\"1.2em\" y2=\"3em\" /></svg><line stroke=\"black\" x1=\"50%\" x2=\"45%\" y1=\"1.2em\" y2=\"3em\" /><svg width=\"40%\" x=\"60%\" y=\"3em\"><defs /><svg width=\"100%\" x=\"0\" y=\"0em\"><defs /><text text-anchor=\"middle\" x=\"50%\" y=\"1em\">period</text></svg><svg width=\"100%\" x=\"0%\" y=\"3em\"><defs /><svg width=\"100%\" x=\"0\" y=\"0em\"><defs /><text text-anchor=\"middle\" x=\"50%\" y=\"1em\">NN</text></svg></svg><line stroke=\"black\" x1=\"50%\" x2=\"50%\" y1=\"1.2em\" y2=\"3em\" /></svg><line stroke=\"black\" x1=\"50%\" x2=\"80%\" y1=\"1.2em\" y2=\"3em\" /></svg><line stroke=\"black\" x1=\"50%\" x2=\"21.6129%\" y1=\"1.2em\" y2=\"3em\" /><svg width=\"1.6129%\" x=\"24.8387%\" y=\"3em\"><defs /><svg width=\"100%\" x=\"0\" y=\"0em\"><defs /><text text-anchor=\"middle\" x=\"50%\" y=\"1em\">but</text></svg><svg width=\"100%\" x=\"0%\" y=\"3em\"><defs /><svg width=\"100%\" x=\"0\" y=\"0em\"><defs /><text text-anchor=\"middle\" x=\"50%\" y=\"1em\">CC</text></svg></svg><line stroke=\"black\" x1=\"50%\" x2=\"50%\" y1=\"1.2em\" y2=\"3em\" /></svg><line stroke=\"black\" x1=\"50%\" x2=\"25.6452%\" y1=\"1.2em\" y2=\"3em\" /><svg width=\"1.6129%\" x=\"26.4516%\" y=\"3em\"><defs /><svg width=\"100%\" x=\"0\" y=\"0em\"><defs /><text text-anchor=\"middle\" x=\"50%\" y=\"1em\">not</text></svg><svg width=\"100%\" x=\"0%\" y=\"3em\"><defs /><svg width=\"100%\" x=\"0\" y=\"0em\"><defs /><text text-anchor=\"middle\" x=\"50%\" y=\"1em\">RB</text></svg></svg><line stroke=\"black\" x1=\"50%\" x2=\"50%\" y1=\"1.2em\" y2=\"3em\" /></svg><line stroke=\"black\" x1=\"50%\" x2=\"27.2581%\" y1=\"1.2em\" y2=\"3em\" /><svg width=\"3.54839%\" x=\"28.0645%\" y=\"3em\"><defs /><svg width=\"100%\" x=\"0\" y=\"0em\"><defs /><text text-anchor=\"middle\" x=\"50%\" y=\"1em\">connected</text></svg><svg width=\"100%\" x=\"0%\" y=\"3em\"><defs /><svg width=\"100%\" x=\"0\" y=\"0em\"><defs /><text text-anchor=\"middle\" x=\"50%\" y=\"1em\">VBN</text></svg></svg><line stroke=\"black\" x1=\"50%\" x2=\"50%\" y1=\"1.2em\" y2=\"3em\" /></svg><line stroke=\"black\" x1=\"50%\" x2=\"29.8387%\" y1=\"1.2em\" y2=\"3em\" /><svg width=\"1.93548%\" x=\"31.6129%\" y=\"3em\"><defs /><svg width=\"100%\" x=\"0\" y=\"0em\"><defs /><text text-anchor=\"middle\" x=\"50%\" y=\"1em\">with</text></svg><svg width=\"100%\" x=\"0%\" y=\"3em\"><defs /><svg width=\"100%\" x=\"0\" y=\"0em\"><defs /><text text-anchor=\"middle\" x=\"50%\" y=\"1em\">IN</text></svg></svg><line stroke=\"black\" x1=\"50%\" x2=\"50%\" y1=\"1.2em\" y2=\"3em\" /></svg><line stroke=\"black\" x1=\"50%\" x2=\"32.5806%\" y1=\"1.2em\" y2=\"3em\" /><svg width=\"1.6129%\" x=\"33.5484%\" y=\"3em\"><defs /><svg width=\"100%\" x=\"0\" y=\"0em\"><defs /><text text-anchor=\"middle\" x=\"50%\" y=\"1em\">the</text></svg><svg width=\"100%\" x=\"0%\" y=\"3em\"><defs /><svg width=\"100%\" x=\"0\" y=\"0em\"><defs /><text text-anchor=\"middle\" x=\"50%\" y=\"1em\">DT</text></svg></svg><line stroke=\"black\" x1=\"50%\" x2=\"50%\" y1=\"1.2em\" y2=\"3em\" /></svg><line stroke=\"black\" x1=\"50%\" x2=\"34.3548%\" y1=\"1.2em\" y2=\"3em\" /><svg width=\"2.25806%\" x=\"35.1613%\" y=\"3em\"><defs /><svg width=\"100%\" x=\"0\" y=\"0em\"><defs /><text text-anchor=\"middle\" x=\"50%\" y=\"1em\">bible</text></svg><svg width=\"100%\" x=\"0%\" y=\"3em\"><defs /><svg width=\"100%\" x=\"0\" y=\"0em\"><defs /><text text-anchor=\"middle\" x=\"50%\" y=\"1em\">NN</text></svg></svg><line stroke=\"black\" x1=\"50%\" x2=\"50%\" y1=\"1.2em\" y2=\"3em\" /></svg><line stroke=\"black\" x1=\"50%\" x2=\"36.2903%\" y1=\"1.2em\" y2=\"3em\" /><svg width=\"0.967742%\" x=\"37.4194%\" y=\"3em\"><defs /><svg width=\"100%\" x=\"0\" y=\"0em\"><defs /><text text-anchor=\"middle\" x=\"50%\" y=\"1em\">)</text></svg><svg width=\"100%\" x=\"0%\" y=\"3em\"><defs /><svg width=\"100%\" x=\"0\" y=\"0em\"><defs /><text text-anchor=\"middle\" x=\"50%\" y=\"1em\">)</text></svg></svg><line stroke=\"black\" x1=\"50%\" x2=\"50%\" y1=\"1.2em\" y2=\"3em\" /></svg><line stroke=\"black\" x1=\"50%\" x2=\"37.9032%\" y1=\"1.2em\" y2=\"3em\" /><svg width=\"1.29032%\" x=\"38.3871%\" y=\"3em\"><defs /><svg width=\"100%\" x=\"0\" y=\"0em\"><defs /><text text-anchor=\"middle\" x=\"50%\" y=\"1em\">a</text></svg><svg width=\"100%\" x=\"0%\" y=\"3em\"><defs /><svg width=\"100%\" x=\"0\" y=\"0em\"><defs /><text text-anchor=\"middle\" x=\"50%\" y=\"1em\">DT</text></svg></svg><line stroke=\"black\" x1=\"50%\" x2=\"50%\" y1=\"1.2em\" y2=\"3em\" /></svg><line stroke=\"black\" x1=\"50%\" x2=\"39.0323%\" y1=\"1.2em\" y2=\"3em\" /><svg width=\"2.58065%\" x=\"39.6774%\" y=\"3em\"><defs /><svg width=\"100%\" x=\"0\" y=\"0em\"><defs /><text text-anchor=\"middle\" x=\"50%\" y=\"1em\">number</text></svg><svg width=\"100%\" x=\"0%\" y=\"3em\"><defs /><svg width=\"100%\" x=\"0\" y=\"0em\"><defs /><text text-anchor=\"middle\" x=\"50%\" y=\"1em\">NN</text></svg></svg><line stroke=\"black\" x1=\"50%\" x2=\"50%\" y1=\"1.2em\" y2=\"3em\" /></svg><line stroke=\"black\" x1=\"50%\" x2=\"40.9677%\" y1=\"1.2em\" y2=\"3em\" /><svg width=\"1.29032%\" x=\"42.2581%\" y=\"3em\"><defs /><svg width=\"100%\" x=\"0\" y=\"0em\"><defs /><text text-anchor=\"middle\" x=\"50%\" y=\"1em\">of</text></svg><svg width=\"100%\" x=\"0%\" y=\"3em\"><defs /><svg width=\"100%\" x=\"0\" y=\"0em\"><defs /><text text-anchor=\"middle\" x=\"50%\" y=\"1em\">IN</text></svg></svg><line stroke=\"black\" x1=\"50%\" x2=\"50%\" y1=\"1.2em\" y2=\"3em\" /></svg><line stroke=\"black\" x1=\"50%\" x2=\"42.9032%\" y1=\"1.2em\" y2=\"3em\" /><svg width=\"5.16129%\" x=\"43.5484%\" y=\"3em\"><defs /><svg width=\"100%\" x=\"0\" y=\"0em\"><defs /><text text-anchor=\"middle\" x=\"50%\" y=\"1em\">NP</text></svg><svg width=\"43.75%\" x=\"0%\" y=\"3em\"><defs /><svg width=\"100%\" x=\"0\" y=\"0em\"><defs /><text text-anchor=\"middle\" x=\"50%\" y=\"1em\">times</text></svg><svg width=\"100%\" x=\"0%\" y=\"3em\"><defs /><svg width=\"100%\" x=\"0\" y=\"0em\"><defs /><text text-anchor=\"middle\" x=\"50%\" y=\"1em\">NNS</text></svg></svg><line stroke=\"black\" x1=\"50%\" x2=\"50%\" y1=\"1.2em\" y2=\"3em\" /></svg><line stroke=\"black\" x1=\"50%\" x2=\"21.875%\" y1=\"1.2em\" y2=\"3em\" /><svg width=\"56.25%\" x=\"43.75%\" y=\"3em\"><defs /><svg width=\"100%\" x=\"0\" y=\"0em\"><defs /><text text-anchor=\"middle\" x=\"50%\" y=\"1em\">however</text></svg><svg width=\"100%\" x=\"0%\" y=\"3em\"><defs /><svg width=\"100%\" x=\"0\" y=\"0em\"><defs /><text text-anchor=\"middle\" x=\"50%\" y=\"1em\">RB</text></svg></svg><line stroke=\"black\" x1=\"50%\" x2=\"50%\" y1=\"1.2em\" y2=\"3em\" /></svg><line stroke=\"black\" x1=\"50%\" x2=\"71.875%\" y1=\"1.2em\" y2=\"3em\" /></svg><line stroke=\"black\" x1=\"50%\" x2=\"46.129%\" y1=\"1.2em\" y2=\"3em\" /><svg width=\"1.6129%\" x=\"48.7097%\" y=\"3em\"><defs /><svg width=\"100%\" x=\"0\" y=\"0em\"><defs /><text text-anchor=\"middle\" x=\"50%\" y=\"1em\">I</text></svg><svg width=\"100%\" x=\"0%\" y=\"3em\"><defs /><svg width=\"100%\" x=\"0\" y=\"0em\"><defs /><text text-anchor=\"middle\" x=\"50%\" y=\"1em\">PRP</text></svg></svg><line stroke=\"black\" x1=\"50%\" x2=\"50%\" y1=\"1.2em\" y2=\"3em\" /></svg><line stroke=\"black\" x1=\"50%\" x2=\"49.5161%\" y1=\"1.2em\" y2=\"3em\" /><svg width=\"1.6129%\" x=\"50.3226%\" y=\"3em\"><defs /><svg width=\"100%\" x=\"0\" y=\"0em\"><defs /><text text-anchor=\"middle\" x=\"50%\" y=\"1em\">can</text></svg><svg width=\"100%\" x=\"0%\" y=\"3em\"><defs /><svg width=\"100%\" x=\"0\" y=\"0em\"><defs /><text text-anchor=\"middle\" x=\"50%\" y=\"1em\">MD</text></svg></svg><line stroke=\"black\" x1=\"50%\" x2=\"50%\" y1=\"1.2em\" y2=\"3em\" /></svg><line stroke=\"black\" x1=\"50%\" x2=\"51.129%\" y1=\"1.2em\" y2=\"3em\" /><svg width=\"2.25806%\" x=\"51.9355%\" y=\"3em\"><defs /><svg width=\"100%\" x=\"0\" y=\"0em\"><defs /><text text-anchor=\"middle\" x=\"50%\" y=\"1em\">think</text></svg><svg width=\"100%\" x=\"0%\" y=\"3em\"><defs /><svg width=\"100%\" x=\"0\" y=\"0em\"><defs /><text text-anchor=\"middle\" x=\"50%\" y=\"1em\">VB</text></svg></svg><line stroke=\"black\" x1=\"50%\" x2=\"50%\" y1=\"1.2em\" y2=\"3em\" /></svg><line stroke=\"black\" x1=\"50%\" x2=\"53.0645%\" y1=\"1.2em\" y2=\"3em\" /><svg width=\"1.29032%\" x=\"54.1935%\" y=\"3em\"><defs /><svg width=\"100%\" x=\"0\" y=\"0em\"><defs /><text text-anchor=\"middle\" x=\"50%\" y=\"1em\">of</text></svg><svg width=\"100%\" x=\"0%\" y=\"3em\"><defs /><svg width=\"100%\" x=\"0\" y=\"0em\"><defs /><text text-anchor=\"middle\" x=\"50%\" y=\"1em\">IN</text></svg></svg><line stroke=\"black\" x1=\"50%\" x2=\"50%\" y1=\"1.2em\" y2=\"3em\" /></svg><line stroke=\"black\" x1=\"50%\" x2=\"54.8387%\" y1=\"1.2em\" y2=\"3em\" /><svg width=\"1.29032%\" x=\"55.4839%\" y=\"3em\"><defs /><svg width=\"100%\" x=\"0\" y=\"0em\"><defs /><text text-anchor=\"middle\" x=\"50%\" y=\"1em\">at</text></svg><svg width=\"100%\" x=\"0%\" y=\"3em\"><defs /><svg width=\"100%\" x=\"0\" y=\"0em\"><defs /><text text-anchor=\"middle\" x=\"50%\" y=\"1em\">IN</text></svg></svg><line stroke=\"black\" x1=\"50%\" x2=\"50%\" y1=\"1.2em\" y2=\"3em\" /></svg><line stroke=\"black\" x1=\"50%\" x2=\"56.129%\" y1=\"1.2em\" y2=\"3em\" /><svg width=\"2.25806%\" x=\"56.7742%\" y=\"3em\"><defs /><svg width=\"100%\" x=\"0\" y=\"0em\"><defs /><text text-anchor=\"middle\" x=\"50%\" y=\"1em\">least</text></svg><svg width=\"100%\" x=\"0%\" y=\"3em\"><defs /><svg width=\"100%\" x=\"0\" y=\"0em\"><defs /><text text-anchor=\"middle\" x=\"50%\" y=\"1em\">JJS</text></svg></svg><line stroke=\"black\" x1=\"50%\" x2=\"50%\" y1=\"1.2em\" y2=\"3em\" /></svg><line stroke=\"black\" x1=\"50%\" x2=\"57.9032%\" y1=\"1.2em\" y2=\"3em\" /><svg width=\"2.25806%\" x=\"59.0323%\" y=\"3em\"><defs /><svg width=\"100%\" x=\"0\" y=\"0em\"><defs /><text text-anchor=\"middle\" x=\"50%\" y=\"1em\">three</text></svg><svg width=\"100%\" x=\"0%\" y=\"3em\"><defs /><svg width=\"100%\" x=\"0\" y=\"0em\"><defs /><text text-anchor=\"middle\" x=\"50%\" y=\"1em\">CD</text></svg></svg><line stroke=\"black\" x1=\"50%\" x2=\"50%\" y1=\"1.2em\" y2=\"3em\" /></svg><line stroke=\"black\" x1=\"50%\" x2=\"60.1613%\" y1=\"1.2em\" y2=\"3em\" /><svg width=\"3.87097%\" x=\"61.2903%\" y=\"3em\"><defs /><svg width=\"100%\" x=\"0\" y=\"0em\"><defs /><text text-anchor=\"middle\" x=\"50%\" y=\"1em\">references</text></svg><svg width=\"100%\" x=\"0%\" y=\"3em\"><defs /><svg width=\"100%\" x=\"0\" y=\"0em\"><defs /><text text-anchor=\"middle\" x=\"50%\" y=\"1em\">NNS</text></svg></svg><line stroke=\"black\" x1=\"50%\" x2=\"50%\" y1=\"1.2em\" y2=\"3em\" /></svg><line stroke=\"black\" x1=\"50%\" x2=\"63.2258%\" y1=\"1.2em\" y2=\"3em\" /><svg width=\"1.6129%\" x=\"65.1613%\" y=\"3em\"><defs /><svg width=\"100%\" x=\"0\" y=\"0em\"><defs /><text text-anchor=\"middle\" x=\"50%\" y=\"1em\">off</text></svg><svg width=\"100%\" x=\"0%\" y=\"3em\"><defs /><svg width=\"100%\" x=\"0\" y=\"0em\"><defs /><text text-anchor=\"middle\" x=\"50%\" y=\"1em\">IN</text></svg></svg><line stroke=\"black\" x1=\"50%\" x2=\"50%\" y1=\"1.2em\" y2=\"3em\" /></svg><line stroke=\"black\" x1=\"50%\" x2=\"65.9677%\" y1=\"1.2em\" y2=\"3em\" /><svg width=\"1.6129%\" x=\"66.7742%\" y=\"3em\"><defs /><svg width=\"100%\" x=\"0\" y=\"0em\"><defs /><text text-anchor=\"middle\" x=\"50%\" y=\"1em\">the</text></svg><svg width=\"100%\" x=\"0%\" y=\"3em\"><defs /><svg width=\"100%\" x=\"0\" y=\"0em\"><defs /><text text-anchor=\"middle\" x=\"50%\" y=\"1em\">DT</text></svg></svg><line stroke=\"black\" x1=\"50%\" x2=\"50%\" y1=\"1.2em\" y2=\"3em\" /></svg><line stroke=\"black\" x1=\"50%\" x2=\"67.5806%\" y1=\"1.2em\" y2=\"3em\" /><svg width=\"1.6129%\" x=\"68.3871%\" y=\"3em\"><defs /><svg width=\"100%\" x=\"0\" y=\"0em\"><defs /><text text-anchor=\"middle\" x=\"50%\" y=\"1em\">top</text></svg><svg width=\"100%\" x=\"0%\" y=\"3em\"><defs /><svg width=\"100%\" x=\"0\" y=\"0em\"><defs /><text text-anchor=\"middle\" x=\"50%\" y=\"1em\">NN</text></svg></svg><line stroke=\"black\" x1=\"50%\" x2=\"50%\" y1=\"1.2em\" y2=\"3em\" /></svg><line stroke=\"black\" x1=\"50%\" x2=\"69.1935%\" y1=\"1.2em\" y2=\"3em\" /><svg width=\"1.29032%\" x=\"70%\" y=\"3em\"><defs /><svg width=\"100%\" x=\"0\" y=\"0em\"><defs /><text text-anchor=\"middle\" x=\"50%\" y=\"1em\">of</text></svg><svg width=\"100%\" x=\"0%\" y=\"3em\"><defs /><svg width=\"100%\" x=\"0\" y=\"0em\"><defs /><text text-anchor=\"middle\" x=\"50%\" y=\"1em\">IN</text></svg></svg><line stroke=\"black\" x1=\"50%\" x2=\"50%\" y1=\"1.2em\" y2=\"3em\" /></svg><line stroke=\"black\" x1=\"50%\" x2=\"70.6452%\" y1=\"1.2em\" y2=\"3em\" /><svg width=\"1.93548%\" x=\"71.2903%\" y=\"3em\"><defs /><svg width=\"100%\" x=\"0\" y=\"0em\"><defs /><text text-anchor=\"middle\" x=\"50%\" y=\"1em\">my</text></svg><svg width=\"100%\" x=\"0%\" y=\"3em\"><defs /><svg width=\"100%\" x=\"0\" y=\"0em\"><defs /><text text-anchor=\"middle\" x=\"50%\" y=\"1em\">PRP$</text></svg></svg><line stroke=\"black\" x1=\"50%\" x2=\"50%\" y1=\"1.2em\" y2=\"3em\" /></svg><line stroke=\"black\" x1=\"50%\" x2=\"72.2581%\" y1=\"1.2em\" y2=\"3em\" /><svg width=\"1.93548%\" x=\"73.2258%\" y=\"3em\"><defs /><svg width=\"100%\" x=\"0\" y=\"0em\"><defs /><text text-anchor=\"middle\" x=\"50%\" y=\"1em\">head</text></svg><svg width=\"100%\" x=\"0%\" y=\"3em\"><defs /><svg width=\"100%\" x=\"0\" y=\"0em\"><defs /><text text-anchor=\"middle\" x=\"50%\" y=\"1em\">NN</text></svg></svg><line stroke=\"black\" x1=\"50%\" x2=\"50%\" y1=\"1.2em\" y2=\"3em\" /></svg><line stroke=\"black\" x1=\"50%\" x2=\"74.1935%\" y1=\"1.2em\" y2=\"3em\" /><svg width=\"2.25806%\" x=\"75.1613%\" y=\"3em\"><defs /><svg width=\"100%\" x=\"0\" y=\"0em\"><defs /><text text-anchor=\"middle\" x=\"50%\" y=\"1em\">which</text></svg><svg width=\"100%\" x=\"0%\" y=\"3em\"><defs /><svg width=\"100%\" x=\"0\" y=\"0em\"><defs /><text text-anchor=\"middle\" x=\"50%\" y=\"1em\">WDT</text></svg></svg><line stroke=\"black\" x1=\"50%\" x2=\"50%\" y1=\"1.2em\" y2=\"3em\" /></svg><line stroke=\"black\" x1=\"50%\" x2=\"76.2903%\" y1=\"1.2em\" y2=\"3em\" /><svg width=\"1.93548%\" x=\"77.4194%\" y=\"3em\"><defs /><svg width=\"100%\" x=\"0\" y=\"0em\"><defs /><text text-anchor=\"middle\" x=\"50%\" y=\"1em\">lend</text></svg><svg width=\"100%\" x=\"0%\" y=\"3em\"><defs /><svg width=\"100%\" x=\"0\" y=\"0em\"><defs /><text text-anchor=\"middle\" x=\"50%\" y=\"1em\">VBP</text></svg></svg><line stroke=\"black\" x1=\"50%\" x2=\"50%\" y1=\"1.2em\" y2=\"3em\" /></svg><line stroke=\"black\" x1=\"50%\" x2=\"78.3871%\" y1=\"1.2em\" y2=\"3em\" /><svg width=\"7.09677%\" x=\"79.3548%\" y=\"3em\"><defs /><svg width=\"100%\" x=\"0\" y=\"0em\"><defs /><text text-anchor=\"middle\" x=\"50%\" y=\"1em\">NP</text></svg><svg width=\"54.5455%\" x=\"0%\" y=\"3em\"><defs /><svg width=\"100%\" x=\"0\" y=\"0em\"><defs /><text text-anchor=\"middle\" x=\"50%\" y=\"1em\">historical</text></svg><svg width=\"100%\" x=\"0%\" y=\"3em\"><defs /><svg width=\"100%\" x=\"0\" y=\"0em\"><defs /><text text-anchor=\"middle\" x=\"50%\" y=\"1em\">JJ</text></svg></svg><line stroke=\"black\" x1=\"50%\" x2=\"50%\" y1=\"1.2em\" y2=\"3em\" /></svg><line stroke=\"black\" x1=\"50%\" x2=\"27.2727%\" y1=\"1.2em\" y2=\"3em\" /><svg width=\"45.4545%\" x=\"54.5455%\" y=\"3em\"><defs /><svg width=\"100%\" x=\"0\" y=\"0em\"><defs /><text text-anchor=\"middle\" x=\"50%\" y=\"1em\">accuracy</text></svg><svg width=\"100%\" x=\"0%\" y=\"3em\"><defs /><svg width=\"100%\" x=\"0\" y=\"0em\"><defs /><text text-anchor=\"middle\" x=\"50%\" y=\"1em\">NN</text></svg></svg><line stroke=\"black\" x1=\"50%\" x2=\"50%\" y1=\"1.2em\" y2=\"3em\" /></svg><line stroke=\"black\" x1=\"50%\" x2=\"77.2727%\" y1=\"1.2em\" y2=\"3em\" /></svg><line stroke=\"black\" x1=\"50%\" x2=\"82.9032%\" y1=\"1.2em\" y2=\"3em\" /><svg width=\"1.29032%\" x=\"86.4516%\" y=\"3em\"><defs /><svg width=\"100%\" x=\"0\" y=\"0em\"><defs /><text text-anchor=\"middle\" x=\"50%\" y=\"1em\">to</text></svg><svg width=\"100%\" x=\"0%\" y=\"3em\"><defs /><svg width=\"100%\" x=\"0\" y=\"0em\"><defs /><text text-anchor=\"middle\" x=\"50%\" y=\"1em\">TO</text></svg></svg><line stroke=\"black\" x1=\"50%\" x2=\"50%\" y1=\"1.2em\" y2=\"3em\" /></svg><line stroke=\"black\" x1=\"50%\" x2=\"87.0968%\" y1=\"1.2em\" y2=\"3em\" /><svg width=\"2.58065%\" x=\"87.7419%\" y=\"3em\"><defs /><svg width=\"100%\" x=\"0\" y=\"0em\"><defs /><text text-anchor=\"middle\" x=\"50%\" y=\"1em\">events</text></svg><svg width=\"100%\" x=\"0%\" y=\"3em\"><defs /><svg width=\"100%\" x=\"0\" y=\"0em\"><defs /><text text-anchor=\"middle\" x=\"50%\" y=\"1em\">NNS</text></svg></svg><line stroke=\"black\" x1=\"50%\" x2=\"50%\" y1=\"1.2em\" y2=\"3em\" /></svg><line stroke=\"black\" x1=\"50%\" x2=\"89.0323%\" y1=\"1.2em\" y2=\"3em\" /><svg width=\"3.54839%\" x=\"90.3226%\" y=\"3em\"><defs /><svg width=\"100%\" x=\"0\" y=\"0em\"><defs /><text text-anchor=\"middle\" x=\"50%\" y=\"1em\">contained</text></svg><svg width=\"100%\" x=\"0%\" y=\"3em\"><defs /><svg width=\"100%\" x=\"0\" y=\"0em\"><defs /><text text-anchor=\"middle\" x=\"50%\" y=\"1em\">VBN</text></svg></svg><line stroke=\"black\" x1=\"50%\" x2=\"50%\" y1=\"1.2em\" y2=\"3em\" /></svg><line stroke=\"black\" x1=\"50%\" x2=\"92.0968%\" y1=\"1.2em\" y2=\"3em\" /><svg width=\"1.29032%\" x=\"93.871%\" y=\"3em\"><defs /><svg width=\"100%\" x=\"0\" y=\"0em\"><defs /><text text-anchor=\"middle\" x=\"50%\" y=\"1em\">in</text></svg><svg width=\"100%\" x=\"0%\" y=\"3em\"><defs /><svg width=\"100%\" x=\"0\" y=\"0em\"><defs /><text text-anchor=\"middle\" x=\"50%\" y=\"1em\">IN</text></svg></svg><line stroke=\"black\" x1=\"50%\" x2=\"50%\" y1=\"1.2em\" y2=\"3em\" /></svg><line stroke=\"black\" x1=\"50%\" x2=\"94.5161%\" y1=\"1.2em\" y2=\"3em\" /><svg width=\"1.6129%\" x=\"95.1613%\" y=\"3em\"><defs /><svg width=\"100%\" x=\"0\" y=\"0em\"><defs /><text text-anchor=\"middle\" x=\"50%\" y=\"1em\">the</text></svg><svg width=\"100%\" x=\"0%\" y=\"3em\"><defs /><svg width=\"100%\" x=\"0\" y=\"0em\"><defs /><text text-anchor=\"middle\" x=\"50%\" y=\"1em\">DT</text></svg></svg><line stroke=\"black\" x1=\"50%\" x2=\"50%\" y1=\"1.2em\" y2=\"3em\" /></svg><line stroke=\"black\" x1=\"50%\" x2=\"95.9677%\" y1=\"1.2em\" y2=\"3em\" /><svg width=\"2.25806%\" x=\"96.7742%\" y=\"3em\"><defs /><svg width=\"100%\" x=\"0\" y=\"0em\"><defs /><text text-anchor=\"middle\" x=\"50%\" y=\"1em\">bible</text></svg><svg width=\"100%\" x=\"0%\" y=\"3em\"><defs /><svg width=\"100%\" x=\"0\" y=\"0em\"><defs /><text text-anchor=\"middle\" x=\"50%\" y=\"1em\">NN</text></svg></svg><line stroke=\"black\" x1=\"50%\" x2=\"50%\" y1=\"1.2em\" y2=\"3em\" /></svg><line stroke=\"black\" x1=\"50%\" x2=\"97.9032%\" y1=\"1.2em\" y2=\"3em\" /><svg width=\"0.967742%\" x=\"99.0323%\" y=\"3em\"><defs /><svg width=\"100%\" x=\"0\" y=\"0em\"><defs /><text text-anchor=\"middle\" x=\"50%\" y=\"1em\">.</text></svg><svg width=\"100%\" x=\"0%\" y=\"3em\"><defs /><svg width=\"100%\" x=\"0\" y=\"0em\"><defs /><text text-anchor=\"middle\" x=\"50%\" y=\"1em\">.</text></svg></svg><line stroke=\"black\" x1=\"50%\" x2=\"50%\" y1=\"1.2em\" y2=\"3em\" /></svg><line stroke=\"black\" x1=\"50%\" x2=\"99.5161%\" y1=\"1.2em\" y2=\"3em\" /></svg>",
      "text/plain": [
       "Tree('S', [('He', 'PRP'), ('sites', 'VBZ'), Tree('NP', [('profane', 'JJ'), ('literature', 'NN')]), ('(', '('), ('writings', 'NNS'), ('from', 'IN'), ('the', 'DT'), Tree('NP', [('same', 'JJ'), ('time', 'NN'), ('period', 'NN')]), ('but', 'CC'), ('not', 'RB'), ('connected', 'VBN'), ('with', 'IN'), ('the', 'DT'), ('bible', 'NN'), (')', ')'), ('a', 'DT'), ('number', 'NN'), ('of', 'IN'), Tree('NP', [('times', 'NNS'), ('however', 'RB')]), ('I', 'PRP'), ('can', 'MD'), ('think', 'VB'), ('of', 'IN'), ('at', 'IN'), ('least', 'JJS'), ('three', 'CD'), ('references', 'NNS'), ('off', 'IN'), ('the', 'DT'), ('top', 'NN'), ('of', 'IN'), ('my', 'PRP$'), ('head', 'NN'), ('which', 'WDT'), ('lend', 'VBP'), Tree('NP', [('historical', 'JJ'), ('accuracy', 'NN')]), ('to', 'TO'), ('events', 'NNS'), ('contained', 'VBN'), ('in', 'IN'), ('the', 'DT'), ('bible', 'NN'), ('.', '.')])"
      ]
     },
     "metadata": {},
     "output_type": "display_data"
    }
   ],
   "source": [
    "display(movie_reviews.np_chunked[544][3])"
   ]
  },
  {
   "cell_type": "code",
   "execution_count": 19,
   "metadata": {},
   "outputs": [
    {
     "data": {
      "image/svg+xml": "<svg baseProfile=\"full\" height=\"168px\" preserveAspectRatio=\"xMidYMid meet\" style=\"font-family: times, serif; font-weight:normal; font-style: normal; font-size: 16px;\" version=\"1.1\" viewBox=\"0,0,1104.0,168.0\" width=\"1104px\" xmlns=\"http://www.w3.org/2000/svg\" xmlns:ev=\"http://www.w3.org/2001/xml-events\" xmlns:xlink=\"http://www.w3.org/1999/xlink\"><defs /><svg width=\"100%\" x=\"0\" y=\"0em\"><defs /><text text-anchor=\"middle\" x=\"50%\" y=\"1em\">S</text></svg><svg width=\"3.62319%\" x=\"0%\" y=\"3em\"><defs /><svg width=\"100%\" x=\"0\" y=\"0em\"><defs /><text text-anchor=\"middle\" x=\"50%\" y=\"1em\">I</text></svg><svg width=\"100%\" x=\"0%\" y=\"3em\"><defs /><svg width=\"100%\" x=\"0\" y=\"0em\"><defs /><text text-anchor=\"middle\" x=\"50%\" y=\"1em\">PRP</text></svg></svg><line stroke=\"black\" x1=\"50%\" x2=\"50%\" y1=\"1.2em\" y2=\"3em\" /></svg><line stroke=\"black\" x1=\"50%\" x2=\"1.81159%\" y1=\"1.2em\" y2=\"3em\" /><svg width=\"5.07246%\" x=\"3.62319%\" y=\"3em\"><defs /><svg width=\"100%\" x=\"0\" y=\"0em\"><defs /><text text-anchor=\"middle\" x=\"50%\" y=\"1em\">think</text></svg><svg width=\"100%\" x=\"0%\" y=\"3em\"><defs /><svg width=\"100%\" x=\"0\" y=\"0em\"><defs /><text text-anchor=\"middle\" x=\"50%\" y=\"1em\">VBP</text></svg></svg><line stroke=\"black\" x1=\"50%\" x2=\"50%\" y1=\"1.2em\" y2=\"3em\" /></svg><line stroke=\"black\" x1=\"50%\" x2=\"6.15942%\" y1=\"1.2em\" y2=\"3em\" /><svg width=\"3.62319%\" x=\"8.69565%\" y=\"3em\"><defs /><svg width=\"100%\" x=\"0\" y=\"0em\"><defs /><text text-anchor=\"middle\" x=\"50%\" y=\"1em\">the</text></svg><svg width=\"100%\" x=\"0%\" y=\"3em\"><defs /><svg width=\"100%\" x=\"0\" y=\"0em\"><defs /><text text-anchor=\"middle\" x=\"50%\" y=\"1em\">DT</text></svg></svg><line stroke=\"black\" x1=\"50%\" x2=\"50%\" y1=\"1.2em\" y2=\"3em\" /></svg><line stroke=\"black\" x1=\"50%\" x2=\"10.5072%\" y1=\"1.2em\" y2=\"3em\" /><svg width=\"10.1449%\" x=\"12.3188%\" y=\"3em\"><defs /><svg width=\"100%\" x=\"0\" y=\"0em\"><defs /><text text-anchor=\"middle\" x=\"50%\" y=\"1em\">VP</text></svg><svg width=\"64.2857%\" x=\"0%\" y=\"3em\"><defs /><svg width=\"100%\" x=\"0\" y=\"0em\"><defs /><text text-anchor=\"middle\" x=\"50%\" y=\"1em\">feeling</text></svg><svg width=\"100%\" x=\"0%\" y=\"3em\"><defs /><svg width=\"100%\" x=\"0\" y=\"0em\"><defs /><text text-anchor=\"middle\" x=\"50%\" y=\"1em\">NN</text></svg></svg><line stroke=\"black\" x1=\"50%\" x2=\"50%\" y1=\"1.2em\" y2=\"3em\" /></svg><line stroke=\"black\" x1=\"50%\" x2=\"32.1429%\" y1=\"1.2em\" y2=\"3em\" /><svg width=\"35.7143%\" x=\"64.2857%\" y=\"3em\"><defs /><svg width=\"100%\" x=\"0\" y=\"0em\"><defs /><text text-anchor=\"middle\" x=\"50%\" y=\"1em\">is</text></svg><svg width=\"100%\" x=\"0%\" y=\"3em\"><defs /><svg width=\"100%\" x=\"0\" y=\"0em\"><defs /><text text-anchor=\"middle\" x=\"50%\" y=\"1em\">VBZ</text></svg></svg><line stroke=\"black\" x1=\"50%\" x2=\"50%\" y1=\"1.2em\" y2=\"3em\" /></svg><line stroke=\"black\" x1=\"50%\" x2=\"82.1429%\" y1=\"1.2em\" y2=\"3em\" /></svg><line stroke=\"black\" x1=\"50%\" x2=\"17.3913%\" y1=\"1.2em\" y2=\"3em\" /><svg width=\"5.07246%\" x=\"22.4638%\" y=\"3em\"><defs /><svg width=\"100%\" x=\"0\" y=\"0em\"><defs /><text text-anchor=\"middle\" x=\"50%\" y=\"1em\">still</text></svg><svg width=\"100%\" x=\"0%\" y=\"3em\"><defs /><svg width=\"100%\" x=\"0\" y=\"0em\"><defs /><text text-anchor=\"middle\" x=\"50%\" y=\"1em\">RB</text></svg></svg><line stroke=\"black\" x1=\"50%\" x2=\"50%\" y1=\"1.2em\" y2=\"3em\" /></svg><line stroke=\"black\" x1=\"50%\" x2=\"25%\" y1=\"1.2em\" y2=\"3em\" /><svg width=\"5.07246%\" x=\"27.5362%\" y=\"3em\"><defs /><svg width=\"100%\" x=\"0\" y=\"0em\"><defs /><text text-anchor=\"middle\" x=\"50%\" y=\"1em\">there</text></svg><svg width=\"100%\" x=\"0%\" y=\"3em\"><defs /><svg width=\"100%\" x=\"0\" y=\"0em\"><defs /><text text-anchor=\"middle\" x=\"50%\" y=\"1em\">RB</text></svg></svg><line stroke=\"black\" x1=\"50%\" x2=\"50%\" y1=\"1.2em\" y2=\"3em\" /></svg><line stroke=\"black\" x1=\"50%\" x2=\"30.0725%\" y1=\"1.2em\" y2=\"3em\" /><svg width=\"2.17391%\" x=\"32.6087%\" y=\"3em\"><defs /><svg width=\"100%\" x=\"0\" y=\"0em\"><defs /><text text-anchor=\"middle\" x=\"50%\" y=\"1em\">,</text></svg><svg width=\"100%\" x=\"0%\" y=\"3em\"><defs /><svg width=\"100%\" x=\"0\" y=\"0em\"><defs /><text text-anchor=\"middle\" x=\"50%\" y=\"1em\">,</text></svg></svg><line stroke=\"black\" x1=\"50%\" x2=\"50%\" y1=\"1.2em\" y2=\"3em\" /></svg><line stroke=\"black\" x1=\"50%\" x2=\"33.6957%\" y1=\"1.2em\" y2=\"3em\" /><svg width=\"3.62319%\" x=\"34.7826%\" y=\"3em\"><defs /><svg width=\"100%\" x=\"0\" y=\"0em\"><defs /><text text-anchor=\"middle\" x=\"50%\" y=\"1em\">but</text></svg><svg width=\"100%\" x=\"0%\" y=\"3em\"><defs /><svg width=\"100%\" x=\"0\" y=\"0em\"><defs /><text text-anchor=\"middle\" x=\"50%\" y=\"1em\">CC</text></svg></svg><line stroke=\"black\" x1=\"50%\" x2=\"50%\" y1=\"1.2em\" y2=\"3em\" /></svg><line stroke=\"black\" x1=\"50%\" x2=\"36.5942%\" y1=\"1.2em\" y2=\"3em\" /><svg width=\"2.89855%\" x=\"38.4058%\" y=\"3em\"><defs /><svg width=\"100%\" x=\"0\" y=\"0em\"><defs /><text text-anchor=\"middle\" x=\"50%\" y=\"1em\">in</text></svg><svg width=\"100%\" x=\"0%\" y=\"3em\"><defs /><svg width=\"100%\" x=\"0\" y=\"0em\"><defs /><text text-anchor=\"middle\" x=\"50%\" y=\"1em\">IN</text></svg></svg><line stroke=\"black\" x1=\"50%\" x2=\"50%\" y1=\"1.2em\" y2=\"3em\" /></svg><line stroke=\"black\" x1=\"50%\" x2=\"39.8551%\" y1=\"1.2em\" y2=\"3em\" /><svg width=\"2.89855%\" x=\"41.3043%\" y=\"3em\"><defs /><svg width=\"100%\" x=\"0\" y=\"0em\"><defs /><text text-anchor=\"middle\" x=\"50%\" y=\"1em\">a</text></svg><svg width=\"100%\" x=\"0%\" y=\"3em\"><defs /><svg width=\"100%\" x=\"0\" y=\"0em\"><defs /><text text-anchor=\"middle\" x=\"50%\" y=\"1em\">DT</text></svg></svg><line stroke=\"black\" x1=\"50%\" x2=\"50%\" y1=\"1.2em\" y2=\"3em\" /></svg><line stroke=\"black\" x1=\"50%\" x2=\"42.7536%\" y1=\"1.2em\" y2=\"3em\" /><svg width=\"5.07246%\" x=\"44.2029%\" y=\"3em\"><defs /><svg width=\"100%\" x=\"0\" y=\"0em\"><defs /><text text-anchor=\"middle\" x=\"50%\" y=\"1em\">heavy</text></svg><svg width=\"100%\" x=\"0%\" y=\"3em\"><defs /><svg width=\"100%\" x=\"0\" y=\"0em\"><defs /><text text-anchor=\"middle\" x=\"50%\" y=\"1em\">JJ</text></svg></svg><line stroke=\"black\" x1=\"50%\" x2=\"50%\" y1=\"1.2em\" y2=\"3em\" /></svg><line stroke=\"black\" x1=\"50%\" x2=\"46.7391%\" y1=\"1.2em\" y2=\"3em\" /><svg width=\"7.24638%\" x=\"49.2754%\" y=\"3em\"><defs /><svg width=\"100%\" x=\"0\" y=\"0em\"><defs /><text text-anchor=\"middle\" x=\"50%\" y=\"1em\">downward</text></svg><svg width=\"100%\" x=\"0%\" y=\"3em\"><defs /><svg width=\"100%\" x=\"0\" y=\"0em\"><defs /><text text-anchor=\"middle\" x=\"50%\" y=\"1em\">JJ</text></svg></svg><line stroke=\"black\" x1=\"50%\" x2=\"50%\" y1=\"1.2em\" y2=\"3em\" /></svg><line stroke=\"black\" x1=\"50%\" x2=\"52.8986%\" y1=\"1.2em\" y2=\"3em\" /><svg width=\"5.7971%\" x=\"56.5217%\" y=\"3em\"><defs /><svg width=\"100%\" x=\"0\" y=\"0em\"><defs /><text text-anchor=\"middle\" x=\"50%\" y=\"1em\">spiral</text></svg><svg width=\"100%\" x=\"0%\" y=\"3em\"><defs /><svg width=\"100%\" x=\"0\" y=\"0em\"><defs /><text text-anchor=\"middle\" x=\"50%\" y=\"1em\">NN</text></svg></svg><line stroke=\"black\" x1=\"50%\" x2=\"50%\" y1=\"1.2em\" y2=\"3em\" /></svg><line stroke=\"black\" x1=\"50%\" x2=\"59.4203%\" y1=\"1.2em\" y2=\"3em\" /><svg width=\"4.34783%\" x=\"62.3188%\" y=\"3em\"><defs /><svg width=\"100%\" x=\"0\" y=\"0em\"><defs /><text text-anchor=\"middle\" x=\"50%\" y=\"1em\">with</text></svg><svg width=\"100%\" x=\"0%\" y=\"3em\"><defs /><svg width=\"100%\" x=\"0\" y=\"0em\"><defs /><text text-anchor=\"middle\" x=\"50%\" y=\"1em\">IN</text></svg></svg><line stroke=\"black\" x1=\"50%\" x2=\"50%\" y1=\"1.2em\" y2=\"3em\" /></svg><line stroke=\"black\" x1=\"50%\" x2=\"64.4928%\" y1=\"1.2em\" y2=\"3em\" /><svg width=\"2.89855%\" x=\"66.6667%\" y=\"3em\"><defs /><svg width=\"100%\" x=\"0\" y=\"0em\"><defs /><text text-anchor=\"middle\" x=\"50%\" y=\"1em\">so</text></svg><svg width=\"100%\" x=\"0%\" y=\"3em\"><defs /><svg width=\"100%\" x=\"0\" y=\"0em\"><defs /><text text-anchor=\"middle\" x=\"50%\" y=\"1em\">RB</text></svg></svg><line stroke=\"black\" x1=\"50%\" x2=\"50%\" y1=\"1.2em\" y2=\"3em\" /></svg><line stroke=\"black\" x1=\"50%\" x2=\"68.1159%\" y1=\"1.2em\" y2=\"3em\" /><svg width=\"19.5652%\" x=\"69.5652%\" y=\"3em\"><defs /><svg width=\"100%\" x=\"0\" y=\"0em\"><defs /><text text-anchor=\"middle\" x=\"50%\" y=\"1em\">VP</text></svg><svg width=\"22.2222%\" x=\"0%\" y=\"3em\"><defs /><svg width=\"100%\" x=\"0\" y=\"0em\"><defs /><text text-anchor=\"middle\" x=\"50%\" y=\"1em\">many</text></svg><svg width=\"100%\" x=\"0%\" y=\"3em\"><defs /><svg width=\"100%\" x=\"0\" y=\"0em\"><defs /><text text-anchor=\"middle\" x=\"50%\" y=\"1em\">JJ</text></svg></svg><line stroke=\"black\" x1=\"50%\" x2=\"50%\" y1=\"1.2em\" y2=\"3em\" /></svg><line stroke=\"black\" x1=\"50%\" x2=\"11.1111%\" y1=\"1.2em\" y2=\"3em\" /><svg width=\"29.6296%\" x=\"22.2222%\" y=\"3em\"><defs /><svg width=\"100%\" x=\"0\" y=\"0em\"><defs /><text text-anchor=\"middle\" x=\"50%\" y=\"1em\">things</text></svg><svg width=\"100%\" x=\"0%\" y=\"3em\"><defs /><svg width=\"100%\" x=\"0\" y=\"0em\"><defs /><text text-anchor=\"middle\" x=\"50%\" y=\"1em\">NNS</text></svg></svg><line stroke=\"black\" x1=\"50%\" x2=\"50%\" y1=\"1.2em\" y2=\"3em\" /></svg><line stroke=\"black\" x1=\"50%\" x2=\"37.037%\" y1=\"1.2em\" y2=\"3em\" /><svg width=\"25.9259%\" x=\"51.8519%\" y=\"3em\"><defs /><svg width=\"100%\" x=\"0\" y=\"0em\"><defs /><text text-anchor=\"middle\" x=\"50%\" y=\"1em\">being</text></svg><svg width=\"100%\" x=\"0%\" y=\"3em\"><defs /><svg width=\"100%\" x=\"0\" y=\"0em\"><defs /><text text-anchor=\"middle\" x=\"50%\" y=\"1em\">VBG</text></svg></svg><line stroke=\"black\" x1=\"50%\" x2=\"50%\" y1=\"1.2em\" y2=\"3em\" /></svg><line stroke=\"black\" x1=\"50%\" x2=\"64.8148%\" y1=\"1.2em\" y2=\"3em\" /><svg width=\"22.2222%\" x=\"77.7778%\" y=\"3em\"><defs /><svg width=\"100%\" x=\"0\" y=\"0em\"><defs /><text text-anchor=\"middle\" x=\"50%\" y=\"1em\">made</text></svg><svg width=\"100%\" x=\"0%\" y=\"3em\"><defs /><svg width=\"100%\" x=\"0\" y=\"0em\"><defs /><text text-anchor=\"middle\" x=\"50%\" y=\"1em\">VBN</text></svg></svg><line stroke=\"black\" x1=\"50%\" x2=\"50%\" y1=\"1.2em\" y2=\"3em\" /></svg><line stroke=\"black\" x1=\"50%\" x2=\"88.8889%\" y1=\"1.2em\" y2=\"3em\" /></svg><line stroke=\"black\" x1=\"50%\" x2=\"79.3478%\" y1=\"1.2em\" y2=\"3em\" /><svg width=\"7.24638%\" x=\"89.1304%\" y=\"3em\"><defs /><svg width=\"100%\" x=\"0\" y=\"0em\"><defs /><text text-anchor=\"middle\" x=\"50%\" y=\"1em\">overseas</text></svg><svg width=\"100%\" x=\"0%\" y=\"3em\"><defs /><svg width=\"100%\" x=\"0\" y=\"0em\"><defs /><text text-anchor=\"middle\" x=\"50%\" y=\"1em\">NNS</text></svg></svg><line stroke=\"black\" x1=\"50%\" x2=\"50%\" y1=\"1.2em\" y2=\"3em\" /></svg><line stroke=\"black\" x1=\"50%\" x2=\"92.7536%\" y1=\"1.2em\" y2=\"3em\" /><svg width=\"3.62319%\" x=\"96.3768%\" y=\"3em\"><defs /><svg width=\"100%\" x=\"0\" y=\"0em\"><defs /><text text-anchor=\"middle\" x=\"50%\" y=\"1em\">...</text></svg><svg width=\"100%\" x=\"0%\" y=\"3em\"><defs /><svg width=\"100%\" x=\"0\" y=\"0em\"><defs /><text text-anchor=\"middle\" x=\"50%\" y=\"1em\">:</text></svg></svg><line stroke=\"black\" x1=\"50%\" x2=\"50%\" y1=\"1.2em\" y2=\"3em\" /></svg><line stroke=\"black\" x1=\"50%\" x2=\"98.1884%\" y1=\"1.2em\" y2=\"3em\" /></svg>",
      "text/plain": [
       "Tree('S', [('I', 'PRP'), ('think', 'VBP'), ('the', 'DT'), Tree('VP', [('feeling', 'NN'), ('is', 'VBZ')]), ('still', 'RB'), ('there', 'RB'), (',', ','), ('but', 'CC'), ('in', 'IN'), ('a', 'DT'), ('heavy', 'JJ'), ('downward', 'JJ'), ('spiral', 'NN'), ('with', 'IN'), ('so', 'RB'), Tree('VP', [('many', 'JJ'), ('things', 'NNS'), ('being', 'VBG'), ('made', 'VBN')]), ('overseas', 'NNS'), ('...', ':')])"
      ]
     },
     "metadata": {},
     "output_type": "display_data"
    }
   ],
   "source": [
    "display(movie_reviews.vp_chunked[44][7])"
   ]
  },
  {
   "cell_type": "code",
   "execution_count": 20,
   "metadata": {},
   "outputs": [],
   "source": [
    "stop_words = set(stopwords.words('english'))\n",
    "custom_stop_words = ['anyone', 'goes', 'give', 'make', 'made', 'get', 'going', 'gets', 'better', 'done', 'worse', 'everyone', 'great', 'even', 'someone', 'n\\'t', 'something', 'best', 'worst', 'anything', 'everything', 'nothing', 'worth', 'years', 'year', 'people', 'movie', 'one', 'story', 'plot', 'film', 'films', 'good', 'really', 'first', '*', 'thing', 'many', 'much', 'really', 'things', 'last', 'next', 'main', 'bad', 'long', 'bit', 'second', 'several', 'lot', 'named', 'seem', 'seemed', 'seems', 'Everyone', 'Go', 'IT']\n",
    "stop_words = stop_words.union(custom_stop_words)"
   ]
  },
  {
   "cell_type": "code",
   "execution_count": 21,
   "metadata": {},
   "outputs": [],
   "source": [
    "def chunk_counter(column, label, stopwords = []):\n",
    "    word_freq = nltk.FreqDist()\n",
    "    for review in column:\n",
    "        for tree in review:\n",
    "            for chunk in tree.subtrees(lambda node: \n",
    "                    node.label() == label\n",
    "                    and sum([word in stopwords for (word, tag) in node.leaves()]) == 0):\n",
    "                word_freq[str(chunk.flatten())] += 1\n",
    "    return word_freq"
   ]
  },
  {
   "cell_type": "code",
   "execution_count": 22,
   "metadata": {},
   "outputs": [
    {
     "data": {
      "text/plain": [
       "[('(NP special/JJ effects/NNS)', 1284),\n",
       " ('(NP New/NNP York/NNP)', 634),\n",
       " ('(NP real/JJ life/NN)', 622),\n",
       " ('(NP character/NN development/NN)', 431),\n",
       " ('(NP low/JJ budget/NN)', 390),\n",
       " ('(NP big/JJ fan/NN)', 360),\n",
       " ('(NP young/JJ man/NN)', 360),\n",
       " ('(NP high/JJ school/NN)', 358),\n",
       " ('(NP big/JJ screen/NN)', 337),\n",
       " ('(NP young/JJ woman/NN)', 290),\n",
       " ('(NP camera/NN work/NN)', 285),\n",
       " ('(NP TV/NN series/NN)', 279),\n",
       " ('(NP subject/JJ matter/NN)', 269),\n",
       " ('(NP production/NN values/NNS)', 267),\n",
       " ('(NP old/JJ man/NN)', 254),\n",
       " ('(NP little/JJ girl/NN)', 248),\n",
       " ('(NP action/NN scenes/NNS)', 248),\n",
       " ('(NP United/NNP States/NNPS)', 243),\n",
       " ('(NP young/JJ girl/NN)', 239),\n",
       " ('(NP horror/NN movies/NNS)', 236),\n",
       " ('(NP fight/NN scenes/NNS)', 224),\n",
       " ('(NP final/JJ scene/NN)', 223),\n",
       " ('(NP huge/JJ fan/NN)', 219),\n",
       " ('(NP small/JJ town/NN)', 216),\n",
       " ('(NP serial/JJ killer/NN)', 207),\n",
       " ('(NP TV/NN show/NN)', 205),\n",
       " ('(NP sex/NN scenes/NNS)', 201),\n",
       " ('(NP Star/NNP Wars/NNP)', 200),\n",
       " ('(NP video/NN store/NN)', 191),\n",
       " ('(NP New/NNP York/NNP City/NNP)', 187),\n",
       " ('(NP opening/NN credits/NNS)', 184),\n",
       " ('(NP completely/RB different/JJ)', 182),\n",
       " ('(NP real/JJ world/NN)', 178),\n",
       " ('(NP action/NN sequences/NNS)', 172),\n",
       " ('(NP opening/NN scene/NN)', 171),\n",
       " ('(NP Los/NNP Angeles/NNP)', 168),\n",
       " ('(NP young/JJ boy/NN)', 164),\n",
       " ('(NP love/NN interest/NN)', 162),\n",
       " ('(NP box/NN office/NN)', 159),\n",
       " ('(NP World/NNP War/NNP II/NNP)', 158),\n",
       " ('(NP complete/JJ waste/NN)', 157),\n",
       " ('(NP screen/JJ time/NN)', 157),\n",
       " ('(NP hard/JJ time/NN)', 150),\n",
       " ('(NP excellent/JJ job/NN)', 150),\n",
       " ('(NP Star/NNP Trek/NNP)', 148),\n",
       " ('(NP lead/JJ character/NN)', 147),\n",
       " ('(NP comic/JJ relief/NN)', 146),\n",
       " ('(NP musical/JJ score/NN)', 146),\n",
       " ('(NP Hong/NNP Kong/NNP)', 143),\n",
       " ('(NP little/JJ boy/NN)', 140)]"
      ]
     },
     "execution_count": 22,
     "metadata": {},
     "output_type": "execute_result"
    }
   ],
   "source": [
    "chunk_counter(movie_reviews.np_chunked, 'NP', stop_words).most_common(50)"
   ]
  },
  {
   "cell_type": "code",
   "execution_count": 23,
   "metadata": {},
   "outputs": [
    {
     "data": {
      "text/plain": [
       "[('(VP happy/JJ ending/VBG)', 183),\n",
       " ('(VP time/NN watching/VBG)', 120),\n",
       " ('(VP pun/NN intended/VBN)', 64),\n",
       " ('(VP cast/NN includes/VBZ)', 59),\n",
       " ('(VP life/NN watching/VBG)', 50),\n",
       " ('(VP familiar/JJ faces/VBZ)', 49),\n",
       " ('(VP end/NN credits/VBZ)', 49),\n",
       " ('(VP actor/NN playing/VBG)', 47),\n",
       " ('(VP Simply/NNP put/VBD)', 46),\n",
       " ('(VP old/JJ fashioned/VBN)', 45),\n",
       " ('(VP character/NN played/VBN)', 44),\n",
       " ('(VP cult/NN following/VBG)', 43),\n",
       " ('(VP cheap/JJ looking/VBG)', 43),\n",
       " ('(VP actors/NNS playing/VBG)', 42),\n",
       " ('(VP middle/JJ aged/VBN)', 42),\n",
       " ('(VP action/NN takes/VBZ)', 41),\n",
       " ('(VP God/NNP knows/VBZ)', 36),\n",
       " ('(VP actors/NNS look/VBP)', 35),\n",
       " ('(VP scenes/NNS involving/VBG)', 33),\n",
       " ('(VP predictable/JJ ending/VBG)', 33),\n",
       " ('(VP heavy/JJ handed/VBN)', 33),\n",
       " ('(VP Highly/NNP recommended/VBD)', 33),\n",
       " ('(VP minute/NN running/VBG)', 32),\n",
       " ('(VP action/NN packed/VBD)', 31),\n",
       " ('(VP fun/NN watching/VBG)', 31),\n",
       " ('(VP surprise/NN ending/VBG)', 29),\n",
       " ('(VP actress/NN playing/VBG)', 29),\n",
       " ('(VP award/NN winning/VBG)', 29),\n",
       " ('(VP camera/NN pans/VBZ)', 28),\n",
       " ('(VP director/NN wanted/VBD)', 28),\n",
       " ('(VP well/NN known/VBN)', 28),\n",
       " ('(VP light/JJ hearted/VBN)', 27),\n",
       " ('(VP Worth/JJ seeing/VBG)', 27),\n",
       " ('(VP poor/JJ acting/VBG)', 26),\n",
       " ('(VP lesser/JJR known/VBN)', 25),\n",
       " ('(VP computer/NN generated/VBD)', 25),\n",
       " ('(VP twist/NN ending/VBG)', 25),\n",
       " ('(VP credits/NNS roll/VBP)', 25),\n",
       " ('(VP title/NN suggests/VBZ)', 24),\n",
       " ('(VP less/NN said/VBD)', 24),\n",
       " ('(VP characters/NNS come/VBP)', 23),\n",
       " ('(VP scene/NN involving/VBG)', 23),\n",
       " ('(VP slow/JJ moving/VBG)', 23),\n",
       " ('(VP events/NNS leading/VBG)', 23),\n",
       " ('(VP credits/NNS rolled/VBN)', 23),\n",
       " ('(VP movies/NNS based/VBN)', 22),\n",
       " ('(VP terrible/JJ acting/VBG)', 22),\n",
       " ('(VP guy/NN playing/VBG)', 22),\n",
       " ('(VP title/NN says/VBZ)', 22),\n",
       " ('(VP time/NN spent/VBN)', 22)]"
      ]
     },
     "execution_count": 23,
     "metadata": {},
     "output_type": "execute_result"
    }
   ],
   "source": [
    "chunk_counter(movie_reviews.vp_chunked, 'VP', stop_words).most_common(50)"
   ]
  }
 ],
 "metadata": {
  "interpreter": {
   "hash": "a166e61b3f1e7b9ccc9f59f78d7cc3087a9ccbb0b1a7cff444b301613a633a54"
  },
  "kernelspec": {
   "display_name": "Python 3.10.5 64-bit (windows store)",
   "language": "python",
   "name": "python3"
  },
  "language_info": {
   "codemirror_mode": {
    "name": "ipython",
    "version": 3
   },
   "file_extension": ".py",
   "mimetype": "text/x-python",
   "name": "python",
   "nbconvert_exporter": "python",
   "pygments_lexer": "ipython3",
   "version": "3.10.5"
  },
  "orig_nbformat": 4
 },
 "nbformat": 4,
 "nbformat_minor": 2
}
