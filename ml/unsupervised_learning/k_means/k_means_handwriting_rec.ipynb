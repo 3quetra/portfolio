{
 "cells": [
  {
   "cell_type": "markdown",
   "metadata": {},
   "source": [
    "# Handwriting Recognition\n",
    "\n",
    "In this project, we will be using **K-Means++** clustering algorithm in scikit-learn inplementation on sklearn digits dataset to cluster images of handwritten digits.\n",
    "\n",
    "This technology is used in ATMs to recognize handwritten bank checks, Evernote uses it to recognize handwritten task lists, moreover - the U.S. Postal Service has been using machine learning and scanning technologies since 1999. Its postal offices have to look at roughly half a billion pieces of mail every day, so they have done extensive research and developed very efficient algorithms for reading and understanding addresses.\n",
    "\n",
    "\n",
    "## Getting Started with the Digits Dataset\n",
    "\n",
    "Let's start by performing necessary imports. "
   ]
  },
  {
   "cell_type": "code",
   "execution_count": 1,
   "metadata": {},
   "outputs": [],
   "source": [
    "# Basic imports related to analysis\n",
    "import numpy as np\n",
    "\n",
    "# Imports for visualisationin\n",
    "import seaborn as sns\n",
    "from matplotlib import pyplot as plt\n",
    "from PIL import Image, ImageOps\n",
    "\n",
    "# Imports for ml \n",
    "from sklearn.cluster import KMeans\n",
    "\n",
    "# Data related imports\n",
    "from sklearn import datasets"
   ]
  },
  {
   "cell_type": "markdown",
   "metadata": {},
   "source": [
    "It’s always a good idea to go through the data description and see what you can already learn."
   ]
  },
  {
   "cell_type": "code",
   "execution_count": 2,
   "metadata": {},
   "outputs": [
    {
     "name": "stdout",
     "output_type": "stream",
     "text": [
      ".. _digits_dataset:\n",
      "\n",
      "Optical recognition of handwritten digits dataset\n",
      "--------------------------------------------------\n",
      "\n",
      "**Data Set Characteristics:**\n",
      "\n",
      "    :Number of Instances: 1797\n",
      "    :Number of Attributes: 64\n",
      "    :Attribute Information: 8x8 image of integer pixels in the range 0..16.\n",
      "    :Missing Attribute Values: None\n",
      "    :Creator: E. Alpaydin (alpaydin '@' boun.edu.tr)\n",
      "    :Date: July; 1998\n",
      "\n",
      "This is a copy of the test set of the UCI ML hand-written digits datasets\n",
      "https://archive.ics.uci.edu/ml/datasets/Optical+Recognition+of+Handwritten+Digits\n",
      "\n",
      "The data set contains images of hand-written digits: 10 classes where\n",
      "each class refers to a digit.\n",
      "\n",
      "Preprocessing programs made available by NIST were used to extract\n",
      "normalized bitmaps of handwritten digits from a preprinted form. From a\n",
      "total of 43 people, 30 contributed to the training set and different 13\n",
      "to the test set. 32x32 bitmaps are divided into nonoverlapping blocks of\n",
      "4x4 and the number of on pixels are counted in each block. This generates\n",
      "an input matrix of 8x8 where each element is an integer in the range\n",
      "0..16. This reduces dimensionality and gives invariance to small\n",
      "distortions.\n",
      "\n",
      "For info on NIST preprocessing routines, see M. D. Garris, J. L. Blue, G.\n",
      "T. Candela, D. L. Dimmick, J. Geist, P. J. Grother, S. A. Janet, and C.\n",
      "L. Wilson, NIST Form-Based Handprint Recognition System, NISTIR 5469,\n",
      "1994.\n",
      "\n",
      ".. topic:: References\n",
      "\n",
      "  - C. Kaynak (1995) Methods of Combining Multiple Classifiers and Their\n",
      "    Applications to Handwritten Digit Recognition, MSc Thesis, Institute of\n",
      "    Graduate Studies in Science and Engineering, Bogazici University.\n",
      "  - E. Alpaydin, C. Kaynak (1998) Cascading Classifiers, Kybernetika.\n",
      "  - Ken Tang and Ponnuthurai N. Suganthan and Xi Yao and A. Kai Qin.\n",
      "    Linear dimensionalityreduction using relevance weighted LDA. School of\n",
      "    Electrical and Electronic Engineering Nanyang Technological University.\n",
      "    2005.\n",
      "  - Claudio Gentile. A New Approximate Maximal Margin Classification\n",
      "    Algorithm. NIPS. 2000.\n",
      "\n"
     ]
    }
   ],
   "source": [
    "digits = datasets.load_digits()\n",
    "print(digits.DESCR)"
   ]
  },
  {
   "cell_type": "markdown",
   "metadata": {},
   "source": [
    "Let’s see what the data looks like."
   ]
  },
  {
   "cell_type": "code",
   "execution_count": 3,
   "metadata": {},
   "outputs": [
    {
     "name": "stdout",
     "output_type": "stream",
     "text": [
      "[[ 0.  0.  5. ...  0.  0.  0.]\n",
      " [ 0.  0.  0. ... 10.  0.  0.]\n",
      " [ 0.  0.  0. ... 16.  9.  0.]\n",
      " ...\n",
      " [ 0.  0.  1. ...  6.  0.  0.]\n",
      " [ 0.  0.  2. ... 12.  0.  0.]\n",
      " [ 0.  0. 10. ... 12.  1.  0.]]\n"
     ]
    }
   ],
   "source": [
    "print(digits.data)"
   ]
  },
  {
   "cell_type": "markdown",
   "metadata": {},
   "source": [
    "Each list contains 64 values which respent the pixel colors of an image (0-16):\n",
    "- `0` is white;\n",
    "- `16` is black."
   ]
  },
  {
   "cell_type": "code",
   "execution_count": 4,
   "metadata": {},
   "outputs": [
    {
     "name": "stdout",
     "output_type": "stream",
     "text": [
      "[0 1 2 ... 8 9 8]\n"
     ]
    }
   ],
   "source": [
    "print(digits.target)"
   ]
  },
  {
   "cell_type": "markdown",
   "metadata": {},
   "source": [
    "This shows us that the first data point in the set was tagged as a 0 and the last one was tagged as an 8.\n",
    "\n",
    "To visualize the data images, we need to use Matplotlib. Let’s visualize the image at index 100:"
   ]
  },
  {
   "cell_type": "code",
   "execution_count": 5,
   "metadata": {},
   "outputs": [
    {
     "data": {
      "text/plain": [
       "<Figure size 432x288 with 0 Axes>"
      ]
     },
     "metadata": {},
     "output_type": "display_data"
    },
    {
     "data": {
      "image/png": "[encoded data removed]",
      "text/plain": [
       "<Figure size 288x288 with 1 Axes>"
      ]
     },
     "metadata": {
      "needs_background": "light"
     },
     "output_type": "display_data"
    }
   ],
   "source": [
    "plt.gray() \n",
    "plt.matshow(digits.images[100])\n",
    "plt.show()"
   ]
  },
  {
   "cell_type": "markdown",
   "metadata": {},
   "source": [
    "Is it a 4? Let’s print out the target label at index 100 to find out."
   ]
  },
  {
   "cell_type": "code",
   "execution_count": 6,
   "metadata": {},
   "outputs": [
    {
     "name": "stdout",
     "output_type": "stream",
     "text": [
      "4\n"
     ]
    }
   ],
   "source": [
    "print(digits.target[100])"
   ]
  },
  {
   "cell_type": "markdown",
   "metadata": {},
   "source": [
    "4 it is. Let's take a look at 64 sample images. "
   ]
  },
  {
   "cell_type": "code",
   "execution_count": 7,
   "metadata": {},
   "outputs": [
    {
     "data": {
      "image/png": "[encoded data removed]",
      "text/plain": [
       "<Figure size 432x432 with 64 Axes>"
      ]
     },
     "metadata": {},
     "output_type": "display_data"
    }
   ],
   "source": [
    "# Figure size (width, height)\n",
    "fig = plt.figure(figsize=(6, 6))\n",
    " \n",
    "# Adjust the subplots \n",
    "fig.subplots_adjust(left=0, right=1, bottom=0, top=1, hspace=0.05, wspace=0.05)\n",
    " \n",
    "# For each of the 64 images\n",
    "for i in range(64):\n",
    "    # Initialize the subplots: add a subplot in the grid of 8 by 8, at the i+1-th position\n",
    "    ax = fig.add_subplot(8, 8, i+1, xticks=[], yticks=[])\n",
    "    # Display an image at the i-th position\n",
    "    ax.imshow(digits.images[i], cmap=plt.cm.binary, interpolation='nearest')\n",
    "    # Label the image with the target value\n",
    "    ax.text(0, 7, str(digits.target[i]))\n",
    " \n",
    "plt.show()"
   ]
  },
  {
   "cell_type": "markdown",
   "metadata": {},
   "source": [
    "## K-Means++ Clustering\n",
    "\n",
    "Now we understand what we are working with. Let’s cluster the 1797 different digit images into groups.\n",
    "There are 10 digits (0, 1, 2, 3, 4, 5, 6, 7, 8, 9), so there should be 10 clusters."
   ]
  },
  {
   "cell_type": "code",
   "execution_count": 8,
   "metadata": {},
   "outputs": [
    {
     "data": {
      "text/html": [
       "<style>#sk-container-id-1 {color: black;background-color: white;}#sk-container-id-1 pre{padding: 0;}#sk-container-id-1 div.sk-toggleable {background-color: white;}#sk-container-id-1 label.sk-toggleable__label {cursor: pointer;display: block;width: 100%;margin-bottom: 0;padding: 0.3em;box-sizing: border-box;text-align: center;}#sk-container-id-1 label.sk-toggleable__label-arrow:before {content: \"▸\";float: left;margin-right: 0.25em;color: #696969;}#sk-container-id-1 label.sk-toggleable__label-arrow:hover:before {color: black;}#sk-container-id-1 div.sk-estimator:hover label.sk-toggleable__label-arrow:before {color: black;}#sk-container-id-1 div.sk-toggleable__content {max-height: 0;max-width: 0;overflow: hidden;text-align: left;background-color: #f0f8ff;}#sk-container-id-1 div.sk-toggleable__content pre {margin: 0.2em;color: black;border-radius: 0.25em;background-color: #f0f8ff;}#sk-container-id-1 input.sk-toggleable__control:checked~div.sk-toggleable__content {max-height: 200px;max-width: 100%;overflow: auto;}#sk-container-id-1 input.sk-toggleable__control:checked~label.sk-toggleable__label-arrow:before {content: \"▾\";}#sk-container-id-1 div.sk-estimator input.sk-toggleable__control:checked~label.sk-toggleable__label {background-color: #d4ebff;}#sk-container-id-1 div.sk-label input.sk-toggleable__control:checked~label.sk-toggleable__label {background-color: #d4ebff;}#sk-container-id-1 input.sk-hidden--visually {border: 0;clip: rect(1px 1px 1px 1px);clip: rect(1px, 1px, 1px, 1px);height: 1px;margin: -1px;overflow: hidden;padding: 0;position: absolute;width: 1px;}#sk-container-id-1 div.sk-estimator {font-family: monospace;background-color: #f0f8ff;border: 1px dotted black;border-radius: 0.25em;box-sizing: border-box;margin-bottom: 0.5em;}#sk-container-id-1 div.sk-estimator:hover {background-color: #d4ebff;}#sk-container-id-1 div.sk-parallel-item::after {content: \"\";width: 100%;border-bottom: 1px solid gray;flex-grow: 1;}#sk-container-id-1 div.sk-label:hover label.sk-toggleable__label {background-color: #d4ebff;}#sk-container-id-1 div.sk-serial::before {content: \"\";position: absolute;border-left: 1px solid gray;box-sizing: border-box;top: 0;bottom: 0;left: 50%;z-index: 0;}#sk-container-id-1 div.sk-serial {display: flex;flex-direction: column;align-items: center;background-color: white;padding-right: 0.2em;padding-left: 0.2em;position: relative;}#sk-container-id-1 div.sk-item {position: relative;z-index: 1;}#sk-container-id-1 div.sk-parallel {display: flex;align-items: stretch;justify-content: center;background-color: white;position: relative;}#sk-container-id-1 div.sk-item::before, #sk-container-id-1 div.sk-parallel-item::before {content: \"\";position: absolute;border-left: 1px solid gray;box-sizing: border-box;top: 0;bottom: 0;left: 50%;z-index: -1;}#sk-container-id-1 div.sk-parallel-item {display: flex;flex-direction: column;z-index: 1;position: relative;background-color: white;}#sk-container-id-1 div.sk-parallel-item:first-child::after {align-self: flex-end;width: 50%;}#sk-container-id-1 div.sk-parallel-item:last-child::after {align-self: flex-start;width: 50%;}#sk-container-id-1 div.sk-parallel-item:only-child::after {width: 0;}#sk-container-id-1 div.sk-dashed-wrapped {border: 1px dashed gray;margin: 0 0.4em 0.5em 0.4em;box-sizing: border-box;padding-bottom: 0.4em;background-color: white;}#sk-container-id-1 div.sk-label label {font-family: monospace;font-weight: bold;display: inline-block;line-height: 1.2em;}#sk-container-id-1 div.sk-label-container {text-align: center;}#sk-container-id-1 div.sk-container {/* jupyter's `normalize.less` sets `[hidden] { display: none; }` but bootstrap.min.css set `[hidden] { display: none !important; }` so we also need the `!important` here to be able to override the default hidden behavior on the sphinx rendered scikit-learn.org. See: https://github.com/scikit-learn/scikit-learn/issues/21755 */display: inline-block !important;position: relative;}#sk-container-id-1 div.sk-text-repr-fallback {display: none;}</style><div id=\"sk-container-id-1\" class=\"sk-top-container\"><div class=\"sk-text-repr-fallback\"><pre>KMeans(n_clusters=10, random_state=2)</pre><b>In a Jupyter environment, please rerun this cell to show the HTML representation or trust the notebook. <br />On GitHub, the HTML representation is unable to render, please try loading this page with nbviewer.org.</b></div><div class=\"sk-container\" hidden><div class=\"sk-item\"><div class=\"sk-estimator sk-toggleable\"><input class=\"sk-toggleable__control sk-hidden--visually\" id=\"sk-estimator-id-1\" type=\"checkbox\" checked><label for=\"sk-estimator-id-1\" class=\"sk-toggleable__label sk-toggleable__label-arrow\">KMeans</label><div class=\"sk-toggleable__content\"><pre>KMeans(n_clusters=10, random_state=2)</pre></div></div></div></div></div>"
      ],
      "text/plain": [
       "KMeans(n_clusters=10, random_state=2)"
      ]
     },
     "execution_count": 8,
     "metadata": {},
     "output_type": "execute_result"
    }
   ],
   "source": [
    "# Instantiate model\n",
    "model = KMeans(init=\"k-means++\", n_clusters=10, random_state=2)\n",
    "# Train model\n",
    "model.fit(digits.data)"
   ]
  },
  {
   "cell_type": "markdown",
   "metadata": {},
   "source": [
    "Now we have our centroids - central values of the clusters. There are 10 of them and each one is a list with 64 values (0-16)."
   ]
  },
  {
   "cell_type": "code",
   "execution_count": 9,
   "metadata": {},
   "outputs": [
    {
     "data": {
      "text/plain": [
       "(10, 64)"
      ]
     },
     "execution_count": 9,
     "metadata": {},
     "output_type": "execute_result"
    }
   ],
   "source": [
    "model.cluster_centers_.shape"
   ]
  },
  {
   "cell_type": "code",
   "execution_count": 10,
   "metadata": {},
   "outputs": [
    {
     "data": {
      "text/plain": [
       "array([0.00000000e+00, 1.95219124e-01, 6.45816733e+00, 1.24701195e+01,\n",
       "       1.18725100e+01, 5.71713147e+00, 6.85258964e-01, 7.96812749e-03,\n",
       "       3.98406375e-03, 2.58167331e+00, 1.39601594e+01, 9.26693227e+00,\n",
       "       9.44223108e+00, 1.04780876e+01, 1.36254980e+00, 3.98406375e-03,\n",
       "       1.30104261e-18, 4.27888446e+00, 1.28605578e+01, 4.49402390e+00,\n",
       "       6.89641434e+00, 1.11513944e+01, 1.90039841e+00, 0.00000000e+00,\n",
       "       4.33680869e-19, 2.31872510e+00, 1.04143426e+01, 1.17848606e+01,\n",
       "       1.31713147e+01, 1.20398406e+01, 2.44621514e+00, 8.67361738e-19,\n",
       "       0.00000000e+00, 2.98804781e-01, 3.18326693e+00, 6.17529880e+00,\n",
       "       6.86852590e+00, 1.12151394e+01, 4.21513944e+00, 0.00000000e+00,\n",
       "       3.46944695e-18, 2.31075697e-01, 2.37051793e+00, 1.97609562e+00,\n",
       "       1.80079681e+00, 1.09800797e+01, 6.35059761e+00, 1.59362550e-02,\n",
       "       3.46944695e-18, 7.88844622e-01, 8.13147410e+00, 5.66533865e+00,\n",
       "       4.79681275e+00, 1.22111554e+01, 5.95219124e+00, 1.11553785e-01,\n",
       "       2.16840434e-19, 1.67330677e-01, 6.38247012e+00, 1.34581673e+01,\n",
       "       1.45019920e+01, 9.92031873e+00, 2.29083665e+00, 1.11553785e-01])"
      ]
     },
     "execution_count": 10,
     "metadata": {},
     "output_type": "execute_result"
    }
   ],
   "source": [
    "model.cluster_centers_[1]"
   ]
  },
  {
   "cell_type": "markdown",
   "metadata": {},
   "source": [
    "Let’s visualize these centroids. Considering data samples live in a 64-dimensional space - centroids have values, so they can be images.\n",
    "\n",
    "## Visualizing Centroids\n",
    "\n",
    "We'll make each of the cluster centers into a 8x8 2D array and put indexes on each image in the bottom left corner. "
   ]
  },
  {
   "cell_type": "code",
   "execution_count": 11,
   "metadata": {},
   "outputs": [
    {
     "data": {
      "image/png": "[encoded data removed]",
      "text/plain": [
       "<Figure size 576x216 with 10 Axes>"
      ]
     },
     "metadata": {
      "needs_background": "light"
     },
     "output_type": "display_data"
    }
   ],
   "source": [
    "def ten_digits(img_data, title):\n",
    "    fig = plt.figure(figsize=(8,3))\n",
    "    for i in range(10):\n",
    "        # Initialize subplots in a grid of 2X5, at i+1th position\n",
    "        ax=fig.add_subplot(2,5, 1 + i)\n",
    "        # Display images\n",
    "        ax.imshow(img_data[i].reshape((8, 8)), cmap=plt.cm.binary)\n",
    "        # Label the image with \n",
    "        ax.text(0, 7, str(i))\n",
    "    # Add title\n",
    "    fig.suptitle(title, fontsize=14, fontweight='bold')\n",
    "    return plt.show()\n",
    "\n",
    "ten_digits(model.cluster_centers_, title='Cluster Centers displayed as Images')"
   ]
  },
  {
   "cell_type": "markdown",
   "metadata": {},
   "source": [
    "Result: These are the centroids of handwriting from thirty different people collected by Bogazici University (Istanbul, Turkey). Now we can interpret the values coded within these centroids and make labels out of them.  \n",
    "\n",
    "    Image under index 0 looks like 4\n",
    "    Image under index 1 looks like 9\n",
    "    Image under index 2 looks like 2\n",
    "    Image under index 3 looks like 8\n",
    "    Image under index 4 looks like 7\n",
    "    Image under index 5 looks like 0\n",
    "    Image under index 6 looks like 3\n",
    "    Image under index 7 looks like 6\n",
    "    Image under index 8 looks like 5\n",
    "    Image under index 9 looks like 1\n",
    "\n",
    "Now let's map centroids' indexes to real digits to display predicted results not as indexes, but as digits each centroid represents. "
   ]
  },
  {
   "cell_type": "code",
   "execution_count": 12,
   "metadata": {},
   "outputs": [],
   "source": [
    "img_map = {\n",
    "    0: 4, # centroid's index: digit centroid represents\n",
    "    1: 9,\n",
    "    2: 2,\n",
    "    3: 8,\n",
    "    4: 7,\n",
    "    5: 0,\n",
    "    6: 3,\n",
    "    7: 6,\n",
    "    8: 5,\n",
    "    9: 1,\n",
    "}"
   ]
  },
  {
   "cell_type": "markdown",
   "metadata": {},
   "source": [
    "## Extrinsic testing simulation\n",
    "\n",
    "Let's create test 2 batches of images in Paint: \n",
    "- `best_img`, where I'll write digits again and again till model recognizes them correctly - Conformistic Approach;\n",
    "- `sloppy_img`, where I'll write digits good enough for people to understand, but may be not good enough for model to do so - Nonconformistic Approach. "
   ]
  },
  {
   "cell_type": "code",
   "execution_count": 13,
   "metadata": {},
   "outputs": [
    {
     "data": {
      "image/png": "[encoded data removed]",
      "text/plain": [
       "<Figure size 576x216 with 10 Axes>"
      ]
     },
     "metadata": {
      "needs_background": "light"
     },
     "output_type": "display_data"
    }
   ],
   "source": [
    "# Load images, convert RGB to grayscale and resize them to 8x8\n",
    "def load_images(paths):\n",
    "    imgs = [ImageOps.invert(Image.open(path).convert('L')).resize((8,8)) for path in paths]\n",
    "    # Convert PIL images to 1d arrays of 16 color pixels\n",
    "    img_data = [np.rint(np.array(img.getdata()) / 16) for img in imgs]\n",
    "    return img_data\n",
    "# List files for loading\n",
    "best_img = load_images(['3.png', '5.png', '9.png', '4.png', '8.png', '0.png', '6.png', '1.png', '2.png', '7.png'])\n",
    "\n",
    "# Draw resized images as plots\n",
    "ten_digits(best_img, title='Images of Numbers: Conformistic Approach')"
   ]
  },
  {
   "cell_type": "code",
   "execution_count": 14,
   "metadata": {},
   "outputs": [
    {
     "data": {
      "text/plain": [
       "[3, 5, 9, 4, 8, 0, 6, 1, 2, 7]"
      ]
     },
     "execution_count": 14,
     "metadata": {},
     "output_type": "execute_result"
    }
   ],
   "source": [
    "[img_map[v] for v in model.predict(best_img)]"
   ]
  },
  {
   "cell_type": "markdown",
   "metadata": {},
   "source": [
    "Result: I've spent about 40 minutes to make sure every digit is recognizable by model - wasn't an easy task!\n",
    "\n",
    "Now I'll write digits without a goal to be understood by model."
   ]
  },
  {
   "cell_type": "code",
   "execution_count": 15,
   "metadata": {},
   "outputs": [
    {
     "data": {
      "image/png": "[encoded data removed]",
      "text/plain": [
       "<Figure size 576x216 with 10 Axes>"
      ]
     },
     "metadata": {
      "needs_background": "light"
     },
     "output_type": "display_data"
    }
   ],
   "source": [
    "# List files for upload\n",
    "sloppy_img = load_images(['3.3.png', '5.5.png', '9.9.png', '4.4.png', '8.8.png', '0.0.png', '6.6.png', '1.1.png', '2.2.png', '7.7.png'])\n",
    "\n",
    "# Draw resized images as plots\n",
    "ten_digits(sloppy_img, title='Images of Numbers: Nonconformistic Approach')"
   ]
  },
  {
   "cell_type": "code",
   "execution_count": 16,
   "metadata": {},
   "outputs": [
    {
     "data": {
      "text/plain": [
       "[5, 5, 7, 7, 8, 0, 5, 1, 7, 7]"
      ]
     },
     "execution_count": 16,
     "metadata": {},
     "output_type": "execute_result"
    }
   ],
   "source": [
    "[img_map[v] for v in model.predict(sloppy_img)]"
   ]
  },
  {
   "cell_type": "markdown",
   "metadata": {},
   "source": [
    "## Conclusion\n",
    "\n",
    "We have created the K-Means++ model that clusters images of handwritten digits and tested it on 2 batches of digits, handwritten in Paint.\n",
    "\n",
    "First batch was an attempt to play according to model's rules of perception - Conformistic Approach. In this scenario I had to rewrite every digit 3-8 times to get a correct result of prediction.\n",
    "\n",
    "Second batch was a collection of digits created mainly on the 1st attempt and looking good enough for people to understand them correctly - Nonconformistic Approach. Model guessed correctly only 4 of them: `8, 0, 1, 7`.\n",
    "\n",
    "There could be 2 reasons for such poor interpretation results:\n",
    "\n",
    "1. This dataset is far from exhaustive when it comes to handwriting: there are digits, written by only 30 people there. \n",
    "2. The conversion and resize methods are not perfect for the task: it seems, they distort images in a way that makes them less interpretable by model.\n",
    "\n",
    "\n",
    "\n"
   ]
  }
 ],
 "metadata": {
  "kernelspec": {
   "display_name": "Python 3.10.7 64-bit (microsoft store)",
   "language": "python",
   "name": "python3"
  },
  "language_info": {
   "codemirror_mode": {
    "name": "ipython",
    "version": 3
   },
   "file_extension": ".py",
   "mimetype": "text/x-python",
   "name": "python",
   "nbconvert_exporter": "python",
   "pygments_lexer": "ipython3",
   "version": "3.10.7"
  },
  "orig_nbformat": 4,
  "vscode": {
   "interpreter": {
    "hash": "a166e61b3f1e7b9ccc9f59f78d7cc3087a9ccbb0b1a7cff444b301613a633a54"
   }
  }
 },
 "nbformat": 4,
 "nbformat_minor": 2
}
