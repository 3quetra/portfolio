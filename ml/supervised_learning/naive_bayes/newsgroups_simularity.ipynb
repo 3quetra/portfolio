{
 "cells": [
  {
   "cell_type": "markdown",
   "metadata": {},
   "source": [
    "# Newsgroups Similarity\n",
    "\n",
    "In this project we will apply Scikit-learn’s Multinomial Naive Bayes Classifier to Scikit-learn’s example datasets to find which category combinations are harder for it to distinguish. We are going to achieve that by reporting the accuracy of several variations of the classifier that were fit on different categories of newsgroups.\n",
    "\n",
    "How difficult is it to distinguish emails about hockey and emails about soccer? \n",
    "How hard is it to tell the difference between emails about sports and emails about tech? \n",
    "In this project, we’ll find out exactly how difficult those two tasks are.\n",
    "\n",
    "We are going to use 20 newsgroups dataset which, according to documentation, comprises around 18000 newsgroups posts on 20 topics split in two subsets: one for training (or development) and the other one for testing (or for performance evaluation). The split between the train and test set is based upon a messages posted before and after a specific date. Documentation also says that it is easy for any classifier to overfit on particular things that appear in the 20 Newsgroups data. Many classifiers achieve very high F-scores, but their results would not generalize to other documents that aren’t from this window of time. For this reason, the functions that load 20 Newsgroups data provide a parameter called `remove`, telling it what kinds of information to strip out of each file. We are going to remove headers, signature blocks, and quotation blocks, as recommended by documentation, to get more realistic results. \n",
    "\n",
    "Let's start with imports and data exploration.\n"
   ]
  },
  {
   "cell_type": "code",
   "execution_count": 1,
   "metadata": {},
   "outputs": [],
   "source": [
    "# Data import\n",
    "from sklearn.datasets import fetch_20newsgroups\n",
    "\n",
    "# Imports for ml\n",
    "from sklearn.naive_bayes import MultinomialNB\n",
    "from sklearn.feature_extraction.text import CountVectorizer\n",
    "\n",
    "# Imports related to evaluation\n",
    "from sklearn.metrics import classification_report"
   ]
  },
  {
   "cell_type": "markdown",
   "metadata": {},
   "source": [
    "## Exploring the Data\n",
    "\n",
    "We’re interested in seeing how effective our Naive Bayes classifier is at telling the difference between a baseball and a hockey newsgroup as well as the difference between sports and tech newsgroups. Let's create 2 variables containing lists of target newsgroups."
   ]
  },
  {
   "cell_type": "code",
   "execution_count": 2,
   "metadata": {},
   "outputs": [],
   "source": [
    "# Preselect sports categories\n",
    "cats_sport = [\n",
    "    'rec.sport.baseball',\n",
    "    'rec.sport.hockey',\n",
    " ]\n",
    " \n",
    "# Preselect sports and tech categories\n",
    "cats_sport_tech = [\n",
    "    'rec.sport.baseball',\n",
    "    'rec.sport.hockey',\n",
    "    'comp.os.ms-windows.misc',\n",
    "    'comp.sys.ibm.pc.hardware',\n",
    " ]"
   ]
  },
  {
   "cell_type": "markdown",
   "metadata": {},
   "source": [
    "Now let's fetch information that corresponds to our preselected newsgroups. "
   ]
  },
  {
   "cell_type": "code",
   "execution_count": 3,
   "metadata": {},
   "outputs": [],
   "source": [
    "# Fetch only preselected categories from 20 available\n",
    "ng_sport = fetch_20newsgroups(categories = cats_sport)\n",
    "ng_sport_tech = fetch_20newsgroups(categories = cats_sport_tech)"
   ]
  },
  {
   "cell_type": "markdown",
   "metadata": {},
   "source": [
    "All the newsgroups are stored in an array called `data`. Let's access this array and view the first item in each of the previously created variables. "
   ]
  },
  {
   "cell_type": "code",
   "execution_count": 4,
   "metadata": {},
   "outputs": [
    {
     "data": {
      "text/plain": [
       "\"From: dougb@comm.mot.com (Doug Bank)\\nSubject: Re: Info needed for Cleveland tickets\\nReply-To: dougb@ecs.comm.mot.com\\nOrganization: Motorola Land Mobile Products Sector\\nDistribution: usa\\nNntp-Posting-Host: 145.1.146.35\\nLines: 17\\n\\nIn article <1993Apr1.234031.4950@leland.Stanford.EDU>, bohnert@leland.Stanford.EDU (matthew bohnert) writes:\\n\\n|> I'm going to be in Cleveland Thursday, April 15 to Sunday, April 18.\\n|> Does anybody know if the Tribe will be in town on those dates, and\\n|> if so, who're they playing and if tickets are available?\\n\\nThe tribe will be in town from April 16 to the 19th.\\nThere are ALWAYS tickets available! (Though they are playing Toronto,\\nand many Toronto fans make the trip to Cleveland as it is easier to\\nget tickets in Cleveland than in Toronto.  Either way, I seriously\\ndoubt they will sell out until the end of the season.)\\n\\n-- \\nDoug Bank                       Private Systems Division\\ndougb@ecs.comm.mot.com          Motorola Communications Sector\\ndougb@nwu.edu                   Schaumburg, Illinois\\ndougb@casbah.acns.nwu.edu       708-576-8207                    \\n\""
      ]
     },
     "execution_count": 4,
     "metadata": {},
     "output_type": "execute_result"
    }
   ],
   "source": [
    "# Show the 1st item of sports newsgroups\n",
    "ng_sport.data[0]"
   ]
  },
  {
   "cell_type": "code",
   "execution_count": 5,
   "metadata": {},
   "outputs": [
    {
     "data": {
      "text/plain": [
       "'From: jimg@cybernet.cse.fau.edu (Jim Gorycki)\\nSubject: New Franchise name\\nOrganization: Cybernet BBS, Boca Raton, Florida\\nLines: 31\\n\\nThe new name is Florida Panthers.  \\nThe panther is an endangered species, mostly located in the Everglades.\\nA couple of years ago, there were license plates made with Panthers on\\nthem (part of the revenue were to go to some protection fund).\\n\\nThe name of the new President of the Panthers should be announced today.\\n\\nAs of yesterday\\'s paper, Huizenga\\'s new hockey team will take the ice at\\nthe Miami Arena this fall.  The team has a guaranteed two-year lease with\\nthe arena, with four one-year options that could run through 1999.\\n\\n\"It\\'s not our choice\", James Blosser, a lawyer and Huizenga Aid said\\nabout ruling out the arena as a long term option.  \"The NHL told us we \\ncan\\'t stay there.  It\\'s not economically feasible.\"\\n\\nOne reason is because the Miami Heat basketball team controls skybox\\nand advertising revenue at the arena, reducing the hockey team\\'s profit\\npotential.\\n\\nThe hockey team is attracting arena site proposals from Broward, Dade, \\nand Palm Beach counties.\\n\\nA leading site is vacant land near Joe Robbie Stadium, where residents\\n10 days ago agreed to drop their opposition to a hockey arena, ending\\nan eight-year battle of wills.\\n\\nCompliments of the News/Sun-Sentinel.\\n\\nJim G.\\n\\n\"Fitz...Sanchez...Castranova...\"\\n'"
      ]
     },
     "execution_count": 5,
     "metadata": {},
     "output_type": "execute_result"
    }
   ],
   "source": [
    "# Show the 1st item of sports & tech newsgroups\n",
    "ng_sport_tech.data[0]"
   ]
  },
  {
   "cell_type": "markdown",
   "metadata": {},
   "source": [
    "All of the labels can be found in the array `target`. When we fetch only 2 newsgroups this array contains only 2 distinct numerical values."
   ]
  },
  {
   "cell_type": "code",
   "execution_count": 6,
   "metadata": {},
   "outputs": [
    {
     "data": {
      "text/plain": [
       "array([0, 1, 0, 1, 0, 1, 0, 1, 1, 1], dtype=int64)"
      ]
     },
     "execution_count": 6,
     "metadata": {},
     "output_type": "execute_result"
    }
   ],
   "source": [
    "ng_sport.target[:10]"
   ]
  },
  {
   "cell_type": "markdown",
   "metadata": {},
   "source": [
    "When we fetch more newsgroups the number of distinct numerical values rises to match the number of newsgroups - in our case to 4."
   ]
  },
  {
   "cell_type": "code",
   "execution_count": 7,
   "metadata": {},
   "outputs": [
    {
     "data": {
      "text/plain": [
       "array([3, 3, 0, 2, 1, 2, 2, 3, 1, 1], dtype=int64)"
      ]
     },
     "execution_count": 7,
     "metadata": {},
     "output_type": "execute_result"
    }
   ],
   "source": [
    "ng_sport_tech.target[:10]"
   ]
  },
  {
   "cell_type": "markdown",
   "metadata": {},
   "source": [
    "Let's check weather the number of newsgroups and labels are the same for both variables."
   ]
  },
  {
   "cell_type": "code",
   "execution_count": 8,
   "metadata": {},
   "outputs": [
    {
     "name": "stdout",
     "output_type": "stream",
     "text": [
      "Sports newsgroups labels vs data ratio: 1197 / 1197\n",
      "Sports & Tech newsgroups labels vs data ratio: 2378 / 2378\n"
     ]
    }
   ],
   "source": [
    "print('Sports newsgroups labels vs data ratio:', len(ng_sport.target), '/', len(ng_sport.data)) \n",
    "print('Sports & Tech newsgroups labels vs data ratio:', len(ng_sport_tech.target), '/', len(ng_sport_tech.data))\n"
   ]
  },
  {
   "cell_type": "markdown",
   "metadata": {},
   "source": [
    "The labels themselves are numbers, but those numbers correspond to the label names found in a list `target_names`, so we can easily map one to another. "
   ]
  },
  {
   "cell_type": "code",
   "execution_count": 9,
   "metadata": {},
   "outputs": [
    {
     "data": {
      "text/plain": [
       "'rec.sport.hockey'"
      ]
     },
     "execution_count": 9,
     "metadata": {},
     "output_type": "execute_result"
    }
   ],
   "source": [
    "# Map the label of the 5th item in dataset ng_sport with its target name\n",
    "ng_sport.target_names[ng_sport.target[5]]"
   ]
  },
  {
   "cell_type": "markdown",
   "metadata": {},
   "source": [
    "## Making the Training and Test Sets\n",
    "\n",
    "We now want to split our data into training and test sets (2 for each variable) and remove newsgroup's specific signifiers: `headers`, `footers`, `quotes`."
   ]
  },
  {
   "cell_type": "code",
   "execution_count": 10,
   "metadata": {},
   "outputs": [],
   "source": [
    "train_ng_sport = fetch_20newsgroups(\n",
    "    categories = cats_sport,\n",
    "    subset='train',\n",
    "    remove=('headers', 'footers', 'quotes'),\n",
    "    shuffle=True, \n",
    "    random_state=33\n",
    ")\n",
    " \n",
    "test_ng_sport = fetch_20newsgroups(\n",
    "    categories = cats_sport,\n",
    "    subset='test',\n",
    "    remove=('headers', 'footers', 'quotes'),\n",
    "    shuffle=True, \n",
    "    random_state=33\n",
    ")\n",
    "\n",
    "train_ng_sport_tech = fetch_20newsgroups(\n",
    "    categories = cats_sport_tech,\n",
    "    subset='train',\n",
    "    remove=('headers', 'footers', 'quotes'),\n",
    "    shuffle=True, \n",
    "    random_state=96\n",
    ")\n",
    " \n",
    "test_ng_sport_tech = fetch_20newsgroups(\n",
    "    categories = cats_sport_tech,\n",
    "    subset='test',\n",
    "    remove=('headers', 'footers', 'quotes'),\n",
    "    shuffle=True, \n",
    "    random_state=96\n",
    ")"
   ]
  },
  {
   "cell_type": "code",
   "execution_count": 11,
   "metadata": {},
   "outputs": [
    {
     "name": "stdout",
     "output_type": "stream",
     "text": [
      "Sports train and test sets ratio: 1197 / 796\n",
      "Sports & Tech train and test sets ratio: 2378 / 1582\n"
     ]
    }
   ],
   "source": [
    "print('Sports train and test sets ratio:', len(train_ng_sport.data), '/', len(test_ng_sport.data)) \n",
    "print('Sports & Tech train and test sets ratio:', len(train_ng_sport_tech.data), '/', len(test_ng_sport_tech.data))"
   ]
  },
  {
   "cell_type": "markdown",
   "metadata": {},
   "source": [
    "## Counting Words\n",
    "\n",
    "We want to transform these emails into lists of word counts. The CountVectorizer class makes this easy for us, but we need to create 2 of them to compare the final performance of classifiers.\n"
   ]
  },
  {
   "cell_type": "code",
   "execution_count": 12,
   "metadata": {},
   "outputs": [
    {
     "data": {
      "text/plain": [
       "CountVectorizer()"
      ]
     },
     "execution_count": 12,
     "metadata": {},
     "output_type": "execute_result"
    }
   ],
   "source": [
    "counter_s = CountVectorizer()\n",
    "counter_s.fit(train_ng_sport.data + test_ng_sport.data)\n",
    "\n",
    "counter_st = CountVectorizer()\n",
    "counter_st.fit(train_ng_sport_tech.data + test_ng_sport_tech.data)"
   ]
  },
  {
   "cell_type": "code",
   "execution_count": 13,
   "metadata": {},
   "outputs": [],
   "source": [
    "train_s_counts = counter_s.transform(train_ng_sport.data)\n",
    "test_s_counts = counter_s.transform(test_ng_sport.data)\n",
    "\n",
    "train_st_counts = counter_st.transform(train_ng_sport_tech.data)\n",
    "test_st_counts = counter_st.transform(test_ng_sport_tech.data)"
   ]
  },
  {
   "cell_type": "markdown",
   "metadata": {},
   "source": [
    "## Making a Naive Bayes Classifier\n",
    "\n",
    "Now it's time to create classifiers, fit them and compare their accuracy scores."
   ]
  },
  {
   "cell_type": "code",
   "execution_count": 14,
   "metadata": {},
   "outputs": [
    {
     "data": {
      "text/plain": [
       "MultinomialNB()"
      ]
     },
     "execution_count": 14,
     "metadata": {},
     "output_type": "execute_result"
    }
   ],
   "source": [
    "classifier_s = MultinomialNB()\n",
    "classifier_st = MultinomialNB()\n",
    "\n",
    "classifier_s.fit(train_s_counts, train_ng_sport.target)\n",
    "classifier_st.fit(train_st_counts, train_ng_sport_tech.target)\n"
   ]
  },
  {
   "cell_type": "code",
   "execution_count": 15,
   "metadata": {},
   "outputs": [
    {
     "name": "stdout",
     "output_type": "stream",
     "text": [
      "Sports newsgroups distinction accuracy score: 87.0 %\n",
      "Sports and Tech newsgroups distinction accuracy score: 70.0 %\n"
     ]
    }
   ],
   "source": [
    "print('Sports newsgroups distinction accuracy score:', round(classifier_s.score(test_s_counts, test_ng_sport.target),2) * 100, '%')\n",
    "print('Sports and Tech newsgroups distinction accuracy score:', round(classifier_st.score(test_st_counts, test_ng_sport_tech.target),2) * 100, '%')"
   ]
  },
  {
   "cell_type": "code",
   "execution_count": 16,
   "metadata": {},
   "outputs": [
    {
     "name": "stdout",
     "output_type": "stream",
     "text": [
      "              precision    recall  f1-score   support\n",
      "\n",
      "           0       0.82      0.95      0.88       397\n",
      "           1       0.94      0.79      0.86       399\n",
      "\n",
      "    accuracy                           0.87       796\n",
      "   macro avg       0.88      0.87      0.87       796\n",
      "weighted avg       0.88      0.87      0.87       796\n",
      "\n"
     ]
    }
   ],
   "source": [
    "# Calculate evaluation metrics for sports ng\n",
    "print(classification_report(test_ng_sport.target, classifier_s.predict(test_s_counts)))"
   ]
  },
  {
   "cell_type": "code",
   "execution_count": 17,
   "metadata": {},
   "outputs": [
    {
     "name": "stdout",
     "output_type": "stream",
     "text": [
      "              precision    recall  f1-score   support\n",
      "\n",
      "           0       1.00      0.01      0.02       394\n",
      "           1       0.50      0.98      0.66       392\n",
      "           2       0.90      0.88      0.89       397\n",
      "           3       0.86      0.92      0.89       399\n",
      "\n",
      "    accuracy                           0.70      1582\n",
      "   macro avg       0.82      0.70      0.61      1582\n",
      "weighted avg       0.82      0.70      0.62      1582\n",
      "\n"
     ]
    }
   ],
   "source": [
    "# Calculate evaluation metrics for sports & tech ng\n",
    "print(classification_report(test_ng_sport_tech.target, classifier_st.predict(test_st_counts)))"
   ]
  },
  {
   "cell_type": "markdown",
   "metadata": {},
   "source": [
    "## Conclusion \n",
    "\n",
    "We have created 2 classifiers that were fit on 2 stacks of newsgroups. The first contained only sports newsgroups the second was its gradual modification and contained two tech newsgroups as addition to the same sports newsgroups. \n",
    "- As a result Sports' newsgroups being alone got almost `20%` better accuracy score than the mixed version. \n",
    "- Judging by the scores each of 2 Tech's newsgroups separately, in extensive report, classifier had a hard time distinguishing one from another. \n",
    "- At the same time, it did just fine when identified Tech and Sport newsgroups in general. "
   ]
  }
 ],
 "metadata": {
  "kernelspec": {
   "display_name": "Python 3.10.6 64-bit (microsoft store)",
   "language": "python",
   "name": "python3"
  },
  "language_info": {
   "codemirror_mode": {
    "name": "ipython",
    "version": 3
   },
   "file_extension": ".py",
   "mimetype": "text/x-python",
   "name": "python",
   "nbconvert_exporter": "python",
   "pygments_lexer": "ipython3",
   "version": "3.10.7"
  },
  "orig_nbformat": 4,
  "vscode": {
   "interpreter": {
    "hash": "a166e61b3f1e7b9ccc9f59f78d7cc3087a9ccbb0b1a7cff444b301613a633a54"
   }
  }
 },
 "nbformat": 4,
 "nbformat_minor": 2
}
