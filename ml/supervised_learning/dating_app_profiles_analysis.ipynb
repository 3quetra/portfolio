{
 "cells": [
  {
   "cell_type": "markdown",
   "metadata": {},
   "source": [
    "# OKCupid Dating App\n",
    "\n",
    "The goal of this project is to find out whether it's possible to predict person's age and religious views via machine learning models, with sufficient accuracy, based on dating app profiles' data from OKCupid.  We are going to evaluate accuracy of different supervised models separately as well as create ensembles and assess resulting accuracy's shifts. Dataset is provided by Codecademy.com.\n",
    "\n",
    "### Columns Description\n",
    "\n",
    "Selectable information:\n",
    "\n",
    "- **age:** continuous variable of age of user\n",
    "- **body_type:** categorical variable of body type of user\n",
    "- **diet:** categorical variable of dietary information\n",
    "- **drinks:**  categorical variable of alcohol consumption\n",
    "- **drugs:** categorical variable of drug usage\n",
    "- **education:** categorical variable of educational attainment\n",
    "- **ethnicity:** categorical variable of ethnic backgrounds\n",
    "- **height:** continuous variable of height of user\n",
    "- **income:** continuous variable of income of user\n",
    "- **job:** categorical variable of employment description\n",
    "- **offspring:** categorical variable of children status\n",
    "- **orientation:** categorical variable of sexual orientation\n",
    "- **pets:** categorical variable of pet preferences\n",
    "- **religion:** categorical variable of religious background\n",
    "- **sex:** categorical variable of gender\n",
    "- **sign:** categorical variable of astrological symbol\n",
    "- **smokes:** categorical variable of smoking consumption\n",
    "- **speaks:** categorical variable of language spoken\n",
    "- **status:** categorical variable of relationship status\n",
    "- **last_online:** date variable of last login\n",
    "- **location:** categorical variable of user locations\n",
    "\n",
    "Open answer essays:\n",
    "\n",
    "- **essay0:** My self summary\n",
    "- **essay1:**  What I’m doing with my life\n",
    "- **essay2:** I’m really good at\n",
    "- **essay3:** The first thing people usually notice about me\n",
    "- **essay4:** Favorite books, movies, show, music, and food\n",
    "- **essay5:** The six things I could never do without\n",
    "- **essay6:** I spend a lot of time thinking about\n",
    "- **essay7:** On a typical Friday night I am\n",
    "- **essay8:** The most private thing I am willing to admit\n",
    "- **essay9:** You should message me if…\n",
    "\n",
    "## Inspecting Data\n",
    "\n",
    "For starters, let's perform necessary imports and load the `profiles.csv` data into `profiles` variable. "
   ]
  },
  {
   "cell_type": "code",
   "execution_count": 1,
   "metadata": {},
   "outputs": [],
   "source": [
    "# Basic imports related to analysis\n",
    "import numpy as np\n",
    "import pandas as pd\n",
    "\n",
    "# Imports for visualisationin\n",
    "import seaborn as sns\n",
    "from matplotlib import pyplot as plt\n",
    "\n",
    "# Imports for files processing\n",
    "import os\n",
    "import pickle\n",
    "\n",
    "# Imports for ml \n",
    "from sklearn.model_selection import train_test_split\n",
    "from sklearn import tree\n",
    "from sklearn.ensemble import RandomForestClassifier\n",
    "from sklearn.neighbors import KNeighborsClassifier\n",
    "\n",
    "# Imports related to evaluation\n",
    "from sklearn.metrics import classification_report"
   ]
  },
  {
   "cell_type": "markdown",
   "metadata": {},
   "source": [
    "Note: we are going to use pickle to speed up running time, so in some cells will be placed pickle functions."
   ]
  },
  {
   "cell_type": "code",
   "execution_count": 2,
   "metadata": {},
   "outputs": [],
   "source": [
    "# Serialize object\n",
    "def pickle_object(object, file_path):\n",
    "    with open(file_path, 'wb') as f:\n",
    "        pickle.dump(object, f)\n",
    "\n",
    "def with_pickle(file_path, fun):\n",
    "    value = unpickle_object(file_path)\n",
    "    if value is None:\n",
    "        value = fun()\n",
    "        pickle_object(value, file_path)\n",
    "    return value\n",
    "\n",
    "# Deserialize object\n",
    "def unpickle_object(file_path):\n",
    "    if not os.path.isfile(file_path):\n",
    "        return None\n",
    "    with open(file_path, 'rb') as f:\n",
    "        return pickle.load(f)"
   ]
  },
  {
   "cell_type": "code",
   "execution_count": 3,
   "metadata": {},
   "outputs": [
    {
     "data": {
      "text/html": [
       "<div>\n",
       "<style scoped>\n",
       "    .dataframe tbody tr th:only-of-type {\n",
       "        vertical-align: middle;\n",
       "    }\n",
       "\n",
       "    .dataframe tbody tr th {\n",
       "        vertical-align: top;\n",
       "    }\n",
       "\n",
       "    .dataframe thead th {\n",
       "        text-align: right;\n",
       "    }\n",
       "</style>\n",
       "<table border=\"1\" class=\"dataframe\">\n",
       "  <thead>\n",
       "    <tr style=\"text-align: right;\">\n",
       "      <th></th>\n",
       "      <th>age</th>\n",
       "      <th>body_type</th>\n",
       "      <th>diet</th>\n",
       "      <th>drinks</th>\n",
       "      <th>drugs</th>\n",
       "      <th>education</th>\n",
       "      <th>essay0</th>\n",
       "      <th>essay1</th>\n",
       "      <th>essay2</th>\n",
       "      <th>essay3</th>\n",
       "      <th>essay4</th>\n",
       "      <th>essay5</th>\n",
       "      <th>essay6</th>\n",
       "      <th>essay7</th>\n",
       "      <th>essay8</th>\n",
       "      <th>essay9</th>\n",
       "      <th>ethnicity</th>\n",
       "      <th>height</th>\n",
       "      <th>income</th>\n",
       "      <th>job</th>\n",
       "      <th>last_online</th>\n",
       "      <th>location</th>\n",
       "      <th>offspring</th>\n",
       "      <th>orientation</th>\n",
       "      <th>pets</th>\n",
       "      <th>religion</th>\n",
       "      <th>sex</th>\n",
       "      <th>sign</th>\n",
       "      <th>smokes</th>\n",
       "      <th>speaks</th>\n",
       "      <th>status</th>\n",
       "    </tr>\n",
       "  </thead>\n",
       "  <tbody>\n",
       "    <tr>\n",
       "      <th>0</th>\n",
       "      <td>22</td>\n",
       "      <td>a little extra</td>\n",
       "      <td>strictly anything</td>\n",
       "      <td>socially</td>\n",
       "      <td>never</td>\n",
       "      <td>working on college/university</td>\n",
       "      <td>about me:&lt;br /&gt;\\n&lt;br /&gt;\\ni would love to think...</td>\n",
       "      <td>currently working as an international agent fo...</td>\n",
       "      <td>making people laugh.&lt;br /&gt;\\nranting about a go...</td>\n",
       "      <td>the way i look. i am a six foot half asian, ha...</td>\n",
       "      <td>books:&lt;br /&gt;\\nabsurdistan, the republic, of mi...</td>\n",
       "      <td>food.&lt;br /&gt;\\nwater.&lt;br /&gt;\\ncell phone.&lt;br /&gt;\\n...</td>\n",
       "      <td>duality and humorous things</td>\n",
       "      <td>trying to find someone to hang out with. i am ...</td>\n",
       "      <td>i am new to california and looking for someone...</td>\n",
       "      <td>you want to be swept off your feet!&lt;br /&gt;\\nyou...</td>\n",
       "      <td>asian, white</td>\n",
       "      <td>75.0</td>\n",
       "      <td>-1</td>\n",
       "      <td>transportation</td>\n",
       "      <td>2012-06-28-20-30</td>\n",
       "      <td>south san francisco, california</td>\n",
       "      <td>doesn&amp;rsquo;t have kids, but might want them</td>\n",
       "      <td>straight</td>\n",
       "      <td>likes dogs and likes cats</td>\n",
       "      <td>agnosticism and very serious about it</td>\n",
       "      <td>m</td>\n",
       "      <td>gemini</td>\n",
       "      <td>sometimes</td>\n",
       "      <td>english</td>\n",
       "      <td>single</td>\n",
       "    </tr>\n",
       "    <tr>\n",
       "      <th>1</th>\n",
       "      <td>35</td>\n",
       "      <td>average</td>\n",
       "      <td>mostly other</td>\n",
       "      <td>often</td>\n",
       "      <td>sometimes</td>\n",
       "      <td>working on space camp</td>\n",
       "      <td>i am a chef: this is what that means.&lt;br /&gt;\\n1...</td>\n",
       "      <td>dedicating everyday to being an unbelievable b...</td>\n",
       "      <td>being silly. having ridiculous amonts of fun w...</td>\n",
       "      <td>NaN</td>\n",
       "      <td>i am die hard christopher moore fan. i don't r...</td>\n",
       "      <td>delicious porkness in all of its glories.&lt;br /...</td>\n",
       "      <td>NaN</td>\n",
       "      <td>NaN</td>\n",
       "      <td>i am very open and will share just about anyth...</td>\n",
       "      <td>NaN</td>\n",
       "      <td>white</td>\n",
       "      <td>70.0</td>\n",
       "      <td>80000</td>\n",
       "      <td>hospitality / travel</td>\n",
       "      <td>2012-06-29-21-41</td>\n",
       "      <td>oakland, california</td>\n",
       "      <td>doesn&amp;rsquo;t have kids, but might want them</td>\n",
       "      <td>straight</td>\n",
       "      <td>likes dogs and likes cats</td>\n",
       "      <td>agnosticism but not too serious about it</td>\n",
       "      <td>m</td>\n",
       "      <td>cancer</td>\n",
       "      <td>no</td>\n",
       "      <td>english (fluently), spanish (poorly), french (...</td>\n",
       "      <td>single</td>\n",
       "    </tr>\n",
       "    <tr>\n",
       "      <th>2</th>\n",
       "      <td>38</td>\n",
       "      <td>thin</td>\n",
       "      <td>anything</td>\n",
       "      <td>socially</td>\n",
       "      <td>NaN</td>\n",
       "      <td>graduated from masters program</td>\n",
       "      <td>i'm not ashamed of much, but writing public te...</td>\n",
       "      <td>i make nerdy software for musicians, artists, ...</td>\n",
       "      <td>improvising in different contexts. alternating...</td>\n",
       "      <td>my large jaw and large glasses are the physica...</td>\n",
       "      <td>okay this is where the cultural matrix gets so...</td>\n",
       "      <td>movement&lt;br /&gt;\\nconversation&lt;br /&gt;\\ncreation&lt;b...</td>\n",
       "      <td>NaN</td>\n",
       "      <td>viewing. listening. dancing. talking. drinking...</td>\n",
       "      <td>when i was five years old, i was known as \"the...</td>\n",
       "      <td>you are bright, open, intense, silly, ironic, ...</td>\n",
       "      <td>NaN</td>\n",
       "      <td>68.0</td>\n",
       "      <td>-1</td>\n",
       "      <td>NaN</td>\n",
       "      <td>2012-06-27-09-10</td>\n",
       "      <td>san francisco, california</td>\n",
       "      <td>NaN</td>\n",
       "      <td>straight</td>\n",
       "      <td>has cats</td>\n",
       "      <td>NaN</td>\n",
       "      <td>m</td>\n",
       "      <td>pisces but it doesn&amp;rsquo;t matter</td>\n",
       "      <td>no</td>\n",
       "      <td>english, french, c++</td>\n",
       "      <td>available</td>\n",
       "    </tr>\n",
       "    <tr>\n",
       "      <th>3</th>\n",
       "      <td>23</td>\n",
       "      <td>thin</td>\n",
       "      <td>vegetarian</td>\n",
       "      <td>socially</td>\n",
       "      <td>NaN</td>\n",
       "      <td>working on college/university</td>\n",
       "      <td>i work in a library and go to school. . .</td>\n",
       "      <td>reading things written by old dead people</td>\n",
       "      <td>playing synthesizers and organizing books acco...</td>\n",
       "      <td>socially awkward but i do my best</td>\n",
       "      <td>bataille, celine, beckett. . .&lt;br /&gt;\\nlynch, j...</td>\n",
       "      <td>NaN</td>\n",
       "      <td>cats and german philosophy</td>\n",
       "      <td>NaN</td>\n",
       "      <td>NaN</td>\n",
       "      <td>you feel so inclined.</td>\n",
       "      <td>white</td>\n",
       "      <td>71.0</td>\n",
       "      <td>20000</td>\n",
       "      <td>student</td>\n",
       "      <td>2012-06-28-14-22</td>\n",
       "      <td>berkeley, california</td>\n",
       "      <td>doesn&amp;rsquo;t want kids</td>\n",
       "      <td>straight</td>\n",
       "      <td>likes cats</td>\n",
       "      <td>NaN</td>\n",
       "      <td>m</td>\n",
       "      <td>pisces</td>\n",
       "      <td>no</td>\n",
       "      <td>english, german (poorly)</td>\n",
       "      <td>single</td>\n",
       "    </tr>\n",
       "    <tr>\n",
       "      <th>4</th>\n",
       "      <td>29</td>\n",
       "      <td>athletic</td>\n",
       "      <td>NaN</td>\n",
       "      <td>socially</td>\n",
       "      <td>never</td>\n",
       "      <td>graduated from college/university</td>\n",
       "      <td>hey how's it going? currently vague on the pro...</td>\n",
       "      <td>work work work work + play</td>\n",
       "      <td>creating imagery to look at:&lt;br /&gt;\\nhttp://bag...</td>\n",
       "      <td>i smile a lot and my inquisitive nature</td>\n",
       "      <td>music: bands, rappers, musicians&lt;br /&gt;\\nat the...</td>\n",
       "      <td>NaN</td>\n",
       "      <td>NaN</td>\n",
       "      <td>NaN</td>\n",
       "      <td>NaN</td>\n",
       "      <td>NaN</td>\n",
       "      <td>asian, black, other</td>\n",
       "      <td>66.0</td>\n",
       "      <td>-1</td>\n",
       "      <td>artistic / musical / writer</td>\n",
       "      <td>2012-06-27-21-26</td>\n",
       "      <td>san francisco, california</td>\n",
       "      <td>NaN</td>\n",
       "      <td>straight</td>\n",
       "      <td>likes dogs and likes cats</td>\n",
       "      <td>NaN</td>\n",
       "      <td>m</td>\n",
       "      <td>aquarius</td>\n",
       "      <td>no</td>\n",
       "      <td>english</td>\n",
       "      <td>single</td>\n",
       "    </tr>\n",
       "  </tbody>\n",
       "</table>\n",
       "</div>"
      ],
      "text/plain": [
       "   age       body_type               diet    drinks      drugs  \\\n",
       "0   22  a little extra  strictly anything  socially      never   \n",
       "1   35         average       mostly other     often  sometimes   \n",
       "2   38            thin           anything  socially        NaN   \n",
       "3   23            thin         vegetarian  socially        NaN   \n",
       "4   29        athletic                NaN  socially      never   \n",
       "\n",
       "                           education  \\\n",
       "0      working on college/university   \n",
       "1              working on space camp   \n",
       "2     graduated from masters program   \n",
       "3      working on college/university   \n",
       "4  graduated from college/university   \n",
       "\n",
       "                                              essay0  \\\n",
       "0  about me:<br />\\n<br />\\ni would love to think...   \n",
       "1  i am a chef: this is what that means.<br />\\n1...   \n",
       "2  i'm not ashamed of much, but writing public te...   \n",
       "3          i work in a library and go to school. . .   \n",
       "4  hey how's it going? currently vague on the pro...   \n",
       "\n",
       "                                              essay1  \\\n",
       "0  currently working as an international agent fo...   \n",
       "1  dedicating everyday to being an unbelievable b...   \n",
       "2  i make nerdy software for musicians, artists, ...   \n",
       "3          reading things written by old dead people   \n",
       "4                         work work work work + play   \n",
       "\n",
       "                                              essay2  \\\n",
       "0  making people laugh.<br />\\nranting about a go...   \n",
       "1  being silly. having ridiculous amonts of fun w...   \n",
       "2  improvising in different contexts. alternating...   \n",
       "3  playing synthesizers and organizing books acco...   \n",
       "4  creating imagery to look at:<br />\\nhttp://bag...   \n",
       "\n",
       "                                              essay3  \\\n",
       "0  the way i look. i am a six foot half asian, ha...   \n",
       "1                                                NaN   \n",
       "2  my large jaw and large glasses are the physica...   \n",
       "3                  socially awkward but i do my best   \n",
       "4            i smile a lot and my inquisitive nature   \n",
       "\n",
       "                                              essay4  \\\n",
       "0  books:<br />\\nabsurdistan, the republic, of mi...   \n",
       "1  i am die hard christopher moore fan. i don't r...   \n",
       "2  okay this is where the cultural matrix gets so...   \n",
       "3  bataille, celine, beckett. . .<br />\\nlynch, j...   \n",
       "4  music: bands, rappers, musicians<br />\\nat the...   \n",
       "\n",
       "                                              essay5  \\\n",
       "0  food.<br />\\nwater.<br />\\ncell phone.<br />\\n...   \n",
       "1  delicious porkness in all of its glories.<br /...   \n",
       "2  movement<br />\\nconversation<br />\\ncreation<b...   \n",
       "3                                                NaN   \n",
       "4                                                NaN   \n",
       "\n",
       "                        essay6  \\\n",
       "0  duality and humorous things   \n",
       "1                          NaN   \n",
       "2                          NaN   \n",
       "3   cats and german philosophy   \n",
       "4                          NaN   \n",
       "\n",
       "                                              essay7  \\\n",
       "0  trying to find someone to hang out with. i am ...   \n",
       "1                                                NaN   \n",
       "2  viewing. listening. dancing. talking. drinking...   \n",
       "3                                                NaN   \n",
       "4                                                NaN   \n",
       "\n",
       "                                              essay8  \\\n",
       "0  i am new to california and looking for someone...   \n",
       "1  i am very open and will share just about anyth...   \n",
       "2  when i was five years old, i was known as \"the...   \n",
       "3                                                NaN   \n",
       "4                                                NaN   \n",
       "\n",
       "                                              essay9            ethnicity  \\\n",
       "0  you want to be swept off your feet!<br />\\nyou...         asian, white   \n",
       "1                                                NaN                white   \n",
       "2  you are bright, open, intense, silly, ironic, ...                  NaN   \n",
       "3                              you feel so inclined.                white   \n",
       "4                                                NaN  asian, black, other   \n",
       "\n",
       "   height  income                          job       last_online  \\\n",
       "0    75.0      -1               transportation  2012-06-28-20-30   \n",
       "1    70.0   80000         hospitality / travel  2012-06-29-21-41   \n",
       "2    68.0      -1                          NaN  2012-06-27-09-10   \n",
       "3    71.0   20000                      student  2012-06-28-14-22   \n",
       "4    66.0      -1  artistic / musical / writer  2012-06-27-21-26   \n",
       "\n",
       "                          location  \\\n",
       "0  south san francisco, california   \n",
       "1              oakland, california   \n",
       "2        san francisco, california   \n",
       "3             berkeley, california   \n",
       "4        san francisco, california   \n",
       "\n",
       "                                      offspring orientation  \\\n",
       "0  doesn&rsquo;t have kids, but might want them    straight   \n",
       "1  doesn&rsquo;t have kids, but might want them    straight   \n",
       "2                                           NaN    straight   \n",
       "3                       doesn&rsquo;t want kids    straight   \n",
       "4                                           NaN    straight   \n",
       "\n",
       "                        pets                                  religion sex  \\\n",
       "0  likes dogs and likes cats     agnosticism and very serious about it   m   \n",
       "1  likes dogs and likes cats  agnosticism but not too serious about it   m   \n",
       "2                   has cats                                       NaN   m   \n",
       "3                 likes cats                                       NaN   m   \n",
       "4  likes dogs and likes cats                                       NaN   m   \n",
       "\n",
       "                                 sign     smokes  \\\n",
       "0                              gemini  sometimes   \n",
       "1                              cancer         no   \n",
       "2  pisces but it doesn&rsquo;t matter         no   \n",
       "3                              pisces         no   \n",
       "4                            aquarius         no   \n",
       "\n",
       "                                              speaks     status  \n",
       "0                                            english     single  \n",
       "1  english (fluently), spanish (poorly), french (...     single  \n",
       "2                               english, french, c++  available  \n",
       "3                           english, german (poorly)     single  \n",
       "4                                            english     single  "
      ]
     },
     "execution_count": 3,
     "metadata": {},
     "output_type": "execute_result"
    }
   ],
   "source": [
    "profiles = pd.read_csv('profiles.csv')\n",
    "pd.set_option('display.max_columns', None)\n",
    "profiles.head()"
   ]
  },
  {
   "cell_type": "code",
   "execution_count": 4,
   "metadata": {},
   "outputs": [
    {
     "name": "stdout",
     "output_type": "stream",
     "text": [
      "<class 'pandas.core.frame.DataFrame'>\n",
      "RangeIndex: 59946 entries, 0 to 59945\n",
      "Data columns (total 31 columns):\n",
      " #   Column       Non-Null Count  Dtype  \n",
      "---  ------       --------------  -----  \n",
      " 0   age          59946 non-null  int64  \n",
      " 1   body_type    54650 non-null  object \n",
      " 2   diet         35551 non-null  object \n",
      " 3   drinks       56961 non-null  object \n",
      " 4   drugs        45866 non-null  object \n",
      " 5   education    53318 non-null  object \n",
      " 6   essay0       54458 non-null  object \n",
      " 7   essay1       52374 non-null  object \n",
      " 8   essay2       50308 non-null  object \n",
      " 9   essay3       48470 non-null  object \n",
      " 10  essay4       49409 non-null  object \n",
      " 11  essay5       49096 non-null  object \n",
      " 12  essay6       46175 non-null  object \n",
      " 13  essay7       47495 non-null  object \n",
      " 14  essay8       40721 non-null  object \n",
      " 15  essay9       47343 non-null  object \n",
      " 16  ethnicity    54266 non-null  object \n",
      " 17  height       59943 non-null  float64\n",
      " 18  income       59946 non-null  int64  \n",
      " 19  job          51748 non-null  object \n",
      " 20  last_online  59946 non-null  object \n",
      " 21  location     59946 non-null  object \n",
      " 22  offspring    24385 non-null  object \n",
      " 23  orientation  59946 non-null  object \n",
      " 24  pets         40025 non-null  object \n",
      " 25  religion     39720 non-null  object \n",
      " 26  sex          59946 non-null  object \n",
      " 27  sign         48890 non-null  object \n",
      " 28  smokes       54434 non-null  object \n",
      " 29  speaks       59896 non-null  object \n",
      " 30  status       59946 non-null  object \n",
      "dtypes: float64(1), int64(2), object(28)\n",
      "memory usage: 14.2+ MB\n"
     ]
    }
   ],
   "source": [
    "profiles.info()"
   ]
  },
  {
   "cell_type": "markdown",
   "metadata": {},
   "source": [
    "As one can see there are 59946 rows and 31 columns in this dataset. As columns description tells us, almost all data is categorical, there are only 3 columns with numerical data types. \n",
    "\n",
    "Considering we are going to predict age and religion, let's see what information we have in those columns and how many representatives in each variation. "
   ]
  },
  {
   "cell_type": "code",
   "execution_count": 5,
   "metadata": {},
   "outputs": [
    {
     "data": {
      "text/plain": [
       "Text(0, 0.5, 'Religious Views')"
      ]
     },
     "execution_count": 5,
     "metadata": {},
     "output_type": "execute_result"
    },
    {
     "data": {
      "image/png": "[encoded data removed]",
      "text/plain": [
       "<Figure size 1080x648 with 1 Axes>"
      ]
     },
     "metadata": {
      "needs_background": "light"
     },
     "output_type": "display_data"
    }
   ],
   "source": [
    "# Set figure size\n",
    "plt.figure(figsize=(15,9))\n",
    "# Draw countplot\n",
    "ax = sns.countplot(data=profiles, y=\"religion\", palette='magma')\n",
    "# Add descriptions\n",
    "ax.set_title('Religious Views Ratio', fontsize = 'x-large')\n",
    "ax.set_xlabel('Count', fontsize = 'large')\n",
    "ax.set_ylabel('Religious Views', fontsize = 'large')"
   ]
  },
  {
   "cell_type": "markdown",
   "metadata": {},
   "source": [
    "In `religion` column there is an additional parameter which tells a person's attitude toward's their religious views. We won't predict this attitude, just the religion itself, let's distill religions names."
   ]
  },
  {
   "cell_type": "code",
   "execution_count": 6,
   "metadata": {},
   "outputs": [
    {
     "data": {
      "text/plain": [
       "Text(0, 0.5, 'Religious Views')"
      ]
     },
     "execution_count": 6,
     "metadata": {},
     "output_type": "execute_result"
    },
    {
     "data": {
      "image/png": "[encoded data removed]",
      "text/plain": [
       "<Figure size 1080x648 with 1 Axes>"
      ]
     },
     "metadata": {
      "needs_background": "light"
     },
     "output_type": "display_data"
    }
   ],
   "source": [
    "# Get only name of religion\n",
    "profiles['religion'] = profiles.religion.str.split().str.get(0)\n",
    "# Set figure size\n",
    "plt.figure(figsize=(15,9))\n",
    "# Draw countplot\n",
    "ax = sns.countplot(data=profiles, y=\"religion\", palette='magma')\n",
    "# Add descriptions\n",
    "ax.set_title('Religious Views Ratio', fontsize = 'x-large')\n",
    "ax.set_xlabel('Count', fontsize = 'large')\n",
    "ax.set_ylabel('Religious Views', fontsize = 'large')"
   ]
  },
  {
   "cell_type": "markdown",
   "metadata": {},
   "source": [
    "There are not many users who consider themselves as professions of Islam or Hinduism, in some form, compared to other religions, that will, most likely, impact models making prediction of these branches of religious views unreliable. \n",
    "\n",
    "Now let's switch to age. "
   ]
  },
  {
   "cell_type": "code",
   "execution_count": 7,
   "metadata": {},
   "outputs": [
    {
     "data": {
      "text/plain": [
       "array([ 22,  35,  38,  23,  29,  32,  31,  24,  37,  28,  30,  39,  33,\n",
       "        26,  27,  20,  25,  40,  36,  21,  34,  43,  46,  41,  42,  45,\n",
       "        18,  55,  50,  59,  44,  48,  54,  51,  62,  52,  19,  58,  66,\n",
       "        53,  63,  47,  49,  61,  60,  57,  56,  65,  64,  68, 110,  69,\n",
       "        67, 109], dtype=int64)"
      ]
     },
     "execution_count": 7,
     "metadata": {},
     "output_type": "execute_result"
    }
   ],
   "source": [
    "profiles.age.unique()"
   ]
  },
  {
   "cell_type": "code",
   "execution_count": 8,
   "metadata": {},
   "outputs": [
    {
     "data": {
      "text/plain": [
       "Text(0, 0.5, 'Count')"
      ]
     },
     "execution_count": 8,
     "metadata": {},
     "output_type": "execute_result"
    },
    {
     "data": {
      "image/png": "[encoded data removed]",
      "text/plain": [
       "<Figure size 1080x648 with 1 Axes>"
      ]
     },
     "metadata": {
      "needs_background": "light"
     },
     "output_type": "display_data"
    }
   ],
   "source": [
    "plt.figure(figsize=(15,9))\n",
    "ax = sns.histplot(data=profiles, x=\"age\", hue=\"sex\", binwidth = 1, multiple = \"stack\", palette='magma')\n",
    "# Add descriptions\n",
    "ax.set_title('Religious Views Ratio', fontsize = 'x-large')\n",
    "ax.set_xlabel('Age', fontsize = 'large')\n",
    "ax.set_ylabel('Count', fontsize = 'large')"
   ]
  },
  {
   "cell_type": "code",
   "execution_count": 9,
   "metadata": {},
   "outputs": [
    {
     "data": {
      "text/plain": [
       "count    59946.000000\n",
       "mean        32.340290\n",
       "std          9.452779\n",
       "min         18.000000\n",
       "25%         26.000000\n",
       "50%         30.000000\n",
       "75%         37.000000\n",
       "max        110.000000\n",
       "Name: age, dtype: float64"
      ]
     },
     "execution_count": 9,
     "metadata": {},
     "output_type": "execute_result"
    }
   ],
   "source": [
    "profiles.age.describe()"
   ]
  },
  {
   "cell_type": "code",
   "execution_count": 10,
   "metadata": {},
   "outputs": [
    {
     "data": {
      "text/plain": [
       "30.0"
      ]
     },
     "execution_count": 10,
     "metadata": {},
     "output_type": "execute_result"
    }
   ],
   "source": [
    "profiles.age.median()"
   ]
  },
  {
   "cell_type": "markdown",
   "metadata": {},
   "source": [
    "Result: `75%` of dating app users are younger than 37. That also arises an issue with equality of representative groups in a dataset. We'll try to mitigate this issue going further in our research. \n",
    "\n",
    "Not all columns of this dataset will be suitable for predicting age and religion. Some of them, like `height`, `sign`, `sex`, `last_online`, `pets` have nothing or very little to do with with persons current age (considering users are adults) or religious views.\n",
    "We also won't use column `income`, because it seems that many users just put some nonsense in there. \n"
   ]
  },
  {
   "cell_type": "code",
   "execution_count": 11,
   "metadata": {},
   "outputs": [
    {
     "data": {
      "text/plain": [
       "-1          48442\n",
       " 20000       2952\n",
       " 100000      1621\n",
       " 80000       1111\n",
       " 30000       1048\n",
       " 40000       1005\n",
       " 50000        975\n",
       " 60000        736\n",
       " 70000        707\n",
       " 150000       631\n",
       " 1000000      521\n",
       " 250000       149\n",
       " 500000        48\n",
       "Name: income, dtype: int64"
      ]
     },
     "execution_count": 11,
     "metadata": {},
     "output_type": "execute_result"
    }
   ],
   "source": [
    "profiles.income.value_counts()"
   ]
  },
  {
   "cell_type": "markdown",
   "metadata": {},
   "source": [
    "Instead of using column `speaks` with languages we'll use `ethnicity` because there are no users' freestyle input there, like C++ or other programming languages. \n",
    "\n",
    "We won't use `location`, because most people are from California, so it won't have much inmpact on results."
   ]
  },
  {
   "cell_type": "code",
   "execution_count": 12,
   "metadata": {},
   "outputs": [
    {
     "data": {
      "text/plain": [
       "san francisco, california         31064\n",
       "oakland, california                7214\n",
       "berkeley, california               4212\n",
       "san mateo, california              1331\n",
       "palo alto, california              1064\n",
       "                                  ...  \n",
       "south wellfleet, massachusetts        1\n",
       "orange, california                    1\n",
       "astoria, new york                     1\n",
       "london, united kingdom                1\n",
       "rochester, michigan                   1\n",
       "Name: location, Length: 199, dtype: int64"
      ]
     },
     "execution_count": 12,
     "metadata": {},
     "output_type": "execute_result"
    }
   ],
   "source": [
    "profiles.location.value_counts()"
   ]
  },
  {
   "cell_type": "markdown",
   "metadata": {},
   "source": [
    "The honesty of answers in the `status` column is highly dubious, considering context, so we'll also leave it behind. \n",
    "\n",
    "We'll use columns with categorical variables as well as the ones with free text strings, but process them differently. \n",
    "- Categorical variables will be mapped to numbers so that models could understand them them. \n",
    "- While columns with `essays` will go through natural language processing stages.\n",
    "\n",
    "## Models fit on Categorical Data\n",
    "### Feature Modelling\n",
    "\n",
    "We'll map the following columns' categorical variables to numbers: `body_type`, `diet`, `drinks`, `drugs`, `education`, `job`, `ethnicity`, `offspring`, `smokes` and `orientation` and look through their correlations with age and religion. There could be applied different approaches to mapping, depending on column's variables. Our main approach is the gradation from best cases to worst ones, from lowest ranks to highest, from lowest values to highest etc. Most of the mapped values are stored in the file `mapping_profiles` and imported here in a `mix_profiles` DataFrame.\n",
    "\n"
   ]
  },
  {
   "cell_type": "code",
   "execution_count": 13,
   "metadata": {},
   "outputs": [
    {
     "data": {
      "text/html": [
       "<div>\n",
       "<style scoped>\n",
       "    .dataframe tbody tr th:only-of-type {\n",
       "        vertical-align: middle;\n",
       "    }\n",
       "\n",
       "    .dataframe tbody tr th {\n",
       "        vertical-align: top;\n",
       "    }\n",
       "\n",
       "    .dataframe thead th {\n",
       "        text-align: right;\n",
       "    }\n",
       "</style>\n",
       "<table border=\"1\" class=\"dataframe\">\n",
       "  <thead>\n",
       "    <tr style=\"text-align: right;\">\n",
       "      <th></th>\n",
       "      <th>age</th>\n",
       "      <th>body_type</th>\n",
       "      <th>diet</th>\n",
       "      <th>drinks</th>\n",
       "      <th>drugs</th>\n",
       "      <th>education</th>\n",
       "      <th>essay0</th>\n",
       "      <th>essay1</th>\n",
       "      <th>essay2</th>\n",
       "      <th>essay3</th>\n",
       "      <th>essay4</th>\n",
       "      <th>essay5</th>\n",
       "      <th>essay6</th>\n",
       "      <th>essay7</th>\n",
       "      <th>essay8</th>\n",
       "      <th>essay9</th>\n",
       "      <th>ethnicity</th>\n",
       "      <th>height</th>\n",
       "      <th>income</th>\n",
       "      <th>job</th>\n",
       "      <th>last_online</th>\n",
       "      <th>location</th>\n",
       "      <th>offspring</th>\n",
       "      <th>orientation</th>\n",
       "      <th>pets</th>\n",
       "      <th>religion</th>\n",
       "      <th>sex</th>\n",
       "      <th>sign</th>\n",
       "      <th>smokes</th>\n",
       "      <th>speaks</th>\n",
       "      <th>status</th>\n",
       "    </tr>\n",
       "  </thead>\n",
       "  <tbody>\n",
       "    <tr>\n",
       "      <th>0</th>\n",
       "      <td>1.0</td>\n",
       "      <td>9.0</td>\n",
       "      <td>1.0</td>\n",
       "      <td>2.0</td>\n",
       "      <td>0.0</td>\n",
       "      <td>4.0</td>\n",
       "      <td>about me:&lt;br /&gt;\\n&lt;br /&gt;\\ni would love to think...</td>\n",
       "      <td>currently working as an international agent fo...</td>\n",
       "      <td>making people laugh.&lt;br /&gt;\\nranting about a go...</td>\n",
       "      <td>the way i look. i am a six foot half asian, ha...</td>\n",
       "      <td>books:&lt;br /&gt;\\nabsurdistan, the republic, of mi...</td>\n",
       "      <td>food.&lt;br /&gt;\\nwater.&lt;br /&gt;\\ncell phone.&lt;br /&gt;\\n...</td>\n",
       "      <td>duality and humorous things</td>\n",
       "      <td>trying to find someone to hang out with. i am ...</td>\n",
       "      <td>i am new to california and looking for someone...</td>\n",
       "      <td>you want to be swept off your feet!&lt;br /&gt;\\nyou...</td>\n",
       "      <td>asian, white</td>\n",
       "      <td>75.0</td>\n",
       "      <td>-1</td>\n",
       "      <td>2</td>\n",
       "      <td>2012-06-28-20-30</td>\n",
       "      <td>south san francisco, california</td>\n",
       "      <td>1.0</td>\n",
       "      <td>1</td>\n",
       "      <td>likes dogs and likes cats</td>\n",
       "      <td>agnosticism</td>\n",
       "      <td>m</td>\n",
       "      <td>gemini</td>\n",
       "      <td>1.0</td>\n",
       "      <td>english</td>\n",
       "      <td>single</td>\n",
       "    </tr>\n",
       "    <tr>\n",
       "      <th>1</th>\n",
       "      <td>2.0</td>\n",
       "      <td>4.0</td>\n",
       "      <td>6.0</td>\n",
       "      <td>3.0</td>\n",
       "      <td>1.0</td>\n",
       "      <td>2.0</td>\n",
       "      <td>i am a chef: this is what that means.&lt;br /&gt;\\n1...</td>\n",
       "      <td>dedicating everyday to being an unbelievable b...</td>\n",
       "      <td>being silly. having ridiculous amonts of fun w...</td>\n",
       "      <td>NaN</td>\n",
       "      <td>i am die hard christopher moore fan. i don't r...</td>\n",
       "      <td>delicious porkness in all of its glories.&lt;br /...</td>\n",
       "      <td>NaN</td>\n",
       "      <td>NaN</td>\n",
       "      <td>i am very open and will share just about anyth...</td>\n",
       "      <td>NaN</td>\n",
       "      <td>white</td>\n",
       "      <td>70.0</td>\n",
       "      <td>80000</td>\n",
       "      <td>2</td>\n",
       "      <td>2012-06-29-21-41</td>\n",
       "      <td>oakland, california</td>\n",
       "      <td>1.0</td>\n",
       "      <td>1</td>\n",
       "      <td>likes dogs and likes cats</td>\n",
       "      <td>agnosticism</td>\n",
       "      <td>m</td>\n",
       "      <td>cancer</td>\n",
       "      <td>0.0</td>\n",
       "      <td>english (fluently), spanish (poorly), french (...</td>\n",
       "      <td>single</td>\n",
       "    </tr>\n",
       "  </tbody>\n",
       "</table>\n",
       "</div>"
      ],
      "text/plain": [
       "   age  body_type  diet  drinks  drugs  education  \\\n",
       "0  1.0        9.0   1.0     2.0    0.0        4.0   \n",
       "1  2.0        4.0   6.0     3.0    1.0        2.0   \n",
       "\n",
       "                                              essay0  \\\n",
       "0  about me:<br />\\n<br />\\ni would love to think...   \n",
       "1  i am a chef: this is what that means.<br />\\n1...   \n",
       "\n",
       "                                              essay1  \\\n",
       "0  currently working as an international agent fo...   \n",
       "1  dedicating everyday to being an unbelievable b...   \n",
       "\n",
       "                                              essay2  \\\n",
       "0  making people laugh.<br />\\nranting about a go...   \n",
       "1  being silly. having ridiculous amonts of fun w...   \n",
       "\n",
       "                                              essay3  \\\n",
       "0  the way i look. i am a six foot half asian, ha...   \n",
       "1                                                NaN   \n",
       "\n",
       "                                              essay4  \\\n",
       "0  books:<br />\\nabsurdistan, the republic, of mi...   \n",
       "1  i am die hard christopher moore fan. i don't r...   \n",
       "\n",
       "                                              essay5  \\\n",
       "0  food.<br />\\nwater.<br />\\ncell phone.<br />\\n...   \n",
       "1  delicious porkness in all of its glories.<br /...   \n",
       "\n",
       "                        essay6  \\\n",
       "0  duality and humorous things   \n",
       "1                          NaN   \n",
       "\n",
       "                                              essay7  \\\n",
       "0  trying to find someone to hang out with. i am ...   \n",
       "1                                                NaN   \n",
       "\n",
       "                                              essay8  \\\n",
       "0  i am new to california and looking for someone...   \n",
       "1  i am very open and will share just about anyth...   \n",
       "\n",
       "                                              essay9     ethnicity  height  \\\n",
       "0  you want to be swept off your feet!<br />\\nyou...  asian, white    75.0   \n",
       "1                                                NaN         white    70.0   \n",
       "\n",
       "   income  job       last_online                         location  offspring  \\\n",
       "0      -1    2  2012-06-28-20-30  south san francisco, california        1.0   \n",
       "1   80000    2  2012-06-29-21-41              oakland, california        1.0   \n",
       "\n",
       "   orientation                       pets     religion sex    sign  smokes  \\\n",
       "0            1  likes dogs and likes cats  agnosticism   m  gemini     1.0   \n",
       "1            1  likes dogs and likes cats  agnosticism   m  cancer     0.0   \n",
       "\n",
       "                                              speaks  status  \n",
       "0                                            english  single  \n",
       "1  english (fluently), spanish (poorly), french (...  single  "
      ]
     },
     "execution_count": 13,
     "metadata": {},
     "output_type": "execute_result"
    }
   ],
   "source": [
    "# Import mapped data \n",
    "from mapping_profiles import map_to_numbers, age_to_num, age_to_str, map_variable_per_column, job_to_num\n",
    "mix_profiles, map_body_t, map_diet, map_drinks, map_smoking, map_kids, map_edu, map_drugs, map_relig, map_orient = map_to_numbers(profiles)\n",
    "# Map age\n",
    "mix_profiles['age'] = profiles.age.apply(age_to_num)\n",
    "# Map job\n",
    "mix_profiles['job'] = profiles.job.apply(job_to_num)\n",
    "mix_profiles.head(2)"
   ]
  },
  {
   "cell_type": "markdown",
   "metadata": {},
   "source": [
    "Values in the `ethnicity` column will be encoded with binary code,  since there are no specific order or ranking in it. `1` - belonging to specific ethnic group, `0` - not belonging. Variables will be reorganized so each of unique ethnicity would be a separate column. One person can belong to many ethnic groups simultaneously, so there will be several `1`s in one row. "
   ]
  },
  {
   "cell_type": "code",
   "execution_count": 14,
   "metadata": {},
   "outputs": [
    {
     "data": {
      "text/html": [
       "<div>\n",
       "<style scoped>\n",
       "    .dataframe tbody tr th:only-of-type {\n",
       "        vertical-align: middle;\n",
       "    }\n",
       "\n",
       "    .dataframe tbody tr th {\n",
       "        vertical-align: top;\n",
       "    }\n",
       "\n",
       "    .dataframe thead th {\n",
       "        text-align: right;\n",
       "    }\n",
       "</style>\n",
       "<table border=\"1\" class=\"dataframe\">\n",
       "  <thead>\n",
       "    <tr style=\"text-align: right;\">\n",
       "      <th></th>\n",
       "      <th>asian</th>\n",
       "      <th>white</th>\n",
       "      <th>black</th>\n",
       "      <th>other</th>\n",
       "      <th>hispanic / latin</th>\n",
       "      <th>pacific islander</th>\n",
       "      <th>native american</th>\n",
       "      <th>middle eastern</th>\n",
       "      <th>indian</th>\n",
       "    </tr>\n",
       "  </thead>\n",
       "  <tbody>\n",
       "    <tr>\n",
       "      <th>0</th>\n",
       "      <td>1.0</td>\n",
       "      <td>1.0</td>\n",
       "      <td>0.0</td>\n",
       "      <td>0.0</td>\n",
       "      <td>0.0</td>\n",
       "      <td>0.0</td>\n",
       "      <td>0.0</td>\n",
       "      <td>0.0</td>\n",
       "      <td>0.0</td>\n",
       "    </tr>\n",
       "    <tr>\n",
       "      <th>1</th>\n",
       "      <td>0.0</td>\n",
       "      <td>1.0</td>\n",
       "      <td>0.0</td>\n",
       "      <td>0.0</td>\n",
       "      <td>0.0</td>\n",
       "      <td>0.0</td>\n",
       "      <td>0.0</td>\n",
       "      <td>0.0</td>\n",
       "      <td>0.0</td>\n",
       "    </tr>\n",
       "  </tbody>\n",
       "</table>\n",
       "</div>"
      ],
      "text/plain": [
       "   asian  white  black  other  hispanic / latin  pacific islander  \\\n",
       "0    1.0    1.0    0.0    0.0               0.0               0.0   \n",
       "1    0.0    1.0    0.0    0.0               0.0               0.0   \n",
       "\n",
       "   native american  middle eastern  indian  \n",
       "0              0.0             0.0     0.0  \n",
       "1              0.0             0.0     0.0  "
      ]
     },
     "execution_count": 14,
     "metadata": {},
     "output_type": "execute_result"
    }
   ],
   "source": [
    "# Filter profiles to get only ethnicity, remove NaNs from it and apply encoding\n",
    "ethnicity = profiles.ethnicity.dropna().apply(map_variable_per_column).fillna(0)\n",
    "ethnicity.head(2)"
   ]
  },
  {
   "cell_type": "markdown",
   "metadata": {},
   "source": [
    "Now let's bring them back to `mix_profiles`, but already as numbers."
   ]
  },
  {
   "cell_type": "code",
   "execution_count": 15,
   "metadata": {},
   "outputs": [
    {
     "data": {
      "text/html": [
       "<div>\n",
       "<style scoped>\n",
       "    .dataframe tbody tr th:only-of-type {\n",
       "        vertical-align: middle;\n",
       "    }\n",
       "\n",
       "    .dataframe tbody tr th {\n",
       "        vertical-align: top;\n",
       "    }\n",
       "\n",
       "    .dataframe thead th {\n",
       "        text-align: right;\n",
       "    }\n",
       "</style>\n",
       "<table border=\"1\" class=\"dataframe\">\n",
       "  <thead>\n",
       "    <tr style=\"text-align: right;\">\n",
       "      <th></th>\n",
       "      <th>age</th>\n",
       "      <th>body_type</th>\n",
       "      <th>diet</th>\n",
       "      <th>drinks</th>\n",
       "      <th>drugs</th>\n",
       "      <th>education</th>\n",
       "      <th>essay0</th>\n",
       "      <th>essay1</th>\n",
       "      <th>essay2</th>\n",
       "      <th>essay3</th>\n",
       "      <th>essay4</th>\n",
       "      <th>essay5</th>\n",
       "      <th>essay6</th>\n",
       "      <th>essay7</th>\n",
       "      <th>essay8</th>\n",
       "      <th>essay9</th>\n",
       "      <th>ethnicity</th>\n",
       "      <th>height</th>\n",
       "      <th>income</th>\n",
       "      <th>job</th>\n",
       "      <th>last_online</th>\n",
       "      <th>location</th>\n",
       "      <th>offspring</th>\n",
       "      <th>orientation</th>\n",
       "      <th>pets</th>\n",
       "      <th>religion</th>\n",
       "      <th>sex</th>\n",
       "      <th>sign</th>\n",
       "      <th>smokes</th>\n",
       "      <th>speaks</th>\n",
       "      <th>status</th>\n",
       "      <th>asian</th>\n",
       "      <th>white</th>\n",
       "      <th>black</th>\n",
       "      <th>other_eth</th>\n",
       "      <th>hispanic / latin</th>\n",
       "      <th>pacific islander</th>\n",
       "      <th>native american</th>\n",
       "      <th>middle eastern</th>\n",
       "      <th>indian</th>\n",
       "    </tr>\n",
       "  </thead>\n",
       "  <tbody>\n",
       "    <tr>\n",
       "      <th>0</th>\n",
       "      <td>1.0</td>\n",
       "      <td>9.0</td>\n",
       "      <td>1.0</td>\n",
       "      <td>2.0</td>\n",
       "      <td>0.0</td>\n",
       "      <td>4.0</td>\n",
       "      <td>about me:&lt;br /&gt;\\n&lt;br /&gt;\\ni would love to think...</td>\n",
       "      <td>currently working as an international agent fo...</td>\n",
       "      <td>making people laugh.&lt;br /&gt;\\nranting about a go...</td>\n",
       "      <td>the way i look. i am a six foot half asian, ha...</td>\n",
       "      <td>books:&lt;br /&gt;\\nabsurdistan, the republic, of mi...</td>\n",
       "      <td>food.&lt;br /&gt;\\nwater.&lt;br /&gt;\\ncell phone.&lt;br /&gt;\\n...</td>\n",
       "      <td>duality and humorous things</td>\n",
       "      <td>trying to find someone to hang out with. i am ...</td>\n",
       "      <td>i am new to california and looking for someone...</td>\n",
       "      <td>you want to be swept off your feet!&lt;br /&gt;\\nyou...</td>\n",
       "      <td>asian, white</td>\n",
       "      <td>75.0</td>\n",
       "      <td>-1</td>\n",
       "      <td>2</td>\n",
       "      <td>2012-06-28-20-30</td>\n",
       "      <td>south san francisco, california</td>\n",
       "      <td>1.0</td>\n",
       "      <td>1</td>\n",
       "      <td>likes dogs and likes cats</td>\n",
       "      <td>agnosticism</td>\n",
       "      <td>m</td>\n",
       "      <td>gemini</td>\n",
       "      <td>1.0</td>\n",
       "      <td>english</td>\n",
       "      <td>single</td>\n",
       "      <td>1.0</td>\n",
       "      <td>1.0</td>\n",
       "      <td>0.0</td>\n",
       "      <td>0.0</td>\n",
       "      <td>0.0</td>\n",
       "      <td>0.0</td>\n",
       "      <td>0.0</td>\n",
       "      <td>0.0</td>\n",
       "      <td>0.0</td>\n",
       "    </tr>\n",
       "    <tr>\n",
       "      <th>1</th>\n",
       "      <td>2.0</td>\n",
       "      <td>4.0</td>\n",
       "      <td>6.0</td>\n",
       "      <td>3.0</td>\n",
       "      <td>1.0</td>\n",
       "      <td>2.0</td>\n",
       "      <td>i am a chef: this is what that means.&lt;br /&gt;\\n1...</td>\n",
       "      <td>dedicating everyday to being an unbelievable b...</td>\n",
       "      <td>being silly. having ridiculous amonts of fun w...</td>\n",
       "      <td>NaN</td>\n",
       "      <td>i am die hard christopher moore fan. i don't r...</td>\n",
       "      <td>delicious porkness in all of its glories.&lt;br /...</td>\n",
       "      <td>NaN</td>\n",
       "      <td>NaN</td>\n",
       "      <td>i am very open and will share just about anyth...</td>\n",
       "      <td>NaN</td>\n",
       "      <td>white</td>\n",
       "      <td>70.0</td>\n",
       "      <td>80000</td>\n",
       "      <td>2</td>\n",
       "      <td>2012-06-29-21-41</td>\n",
       "      <td>oakland, california</td>\n",
       "      <td>1.0</td>\n",
       "      <td>1</td>\n",
       "      <td>likes dogs and likes cats</td>\n",
       "      <td>agnosticism</td>\n",
       "      <td>m</td>\n",
       "      <td>cancer</td>\n",
       "      <td>0.0</td>\n",
       "      <td>english (fluently), spanish (poorly), french (...</td>\n",
       "      <td>single</td>\n",
       "      <td>0.0</td>\n",
       "      <td>1.0</td>\n",
       "      <td>0.0</td>\n",
       "      <td>0.0</td>\n",
       "      <td>0.0</td>\n",
       "      <td>0.0</td>\n",
       "      <td>0.0</td>\n",
       "      <td>0.0</td>\n",
       "      <td>0.0</td>\n",
       "    </tr>\n",
       "  </tbody>\n",
       "</table>\n",
       "</div>"
      ],
      "text/plain": [
       "   age  body_type  diet  drinks  drugs  education  \\\n",
       "0  1.0        9.0   1.0     2.0    0.0        4.0   \n",
       "1  2.0        4.0   6.0     3.0    1.0        2.0   \n",
       "\n",
       "                                              essay0  \\\n",
       "0  about me:<br />\\n<br />\\ni would love to think...   \n",
       "1  i am a chef: this is what that means.<br />\\n1...   \n",
       "\n",
       "                                              essay1  \\\n",
       "0  currently working as an international agent fo...   \n",
       "1  dedicating everyday to being an unbelievable b...   \n",
       "\n",
       "                                              essay2  \\\n",
       "0  making people laugh.<br />\\nranting about a go...   \n",
       "1  being silly. having ridiculous amonts of fun w...   \n",
       "\n",
       "                                              essay3  \\\n",
       "0  the way i look. i am a six foot half asian, ha...   \n",
       "1                                                NaN   \n",
       "\n",
       "                                              essay4  \\\n",
       "0  books:<br />\\nabsurdistan, the republic, of mi...   \n",
       "1  i am die hard christopher moore fan. i don't r...   \n",
       "\n",
       "                                              essay5  \\\n",
       "0  food.<br />\\nwater.<br />\\ncell phone.<br />\\n...   \n",
       "1  delicious porkness in all of its glories.<br /...   \n",
       "\n",
       "                        essay6  \\\n",
       "0  duality and humorous things   \n",
       "1                          NaN   \n",
       "\n",
       "                                              essay7  \\\n",
       "0  trying to find someone to hang out with. i am ...   \n",
       "1                                                NaN   \n",
       "\n",
       "                                              essay8  \\\n",
       "0  i am new to california and looking for someone...   \n",
       "1  i am very open and will share just about anyth...   \n",
       "\n",
       "                                              essay9     ethnicity  height  \\\n",
       "0  you want to be swept off your feet!<br />\\nyou...  asian, white    75.0   \n",
       "1                                                NaN         white    70.0   \n",
       "\n",
       "   income  job       last_online                         location  offspring  \\\n",
       "0      -1    2  2012-06-28-20-30  south san francisco, california        1.0   \n",
       "1   80000    2  2012-06-29-21-41              oakland, california        1.0   \n",
       "\n",
       "   orientation                       pets     religion sex    sign  smokes  \\\n",
       "0            1  likes dogs and likes cats  agnosticism   m  gemini     1.0   \n",
       "1            1  likes dogs and likes cats  agnosticism   m  cancer     0.0   \n",
       "\n",
       "                                              speaks  status  asian  white  \\\n",
       "0                                            english  single    1.0    1.0   \n",
       "1  english (fluently), spanish (poorly), french (...  single    0.0    1.0   \n",
       "\n",
       "   black  other_eth  hispanic / latin  pacific islander  native american  \\\n",
       "0    0.0        0.0               0.0               0.0              0.0   \n",
       "1    0.0        0.0               0.0               0.0              0.0   \n",
       "\n",
       "   middle eastern  indian  \n",
       "0             0.0     0.0  \n",
       "1             0.0     0.0  "
      ]
     },
     "execution_count": 15,
     "metadata": {},
     "output_type": "execute_result"
    }
   ],
   "source": [
    "# Add ethnicity columns to mix_profiles\n",
    "mix_profiles = mix_profiles.join(ethnicity)\n",
    "# Rename repeated name \"other\" to more column specific\n",
    "mix_profiles.rename(columns={'other': 'other_eth'}, inplace=True)\n",
    "mix_profiles.head(2)"
   ]
  },
  {
   "cell_type": "markdown",
   "metadata": {},
   "source": [
    "For `religion` column, we'll apply a slightly different approach. Considering that different religions don't have ascending or descending qualities, and we need them as labels in one column - we'll assign each unique religion name a number from `0` to `10` without any particular meaning to it."
   ]
  },
  {
   "cell_type": "code",
   "execution_count": 16,
   "metadata": {},
   "outputs": [
    {
     "data": {
      "text/html": [
       "<div>\n",
       "<style scoped>\n",
       "    .dataframe tbody tr th:only-of-type {\n",
       "        vertical-align: middle;\n",
       "    }\n",
       "\n",
       "    .dataframe tbody tr th {\n",
       "        vertical-align: top;\n",
       "    }\n",
       "\n",
       "    .dataframe thead th {\n",
       "        text-align: right;\n",
       "    }\n",
       "</style>\n",
       "<table border=\"1\" class=\"dataframe\">\n",
       "  <thead>\n",
       "    <tr style=\"text-align: right;\">\n",
       "      <th></th>\n",
       "      <th>age</th>\n",
       "      <th>body_type</th>\n",
       "      <th>diet</th>\n",
       "      <th>drinks</th>\n",
       "      <th>drugs</th>\n",
       "      <th>education</th>\n",
       "      <th>essay0</th>\n",
       "      <th>essay1</th>\n",
       "      <th>essay2</th>\n",
       "      <th>essay3</th>\n",
       "      <th>essay4</th>\n",
       "      <th>essay5</th>\n",
       "      <th>essay6</th>\n",
       "      <th>essay7</th>\n",
       "      <th>essay8</th>\n",
       "      <th>essay9</th>\n",
       "      <th>ethnicity</th>\n",
       "      <th>height</th>\n",
       "      <th>income</th>\n",
       "      <th>job</th>\n",
       "      <th>last_online</th>\n",
       "      <th>location</th>\n",
       "      <th>offspring</th>\n",
       "      <th>orientation</th>\n",
       "      <th>pets</th>\n",
       "      <th>religion</th>\n",
       "      <th>sex</th>\n",
       "      <th>sign</th>\n",
       "      <th>smokes</th>\n",
       "      <th>speaks</th>\n",
       "      <th>status</th>\n",
       "      <th>asian</th>\n",
       "      <th>white</th>\n",
       "      <th>black</th>\n",
       "      <th>other_eth</th>\n",
       "      <th>hispanic / latin</th>\n",
       "      <th>pacific islander</th>\n",
       "      <th>native american</th>\n",
       "      <th>middle eastern</th>\n",
       "      <th>indian</th>\n",
       "      <th>num_religion</th>\n",
       "    </tr>\n",
       "  </thead>\n",
       "  <tbody>\n",
       "    <tr>\n",
       "      <th>0</th>\n",
       "      <td>1.0</td>\n",
       "      <td>9.0</td>\n",
       "      <td>1.0</td>\n",
       "      <td>2.0</td>\n",
       "      <td>0.0</td>\n",
       "      <td>4.0</td>\n",
       "      <td>about me:&lt;br /&gt;\\n&lt;br /&gt;\\ni would love to think...</td>\n",
       "      <td>currently working as an international agent fo...</td>\n",
       "      <td>making people laugh.&lt;br /&gt;\\nranting about a go...</td>\n",
       "      <td>the way i look. i am a six foot half asian, ha...</td>\n",
       "      <td>books:&lt;br /&gt;\\nabsurdistan, the republic, of mi...</td>\n",
       "      <td>food.&lt;br /&gt;\\nwater.&lt;br /&gt;\\ncell phone.&lt;br /&gt;\\n...</td>\n",
       "      <td>duality and humorous things</td>\n",
       "      <td>trying to find someone to hang out with. i am ...</td>\n",
       "      <td>i am new to california and looking for someone...</td>\n",
       "      <td>you want to be swept off your feet!&lt;br /&gt;\\nyou...</td>\n",
       "      <td>asian, white</td>\n",
       "      <td>75.0</td>\n",
       "      <td>-1</td>\n",
       "      <td>2</td>\n",
       "      <td>2012-06-28-20-30</td>\n",
       "      <td>south san francisco, california</td>\n",
       "      <td>1.0</td>\n",
       "      <td>1</td>\n",
       "      <td>likes dogs and likes cats</td>\n",
       "      <td>agnosticism</td>\n",
       "      <td>m</td>\n",
       "      <td>gemini</td>\n",
       "      <td>1.0</td>\n",
       "      <td>english</td>\n",
       "      <td>single</td>\n",
       "      <td>1.0</td>\n",
       "      <td>1.0</td>\n",
       "      <td>0.0</td>\n",
       "      <td>0.0</td>\n",
       "      <td>0.0</td>\n",
       "      <td>0.0</td>\n",
       "      <td>0.0</td>\n",
       "      <td>0.0</td>\n",
       "      <td>0.0</td>\n",
       "      <td>0.0</td>\n",
       "    </tr>\n",
       "    <tr>\n",
       "      <th>1</th>\n",
       "      <td>2.0</td>\n",
       "      <td>4.0</td>\n",
       "      <td>6.0</td>\n",
       "      <td>3.0</td>\n",
       "      <td>1.0</td>\n",
       "      <td>2.0</td>\n",
       "      <td>i am a chef: this is what that means.&lt;br /&gt;\\n1...</td>\n",
       "      <td>dedicating everyday to being an unbelievable b...</td>\n",
       "      <td>being silly. having ridiculous amonts of fun w...</td>\n",
       "      <td>NaN</td>\n",
       "      <td>i am die hard christopher moore fan. i don't r...</td>\n",
       "      <td>delicious porkness in all of its glories.&lt;br /...</td>\n",
       "      <td>NaN</td>\n",
       "      <td>NaN</td>\n",
       "      <td>i am very open and will share just about anyth...</td>\n",
       "      <td>NaN</td>\n",
       "      <td>white</td>\n",
       "      <td>70.0</td>\n",
       "      <td>80000</td>\n",
       "      <td>2</td>\n",
       "      <td>2012-06-29-21-41</td>\n",
       "      <td>oakland, california</td>\n",
       "      <td>1.0</td>\n",
       "      <td>1</td>\n",
       "      <td>likes dogs and likes cats</td>\n",
       "      <td>agnosticism</td>\n",
       "      <td>m</td>\n",
       "      <td>cancer</td>\n",
       "      <td>0.0</td>\n",
       "      <td>english (fluently), spanish (poorly), french (...</td>\n",
       "      <td>single</td>\n",
       "      <td>0.0</td>\n",
       "      <td>1.0</td>\n",
       "      <td>0.0</td>\n",
       "      <td>0.0</td>\n",
       "      <td>0.0</td>\n",
       "      <td>0.0</td>\n",
       "      <td>0.0</td>\n",
       "      <td>0.0</td>\n",
       "      <td>0.0</td>\n",
       "      <td>0.0</td>\n",
       "    </tr>\n",
       "  </tbody>\n",
       "</table>\n",
       "</div>"
      ],
      "text/plain": [
       "   age  body_type  diet  drinks  drugs  education  \\\n",
       "0  1.0        9.0   1.0     2.0    0.0        4.0   \n",
       "1  2.0        4.0   6.0     3.0    1.0        2.0   \n",
       "\n",
       "                                              essay0  \\\n",
       "0  about me:<br />\\n<br />\\ni would love to think...   \n",
       "1  i am a chef: this is what that means.<br />\\n1...   \n",
       "\n",
       "                                              essay1  \\\n",
       "0  currently working as an international agent fo...   \n",
       "1  dedicating everyday to being an unbelievable b...   \n",
       "\n",
       "                                              essay2  \\\n",
       "0  making people laugh.<br />\\nranting about a go...   \n",
       "1  being silly. having ridiculous amonts of fun w...   \n",
       "\n",
       "                                              essay3  \\\n",
       "0  the way i look. i am a six foot half asian, ha...   \n",
       "1                                                NaN   \n",
       "\n",
       "                                              essay4  \\\n",
       "0  books:<br />\\nabsurdistan, the republic, of mi...   \n",
       "1  i am die hard christopher moore fan. i don't r...   \n",
       "\n",
       "                                              essay5  \\\n",
       "0  food.<br />\\nwater.<br />\\ncell phone.<br />\\n...   \n",
       "1  delicious porkness in all of its glories.<br /...   \n",
       "\n",
       "                        essay6  \\\n",
       "0  duality and humorous things   \n",
       "1                          NaN   \n",
       "\n",
       "                                              essay7  \\\n",
       "0  trying to find someone to hang out with. i am ...   \n",
       "1                                                NaN   \n",
       "\n",
       "                                              essay8  \\\n",
       "0  i am new to california and looking for someone...   \n",
       "1  i am very open and will share just about anyth...   \n",
       "\n",
       "                                              essay9     ethnicity  height  \\\n",
       "0  you want to be swept off your feet!<br />\\nyou...  asian, white    75.0   \n",
       "1                                                NaN         white    70.0   \n",
       "\n",
       "   income  job       last_online                         location  offspring  \\\n",
       "0      -1    2  2012-06-28-20-30  south san francisco, california        1.0   \n",
       "1   80000    2  2012-06-29-21-41              oakland, california        1.0   \n",
       "\n",
       "   orientation                       pets     religion sex    sign  smokes  \\\n",
       "0            1  likes dogs and likes cats  agnosticism   m  gemini     1.0   \n",
       "1            1  likes dogs and likes cats  agnosticism   m  cancer     0.0   \n",
       "\n",
       "                                              speaks  status  asian  white  \\\n",
       "0                                            english  single    1.0    1.0   \n",
       "1  english (fluently), spanish (poorly), french (...  single    0.0    1.0   \n",
       "\n",
       "   black  other_eth  hispanic / latin  pacific islander  native american  \\\n",
       "0    0.0        0.0               0.0               0.0              0.0   \n",
       "1    0.0        0.0               0.0               0.0              0.0   \n",
       "\n",
       "   middle eastern  indian  num_religion  \n",
       "0             0.0     0.0           0.0  \n",
       "1             0.0     0.0           0.0  "
      ]
     },
     "execution_count": 16,
     "metadata": {},
     "output_type": "execute_result"
    }
   ],
   "source": [
    "# Filter profiles to get only religion, remove NaNs from it\n",
    "religion = profiles.religion.dropna()\n",
    "# Create list of unique religions\n",
    "unique_religions = list(religion.unique())\n",
    "# Assing codes to each religion from unique religions list\n",
    "religion = religion.apply(lambda r: unique_religions.index(r))\n",
    "# Create a separate DataFrame\n",
    "religion = pd.DataFrame({'num_religion': religion })\n",
    "# Add religion DataFrame to mix_profiles\n",
    "mix_profiles = mix_profiles.join(religion)\n",
    "mix_profiles.head(2)"
   ]
  },
  {
   "cell_type": "markdown",
   "metadata": {},
   "source": [
    "Now we are going find correlations between `age` and `num_religion` with values we've encoded. Let's create a slice of `mix_profiles` with only numerical data in it."
   ]
  },
  {
   "cell_type": "code",
   "execution_count": 17,
   "metadata": {},
   "outputs": [
    {
     "data": {
      "text/plain": [
       "59946"
      ]
     },
     "execution_count": 17,
     "metadata": {},
     "output_type": "execute_result"
    }
   ],
   "source": [
    "num_profiles = mix_profiles[[\n",
    "    'age', 'num_religion', 'body_type', 'diet', 'drinks', 'drugs', 'education', 'offspring',\n",
    "    'smokes', 'asian', 'white', 'black', 'other_eth', 'job', 'orientation',\n",
    "    'hispanic / latin', 'pacific islander', 'native american', 'middle eastern', 'indian', \n",
    "    ]]\n",
    "len(num_profiles)\n"
   ]
  },
  {
   "cell_type": "markdown",
   "metadata": {},
   "source": [
    "### Finding Correlations and Splitting Data\n",
    "\n",
    "#### Age \n",
    "\n",
    "We got a DataFrame with almost `60 thousand` values in it, but in some columns `NaN`s are still present, we'll remove them on the next steps. Now let's see correlations of age with other numerical columns that we've selected."
   ]
  },
  {
   "cell_type": "code",
   "execution_count": 18,
   "metadata": {},
   "outputs": [
    {
     "data": {
      "text/html": [
       "<div>\n",
       "<style scoped>\n",
       "    .dataframe tbody tr th:only-of-type {\n",
       "        vertical-align: middle;\n",
       "    }\n",
       "\n",
       "    .dataframe tbody tr th {\n",
       "        vertical-align: top;\n",
       "    }\n",
       "\n",
       "    .dataframe thead th {\n",
       "        text-align: right;\n",
       "    }\n",
       "</style>\n",
       "<table border=\"1\" class=\"dataframe\">\n",
       "  <thead>\n",
       "    <tr style=\"text-align: right;\">\n",
       "      <th></th>\n",
       "      <th>age</th>\n",
       "      <th>num_religion</th>\n",
       "      <th>body_type</th>\n",
       "      <th>diet</th>\n",
       "      <th>drinks</th>\n",
       "      <th>drugs</th>\n",
       "      <th>education</th>\n",
       "      <th>offspring</th>\n",
       "      <th>smokes</th>\n",
       "      <th>asian</th>\n",
       "      <th>white</th>\n",
       "      <th>black</th>\n",
       "      <th>other_eth</th>\n",
       "      <th>job</th>\n",
       "      <th>orientation</th>\n",
       "      <th>hispanic / latin</th>\n",
       "      <th>pacific islander</th>\n",
       "      <th>native american</th>\n",
       "      <th>middle eastern</th>\n",
       "      <th>indian</th>\n",
       "    </tr>\n",
       "  </thead>\n",
       "  <tbody>\n",
       "    <tr>\n",
       "      <th>age</th>\n",
       "      <td>1.0</td>\n",
       "      <td>0.09916</td>\n",
       "      <td>0.05842</td>\n",
       "      <td>0.034472</td>\n",
       "      <td>-0.121266</td>\n",
       "      <td>-0.133721</td>\n",
       "      <td>0.113422</td>\n",
       "      <td>0.400974</td>\n",
       "      <td>-0.115239</td>\n",
       "      <td>-0.088838</td>\n",
       "      <td>0.102778</td>\n",
       "      <td>-0.031698</td>\n",
       "      <td>-0.026952</td>\n",
       "      <td>0.221853</td>\n",
       "      <td>-0.018952</td>\n",
       "      <td>-0.077764</td>\n",
       "      <td>-0.039271</td>\n",
       "      <td>-0.023456</td>\n",
       "      <td>-0.035368</td>\n",
       "      <td>-0.031729</td>\n",
       "    </tr>\n",
       "  </tbody>\n",
       "</table>\n",
       "</div>"
      ],
      "text/plain": [
       "     age  num_religion  body_type      diet    drinks     drugs  education  \\\n",
       "age  1.0       0.09916    0.05842  0.034472 -0.121266 -0.133721   0.113422   \n",
       "\n",
       "     offspring    smokes     asian     white     black  other_eth       job  \\\n",
       "age   0.400974 -0.115239 -0.088838  0.102778 -0.031698  -0.026952  0.221853   \n",
       "\n",
       "     orientation  hispanic / latin  pacific islander  native american  \\\n",
       "age    -0.018952         -0.077764         -0.039271        -0.023456   \n",
       "\n",
       "     middle eastern    indian  \n",
       "age       -0.035368 -0.031729  "
      ]
     },
     "execution_count": 18,
     "metadata": {},
     "output_type": "execute_result"
    }
   ],
   "source": [
    "num_profiles.corr()[:1]"
   ]
  },
  {
   "cell_type": "markdown",
   "metadata": {},
   "source": [
    "Seems like not all among selected features significantly correlate with age. We are going to select only those that have correlation starting from `+-0.1` and more in either direction. "
   ]
  },
  {
   "cell_type": "code",
   "execution_count": 19,
   "metadata": {},
   "outputs": [
    {
     "data": {
      "text/plain": [
       "17088"
      ]
     },
     "execution_count": 19,
     "metadata": {},
     "output_type": "execute_result"
    }
   ],
   "source": [
    "# Select features and labels for prediction\n",
    "age_labels_features = mix_profiles[['age', 'drinks', 'drugs', 'education', 'offspring', 'smokes', 'job']]\n",
    "# Remove 'NaN's and create a separate DataFrame for these columns\n",
    "age_labels_features = age_labels_features.dropna().copy()\n",
    "len(age_labels_features)"
   ]
  },
  {
   "cell_type": "code",
   "execution_count": 20,
   "metadata": {},
   "outputs": [
    {
     "data": {
      "text/html": [
       "<div>\n",
       "<style scoped>\n",
       "    .dataframe tbody tr th:only-of-type {\n",
       "        vertical-align: middle;\n",
       "    }\n",
       "\n",
       "    .dataframe tbody tr th {\n",
       "        vertical-align: top;\n",
       "    }\n",
       "\n",
       "    .dataframe thead th {\n",
       "        text-align: right;\n",
       "    }\n",
       "</style>\n",
       "<table border=\"1\" class=\"dataframe\">\n",
       "  <thead>\n",
       "    <tr style=\"text-align: right;\">\n",
       "      <th></th>\n",
       "      <th>drinks</th>\n",
       "      <th>drugs</th>\n",
       "      <th>education</th>\n",
       "      <th>offspring</th>\n",
       "      <th>smokes</th>\n",
       "      <th>job</th>\n",
       "    </tr>\n",
       "  </thead>\n",
       "  <tbody>\n",
       "    <tr>\n",
       "      <th>0</th>\n",
       "      <td>2.0</td>\n",
       "      <td>0.0</td>\n",
       "      <td>4.0</td>\n",
       "      <td>1.0</td>\n",
       "      <td>1.0</td>\n",
       "      <td>2</td>\n",
       "    </tr>\n",
       "    <tr>\n",
       "      <th>1</th>\n",
       "      <td>3.0</td>\n",
       "      <td>1.0</td>\n",
       "      <td>2.0</td>\n",
       "      <td>1.0</td>\n",
       "      <td>0.0</td>\n",
       "      <td>2</td>\n",
       "    </tr>\n",
       "  </tbody>\n",
       "</table>\n",
       "</div>"
      ],
      "text/plain": [
       "   drinks  drugs  education  offspring  smokes  job\n",
       "0     2.0    0.0        4.0        1.0     1.0    2\n",
       "1     3.0    1.0        2.0        1.0     0.0    2"
      ]
     },
     "execution_count": 20,
     "metadata": {},
     "output_type": "execute_result"
    }
   ],
   "source": [
    "# Select slice with labels\n",
    "age_labels = age_labels_features[['age']]\n",
    "# Select slice with features\n",
    "age_features = age_labels_features[['drinks', 'drugs', 'education', 'offspring', 'smokes', 'job']]\n",
    "age_features.head(2)"
   ]
  },
  {
   "cell_type": "markdown",
   "metadata": {},
   "source": [
    "#### Religion\n",
    "\n",
    "Now let's proceed with religion. We will apply the same filtration parameters to these correlations."
   ]
  },
  {
   "cell_type": "code",
   "execution_count": 21,
   "metadata": {},
   "outputs": [
    {
     "data": {
      "text/html": [
       "<div>\n",
       "<style scoped>\n",
       "    .dataframe tbody tr th:only-of-type {\n",
       "        vertical-align: middle;\n",
       "    }\n",
       "\n",
       "    .dataframe tbody tr th {\n",
       "        vertical-align: top;\n",
       "    }\n",
       "\n",
       "    .dataframe thead th {\n",
       "        text-align: right;\n",
       "    }\n",
       "</style>\n",
       "<table border=\"1\" class=\"dataframe\">\n",
       "  <thead>\n",
       "    <tr style=\"text-align: right;\">\n",
       "      <th></th>\n",
       "      <th>age</th>\n",
       "      <th>num_religion</th>\n",
       "      <th>body_type</th>\n",
       "      <th>diet</th>\n",
       "      <th>drinks</th>\n",
       "      <th>drugs</th>\n",
       "      <th>education</th>\n",
       "      <th>offspring</th>\n",
       "      <th>smokes</th>\n",
       "      <th>asian</th>\n",
       "      <th>white</th>\n",
       "      <th>black</th>\n",
       "      <th>other_eth</th>\n",
       "      <th>job</th>\n",
       "      <th>orientation</th>\n",
       "      <th>hispanic / latin</th>\n",
       "      <th>pacific islander</th>\n",
       "      <th>native american</th>\n",
       "      <th>middle eastern</th>\n",
       "      <th>indian</th>\n",
       "    </tr>\n",
       "  </thead>\n",
       "  <tbody>\n",
       "    <tr>\n",
       "      <th>num_religion</th>\n",
       "      <td>0.09916</td>\n",
       "      <td>1.0</td>\n",
       "      <td>0.03882</td>\n",
       "      <td>0.065258</td>\n",
       "      <td>-0.0724</td>\n",
       "      <td>-0.082393</td>\n",
       "      <td>0.014881</td>\n",
       "      <td>0.15083</td>\n",
       "      <td>-0.03472</td>\n",
       "      <td>-0.02364</td>\n",
       "      <td>-0.078897</td>\n",
       "      <td>-0.006371</td>\n",
       "      <td>0.037658</td>\n",
       "      <td>0.027152</td>\n",
       "      <td>-0.00369</td>\n",
       "      <td>0.033506</td>\n",
       "      <td>0.056028</td>\n",
       "      <td>-0.00054</td>\n",
       "      <td>0.04103</td>\n",
       "      <td>0.117721</td>\n",
       "    </tr>\n",
       "  </tbody>\n",
       "</table>\n",
       "</div>"
      ],
      "text/plain": [
       "                  age  num_religion  body_type      diet  drinks     drugs  \\\n",
       "num_religion  0.09916           1.0    0.03882  0.065258 -0.0724 -0.082393   \n",
       "\n",
       "              education  offspring   smokes    asian     white     black  \\\n",
       "num_religion   0.014881    0.15083 -0.03472 -0.02364 -0.078897 -0.006371   \n",
       "\n",
       "              other_eth       job  orientation  hispanic / latin  \\\n",
       "num_religion   0.037658  0.027152     -0.00369          0.033506   \n",
       "\n",
       "              pacific islander  native american  middle eastern    indian  \n",
       "num_religion          0.056028         -0.00054         0.04103  0.117721  "
      ]
     },
     "execution_count": 21,
     "metadata": {},
     "output_type": "execute_result"
    }
   ],
   "source": [
    "num_profiles.corr()[1:2]"
   ]
  },
  {
   "cell_type": "markdown",
   "metadata": {},
   "source": [
    "Seems like all values have very low correlations with religion, so we'll have to take all that are more or less `+-0.01`"
   ]
  },
  {
   "cell_type": "code",
   "execution_count": 22,
   "metadata": {},
   "outputs": [
    {
     "data": {
      "text/plain": [
       "10195"
      ]
     },
     "execution_count": 22,
     "metadata": {},
     "output_type": "execute_result"
    }
   ],
   "source": [
    "# Select features and labels for prediction\n",
    "relig_labels_features = mix_profiles[[\n",
    "    'age', 'diet', 'drinks', 'drugs', 'offspring',\n",
    "    'smokes', 'num_religion', 'job',\n",
    "    'asian', 'white', 'other_eth',\n",
    "    'hispanic / latin', 'pacific islander', 'middle eastern', 'indian' \n",
    "    ]]\n",
    "# Remove 'NaN's and create a separate DataFrame for these columns\n",
    "relig_labels_features = relig_labels_features.dropna().copy()\n",
    "len(relig_labels_features)"
   ]
  },
  {
   "cell_type": "markdown",
   "metadata": {},
   "source": [
    "Now let's select labels and features."
   ]
  },
  {
   "cell_type": "code",
   "execution_count": 23,
   "metadata": {},
   "outputs": [
    {
     "data": {
      "text/html": [
       "<div>\n",
       "<style scoped>\n",
       "    .dataframe tbody tr th:only-of-type {\n",
       "        vertical-align: middle;\n",
       "    }\n",
       "\n",
       "    .dataframe tbody tr th {\n",
       "        vertical-align: top;\n",
       "    }\n",
       "\n",
       "    .dataframe thead th {\n",
       "        text-align: right;\n",
       "    }\n",
       "</style>\n",
       "<table border=\"1\" class=\"dataframe\">\n",
       "  <thead>\n",
       "    <tr style=\"text-align: right;\">\n",
       "      <th></th>\n",
       "      <th>age</th>\n",
       "      <th>diet</th>\n",
       "      <th>drinks</th>\n",
       "      <th>drugs</th>\n",
       "      <th>offspring</th>\n",
       "      <th>smokes</th>\n",
       "      <th>job</th>\n",
       "      <th>asian</th>\n",
       "      <th>white</th>\n",
       "      <th>other_eth</th>\n",
       "      <th>hispanic / latin</th>\n",
       "      <th>pacific islander</th>\n",
       "      <th>middle eastern</th>\n",
       "      <th>indian</th>\n",
       "    </tr>\n",
       "  </thead>\n",
       "  <tbody>\n",
       "    <tr>\n",
       "      <th>0</th>\n",
       "      <td>1.0</td>\n",
       "      <td>1.0</td>\n",
       "      <td>2.0</td>\n",
       "      <td>0.0</td>\n",
       "      <td>1.0</td>\n",
       "      <td>1.0</td>\n",
       "      <td>2</td>\n",
       "      <td>1.0</td>\n",
       "      <td>1.0</td>\n",
       "      <td>0.0</td>\n",
       "      <td>0.0</td>\n",
       "      <td>0.0</td>\n",
       "      <td>0.0</td>\n",
       "      <td>0.0</td>\n",
       "    </tr>\n",
       "    <tr>\n",
       "      <th>1</th>\n",
       "      <td>2.0</td>\n",
       "      <td>6.0</td>\n",
       "      <td>3.0</td>\n",
       "      <td>1.0</td>\n",
       "      <td>1.0</td>\n",
       "      <td>0.0</td>\n",
       "      <td>2</td>\n",
       "      <td>0.0</td>\n",
       "      <td>1.0</td>\n",
       "      <td>0.0</td>\n",
       "      <td>0.0</td>\n",
       "      <td>0.0</td>\n",
       "      <td>0.0</td>\n",
       "      <td>0.0</td>\n",
       "    </tr>\n",
       "  </tbody>\n",
       "</table>\n",
       "</div>"
      ],
      "text/plain": [
       "   age  diet  drinks  drugs  offspring  smokes  job  asian  white  other_eth  \\\n",
       "0  1.0   1.0     2.0    0.0        1.0     1.0    2    1.0    1.0        0.0   \n",
       "1  2.0   6.0     3.0    1.0        1.0     0.0    2    0.0    1.0        0.0   \n",
       "\n",
       "   hispanic / latin  pacific islander  middle eastern  indian  \n",
       "0               0.0               0.0             0.0     0.0  \n",
       "1               0.0               0.0             0.0     0.0  "
      ]
     },
     "execution_count": 23,
     "metadata": {},
     "output_type": "execute_result"
    }
   ],
   "source": [
    "# Select slice with labels\n",
    "relig_labels = relig_labels_features[['num_religion']]\n",
    "# Select slice with features\n",
    "relig_features = relig_labels_features[[\n",
    "    'age', 'diet', 'drinks', 'drugs', 'offspring',\n",
    "    'smokes', 'job', 'asian', 'white', 'other_eth',\n",
    "    'hispanic / latin', 'pacific islander', 'middle eastern', 'indian' \n",
    "    ]]\n",
    "relig_features.head(2)"
   ]
  },
  {
   "cell_type": "markdown",
   "metadata": {},
   "source": [
    "And split both age and religion related labels and features into training and testing sets."
   ]
  },
  {
   "cell_type": "code",
   "execution_count": 24,
   "metadata": {},
   "outputs": [
    {
     "name": "stdout",
     "output_type": "stream",
     "text": [
      "Training set length for predicting age: 15379\n",
      "Training set length for predicting religion: 7646\n"
     ]
    }
   ],
   "source": [
    "# Split data on training and testing sets\n",
    "train_data_a, test_data_a, train_labels_a, test_labels_a = train_test_split(age_features, age_labels, random_state=2, test_size=.1)\n",
    "train_data_r, test_data_r, train_labels_r, test_labels_r = train_test_split(relig_features, relig_labels, random_state=6)\n",
    "print('Training set length for predicting age:', len(train_data_a))\n",
    "print('Training set length for predicting religion:', len(train_data_r))"
   ]
  },
  {
   "cell_type": "markdown",
   "metadata": {},
   "source": [
    "### Evaluation Metrics\n",
    "\n",
    "In the models, there will be several values that can be evaluated below is a quick diagram:\n",
    "![](https://miro.medium.com/max/1400/1*UVP_xb4F6J-M-xH3haz5Jw.png)\n",
    "here is a quick description of the metrics:\n",
    "\n",
    "- **Accuracy:** is the correct values divided by total values\n",
    "- **Precision:** is the True Positives divided by the sum of True Positives and False Negatives. So precision is the values of the true positives divided by the actual positive values.\n",
    "- **Recall:** is the True Positives divided by the sum of True Positives and False Positives. So recall is the values of the true positives divided by the positive guesses.\n",
    "- **F1-score:** is a blended score of precision and recall which balances both values.\n",
    "- **Macro Avg:** is the unweighted mean value of precision and recall. \n",
    "- **Weighted Avg:** is the weighted mean value of precision and recall by the support values for each class.\n",
    "- **Support:** is the number of observations in class to predict. "
   ]
  },
  {
   "cell_type": "markdown",
   "metadata": {},
   "source": [
    "### Training Models\n",
    "\n",
    "We are going to use Random Forest Ensemble and K-Nearest Neighbors algorithms to predict both religion and age. Random Forest should mitigate the scarcity of certain representatives listed as labels, because it takes into account many sets with repeating data points.\n",
    "\n",
    "### Age"
   ]
  },
  {
   "cell_type": "code",
   "execution_count": 25,
   "metadata": {},
   "outputs": [
    {
     "name": "stdout",
     "output_type": "stream",
     "text": [
      "57.64 %\n"
     ]
    }
   ],
   "source": [
    "# Instantiate and train classifier\n",
    "RandomForestClassifier_a = RandomForestClassifier(random_state=4).fit(train_data_a, train_labels_a.values.ravel())\n",
    "# Get accuracy of the classifier\n",
    "print(round(RandomForestClassifier_a.score(test_data_a, test_labels_a), 4)*100, '%')"
   ]
  },
  {
   "cell_type": "code",
   "execution_count": 26,
   "metadata": {},
   "outputs": [
    {
     "name": "stdout",
     "output_type": "stream",
     "text": [
      "              precision    recall  f1-score   support\n",
      "\n",
      "         1.0       0.59      0.85      0.70       744\n",
      "         2.0       0.47      0.27      0.34       518\n",
      "         3.0       0.62      0.54      0.58       388\n",
      "         4.0       0.56      0.08      0.15        59\n",
      "\n",
      "    accuracy                           0.58      1709\n",
      "   macro avg       0.56      0.44      0.44      1709\n",
      "weighted avg       0.56      0.58      0.54      1709\n",
      "\n"
     ]
    }
   ],
   "source": [
    "# Get detailed report\n",
    "print(classification_report(test_labels_a, RandomForestClassifier_a.predict(test_data_a)))"
   ]
  },
  {
   "cell_type": "markdown",
   "metadata": {},
   "source": [
    "Result: \n",
    "\n",
    "- Accuracy is not too high, but better than random guessing, what would get us only `25%` of accuracy. \n",
    "- Recall of data points with age label 4 is very low, only `0,08`. Meaning from all values that has been predicted as members of the 4th class, only that small number of them were identified correctly. This is mainly because there are too few representatives within this class. \n",
    "\n",
    "Let's see what features played the main role in the prediction process. "
   ]
  },
  {
   "cell_type": "code",
   "execution_count": 27,
   "metadata": {},
   "outputs": [
    {
     "data": {
      "image/png": "[encoded data removed]",
      "text/plain": [
       "<Figure size 1512x648 with 1 Axes>"
      ]
     },
     "metadata": {
      "needs_background": "light"
     },
     "output_type": "display_data"
    }
   ],
   "source": [
    "def visualise_barchart(feature_lst, values):\n",
    "    # Prepare grid\n",
    "    plt.figure(figsize = (21,9))\n",
    "    \n",
    "    # Draw barplot\n",
    "    ax = sns.barplot(x = feature_lst, y = values, palette='plasma')\n",
    "\n",
    "    # Add descriptions\n",
    "    plt.title('Features\\' Influence within Random Forest', fontsize='x-large')\n",
    "    plt.xlabel('Features', fontsize='large')\n",
    "    plt.ylabel('Coeficients', fontsize='large')\n",
    "    ax.set_xticklabels(feature_lst, rotation=30)\n",
    "\n",
    "    return plt.show()\n",
    "\n",
    "# Display important features\n",
    "visualise_barchart(\n",
    "    RandomForestClassifier_a.feature_names_in_, \n",
    "    RandomForestClassifier_a.feature_importances_)"
   ]
  },
  {
   "cell_type": "markdown",
   "metadata": {},
   "source": [
    "Result: Even though `job` and `education` have  very clear age related ranking, the main criterion is the number of kids or their absence - it surpasses everything else by a great deal. \n",
    "\n",
    "Now let's build the second model - K-Neighbors."
   ]
  },
  {
   "cell_type": "code",
   "execution_count": 28,
   "metadata": {},
   "outputs": [
    {
     "name": "stdout",
     "output_type": "stream",
     "text": [
      "57.93000000000001 %\n"
     ]
    }
   ],
   "source": [
    "# Get best classifier with best score\n",
    "def best_knn(train_data, train_labels, test_data, test_labels):\n",
    "    best_k=0\n",
    "    best_score = 0\n",
    "    best_classifer = None\n",
    "    for k in range(1, 200):\n",
    "        current_k = k\n",
    "        # Instantiate model\n",
    "        current_classifier = KNeighborsClassifier(n_neighbors=current_k)\n",
    "        # Train model\n",
    "        current_classifier.fit(train_data, train_labels.values.ravel())\n",
    "        # Get model's accuracy\n",
    "        current_score = current_classifier.score(test_data, test_labels)\n",
    "        if current_score > best_score:\n",
    "            best_score = current_score\n",
    "            best_k = current_k\n",
    "            best_classifer = current_classifier\n",
    "    return best_classifer, best_score\n",
    "\n",
    "# Pickle best classifier with best score\n",
    "KNeighborsClassifier_a, best_score_a = with_pickle('pickles/knn_classifier_a.pickle', lambda: best_knn(train_data_a, train_labels_a, test_data_a, test_labels_a)) \n",
    "print(round(best_score_a, 4)*100, '%')"
   ]
  },
  {
   "cell_type": "code",
   "execution_count": 29,
   "metadata": {},
   "outputs": [
    {
     "name": "stdout",
     "output_type": "stream",
     "text": [
      "              precision    recall  f1-score   support\n",
      "\n",
      "         1.0       0.58      0.87      0.70       744\n",
      "         2.0       0.51      0.24      0.32       518\n",
      "         3.0       0.61      0.57      0.59       388\n",
      "         4.0       1.00      0.00      0.00        59\n",
      "\n",
      "    accuracy                           0.58      1709\n",
      "   macro avg       0.68      0.42      0.40      1709\n",
      "weighted avg       0.58      0.58      0.54      1709\n",
      "\n"
     ]
    }
   ],
   "source": [
    "# Get detailed report\n",
    "print(classification_report(test_labels_a, KNeighborsClassifier_a.predict(test_data_a), zero_division=1))"
   ]
  },
  {
   "cell_type": "markdown",
   "metadata": {},
   "source": [
    "Result: \n",
    "- Although the end result of accuracy is the same, but detailed report shows the same tendency in the class 4, but now recall has dropped to `0`.\n",
    "- A bit worse became results of recall of the 2nd class (from `0.27` to `0.24`), even though there are many data points within it. Why results of the 2nd are lower those of the 1st and  3rd is a subject to investigation for the next steps.\n",
    "\n",
    "#### Religion\n",
    "\n",
    "Let's train the same algorithms with religion related dataset."
   ]
  },
  {
   "cell_type": "code",
   "execution_count": 30,
   "metadata": {},
   "outputs": [
    {
     "name": "stdout",
     "output_type": "stream",
     "text": [
      "27.66 %\n"
     ]
    }
   ],
   "source": [
    "# Instantiate and train classifier\n",
    "RandomForestClassifier_r = RandomForestClassifier(random_state=33).fit(train_data_r, train_labels_r.values.ravel())\n",
    "# Get accuracy of the classifier\n",
    "print(round(RandomForestClassifier_r.score(test_data_r, test_labels_r), 4)*100, '%')"
   ]
  },
  {
   "cell_type": "code",
   "execution_count": 31,
   "metadata": {},
   "outputs": [
    {
     "name": "stdout",
     "output_type": "stream",
     "text": [
      "              precision    recall  f1-score   support\n",
      "\n",
      "         0.0       0.24      0.38      0.29       546\n",
      "         1.0       0.29      0.27      0.28       478\n",
      "         2.0       0.31      0.32      0.32       401\n",
      "         3.0       0.30      0.29      0.30       516\n",
      "         4.0       0.33      0.20      0.25       304\n",
      "         5.0       0.10      0.04      0.06       124\n",
      "         6.0       0.17      0.06      0.09       143\n",
      "         7.0       0.45      0.52      0.48        27\n",
      "         8.0       0.40      0.20      0.27        10\n",
      "\n",
      "    accuracy                           0.28      2549\n",
      "   macro avg       0.29      0.25      0.26      2549\n",
      "weighted avg       0.28      0.28      0.27      2549\n",
      "\n"
     ]
    }
   ],
   "source": [
    "# Get detailed report\n",
    "print(classification_report(test_labels_r, RandomForestClassifier_r.predict(test_data_r)))"
   ]
  },
  {
   "cell_type": "markdown",
   "metadata": {},
   "source": [
    "Result: \n",
    "- The ground result for this classifier is `11%` of accuracy, and our current result is better by about `17%`, which is quite low, but prediction of many labels always a difficult task and when one is trying to predict religion by features that have very small correlation and no causality with predicting classes, that would lead us to poor quality of prediction. \n",
    "- Worst of all recalled `buddhism - 0.04` and `judaism 0.06`, even thoug the fewest number of representatives were in `hinduism` and `islam`. \n",
    "- `hinduism` is, on the opposite got the best recall score - `0.52`."
   ]
  },
  {
   "cell_type": "code",
   "execution_count": 32,
   "metadata": {},
   "outputs": [
    {
     "data": {
      "image/png": "[encoded data removed]",
      "text/plain": [
       "<Figure size 1512x648 with 1 Axes>"
      ]
     },
     "metadata": {
      "needs_background": "light"
     },
     "output_type": "display_data"
    }
   ],
   "source": [
    "visualise_barchart(\n",
    "    RandomForestClassifier_r.feature_names_in_, \n",
    "    RandomForestClassifier_r.feature_importances_)"
   ]
  },
  {
   "cell_type": "markdown",
   "metadata": {},
   "source": [
    "Result: the main determining feature is `drinks`, what is expected, considering some religions have an absolute ban on alcohol consumption."
   ]
  },
  {
   "cell_type": "code",
   "execution_count": 33,
   "metadata": {},
   "outputs": [
    {
     "name": "stdout",
     "output_type": "stream",
     "text": [
      "29.34 %\n"
     ]
    }
   ],
   "source": [
    "# Pickle best classifier with best score\n",
    "KNeighborsClassifier_r, best_score_r = with_pickle('pickles/knn_classifier_r.pickle', lambda: best_knn(train_data_r, train_labels_r, test_data_r, test_labels_r))\n",
    "# Get accuracy of the classifier\n",
    "print(round(best_score_r, 4)*100, '%') "
   ]
  },
  {
   "cell_type": "code",
   "execution_count": 34,
   "metadata": {},
   "outputs": [
    {
     "name": "stdout",
     "output_type": "stream",
     "text": [
      "              precision    recall  f1-score   support\n",
      "\n",
      "         0.0       0.26      0.36      0.30       546\n",
      "         1.0       0.29      0.33      0.31       478\n",
      "         2.0       0.28      0.40      0.33       401\n",
      "         3.0       0.35      0.31      0.33       516\n",
      "         4.0       0.35      0.17      0.23       304\n",
      "         5.0       0.40      0.02      0.03       124\n",
      "         6.0       0.24      0.07      0.11       143\n",
      "         7.0       0.44      0.44      0.44        27\n",
      "         8.0       1.00      0.00      0.00        10\n",
      "\n",
      "    accuracy                           0.29      2549\n",
      "   macro avg       0.40      0.23      0.23      2549\n",
      "weighted avg       0.31      0.29      0.28      2549\n",
      "\n"
     ]
    }
   ],
   "source": [
    "# Get detailed report\n",
    "print(classification_report(test_labels_r, KNeighborsClassifier_r.predict(test_data_r), zero_division=1))"
   ]
  },
  {
   "cell_type": "markdown",
   "metadata": {},
   "source": [
    "Result: \n",
    "- Results of this algorithm are pretty similar, only recall of `islam` from `0.20` dropped to `0`.\n",
    "- `christianity`'s recall rose from `0,32` to `0,40`."
   ]
  },
  {
   "cell_type": "markdown",
   "metadata": {},
   "source": [
    "## Natural Language Processing\n",
    "\n",
    "NLP allows analyzing human written free text and classify it in same classes of `age` and `religion` as we identified as labels before. We are going to use ensemble of different models: Naive Bayes, Logistic Regression and Linear Support Vector Machine."
   ]
  },
  {
   "cell_type": "code",
   "execution_count": 35,
   "metadata": {},
   "outputs": [],
   "source": [
    "# Inports related to ml\n",
    "from nltk.classify.scikitlearn import SklearnClassifier\n",
    "from sklearn.linear_model import LogisticRegression\n",
    "from sklearn.svm import LinearSVC\n",
    "from nltk.classify import ClassifierI\n",
    "from statistics import mode\n",
    "\n",
    "# Imports for preprocessing\n",
    "from bs4 import BeautifulSoup\n",
    "from nltk.corpus import stopwords\n",
    "import re, nltk\n",
    "from nltk import pos_tag_sents, RegexpParser\n",
    "from nltk import word_tokenize, sent_tokenize\n",
    "from nltk import word_tokenize, sent_tokenize"
   ]
  },
  {
   "cell_type": "markdown",
   "metadata": {},
   "source": [
    "### Selecting Columns for NLP\n",
    "\n",
    "Let's start with selecting required free text columns and combining them all in a long text. "
   ]
  },
  {
   "cell_type": "code",
   "execution_count": 36,
   "metadata": {},
   "outputs": [
    {
     "data": {
      "text/html": [
       "<div>\n",
       "<style scoped>\n",
       "    .dataframe tbody tr th:only-of-type {\n",
       "        vertical-align: middle;\n",
       "    }\n",
       "\n",
       "    .dataframe tbody tr th {\n",
       "        vertical-align: top;\n",
       "    }\n",
       "\n",
       "    .dataframe thead th {\n",
       "        text-align: right;\n",
       "    }\n",
       "</style>\n",
       "<table border=\"1\" class=\"dataframe\">\n",
       "  <thead>\n",
       "    <tr style=\"text-align: right;\">\n",
       "      <th></th>\n",
       "      <th>age</th>\n",
       "      <th>essays_combined</th>\n",
       "    </tr>\n",
       "  </thead>\n",
       "  <tbody>\n",
       "    <tr>\n",
       "      <th>0</th>\n",
       "      <td>1.0</td>\n",
       "      <td>about me:&lt;br /&gt;\\n&lt;br /&gt;\\ni would love to think...</td>\n",
       "    </tr>\n",
       "    <tr>\n",
       "      <th>1</th>\n",
       "      <td>2.0</td>\n",
       "      <td>i am a chef: this is what that means.&lt;br /&gt;\\n1...</td>\n",
       "    </tr>\n",
       "    <tr>\n",
       "      <th>2</th>\n",
       "      <td>2.0</td>\n",
       "      <td>i'm not ashamed of much, but writing public te...</td>\n",
       "    </tr>\n",
       "    <tr>\n",
       "      <th>3</th>\n",
       "      <td>1.0</td>\n",
       "      <td>i work in a library and go to school. . . read...</td>\n",
       "    </tr>\n",
       "    <tr>\n",
       "      <th>4</th>\n",
       "      <td>1.0</td>\n",
       "      <td>hey how's it going? currently vague on the pro...</td>\n",
       "    </tr>\n",
       "  </tbody>\n",
       "</table>\n",
       "</div>"
      ],
      "text/plain": [
       "   age                                    essays_combined\n",
       "0  1.0  about me:<br />\\n<br />\\ni would love to think...\n",
       "1  2.0  i am a chef: this is what that means.<br />\\n1...\n",
       "2  2.0  i'm not ashamed of much, but writing public te...\n",
       "3  1.0  i work in a library and go to school. . . read...\n",
       "4  1.0  hey how's it going? currently vague on the pro..."
      ]
     },
     "execution_count": 36,
     "metadata": {},
     "output_type": "execute_result"
    }
   ],
   "source": [
    "# Select required columns \n",
    "columns = ['essay0','essay1', 'essay2', 'essay3', 'essay4', 'essay5', 'essay6', 'essay7', 'essay8', 'essay9']\n",
    "# Remove 'NaN's if any of them in 'age' or if all essays are not filled.\n",
    "essays_a = mix_profiles.dropna(subset = 'age').dropna(how='all', subset=columns)\n",
    "# Combine all essays in one column\n",
    "essays_a['essays_combined'] = essays_a[columns].apply(lambda row: ' '.join(row.values.astype(str)), axis=1)\n",
    "# Create separate DataFrame with only age and essays\n",
    "essays_a = essays_a[['age', 'essays_combined']].reset_index(drop=True).copy()\n",
    "essays_a.head()"
   ]
  },
  {
   "cell_type": "markdown",
   "metadata": {},
   "source": [
    "Let's check how many data points we got in age related dataset after removing `NaN`s."
   ]
  },
  {
   "cell_type": "code",
   "execution_count": 37,
   "metadata": {},
   "outputs": [
    {
     "name": "stdout",
     "output_type": "stream",
     "text": [
      "Initial number: 59946\n",
      "Final number: 57629\n"
     ]
    }
   ],
   "source": [
    "print('Initial number:', len(mix_profiles))\n",
    "print('Final number:',  len(essays_a))"
   ]
  },
  {
   "cell_type": "markdown",
   "metadata": {},
   "source": [
    "Let's do the same for religious views."
   ]
  },
  {
   "cell_type": "code",
   "execution_count": 38,
   "metadata": {},
   "outputs": [
    {
     "data": {
      "text/html": [
       "<div>\n",
       "<style scoped>\n",
       "    .dataframe tbody tr th:only-of-type {\n",
       "        vertical-align: middle;\n",
       "    }\n",
       "\n",
       "    .dataframe tbody tr th {\n",
       "        vertical-align: top;\n",
       "    }\n",
       "\n",
       "    .dataframe thead th {\n",
       "        text-align: right;\n",
       "    }\n",
       "</style>\n",
       "<table border=\"1\" class=\"dataframe\">\n",
       "  <thead>\n",
       "    <tr style=\"text-align: right;\">\n",
       "      <th></th>\n",
       "      <th>num_religion</th>\n",
       "      <th>essays_combined</th>\n",
       "    </tr>\n",
       "  </thead>\n",
       "  <tbody>\n",
       "    <tr>\n",
       "      <th>0</th>\n",
       "      <td>0.0</td>\n",
       "      <td>about me:&lt;br /&gt;\\n&lt;br /&gt;\\ni would love to think...</td>\n",
       "    </tr>\n",
       "    <tr>\n",
       "      <th>1</th>\n",
       "      <td>0.0</td>\n",
       "      <td>i am a chef: this is what that means.&lt;br /&gt;\\n1...</td>\n",
       "    </tr>\n",
       "    <tr>\n",
       "      <th>2</th>\n",
       "      <td>1.0</td>\n",
       "      <td>i'm an australian living in san francisco, but...</td>\n",
       "    </tr>\n",
       "    <tr>\n",
       "      <th>3</th>\n",
       "      <td>2.0</td>\n",
       "      <td>nan writing. meeting new people, spending time...</td>\n",
       "    </tr>\n",
       "    <tr>\n",
       "      <th>4</th>\n",
       "      <td>2.0</td>\n",
       "      <td>nan oh goodness. at the moment i have 4 jobs, ...</td>\n",
       "    </tr>\n",
       "  </tbody>\n",
       "</table>\n",
       "</div>"
      ],
      "text/plain": [
       "   num_religion                                    essays_combined\n",
       "0           0.0  about me:<br />\\n<br />\\ni would love to think...\n",
       "1           0.0  i am a chef: this is what that means.<br />\\n1...\n",
       "2           1.0  i'm an australian living in san francisco, but...\n",
       "3           2.0  nan writing. meeting new people, spending time...\n",
       "4           2.0  nan oh goodness. at the moment i have 4 jobs, ..."
      ]
     },
     "execution_count": 38,
     "metadata": {},
     "output_type": "execute_result"
    }
   ],
   "source": [
    "# Remove 'NaN's if any of them in 'num_religion' or if all essays are not filled.\n",
    "essays_r = mix_profiles.dropna(subset = 'num_religion').dropna(how='all', subset=columns)\n",
    "# Combine all essays in one column\n",
    "essays_r['essays_combined'] = essays_r[columns].apply(lambda row: ' '.join(row.values.astype(str)), axis=1)\n",
    "# Create separate DataFrame with only 'num_religion' and essays\n",
    "essays_r = essays_r[['num_religion', 'essays_combined']].reset_index(drop=True).copy()\n",
    "essays_r.head()"
   ]
  },
  {
   "cell_type": "code",
   "execution_count": 39,
   "metadata": {},
   "outputs": [
    {
     "name": "stdout",
     "output_type": "stream",
     "text": [
      "Initial number: 59946\n",
      "Final number: 38599\n"
     ]
    }
   ],
   "source": [
    "print('Initial number:', len(mix_profiles))\n",
    "print('Final number:',  len(essays_r))"
   ]
  },
  {
   "cell_type": "markdown",
   "metadata": {},
   "source": [
    "Result: It seems that the number of absent values among religious views information is high, we lost almost 20 thousand data points.\n",
    "\n",
    "### Pre-Processing\n",
    "\n",
    "We are going to remove different visual obstacles that a model can ran into, like links or `html tags`, as well as lower case everything. We'll leave punctuation though, because it tends to help to define part of speech better, which we'll require going further."
   ]
  },
  {
   "cell_type": "code",
   "execution_count": 40,
   "metadata": {},
   "outputs": [],
   "source": [
    "def remove_noise(text):\n",
    "    # Instantiate object\n",
    "    soup = BeautifulSoup(text, features=\"html.parser\")\n",
    "\n",
    "    # Remove all script and style elements\n",
    "    for script in soup([\"script\", \"style\"]):\n",
    "        script.extract()   \n",
    "\n",
    "    # Get text\n",
    "    text = soup.get_text()\n",
    "\n",
    "    # Break into lines and remove leading and trailing space on each\n",
    "    lines = (line.strip() for line in text.splitlines())\n",
    "    # Break multi-headlines into a line each\n",
    "    chunks = (phrase.strip() for line in lines for phrase in line.split(\"  \"))\n",
    "    # Drop blank lines\n",
    "    text = ' '.join(chunk for chunk in chunks if chunk)\n",
    "\n",
    "    return text "
   ]
  },
  {
   "cell_type": "markdown",
   "metadata": {},
   "source": [
    "Let's check what text we've got as a result in `age` related dataset."
   ]
  },
  {
   "cell_type": "code",
   "execution_count": 41,
   "metadata": {},
   "outputs": [
    {
     "data": {
      "text/plain": [
       "\"i'm an australian living in san francisco, but don't hold that\\nagainst me. i spend most of my days trying to build cool stuff for\\nmy company. i speak mandarin and have been known to bust out\\nchinese songs at karaoke. i'm pretty cheeky. someone asked me if\\nthat meant something about my arse, which i find really\\nfunny.<br />\\n<br />\\ni'm a little oddball. i have a wild imagination; i like to think of\\nthe most improbable reasons people are doing things just for fun. i\\nlove to laugh and look for reaso\""
      ]
     },
     "execution_count": 41,
     "metadata": {},
     "output_type": "execute_result"
    }
   ],
   "source": [
    "# Display essays before noise removal\n",
    "essays_a.essays_combined[5][:500]"
   ]
  },
  {
   "cell_type": "code",
   "execution_count": 42,
   "metadata": {},
   "outputs": [
    {
     "data": {
      "text/plain": [
       "\"i'm an australian living in san francisco, but don't hold that against me. i spend most of my days trying to build cool stuff for my company. i speak mandarin and have been known to bust out chinese songs at karaoke. i'm pretty cheeky. someone asked me if that meant something about my arse, which i find really funny. i'm a little oddball. i have a wild imagination; i like to think of the most improbable reasons people are doing things just for fun. i love to laugh and look for reasons to do so. \""
      ]
     },
     "execution_count": 42,
     "metadata": {},
     "output_type": "execute_result"
    }
   ],
   "source": [
    "# Display essays after noise removal\n",
    "essays_a.essays_combined = with_pickle('pickles/noise_removed_a.pickle', lambda : essays_a.essays_combined.apply(remove_noise))\n",
    "essays_a.essays_combined[5][:500]"
   ]
  },
  {
   "cell_type": "markdown",
   "metadata": {},
   "source": [
    "What about religion?"
   ]
  },
  {
   "cell_type": "code",
   "execution_count": 43,
   "metadata": {},
   "outputs": [
    {
     "data": {
      "text/plain": [
       "\"my names jake.<br />\\ni'm a creative guy and i look for the same in others.<br />\\n<br />\\ni'm easy going, practical and i don't have many hang ups. i\\nappreciate life and try to live it to the fullest. i'm sober and\\nhave been for the past few years.<br />\\n<br />\\ni love music and i play guitar. i like tons of different bands. i'm\\nan artist and i love to paint/draw etc. and i love creative\\npeople.<br />\\n<br />\\ni've got to say i'm not too big on internet dating. you cant really\\nget an earnest impressi\""
      ]
     },
     "execution_count": 43,
     "metadata": {},
     "output_type": "execute_result"
    }
   ],
   "source": [
    "# Display essays before noise removal\n",
    "essays_r.essays_combined[5][:500]"
   ]
  },
  {
   "cell_type": "code",
   "execution_count": 44,
   "metadata": {},
   "outputs": [
    {
     "data": {
      "text/plain": [
       "\"my names jake. i'm a creative guy and i look for the same in others. i'm easy going, practical and i don't have many hang ups. i appreciate life and try to live it to the fullest. i'm sober and have been for the past few years. i love music and i play guitar. i like tons of different bands. i'm an artist and i love to paint/draw etc. and i love creative people. i've got to say i'm not too big on internet dating. you cant really get an earnest impression of anyone from a few polished paragraphs. \""
      ]
     },
     "execution_count": 44,
     "metadata": {},
     "output_type": "execute_result"
    }
   ],
   "source": [
    "# Display essays after noise removal\n",
    "essays_r.essays_combined = with_pickle('pickles/noise_removed_r.pickle', lambda : essays_r.essays_combined.apply(remove_noise))\n",
    "essays_r.essays_combined[5][:500]"
   ]
  },
  {
   "cell_type": "markdown",
   "metadata": {},
   "source": [
    "Looks like noise has been removed rather efficiently, let's proceed to tokenization. \n",
    "\n",
    "We are going to tokenize text on sentences and on words, to make determination of parts of speech better: this way our punctuation will play its role."
   ]
  },
  {
   "cell_type": "code",
   "execution_count": 45,
   "metadata": {},
   "outputs": [
    {
     "data": {
      "text/plain": [
       "[['i',\n",
       "  \"'m\",\n",
       "  'an',\n",
       "  'australian',\n",
       "  'living',\n",
       "  'in',\n",
       "  'san',\n",
       "  'francisco',\n",
       "  ',',\n",
       "  'but',\n",
       "  'do',\n",
       "  \"n't\",\n",
       "  'hold',\n",
       "  'that',\n",
       "  'against',\n",
       "  'me',\n",
       "  '.']]"
      ]
     },
     "execution_count": 45,
     "metadata": {},
     "output_type": "execute_result"
    }
   ],
   "source": [
    "def word_sent_tokenize(text):\n",
    "    word_sent_tokenized = [word_tokenize(s) for s in sent_tokenize(text)]\n",
    "    return word_sent_tokenized\n",
    "# Tokenise essays and serialize them\n",
    "essays_a['sent_tokenized'] = with_pickle('pickles/sent_tokenized_a.pickle', lambda : essays_a.essays_combined.apply(word_sent_tokenize))\n",
    "essays_a.sent_tokenized[5][:1]"
   ]
  },
  {
   "cell_type": "code",
   "execution_count": 46,
   "metadata": {},
   "outputs": [
    {
     "data": {
      "text/plain": [
       "[['my', 'names', 'jake', '.']]"
      ]
     },
     "execution_count": 46,
     "metadata": {},
     "output_type": "execute_result"
    }
   ],
   "source": [
    "# Tokenise essays and serialize them\n",
    "essays_r['sent_tokenized'] = with_pickle('pickles/sent_tokenized_r.pickle', lambda : essays_r.essays_combined.apply(word_sent_tokenize))\n",
    "essays_r.sent_tokenized[5][:1]"
   ]
  },
  {
   "cell_type": "markdown",
   "metadata": {},
   "source": [
    "After applying tokenization we can move to part of speech definition, as previously for both datasets. We are going to need parts of speech during feature modelling, to select for models only specific parts of speech."
   ]
  },
  {
   "cell_type": "code",
   "execution_count": 47,
   "metadata": {},
   "outputs": [
    {
     "data": {
      "text/plain": [
       "[[('i', 'NN'),\n",
       "  (\"'m\", 'VBP'),\n",
       "  ('an', 'DT'),\n",
       "  ('australian', 'JJ'),\n",
       "  ('living', 'NN'),\n",
       "  ('in', 'IN'),\n",
       "  ('san', 'JJ'),\n",
       "  ('francisco', 'NN'),\n",
       "  (',', ','),\n",
       "  ('but', 'CC'),\n",
       "  ('do', 'VBP'),\n",
       "  (\"n't\", 'RB'),\n",
       "  ('hold', 'VB'),\n",
       "  ('that', 'DT'),\n",
       "  ('against', 'IN'),\n",
       "  ('me', 'PRP'),\n",
       "  ('.', '.')]]"
      ]
     },
     "execution_count": 47,
     "metadata": {},
     "output_type": "execute_result"
    }
   ],
   "source": [
    "essays_a['sent_pos_tagged'] = with_pickle('pickles/pos_tagged_a.pickle', lambda : essays_a.sent_tokenized.apply(pos_tag_sents))\n",
    "essays_a.sent_pos_tagged[5][:1]"
   ]
  },
  {
   "cell_type": "code",
   "execution_count": 48,
   "metadata": {},
   "outputs": [
    {
     "data": {
      "text/plain": [
       "[[('my', 'PRP$'), ('names', 'NNS'), ('jake', 'VBP'), ('.', '.')]]"
      ]
     },
     "execution_count": 48,
     "metadata": {},
     "output_type": "execute_result"
    }
   ],
   "source": [
    "essays_r['sent_pos_tagged'] = with_pickle('pickles/pos_tagged_r.pickle', lambda : essays_r.sent_tokenized.apply(pos_tag_sents))\n",
    "essays_r.sent_pos_tagged[5][:1]"
   ]
  },
  {
   "cell_type": "markdown",
   "metadata": {},
   "source": [
    "### Feature Modelling\n",
    "\n",
    "Now, when we have tokenized and pos-tagged essays we are going to create feature sets with labels within them. We'll start by finding 4000 most common adjectives and adverbs, because they perform descriptive function and there could be substantial difference between descriptive language of younger and older generations, as well as it could be present within representatives of different religious views. Let's check whether it's a fair assumption."
   ]
  },
  {
   "cell_type": "code",
   "execution_count": 49,
   "metadata": {},
   "outputs": [
    {
     "data": {
      "text/plain": [
       "['intellectual',\n",
       " 'dumbest',\n",
       " 'smart',\n",
       " 'smartest',\n",
       " 'dumb',\n",
       " \"n't\",\n",
       " 'odd',\n",
       " 'instead',\n",
       " 'underwater',\n",
       " 'favorite']"
      ]
     },
     "execution_count": 49,
     "metadata": {},
     "output_type": "execute_result"
    }
   ],
   "source": [
    "# Load common words \n",
    "stop_words = set(stopwords.words('english'))\n",
    "# List speech parts that will be analysed by classifiers\n",
    "allowed_word_types = ['JJ', 'JJR', 'JJS', 'RB', 'RBR', 'RBS']\n",
    "\n",
    "def most_common(dataset):   \n",
    "    # Create list of most common words\n",
    "    all_words = []\n",
    "    for names, cell_values in dataset.sent_pos_tagged.iteritems():\n",
    "        for sentence in cell_values:\n",
    "            for word, part_of_speach in sentence:\n",
    "                # Remove if word is in stop words and add if it is in allowed list \n",
    "                if not word in stop_words and part_of_speach in allowed_word_types:\n",
    "                    all_words.append(word)\n",
    "\n",
    "    # Count number of occurances for each word and sort in desc. order\n",
    "    all_words = nltk.FreqDist(all_words)\n",
    "\n",
    "    # Take most common from all available words\n",
    "    most_common = list(all_words.keys())[:4000]\n",
    "\n",
    "    return most_common\n",
    "\n",
    "# Find most common for 'age' dataset\n",
    "most_common_a = most_common(essays_a)\n",
    "most_common_a[:10]"
   ]
  },
  {
   "cell_type": "code",
   "execution_count": 50,
   "metadata": {},
   "outputs": [
    {
     "data": {
      "text/plain": [
       "['intellectual',\n",
       " 'dumbest',\n",
       " 'smart',\n",
       " 'smartest',\n",
       " 'dumb',\n",
       " \"n't\",\n",
       " 'odd',\n",
       " 'instead',\n",
       " 'underwater',\n",
       " 'favorite']"
      ]
     },
     "execution_count": 50,
     "metadata": {},
     "output_type": "execute_result"
    }
   ],
   "source": [
    "# Find most common for 'religion' dataset\n",
    "most_common_r = most_common(essays_r)\n",
    "most_common_r[:10]"
   ]
  },
  {
   "cell_type": "markdown",
   "metadata": {},
   "source": [
    "Now when we got common words let's proceed to creating feature sets. We are going to create a collection of dictionaries where each  will consist of most common words that will be marked `True` or `False`, for model to understand whether there are the most common words in each essay bundle or not. The existing label of `age` or `religion` will be at the end of each essay bundle (dictionary)."
   ]
  },
  {
   "cell_type": "code",
   "execution_count": 51,
   "metadata": {},
   "outputs": [
    {
     "data": {
      "text/plain": [
       "0        ({'intellectual': True, 'dumbest': True, 'smar...\n",
       "1        ({'intellectual': False, 'dumbest': False, 'sm...\n",
       "2        ({'intellectual': True, 'dumbest': False, 'sma...\n",
       "3        ({'intellectual': False, 'dumbest': False, 'sm...\n",
       "4        ({'intellectual': False, 'dumbest': False, 'sm...\n",
       "                               ...                        \n",
       "57624    ({'intellectual': False, 'dumbest': False, 'sm...\n",
       "57625    ({'intellectual': False, 'dumbest': False, 'sm...\n",
       "57626    ({'intellectual': False, 'dumbest': False, 'sm...\n",
       "57627    ({'intellectual': False, 'dumbest': False, 'sm...\n",
       "57628    ({'intellectual': False, 'dumbest': False, 'sm...\n",
       "Length: 57629, dtype: object"
      ]
     },
     "execution_count": 51,
     "metadata": {},
     "output_type": "execute_result"
    }
   ],
   "source": [
    "# Create a dictionary where word has value True if it is in list of most common\n",
    "def find_features(sentences, most_common):\n",
    "    words = [word for sentence in sentences for word in sentence]\n",
    "    features = {}\n",
    "    for word in most_common:\n",
    "        features[word] = word in words\n",
    "    return features\n",
    "# Mark words in each row of dataset\n",
    "def find_features_in_df(dataset, most_common, column):\n",
    "    return dataset.apply(lambda row: (find_features(row['sent_tokenized'], most_common), row[column]), axis=1)\n",
    "# Mark words in 'age' dataset and serialize it\n",
    "feature_sets_a = with_pickle('pickles/find_features_a.pickle', lambda : find_features_in_df(essays_a, most_common_a, column = 'age'))\n",
    "feature_sets_a"
   ]
  },
  {
   "cell_type": "code",
   "execution_count": 52,
   "metadata": {},
   "outputs": [
    {
     "data": {
      "text/plain": [
       "0        ({'intellectual': True, 'dumbest': True, 'smar...\n",
       "1        ({'intellectual': False, 'dumbest': False, 'sm...\n",
       "2        ({'intellectual': False, 'dumbest': False, 'sm...\n",
       "3        ({'intellectual': False, 'dumbest': False, 'sm...\n",
       "4        ({'intellectual': False, 'dumbest': False, 'sm...\n",
       "                               ...                        \n",
       "38594    ({'intellectual': False, 'dumbest': False, 'sm...\n",
       "38595    ({'intellectual': False, 'dumbest': False, 'sm...\n",
       "38596    ({'intellectual': False, 'dumbest': False, 'sm...\n",
       "38597    ({'intellectual': False, 'dumbest': False, 'sm...\n",
       "38598    ({'intellectual': False, 'dumbest': False, 'sm...\n",
       "Length: 38599, dtype: object"
      ]
     },
     "execution_count": 52,
     "metadata": {},
     "output_type": "execute_result"
    }
   ],
   "source": [
    "# Mark words in 'religion' dataset and serialize it\n",
    "feature_sets_r = with_pickle('pickles/find_features_r.pickle', lambda : find_features_in_df(essays_r, most_common_r, column='num_religion'))\n",
    "feature_sets_r"
   ]
  },
  {
   "cell_type": "markdown",
   "metadata": {},
   "source": [
    "Finally we can create training and testing sets for `age` and `religion` datasets."
   ]
  },
  {
   "cell_type": "code",
   "execution_count": 53,
   "metadata": {},
   "outputs": [],
   "source": [
    "# Create training set from the list of marked words\n",
    "training_sets_a = feature_sets_a[:57000]\n",
    "# Create training set from the list of marked words\n",
    "training_sets_r = feature_sets_r[:38000]\n",
    "\n",
    "# Create testing set from the list of marked words that are not in training set\n",
    "testing_sets_a = feature_sets_a[57000:]\n",
    "testing_sets_r = feature_sets_r[38000:]"
   ]
  },
  {
   "cell_type": "markdown",
   "metadata": {},
   "source": [
    "### Building Models\n",
    "\n",
    "There will be 6 models here in total - 3 `age` related, 3 `religion` related. We'll start with `age`."
   ]
  },
  {
   "cell_type": "code",
   "execution_count": 54,
   "metadata": {},
   "outputs": [
    {
     "name": "stdout",
     "output_type": "stream",
     "text": [
      "Naive Bayes Classifier Accuracy for Age: 57.699999999999996 %\n"
     ]
    }
   ],
   "source": [
    "Naive_Bayes_classifier_a = with_pickle('pickles/nb_classifier.pickle', lambda : nltk.NaiveBayesClassifier.train(training_sets_a))\n",
    "print('Naive Bayes Classifier Accuracy for Age:', round(nltk.classify.accuracy(Naive_Bayes_classifier_a, testing_sets_a),3)*100, '%')"
   ]
  },
  {
   "cell_type": "code",
   "execution_count": 55,
   "metadata": {},
   "outputs": [
    {
     "name": "stdout",
     "output_type": "stream",
     "text": [
      "Logistic Regression Classifier Accuracy for Age: 64.1 %\n"
     ]
    }
   ],
   "source": [
    "LogisticRegression_classifier_a = with_pickle('pickles/logistic_regr_classifier.pickle', lambda : SklearnClassifier(LogisticRegression(max_iter = 5000)).train(training_sets_a))\n",
    "print('Logistic Regression Classifier Accuracy for Age:', round(nltk.classify.accuracy(LogisticRegression_classifier_a, testing_sets_a),3)*100, '%')"
   ]
  },
  {
   "cell_type": "code",
   "execution_count": 56,
   "metadata": {},
   "outputs": [
    {
     "name": "stdout",
     "output_type": "stream",
     "text": [
      "Linear Support Vector Machines Accuracy for Age: 63.3 %\n"
     ]
    }
   ],
   "source": [
    "LinearSVC_classifier_a = with_pickle('pickles/linear_svc_classifier.pickle', lambda : SklearnClassifier(LinearSVC(max_iter = 10000)).train(training_sets_a))\n",
    "print('Linear Support Vector Machines Accuracy for Age:', round(nltk.classify.accuracy(LinearSVC_classifier_a, testing_sets_a),3)*100, '%')"
   ]
  },
  {
   "cell_type": "code",
   "execution_count": 57,
   "metadata": {},
   "outputs": [
    {
     "name": "stdout",
     "output_type": "stream",
     "text": [
      "Naive Bayes Classifier Accuracy for Religion: 24.7 %\n"
     ]
    }
   ],
   "source": [
    "Naive_Bayes_classifier_r = with_pickle('pickles/nb_classifier_r.pickle', lambda : nltk.NaiveBayesClassifier.train(training_sets_r))\n",
    "print('Naive Bayes Classifier Accuracy for Religion:', round(nltk.classify.accuracy(Naive_Bayes_classifier_r, testing_sets_r), 3)*100, '%')"
   ]
  },
  {
   "cell_type": "code",
   "execution_count": 58,
   "metadata": {},
   "outputs": [
    {
     "name": "stdout",
     "output_type": "stream",
     "text": [
      "Logistic Regression Classifier Accuracy for Religion: 17.2 %\n"
     ]
    }
   ],
   "source": [
    "LogisticRegression_classifier_r = with_pickle('pickles/logistic_regr_classifier_r.pickle', lambda : SklearnClassifier(LogisticRegression(max_iter = 5000)).train(training_sets_r))\n",
    "print('Logistic Regression Classifier Accuracy for Religion:', round(nltk.classify.accuracy(LogisticRegression_classifier_r, testing_sets_a),3)*100, '%')"
   ]
  },
  {
   "cell_type": "code",
   "execution_count": 59,
   "metadata": {},
   "outputs": [
    {
     "name": "stdout",
     "output_type": "stream",
     "text": [
      "Linear Support Vector Machines Accuracy for Religion: 28.999999999999996 %\n"
     ]
    }
   ],
   "source": [
    "LinearSVC_classifier_r = with_pickle('pickles/linear_svc_classifier_r.pickle', lambda : SklearnClassifier(LinearSVC(max_iter = 7000)).train(training_sets_r))\n",
    "print('Linear Support Vector Machines Accuracy for Religion:', round(nltk.classify.accuracy(LinearSVC_classifier_r, testing_sets_r),3)*100, '%')"
   ]
  },
  {
   "cell_type": "markdown",
   "metadata": {},
   "source": [
    "Results: \n",
    "- Accuracy of Logistic Regression and Support Vector Machines trained on text data for `age` dataset is better than those of the models we trained on categorical data by `6-7%`.\n",
    "- Support Vector Machines also showed a bit better accuracy result for `religion` than we've seen before, it increased by `1-2%`.\n",
    "\n",
    "Now we'll create an ensembles out of these models. Each ensemble will consisnt of 3 types of models."
   ]
  },
  {
   "cell_type": "code",
   "execution_count": 60,
   "metadata": {},
   "outputs": [],
   "source": [
    "class VoteClassifier(ClassifierI):\n",
    "    def __init__(self, *classifiers):\n",
    "        self._classifiers = classifiers\n",
    "    # Determine whether review is positive or negative\n",
    "    def classify(self, features):\n",
    "        votes = []\n",
    "        for classifier in self._classifiers:\n",
    "            vote = classifier.classify(features)\n",
    "            votes.append(vote)\n",
    "        return mode(votes)\n",
    "    # Give confidence percentages\n",
    "    def confidence(self, features):\n",
    "        votes = []\n",
    "        for classifier in self._classifiers:\n",
    "            vote = classifier.classify(features)\n",
    "            votes.append(vote)\n",
    "        chosen_votes = votes.count(mode(votes))\n",
    "        conf = chosen_votes / len(votes)\n",
    "        return conf\n",
    "# Instantiate ensemble for 'age'\n",
    "voted_classifier_age = VoteClassifier(\n",
    "    Naive_Bayes_classifier_a,\n",
    "    LogisticRegression_classifier_a,\n",
    "    LinearSVC_classifier_a\n",
    "    )\n",
    "# Instantiate ensemble for 'religion'\n",
    "voted_classifier_relig = VoteClassifier(\n",
    "    Naive_Bayes_classifier_r,\n",
    "    LogisticRegression_classifier_r,\n",
    "    LinearSVC_classifier_r\n",
    "    )"
   ]
  },
  {
   "cell_type": "code",
   "execution_count": 61,
   "metadata": {},
   "outputs": [
    {
     "name": "stdout",
     "output_type": "stream",
     "text": [
      "Accuracy of Ensemble Model for Age: 63.3 %\n"
     ]
    }
   ],
   "source": [
    "print('Accuracy of Ensemble Model for Age:', round(nltk.classify.accuracy(voted_classifier_age, testing_sets_a),3)*100, '%')"
   ]
  },
  {
   "cell_type": "code",
   "execution_count": 62,
   "metadata": {},
   "outputs": [
    {
     "name": "stdout",
     "output_type": "stream",
     "text": [
      "Accuracy of Ensemble Model for Religion: 29.9 %\n"
     ]
    }
   ],
   "source": [
    "print('Accuracy of Ensemble Model for Religion:', round(nltk.classify.accuracy(voted_classifier_relig, testing_sets_r),3)*100, '%')"
   ]
  },
  {
   "cell_type": "markdown",
   "metadata": {},
   "source": [
    "Result:\n",
    "- Ensemble technique for `age` prediction allowed us to fix accuracy on `63%` - the average result between `57%` for Naive Bayes and `64%` for Logistic Regression.\n",
    "- Same technique for `religion` increased its accuracy to almost `30%`, which is about `20%` better than guessing.\n",
    "\n",
    "### Tests\n",
    "\n",
    "Considering our initial goal was to predict age and religious views of people based on their profiles we can take several essays and predict classes for them, to see how well classifiers actually work. Let's start with `age`."
   ]
  },
  {
   "cell_type": "code",
   "execution_count": 63,
   "metadata": {},
   "outputs": [
    {
     "data": {
      "text/html": [
       "<div>\n",
       "<style scoped>\n",
       "    .dataframe tbody tr th:only-of-type {\n",
       "        vertical-align: middle;\n",
       "    }\n",
       "\n",
       "    .dataframe tbody tr th {\n",
       "        vertical-align: top;\n",
       "    }\n",
       "\n",
       "    .dataframe thead th {\n",
       "        text-align: right;\n",
       "    }\n",
       "</style>\n",
       "<table border=\"1\" class=\"dataframe\">\n",
       "  <thead>\n",
       "    <tr style=\"text-align: right;\">\n",
       "      <th></th>\n",
       "      <th>age</th>\n",
       "      <th>predicted_age</th>\n",
       "      <th>predict_confidence</th>\n",
       "      <th>essays_combined</th>\n",
       "    </tr>\n",
       "  </thead>\n",
       "  <tbody>\n",
       "    <tr>\n",
       "      <th>57619</th>\n",
       "      <td>18-29</td>\n",
       "      <td>18-29</td>\n",
       "      <td>100.000000</td>\n",
       "      <td>nan nan nan my infectious laugh :) nan nan nan...</td>\n",
       "    </tr>\n",
       "    <tr>\n",
       "      <th>57620</th>\n",
       "      <td>30-39</td>\n",
       "      <td>30-39</td>\n",
       "      <td>66.666667</td>\n",
       "      <td>a cautious photo for a cautious dude (i'm havi...</td>\n",
       "    </tr>\n",
       "    <tr>\n",
       "      <th>57621</th>\n",
       "      <td>40-59</td>\n",
       "      <td>30-39</td>\n",
       "      <td>66.666667</td>\n",
       "      <td>i was born, raised and live in the san francis...</td>\n",
       "    </tr>\n",
       "    <tr>\n",
       "      <th>57622</th>\n",
       "      <td>40-59</td>\n",
       "      <td>40-59</td>\n",
       "      <td>100.000000</td>\n",
       "      <td>hi there and thanks for checking out my profil...</td>\n",
       "    </tr>\n",
       "    <tr>\n",
       "      <th>57623</th>\n",
       "      <td>30-39</td>\n",
       "      <td>30-39</td>\n",
       "      <td>100.000000</td>\n",
       "      <td>real deal: i am sensitive (sorry, tears includ...</td>\n",
       "    </tr>\n",
       "    <tr>\n",
       "      <th>57624</th>\n",
       "      <td>40-59</td>\n",
       "      <td>60 and up</td>\n",
       "      <td>100.000000</td>\n",
       "      <td>vibrant, expressive, caring optimist. i love b...</td>\n",
       "    </tr>\n",
       "    <tr>\n",
       "      <th>57625</th>\n",
       "      <td>18-29</td>\n",
       "      <td>18-29</td>\n",
       "      <td>100.000000</td>\n",
       "      <td>i'm nick. i never know what to write about mys...</td>\n",
       "    </tr>\n",
       "    <tr>\n",
       "      <th>57626</th>\n",
       "      <td>40-59</td>\n",
       "      <td>30-39</td>\n",
       "      <td>100.000000</td>\n",
       "      <td>hello! i enjoy traveling, watching movies, and...</td>\n",
       "    </tr>\n",
       "    <tr>\n",
       "      <th>57627</th>\n",
       "      <td>18-29</td>\n",
       "      <td>18-29</td>\n",
       "      <td>100.000000</td>\n",
       "      <td>\"all i have in this world are my balls and my ...</td>\n",
       "    </tr>\n",
       "    <tr>\n",
       "      <th>57628</th>\n",
       "      <td>30-39</td>\n",
       "      <td>18-29</td>\n",
       "      <td>66.666667</td>\n",
       "      <td>is it odd that having a little \"enemy\" status ...</td>\n",
       "    </tr>\n",
       "  </tbody>\n",
       "</table>\n",
       "</div>"
      ],
      "text/plain": [
       "         age predicted_age  predict_confidence  \\\n",
       "57619  18-29         18-29          100.000000   \n",
       "57620  30-39         30-39           66.666667   \n",
       "57621  40-59         30-39           66.666667   \n",
       "57622  40-59         40-59          100.000000   \n",
       "57623  30-39         30-39          100.000000   \n",
       "57624  40-59     60 and up          100.000000   \n",
       "57625  18-29         18-29          100.000000   \n",
       "57626  40-59         30-39          100.000000   \n",
       "57627  18-29         18-29          100.000000   \n",
       "57628  30-39         18-29           66.666667   \n",
       "\n",
       "                                         essays_combined  \n",
       "57619  nan nan nan my infectious laugh :) nan nan nan...  \n",
       "57620  a cautious photo for a cautious dude (i'm havi...  \n",
       "57621  i was born, raised and live in the san francis...  \n",
       "57622  hi there and thanks for checking out my profil...  \n",
       "57623  real deal: i am sensitive (sorry, tears includ...  \n",
       "57624  vibrant, expressive, caring optimist. i love b...  \n",
       "57625  i'm nick. i never know what to write about mys...  \n",
       "57626  hello! i enjoy traveling, watching movies, and...  \n",
       "57627  \"all i have in this world are my balls and my ...  \n",
       "57628  is it odd that having a little \"enemy\" status ...  "
      ]
     },
     "execution_count": 63,
     "metadata": {},
     "output_type": "execute_result"
    }
   ],
   "source": [
    "# Create a new validation dataset from initial set with combined essays \n",
    "validation_a = essays_a[-10:].copy()\n",
    "# Add predicted classes in new column\n",
    "validation_a['predicted_age'] = [voted_classifier_age.classify(testing_sets_a[i][0]) for i, row in validation_a.iterrows()]\n",
    "# Add confidence in these classes in new column\n",
    "validation_a['predict_confidence'] = [voted_classifier_age.confidence(testing_sets_a[i][0])*100 for i, row in validation_a.iterrows()]\n",
    "# Change order of columns\n",
    "validation_a = validation_a[['age', 'predicted_age', 'predict_confidence', 'essays_combined']]\n",
    "# Replace numerical code with categorical data\n",
    "validation_a['age'] = validation_a.age.apply(age_to_str)\n",
    "validation_a['predicted_age'] = validation_a.predicted_age.apply(age_to_str)\n",
    "validation_a\n"
   ]
  },
  {
   "cell_type": "markdown",
   "metadata": {},
   "source": [
    "Note: for validation was selected a slice where classes show the greatest diversity. \n",
    "\n",
    "Result: 6 out of 10 data points were interpreted correctly, which, luckily, even corresponds with `63%` of accuracy."
   ]
  },
  {
   "cell_type": "code",
   "execution_count": 64,
   "metadata": {},
   "outputs": [
    {
     "data": {
      "text/html": [
       "<div>\n",
       "<style scoped>\n",
       "    .dataframe tbody tr th:only-of-type {\n",
       "        vertical-align: middle;\n",
       "    }\n",
       "\n",
       "    .dataframe tbody tr th {\n",
       "        vertical-align: top;\n",
       "    }\n",
       "\n",
       "    .dataframe thead th {\n",
       "        text-align: right;\n",
       "    }\n",
       "</style>\n",
       "<table border=\"1\" class=\"dataframe\">\n",
       "  <thead>\n",
       "    <tr style=\"text-align: right;\">\n",
       "      <th></th>\n",
       "      <th>religion</th>\n",
       "      <th>predicted_religion</th>\n",
       "      <th>predict_confidence</th>\n",
       "      <th>essays_combined</th>\n",
       "    </tr>\n",
       "  </thead>\n",
       "  <tbody>\n",
       "    <tr>\n",
       "      <th>38549</th>\n",
       "      <td>other</td>\n",
       "      <td>christianity</td>\n",
       "      <td>66.666667</td>\n",
       "      <td>i don't know what i'm doing on here. i love to...</td>\n",
       "    </tr>\n",
       "    <tr>\n",
       "      <th>38550</th>\n",
       "      <td>christianity</td>\n",
       "      <td>atheism</td>\n",
       "      <td>66.666667</td>\n",
       "      <td>nan nan nan nan yellow pages nan nan nan nan nan</td>\n",
       "    </tr>\n",
       "    <tr>\n",
       "      <th>38551</th>\n",
       "      <td>christianity</td>\n",
       "      <td>christianity</td>\n",
       "      <td>100.000000</td>\n",
       "      <td>originally from houston, i moved to san franci...</td>\n",
       "    </tr>\n",
       "    <tr>\n",
       "      <th>38552</th>\n",
       "      <td>christianity</td>\n",
       "      <td>judaism</td>\n",
       "      <td>66.666667</td>\n",
       "      <td>i am inquisitive, intentional, and reflective ...</td>\n",
       "    </tr>\n",
       "    <tr>\n",
       "      <th>38553</th>\n",
       "      <td>catholicism</td>\n",
       "      <td>christianity</td>\n",
       "      <td>100.000000</td>\n",
       "      <td>i have a love-hate relationship with online da...</td>\n",
       "    </tr>\n",
       "    <tr>\n",
       "      <th>38554</th>\n",
       "      <td>agnosticism</td>\n",
       "      <td>agnosticism</td>\n",
       "      <td>66.666667</td>\n",
       "      <td>i'm sassy and sarcastic. love having fun...try...</td>\n",
       "    </tr>\n",
       "    <tr>\n",
       "      <th>38555</th>\n",
       "      <td>judaism</td>\n",
       "      <td>agnosticism</td>\n",
       "      <td>100.000000</td>\n",
       "      <td>i'm outdoorsy and creative, feisty and spontan...</td>\n",
       "    </tr>\n",
       "    <tr>\n",
       "      <th>38556</th>\n",
       "      <td>christianity</td>\n",
       "      <td>atheism</td>\n",
       "      <td>66.666667</td>\n",
       "      <td>i'm easy to get along with and i find humor in...</td>\n",
       "    </tr>\n",
       "    <tr>\n",
       "      <th>38557</th>\n",
       "      <td>catholicism</td>\n",
       "      <td>catholicism</td>\n",
       "      <td>100.000000</td>\n",
       "      <td>nan i graduated from the university of san fra...</td>\n",
       "    </tr>\n",
       "    <tr>\n",
       "      <th>38558</th>\n",
       "      <td>atheism</td>\n",
       "      <td>atheism</td>\n",
       "      <td>66.666667</td>\n",
       "      <td>i work hard, play hard and laze hard. i am hap...</td>\n",
       "    </tr>\n",
       "  </tbody>\n",
       "</table>\n",
       "</div>"
      ],
      "text/plain": [
       "           religion predicted_religion  predict_confidence  \\\n",
       "38549         other       christianity           66.666667   \n",
       "38550  christianity            atheism           66.666667   \n",
       "38551  christianity       christianity          100.000000   \n",
       "38552  christianity            judaism           66.666667   \n",
       "38553   catholicism       christianity          100.000000   \n",
       "38554   agnosticism        agnosticism           66.666667   \n",
       "38555       judaism        agnosticism          100.000000   \n",
       "38556  christianity            atheism           66.666667   \n",
       "38557   catholicism        catholicism          100.000000   \n",
       "38558       atheism            atheism           66.666667   \n",
       "\n",
       "                                         essays_combined  \n",
       "38549  i don't know what i'm doing on here. i love to...  \n",
       "38550   nan nan nan nan yellow pages nan nan nan nan nan  \n",
       "38551  originally from houston, i moved to san franci...  \n",
       "38552  i am inquisitive, intentional, and reflective ...  \n",
       "38553  i have a love-hate relationship with online da...  \n",
       "38554  i'm sassy and sarcastic. love having fun...try...  \n",
       "38555  i'm outdoorsy and creative, feisty and spontan...  \n",
       "38556  i'm easy to get along with and i find humor in...  \n",
       "38557  nan i graduated from the university of san fra...  \n",
       "38558  i work hard, play hard and laze hard. i am hap...  "
      ]
     },
     "execution_count": 64,
     "metadata": {},
     "output_type": "execute_result"
    }
   ],
   "source": [
    "# Create a new validation dataset from initial set with combined essays \n",
    "validation_r = essays_r[-50:-40].copy()\n",
    "# Add predicted classes in new column\n",
    "validation_r['predicted_religion'] = [voted_classifier_relig.classify(testing_sets_r[i][0]) for i, row in validation_r.iterrows()]\n",
    "# Add confidence in these classes in new column\n",
    "validation_r['predict_confidence'] = [voted_classifier_relig.confidence(testing_sets_r[i][0])*100 for i, row in validation_r.iterrows()]\n",
    "# Replace numerical code with categorical data\n",
    "validation_r['religion'] = validation_r.num_religion.apply(lambda value: map_relig[value])\n",
    "validation_r['predicted_religion'] = validation_r.predicted_religion.apply(lambda value: map_relig[value])\n",
    "# Change order of columns\n",
    "validation_r = validation_r[['religion', 'predicted_religion', 'predict_confidence', 'essays_combined']]\n",
    "validation_r"
   ]
  },
  {
   "cell_type": "markdown",
   "metadata": {},
   "source": [
    "Result: 4 out of 10 religions have been predicted correctly, which is only slightly higher than accuracy result of `30%` should have given us. \n",
    "\n",
    "## Conclusion\n",
    "\n",
    "We have built 10 models, half of them predict user's age, another half - religious views. 4 models were trained on codified categorical data, 6 - on free text information, users shared in a form of essays. In addition, we've created 2 ensemble models that incorporate 3 models each - those that have been trained on free text information, mentioned before. There are several insights we've managed to ascertain within this research: \n",
    "\n",
    "- Age is easier for models to predict than religious views. Not only because we've limited age ranges to only 4 options and for religious views we had 9 of them, which is harder for model to manage, but because all our features had very little to do with religion in the first place. All features had very small correlations with religion, the biggest was the number of kids, and it was `0.15`, which is considered small. Best prediction accuracy for religion reached the ensemble model based on free text data - almost `30%`. Which, nevertheless, is only about `20%` better than guessing. It means that only 3 out 10 results would be predicted correctly. The prediction based on categorical data was no higher that `27%`.\n",
    "\n",
    "- Age, on the other hand, had features with higher correlations: `offspring` was the leader among them, having positive correlation about `0.4`. Categorical variables showed themselves a bit worse than free text: two of them showing `57%` and `63%` of accuracy respectively.\n",
    "\n",
    "Next steps: one could continue investigating reasons behind poor performance of some features and make an ensemble out of models trained on categorical data and those that were trained on free text. "
   ]
  }
 ],
 "metadata": {
  "kernelspec": {
   "display_name": "Python 3.10.7 64-bit (microsoft store)",
   "language": "python",
   "name": "python3"
  },
  "language_info": {
   "codemirror_mode": {
    "name": "ipython",
    "version": 3
   },
   "file_extension": ".py",
   "mimetype": "text/x-python",
   "name": "python",
   "nbconvert_exporter": "python",
   "pygments_lexer": "ipython3",
   "version": "3.10.8"
  },
  "orig_nbformat": 4,
  "vscode": {
   "interpreter": {
    "hash": "a166e61b3f1e7b9ccc9f59f78d7cc3087a9ccbb0b1a7cff444b301613a633a54"
   }
  }
 },
 "nbformat": 4,
 "nbformat_minor": 2
}
