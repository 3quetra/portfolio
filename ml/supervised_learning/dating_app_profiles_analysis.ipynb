{
 "cells": [
  {
   "cell_type": "markdown",
   "metadata": {},
   "source": [
    "# OKCupid Dating App\n",
    "\n",
    "This project analyzes dating app profiles' data from OKCupid, provided by Codecademy.com. The goal of this project is to find out whether it's possible to predict person's age and religious views with sufficient accuracy via machine learning models. We are going to evaluate accuracy of different supervised models separately as well as create ensembles out of them and assess how accuracy has changed. \n",
    "\n",
    "### Columns Description\n",
    "\n",
    "Discrete, selectable information:\n",
    "\n",
    "- **age:** continuous variable of age of user\n",
    "- **body_type:** categorical variable of body type of user\n",
    "- **diet:** categorical variable of dietary information\n",
    "- **drinks:**  categorical variable of alcohol consumption\n",
    "- **drugs:** categorical variable of drug usage\n",
    "- **education:** categorical variable of educational attainment\n",
    "- **ethnicity:** categorical variable of ethnic backgrounds\n",
    "- **height:** continuous variable of height of user\n",
    "- **income:** continuous variable of income of user\n",
    "- **job:** categorical variable of employment description\n",
    "- **offspring:** categorical variable of children status\n",
    "- **orientation:** categorical variable of sexual orientation\n",
    "- **pets:** categorical variable of pet preferences\n",
    "- **religion:** categorical variable of religious background\n",
    "- **sex:** categorical variable of gender\n",
    "- **sign:** categorical variable of astrological symbol\n",
    "- **smokes:** categorical variable of smoking consumption\n",
    "- **speaks:** categorical variable of language spoken\n",
    "- **status:** categorical variable of relationship status\n",
    "- **last_online:** date variable of last login\n",
    "- **location:** categorical variable of user locations\n",
    "\n",
    "Open answer essays:\n",
    "\n",
    "- **essay0:** My self summary\n",
    "- **essay1:**  What I’m doing with my life\n",
    "- **essay2:** I’m really good at\n",
    "- **essay3:** The first thing people usually notice about me\n",
    "- **essay4:** Favorite books, movies, show, music, and food\n",
    "- **essay5:** The six things I could never do without\n",
    "- **essay6:** I spend a lot of time thinking about\n",
    "- **essay7:** On a typical Friday night I am\n",
    "- **essay8:** The most private thing I am willing to admit\n",
    "- **essay9:** You should message me if…\n",
    "\n",
    "## Inspecting Data\n",
    "\n",
    "For starters, let's perform necessary imports and load the `profiles.csv` data into `profiles` variable. "
   ]
  },
  {
   "cell_type": "code",
   "execution_count": 2,
   "metadata": {},
   "outputs": [],
   "source": [
    "# Basic imports related to analysis\n",
    "import numpy as np\n",
    "import pandas as pd\n",
    "\n",
    "# Imports for visualisationin\n",
    "import seaborn as sns\n",
    "from matplotlib import pyplot as plt\n",
    "\n",
    "# Imports for files processing\n",
    "import os\n",
    "import pickle\n",
    "\n",
    "# Imports for ml \n",
    "from sklearn.model_selection import train_test_split\n",
    "from sklearn import tree\n",
    "from sklearn.ensemble import RandomForestClassifier\n",
    "from sklearn.neighbors import KNeighborsClassifier\n",
    "\n",
    "# Imports related to evaluation\n",
    "from sklearn.metrics import classification_report"
   ]
  },
  {
   "cell_type": "markdown",
   "metadata": {},
   "source": [
    "Note: we are going to use pickle to speed up running time, so in some cells will be placed pickle functions."
   ]
  },
  {
   "cell_type": "code",
   "execution_count": 3,
   "metadata": {},
   "outputs": [],
   "source": [
    "def pickle_object(object, file_path):\n",
    "    with open(file_path, 'wb') as f:\n",
    "        pickle.dump(object, f)\n",
    "\n",
    "def unpickle_object(file_path):\n",
    "    if not os.path.isfile(file_path):\n",
    "        return None\n",
    "    with open(file_path, 'rb') as f:\n",
    "        return pickle.load(f)\n",
    "\n",
    "def with_pickle(file_path, fun):\n",
    "    value = unpickle_object(file_path)\n",
    "    if value is None:\n",
    "        value = fun()\n",
    "        pickle_object(value, file_path)\n",
    "    return value"
   ]
  },
  {
   "cell_type": "code",
   "execution_count": 4,
   "metadata": {},
   "outputs": [
    {
     "data": {
      "text/html": [
       "<div>\n",
       "<style scoped>\n",
       "    .dataframe tbody tr th:only-of-type {\n",
       "        vertical-align: middle;\n",
       "    }\n",
       "\n",
       "    .dataframe tbody tr th {\n",
       "        vertical-align: top;\n",
       "    }\n",
       "\n",
       "    .dataframe thead th {\n",
       "        text-align: right;\n",
       "    }\n",
       "</style>\n",
       "<table border=\"1\" class=\"dataframe\">\n",
       "  <thead>\n",
       "    <tr style=\"text-align: right;\">\n",
       "      <th></th>\n",
       "      <th>age</th>\n",
       "      <th>body_type</th>\n",
       "      <th>diet</th>\n",
       "      <th>drinks</th>\n",
       "      <th>drugs</th>\n",
       "      <th>education</th>\n",
       "      <th>essay0</th>\n",
       "      <th>essay1</th>\n",
       "      <th>essay2</th>\n",
       "      <th>essay3</th>\n",
       "      <th>essay4</th>\n",
       "      <th>essay5</th>\n",
       "      <th>essay6</th>\n",
       "      <th>essay7</th>\n",
       "      <th>essay8</th>\n",
       "      <th>essay9</th>\n",
       "      <th>ethnicity</th>\n",
       "      <th>height</th>\n",
       "      <th>income</th>\n",
       "      <th>job</th>\n",
       "      <th>last_online</th>\n",
       "      <th>location</th>\n",
       "      <th>offspring</th>\n",
       "      <th>orientation</th>\n",
       "      <th>pets</th>\n",
       "      <th>religion</th>\n",
       "      <th>sex</th>\n",
       "      <th>sign</th>\n",
       "      <th>smokes</th>\n",
       "      <th>speaks</th>\n",
       "      <th>status</th>\n",
       "    </tr>\n",
       "  </thead>\n",
       "  <tbody>\n",
       "    <tr>\n",
       "      <th>0</th>\n",
       "      <td>22</td>\n",
       "      <td>a little extra</td>\n",
       "      <td>strictly anything</td>\n",
       "      <td>socially</td>\n",
       "      <td>never</td>\n",
       "      <td>working on college/university</td>\n",
       "      <td>about me:&lt;br /&gt;\\n&lt;br /&gt;\\ni would love to think...</td>\n",
       "      <td>currently working as an international agent fo...</td>\n",
       "      <td>making people laugh.&lt;br /&gt;\\nranting about a go...</td>\n",
       "      <td>the way i look. i am a six foot half asian, ha...</td>\n",
       "      <td>books:&lt;br /&gt;\\nabsurdistan, the republic, of mi...</td>\n",
       "      <td>food.&lt;br /&gt;\\nwater.&lt;br /&gt;\\ncell phone.&lt;br /&gt;\\n...</td>\n",
       "      <td>duality and humorous things</td>\n",
       "      <td>trying to find someone to hang out with. i am ...</td>\n",
       "      <td>i am new to california and looking for someone...</td>\n",
       "      <td>you want to be swept off your feet!&lt;br /&gt;\\nyou...</td>\n",
       "      <td>asian, white</td>\n",
       "      <td>75.0</td>\n",
       "      <td>-1</td>\n",
       "      <td>transportation</td>\n",
       "      <td>2012-06-28-20-30</td>\n",
       "      <td>south san francisco, california</td>\n",
       "      <td>doesn&amp;rsquo;t have kids, but might want them</td>\n",
       "      <td>straight</td>\n",
       "      <td>likes dogs and likes cats</td>\n",
       "      <td>agnosticism and very serious about it</td>\n",
       "      <td>m</td>\n",
       "      <td>gemini</td>\n",
       "      <td>sometimes</td>\n",
       "      <td>english</td>\n",
       "      <td>single</td>\n",
       "    </tr>\n",
       "    <tr>\n",
       "      <th>1</th>\n",
       "      <td>35</td>\n",
       "      <td>average</td>\n",
       "      <td>mostly other</td>\n",
       "      <td>often</td>\n",
       "      <td>sometimes</td>\n",
       "      <td>working on space camp</td>\n",
       "      <td>i am a chef: this is what that means.&lt;br /&gt;\\n1...</td>\n",
       "      <td>dedicating everyday to being an unbelievable b...</td>\n",
       "      <td>being silly. having ridiculous amonts of fun w...</td>\n",
       "      <td>NaN</td>\n",
       "      <td>i am die hard christopher moore fan. i don't r...</td>\n",
       "      <td>delicious porkness in all of its glories.&lt;br /...</td>\n",
       "      <td>NaN</td>\n",
       "      <td>NaN</td>\n",
       "      <td>i am very open and will share just about anyth...</td>\n",
       "      <td>NaN</td>\n",
       "      <td>white</td>\n",
       "      <td>70.0</td>\n",
       "      <td>80000</td>\n",
       "      <td>hospitality / travel</td>\n",
       "      <td>2012-06-29-21-41</td>\n",
       "      <td>oakland, california</td>\n",
       "      <td>doesn&amp;rsquo;t have kids, but might want them</td>\n",
       "      <td>straight</td>\n",
       "      <td>likes dogs and likes cats</td>\n",
       "      <td>agnosticism but not too serious about it</td>\n",
       "      <td>m</td>\n",
       "      <td>cancer</td>\n",
       "      <td>no</td>\n",
       "      <td>english (fluently), spanish (poorly), french (...</td>\n",
       "      <td>single</td>\n",
       "    </tr>\n",
       "    <tr>\n",
       "      <th>2</th>\n",
       "      <td>38</td>\n",
       "      <td>thin</td>\n",
       "      <td>anything</td>\n",
       "      <td>socially</td>\n",
       "      <td>NaN</td>\n",
       "      <td>graduated from masters program</td>\n",
       "      <td>i'm not ashamed of much, but writing public te...</td>\n",
       "      <td>i make nerdy software for musicians, artists, ...</td>\n",
       "      <td>improvising in different contexts. alternating...</td>\n",
       "      <td>my large jaw and large glasses are the physica...</td>\n",
       "      <td>okay this is where the cultural matrix gets so...</td>\n",
       "      <td>movement&lt;br /&gt;\\nconversation&lt;br /&gt;\\ncreation&lt;b...</td>\n",
       "      <td>NaN</td>\n",
       "      <td>viewing. listening. dancing. talking. drinking...</td>\n",
       "      <td>when i was five years old, i was known as \"the...</td>\n",
       "      <td>you are bright, open, intense, silly, ironic, ...</td>\n",
       "      <td>NaN</td>\n",
       "      <td>68.0</td>\n",
       "      <td>-1</td>\n",
       "      <td>NaN</td>\n",
       "      <td>2012-06-27-09-10</td>\n",
       "      <td>san francisco, california</td>\n",
       "      <td>NaN</td>\n",
       "      <td>straight</td>\n",
       "      <td>has cats</td>\n",
       "      <td>NaN</td>\n",
       "      <td>m</td>\n",
       "      <td>pisces but it doesn&amp;rsquo;t matter</td>\n",
       "      <td>no</td>\n",
       "      <td>english, french, c++</td>\n",
       "      <td>available</td>\n",
       "    </tr>\n",
       "    <tr>\n",
       "      <th>3</th>\n",
       "      <td>23</td>\n",
       "      <td>thin</td>\n",
       "      <td>vegetarian</td>\n",
       "      <td>socially</td>\n",
       "      <td>NaN</td>\n",
       "      <td>working on college/university</td>\n",
       "      <td>i work in a library and go to school. . .</td>\n",
       "      <td>reading things written by old dead people</td>\n",
       "      <td>playing synthesizers and organizing books acco...</td>\n",
       "      <td>socially awkward but i do my best</td>\n",
       "      <td>bataille, celine, beckett. . .&lt;br /&gt;\\nlynch, j...</td>\n",
       "      <td>NaN</td>\n",
       "      <td>cats and german philosophy</td>\n",
       "      <td>NaN</td>\n",
       "      <td>NaN</td>\n",
       "      <td>you feel so inclined.</td>\n",
       "      <td>white</td>\n",
       "      <td>71.0</td>\n",
       "      <td>20000</td>\n",
       "      <td>student</td>\n",
       "      <td>2012-06-28-14-22</td>\n",
       "      <td>berkeley, california</td>\n",
       "      <td>doesn&amp;rsquo;t want kids</td>\n",
       "      <td>straight</td>\n",
       "      <td>likes cats</td>\n",
       "      <td>NaN</td>\n",
       "      <td>m</td>\n",
       "      <td>pisces</td>\n",
       "      <td>no</td>\n",
       "      <td>english, german (poorly)</td>\n",
       "      <td>single</td>\n",
       "    </tr>\n",
       "    <tr>\n",
       "      <th>4</th>\n",
       "      <td>29</td>\n",
       "      <td>athletic</td>\n",
       "      <td>NaN</td>\n",
       "      <td>socially</td>\n",
       "      <td>never</td>\n",
       "      <td>graduated from college/university</td>\n",
       "      <td>hey how's it going? currently vague on the pro...</td>\n",
       "      <td>work work work work + play</td>\n",
       "      <td>creating imagery to look at:&lt;br /&gt;\\nhttp://bag...</td>\n",
       "      <td>i smile a lot and my inquisitive nature</td>\n",
       "      <td>music: bands, rappers, musicians&lt;br /&gt;\\nat the...</td>\n",
       "      <td>NaN</td>\n",
       "      <td>NaN</td>\n",
       "      <td>NaN</td>\n",
       "      <td>NaN</td>\n",
       "      <td>NaN</td>\n",
       "      <td>asian, black, other</td>\n",
       "      <td>66.0</td>\n",
       "      <td>-1</td>\n",
       "      <td>artistic / musical / writer</td>\n",
       "      <td>2012-06-27-21-26</td>\n",
       "      <td>san francisco, california</td>\n",
       "      <td>NaN</td>\n",
       "      <td>straight</td>\n",
       "      <td>likes dogs and likes cats</td>\n",
       "      <td>NaN</td>\n",
       "      <td>m</td>\n",
       "      <td>aquarius</td>\n",
       "      <td>no</td>\n",
       "      <td>english</td>\n",
       "      <td>single</td>\n",
       "    </tr>\n",
       "  </tbody>\n",
       "</table>\n",
       "</div>"
      ],
      "text/plain": [
       "   age       body_type               diet    drinks      drugs  \\\n",
       "0   22  a little extra  strictly anything  socially      never   \n",
       "1   35         average       mostly other     often  sometimes   \n",
       "2   38            thin           anything  socially        NaN   \n",
       "3   23            thin         vegetarian  socially        NaN   \n",
       "4   29        athletic                NaN  socially      never   \n",
       "\n",
       "                           education  \\\n",
       "0      working on college/university   \n",
       "1              working on space camp   \n",
       "2     graduated from masters program   \n",
       "3      working on college/university   \n",
       "4  graduated from college/university   \n",
       "\n",
       "                                              essay0  \\\n",
       "0  about me:<br />\\n<br />\\ni would love to think...   \n",
       "1  i am a chef: this is what that means.<br />\\n1...   \n",
       "2  i'm not ashamed of much, but writing public te...   \n",
       "3          i work in a library and go to school. . .   \n",
       "4  hey how's it going? currently vague on the pro...   \n",
       "\n",
       "                                              essay1  \\\n",
       "0  currently working as an international agent fo...   \n",
       "1  dedicating everyday to being an unbelievable b...   \n",
       "2  i make nerdy software for musicians, artists, ...   \n",
       "3          reading things written by old dead people   \n",
       "4                         work work work work + play   \n",
       "\n",
       "                                              essay2  \\\n",
       "0  making people laugh.<br />\\nranting about a go...   \n",
       "1  being silly. having ridiculous amonts of fun w...   \n",
       "2  improvising in different contexts. alternating...   \n",
       "3  playing synthesizers and organizing books acco...   \n",
       "4  creating imagery to look at:<br />\\nhttp://bag...   \n",
       "\n",
       "                                              essay3  \\\n",
       "0  the way i look. i am a six foot half asian, ha...   \n",
       "1                                                NaN   \n",
       "2  my large jaw and large glasses are the physica...   \n",
       "3                  socially awkward but i do my best   \n",
       "4            i smile a lot and my inquisitive nature   \n",
       "\n",
       "                                              essay4  \\\n",
       "0  books:<br />\\nabsurdistan, the republic, of mi...   \n",
       "1  i am die hard christopher moore fan. i don't r...   \n",
       "2  okay this is where the cultural matrix gets so...   \n",
       "3  bataille, celine, beckett. . .<br />\\nlynch, j...   \n",
       "4  music: bands, rappers, musicians<br />\\nat the...   \n",
       "\n",
       "                                              essay5  \\\n",
       "0  food.<br />\\nwater.<br />\\ncell phone.<br />\\n...   \n",
       "1  delicious porkness in all of its glories.<br /...   \n",
       "2  movement<br />\\nconversation<br />\\ncreation<b...   \n",
       "3                                                NaN   \n",
       "4                                                NaN   \n",
       "\n",
       "                        essay6  \\\n",
       "0  duality and humorous things   \n",
       "1                          NaN   \n",
       "2                          NaN   \n",
       "3   cats and german philosophy   \n",
       "4                          NaN   \n",
       "\n",
       "                                              essay7  \\\n",
       "0  trying to find someone to hang out with. i am ...   \n",
       "1                                                NaN   \n",
       "2  viewing. listening. dancing. talking. drinking...   \n",
       "3                                                NaN   \n",
       "4                                                NaN   \n",
       "\n",
       "                                              essay8  \\\n",
       "0  i am new to california and looking for someone...   \n",
       "1  i am very open and will share just about anyth...   \n",
       "2  when i was five years old, i was known as \"the...   \n",
       "3                                                NaN   \n",
       "4                                                NaN   \n",
       "\n",
       "                                              essay9            ethnicity  \\\n",
       "0  you want to be swept off your feet!<br />\\nyou...         asian, white   \n",
       "1                                                NaN                white   \n",
       "2  you are bright, open, intense, silly, ironic, ...                  NaN   \n",
       "3                              you feel so inclined.                white   \n",
       "4                                                NaN  asian, black, other   \n",
       "\n",
       "   height  income                          job       last_online  \\\n",
       "0    75.0      -1               transportation  2012-06-28-20-30   \n",
       "1    70.0   80000         hospitality / travel  2012-06-29-21-41   \n",
       "2    68.0      -1                          NaN  2012-06-27-09-10   \n",
       "3    71.0   20000                      student  2012-06-28-14-22   \n",
       "4    66.0      -1  artistic / musical / writer  2012-06-27-21-26   \n",
       "\n",
       "                          location  \\\n",
       "0  south san francisco, california   \n",
       "1              oakland, california   \n",
       "2        san francisco, california   \n",
       "3             berkeley, california   \n",
       "4        san francisco, california   \n",
       "\n",
       "                                      offspring orientation  \\\n",
       "0  doesn&rsquo;t have kids, but might want them    straight   \n",
       "1  doesn&rsquo;t have kids, but might want them    straight   \n",
       "2                                           NaN    straight   \n",
       "3                       doesn&rsquo;t want kids    straight   \n",
       "4                                           NaN    straight   \n",
       "\n",
       "                        pets                                  religion sex  \\\n",
       "0  likes dogs and likes cats     agnosticism and very serious about it   m   \n",
       "1  likes dogs and likes cats  agnosticism but not too serious about it   m   \n",
       "2                   has cats                                       NaN   m   \n",
       "3                 likes cats                                       NaN   m   \n",
       "4  likes dogs and likes cats                                       NaN   m   \n",
       "\n",
       "                                 sign     smokes  \\\n",
       "0                              gemini  sometimes   \n",
       "1                              cancer         no   \n",
       "2  pisces but it doesn&rsquo;t matter         no   \n",
       "3                              pisces         no   \n",
       "4                            aquarius         no   \n",
       "\n",
       "                                              speaks     status  \n",
       "0                                            english     single  \n",
       "1  english (fluently), spanish (poorly), french (...     single  \n",
       "2                               english, french, c++  available  \n",
       "3                           english, german (poorly)     single  \n",
       "4                                            english     single  "
      ]
     },
     "execution_count": 4,
     "metadata": {},
     "output_type": "execute_result"
    }
   ],
   "source": [
    "profiles = pd.read_csv('profiles.csv')\n",
    "pd.set_option('display.max_columns', None)\n",
    "profiles.head()"
   ]
  },
  {
   "cell_type": "code",
   "execution_count": 5,
   "metadata": {},
   "outputs": [
    {
     "name": "stdout",
     "output_type": "stream",
     "text": [
      "<class 'pandas.core.frame.DataFrame'>\n",
      "RangeIndex: 59946 entries, 0 to 59945\n",
      "Data columns (total 31 columns):\n",
      " #   Column       Non-Null Count  Dtype  \n",
      "---  ------       --------------  -----  \n",
      " 0   age          59946 non-null  int64  \n",
      " 1   body_type    54650 non-null  object \n",
      " 2   diet         35551 non-null  object \n",
      " 3   drinks       56961 non-null  object \n",
      " 4   drugs        45866 non-null  object \n",
      " 5   education    53318 non-null  object \n",
      " 6   essay0       54458 non-null  object \n",
      " 7   essay1       52374 non-null  object \n",
      " 8   essay2       50308 non-null  object \n",
      " 9   essay3       48470 non-null  object \n",
      " 10  essay4       49409 non-null  object \n",
      " 11  essay5       49096 non-null  object \n",
      " 12  essay6       46175 non-null  object \n",
      " 13  essay7       47495 non-null  object \n",
      " 14  essay8       40721 non-null  object \n",
      " 15  essay9       47343 non-null  object \n",
      " 16  ethnicity    54266 non-null  object \n",
      " 17  height       59943 non-null  float64\n",
      " 18  income       59946 non-null  int64  \n",
      " 19  job          51748 non-null  object \n",
      " 20  last_online  59946 non-null  object \n",
      " 21  location     59946 non-null  object \n",
      " 22  offspring    24385 non-null  object \n",
      " 23  orientation  59946 non-null  object \n",
      " 24  pets         40025 non-null  object \n",
      " 25  religion     39720 non-null  object \n",
      " 26  sex          59946 non-null  object \n",
      " 27  sign         48890 non-null  object \n",
      " 28  smokes       54434 non-null  object \n",
      " 29  speaks       59896 non-null  object \n",
      " 30  status       59946 non-null  object \n",
      "dtypes: float64(1), int64(2), object(28)\n",
      "memory usage: 14.2+ MB\n"
     ]
    }
   ],
   "source": [
    "profiles.info()"
   ]
  },
  {
   "cell_type": "markdown",
   "metadata": {},
   "source": [
    "As one can see there are 59946 rows and 31 columns in this dataset. As columns description tells us, almost all data is categorical, there are only 3 columns with numerical data types. \n",
    "\n",
    "Considering we are going to predict age and religion, let's see what information we have in those columns and how many representatives in each variation. "
   ]
  },
  {
   "cell_type": "code",
   "execution_count": 6,
   "metadata": {},
   "outputs": [
    {
     "data": {
      "text/plain": [
       "array(['agnosticism and very serious about it',\n",
       "       'agnosticism but not too serious about it', nan, 'atheism',\n",
       "       'christianity', 'christianity but not too serious about it',\n",
       "       'atheism and laughing about it',\n",
       "       'christianity and very serious about it', 'other', 'catholicism',\n",
       "       'catholicism but not too serious about it',\n",
       "       'catholicism and somewhat serious about it',\n",
       "       'agnosticism and somewhat serious about it',\n",
       "       'catholicism and laughing about it',\n",
       "       'agnosticism and laughing about it', 'agnosticism',\n",
       "       'atheism and somewhat serious about it',\n",
       "       'buddhism but not too serious about it',\n",
       "       'other but not too serious about it', 'buddhism',\n",
       "       'other and laughing about it',\n",
       "       'judaism but not too serious about it',\n",
       "       'buddhism and laughing about it',\n",
       "       'other and somewhat serious about it',\n",
       "       'other and very serious about it',\n",
       "       'hinduism but not too serious about it',\n",
       "       'atheism but not too serious about it', 'judaism',\n",
       "       'christianity and somewhat serious about it',\n",
       "       'hinduism and very serious about it',\n",
       "       'atheism and very serious about it',\n",
       "       'judaism and laughing about it',\n",
       "       'christianity and laughing about it',\n",
       "       'hinduism and laughing about it',\n",
       "       'buddhism and somewhat serious about it',\n",
       "       'islam and very serious about it', 'islam', 'hinduism',\n",
       "       'judaism and somewhat serious about it',\n",
       "       'catholicism and very serious about it',\n",
       "       'judaism and very serious about it',\n",
       "       'hinduism and somewhat serious about it',\n",
       "       'islam but not too serious about it',\n",
       "       'buddhism and very serious about it',\n",
       "       'islam and laughing about it',\n",
       "       'islam and somewhat serious about it'], dtype=object)"
      ]
     },
     "execution_count": 6,
     "metadata": {},
     "output_type": "execute_result"
    }
   ],
   "source": [
    "profiles.religion.unique()"
   ]
  },
  {
   "cell_type": "markdown",
   "metadata": {},
   "source": [
    "In `religion` column there is an additional parameter which tells a person's attitude toward's their religious views. We won't predict this attitude, just the religion itself, so this column requires modification to become labels for of our models. Let's check, roughly, how many representatives of each religion we could count at this point.  "
   ]
  },
  {
   "cell_type": "code",
   "execution_count": 7,
   "metadata": {},
   "outputs": [
    {
     "data": {
      "text/plain": [
       "agnosticism                                   2724\n",
       "other                                         2691\n",
       "agnosticism but not too serious about it      2636\n",
       "agnosticism and laughing about it             2496\n",
       "catholicism but not too serious about it      2318\n",
       "atheism                                       2175\n",
       "other and laughing about it                   2119\n",
       "atheism and laughing about it                 2074\n",
       "christianity                                  1957\n",
       "christianity but not too serious about it     1952\n",
       "other but not too serious about it            1554\n",
       "judaism but not too serious about it          1517\n",
       "atheism but not too serious about it          1318\n",
       "catholicism                                   1064\n",
       "christianity and somewhat serious about it     927\n",
       "atheism and somewhat serious about it          848\n",
       "other and somewhat serious about it            846\n",
       "catholicism and laughing about it              726\n",
       "judaism and laughing about it                  681\n",
       "buddhism but not too serious about it          650\n",
       "agnosticism and somewhat serious about it      642\n",
       "judaism                                        612\n",
       "christianity and very serious about it         578\n",
       "atheism and very serious about it              570\n",
       "catholicism and somewhat serious about it      548\n",
       "other and very serious about it                533\n",
       "buddhism and laughing about it                 466\n",
       "buddhism                                       403\n",
       "christianity and laughing about it             373\n",
       "buddhism and somewhat serious about it         359\n",
       "agnosticism and very serious about it          314\n",
       "judaism and somewhat serious about it          266\n",
       "hinduism but not too serious about it          227\n",
       "hinduism                                       107\n",
       "catholicism and very serious about it          102\n",
       "buddhism and very serious about it              70\n",
       "hinduism and somewhat serious about it          58\n",
       "islam                                           48\n",
       "hinduism and laughing about it                  44\n",
       "islam but not too serious about it              40\n",
       "judaism and very serious about it               22\n",
       "islam and somewhat serious about it             22\n",
       "islam and laughing about it                     16\n",
       "hinduism and very serious about it              14\n",
       "islam and very serious about it                 13\n",
       "Name: religion, dtype: int64"
      ]
     },
     "execution_count": 7,
     "metadata": {},
     "output_type": "execute_result"
    }
   ],
   "source": [
    "profiles.religion.value_counts()"
   ]
  },
  {
   "cell_type": "code",
   "execution_count": 8,
   "metadata": {},
   "outputs": [
    {
     "data": {
      "text/plain": [
       "count           39720\n",
       "unique             45\n",
       "top       agnosticism\n",
       "freq             2724\n",
       "Name: religion, dtype: object"
      ]
     },
     "execution_count": 8,
     "metadata": {},
     "output_type": "execute_result"
    }
   ],
   "source": [
    "profiles.religion.describe()"
   ]
  },
  {
   "cell_type": "markdown",
   "metadata": {},
   "source": [
    "There are not many users who consider themselves as professions of Islam or Hinduism, in some form, compared to other religions, that will, most likely, impact models' predictions. \n",
    "\n",
    "Now let's switch to age. "
   ]
  },
  {
   "cell_type": "code",
   "execution_count": 9,
   "metadata": {},
   "outputs": [
    {
     "data": {
      "text/plain": [
       "array([ 22,  35,  38,  23,  29,  32,  31,  24,  37,  28,  30,  39,  33,\n",
       "        26,  27,  20,  25,  40,  36,  21,  34,  43,  46,  41,  42,  45,\n",
       "        18,  55,  50,  59,  44,  48,  54,  51,  62,  52,  19,  58,  66,\n",
       "        53,  63,  47,  49,  61,  60,  57,  56,  65,  64,  68, 110,  69,\n",
       "        67, 109], dtype=int64)"
      ]
     },
     "execution_count": 9,
     "metadata": {},
     "output_type": "execute_result"
    }
   ],
   "source": [
    "profiles.age.unique()"
   ]
  },
  {
   "cell_type": "code",
   "execution_count": 10,
   "metadata": {},
   "outputs": [
    {
     "data": {
      "text/plain": [
       "26     3724\n",
       "27     3685\n",
       "28     3583\n",
       "25     3531\n",
       "29     3295\n",
       "24     3242\n",
       "30     3149\n",
       "31     2735\n",
       "23     2592\n",
       "32     2587\n",
       "33     2206\n",
       "22     1934\n",
       "34     1902\n",
       "35     1755\n",
       "36     1583\n",
       "37     1427\n",
       "38     1330\n",
       "21     1282\n",
       "39     1172\n",
       "42     1072\n",
       "40     1030\n",
       "41      980\n",
       "20      953\n",
       "43      858\n",
       "44      708\n",
       "45      643\n",
       "19      611\n",
       "46      578\n",
       "47      529\n",
       "48      481\n",
       "49      459\n",
       "50      437\n",
       "51      350\n",
       "52      344\n",
       "18      309\n",
       "56      271\n",
       "54      267\n",
       "55      265\n",
       "57      256\n",
       "53      252\n",
       "59      221\n",
       "58      197\n",
       "60      195\n",
       "61      176\n",
       "62      167\n",
       "63      138\n",
       "64      113\n",
       "65      109\n",
       "66      105\n",
       "67       66\n",
       "68       59\n",
       "69       31\n",
       "110       1\n",
       "109       1\n",
       "Name: age, dtype: int64"
      ]
     },
     "execution_count": 10,
     "metadata": {},
     "output_type": "execute_result"
    }
   ],
   "source": [
    "profiles.age.value_counts()"
   ]
  },
  {
   "cell_type": "code",
   "execution_count": 11,
   "metadata": {},
   "outputs": [
    {
     "data": {
      "text/plain": [
       "count    59946.000000\n",
       "mean        32.340290\n",
       "std          9.452779\n",
       "min         18.000000\n",
       "25%         26.000000\n",
       "50%         30.000000\n",
       "75%         37.000000\n",
       "max        110.000000\n",
       "Name: age, dtype: float64"
      ]
     },
     "execution_count": 11,
     "metadata": {},
     "output_type": "execute_result"
    }
   ],
   "source": [
    "profiles.age.describe()"
   ]
  },
  {
   "cell_type": "code",
   "execution_count": 12,
   "metadata": {},
   "outputs": [
    {
     "data": {
      "text/plain": [
       "30.0"
      ]
     },
     "execution_count": 12,
     "metadata": {},
     "output_type": "execute_result"
    }
   ],
   "source": [
    "profiles.age.median()"
   ]
  },
  {
   "cell_type": "markdown",
   "metadata": {},
   "source": [
    "`75%` of dating app users are younger than 37. That also arises an issue with equality of representative groups in a dataset. We'll try to mitigate this issue going further in our research. \n",
    "\n",
    "\n",
    "## Build models trained on Categorical Data\n",
    "### Feature Modelling\n",
    "\n",
    "Not all our columns will be suitable for predicting age and religion. We'll use as columns with categorical variables as the ones with free text strings, but process them differently. \n",
    "\n",
    "We'll map the following categorical variables to numbers: `body_type`, `diet`, `drinks`, `drugs`, `education`, `ethnicity`, `offspring`, `smokes`. There could be applied different approaches to mapping, depending on column's variables. Our main approach is the gradation from best cases to worst ones. Most of the mapped values are stored in the file `mapping_profiles` and imported here in a `mix_profiles` DataFrame."
   ]
  },
  {
   "cell_type": "code",
   "execution_count": 13,
   "metadata": {},
   "outputs": [
    {
     "data": {
      "text/html": [
       "<div>\n",
       "<style scoped>\n",
       "    .dataframe tbody tr th:only-of-type {\n",
       "        vertical-align: middle;\n",
       "    }\n",
       "\n",
       "    .dataframe tbody tr th {\n",
       "        vertical-align: top;\n",
       "    }\n",
       "\n",
       "    .dataframe thead th {\n",
       "        text-align: right;\n",
       "    }\n",
       "</style>\n",
       "<table border=\"1\" class=\"dataframe\">\n",
       "  <thead>\n",
       "    <tr style=\"text-align: right;\">\n",
       "      <th></th>\n",
       "      <th>age</th>\n",
       "      <th>body_type</th>\n",
       "      <th>diet</th>\n",
       "      <th>drinks</th>\n",
       "      <th>drugs</th>\n",
       "      <th>education</th>\n",
       "      <th>essay0</th>\n",
       "      <th>essay1</th>\n",
       "      <th>essay2</th>\n",
       "      <th>essay3</th>\n",
       "      <th>essay4</th>\n",
       "      <th>essay5</th>\n",
       "      <th>essay6</th>\n",
       "      <th>essay7</th>\n",
       "      <th>essay8</th>\n",
       "      <th>essay9</th>\n",
       "      <th>ethnicity</th>\n",
       "      <th>height</th>\n",
       "      <th>income</th>\n",
       "      <th>job</th>\n",
       "      <th>last_online</th>\n",
       "      <th>location</th>\n",
       "      <th>offspring</th>\n",
       "      <th>orientation</th>\n",
       "      <th>pets</th>\n",
       "      <th>religion</th>\n",
       "      <th>sex</th>\n",
       "      <th>sign</th>\n",
       "      <th>smokes</th>\n",
       "      <th>speaks</th>\n",
       "      <th>status</th>\n",
       "    </tr>\n",
       "  </thead>\n",
       "  <tbody>\n",
       "    <tr>\n",
       "      <th>0</th>\n",
       "      <td>1.0</td>\n",
       "      <td>9.0</td>\n",
       "      <td>1.0</td>\n",
       "      <td>2.0</td>\n",
       "      <td>0.0</td>\n",
       "      <td>4.0</td>\n",
       "      <td>about me:&lt;br /&gt;\\n&lt;br /&gt;\\ni would love to think...</td>\n",
       "      <td>currently working as an international agent fo...</td>\n",
       "      <td>making people laugh.&lt;br /&gt;\\nranting about a go...</td>\n",
       "      <td>the way i look. i am a six foot half asian, ha...</td>\n",
       "      <td>books:&lt;br /&gt;\\nabsurdistan, the republic, of mi...</td>\n",
       "      <td>food.&lt;br /&gt;\\nwater.&lt;br /&gt;\\ncell phone.&lt;br /&gt;\\n...</td>\n",
       "      <td>duality and humorous things</td>\n",
       "      <td>trying to find someone to hang out with. i am ...</td>\n",
       "      <td>i am new to california and looking for someone...</td>\n",
       "      <td>you want to be swept off your feet!&lt;br /&gt;\\nyou...</td>\n",
       "      <td>asian, white</td>\n",
       "      <td>75.0</td>\n",
       "      <td>-1</td>\n",
       "      <td>transportation</td>\n",
       "      <td>2012-06-28-20-30</td>\n",
       "      <td>south san francisco, california</td>\n",
       "      <td>1.0</td>\n",
       "      <td>straight</td>\n",
       "      <td>likes dogs and likes cats</td>\n",
       "      <td>agnosticism and very serious about it</td>\n",
       "      <td>m</td>\n",
       "      <td>gemini</td>\n",
       "      <td>1.0</td>\n",
       "      <td>english</td>\n",
       "      <td>single</td>\n",
       "    </tr>\n",
       "    <tr>\n",
       "      <th>1</th>\n",
       "      <td>2.0</td>\n",
       "      <td>4.0</td>\n",
       "      <td>6.0</td>\n",
       "      <td>3.0</td>\n",
       "      <td>1.0</td>\n",
       "      <td>2.0</td>\n",
       "      <td>i am a chef: this is what that means.&lt;br /&gt;\\n1...</td>\n",
       "      <td>dedicating everyday to being an unbelievable b...</td>\n",
       "      <td>being silly. having ridiculous amonts of fun w...</td>\n",
       "      <td>NaN</td>\n",
       "      <td>i am die hard christopher moore fan. i don't r...</td>\n",
       "      <td>delicious porkness in all of its glories.&lt;br /...</td>\n",
       "      <td>NaN</td>\n",
       "      <td>NaN</td>\n",
       "      <td>i am very open and will share just about anyth...</td>\n",
       "      <td>NaN</td>\n",
       "      <td>white</td>\n",
       "      <td>70.0</td>\n",
       "      <td>80000</td>\n",
       "      <td>hospitality / travel</td>\n",
       "      <td>2012-06-29-21-41</td>\n",
       "      <td>oakland, california</td>\n",
       "      <td>1.0</td>\n",
       "      <td>straight</td>\n",
       "      <td>likes dogs and likes cats</td>\n",
       "      <td>agnosticism but not too serious about it</td>\n",
       "      <td>m</td>\n",
       "      <td>cancer</td>\n",
       "      <td>0.0</td>\n",
       "      <td>english (fluently), spanish (poorly), french (...</td>\n",
       "      <td>single</td>\n",
       "    </tr>\n",
       "  </tbody>\n",
       "</table>\n",
       "</div>"
      ],
      "text/plain": [
       "   age  body_type  diet  drinks  drugs  education  \\\n",
       "0  1.0        9.0   1.0     2.0    0.0        4.0   \n",
       "1  2.0        4.0   6.0     3.0    1.0        2.0   \n",
       "\n",
       "                                              essay0  \\\n",
       "0  about me:<br />\\n<br />\\ni would love to think...   \n",
       "1  i am a chef: this is what that means.<br />\\n1...   \n",
       "\n",
       "                                              essay1  \\\n",
       "0  currently working as an international agent fo...   \n",
       "1  dedicating everyday to being an unbelievable b...   \n",
       "\n",
       "                                              essay2  \\\n",
       "0  making people laugh.<br />\\nranting about a go...   \n",
       "1  being silly. having ridiculous amonts of fun w...   \n",
       "\n",
       "                                              essay3  \\\n",
       "0  the way i look. i am a six foot half asian, ha...   \n",
       "1                                                NaN   \n",
       "\n",
       "                                              essay4  \\\n",
       "0  books:<br />\\nabsurdistan, the republic, of mi...   \n",
       "1  i am die hard christopher moore fan. i don't r...   \n",
       "\n",
       "                                              essay5  \\\n",
       "0  food.<br />\\nwater.<br />\\ncell phone.<br />\\n...   \n",
       "1  delicious porkness in all of its glories.<br /...   \n",
       "\n",
       "                        essay6  \\\n",
       "0  duality and humorous things   \n",
       "1                          NaN   \n",
       "\n",
       "                                              essay7  \\\n",
       "0  trying to find someone to hang out with. i am ...   \n",
       "1                                                NaN   \n",
       "\n",
       "                                              essay8  \\\n",
       "0  i am new to california and looking for someone...   \n",
       "1  i am very open and will share just about anyth...   \n",
       "\n",
       "                                              essay9     ethnicity  height  \\\n",
       "0  you want to be swept off your feet!<br />\\nyou...  asian, white    75.0   \n",
       "1                                                NaN         white    70.0   \n",
       "\n",
       "   income                   job       last_online  \\\n",
       "0      -1        transportation  2012-06-28-20-30   \n",
       "1   80000  hospitality / travel  2012-06-29-21-41   \n",
       "\n",
       "                          location  offspring orientation  \\\n",
       "0  south san francisco, california        1.0    straight   \n",
       "1              oakland, california        1.0    straight   \n",
       "\n",
       "                        pets                                  religion sex  \\\n",
       "0  likes dogs and likes cats     agnosticism and very serious about it   m   \n",
       "1  likes dogs and likes cats  agnosticism but not too serious about it   m   \n",
       "\n",
       "     sign  smokes                                             speaks  status  \n",
       "0  gemini     1.0                                            english  single  \n",
       "1  cancer     0.0  english (fluently), spanish (poorly), french (...  single  "
      ]
     },
     "execution_count": 13,
     "metadata": {},
     "output_type": "execute_result"
    }
   ],
   "source": [
    "# Import mapped data \n",
    "from mapping_profiles import map_to_numbers, age_to_num, age_to_str\n",
    "mix_profiles, map_body_t, map_diet, map_drinks, map_smoking, map_kids, map_edu, map_drugs = map_to_numbers(profiles)\n",
    "mix_profiles['age'] = profiles.age.apply(age_to_num)\n",
    "mix_profiles.head(2)"
   ]
  },
  {
   "cell_type": "markdown",
   "metadata": {},
   "source": [
    "Values in the `ethnicity` column will be encoded with binary code (`1` - belonging to specific ethnic group, `0` - not belonging) and reorganized so each of unique ethnicities is a separate column. One person can belong to many ethnic groups simultaneously, so there will be several `1`s in one row."
   ]
  },
  {
   "cell_type": "code",
   "execution_count": 14,
   "metadata": {},
   "outputs": [
    {
     "data": {
      "text/html": [
       "<div>\n",
       "<style scoped>\n",
       "    .dataframe tbody tr th:only-of-type {\n",
       "        vertical-align: middle;\n",
       "    }\n",
       "\n",
       "    .dataframe tbody tr th {\n",
       "        vertical-align: top;\n",
       "    }\n",
       "\n",
       "    .dataframe thead th {\n",
       "        text-align: right;\n",
       "    }\n",
       "</style>\n",
       "<table border=\"1\" class=\"dataframe\">\n",
       "  <thead>\n",
       "    <tr style=\"text-align: right;\">\n",
       "      <th></th>\n",
       "      <th>asian</th>\n",
       "      <th>white</th>\n",
       "      <th>black</th>\n",
       "      <th>other</th>\n",
       "      <th>hispanic / latin</th>\n",
       "      <th>pacific islander</th>\n",
       "      <th>native american</th>\n",
       "      <th>middle eastern</th>\n",
       "      <th>indian</th>\n",
       "    </tr>\n",
       "  </thead>\n",
       "  <tbody>\n",
       "    <tr>\n",
       "      <th>0</th>\n",
       "      <td>1.0</td>\n",
       "      <td>1.0</td>\n",
       "      <td>0.0</td>\n",
       "      <td>0.0</td>\n",
       "      <td>0.0</td>\n",
       "      <td>0.0</td>\n",
       "      <td>0.0</td>\n",
       "      <td>0.0</td>\n",
       "      <td>0.0</td>\n",
       "    </tr>\n",
       "    <tr>\n",
       "      <th>1</th>\n",
       "      <td>0.0</td>\n",
       "      <td>1.0</td>\n",
       "      <td>0.0</td>\n",
       "      <td>0.0</td>\n",
       "      <td>0.0</td>\n",
       "      <td>0.0</td>\n",
       "      <td>0.0</td>\n",
       "      <td>0.0</td>\n",
       "      <td>0.0</td>\n",
       "    </tr>\n",
       "  </tbody>\n",
       "</table>\n",
       "</div>"
      ],
      "text/plain": [
       "   asian  white  black  other  hispanic / latin  pacific islander  \\\n",
       "0    1.0    1.0    0.0    0.0               0.0               0.0   \n",
       "1    0.0    1.0    0.0    0.0               0.0               0.0   \n",
       "\n",
       "   native american  middle eastern  indian  \n",
       "0              0.0             0.0     0.0  \n",
       "1              0.0             0.0     0.0  "
      ]
     },
     "execution_count": 14,
     "metadata": {},
     "output_type": "execute_result"
    }
   ],
   "source": [
    "def map(value):\n",
    "    data = {}\n",
    "    # Split strings of ethnicities by comma\n",
    "    for element in value.split(', '):\n",
    "        # Assign each unique ethnicity 1 as its coded value\n",
    "        data[element] = 1\n",
    "    # Return ethnicities as series of column names and their values\n",
    "    return pd.Series(data=data)\n",
    "# Filter profiles to get only ethnicity, remove NaNs from it and apply encoding\n",
    "ethnicity = profiles.ethnicity.dropna().apply(map).fillna(0)\n",
    "ethnicity.head(2)"
   ]
  },
  {
   "cell_type": "code",
   "execution_count": 15,
   "metadata": {},
   "outputs": [
    {
     "data": {
      "text/html": [
       "<div>\n",
       "<style scoped>\n",
       "    .dataframe tbody tr th:only-of-type {\n",
       "        vertical-align: middle;\n",
       "    }\n",
       "\n",
       "    .dataframe tbody tr th {\n",
       "        vertical-align: top;\n",
       "    }\n",
       "\n",
       "    .dataframe thead th {\n",
       "        text-align: right;\n",
       "    }\n",
       "</style>\n",
       "<table border=\"1\" class=\"dataframe\">\n",
       "  <thead>\n",
       "    <tr style=\"text-align: right;\">\n",
       "      <th></th>\n",
       "      <th>age</th>\n",
       "      <th>body_type</th>\n",
       "      <th>diet</th>\n",
       "      <th>drinks</th>\n",
       "      <th>drugs</th>\n",
       "      <th>education</th>\n",
       "      <th>essay0</th>\n",
       "      <th>essay1</th>\n",
       "      <th>essay2</th>\n",
       "      <th>essay3</th>\n",
       "      <th>essay4</th>\n",
       "      <th>essay5</th>\n",
       "      <th>essay6</th>\n",
       "      <th>essay7</th>\n",
       "      <th>essay8</th>\n",
       "      <th>essay9</th>\n",
       "      <th>ethnicity</th>\n",
       "      <th>height</th>\n",
       "      <th>income</th>\n",
       "      <th>job</th>\n",
       "      <th>last_online</th>\n",
       "      <th>location</th>\n",
       "      <th>offspring</th>\n",
       "      <th>orientation</th>\n",
       "      <th>pets</th>\n",
       "      <th>religion</th>\n",
       "      <th>sex</th>\n",
       "      <th>sign</th>\n",
       "      <th>smokes</th>\n",
       "      <th>speaks</th>\n",
       "      <th>status</th>\n",
       "      <th>asian</th>\n",
       "      <th>white</th>\n",
       "      <th>black</th>\n",
       "      <th>other</th>\n",
       "      <th>hispanic / latin</th>\n",
       "      <th>pacific islander</th>\n",
       "      <th>native american</th>\n",
       "      <th>middle eastern</th>\n",
       "      <th>indian</th>\n",
       "    </tr>\n",
       "  </thead>\n",
       "  <tbody>\n",
       "    <tr>\n",
       "      <th>0</th>\n",
       "      <td>1.0</td>\n",
       "      <td>9.0</td>\n",
       "      <td>1.0</td>\n",
       "      <td>2.0</td>\n",
       "      <td>0.0</td>\n",
       "      <td>4.0</td>\n",
       "      <td>about me:&lt;br /&gt;\\n&lt;br /&gt;\\ni would love to think...</td>\n",
       "      <td>currently working as an international agent fo...</td>\n",
       "      <td>making people laugh.&lt;br /&gt;\\nranting about a go...</td>\n",
       "      <td>the way i look. i am a six foot half asian, ha...</td>\n",
       "      <td>books:&lt;br /&gt;\\nabsurdistan, the republic, of mi...</td>\n",
       "      <td>food.&lt;br /&gt;\\nwater.&lt;br /&gt;\\ncell phone.&lt;br /&gt;\\n...</td>\n",
       "      <td>duality and humorous things</td>\n",
       "      <td>trying to find someone to hang out with. i am ...</td>\n",
       "      <td>i am new to california and looking for someone...</td>\n",
       "      <td>you want to be swept off your feet!&lt;br /&gt;\\nyou...</td>\n",
       "      <td>asian, white</td>\n",
       "      <td>75.0</td>\n",
       "      <td>-1</td>\n",
       "      <td>transportation</td>\n",
       "      <td>2012-06-28-20-30</td>\n",
       "      <td>south san francisco, california</td>\n",
       "      <td>1.0</td>\n",
       "      <td>straight</td>\n",
       "      <td>likes dogs and likes cats</td>\n",
       "      <td>agnosticism and very serious about it</td>\n",
       "      <td>m</td>\n",
       "      <td>gemini</td>\n",
       "      <td>1.0</td>\n",
       "      <td>english</td>\n",
       "      <td>single</td>\n",
       "      <td>1.0</td>\n",
       "      <td>1.0</td>\n",
       "      <td>0.0</td>\n",
       "      <td>0.0</td>\n",
       "      <td>0.0</td>\n",
       "      <td>0.0</td>\n",
       "      <td>0.0</td>\n",
       "      <td>0.0</td>\n",
       "      <td>0.0</td>\n",
       "    </tr>\n",
       "    <tr>\n",
       "      <th>1</th>\n",
       "      <td>2.0</td>\n",
       "      <td>4.0</td>\n",
       "      <td>6.0</td>\n",
       "      <td>3.0</td>\n",
       "      <td>1.0</td>\n",
       "      <td>2.0</td>\n",
       "      <td>i am a chef: this is what that means.&lt;br /&gt;\\n1...</td>\n",
       "      <td>dedicating everyday to being an unbelievable b...</td>\n",
       "      <td>being silly. having ridiculous amonts of fun w...</td>\n",
       "      <td>NaN</td>\n",
       "      <td>i am die hard christopher moore fan. i don't r...</td>\n",
       "      <td>delicious porkness in all of its glories.&lt;br /...</td>\n",
       "      <td>NaN</td>\n",
       "      <td>NaN</td>\n",
       "      <td>i am very open and will share just about anyth...</td>\n",
       "      <td>NaN</td>\n",
       "      <td>white</td>\n",
       "      <td>70.0</td>\n",
       "      <td>80000</td>\n",
       "      <td>hospitality / travel</td>\n",
       "      <td>2012-06-29-21-41</td>\n",
       "      <td>oakland, california</td>\n",
       "      <td>1.0</td>\n",
       "      <td>straight</td>\n",
       "      <td>likes dogs and likes cats</td>\n",
       "      <td>agnosticism but not too serious about it</td>\n",
       "      <td>m</td>\n",
       "      <td>cancer</td>\n",
       "      <td>0.0</td>\n",
       "      <td>english (fluently), spanish (poorly), french (...</td>\n",
       "      <td>single</td>\n",
       "      <td>0.0</td>\n",
       "      <td>1.0</td>\n",
       "      <td>0.0</td>\n",
       "      <td>0.0</td>\n",
       "      <td>0.0</td>\n",
       "      <td>0.0</td>\n",
       "      <td>0.0</td>\n",
       "      <td>0.0</td>\n",
       "      <td>0.0</td>\n",
       "    </tr>\n",
       "  </tbody>\n",
       "</table>\n",
       "</div>"
      ],
      "text/plain": [
       "   age  body_type  diet  drinks  drugs  education  \\\n",
       "0  1.0        9.0   1.0     2.0    0.0        4.0   \n",
       "1  2.0        4.0   6.0     3.0    1.0        2.0   \n",
       "\n",
       "                                              essay0  \\\n",
       "0  about me:<br />\\n<br />\\ni would love to think...   \n",
       "1  i am a chef: this is what that means.<br />\\n1...   \n",
       "\n",
       "                                              essay1  \\\n",
       "0  currently working as an international agent fo...   \n",
       "1  dedicating everyday to being an unbelievable b...   \n",
       "\n",
       "                                              essay2  \\\n",
       "0  making people laugh.<br />\\nranting about a go...   \n",
       "1  being silly. having ridiculous amonts of fun w...   \n",
       "\n",
       "                                              essay3  \\\n",
       "0  the way i look. i am a six foot half asian, ha...   \n",
       "1                                                NaN   \n",
       "\n",
       "                                              essay4  \\\n",
       "0  books:<br />\\nabsurdistan, the republic, of mi...   \n",
       "1  i am die hard christopher moore fan. i don't r...   \n",
       "\n",
       "                                              essay5  \\\n",
       "0  food.<br />\\nwater.<br />\\ncell phone.<br />\\n...   \n",
       "1  delicious porkness in all of its glories.<br /...   \n",
       "\n",
       "                        essay6  \\\n",
       "0  duality and humorous things   \n",
       "1                          NaN   \n",
       "\n",
       "                                              essay7  \\\n",
       "0  trying to find someone to hang out with. i am ...   \n",
       "1                                                NaN   \n",
       "\n",
       "                                              essay8  \\\n",
       "0  i am new to california and looking for someone...   \n",
       "1  i am very open and will share just about anyth...   \n",
       "\n",
       "                                              essay9     ethnicity  height  \\\n",
       "0  you want to be swept off your feet!<br />\\nyou...  asian, white    75.0   \n",
       "1                                                NaN         white    70.0   \n",
       "\n",
       "   income                   job       last_online  \\\n",
       "0      -1        transportation  2012-06-28-20-30   \n",
       "1   80000  hospitality / travel  2012-06-29-21-41   \n",
       "\n",
       "                          location  offspring orientation  \\\n",
       "0  south san francisco, california        1.0    straight   \n",
       "1              oakland, california        1.0    straight   \n",
       "\n",
       "                        pets                                  religion sex  \\\n",
       "0  likes dogs and likes cats     agnosticism and very serious about it   m   \n",
       "1  likes dogs and likes cats  agnosticism but not too serious about it   m   \n",
       "\n",
       "     sign  smokes                                             speaks  status  \\\n",
       "0  gemini     1.0                                            english  single   \n",
       "1  cancer     0.0  english (fluently), spanish (poorly), french (...  single   \n",
       "\n",
       "   asian  white  black  other  hispanic / latin  pacific islander  \\\n",
       "0    1.0    1.0    0.0    0.0               0.0               0.0   \n",
       "1    0.0    1.0    0.0    0.0               0.0               0.0   \n",
       "\n",
       "   native american  middle eastern  indian  \n",
       "0              0.0             0.0     0.0  \n",
       "1              0.0             0.0     0.0  "
      ]
     },
     "execution_count": 15,
     "metadata": {},
     "output_type": "execute_result"
    }
   ],
   "source": [
    "# Add encoded ethnicities to mix_profiles\n",
    "mix_profiles = mix_profiles.join(ethnicity)\n",
    "mix_profiles.head(2)"
   ]
  },
  {
   "cell_type": "markdown",
   "metadata": {},
   "source": [
    "For `religion` column, we'll apply a slightly different approach. Considering that different religions don't have ascending or descending qualities, and we need them as labels in one column - we'll assign each unique religion name a number from `0` to `10` without any particular meaning to it."
   ]
  },
  {
   "cell_type": "code",
   "execution_count": 16,
   "metadata": {},
   "outputs": [],
   "source": [
    "# Filter profiles to get only religion, remove NaNs from it and split by space to get religion name\n",
    "religion = profiles.religion.dropna().apply(lambda value: value.split(' ')[0]).fillna(0)\n",
    "# Create list of unique religions\n",
    "unique_religions = list(religion.unique())\n",
    "# Assing codes to each religion from unique religions list\n",
    "religion = religion.apply(lambda r: unique_religions.index(r))\n",
    "# Create a separate DataFrame\n",
    "religion = pd.DataFrame({'num_religion': religion })"
   ]
  },
  {
   "cell_type": "code",
   "execution_count": 17,
   "metadata": {},
   "outputs": [
    {
     "data": {
      "text/html": [
       "<div>\n",
       "<style scoped>\n",
       "    .dataframe tbody tr th:only-of-type {\n",
       "        vertical-align: middle;\n",
       "    }\n",
       "\n",
       "    .dataframe tbody tr th {\n",
       "        vertical-align: top;\n",
       "    }\n",
       "\n",
       "    .dataframe thead th {\n",
       "        text-align: right;\n",
       "    }\n",
       "</style>\n",
       "<table border=\"1\" class=\"dataframe\">\n",
       "  <thead>\n",
       "    <tr style=\"text-align: right;\">\n",
       "      <th></th>\n",
       "      <th>age</th>\n",
       "      <th>body_type</th>\n",
       "      <th>diet</th>\n",
       "      <th>drinks</th>\n",
       "      <th>drugs</th>\n",
       "      <th>education</th>\n",
       "      <th>essay0</th>\n",
       "      <th>essay1</th>\n",
       "      <th>essay2</th>\n",
       "      <th>essay3</th>\n",
       "      <th>essay4</th>\n",
       "      <th>essay5</th>\n",
       "      <th>essay6</th>\n",
       "      <th>essay7</th>\n",
       "      <th>essay8</th>\n",
       "      <th>essay9</th>\n",
       "      <th>ethnicity</th>\n",
       "      <th>height</th>\n",
       "      <th>income</th>\n",
       "      <th>job</th>\n",
       "      <th>last_online</th>\n",
       "      <th>location</th>\n",
       "      <th>offspring</th>\n",
       "      <th>orientation</th>\n",
       "      <th>pets</th>\n",
       "      <th>religion</th>\n",
       "      <th>sex</th>\n",
       "      <th>sign</th>\n",
       "      <th>smokes</th>\n",
       "      <th>speaks</th>\n",
       "      <th>status</th>\n",
       "      <th>asian</th>\n",
       "      <th>white</th>\n",
       "      <th>black</th>\n",
       "      <th>other</th>\n",
       "      <th>hispanic / latin</th>\n",
       "      <th>pacific islander</th>\n",
       "      <th>native american</th>\n",
       "      <th>middle eastern</th>\n",
       "      <th>indian</th>\n",
       "      <th>num_religion</th>\n",
       "    </tr>\n",
       "  </thead>\n",
       "  <tbody>\n",
       "    <tr>\n",
       "      <th>0</th>\n",
       "      <td>1.0</td>\n",
       "      <td>9.0</td>\n",
       "      <td>1.0</td>\n",
       "      <td>2.0</td>\n",
       "      <td>0.0</td>\n",
       "      <td>4.0</td>\n",
       "      <td>about me:&lt;br /&gt;\\n&lt;br /&gt;\\ni would love to think...</td>\n",
       "      <td>currently working as an international agent fo...</td>\n",
       "      <td>making people laugh.&lt;br /&gt;\\nranting about a go...</td>\n",
       "      <td>the way i look. i am a six foot half asian, ha...</td>\n",
       "      <td>books:&lt;br /&gt;\\nabsurdistan, the republic, of mi...</td>\n",
       "      <td>food.&lt;br /&gt;\\nwater.&lt;br /&gt;\\ncell phone.&lt;br /&gt;\\n...</td>\n",
       "      <td>duality and humorous things</td>\n",
       "      <td>trying to find someone to hang out with. i am ...</td>\n",
       "      <td>i am new to california and looking for someone...</td>\n",
       "      <td>you want to be swept off your feet!&lt;br /&gt;\\nyou...</td>\n",
       "      <td>asian, white</td>\n",
       "      <td>75.0</td>\n",
       "      <td>-1</td>\n",
       "      <td>transportation</td>\n",
       "      <td>2012-06-28-20-30</td>\n",
       "      <td>south san francisco, california</td>\n",
       "      <td>1.0</td>\n",
       "      <td>straight</td>\n",
       "      <td>likes dogs and likes cats</td>\n",
       "      <td>agnosticism and very serious about it</td>\n",
       "      <td>m</td>\n",
       "      <td>gemini</td>\n",
       "      <td>1.0</td>\n",
       "      <td>english</td>\n",
       "      <td>single</td>\n",
       "      <td>1.0</td>\n",
       "      <td>1.0</td>\n",
       "      <td>0.0</td>\n",
       "      <td>0.0</td>\n",
       "      <td>0.0</td>\n",
       "      <td>0.0</td>\n",
       "      <td>0.0</td>\n",
       "      <td>0.0</td>\n",
       "      <td>0.0</td>\n",
       "      <td>0.0</td>\n",
       "    </tr>\n",
       "    <tr>\n",
       "      <th>1</th>\n",
       "      <td>2.0</td>\n",
       "      <td>4.0</td>\n",
       "      <td>6.0</td>\n",
       "      <td>3.0</td>\n",
       "      <td>1.0</td>\n",
       "      <td>2.0</td>\n",
       "      <td>i am a chef: this is what that means.&lt;br /&gt;\\n1...</td>\n",
       "      <td>dedicating everyday to being an unbelievable b...</td>\n",
       "      <td>being silly. having ridiculous amonts of fun w...</td>\n",
       "      <td>NaN</td>\n",
       "      <td>i am die hard christopher moore fan. i don't r...</td>\n",
       "      <td>delicious porkness in all of its glories.&lt;br /...</td>\n",
       "      <td>NaN</td>\n",
       "      <td>NaN</td>\n",
       "      <td>i am very open and will share just about anyth...</td>\n",
       "      <td>NaN</td>\n",
       "      <td>white</td>\n",
       "      <td>70.0</td>\n",
       "      <td>80000</td>\n",
       "      <td>hospitality / travel</td>\n",
       "      <td>2012-06-29-21-41</td>\n",
       "      <td>oakland, california</td>\n",
       "      <td>1.0</td>\n",
       "      <td>straight</td>\n",
       "      <td>likes dogs and likes cats</td>\n",
       "      <td>agnosticism but not too serious about it</td>\n",
       "      <td>m</td>\n",
       "      <td>cancer</td>\n",
       "      <td>0.0</td>\n",
       "      <td>english (fluently), spanish (poorly), french (...</td>\n",
       "      <td>single</td>\n",
       "      <td>0.0</td>\n",
       "      <td>1.0</td>\n",
       "      <td>0.0</td>\n",
       "      <td>0.0</td>\n",
       "      <td>0.0</td>\n",
       "      <td>0.0</td>\n",
       "      <td>0.0</td>\n",
       "      <td>0.0</td>\n",
       "      <td>0.0</td>\n",
       "      <td>0.0</td>\n",
       "    </tr>\n",
       "  </tbody>\n",
       "</table>\n",
       "</div>"
      ],
      "text/plain": [
       "   age  body_type  diet  drinks  drugs  education  \\\n",
       "0  1.0        9.0   1.0     2.0    0.0        4.0   \n",
       "1  2.0        4.0   6.0     3.0    1.0        2.0   \n",
       "\n",
       "                                              essay0  \\\n",
       "0  about me:<br />\\n<br />\\ni would love to think...   \n",
       "1  i am a chef: this is what that means.<br />\\n1...   \n",
       "\n",
       "                                              essay1  \\\n",
       "0  currently working as an international agent fo...   \n",
       "1  dedicating everyday to being an unbelievable b...   \n",
       "\n",
       "                                              essay2  \\\n",
       "0  making people laugh.<br />\\nranting about a go...   \n",
       "1  being silly. having ridiculous amonts of fun w...   \n",
       "\n",
       "                                              essay3  \\\n",
       "0  the way i look. i am a six foot half asian, ha...   \n",
       "1                                                NaN   \n",
       "\n",
       "                                              essay4  \\\n",
       "0  books:<br />\\nabsurdistan, the republic, of mi...   \n",
       "1  i am die hard christopher moore fan. i don't r...   \n",
       "\n",
       "                                              essay5  \\\n",
       "0  food.<br />\\nwater.<br />\\ncell phone.<br />\\n...   \n",
       "1  delicious porkness in all of its glories.<br /...   \n",
       "\n",
       "                        essay6  \\\n",
       "0  duality and humorous things   \n",
       "1                          NaN   \n",
       "\n",
       "                                              essay7  \\\n",
       "0  trying to find someone to hang out with. i am ...   \n",
       "1                                                NaN   \n",
       "\n",
       "                                              essay8  \\\n",
       "0  i am new to california and looking for someone...   \n",
       "1  i am very open and will share just about anyth...   \n",
       "\n",
       "                                              essay9     ethnicity  height  \\\n",
       "0  you want to be swept off your feet!<br />\\nyou...  asian, white    75.0   \n",
       "1                                                NaN         white    70.0   \n",
       "\n",
       "   income                   job       last_online  \\\n",
       "0      -1        transportation  2012-06-28-20-30   \n",
       "1   80000  hospitality / travel  2012-06-29-21-41   \n",
       "\n",
       "                          location  offspring orientation  \\\n",
       "0  south san francisco, california        1.0    straight   \n",
       "1              oakland, california        1.0    straight   \n",
       "\n",
       "                        pets                                  religion sex  \\\n",
       "0  likes dogs and likes cats     agnosticism and very serious about it   m   \n",
       "1  likes dogs and likes cats  agnosticism but not too serious about it   m   \n",
       "\n",
       "     sign  smokes                                             speaks  status  \\\n",
       "0  gemini     1.0                                            english  single   \n",
       "1  cancer     0.0  english (fluently), spanish (poorly), french (...  single   \n",
       "\n",
       "   asian  white  black  other  hispanic / latin  pacific islander  \\\n",
       "0    1.0    1.0    0.0    0.0               0.0               0.0   \n",
       "1    0.0    1.0    0.0    0.0               0.0               0.0   \n",
       "\n",
       "   native american  middle eastern  indian  num_religion  \n",
       "0              0.0             0.0     0.0           0.0  \n",
       "1              0.0             0.0     0.0           0.0  "
      ]
     },
     "execution_count": 17,
     "metadata": {},
     "output_type": "execute_result"
    }
   ],
   "source": [
    "# Add religion DataFrame to mix_profiles\n",
    "mix_profiles = mix_profiles.join(religion)\n",
    "mix_profiles.head(2)"
   ]
  },
  {
   "cell_type": "markdown",
   "metadata": {},
   "source": [
    "Now we are going find correlations between `age` and `num_religion` with values we've encoded. Let's create a slice of `mix_profiles` with only numerical data in it."
   ]
  },
  {
   "cell_type": "code",
   "execution_count": 18,
   "metadata": {},
   "outputs": [
    {
     "data": {
      "text/plain": [
       "59946"
      ]
     },
     "execution_count": 18,
     "metadata": {},
     "output_type": "execute_result"
    }
   ],
   "source": [
    "num_profiles = mix_profiles[['age', 'body_type', 'diet', 'drinks', 'drugs', 'education', 'offspring',\n",
    "    'smokes', 'num_religion', 'asian', 'white', 'black', 'other', \n",
    "    'hispanic / latin', 'pacific islander', 'native american', 'middle eastern', 'indian']]\n",
    "len(num_profiles)\n"
   ]
  },
  {
   "cell_type": "markdown",
   "metadata": {},
   "source": [
    "First correlations we are going to "
   ]
  },
  {
   "cell_type": "code",
   "execution_count": 19,
   "metadata": {},
   "outputs": [
    {
     "data": {
      "text/html": [
       "<div>\n",
       "<style scoped>\n",
       "    .dataframe tbody tr th:only-of-type {\n",
       "        vertical-align: middle;\n",
       "    }\n",
       "\n",
       "    .dataframe tbody tr th {\n",
       "        vertical-align: top;\n",
       "    }\n",
       "\n",
       "    .dataframe thead th {\n",
       "        text-align: right;\n",
       "    }\n",
       "</style>\n",
       "<table border=\"1\" class=\"dataframe\">\n",
       "  <thead>\n",
       "    <tr style=\"text-align: right;\">\n",
       "      <th></th>\n",
       "      <th>age</th>\n",
       "      <th>body_type</th>\n",
       "      <th>diet</th>\n",
       "      <th>drinks</th>\n",
       "      <th>drugs</th>\n",
       "      <th>education</th>\n",
       "      <th>offspring</th>\n",
       "      <th>smokes</th>\n",
       "      <th>num_religion</th>\n",
       "      <th>asian</th>\n",
       "      <th>white</th>\n",
       "      <th>black</th>\n",
       "      <th>other</th>\n",
       "      <th>hispanic / latin</th>\n",
       "      <th>pacific islander</th>\n",
       "      <th>native american</th>\n",
       "      <th>middle eastern</th>\n",
       "      <th>indian</th>\n",
       "    </tr>\n",
       "  </thead>\n",
       "  <tbody>\n",
       "    <tr>\n",
       "      <th>age</th>\n",
       "      <td>1.0</td>\n",
       "      <td>0.05842</td>\n",
       "      <td>0.034472</td>\n",
       "      <td>-0.121266</td>\n",
       "      <td>-0.133721</td>\n",
       "      <td>0.113422</td>\n",
       "      <td>0.400974</td>\n",
       "      <td>-0.115239</td>\n",
       "      <td>0.09916</td>\n",
       "      <td>-0.088838</td>\n",
       "      <td>0.102778</td>\n",
       "      <td>-0.031698</td>\n",
       "      <td>-0.026952</td>\n",
       "      <td>-0.077764</td>\n",
       "      <td>-0.039271</td>\n",
       "      <td>-0.023456</td>\n",
       "      <td>-0.035368</td>\n",
       "      <td>-0.031729</td>\n",
       "    </tr>\n",
       "  </tbody>\n",
       "</table>\n",
       "</div>"
      ],
      "text/plain": [
       "     age  body_type      diet    drinks     drugs  education  offspring  \\\n",
       "age  1.0    0.05842  0.034472 -0.121266 -0.133721   0.113422   0.400974   \n",
       "\n",
       "       smokes  num_religion     asian     white     black     other  \\\n",
       "age -0.115239       0.09916 -0.088838  0.102778 -0.031698 -0.026952   \n",
       "\n",
       "     hispanic / latin  pacific islander  native american  middle eastern  \\\n",
       "age         -0.077764         -0.039271        -0.023456       -0.035368   \n",
       "\n",
       "       indian  \n",
       "age -0.031729  "
      ]
     },
     "execution_count": 19,
     "metadata": {},
     "output_type": "execute_result"
    }
   ],
   "source": [
    "num_profiles.corr()[:1]"
   ]
  },
  {
   "cell_type": "code",
   "execution_count": 20,
   "metadata": {},
   "outputs": [
    {
     "data": {
      "text/plain": [
       "17088"
      ]
     },
     "execution_count": 20,
     "metadata": {},
     "output_type": "execute_result"
    }
   ],
   "source": [
    "age_labels_features = mix_profiles[['age', 'drinks', 'drugs', 'education', 'offspring', 'smokes']]\n",
    "age_labels_features = age_labels_features.dropna().copy()\n",
    "len(age_labels_features)"
   ]
  },
  {
   "cell_type": "code",
   "execution_count": 21,
   "metadata": {},
   "outputs": [
    {
     "data": {
      "text/html": [
       "<div>\n",
       "<style scoped>\n",
       "    .dataframe tbody tr th:only-of-type {\n",
       "        vertical-align: middle;\n",
       "    }\n",
       "\n",
       "    .dataframe tbody tr th {\n",
       "        vertical-align: top;\n",
       "    }\n",
       "\n",
       "    .dataframe thead th {\n",
       "        text-align: right;\n",
       "    }\n",
       "</style>\n",
       "<table border=\"1\" class=\"dataframe\">\n",
       "  <thead>\n",
       "    <tr style=\"text-align: right;\">\n",
       "      <th></th>\n",
       "      <th>drinks</th>\n",
       "      <th>drugs</th>\n",
       "      <th>education</th>\n",
       "      <th>offspring</th>\n",
       "      <th>smokes</th>\n",
       "    </tr>\n",
       "  </thead>\n",
       "  <tbody>\n",
       "    <tr>\n",
       "      <th>0</th>\n",
       "      <td>2.0</td>\n",
       "      <td>0.0</td>\n",
       "      <td>4.0</td>\n",
       "      <td>1.0</td>\n",
       "      <td>1.0</td>\n",
       "    </tr>\n",
       "    <tr>\n",
       "      <th>1</th>\n",
       "      <td>3.0</td>\n",
       "      <td>1.0</td>\n",
       "      <td>2.0</td>\n",
       "      <td>1.0</td>\n",
       "      <td>0.0</td>\n",
       "    </tr>\n",
       "  </tbody>\n",
       "</table>\n",
       "</div>"
      ],
      "text/plain": [
       "   drinks  drugs  education  offspring  smokes\n",
       "0     2.0    0.0        4.0        1.0     1.0\n",
       "1     3.0    1.0        2.0        1.0     0.0"
      ]
     },
     "execution_count": 21,
     "metadata": {},
     "output_type": "execute_result"
    }
   ],
   "source": [
    "age_labels = age_labels_features[['age']]\n",
    "age_features = age_labels_features[['drinks', 'drugs', 'education', 'offspring', 'smokes']]\n",
    "age_features.head(2)"
   ]
  },
  {
   "cell_type": "code",
   "execution_count": 22,
   "metadata": {},
   "outputs": [
    {
     "data": {
      "text/html": [
       "<div>\n",
       "<style scoped>\n",
       "    .dataframe tbody tr th:only-of-type {\n",
       "        vertical-align: middle;\n",
       "    }\n",
       "\n",
       "    .dataframe tbody tr th {\n",
       "        vertical-align: top;\n",
       "    }\n",
       "\n",
       "    .dataframe thead th {\n",
       "        text-align: right;\n",
       "    }\n",
       "</style>\n",
       "<table border=\"1\" class=\"dataframe\">\n",
       "  <thead>\n",
       "    <tr style=\"text-align: right;\">\n",
       "      <th></th>\n",
       "      <th>age</th>\n",
       "      <th>body_type</th>\n",
       "      <th>diet</th>\n",
       "      <th>drinks</th>\n",
       "      <th>drugs</th>\n",
       "      <th>education</th>\n",
       "      <th>offspring</th>\n",
       "      <th>smokes</th>\n",
       "      <th>num_religion</th>\n",
       "      <th>asian</th>\n",
       "      <th>white</th>\n",
       "      <th>black</th>\n",
       "      <th>other</th>\n",
       "      <th>hispanic / latin</th>\n",
       "      <th>pacific islander</th>\n",
       "      <th>native american</th>\n",
       "      <th>middle eastern</th>\n",
       "      <th>indian</th>\n",
       "    </tr>\n",
       "  </thead>\n",
       "  <tbody>\n",
       "    <tr>\n",
       "      <th>num_religion</th>\n",
       "      <td>0.09916</td>\n",
       "      <td>0.03882</td>\n",
       "      <td>0.065258</td>\n",
       "      <td>-0.0724</td>\n",
       "      <td>-0.082393</td>\n",
       "      <td>0.014881</td>\n",
       "      <td>0.15083</td>\n",
       "      <td>-0.03472</td>\n",
       "      <td>1.0</td>\n",
       "      <td>-0.02364</td>\n",
       "      <td>-0.078897</td>\n",
       "      <td>-0.006371</td>\n",
       "      <td>0.037658</td>\n",
       "      <td>0.033506</td>\n",
       "      <td>0.056028</td>\n",
       "      <td>-0.00054</td>\n",
       "      <td>0.04103</td>\n",
       "      <td>0.117721</td>\n",
       "    </tr>\n",
       "  </tbody>\n",
       "</table>\n",
       "</div>"
      ],
      "text/plain": [
       "                  age  body_type      diet  drinks     drugs  education  \\\n",
       "num_religion  0.09916    0.03882  0.065258 -0.0724 -0.082393   0.014881   \n",
       "\n",
       "              offspring   smokes  num_religion    asian     white     black  \\\n",
       "num_religion    0.15083 -0.03472           1.0 -0.02364 -0.078897 -0.006371   \n",
       "\n",
       "                 other  hispanic / latin  pacific islander  native american  \\\n",
       "num_religion  0.037658          0.033506          0.056028         -0.00054   \n",
       "\n",
       "              middle eastern    indian  \n",
       "num_religion         0.04103  0.117721  "
      ]
     },
     "execution_count": 22,
     "metadata": {},
     "output_type": "execute_result"
    }
   ],
   "source": [
    "num_profiles.corr()[8:9]"
   ]
  },
  {
   "cell_type": "code",
   "execution_count": 23,
   "metadata": {},
   "outputs": [
    {
     "data": {
      "text/plain": [
       "10195"
      ]
     },
     "execution_count": 23,
     "metadata": {},
     "output_type": "execute_result"
    }
   ],
   "source": [
    "relig_labels_features = mix_profiles[[\n",
    "    'age', 'diet', 'drinks', 'drugs', 'offspring',\n",
    "    'smokes', 'asian', 'white', 'black', 'other', 'num_religion',\n",
    "    'hispanic / latin', 'pacific islander', 'native american', 'middle eastern', 'indian' \n",
    "    ]]\n",
    "relig_labels_features = relig_labels_features.dropna().copy()\n",
    "len(relig_labels_features)"
   ]
  },
  {
   "cell_type": "code",
   "execution_count": 24,
   "metadata": {},
   "outputs": [
    {
     "data": {
      "text/html": [
       "<div>\n",
       "<style scoped>\n",
       "    .dataframe tbody tr th:only-of-type {\n",
       "        vertical-align: middle;\n",
       "    }\n",
       "\n",
       "    .dataframe tbody tr th {\n",
       "        vertical-align: top;\n",
       "    }\n",
       "\n",
       "    .dataframe thead th {\n",
       "        text-align: right;\n",
       "    }\n",
       "</style>\n",
       "<table border=\"1\" class=\"dataframe\">\n",
       "  <thead>\n",
       "    <tr style=\"text-align: right;\">\n",
       "      <th></th>\n",
       "      <th>age</th>\n",
       "      <th>diet</th>\n",
       "      <th>drinks</th>\n",
       "      <th>drugs</th>\n",
       "      <th>offspring</th>\n",
       "      <th>smokes</th>\n",
       "      <th>asian</th>\n",
       "      <th>white</th>\n",
       "      <th>black</th>\n",
       "      <th>other</th>\n",
       "      <th>hispanic / latin</th>\n",
       "      <th>pacific islander</th>\n",
       "      <th>native american</th>\n",
       "      <th>middle eastern</th>\n",
       "      <th>indian</th>\n",
       "    </tr>\n",
       "  </thead>\n",
       "  <tbody>\n",
       "    <tr>\n",
       "      <th>0</th>\n",
       "      <td>1.0</td>\n",
       "      <td>1.0</td>\n",
       "      <td>2.0</td>\n",
       "      <td>0.0</td>\n",
       "      <td>1.0</td>\n",
       "      <td>1.0</td>\n",
       "      <td>1.0</td>\n",
       "      <td>1.0</td>\n",
       "      <td>0.0</td>\n",
       "      <td>0.0</td>\n",
       "      <td>0.0</td>\n",
       "      <td>0.0</td>\n",
       "      <td>0.0</td>\n",
       "      <td>0.0</td>\n",
       "      <td>0.0</td>\n",
       "    </tr>\n",
       "    <tr>\n",
       "      <th>1</th>\n",
       "      <td>2.0</td>\n",
       "      <td>6.0</td>\n",
       "      <td>3.0</td>\n",
       "      <td>1.0</td>\n",
       "      <td>1.0</td>\n",
       "      <td>0.0</td>\n",
       "      <td>0.0</td>\n",
       "      <td>1.0</td>\n",
       "      <td>0.0</td>\n",
       "      <td>0.0</td>\n",
       "      <td>0.0</td>\n",
       "      <td>0.0</td>\n",
       "      <td>0.0</td>\n",
       "      <td>0.0</td>\n",
       "      <td>0.0</td>\n",
       "    </tr>\n",
       "  </tbody>\n",
       "</table>\n",
       "</div>"
      ],
      "text/plain": [
       "   age  diet  drinks  drugs  offspring  smokes  asian  white  black  other  \\\n",
       "0  1.0   1.0     2.0    0.0        1.0     1.0    1.0    1.0    0.0    0.0   \n",
       "1  2.0   6.0     3.0    1.0        1.0     0.0    0.0    1.0    0.0    0.0   \n",
       "\n",
       "   hispanic / latin  pacific islander  native american  middle eastern  indian  \n",
       "0               0.0               0.0              0.0             0.0     0.0  \n",
       "1               0.0               0.0              0.0             0.0     0.0  "
      ]
     },
     "execution_count": 24,
     "metadata": {},
     "output_type": "execute_result"
    }
   ],
   "source": [
    "relig_labels = relig_labels_features[['num_religion']]\n",
    "relig_features = relig_labels_features[[\n",
    "    'age', 'diet', 'drinks', 'drugs', 'offspring',\n",
    "    'smokes', 'asian', 'white', 'black', 'other',\n",
    "    'hispanic / latin', 'pacific islander', 'native american', 'middle eastern', 'indian' \n",
    "    ]]\n",
    "relig_features.head(2)"
   ]
  },
  {
   "cell_type": "code",
   "execution_count": 25,
   "metadata": {},
   "outputs": [],
   "source": [
    "train_data_a, test_data_a, train_labels_a, test_labels_a = train_test_split(age_features, age_labels, random_state=2, test_size=.1)\n",
    "train_data_r, test_data_r, train_labels_r, test_labels_r = train_test_split(relig_features, relig_labels, random_state=6)"
   ]
  },
  {
   "cell_type": "code",
   "execution_count": 26,
   "metadata": {},
   "outputs": [
    {
     "name": "stdout",
     "output_type": "stream",
     "text": [
      "Training set length for predicting age: 15379\n",
      "Training set length for predicting religion: 7646\n"
     ]
    }
   ],
   "source": [
    "print('Training set length for predicting age:', len(train_data_a))\n",
    "print('Training set length for predicting religion:', len(train_data_r))"
   ]
  },
  {
   "cell_type": "markdown",
   "metadata": {},
   "source": [
    "## Train Models on Categorical Features\n",
    "\n",
    "### Age"
   ]
  },
  {
   "cell_type": "code",
   "execution_count": 27,
   "metadata": {},
   "outputs": [],
   "source": [
    "# Instantiate and train classifier\n",
    "RandomForestClassifier_a = RandomForestClassifier(random_state=8).fit(train_data_a, train_labels_a.values.ravel())"
   ]
  },
  {
   "cell_type": "code",
   "execution_count": 28,
   "metadata": {},
   "outputs": [
    {
     "name": "stdout",
     "output_type": "stream",
     "text": [
      "56.699999999999996 %\n"
     ]
    }
   ],
   "source": [
    "# Get accuracy of the classifier\n",
    "print(round(RandomForestClassifier_a.score(test_data_a, test_labels_a), 4)*100, '%')"
   ]
  },
  {
   "cell_type": "code",
   "execution_count": 29,
   "metadata": {},
   "outputs": [
    {
     "name": "stdout",
     "output_type": "stream",
     "text": [
      "              precision    recall  f1-score   support\n",
      "\n",
      "         1.0       0.58      0.83      0.68       744\n",
      "         2.0       0.46      0.28      0.35       518\n",
      "         3.0       0.63      0.53      0.58       388\n",
      "         4.0       0.00      0.00      0.00        59\n",
      "\n",
      "    accuracy                           0.57      1709\n",
      "   macro avg       0.42      0.41      0.40      1709\n",
      "weighted avg       0.53      0.57      0.53      1709\n",
      "\n"
     ]
    }
   ],
   "source": [
    "# Get detailed report\n",
    "print(classification_report(test_labels_a, RandomForestClassifier_a.predict(test_data_a)))"
   ]
  },
  {
   "cell_type": "code",
   "execution_count": 30,
   "metadata": {},
   "outputs": [
    {
     "data": {
      "image/png": "[encoded data removed]",
      "text/plain": [
       "<Figure size 1512x648 with 1 Axes>"
      ]
     },
     "metadata": {
      "needs_background": "light"
     },
     "output_type": "display_data"
    }
   ],
   "source": [
    "def visualise_barchart(feature_lst, values):\n",
    "    # Prepare grid\n",
    "    plt.figure(figsize = (21,9))\n",
    "    \n",
    "    # Draw barplot\n",
    "    ax = sns.barplot(x = feature_lst, y = values, palette='plasma')\n",
    "\n",
    "    # Add descriptions\n",
    "    plt.title('Features\\' Influence within Random Forest', fontsize='x-large')\n",
    "    plt.xlabel('Features', fontsize='large')\n",
    "    plt.ylabel('Coeficients', fontsize='large')\n",
    "    ax.set_xticklabels(feature_lst, rotation=30)\n",
    "\n",
    "    return plt.show()\n",
    "\n",
    "# Display important features\n",
    "visualise_barchart(\n",
    "    RandomForestClassifier_a.feature_names_in_, \n",
    "    RandomForestClassifier_a.feature_importances_)"
   ]
  },
  {
   "cell_type": "code",
   "execution_count": 31,
   "metadata": {},
   "outputs": [
    {
     "name": "stdout",
     "output_type": "stream",
     "text": [
      "57.28 %\n"
     ]
    }
   ],
   "source": [
    "# Get best classifier with best score\n",
    "def best_knn(train_data, train_labels, test_data, test_labels):\n",
    "    best_k=0\n",
    "    best_score = 0\n",
    "    best_classifer = None\n",
    "    for k in range(1, 200):\n",
    "        current_k = k\n",
    "        # Instantiate model\n",
    "        current_classifier = KNeighborsClassifier(n_neighbors=current_k)\n",
    "        # Train model\n",
    "        current_classifier.fit(train_data, train_labels.values.ravel())\n",
    "        # Get model's accuracy\n",
    "        current_score = current_classifier.score(test_data, test_labels)\n",
    "        if current_score > best_score:\n",
    "            best_score = current_score\n",
    "            best_k = current_k\n",
    "            best_classifer = current_classifier\n",
    "    return best_classifer, best_score\n",
    "\n",
    "# Pickle best classifier with best score\n",
    "KNeighborsClassifier_a, best_score_a = with_pickle('pickles/knn_classifier_a.pickle', lambda: best_knn(train_data_a, train_labels_a, test_data_a, test_labels_a)) \n",
    "print(round(best_score_a, 4)*100, '%')"
   ]
  },
  {
   "cell_type": "markdown",
   "metadata": {},
   "source": [
    "### Religion"
   ]
  },
  {
   "cell_type": "code",
   "execution_count": 32,
   "metadata": {},
   "outputs": [
    {
     "name": "stdout",
     "output_type": "stream",
     "text": [
      "27.07 %\n"
     ]
    }
   ],
   "source": [
    "# Instantiate and train classifier\n",
    "RandomForestClassifier_r = RandomForestClassifier(random_state=6).fit(train_data_r, train_labels_r.values.ravel())\n",
    "# Get accuracy of the classifier\n",
    "print(round(RandomForestClassifier_r.score(test_data_r, test_labels_r), 4)*100, '%')"
   ]
  },
  {
   "cell_type": "code",
   "execution_count": 33,
   "metadata": {},
   "outputs": [
    {
     "name": "stdout",
     "output_type": "stream",
     "text": [
      "              precision    recall  f1-score   support\n",
      "\n",
      "         0.0       0.24      0.42      0.30       546\n",
      "         1.0       0.30      0.25      0.27       478\n",
      "         2.0       0.29      0.26      0.27       401\n",
      "         3.0       0.30      0.27      0.28       516\n",
      "         4.0       0.31      0.23      0.27       304\n",
      "         5.0       0.12      0.05      0.07       124\n",
      "         6.0       0.15      0.06      0.08       143\n",
      "         7.0       0.45      0.56      0.50        27\n",
      "         8.0       0.33      0.10      0.15        10\n",
      "\n",
      "    accuracy                           0.27      2549\n",
      "   macro avg       0.28      0.24      0.24      2549\n",
      "weighted avg       0.27      0.27      0.26      2549\n",
      "\n"
     ]
    }
   ],
   "source": [
    "# Get detailed report\n",
    "print(classification_report(test_labels_r, RandomForestClassifier_r.predict(test_data_r)))"
   ]
  },
  {
   "cell_type": "code",
   "execution_count": 34,
   "metadata": {},
   "outputs": [
    {
     "data": {
      "image/png": "[encoded data removed]",
      "text/plain": [
       "<Figure size 1512x648 with 1 Axes>"
      ]
     },
     "metadata": {
      "needs_background": "light"
     },
     "output_type": "display_data"
    }
   ],
   "source": [
    "visualise_barchart(\n",
    "    RandomForestClassifier_r.feature_names_in_, \n",
    "    RandomForestClassifier_r.feature_importances_)"
   ]
  },
  {
   "cell_type": "code",
   "execution_count": 35,
   "metadata": {},
   "outputs": [
    {
     "name": "stdout",
     "output_type": "stream",
     "text": [
      "29.89 %\n"
     ]
    }
   ],
   "source": [
    "# Pickle best classifier with best score\n",
    "KNeighborsClassifier_r, best_score_r = with_pickle('pickles/knn_classifier_r.pickle', lambda: best_knn(train_data_r, train_labels_r, test_data_r, test_labels_r))\n",
    "# Get accuracy of the classifier\n",
    "print(round(best_score_r, 4)*100, '%') "
   ]
  },
  {
   "cell_type": "code",
   "execution_count": 36,
   "metadata": {},
   "outputs": [],
   "source": [
    "# Get detailed report\n",
    "# print(classification_report(test_labels_r, KNeighborsClassifier_r.predict(test_data_r)))"
   ]
  },
  {
   "cell_type": "markdown",
   "metadata": {},
   "source": [
    "## NLP Part\n",
    "### Select Columns for NLP"
   ]
  },
  {
   "cell_type": "code",
   "execution_count": 37,
   "metadata": {},
   "outputs": [],
   "source": [
    "from bs4 import BeautifulSoup\n",
    "\n",
    "from nltk.classify.scikitlearn import SklearnClassifier\n",
    "from sklearn.naive_bayes import MultinomialNB, BernoulliNB\n",
    "from sklearn.linear_model import LogisticRegression, SGDClassifier\n",
    "from sklearn.svm import SVC, LinearSVC, NuSVC\n",
    "\n",
    "from nltk.classify import ClassifierI\n",
    "from statistics import mode\n",
    "\n",
    "# Imports for preprocessing\n",
    "from nltk.corpus import stopwords\n",
    "import re, nltk\n",
    "from nltk import pos_tag_sents, RegexpParser\n",
    "from nltk import word_tokenize, sent_tokenize\n",
    "from nltk import word_tokenize, sent_tokenize"
   ]
  },
  {
   "cell_type": "code",
   "execution_count": 38,
   "metadata": {},
   "outputs": [
    {
     "data": {
      "text/html": [
       "<div>\n",
       "<style scoped>\n",
       "    .dataframe tbody tr th:only-of-type {\n",
       "        vertical-align: middle;\n",
       "    }\n",
       "\n",
       "    .dataframe tbody tr th {\n",
       "        vertical-align: top;\n",
       "    }\n",
       "\n",
       "    .dataframe thead th {\n",
       "        text-align: right;\n",
       "    }\n",
       "</style>\n",
       "<table border=\"1\" class=\"dataframe\">\n",
       "  <thead>\n",
       "    <tr style=\"text-align: right;\">\n",
       "      <th></th>\n",
       "      <th>age</th>\n",
       "      <th>essays_combined</th>\n",
       "    </tr>\n",
       "  </thead>\n",
       "  <tbody>\n",
       "    <tr>\n",
       "      <th>0</th>\n",
       "      <td>1.0</td>\n",
       "      <td>about me:&lt;br /&gt;\\n&lt;br /&gt;\\ni would love to think...</td>\n",
       "    </tr>\n",
       "    <tr>\n",
       "      <th>1</th>\n",
       "      <td>2.0</td>\n",
       "      <td>i am a chef: this is what that means.&lt;br /&gt;\\n1...</td>\n",
       "    </tr>\n",
       "    <tr>\n",
       "      <th>2</th>\n",
       "      <td>2.0</td>\n",
       "      <td>i'm not ashamed of much, but writing public te...</td>\n",
       "    </tr>\n",
       "    <tr>\n",
       "      <th>3</th>\n",
       "      <td>1.0</td>\n",
       "      <td>i work in a library and go to school. . . read...</td>\n",
       "    </tr>\n",
       "    <tr>\n",
       "      <th>4</th>\n",
       "      <td>1.0</td>\n",
       "      <td>hey how's it going? currently vague on the pro...</td>\n",
       "    </tr>\n",
       "  </tbody>\n",
       "</table>\n",
       "</div>"
      ],
      "text/plain": [
       "   age                                    essays_combined\n",
       "0  1.0  about me:<br />\\n<br />\\ni would love to think...\n",
       "1  2.0  i am a chef: this is what that means.<br />\\n1...\n",
       "2  2.0  i'm not ashamed of much, but writing public te...\n",
       "3  1.0  i work in a library and go to school. . . read...\n",
       "4  1.0  hey how's it going? currently vague on the pro..."
      ]
     },
     "execution_count": 38,
     "metadata": {},
     "output_type": "execute_result"
    }
   ],
   "source": [
    "columns = ['essay0','essay1', 'essay2', 'essay3', 'essay4', 'essay5', 'essay6', 'essay7', 'essay8', 'essay9']\n",
    "\n",
    "essays_a = mix_profiles.dropna(subset = 'age').dropna(how='all', subset=columns)\n",
    "essays_a['essays_combined'] = essays_a[columns].apply(lambda row: ' '.join(row.values.astype(str)), axis=1)\n",
    "essays_a = essays_a[['age', 'essays_combined']].reset_index(drop=True).copy()\n",
    "essays_a.head()"
   ]
  },
  {
   "cell_type": "code",
   "execution_count": 39,
   "metadata": {},
   "outputs": [
    {
     "name": "stdout",
     "output_type": "stream",
     "text": [
      "Initial number: 59946\n",
      "Final number: 57629\n"
     ]
    }
   ],
   "source": [
    "print('Initial number:', len(mix_profiles))\n",
    "print('Final number:',  len(essays_a))"
   ]
  },
  {
   "cell_type": "code",
   "execution_count": 40,
   "metadata": {},
   "outputs": [
    {
     "data": {
      "text/html": [
       "<div>\n",
       "<style scoped>\n",
       "    .dataframe tbody tr th:only-of-type {\n",
       "        vertical-align: middle;\n",
       "    }\n",
       "\n",
       "    .dataframe tbody tr th {\n",
       "        vertical-align: top;\n",
       "    }\n",
       "\n",
       "    .dataframe thead th {\n",
       "        text-align: right;\n",
       "    }\n",
       "</style>\n",
       "<table border=\"1\" class=\"dataframe\">\n",
       "  <thead>\n",
       "    <tr style=\"text-align: right;\">\n",
       "      <th></th>\n",
       "      <th>num_religion</th>\n",
       "      <th>essays_combined</th>\n",
       "    </tr>\n",
       "  </thead>\n",
       "  <tbody>\n",
       "    <tr>\n",
       "      <th>0</th>\n",
       "      <td>0.0</td>\n",
       "      <td>about me:&lt;br /&gt;\\n&lt;br /&gt;\\ni would love to think...</td>\n",
       "    </tr>\n",
       "    <tr>\n",
       "      <th>1</th>\n",
       "      <td>0.0</td>\n",
       "      <td>i am a chef: this is what that means.&lt;br /&gt;\\n1...</td>\n",
       "    </tr>\n",
       "    <tr>\n",
       "      <th>2</th>\n",
       "      <td>1.0</td>\n",
       "      <td>i'm an australian living in san francisco, but...</td>\n",
       "    </tr>\n",
       "    <tr>\n",
       "      <th>3</th>\n",
       "      <td>2.0</td>\n",
       "      <td>nan writing. meeting new people, spending time...</td>\n",
       "    </tr>\n",
       "    <tr>\n",
       "      <th>4</th>\n",
       "      <td>2.0</td>\n",
       "      <td>nan oh goodness. at the moment i have 4 jobs, ...</td>\n",
       "    </tr>\n",
       "  </tbody>\n",
       "</table>\n",
       "</div>"
      ],
      "text/plain": [
       "   num_religion                                    essays_combined\n",
       "0           0.0  about me:<br />\\n<br />\\ni would love to think...\n",
       "1           0.0  i am a chef: this is what that means.<br />\\n1...\n",
       "2           1.0  i'm an australian living in san francisco, but...\n",
       "3           2.0  nan writing. meeting new people, spending time...\n",
       "4           2.0  nan oh goodness. at the moment i have 4 jobs, ..."
      ]
     },
     "execution_count": 40,
     "metadata": {},
     "output_type": "execute_result"
    }
   ],
   "source": [
    "essays_r = mix_profiles.dropna(subset = 'num_religion').dropna(how='all', subset=columns)\n",
    "essays_r['essays_combined'] = essays_r[columns].apply(lambda row: ' '.join(row.values.astype(str)), axis=1)\n",
    "essays_r = essays_r[['num_religion', 'essays_combined']].reset_index(drop=True).copy()\n",
    "essays_r.head()"
   ]
  },
  {
   "cell_type": "code",
   "execution_count": 41,
   "metadata": {},
   "outputs": [
    {
     "name": "stdout",
     "output_type": "stream",
     "text": [
      "Initial number: 59946\n",
      "Final number: 38599\n"
     ]
    }
   ],
   "source": [
    "print('Initial number:', len(mix_profiles))\n",
    "print('Final number:',  len(essays_r))"
   ]
  },
  {
   "cell_type": "markdown",
   "metadata": {},
   "source": [
    "### Pre-Processing"
   ]
  },
  {
   "cell_type": "code",
   "execution_count": 42,
   "metadata": {},
   "outputs": [],
   "source": [
    "def remove_noise(text):\n",
    "    soup = BeautifulSoup(text, features=\"html.parser\")\n",
    "\n",
    "    # Remove all script and style elements\n",
    "    for script in soup([\"script\", \"style\"]):\n",
    "        script.extract()   \n",
    "\n",
    "    # Get text\n",
    "    text = soup.get_text()\n",
    "\n",
    "    # Break into lines and remove leading and trailing space on each\n",
    "    lines = (line.strip() for line in text.splitlines())\n",
    "    # Break multi-headlines into a line each\n",
    "    chunks = (phrase.strip() for line in lines for phrase in line.split(\"  \"))\n",
    "    # Drop blank lines\n",
    "    text = ' '.join(chunk for chunk in chunks if chunk)\n",
    "\n",
    "    return text "
   ]
  },
  {
   "cell_type": "code",
   "execution_count": 43,
   "metadata": {},
   "outputs": [
    {
     "data": {
      "text/plain": [
       "\"i'm an australian living in san francisco, but don't hold that against me. i spend most of my days trying to build cool stuff for my company. i speak mandarin and have been known to bust out chinese songs at karaoke. i'm pretty cheeky. someone asked me if that meant something about my arse, which i find really funny. i'm a little oddball. i have a wild imagination; i like to think of the most improbable reasons people are doing things just for fun. i love to laugh and look for reasons to do so. occasionally this gets me in trouble because people think i'm laughing at them. sometimes i am, but more often i'm only laughing at myself. i'm an entrepreneur (like everyone else in sf, it seems) and i love what i do. i enjoy parties and downtime in equal measure. intelligence really turns me on and i love people who can teach me new things. building awesome stuff. figuring out what's important. having adventures. looking for treasure. imagining random shit. laughing at aforementioned random sh\""
      ]
     },
     "execution_count": 43,
     "metadata": {},
     "output_type": "execute_result"
    }
   ],
   "source": [
    "essays_a.essays_combined = with_pickle('pickles/noise_removed_a.pickle', lambda : essays_a.essays_combined.apply(remove_noise))\n",
    "essays_a.essays_combined[5][:1000]"
   ]
  },
  {
   "cell_type": "code",
   "execution_count": 44,
   "metadata": {},
   "outputs": [
    {
     "data": {
      "text/plain": [
       "\"my names jake. i'm a creative guy and i look for the same in others. i'm easy going, practical and i don't have many hang ups. i appreciate life and try to live it to the fullest. i'm sober and have been for the past few years. i love music and i play guitar. i like tons of different bands. i'm an artist and i love to paint/draw etc. and i love creative people. i've got to say i'm not too big on internet dating. you cant really get an earnest impression of anyone from a few polished paragraphs. but we'll see, you never know. i have an apartment. i like to explore and check things out. i like good japanese and peruvian food. nothing beats good ceviche on a hot day. or a hot chai on a cold one. i've been working on my a.o.d. certification but have stalled out. i'm hoping to pursue art but have yet to find the best venue. recently i've been working on a construction job in belmont. it's not my dream job. but for the time being it affords me other opportunities. plus it keeps me in shape, \""
      ]
     },
     "execution_count": 44,
     "metadata": {},
     "output_type": "execute_result"
    }
   ],
   "source": [
    "essays_r.essays_combined = with_pickle('pickles/noise_removed_r.pickle', lambda : essays_r.essays_combined.apply(remove_noise))\n",
    "essays_r.essays_combined[5][:1000]"
   ]
  },
  {
   "cell_type": "code",
   "execution_count": 45,
   "metadata": {},
   "outputs": [],
   "source": [
    "def word_sent_tokenize(text):\n",
    "    word_sent_tokenized = [word_tokenize(s) for s in sent_tokenize(text)]\n",
    "    return word_sent_tokenized"
   ]
  },
  {
   "cell_type": "code",
   "execution_count": 46,
   "metadata": {},
   "outputs": [
    {
     "data": {
      "text/plain": [
       "[['i',\n",
       "  \"'m\",\n",
       "  'an',\n",
       "  'australian',\n",
       "  'living',\n",
       "  'in',\n",
       "  'san',\n",
       "  'francisco',\n",
       "  ',',\n",
       "  'but',\n",
       "  'do',\n",
       "  \"n't\",\n",
       "  'hold',\n",
       "  'that',\n",
       "  'against',\n",
       "  'me',\n",
       "  '.']]"
      ]
     },
     "execution_count": 46,
     "metadata": {},
     "output_type": "execute_result"
    }
   ],
   "source": [
    "essays_a['sent_tokenized'] = with_pickle('pickles/sent_tokenized_a.pickle', lambda : essays_a.essays_combined.apply(word_sent_tokenize))\n",
    "essays_a.sent_tokenized[5][:1]"
   ]
  },
  {
   "cell_type": "code",
   "execution_count": 47,
   "metadata": {},
   "outputs": [
    {
     "data": {
      "text/plain": [
       "[['my', 'names', 'jake', '.']]"
      ]
     },
     "execution_count": 47,
     "metadata": {},
     "output_type": "execute_result"
    }
   ],
   "source": [
    "essays_r['sent_tokenized'] = with_pickle('pickles/sent_tokenized_r.pickle', lambda : essays_r.essays_combined.apply(word_sent_tokenize))\n",
    "essays_r.sent_tokenized[5][:1]"
   ]
  },
  {
   "cell_type": "code",
   "execution_count": 48,
   "metadata": {},
   "outputs": [
    {
     "data": {
      "text/plain": [
       "[[('i', 'NN'),\n",
       "  (\"'m\", 'VBP'),\n",
       "  ('an', 'DT'),\n",
       "  ('australian', 'JJ'),\n",
       "  ('living', 'NN'),\n",
       "  ('in', 'IN'),\n",
       "  ('san', 'JJ'),\n",
       "  ('francisco', 'NN'),\n",
       "  (',', ','),\n",
       "  ('but', 'CC'),\n",
       "  ('do', 'VBP'),\n",
       "  (\"n't\", 'RB'),\n",
       "  ('hold', 'VB'),\n",
       "  ('that', 'DT'),\n",
       "  ('against', 'IN'),\n",
       "  ('me', 'PRP'),\n",
       "  ('.', '.')]]"
      ]
     },
     "execution_count": 48,
     "metadata": {},
     "output_type": "execute_result"
    }
   ],
   "source": [
    "essays_a['sent_pos_tagged'] = with_pickle('pickles/pos_tagged_a.pickle', lambda : essays_a.sent_tokenized.apply(pos_tag_sents))\n",
    "essays_a.sent_pos_tagged[5][:1]"
   ]
  },
  {
   "cell_type": "code",
   "execution_count": 49,
   "metadata": {},
   "outputs": [
    {
     "data": {
      "text/plain": [
       "[[('my', 'PRP$'), ('names', 'NNS'), ('jake', 'VBP'), ('.', '.')]]"
      ]
     },
     "execution_count": 49,
     "metadata": {},
     "output_type": "execute_result"
    }
   ],
   "source": [
    "essays_r['sent_pos_tagged'] = with_pickle('pickles/pos_tagged_r.pickle', lambda : essays_r.sent_tokenized.apply(pos_tag_sents))\n",
    "essays_r.sent_pos_tagged[5][:1]"
   ]
  },
  {
   "cell_type": "markdown",
   "metadata": {},
   "source": [
    "### Feature Modelling"
   ]
  },
  {
   "cell_type": "code",
   "execution_count": 50,
   "metadata": {},
   "outputs": [],
   "source": [
    "stop_words = set(stopwords.words('english'))\n",
    "# List speach parts that will be analysed by classifiers\n",
    "allowed_word_types = ['JJ', 'JJR', 'JJS', 'RB', 'RBR', 'RBS']"
   ]
  },
  {
   "cell_type": "code",
   "execution_count": 51,
   "metadata": {},
   "outputs": [],
   "source": [
    "def most_common(dataset):   \n",
    "    # Create list of most common words\n",
    "    all_words = []\n",
    "    for names, cell_values in dataset.sent_pos_tagged.iteritems():\n",
    "        for sentence in cell_values:\n",
    "            for word, part_of_speach in sentence:\n",
    "                if not word in stop_words and part_of_speach in allowed_word_types:\n",
    "                    all_words.append(word)\n",
    "\n",
    "    # Count number of occurances for each word and sort in desc. order\n",
    "    all_words = nltk.FreqDist(all_words)\n",
    "\n",
    "    # Take most common from all available words\n",
    "    most_common = list(all_words.keys())[:4000]\n",
    "\n",
    "    return most_common"
   ]
  },
  {
   "cell_type": "code",
   "execution_count": 52,
   "metadata": {},
   "outputs": [
    {
     "data": {
      "text/plain": [
       "['intellectual',\n",
       " 'dumbest',\n",
       " 'smart',\n",
       " 'smartest',\n",
       " 'dumb',\n",
       " \"n't\",\n",
       " 'odd',\n",
       " 'instead',\n",
       " 'underwater',\n",
       " 'favorite']"
      ]
     },
     "execution_count": 52,
     "metadata": {},
     "output_type": "execute_result"
    }
   ],
   "source": [
    "most_common_a = most_common(essays_a)\n",
    "most_common_a[:10]"
   ]
  },
  {
   "cell_type": "code",
   "execution_count": 53,
   "metadata": {},
   "outputs": [
    {
     "data": {
      "text/plain": [
       "['intellectual',\n",
       " 'dumbest',\n",
       " 'smart',\n",
       " 'smartest',\n",
       " 'dumb',\n",
       " \"n't\",\n",
       " 'odd',\n",
       " 'instead',\n",
       " 'underwater',\n",
       " 'favorite']"
      ]
     },
     "execution_count": 53,
     "metadata": {},
     "output_type": "execute_result"
    }
   ],
   "source": [
    "most_common_r = most_common(essays_r)\n",
    "most_common_r[:10]"
   ]
  },
  {
   "cell_type": "code",
   "execution_count": 54,
   "metadata": {},
   "outputs": [],
   "source": [
    "# Create a dictionary where word has value True if it is in list of most common\n",
    "def find_features(sentences, most_common):\n",
    "    words = [word for sentence in sentences for word in sentence]\n",
    "    features = {}\n",
    "    for word in most_common:\n",
    "        features[word] = word in words\n",
    "    return features\n",
    "\n",
    "def find_features_in_df(dataset, most_common, column):\n",
    "    return dataset.apply(lambda row: (find_features(row['sent_tokenized'], most_common), row[column]), axis=1)"
   ]
  },
  {
   "cell_type": "code",
   "execution_count": 55,
   "metadata": {},
   "outputs": [],
   "source": [
    "feature_sets_a = with_pickle('pickles/find_features_a.pickle', lambda : find_features_in_df(essays_a, most_common_a, column = 'age'))"
   ]
  },
  {
   "cell_type": "code",
   "execution_count": 56,
   "metadata": {},
   "outputs": [
    {
     "data": {
      "text/plain": [
       "0        ({'intellectual': True, 'dumbest': True, 'smar...\n",
       "1        ({'intellectual': False, 'dumbest': False, 'sm...\n",
       "2        ({'intellectual': True, 'dumbest': False, 'sma...\n",
       "3        ({'intellectual': False, 'dumbest': False, 'sm...\n",
       "4        ({'intellectual': False, 'dumbest': False, 'sm...\n",
       "                               ...                        \n",
       "57624    ({'intellectual': False, 'dumbest': False, 'sm...\n",
       "57625    ({'intellectual': False, 'dumbest': False, 'sm...\n",
       "57626    ({'intellectual': False, 'dumbest': False, 'sm...\n",
       "57627    ({'intellectual': False, 'dumbest': False, 'sm...\n",
       "57628    ({'intellectual': False, 'dumbest': False, 'sm...\n",
       "Length: 57629, dtype: object"
      ]
     },
     "execution_count": 56,
     "metadata": {},
     "output_type": "execute_result"
    }
   ],
   "source": [
    "feature_sets_a"
   ]
  },
  {
   "cell_type": "code",
   "execution_count": 57,
   "metadata": {},
   "outputs": [],
   "source": [
    "feature_sets_r = with_pickle('pickles/find_features_r.pickle', lambda : find_features_in_df(essays_r, most_common_r, column='num_religion'))"
   ]
  },
  {
   "cell_type": "code",
   "execution_count": 58,
   "metadata": {},
   "outputs": [
    {
     "data": {
      "text/plain": [
       "0        ({'intellectual': True, 'dumbest': True, 'smar...\n",
       "1        ({'intellectual': False, 'dumbest': False, 'sm...\n",
       "2        ({'intellectual': False, 'dumbest': False, 'sm...\n",
       "3        ({'intellectual': False, 'dumbest': False, 'sm...\n",
       "4        ({'intellectual': False, 'dumbest': False, 'sm...\n",
       "                               ...                        \n",
       "38594    ({'intellectual': False, 'dumbest': False, 'sm...\n",
       "38595    ({'intellectual': False, 'dumbest': False, 'sm...\n",
       "38596    ({'intellectual': False, 'dumbest': False, 'sm...\n",
       "38597    ({'intellectual': False, 'dumbest': False, 'sm...\n",
       "38598    ({'intellectual': False, 'dumbest': False, 'sm...\n",
       "Length: 38599, dtype: object"
      ]
     },
     "execution_count": 58,
     "metadata": {},
     "output_type": "execute_result"
    }
   ],
   "source": [
    "feature_sets_r"
   ]
  },
  {
   "cell_type": "code",
   "execution_count": 59,
   "metadata": {},
   "outputs": [],
   "source": [
    "# Create training set from the list of marked words\n",
    "training_sets_a = feature_sets_a[:57000]\n",
    "# Create training set from the list of marked words\n",
    "training_sets_r = feature_sets_r[:38000]\n",
    "\n",
    "# Create testing set from the list of marked words that are not in training set\n",
    "testing_sets_a = feature_sets_a[57000:]\n",
    "testing_sets_r = feature_sets_r[38000:]"
   ]
  },
  {
   "cell_type": "code",
   "execution_count": 60,
   "metadata": {},
   "outputs": [],
   "source": [
    "Naive_Bayes_classifier_a = with_pickle('pickles/nb_classifier.pickle', lambda : nltk.NaiveBayesClassifier.train(training_sets_a))"
   ]
  },
  {
   "cell_type": "code",
   "execution_count": 61,
   "metadata": {},
   "outputs": [
    {
     "data": {
      "text/plain": [
       "57.710651828298886"
      ]
     },
     "execution_count": 61,
     "metadata": {},
     "output_type": "execute_result"
    }
   ],
   "source": [
    "nltk.classify.accuracy(Naive_Bayes_classifier_a, testing_sets_a)*100"
   ]
  },
  {
   "cell_type": "code",
   "execution_count": 62,
   "metadata": {},
   "outputs": [],
   "source": [
    "LogisticRegression_classifier_a = with_pickle('pickles/logistic_regr_classifier.pickle', lambda : SklearnClassifier(LogisticRegression(max_iter = 5000)).train(training_sets_a))"
   ]
  },
  {
   "cell_type": "code",
   "execution_count": 63,
   "metadata": {},
   "outputs": [
    {
     "data": {
      "text/plain": [
       "64.06995230524643"
      ]
     },
     "execution_count": 63,
     "metadata": {},
     "output_type": "execute_result"
    }
   ],
   "source": [
    "nltk.classify.accuracy(LogisticRegression_classifier_a, testing_sets_a)*100"
   ]
  },
  {
   "cell_type": "code",
   "execution_count": 64,
   "metadata": {},
   "outputs": [],
   "source": [
    "LinearSVC_classifier_a = with_pickle('pickles/linear_svc_classifier.pickle', lambda : SklearnClassifier(LinearSVC(max_iter = 10000)).train(training_sets_a))"
   ]
  },
  {
   "cell_type": "code",
   "execution_count": 65,
   "metadata": {},
   "outputs": [
    {
     "data": {
      "text/plain": [
       "63.27503974562798"
      ]
     },
     "execution_count": 65,
     "metadata": {},
     "output_type": "execute_result"
    }
   ],
   "source": [
    "nltk.classify.accuracy(LinearSVC_classifier_a, testing_sets_a)*100"
   ]
  },
  {
   "cell_type": "code",
   "execution_count": 66,
   "metadata": {},
   "outputs": [],
   "source": [
    "Naive_Bayes_classifier_r = with_pickle('pickles/nb_classifier_r.pickle', lambda : nltk.NaiveBayesClassifier.train(training_sets_r))"
   ]
  },
  {
   "cell_type": "code",
   "execution_count": 67,
   "metadata": {},
   "outputs": [
    {
     "data": {
      "text/plain": [
       "24.707846410684475"
      ]
     },
     "execution_count": 67,
     "metadata": {},
     "output_type": "execute_result"
    }
   ],
   "source": [
    "nltk.classify.accuracy(Naive_Bayes_classifier_r, testing_sets_r)*100"
   ]
  },
  {
   "cell_type": "code",
   "execution_count": 68,
   "metadata": {},
   "outputs": [],
   "source": [
    "LogisticRegression_classifier_r = with_pickle('pickles/logistic_regr_classifier_r.pickle', lambda : SklearnClassifier(LogisticRegression(max_iter = 5000)).train(training_sets_r))"
   ]
  },
  {
   "cell_type": "code",
   "execution_count": 69,
   "metadata": {},
   "outputs": [
    {
     "data": {
      "text/plain": [
       "17.170111287758345"
      ]
     },
     "execution_count": 69,
     "metadata": {},
     "output_type": "execute_result"
    }
   ],
   "source": [
    "nltk.classify.accuracy(LogisticRegression_classifier_r, testing_sets_a)*100"
   ]
  },
  {
   "cell_type": "code",
   "execution_count": 70,
   "metadata": {},
   "outputs": [],
   "source": [
    "LinearSVC_classifier_r = with_pickle('pickles/linear_svc_classifier_r.pickle', lambda : SklearnClassifier(LinearSVC(max_iter = 7000)).train(training_sets_r))"
   ]
  },
  {
   "cell_type": "code",
   "execution_count": 71,
   "metadata": {},
   "outputs": [
    {
     "data": {
      "text/plain": [
       "29.04841402337229"
      ]
     },
     "execution_count": 71,
     "metadata": {},
     "output_type": "execute_result"
    }
   ],
   "source": [
    "nltk.classify.accuracy(LinearSVC_classifier_r, testing_sets_r)*100"
   ]
  },
  {
   "cell_type": "code",
   "execution_count": 72,
   "metadata": {},
   "outputs": [],
   "source": [
    "class VoteClassifier(ClassifierI):\n",
    "    def __init__(self, *classifiers):\n",
    "        self._classifiers = classifiers\n",
    "    # Determine whether review is positive or negative\n",
    "    def classify(self, features):\n",
    "        votes = []\n",
    "        for classifier in self._classifiers:\n",
    "            vote = classifier.classify(features)\n",
    "            votes.append(vote)\n",
    "        return mode(votes)\n",
    "    # Give confidence percentages\n",
    "    def confidence(self, features):\n",
    "        votes = []\n",
    "        for classifier in self._classifiers:\n",
    "            vote = classifier.classify(features)\n",
    "            votes.append(vote)\n",
    "        chosen_votes = votes.count(mode(votes))\n",
    "        conf = chosen_votes / len(votes)\n",
    "        return conf\n",
    "\n",
    "voted_classifier_age = VoteClassifier(\n",
    "    Naive_Bayes_classifier_a,\n",
    "    LogisticRegression_classifier_a,\n",
    "    LinearSVC_classifier_a\n",
    "    )\n",
    "\n",
    "voted_classifier_relig = VoteClassifier(\n",
    "    Naive_Bayes_classifier_r,\n",
    "    LogisticRegression_classifier_r,\n",
    "    LinearSVC_classifier_r\n",
    "    )"
   ]
  },
  {
   "cell_type": "code",
   "execution_count": 73,
   "metadata": {},
   "outputs": [
    {
     "data": {
      "text/plain": [
       "63.27503974562798"
      ]
     },
     "execution_count": 73,
     "metadata": {},
     "output_type": "execute_result"
    }
   ],
   "source": [
    "nltk.classify.accuracy(voted_classifier_age, testing_sets_a)*100"
   ]
  },
  {
   "cell_type": "code",
   "execution_count": 74,
   "metadata": {},
   "outputs": [
    {
     "data": {
      "text/plain": [
       "29.883138564273793"
      ]
     },
     "execution_count": 74,
     "metadata": {},
     "output_type": "execute_result"
    }
   ],
   "source": [
    "nltk.classify.accuracy(voted_classifier_relig, testing_sets_r)*100"
   ]
  },
  {
   "cell_type": "code",
   "execution_count": 75,
   "metadata": {},
   "outputs": [
    {
     "name": "stdout",
     "output_type": "stream",
     "text": [
      "Age\n",
      "Classification of the review #57620: 2.0\n",
      "Confidence in %: 66.66666666666666\n",
      "--------\n",
      "Age\n",
      "Classification of the review #57621: 2.0\n",
      "Confidence in %: 66.66666666666666\n",
      "--------\n",
      "Age\n",
      "Classification of the review #57622: 3.0\n",
      "Confidence in %: 100.0\n",
      "--------\n",
      "Age\n",
      "Classification of the review #57623: 2.0\n",
      "Confidence in %: 100.0\n",
      "--------\n",
      "Age\n",
      "Classification of the review #57624: 4.0\n",
      "Confidence in %: 100.0\n",
      "--------\n",
      "Age\n",
      "Classification of the review #57625: 1.0\n",
      "Confidence in %: 100.0\n",
      "--------\n",
      "Age\n",
      "Classification of the review #57626: 2.0\n",
      "Confidence in %: 100.0\n",
      "--------\n",
      "Age\n",
      "Classification of the review #57627: 1.0\n",
      "Confidence in %: 100.0\n",
      "--------\n"
     ]
    }
   ],
   "source": [
    "for x in range(57620, 57628):\n",
    "    print('Age')\n",
    "    print(f'Classification of the review #{x}:', voted_classifier_age.classify(testing_sets_a[x][0]))\n",
    "    print('Confidence in %:', voted_classifier_age.confidence(testing_sets_a[x][0])*100)\n",
    "    print('--------')"
   ]
  },
  {
   "cell_type": "code",
   "execution_count": 76,
   "metadata": {},
   "outputs": [
    {
     "data": {
      "text/html": [
       "<div>\n",
       "<style scoped>\n",
       "    .dataframe tbody tr th:only-of-type {\n",
       "        vertical-align: middle;\n",
       "    }\n",
       "\n",
       "    .dataframe tbody tr th {\n",
       "        vertical-align: top;\n",
       "    }\n",
       "\n",
       "    .dataframe thead th {\n",
       "        text-align: right;\n",
       "    }\n",
       "</style>\n",
       "<table border=\"1\" class=\"dataframe\">\n",
       "  <thead>\n",
       "    <tr style=\"text-align: right;\">\n",
       "      <th></th>\n",
       "      <th>age</th>\n",
       "      <th>essays_combined</th>\n",
       "      <th>sent_tokenized</th>\n",
       "      <th>sent_pos_tagged</th>\n",
       "    </tr>\n",
       "  </thead>\n",
       "  <tbody>\n",
       "    <tr>\n",
       "      <th>57620</th>\n",
       "      <td>2.0</td>\n",
       "      <td>a cautious photo for a cautious dude (i'm havi...</td>\n",
       "      <td>[[a, cautious, photo, for, a, cautious, dude, ...</td>\n",
       "      <td>[[(a, DT), (cautious, JJ), (photo, NN), (for, ...</td>\n",
       "    </tr>\n",
       "    <tr>\n",
       "      <th>57621</th>\n",
       "      <td>3.0</td>\n",
       "      <td>i was born, raised and live in the san francis...</td>\n",
       "      <td>[[i, was, born, ,, raised, and, live, in, the,...</td>\n",
       "      <td>[[(i, NN), (was, VBD), (born, VBN), (,, ,), (r...</td>\n",
       "    </tr>\n",
       "    <tr>\n",
       "      <th>57622</th>\n",
       "      <td>3.0</td>\n",
       "      <td>hi there and thanks for checking out my profil...</td>\n",
       "      <td>[[hi, there, and, thanks, for, checking, out, ...</td>\n",
       "      <td>[[(hi, NN), (there, EX), (and, CC), (thanks, N...</td>\n",
       "    </tr>\n",
       "    <tr>\n",
       "      <th>57623</th>\n",
       "      <td>2.0</td>\n",
       "      <td>real deal: i am sensitive (sorry, tears includ...</td>\n",
       "      <td>[[real, deal, :, i, am, sensitive, (, sorry, ,...</td>\n",
       "      <td>[[(real, JJ), (deal, NN), (:, :), (i, NN), (am...</td>\n",
       "    </tr>\n",
       "    <tr>\n",
       "      <th>57624</th>\n",
       "      <td>3.0</td>\n",
       "      <td>vibrant, expressive, caring optimist. i love b...</td>\n",
       "      <td>[[vibrant, ,, expressive, ,, caring, optimist,...</td>\n",
       "      <td>[[(vibrant, NN), (,, ,), (expressive, JJ), (,,...</td>\n",
       "    </tr>\n",
       "    <tr>\n",
       "      <th>57625</th>\n",
       "      <td>1.0</td>\n",
       "      <td>i'm nick. i never know what to write about mys...</td>\n",
       "      <td>[[i, 'm, nick, .], [i, never, know, what, to, ...</td>\n",
       "      <td>[[(i, NN), ('m, VBP), (nick, JJ), (., .)], [(i...</td>\n",
       "    </tr>\n",
       "    <tr>\n",
       "      <th>57626</th>\n",
       "      <td>3.0</td>\n",
       "      <td>hello! i enjoy traveling, watching movies, and...</td>\n",
       "      <td>[[hello, !], [i, enjoy, traveling, ,, watching...</td>\n",
       "      <td>[[(hello, NN), (!, .)], [(i, NN), (enjoy, VBP)...</td>\n",
       "    </tr>\n",
       "    <tr>\n",
       "      <th>57627</th>\n",
       "      <td>1.0</td>\n",
       "      <td>\"all i have in this world are my balls and my ...</td>\n",
       "      <td>[[``, all, i, have, in, this, world, are, my, ...</td>\n",
       "      <td>[[(``, ``), (all, DT), (i, NNS), (have, VBP), ...</td>\n",
       "    </tr>\n",
       "  </tbody>\n",
       "</table>\n",
       "</div>"
      ],
      "text/plain": [
       "       age                                    essays_combined  \\\n",
       "57620  2.0  a cautious photo for a cautious dude (i'm havi...   \n",
       "57621  3.0  i was born, raised and live in the san francis...   \n",
       "57622  3.0  hi there and thanks for checking out my profil...   \n",
       "57623  2.0  real deal: i am sensitive (sorry, tears includ...   \n",
       "57624  3.0  vibrant, expressive, caring optimist. i love b...   \n",
       "57625  1.0  i'm nick. i never know what to write about mys...   \n",
       "57626  3.0  hello! i enjoy traveling, watching movies, and...   \n",
       "57627  1.0  \"all i have in this world are my balls and my ...   \n",
       "\n",
       "                                          sent_tokenized  \\\n",
       "57620  [[a, cautious, photo, for, a, cautious, dude, ...   \n",
       "57621  [[i, was, born, ,, raised, and, live, in, the,...   \n",
       "57622  [[hi, there, and, thanks, for, checking, out, ...   \n",
       "57623  [[real, deal, :, i, am, sensitive, (, sorry, ,...   \n",
       "57624  [[vibrant, ,, expressive, ,, caring, optimist,...   \n",
       "57625  [[i, 'm, nick, .], [i, never, know, what, to, ...   \n",
       "57626  [[hello, !], [i, enjoy, traveling, ,, watching...   \n",
       "57627  [[``, all, i, have, in, this, world, are, my, ...   \n",
       "\n",
       "                                         sent_pos_tagged  \n",
       "57620  [[(a, DT), (cautious, JJ), (photo, NN), (for, ...  \n",
       "57621  [[(i, NN), (was, VBD), (born, VBN), (,, ,), (r...  \n",
       "57622  [[(hi, NN), (there, EX), (and, CC), (thanks, N...  \n",
       "57623  [[(real, JJ), (deal, NN), (:, :), (i, NN), (am...  \n",
       "57624  [[(vibrant, NN), (,, ,), (expressive, JJ), (,,...  \n",
       "57625  [[(i, NN), ('m, VBP), (nick, JJ), (., .)], [(i...  \n",
       "57626  [[(hello, NN), (!, .)], [(i, NN), (enjoy, VBP)...  \n",
       "57627  [[(``, ``), (all, DT), (i, NNS), (have, VBP), ...  "
      ]
     },
     "execution_count": 76,
     "metadata": {},
     "output_type": "execute_result"
    }
   ],
   "source": [
    "essays_a[57620:57628]"
   ]
  },
  {
   "cell_type": "code",
   "execution_count": 77,
   "metadata": {},
   "outputs": [
    {
     "name": "stdout",
     "output_type": "stream",
     "text": [
      "Religion\n",
      "Classification of the review #38590: 2.0\n",
      "Confidence in %: 66.66666666666666\n",
      "--------\n",
      "Religion\n",
      "Classification of the review #38591: 4.0\n",
      "Confidence in %: 33.33333333333333\n",
      "--------\n",
      "Religion\n",
      "Classification of the review #38592: 0.0\n",
      "Confidence in %: 66.66666666666666\n",
      "--------\n",
      "Religion\n",
      "Classification of the review #38593: 3.0\n",
      "Confidence in %: 100.0\n",
      "--------\n",
      "Religion\n",
      "Classification of the review #38594: 2.0\n",
      "Confidence in %: 100.0\n",
      "--------\n",
      "Religion\n",
      "Classification of the review #38595: 1.0\n",
      "Confidence in %: 100.0\n",
      "--------\n",
      "Religion\n",
      "Classification of the review #38596: 2.0\n",
      "Confidence in %: 100.0\n",
      "--------\n",
      "Religion\n",
      "Classification of the review #38597: 4.0\n",
      "Confidence in %: 33.33333333333333\n",
      "--------\n"
     ]
    }
   ],
   "source": [
    "for x in range(38590, 38598):\n",
    "    print('Religion')\n",
    "    print(f'Classification of the review #{x}:', voted_classifier_relig.classify(testing_sets_r[x][0]))\n",
    "    print('Confidence in %:', voted_classifier_relig.confidence(testing_sets_r[x][0])*100)\n",
    "    print('--------')"
   ]
  },
  {
   "cell_type": "code",
   "execution_count": 78,
   "metadata": {},
   "outputs": [
    {
     "data": {
      "text/html": [
       "<div>\n",
       "<style scoped>\n",
       "    .dataframe tbody tr th:only-of-type {\n",
       "        vertical-align: middle;\n",
       "    }\n",
       "\n",
       "    .dataframe tbody tr th {\n",
       "        vertical-align: top;\n",
       "    }\n",
       "\n",
       "    .dataframe thead th {\n",
       "        text-align: right;\n",
       "    }\n",
       "</style>\n",
       "<table border=\"1\" class=\"dataframe\">\n",
       "  <thead>\n",
       "    <tr style=\"text-align: right;\">\n",
       "      <th></th>\n",
       "      <th>num_religion</th>\n",
       "      <th>essays_combined</th>\n",
       "      <th>sent_tokenized</th>\n",
       "      <th>sent_pos_tagged</th>\n",
       "    </tr>\n",
       "  </thead>\n",
       "  <tbody>\n",
       "    <tr>\n",
       "      <th>38590</th>\n",
       "      <td>1.0</td>\n",
       "      <td>nan nan nan my infectious laugh :) nan nan nan...</td>\n",
       "      <td>[[nan, nan, nan, my, infectious, laugh, :, ), ...</td>\n",
       "      <td>[[(nan, JJ), (nan, NN), (nan, IN), (my, PRP$),...</td>\n",
       "    </tr>\n",
       "    <tr>\n",
       "      <th>38591</th>\n",
       "      <td>6.0</td>\n",
       "      <td>a cautious photo for a cautious dude (i'm havi...</td>\n",
       "      <td>[[a, cautious, photo, for, a, cautious, dude, ...</td>\n",
       "      <td>[[(a, DT), (cautious, JJ), (photo, NN), (for, ...</td>\n",
       "    </tr>\n",
       "    <tr>\n",
       "      <th>38592</th>\n",
       "      <td>3.0</td>\n",
       "      <td>i was born, raised and live in the san francis...</td>\n",
       "      <td>[[i, was, born, ,, raised, and, live, in, the,...</td>\n",
       "      <td>[[(i, NN), (was, VBD), (born, VBN), (,, ,), (r...</td>\n",
       "    </tr>\n",
       "    <tr>\n",
       "      <th>38593</th>\n",
       "      <td>0.0</td>\n",
       "      <td>real deal: i am sensitive (sorry, tears includ...</td>\n",
       "      <td>[[real, deal, :, i, am, sensitive, (, sorry, ,...</td>\n",
       "      <td>[[(real, JJ), (deal, NN), (:, :), (i, NN), (am...</td>\n",
       "    </tr>\n",
       "    <tr>\n",
       "      <th>38594</th>\n",
       "      <td>4.0</td>\n",
       "      <td>vibrant, expressive, caring optimist. i love b...</td>\n",
       "      <td>[[vibrant, ,, expressive, ,, caring, optimist,...</td>\n",
       "      <td>[[(vibrant, NN), (,, ,), (expressive, JJ), (,,...</td>\n",
       "    </tr>\n",
       "    <tr>\n",
       "      <th>38595</th>\n",
       "      <td>0.0</td>\n",
       "      <td>i'm nick. i never know what to write about mys...</td>\n",
       "      <td>[[i, 'm, nick, .], [i, never, know, what, to, ...</td>\n",
       "      <td>[[(i, NN), ('m, VBP), (nick, JJ), (., .)], [(i...</td>\n",
       "    </tr>\n",
       "    <tr>\n",
       "      <th>38596</th>\n",
       "      <td>2.0</td>\n",
       "      <td>hello! i enjoy traveling, watching movies, and...</td>\n",
       "      <td>[[hello, !], [i, enjoy, traveling, ,, watching...</td>\n",
       "      <td>[[(hello, NN), (!, .)], [(i, NN), (enjoy, VBP)...</td>\n",
       "    </tr>\n",
       "    <tr>\n",
       "      <th>38597</th>\n",
       "      <td>0.0</td>\n",
       "      <td>\"all i have in this world are my balls and my ...</td>\n",
       "      <td>[[``, all, i, have, in, this, world, are, my, ...</td>\n",
       "      <td>[[(``, ``), (all, DT), (i, NNS), (have, VBP), ...</td>\n",
       "    </tr>\n",
       "  </tbody>\n",
       "</table>\n",
       "</div>"
      ],
      "text/plain": [
       "       num_religion                                    essays_combined  \\\n",
       "38590           1.0  nan nan nan my infectious laugh :) nan nan nan...   \n",
       "38591           6.0  a cautious photo for a cautious dude (i'm havi...   \n",
       "38592           3.0  i was born, raised and live in the san francis...   \n",
       "38593           0.0  real deal: i am sensitive (sorry, tears includ...   \n",
       "38594           4.0  vibrant, expressive, caring optimist. i love b...   \n",
       "38595           0.0  i'm nick. i never know what to write about mys...   \n",
       "38596           2.0  hello! i enjoy traveling, watching movies, and...   \n",
       "38597           0.0  \"all i have in this world are my balls and my ...   \n",
       "\n",
       "                                          sent_tokenized  \\\n",
       "38590  [[nan, nan, nan, my, infectious, laugh, :, ), ...   \n",
       "38591  [[a, cautious, photo, for, a, cautious, dude, ...   \n",
       "38592  [[i, was, born, ,, raised, and, live, in, the,...   \n",
       "38593  [[real, deal, :, i, am, sensitive, (, sorry, ,...   \n",
       "38594  [[vibrant, ,, expressive, ,, caring, optimist,...   \n",
       "38595  [[i, 'm, nick, .], [i, never, know, what, to, ...   \n",
       "38596  [[hello, !], [i, enjoy, traveling, ,, watching...   \n",
       "38597  [[``, all, i, have, in, this, world, are, my, ...   \n",
       "\n",
       "                                         sent_pos_tagged  \n",
       "38590  [[(nan, JJ), (nan, NN), (nan, IN), (my, PRP$),...  \n",
       "38591  [[(a, DT), (cautious, JJ), (photo, NN), (for, ...  \n",
       "38592  [[(i, NN), (was, VBD), (born, VBN), (,, ,), (r...  \n",
       "38593  [[(real, JJ), (deal, NN), (:, :), (i, NN), (am...  \n",
       "38594  [[(vibrant, NN), (,, ,), (expressive, JJ), (,,...  \n",
       "38595  [[(i, NN), ('m, VBP), (nick, JJ), (., .)], [(i...  \n",
       "38596  [[(hello, NN), (!, .)], [(i, NN), (enjoy, VBP)...  \n",
       "38597  [[(``, ``), (all, DT), (i, NNS), (have, VBP), ...  "
      ]
     },
     "execution_count": 78,
     "metadata": {},
     "output_type": "execute_result"
    }
   ],
   "source": [
    "essays_r[38590:38598]"
   ]
  },
  {
   "cell_type": "markdown",
   "metadata": {},
   "source": [
    "TBC"
   ]
  }
 ],
 "metadata": {
  "kernelspec": {
   "display_name": "Python 3.10.7 64-bit (microsoft store)",
   "language": "python",
   "name": "python3"
  },
  "language_info": {
   "codemirror_mode": {
    "name": "ipython",
    "version": 3
   },
   "file_extension": ".py",
   "mimetype": "text/x-python",
   "name": "python",
   "nbconvert_exporter": "python",
   "pygments_lexer": "ipython3",
   "version": "3.10.8"
  },
  "orig_nbformat": 4,
  "vscode": {
   "interpreter": {
    "hash": "a166e61b3f1e7b9ccc9f59f78d7cc3087a9ccbb0b1a7cff444b301613a633a54"
   }
  }
 },
 "nbformat": 4,
 "nbformat_minor": 2
}
