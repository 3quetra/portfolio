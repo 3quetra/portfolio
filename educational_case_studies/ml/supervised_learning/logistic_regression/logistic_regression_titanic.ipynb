{
 "cells": [
  {
   "cell_type": "markdown",
   "metadata": {},
   "source": [
    "# Predict Titanic Survival\n",
    "\n",
    "The RMS Titanic set sail on its maiden voyage in 1912, crossing the Atlantic from Southampton, England to New York City. The ship never completed the voyage, sinking to the bottom of the Atlantic Ocean after hitting an iceberg, bringing down 1,502 of 2,224 passengers onboard.\n",
    "\n",
    "The goal of this project is to create a Logistic Regression model that predicts which passengers survived the sinking of the Titanic, based on features like age, class and other relevant parameters.\n",
    "\n",
    "The data we will be using for training our model is provided by Kaggle.\n",
    "\n",
    "Columns description:\n",
    "\n",
    "- `PassengerId:` passenger identification number;\n",
    "- `Survived:` binary code, that denotes whether a passenger survived (1 - \"Yes\") or not (0 - \"No\").\n",
    "- `Pclass:` passenger class: 1 - 1st, 2 - 2nd, 3 - 3rd;\n",
    "- `Name:` passenger name;\n",
    "- `Sex:` passenger sex;\n",
    "- `Age:` passenger age;\n",
    "- `SibSp:` number of siblings/ spauses aboard;\n",
    "- `Parch:` number of parants/ children aboard;\n",
    "- `Ticket:` ticket number;\n",
    "- `Fare:` passenger fare (£);\n",
    "- `Cabin:` cabin number;\n",
    "- `Embarked:` port of embarcation (C- Cherbourg, S- Southampton,Q- Queenstown )\n",
    "\n",
    "\n",
    "## Exploring Data\n",
    "\n",
    "The file passengers.csv contains the data of 892 passengers onboard the Titanic when it sank that fateful day. Let’s begin by loading the data into a pandas DataFrame named `passengers`, then print it and inspect the columns. "
   ]
  },
  {
   "cell_type": "code",
   "execution_count": 283,
   "metadata": {},
   "outputs": [],
   "source": [
    "# Basic imports related to analysis\n",
    "import pandas as pd\n",
    "import numpy as np\n",
    "\n",
    "# Import for visualisation\n",
    "import matplotlib.pyplot as plt\n",
    "import seaborn as sns\n",
    "\n",
    "# Imports for ml\n",
    "from sklearn.linear_model import LogisticRegression\n",
    "from sklearn.model_selection import train_test_split\n",
    "from sklearn.preprocessing import StandardScaler\n",
    "\n",
    "# Imports related to evaluation\n",
    "from sklearn.metrics import classification_report"
   ]
  },
  {
   "cell_type": "code",
   "execution_count": 284,
   "metadata": {},
   "outputs": [
    {
     "data": {
      "text/html": [
       "<div>\n",
       "<style scoped>\n",
       "    .dataframe tbody tr th:only-of-type {\n",
       "        vertical-align: middle;\n",
       "    }\n",
       "\n",
       "    .dataframe tbody tr th {\n",
       "        vertical-align: top;\n",
       "    }\n",
       "\n",
       "    .dataframe thead th {\n",
       "        text-align: right;\n",
       "    }\n",
       "</style>\n",
       "<table border=\"1\" class=\"dataframe\">\n",
       "  <thead>\n",
       "    <tr style=\"text-align: right;\">\n",
       "      <th></th>\n",
       "      <th>PassengerId</th>\n",
       "      <th>Survived</th>\n",
       "      <th>Pclass</th>\n",
       "      <th>Name</th>\n",
       "      <th>Sex</th>\n",
       "      <th>Age</th>\n",
       "      <th>SibSp</th>\n",
       "      <th>Parch</th>\n",
       "      <th>Ticket</th>\n",
       "      <th>Fare</th>\n",
       "      <th>Cabin</th>\n",
       "      <th>Embarked</th>\n",
       "    </tr>\n",
       "  </thead>\n",
       "  <tbody>\n",
       "    <tr>\n",
       "      <th>0</th>\n",
       "      <td>1</td>\n",
       "      <td>0</td>\n",
       "      <td>3</td>\n",
       "      <td>Braund, Mr. Owen Harris</td>\n",
       "      <td>male</td>\n",
       "      <td>22.0</td>\n",
       "      <td>1</td>\n",
       "      <td>0</td>\n",
       "      <td>A/5 21171</td>\n",
       "      <td>7.2500</td>\n",
       "      <td>NaN</td>\n",
       "      <td>S</td>\n",
       "    </tr>\n",
       "    <tr>\n",
       "      <th>1</th>\n",
       "      <td>2</td>\n",
       "      <td>1</td>\n",
       "      <td>1</td>\n",
       "      <td>Cumings, Mrs. John Bradley (Florence Briggs Th...</td>\n",
       "      <td>female</td>\n",
       "      <td>38.0</td>\n",
       "      <td>1</td>\n",
       "      <td>0</td>\n",
       "      <td>PC 17599</td>\n",
       "      <td>71.2833</td>\n",
       "      <td>C85</td>\n",
       "      <td>C</td>\n",
       "    </tr>\n",
       "    <tr>\n",
       "      <th>2</th>\n",
       "      <td>3</td>\n",
       "      <td>1</td>\n",
       "      <td>3</td>\n",
       "      <td>Heikkinen, Miss. Laina</td>\n",
       "      <td>female</td>\n",
       "      <td>26.0</td>\n",
       "      <td>0</td>\n",
       "      <td>0</td>\n",
       "      <td>STON/O2. 3101282</td>\n",
       "      <td>7.9250</td>\n",
       "      <td>NaN</td>\n",
       "      <td>S</td>\n",
       "    </tr>\n",
       "    <tr>\n",
       "      <th>3</th>\n",
       "      <td>4</td>\n",
       "      <td>1</td>\n",
       "      <td>1</td>\n",
       "      <td>Futrelle, Mrs. Jacques Heath (Lily May Peel)</td>\n",
       "      <td>female</td>\n",
       "      <td>35.0</td>\n",
       "      <td>1</td>\n",
       "      <td>0</td>\n",
       "      <td>113803</td>\n",
       "      <td>53.1000</td>\n",
       "      <td>C123</td>\n",
       "      <td>S</td>\n",
       "    </tr>\n",
       "    <tr>\n",
       "      <th>4</th>\n",
       "      <td>5</td>\n",
       "      <td>0</td>\n",
       "      <td>3</td>\n",
       "      <td>Allen, Mr. William Henry</td>\n",
       "      <td>male</td>\n",
       "      <td>35.0</td>\n",
       "      <td>0</td>\n",
       "      <td>0</td>\n",
       "      <td>373450</td>\n",
       "      <td>8.0500</td>\n",
       "      <td>NaN</td>\n",
       "      <td>S</td>\n",
       "    </tr>\n",
       "    <tr>\n",
       "      <th>5</th>\n",
       "      <td>6</td>\n",
       "      <td>0</td>\n",
       "      <td>3</td>\n",
       "      <td>Moran, Mr. James</td>\n",
       "      <td>male</td>\n",
       "      <td>NaN</td>\n",
       "      <td>0</td>\n",
       "      <td>0</td>\n",
       "      <td>330877</td>\n",
       "      <td>8.4583</td>\n",
       "      <td>NaN</td>\n",
       "      <td>Q</td>\n",
       "    </tr>\n",
       "    <tr>\n",
       "      <th>6</th>\n",
       "      <td>7</td>\n",
       "      <td>0</td>\n",
       "      <td>1</td>\n",
       "      <td>McCarthy, Mr. Timothy J</td>\n",
       "      <td>male</td>\n",
       "      <td>54.0</td>\n",
       "      <td>0</td>\n",
       "      <td>0</td>\n",
       "      <td>17463</td>\n",
       "      <td>51.8625</td>\n",
       "      <td>E46</td>\n",
       "      <td>S</td>\n",
       "    </tr>\n",
       "    <tr>\n",
       "      <th>7</th>\n",
       "      <td>8</td>\n",
       "      <td>0</td>\n",
       "      <td>3</td>\n",
       "      <td>Palsson, Master. Gosta Leonard</td>\n",
       "      <td>male</td>\n",
       "      <td>2.0</td>\n",
       "      <td>3</td>\n",
       "      <td>1</td>\n",
       "      <td>349909</td>\n",
       "      <td>21.0750</td>\n",
       "      <td>NaN</td>\n",
       "      <td>S</td>\n",
       "    </tr>\n",
       "    <tr>\n",
       "      <th>8</th>\n",
       "      <td>9</td>\n",
       "      <td>1</td>\n",
       "      <td>3</td>\n",
       "      <td>Johnson, Mrs. Oscar W (Elisabeth Vilhelmina Berg)</td>\n",
       "      <td>female</td>\n",
       "      <td>27.0</td>\n",
       "      <td>0</td>\n",
       "      <td>2</td>\n",
       "      <td>347742</td>\n",
       "      <td>11.1333</td>\n",
       "      <td>NaN</td>\n",
       "      <td>S</td>\n",
       "    </tr>\n",
       "    <tr>\n",
       "      <th>9</th>\n",
       "      <td>10</td>\n",
       "      <td>1</td>\n",
       "      <td>2</td>\n",
       "      <td>Nasser, Mrs. Nicholas (Adele Achem)</td>\n",
       "      <td>female</td>\n",
       "      <td>14.0</td>\n",
       "      <td>1</td>\n",
       "      <td>0</td>\n",
       "      <td>237736</td>\n",
       "      <td>30.0708</td>\n",
       "      <td>NaN</td>\n",
       "      <td>C</td>\n",
       "    </tr>\n",
       "  </tbody>\n",
       "</table>\n",
       "</div>"
      ],
      "text/plain": [
       "   PassengerId  Survived  Pclass  \\\n",
       "0            1         0       3   \n",
       "1            2         1       1   \n",
       "2            3         1       3   \n",
       "3            4         1       1   \n",
       "4            5         0       3   \n",
       "5            6         0       3   \n",
       "6            7         0       1   \n",
       "7            8         0       3   \n",
       "8            9         1       3   \n",
       "9           10         1       2   \n",
       "\n",
       "                                                Name     Sex   Age  SibSp  \\\n",
       "0                            Braund, Mr. Owen Harris    male  22.0      1   \n",
       "1  Cumings, Mrs. John Bradley (Florence Briggs Th...  female  38.0      1   \n",
       "2                             Heikkinen, Miss. Laina  female  26.0      0   \n",
       "3       Futrelle, Mrs. Jacques Heath (Lily May Peel)  female  35.0      1   \n",
       "4                           Allen, Mr. William Henry    male  35.0      0   \n",
       "5                                   Moran, Mr. James    male   NaN      0   \n",
       "6                            McCarthy, Mr. Timothy J    male  54.0      0   \n",
       "7                     Palsson, Master. Gosta Leonard    male   2.0      3   \n",
       "8  Johnson, Mrs. Oscar W (Elisabeth Vilhelmina Berg)  female  27.0      0   \n",
       "9                Nasser, Mrs. Nicholas (Adele Achem)  female  14.0      1   \n",
       "\n",
       "   Parch            Ticket     Fare Cabin Embarked  \n",
       "0      0         A/5 21171   7.2500   NaN        S  \n",
       "1      0          PC 17599  71.2833   C85        C  \n",
       "2      0  STON/O2. 3101282   7.9250   NaN        S  \n",
       "3      0            113803  53.1000  C123        S  \n",
       "4      0            373450   8.0500   NaN        S  \n",
       "5      0            330877   8.4583   NaN        Q  \n",
       "6      0             17463  51.8625   E46        S  \n",
       "7      1            349909  21.0750   NaN        S  \n",
       "8      2            347742  11.1333   NaN        S  \n",
       "9      0            237736  30.0708   NaN        C  "
      ]
     },
     "execution_count": 284,
     "metadata": {},
     "output_type": "execute_result"
    }
   ],
   "source": [
    "# Load the passenger data\n",
    "passengers = pd.read_csv('passengers.csv')\n",
    "passengers.head(10)"
   ]
  },
  {
   "cell_type": "code",
   "execution_count": 204,
   "metadata": {},
   "outputs": [
    {
     "name": "stdout",
     "output_type": "stream",
     "text": [
      "<class 'pandas.core.frame.DataFrame'>\n",
      "RangeIndex: 891 entries, 0 to 890\n",
      "Data columns (total 12 columns):\n",
      " #   Column       Non-Null Count  Dtype  \n",
      "---  ------       --------------  -----  \n",
      " 0   PassengerId  891 non-null    int64  \n",
      " 1   Survived     891 non-null    int64  \n",
      " 2   Pclass       891 non-null    int64  \n",
      " 3   Name         891 non-null    object \n",
      " 4   Sex          891 non-null    object \n",
      " 5   Age          714 non-null    float64\n",
      " 6   SibSp        891 non-null    int64  \n",
      " 7   Parch        891 non-null    int64  \n",
      " 8   Ticket       891 non-null    object \n",
      " 9   Fare         891 non-null    float64\n",
      " 10  Cabin        204 non-null    object \n",
      " 11  Embarked     889 non-null    object \n",
      "dtypes: float64(2), int64(5), object(5)\n",
      "memory usage: 83.7+ KB\n"
     ]
    }
   ],
   "source": [
    "passengers.info()"
   ]
  },
  {
   "cell_type": "markdown",
   "metadata": {},
   "source": [
    "Let's print unique values of columns that have a low number of variations in their values to see if everything is ok there. "
   ]
  },
  {
   "cell_type": "code",
   "execution_count": 205,
   "metadata": {},
   "outputs": [
    {
     "name": "stdout",
     "output_type": "stream",
     "text": [
      "Pclass [3 1 2]\n",
      "SibSp [1 0 3 4 2 5 8]\n",
      "Parch [0 1 2 5 3 4 6]\n",
      "Sex ['male' 'female']\n",
      "Survived [0 1]\n",
      "Embarked ['S' 'C' 'Q' nan]\n"
     ]
    }
   ],
   "source": [
    "columns = ['Pclass', 'SibSp', 'Parch', 'Sex', 'Survived', 'Embarked']\n",
    "for i in range(len(columns)):\n",
    "    print(columns[i], passengers[columns[i]].unique())"
   ]
  },
  {
   "cell_type": "code",
   "execution_count": 206,
   "metadata": {},
   "outputs": [
    {
     "data": {
      "text/plain": [
       "array(['A/5 21171', 'PC 17599', 'STON/O2. 3101282', '113803', '373450',\n",
       "       '330877', '17463', '349909', '347742', '237736', 'PP 9549',\n",
       "       '113783', 'A/5. 2151', '347082', '350406', '248706', '382652',\n",
       "       '244373', '345763', '2649'], dtype=object)"
      ]
     },
     "execution_count": 206,
     "metadata": {},
     "output_type": "execute_result"
    }
   ],
   "source": [
    "passengers.Ticket.unique()[:20]"
   ]
  },
  {
   "cell_type": "code",
   "execution_count": 207,
   "metadata": {},
   "outputs": [
    {
     "data": {
      "text/plain": [
       "681"
      ]
     },
     "execution_count": 207,
     "metadata": {},
     "output_type": "execute_result"
    }
   ],
   "source": [
    "len(passengers.Ticket.unique())"
   ]
  },
  {
   "cell_type": "markdown",
   "metadata": {},
   "source": [
    "Result: \n",
    "- A lot of values are missing in the `Age` column, and we'll need this column for feature engineering, so we are going to deal with during feature engineering stage. \n",
    "- Much worse situation with the `Cabin`, most of the data is absent, so we won't be able to use it as a feature.  \n",
    "- The `Embarked` has some missing values, and we'll check its correlation with survival during feature engineering.\n",
    "- Situation with `Ticket`s is also complicated because there are `681`  unique tickets out of `981` data points and there is no obvious structure to them, so we'll set them aside for now.\n",
    "\n",
    "Let's check some statistics for this dataset."
   ]
  },
  {
   "cell_type": "code",
   "execution_count": 208,
   "metadata": {},
   "outputs": [
    {
     "data": {
      "text/html": [
       "<div>\n",
       "<style scoped>\n",
       "    .dataframe tbody tr th:only-of-type {\n",
       "        vertical-align: middle;\n",
       "    }\n",
       "\n",
       "    .dataframe tbody tr th {\n",
       "        vertical-align: top;\n",
       "    }\n",
       "\n",
       "    .dataframe thead th {\n",
       "        text-align: right;\n",
       "    }\n",
       "</style>\n",
       "<table border=\"1\" class=\"dataframe\">\n",
       "  <thead>\n",
       "    <tr style=\"text-align: right;\">\n",
       "      <th></th>\n",
       "      <th>PassengerId</th>\n",
       "      <th>Survived</th>\n",
       "      <th>Pclass</th>\n",
       "      <th>Age</th>\n",
       "      <th>SibSp</th>\n",
       "      <th>Parch</th>\n",
       "      <th>Fare</th>\n",
       "    </tr>\n",
       "  </thead>\n",
       "  <tbody>\n",
       "    <tr>\n",
       "      <th>count</th>\n",
       "      <td>891.000000</td>\n",
       "      <td>891.000000</td>\n",
       "      <td>891.000000</td>\n",
       "      <td>714.000000</td>\n",
       "      <td>891.000000</td>\n",
       "      <td>891.000000</td>\n",
       "      <td>891.000000</td>\n",
       "    </tr>\n",
       "    <tr>\n",
       "      <th>mean</th>\n",
       "      <td>446.000000</td>\n",
       "      <td>0.383838</td>\n",
       "      <td>2.308642</td>\n",
       "      <td>29.699118</td>\n",
       "      <td>0.523008</td>\n",
       "      <td>0.381594</td>\n",
       "      <td>32.204208</td>\n",
       "    </tr>\n",
       "    <tr>\n",
       "      <th>std</th>\n",
       "      <td>257.353842</td>\n",
       "      <td>0.486592</td>\n",
       "      <td>0.836071</td>\n",
       "      <td>14.526497</td>\n",
       "      <td>1.102743</td>\n",
       "      <td>0.806057</td>\n",
       "      <td>49.693429</td>\n",
       "    </tr>\n",
       "    <tr>\n",
       "      <th>min</th>\n",
       "      <td>1.000000</td>\n",
       "      <td>0.000000</td>\n",
       "      <td>1.000000</td>\n",
       "      <td>0.420000</td>\n",
       "      <td>0.000000</td>\n",
       "      <td>0.000000</td>\n",
       "      <td>0.000000</td>\n",
       "    </tr>\n",
       "    <tr>\n",
       "      <th>25%</th>\n",
       "      <td>223.500000</td>\n",
       "      <td>0.000000</td>\n",
       "      <td>2.000000</td>\n",
       "      <td>20.125000</td>\n",
       "      <td>0.000000</td>\n",
       "      <td>0.000000</td>\n",
       "      <td>7.910400</td>\n",
       "    </tr>\n",
       "    <tr>\n",
       "      <th>50%</th>\n",
       "      <td>446.000000</td>\n",
       "      <td>0.000000</td>\n",
       "      <td>3.000000</td>\n",
       "      <td>28.000000</td>\n",
       "      <td>0.000000</td>\n",
       "      <td>0.000000</td>\n",
       "      <td>14.454200</td>\n",
       "    </tr>\n",
       "    <tr>\n",
       "      <th>75%</th>\n",
       "      <td>668.500000</td>\n",
       "      <td>1.000000</td>\n",
       "      <td>3.000000</td>\n",
       "      <td>38.000000</td>\n",
       "      <td>1.000000</td>\n",
       "      <td>0.000000</td>\n",
       "      <td>31.000000</td>\n",
       "    </tr>\n",
       "    <tr>\n",
       "      <th>max</th>\n",
       "      <td>891.000000</td>\n",
       "      <td>1.000000</td>\n",
       "      <td>3.000000</td>\n",
       "      <td>80.000000</td>\n",
       "      <td>8.000000</td>\n",
       "      <td>6.000000</td>\n",
       "      <td>512.329200</td>\n",
       "    </tr>\n",
       "  </tbody>\n",
       "</table>\n",
       "</div>"
      ],
      "text/plain": [
       "       PassengerId    Survived      Pclass         Age       SibSp  \\\n",
       "count   891.000000  891.000000  891.000000  714.000000  891.000000   \n",
       "mean    446.000000    0.383838    2.308642   29.699118    0.523008   \n",
       "std     257.353842    0.486592    0.836071   14.526497    1.102743   \n",
       "min       1.000000    0.000000    1.000000    0.420000    0.000000   \n",
       "25%     223.500000    0.000000    2.000000   20.125000    0.000000   \n",
       "50%     446.000000    0.000000    3.000000   28.000000    0.000000   \n",
       "75%     668.500000    1.000000    3.000000   38.000000    1.000000   \n",
       "max     891.000000    1.000000    3.000000   80.000000    8.000000   \n",
       "\n",
       "            Parch        Fare  \n",
       "count  891.000000  891.000000  \n",
       "mean     0.381594   32.204208  \n",
       "std      0.806057   49.693429  \n",
       "min      0.000000    0.000000  \n",
       "25%      0.000000    7.910400  \n",
       "50%      0.000000   14.454200  \n",
       "75%      0.000000   31.000000  \n",
       "max      6.000000  512.329200  "
      ]
     },
     "execution_count": 208,
     "metadata": {},
     "output_type": "execute_result"
    }
   ],
   "source": [
    "passengers.describe()"
   ]
  },
  {
   "cell_type": "code",
   "execution_count": 209,
   "metadata": {},
   "outputs": [
    {
     "data": {
      "text/html": [
       "<div>\n",
       "<style scoped>\n",
       "    .dataframe tbody tr th:only-of-type {\n",
       "        vertical-align: middle;\n",
       "    }\n",
       "\n",
       "    .dataframe tbody tr th {\n",
       "        vertical-align: top;\n",
       "    }\n",
       "\n",
       "    .dataframe thead th {\n",
       "        text-align: right;\n",
       "    }\n",
       "</style>\n",
       "<table border=\"1\" class=\"dataframe\">\n",
       "  <thead>\n",
       "    <tr style=\"text-align: right;\">\n",
       "      <th></th>\n",
       "      <th>PassengerId</th>\n",
       "      <th>Survived</th>\n",
       "      <th>Pclass</th>\n",
       "      <th>Name</th>\n",
       "      <th>Sex</th>\n",
       "      <th>Age</th>\n",
       "      <th>SibSp</th>\n",
       "      <th>Parch</th>\n",
       "      <th>Ticket</th>\n",
       "      <th>Fare</th>\n",
       "      <th>Cabin</th>\n",
       "      <th>Embarked</th>\n",
       "    </tr>\n",
       "  </thead>\n",
       "  <tbody>\n",
       "    <tr>\n",
       "      <th>258</th>\n",
       "      <td>259</td>\n",
       "      <td>1</td>\n",
       "      <td>1</td>\n",
       "      <td>Ward, Miss. Anna</td>\n",
       "      <td>female</td>\n",
       "      <td>35.0</td>\n",
       "      <td>0</td>\n",
       "      <td>0</td>\n",
       "      <td>PC 17755</td>\n",
       "      <td>512.3292</td>\n",
       "      <td>NaN</td>\n",
       "      <td>C</td>\n",
       "    </tr>\n",
       "    <tr>\n",
       "      <th>737</th>\n",
       "      <td>738</td>\n",
       "      <td>1</td>\n",
       "      <td>1</td>\n",
       "      <td>Lesurer, Mr. Gustave J</td>\n",
       "      <td>male</td>\n",
       "      <td>35.0</td>\n",
       "      <td>0</td>\n",
       "      <td>0</td>\n",
       "      <td>PC 17755</td>\n",
       "      <td>512.3292</td>\n",
       "      <td>B101</td>\n",
       "      <td>C</td>\n",
       "    </tr>\n",
       "    <tr>\n",
       "      <th>679</th>\n",
       "      <td>680</td>\n",
       "      <td>1</td>\n",
       "      <td>1</td>\n",
       "      <td>Cardeza, Mr. Thomas Drake Martinez</td>\n",
       "      <td>male</td>\n",
       "      <td>36.0</td>\n",
       "      <td>0</td>\n",
       "      <td>1</td>\n",
       "      <td>PC 17755</td>\n",
       "      <td>512.3292</td>\n",
       "      <td>B51 B53 B55</td>\n",
       "      <td>C</td>\n",
       "    </tr>\n",
       "    <tr>\n",
       "      <th>88</th>\n",
       "      <td>89</td>\n",
       "      <td>1</td>\n",
       "      <td>1</td>\n",
       "      <td>Fortune, Miss. Mabel Helen</td>\n",
       "      <td>female</td>\n",
       "      <td>23.0</td>\n",
       "      <td>3</td>\n",
       "      <td>2</td>\n",
       "      <td>19950</td>\n",
       "      <td>263.0000</td>\n",
       "      <td>C23 C25 C27</td>\n",
       "      <td>S</td>\n",
       "    </tr>\n",
       "    <tr>\n",
       "      <th>27</th>\n",
       "      <td>28</td>\n",
       "      <td>0</td>\n",
       "      <td>1</td>\n",
       "      <td>Fortune, Mr. Charles Alexander</td>\n",
       "      <td>male</td>\n",
       "      <td>19.0</td>\n",
       "      <td>3</td>\n",
       "      <td>2</td>\n",
       "      <td>19950</td>\n",
       "      <td>263.0000</td>\n",
       "      <td>C23 C25 C27</td>\n",
       "      <td>S</td>\n",
       "    </tr>\n",
       "  </tbody>\n",
       "</table>\n",
       "</div>"
      ],
      "text/plain": [
       "     PassengerId  Survived  Pclass                                Name  \\\n",
       "258          259         1       1                    Ward, Miss. Anna   \n",
       "737          738         1       1              Lesurer, Mr. Gustave J   \n",
       "679          680         1       1  Cardeza, Mr. Thomas Drake Martinez   \n",
       "88            89         1       1          Fortune, Miss. Mabel Helen   \n",
       "27            28         0       1      Fortune, Mr. Charles Alexander   \n",
       "\n",
       "        Sex   Age  SibSp  Parch    Ticket      Fare        Cabin Embarked  \n",
       "258  female  35.0      0      0  PC 17755  512.3292          NaN        C  \n",
       "737    male  35.0      0      0  PC 17755  512.3292         B101        C  \n",
       "679    male  36.0      0      1  PC 17755  512.3292  B51 B53 B55        C  \n",
       "88   female  23.0      3      2     19950  263.0000  C23 C25 C27        S  \n",
       "27     male  19.0      3      2     19950  263.0000  C23 C25 C27        S  "
      ]
     },
     "execution_count": 209,
     "metadata": {},
     "output_type": "execute_result"
    }
   ],
   "source": [
    "passengers.sort_values('Fare', ascending=False).head(5)"
   ]
  },
  {
   "cell_type": "code",
   "execution_count": 210,
   "metadata": {},
   "outputs": [
    {
     "data": {
      "text/html": [
       "<div>\n",
       "<style scoped>\n",
       "    .dataframe tbody tr th:only-of-type {\n",
       "        vertical-align: middle;\n",
       "    }\n",
       "\n",
       "    .dataframe tbody tr th {\n",
       "        vertical-align: top;\n",
       "    }\n",
       "\n",
       "    .dataframe thead th {\n",
       "        text-align: right;\n",
       "    }\n",
       "</style>\n",
       "<table border=\"1\" class=\"dataframe\">\n",
       "  <thead>\n",
       "    <tr style=\"text-align: right;\">\n",
       "      <th></th>\n",
       "      <th>PassengerId</th>\n",
       "      <th>Survived</th>\n",
       "      <th>Pclass</th>\n",
       "      <th>Name</th>\n",
       "      <th>Sex</th>\n",
       "      <th>Age</th>\n",
       "      <th>SibSp</th>\n",
       "      <th>Parch</th>\n",
       "      <th>Ticket</th>\n",
       "      <th>Fare</th>\n",
       "      <th>Cabin</th>\n",
       "      <th>Embarked</th>\n",
       "    </tr>\n",
       "  </thead>\n",
       "  <tbody>\n",
       "    <tr>\n",
       "      <th>271</th>\n",
       "      <td>272</td>\n",
       "      <td>1</td>\n",
       "      <td>3</td>\n",
       "      <td>Tornquist, Mr. William Henry</td>\n",
       "      <td>male</td>\n",
       "      <td>25.0</td>\n",
       "      <td>0</td>\n",
       "      <td>0</td>\n",
       "      <td>LINE</td>\n",
       "      <td>0.0</td>\n",
       "      <td>NaN</td>\n",
       "      <td>S</td>\n",
       "    </tr>\n",
       "    <tr>\n",
       "      <th>597</th>\n",
       "      <td>598</td>\n",
       "      <td>0</td>\n",
       "      <td>3</td>\n",
       "      <td>Johnson, Mr. Alfred</td>\n",
       "      <td>male</td>\n",
       "      <td>49.0</td>\n",
       "      <td>0</td>\n",
       "      <td>0</td>\n",
       "      <td>LINE</td>\n",
       "      <td>0.0</td>\n",
       "      <td>NaN</td>\n",
       "      <td>S</td>\n",
       "    </tr>\n",
       "    <tr>\n",
       "      <th>302</th>\n",
       "      <td>303</td>\n",
       "      <td>0</td>\n",
       "      <td>3</td>\n",
       "      <td>Johnson, Mr. William Cahoone Jr</td>\n",
       "      <td>male</td>\n",
       "      <td>19.0</td>\n",
       "      <td>0</td>\n",
       "      <td>0</td>\n",
       "      <td>LINE</td>\n",
       "      <td>0.0</td>\n",
       "      <td>NaN</td>\n",
       "      <td>S</td>\n",
       "    </tr>\n",
       "    <tr>\n",
       "      <th>633</th>\n",
       "      <td>634</td>\n",
       "      <td>0</td>\n",
       "      <td>1</td>\n",
       "      <td>Parr, Mr. William Henry Marsh</td>\n",
       "      <td>male</td>\n",
       "      <td>NaN</td>\n",
       "      <td>0</td>\n",
       "      <td>0</td>\n",
       "      <td>112052</td>\n",
       "      <td>0.0</td>\n",
       "      <td>NaN</td>\n",
       "      <td>S</td>\n",
       "    </tr>\n",
       "    <tr>\n",
       "      <th>277</th>\n",
       "      <td>278</td>\n",
       "      <td>0</td>\n",
       "      <td>2</td>\n",
       "      <td>Parkes, Mr. Francis \"Frank\"</td>\n",
       "      <td>male</td>\n",
       "      <td>NaN</td>\n",
       "      <td>0</td>\n",
       "      <td>0</td>\n",
       "      <td>239853</td>\n",
       "      <td>0.0</td>\n",
       "      <td>NaN</td>\n",
       "      <td>S</td>\n",
       "    </tr>\n",
       "  </tbody>\n",
       "</table>\n",
       "</div>"
      ],
      "text/plain": [
       "     PassengerId  Survived  Pclass                             Name   Sex  \\\n",
       "271          272         1       3     Tornquist, Mr. William Henry  male   \n",
       "597          598         0       3              Johnson, Mr. Alfred  male   \n",
       "302          303         0       3  Johnson, Mr. William Cahoone Jr  male   \n",
       "633          634         0       1    Parr, Mr. William Henry Marsh  male   \n",
       "277          278         0       2      Parkes, Mr. Francis \"Frank\"  male   \n",
       "\n",
       "      Age  SibSp  Parch  Ticket  Fare Cabin Embarked  \n",
       "271  25.0      0      0    LINE   0.0   NaN        S  \n",
       "597  49.0      0      0    LINE   0.0   NaN        S  \n",
       "302  19.0      0      0    LINE   0.0   NaN        S  \n",
       "633   NaN      0      0  112052   0.0   NaN        S  \n",
       "277   NaN      0      0  239853   0.0   NaN        S  "
      ]
     },
     "execution_count": 210,
     "metadata": {},
     "output_type": "execute_result"
    }
   ],
   "source": [
    "passengers.sort_values('Fare', ascending=True).head(5)"
   ]
  },
  {
   "cell_type": "code",
   "execution_count": 211,
   "metadata": {},
   "outputs": [
    {
     "data": {
      "text/plain": [
       "15"
      ]
     },
     "execution_count": 211,
     "metadata": {},
     "output_type": "execute_result"
    }
   ],
   "source": [
    "len(passengers[passengers.Fare == 0])"
   ]
  },
  {
   "cell_type": "markdown",
   "metadata": {},
   "source": [
    "Result: There is an issue with the `Fare`, it appears that 3 passengers paid a lot more than others - about `512£`, and 15 paid `0£` for their tickets. That may affect visualizations and will create a huge bias that \"poor people are likely to die\" in our model, but right now our goal right now is to create model based on real data with all its inequalities, so let's proceed as it is for now later we will replace `0`s with relevant values not destirbing the current values distribution.\n",
    "\n",
    "## Feature Engineering\n",
    "\n",
    "Logistic regression is a supervised machine learning algorithm that predicts the probability, ranging from 0 to 1, of a data point belonging to a specific category, or class. These probabilities can then be used to assign, or classify, observations to the more probable group. As the name of this project suggests, we are going to estimate the chances of survival on Titanic, so our class of determination will be `Survived`. Consequently, our model will predict survival to be `0` meaning would not survive, and `1` - would survive, based on significant parameters or features. To find these features we'll analyse existing parameters to get a sense how well they suit our purposes and what additional tweaks should we make to make them better for our model.  \n",
    "\n",
    "Let's check correlations between `Survived` and other parameters on a heatmap to find potential features for our model. But before that we need to attend to our `Sex` and `Embarked` columns: to perform any calculations we need numerical values there. So let’s map the text values in the `Sex` and `Embarked` columns to numerical values. \n",
    "\n",
    "All values `female` will be replaced with `1` and all values `male` will be replaced with `0`."
   ]
  },
  {
   "cell_type": "code",
   "execution_count": 212,
   "metadata": {},
   "outputs": [],
   "source": [
    "# Update sex column to numerical\n",
    "passengers['Sex_num'] = passengers.Sex.map({'female': 1, 'male': 0})"
   ]
  },
  {
   "cell_type": "markdown",
   "metadata": {},
   "source": [
    "All values `S` will be replaced with `0`, all values `C` will be replaced with `1` and all values with `Q` will be replaced with `2`."
   ]
  },
  {
   "cell_type": "code",
   "execution_count": 213,
   "metadata": {},
   "outputs": [],
   "source": [
    "passengers['Embarked_num'] = passengers.Embarked.map({'S': 1, 'C': 2, 'Q': 3}).convert_dtypes()"
   ]
  },
  {
   "cell_type": "code",
   "execution_count": 214,
   "metadata": {},
   "outputs": [
    {
     "data": {
      "text/plain": [
       "<AxesSubplot:title={'center':\"Titanic's Passengers Parameters Correlation\"}>"
      ]
     },
     "execution_count": 214,
     "metadata": {},
     "output_type": "execute_result"
    },
    {
     "data": {
      "image/png": "[encoded data removed]",
      "text/plain": [
       "<Figure size 1512x864 with 2 Axes>"
      ]
     },
     "metadata": {},
     "output_type": "display_data"
    }
   ],
   "source": [
    "def visualise_heatmap(dataset_corr, corr_objects):\n",
    "    # Prepare figure\n",
    "    plt.figure(figsize = (21,12))\n",
    "\n",
    "    # Draw heatmap as triangle\n",
    "    mask = np.triu(np.ones_like(dataset_corr, dtype=bool))\n",
    "    # Add descriptions\n",
    "    plt.title(corr_objects, fontsize= 'x-large')\n",
    "    plt.xticks(rotation=45)\n",
    "\n",
    "    # Plot heatmap\n",
    "    heatmap = sns.heatmap(dataset_corr, annot=True, vmax=1, vmin=-1, cmap='rocket', mask=mask)\n",
    "    return heatmap\n",
    "\n",
    "visualise_heatmap(passengers.corr(), 'Titanic\\'s Passengers Parameters Correlation') "
   ]
  },
  {
   "cell_type": "markdown",
   "metadata": {},
   "source": [
    "Result: \n",
    "- In reality `Age` has no significant correlation with survival, `Sex` on the contrary, has medium positive correlation (`0.54`) with survival. So first our feature will definitely be `Sex`. \n",
    "- `Fare` and `Pclass` look promissing as features with positive correlation of `0.26` and negative `-0.34` respectively. So we are going to take them as well. \n",
    "- Seems like `Embarked_num` has small positive correlation - `0.11`, so it can be used as a feature too.\n",
    "- `Age`, `Parch`(number of parents/children on board) and `SibSp` (number of siblings/ spauses aboard) can be used as additional features. \n",
    "\n",
    "Now let's see what flaws our features can have and what can we do about it. We'll start with a simple `Fare` histogram."
   ]
  },
  {
   "cell_type": "code",
   "execution_count": 215,
   "metadata": {},
   "outputs": [
    {
     "data": {
      "image/png": "[encoded data removed]",
      "text/plain": [
       "<Figure size 1080x720 with 1 Axes>"
      ]
     },
     "metadata": {},
     "output_type": "display_data"
    }
   ],
   "source": [
    "# Set darkgrid for all plots of the project\n",
    "sns.set(style='darkgrid')\n",
    "\n",
    "def visualise_hist(dataset, column_names, palette, title, xlabel, ylabel):\n",
    "    # Prepare figure\n",
    "    plt.figure(figsize = (15,10))\n",
    "    # Draw hisplot\n",
    "    ax = sns.histplot(\n",
    "        passengers, \n",
    "        x=column_names[0], \n",
    "        hue=column_names[1], \n",
    "        stat=\"count\", \n",
    "        legend=False, \n",
    "        palette=palette\n",
    "        )\n",
    "\n",
    "    # Add descriptions\n",
    "    ax.set_title(title, fontsize = 'x-large')\n",
    "    ax.set_xlabel(xlabel, fontsize = 'large')\n",
    "    ax.set_ylabel(ylabel, fontsize = 'large')\n",
    "\n",
    "    plt.legend(\n",
    "        title='Survived', \n",
    "        title_fontsize='large', \n",
    "        loc='upper right', \n",
    "        labels=['Yes', 'No'], \n",
    "        fontsize = 'large')\n",
    "    return plt.show()\n",
    "\n",
    "visualise_hist(\n",
    "    passengers, \n",
    "    column_names=['Fare', 'Survived'], \n",
    "    palette='rocket', \n",
    "    title='Fares Distribution by Survival', \n",
    "    xlabel='Fare', \n",
    "    ylabel='Count')"
   ]
  },
  {
   "cell_type": "markdown",
   "metadata": {},
   "source": [
    "Result: \n",
    "- Histogram is heavily skewed to the right, because of 3 outliers who paid `512£` and some others who also paid very high prices for their tickets. \n",
    "- There is also a high peak which tells us that the majority of those who died had low fare tickets. \n",
    "\n",
    "Both these factors will create huge bias toward the death of people with low income in our model, but that is the hard truth about \"Titanic\" history, so we'll not do anything to prevent these bias from happening.\n",
    "\n",
    "Now we are going to display on several graphs relationships between several variables to find how the number of survivors changes based on such parameters as `Sex`, `Age` and `Fare`. First we'll explore the general numbers of survivors depending on `Sex` parameter on a histogram. "
   ]
  },
  {
   "cell_type": "code",
   "execution_count": 216,
   "metadata": {},
   "outputs": [
    {
     "data": {
      "image/png": "[encoded data removed]",
      "text/plain": [
       "<Figure size 1080x720 with 1 Axes>"
      ]
     },
     "metadata": {},
     "output_type": "display_data"
    }
   ],
   "source": [
    "# Create separate column with Survived values in str to correctly draw histplot\n",
    "passengers['Survived_str'] = passengers.Survived.map({0:'No', 1:'Yes'}).astype(str)\n",
    "\n",
    "def visualise_hist(dataset, column_names, palette, title, xlabel, ylabel, hue_order, set_xticks, legend_title, legend_labels):\n",
    "    # Prepare figure\n",
    "    plt.figure(figsize = (15,10))\n",
    "    # Draw hisplot\n",
    "    ax = sns.histplot(\n",
    "        data=dataset, \n",
    "        x=column_names[0], \n",
    "        hue=column_names[1],\n",
    "        hue_order=hue_order, \n",
    "        shrink=0.6, \n",
    "        multiple='dodge', \n",
    "        palette= palette,\n",
    "        legend=False\n",
    "        )\n",
    "\n",
    "    # Add descriptions\n",
    "    ax.set_title(title, fontsize = 'x-large')\n",
    "    ax.set_xlabel(xlabel, fontsize = 'large')\n",
    "    ax.set_ylabel(ylabel, fontsize = 'large')\n",
    "    ax.set_xticks(set_xticks)\n",
    "\n",
    "    plt.legend(\n",
    "        title=legend_title, \n",
    "        title_fontsize='large', \n",
    "        loc='upper right', \n",
    "        labels=legend_labels, \n",
    "        fontsize = 'large')\n",
    "\n",
    "    return plt.show()\n",
    "\n",
    "visualise_hist(\n",
    "    passengers, \n",
    "    column_names=['Survived_str', 'Sex'], \n",
    "    palette='rocket', \n",
    "    title='Number of Survived by Sex', \n",
    "    xlabel='Survived', \n",
    "    ylabel='Count',\n",
    "    hue_order=['female','male'], \n",
    "    set_xticks=[0, 1], \n",
    "    legend_title='Sex', \n",
    "    legend_labels=['Male', 'Female']\n",
    "    )\n"
   ]
  },
  {
   "cell_type": "markdown",
   "metadata": {},
   "source": [
    "Result: \n",
    "- Clearly, most of the people died, among them the majority were males.\n",
    "- A little more than 200 women and about 100 men survived. \n",
    "\n",
    "Let's see what place of embarkation will be able to tell us."
   ]
  },
  {
   "cell_type": "code",
   "execution_count": 217,
   "metadata": {},
   "outputs": [
    {
     "data": {
      "image/png": "[encoded data removed]",
      "text/plain": [
       "<Figure size 1080x720 with 1 Axes>"
      ]
     },
     "metadata": {},
     "output_type": "display_data"
    }
   ],
   "source": [
    "visualise_hist(\n",
    "    passengers, \n",
    "    column_names=['Survived_str', 'Embarked'], \n",
    "    palette='flare', \n",
    "    title='Number of Survived by Embarkation Place', \n",
    "    xlabel='Survived', \n",
    "    ylabel='Count',\n",
    "    hue_order=['S', 'C', 'Q'], \n",
    "    set_xticks=[0, 1], \n",
    "    legend_title='Embarkation Places', \n",
    "    legend_labels=['Queenstown (Irl.)', 'Cherbourg (Fr.)', 'Southampton (Eng.)']\n",
    "    )"
   ]
  },
  {
   "cell_type": "code",
   "execution_count": 218,
   "metadata": {},
   "outputs": [
    {
     "data": {
      "text/plain": [
       "S    644\n",
       "C    168\n",
       "Q     77\n",
       "Name: Embarked, dtype: int64"
      ]
     },
     "execution_count": 218,
     "metadata": {},
     "output_type": "execute_result"
    }
   ],
   "source": [
    "passengers.Embarked.value_counts()"
   ]
  },
  {
   "cell_type": "markdown",
   "metadata": {},
   "source": [
    "Result: \n",
    "- Most people embarked in England, some in France and few in Ireland. \n",
    "- More of those who embarked in Ireland died, same goes for those from England, but for those from France it's vice versa.\n",
    "\n",
    "Now let's see on a box-plot the change in survival of men and women depending on `Age` parameter."
   ]
  },
  {
   "cell_type": "code",
   "execution_count": 219,
   "metadata": {},
   "outputs": [
    {
     "data": {
      "image/png": "[encoded data removed]",
      "text/plain": [
       "<Figure size 1080x720 with 1 Axes>"
      ]
     },
     "metadata": {},
     "output_type": "display_data"
    }
   ],
   "source": [
    "# Draw boxplot\n",
    "def visualise_boxplot(dataset, column_names, palette, title, xlabel, ylabel):\n",
    "    plt.figure(figsize = (15,10))\n",
    "    ax = sns.boxplot(\n",
    "        data=dataset,\n",
    "        x= column_names[0], \n",
    "        y= column_names[1],\n",
    "        hue=column_names[2],\n",
    "        hue_order=[1,0],\n",
    "        palette=palette, \n",
    "        showmeans=True,\n",
    "        meanprops={\"marker\": \"+\",\n",
    "            \"markeredgecolor\": \"black\",\n",
    "            \"markersize\": \"10\"},\n",
    "        linewidth=0.5)\n",
    "\n",
    "    # Add descriptions\n",
    "    ax.set_title(title, fontsize = 'x-large')\n",
    "    ax.set_xlabel(xlabel, fontsize = 'large')\n",
    "    ax.set_ylabel(ylabel, fontsize = 'large')\n",
    "    ax.set_xticklabels(['No', 'Yes'])\n",
    "    \n",
    "    ax.legend(title='Sex')\n",
    "    ax.legend_.texts[0].set_text('Female')\n",
    "    ax.legend_.texts[1].set_text('Male')\n",
    "\n",
    "    return plt.show()\n",
    "\n",
    "visualise_boxplot(\n",
    "    passengers, \n",
    "    column_names=['Survived', 'Age', 'Sex_num'], \n",
    "    palette='rocket', \n",
    "    title='Survival Rate Depending on Age and Sex', \n",
    "    xlabel='Survived', \n",
    "    ylabel='Age'\n",
    ")"
   ]
  },
  {
   "cell_type": "code",
   "execution_count": 220,
   "metadata": {},
   "outputs": [
    {
     "data": {
      "text/html": [
       "<div>\n",
       "<style scoped>\n",
       "    .dataframe tbody tr th:only-of-type {\n",
       "        vertical-align: middle;\n",
       "    }\n",
       "\n",
       "    .dataframe tbody tr th {\n",
       "        vertical-align: top;\n",
       "    }\n",
       "\n",
       "    .dataframe thead th {\n",
       "        text-align: right;\n",
       "    }\n",
       "</style>\n",
       "<table border=\"1\" class=\"dataframe\">\n",
       "  <thead>\n",
       "    <tr style=\"text-align: right;\">\n",
       "      <th></th>\n",
       "      <th>PassengerId</th>\n",
       "      <th>Survived</th>\n",
       "      <th>Pclass</th>\n",
       "      <th>Name</th>\n",
       "      <th>Sex</th>\n",
       "      <th>Age</th>\n",
       "      <th>SibSp</th>\n",
       "      <th>Parch</th>\n",
       "      <th>Ticket</th>\n",
       "      <th>Fare</th>\n",
       "      <th>Cabin</th>\n",
       "      <th>Embarked</th>\n",
       "      <th>Sex_num</th>\n",
       "      <th>Embarked_num</th>\n",
       "      <th>Survived_str</th>\n",
       "    </tr>\n",
       "  </thead>\n",
       "  <tbody>\n",
       "    <tr>\n",
       "      <th>630</th>\n",
       "      <td>631</td>\n",
       "      <td>1</td>\n",
       "      <td>1</td>\n",
       "      <td>Barkworth, Mr. Algernon Henry Wilson</td>\n",
       "      <td>male</td>\n",
       "      <td>80.0</td>\n",
       "      <td>0</td>\n",
       "      <td>0</td>\n",
       "      <td>27042</td>\n",
       "      <td>30.0000</td>\n",
       "      <td>A23</td>\n",
       "      <td>S</td>\n",
       "      <td>0</td>\n",
       "      <td>1</td>\n",
       "      <td>Yes</td>\n",
       "    </tr>\n",
       "    <tr>\n",
       "      <th>851</th>\n",
       "      <td>852</td>\n",
       "      <td>0</td>\n",
       "      <td>3</td>\n",
       "      <td>Svensson, Mr. Johan</td>\n",
       "      <td>male</td>\n",
       "      <td>74.0</td>\n",
       "      <td>0</td>\n",
       "      <td>0</td>\n",
       "      <td>347060</td>\n",
       "      <td>7.7750</td>\n",
       "      <td>NaN</td>\n",
       "      <td>S</td>\n",
       "      <td>0</td>\n",
       "      <td>1</td>\n",
       "      <td>No</td>\n",
       "    </tr>\n",
       "    <tr>\n",
       "      <th>493</th>\n",
       "      <td>494</td>\n",
       "      <td>0</td>\n",
       "      <td>1</td>\n",
       "      <td>Artagaveytia, Mr. Ramon</td>\n",
       "      <td>male</td>\n",
       "      <td>71.0</td>\n",
       "      <td>0</td>\n",
       "      <td>0</td>\n",
       "      <td>PC 17609</td>\n",
       "      <td>49.5042</td>\n",
       "      <td>NaN</td>\n",
       "      <td>C</td>\n",
       "      <td>0</td>\n",
       "      <td>2</td>\n",
       "      <td>No</td>\n",
       "    </tr>\n",
       "    <tr>\n",
       "      <th>96</th>\n",
       "      <td>97</td>\n",
       "      <td>0</td>\n",
       "      <td>1</td>\n",
       "      <td>Goldschmidt, Mr. George B</td>\n",
       "      <td>male</td>\n",
       "      <td>71.0</td>\n",
       "      <td>0</td>\n",
       "      <td>0</td>\n",
       "      <td>PC 17754</td>\n",
       "      <td>34.6542</td>\n",
       "      <td>A5</td>\n",
       "      <td>C</td>\n",
       "      <td>0</td>\n",
       "      <td>2</td>\n",
       "      <td>No</td>\n",
       "    </tr>\n",
       "    <tr>\n",
       "      <th>116</th>\n",
       "      <td>117</td>\n",
       "      <td>0</td>\n",
       "      <td>3</td>\n",
       "      <td>Connors, Mr. Patrick</td>\n",
       "      <td>male</td>\n",
       "      <td>70.5</td>\n",
       "      <td>0</td>\n",
       "      <td>0</td>\n",
       "      <td>370369</td>\n",
       "      <td>7.7500</td>\n",
       "      <td>NaN</td>\n",
       "      <td>Q</td>\n",
       "      <td>0</td>\n",
       "      <td>3</td>\n",
       "      <td>No</td>\n",
       "    </tr>\n",
       "  </tbody>\n",
       "</table>\n",
       "</div>"
      ],
      "text/plain": [
       "     PassengerId  Survived  Pclass                                  Name  \\\n",
       "630          631         1       1  Barkworth, Mr. Algernon Henry Wilson   \n",
       "851          852         0       3                   Svensson, Mr. Johan   \n",
       "493          494         0       1               Artagaveytia, Mr. Ramon   \n",
       "96            97         0       1             Goldschmidt, Mr. George B   \n",
       "116          117         0       3                  Connors, Mr. Patrick   \n",
       "\n",
       "      Sex   Age  SibSp  Parch    Ticket     Fare Cabin Embarked  Sex_num  \\\n",
       "630  male  80.0      0      0     27042  30.0000   A23        S        0   \n",
       "851  male  74.0      0      0    347060   7.7750   NaN        S        0   \n",
       "493  male  71.0      0      0  PC 17609  49.5042   NaN        C        0   \n",
       "96   male  71.0      0      0  PC 17754  34.6542    A5        C        0   \n",
       "116  male  70.5      0      0    370369   7.7500   NaN        Q        0   \n",
       "\n",
       "     Embarked_num Survived_str  \n",
       "630             1          Yes  \n",
       "851             1           No  \n",
       "493             2           No  \n",
       "96              2           No  \n",
       "116             3           No  "
      ]
     },
     "execution_count": 220,
     "metadata": {},
     "output_type": "execute_result"
    }
   ],
   "source": [
    "passengers.sort_values('Age', ascending=False).head(5)"
   ]
  },
  {
   "cell_type": "markdown",
   "metadata": {},
   "source": [
    "Result: \n",
    "- Among females survived those who are generally older - around `22-38` years. \n",
    "- Children clearly weren't major group among survivers. \n",
    "- Among males the other way around - survived those who generally younger in a range from `18` to `37` or so, with one outlier who is `80`. \n",
    "\n",
    "Now let's check what ratios we'll get if we'll focus on `Fare` and `Sex`."
   ]
  },
  {
   "cell_type": "code",
   "execution_count": 221,
   "metadata": {},
   "outputs": [
    {
     "data": {
      "image/png": "[encoded data removed]",
      "text/plain": [
       "<Figure size 1080x720 with 1 Axes>"
      ]
     },
     "metadata": {},
     "output_type": "display_data"
    }
   ],
   "source": [
    "visualise_boxplot(\n",
    "    passengers, \n",
    "    column_names=['Survived', 'Fare', 'Sex_num'], \n",
    "    palette='rocket', \n",
    "    title='Survival Rate Depending on Fare and Sex', \n",
    "    xlabel='Survived', \n",
    "    ylabel='Fare'\n",
    ")"
   ]
  },
  {
   "cell_type": "markdown",
   "metadata": {},
   "source": [
    "Data is squashed by outliers who had high fare tickets. Let's set a temporary limitation on `Fare` data to be `less than 150` to see data more clearly on this particular plot. "
   ]
  },
  {
   "cell_type": "code",
   "execution_count": 222,
   "metadata": {},
   "outputs": [
    {
     "data": {
      "image/png": "[encoded data removed]",
      "text/plain": [
       "<Figure size 1080x720 with 1 Axes>"
      ]
     },
     "metadata": {},
     "output_type": "display_data"
    }
   ],
   "source": [
    "visualise_boxplot(\n",
    "    passengers, \n",
    "    column_names=['Survived', passengers.Fare[passengers.Fare < 150], 'Sex_num'], \n",
    "    palette='rocket', \n",
    "    title='Survival Rate Depending on Fare and Sex', \n",
    "    xlabel='Survived', \n",
    "    ylabel='Fare'\n",
    ")"
   ]
  },
  {
   "cell_type": "markdown",
   "metadata": {},
   "source": [
    "Result: \n",
    "- There is a big gap between median (horizontal line on the box) and mean (`+` sign), which telling us that data is still seriously affected by `Fare` outliers that have high values. \n",
    "- Among survivors a lot of females in general, but more of those who managed to pay at least `10£` or more for their tickets.  \n",
    "- Surprisingly enough there are not only a lot of males and females who had low-priced tickets died, but also some of the males who paid `100£` and more for theirs, what supports the saying \"Women and children first\", at least to some extent. \n",
    "\n",
    "Now we are going to tweak our features to make them suitable for model. Let's start with creating new dataframe features that consists only of features.\n"
   ]
  },
  {
   "cell_type": "code",
   "execution_count": 223,
   "metadata": {},
   "outputs": [
    {
     "data": {
      "text/html": [
       "<div>\n",
       "<style scoped>\n",
       "    .dataframe tbody tr th:only-of-type {\n",
       "        vertical-align: middle;\n",
       "    }\n",
       "\n",
       "    .dataframe tbody tr th {\n",
       "        vertical-align: top;\n",
       "    }\n",
       "\n",
       "    .dataframe thead th {\n",
       "        text-align: right;\n",
       "    }\n",
       "</style>\n",
       "<table border=\"1\" class=\"dataframe\">\n",
       "  <thead>\n",
       "    <tr style=\"text-align: right;\">\n",
       "      <th></th>\n",
       "      <th>Survived</th>\n",
       "      <th>Sex_num</th>\n",
       "      <th>Fare</th>\n",
       "      <th>Pclass</th>\n",
       "      <th>Embarked_num</th>\n",
       "      <th>Age</th>\n",
       "      <th>SibSp</th>\n",
       "      <th>Parch</th>\n",
       "    </tr>\n",
       "  </thead>\n",
       "  <tbody>\n",
       "    <tr>\n",
       "      <th>0</th>\n",
       "      <td>0</td>\n",
       "      <td>0</td>\n",
       "      <td>7.2500</td>\n",
       "      <td>3</td>\n",
       "      <td>1</td>\n",
       "      <td>22.0</td>\n",
       "      <td>1</td>\n",
       "      <td>0</td>\n",
       "    </tr>\n",
       "    <tr>\n",
       "      <th>1</th>\n",
       "      <td>1</td>\n",
       "      <td>1</td>\n",
       "      <td>71.2833</td>\n",
       "      <td>1</td>\n",
       "      <td>2</td>\n",
       "      <td>38.0</td>\n",
       "      <td>1</td>\n",
       "      <td>0</td>\n",
       "    </tr>\n",
       "    <tr>\n",
       "      <th>2</th>\n",
       "      <td>1</td>\n",
       "      <td>1</td>\n",
       "      <td>7.9250</td>\n",
       "      <td>3</td>\n",
       "      <td>1</td>\n",
       "      <td>26.0</td>\n",
       "      <td>0</td>\n",
       "      <td>0</td>\n",
       "    </tr>\n",
       "    <tr>\n",
       "      <th>3</th>\n",
       "      <td>1</td>\n",
       "      <td>1</td>\n",
       "      <td>53.1000</td>\n",
       "      <td>1</td>\n",
       "      <td>1</td>\n",
       "      <td>35.0</td>\n",
       "      <td>1</td>\n",
       "      <td>0</td>\n",
       "    </tr>\n",
       "    <tr>\n",
       "      <th>4</th>\n",
       "      <td>0</td>\n",
       "      <td>0</td>\n",
       "      <td>8.0500</td>\n",
       "      <td>3</td>\n",
       "      <td>1</td>\n",
       "      <td>35.0</td>\n",
       "      <td>0</td>\n",
       "      <td>0</td>\n",
       "    </tr>\n",
       "  </tbody>\n",
       "</table>\n",
       "</div>"
      ],
      "text/plain": [
       "   Survived  Sex_num     Fare  Pclass  Embarked_num   Age  SibSp  Parch\n",
       "0         0        0   7.2500       3             1  22.0      1      0\n",
       "1         1        1  71.2833       1             2  38.0      1      0\n",
       "2         1        1   7.9250       3             1  26.0      0      0\n",
       "3         1        1  53.1000       1             1  35.0      1      0\n",
       "4         0        0   8.0500       3             1  35.0      0      0"
      ]
     },
     "execution_count": 223,
     "metadata": {},
     "output_type": "execute_result"
    }
   ],
   "source": [
    "passengers_short = passengers[['Survived', 'Sex_num', 'Fare', 'Pclass', 'Embarked_num', 'Age', 'SibSp', 'Parch']].reset_index(drop=True)\n",
    "passengers_short.head()"
   ]
  },
  {
   "cell_type": "markdown",
   "metadata": {},
   "source": [
    "There were a lot of `nan`s in `Age` column, when we last check, so now it's time to deal with it to prepare this column for the model."
   ]
  },
  {
   "cell_type": "code",
   "execution_count": 224,
   "metadata": {},
   "outputs": [
    {
     "data": {
      "text/plain": [
       "array([22., 38., 26., 35., nan, 54.,  2., 27., 14.,  4., 58., 20., 39.,\n",
       "       55., 31.])"
      ]
     },
     "execution_count": 224,
     "metadata": {},
     "output_type": "execute_result"
    }
   ],
   "source": [
    "passengers_short.Age.unique()[:15]"
   ]
  },
  {
   "cell_type": "markdown",
   "metadata": {},
   "source": [
    "There are some `nan`s so let's fill all the empty `Age` values in passengers with the mean age."
   ]
  },
  {
   "cell_type": "code",
   "execution_count": 225,
   "metadata": {},
   "outputs": [
    {
     "data": {
      "text/plain": [
       "array([22. , 38. , 26. , 35. , 29.7, 54. ,  2. , 27. , 14. ,  4. , 58. ,\n",
       "       20. , 39. , 55. , 31. ])"
      ]
     },
     "execution_count": 225,
     "metadata": {},
     "output_type": "execute_result"
    }
   ],
   "source": [
    "# Fill the nan values in the age column\n",
    "passengers_short.Age.fillna(value=passengers_short.Age.mean().round(2), inplace=True)\n",
    "passengers_short.Age.unique()[:15]"
   ]
  },
  {
   "cell_type": "markdown",
   "metadata": {},
   "source": [
    "Now we are going to replace absent values in `Embarked_num`, let's see how many there are. "
   ]
  },
  {
   "cell_type": "code",
   "execution_count": 226,
   "metadata": {},
   "outputs": [
    {
     "data": {
      "text/html": [
       "<div>\n",
       "<style scoped>\n",
       "    .dataframe tbody tr th:only-of-type {\n",
       "        vertical-align: middle;\n",
       "    }\n",
       "\n",
       "    .dataframe tbody tr th {\n",
       "        vertical-align: top;\n",
       "    }\n",
       "\n",
       "    .dataframe thead th {\n",
       "        text-align: right;\n",
       "    }\n",
       "</style>\n",
       "<table border=\"1\" class=\"dataframe\">\n",
       "  <thead>\n",
       "    <tr style=\"text-align: right;\">\n",
       "      <th></th>\n",
       "      <th>Survived</th>\n",
       "      <th>Sex_num</th>\n",
       "      <th>Fare</th>\n",
       "      <th>Pclass</th>\n",
       "      <th>Embarked_num</th>\n",
       "      <th>Age</th>\n",
       "      <th>SibSp</th>\n",
       "      <th>Parch</th>\n",
       "    </tr>\n",
       "  </thead>\n",
       "  <tbody>\n",
       "    <tr>\n",
       "      <th>61</th>\n",
       "      <td>1</td>\n",
       "      <td>1</td>\n",
       "      <td>80.0</td>\n",
       "      <td>1</td>\n",
       "      <td>&lt;NA&gt;</td>\n",
       "      <td>38.0</td>\n",
       "      <td>0</td>\n",
       "      <td>0</td>\n",
       "    </tr>\n",
       "    <tr>\n",
       "      <th>829</th>\n",
       "      <td>1</td>\n",
       "      <td>1</td>\n",
       "      <td>80.0</td>\n",
       "      <td>1</td>\n",
       "      <td>&lt;NA&gt;</td>\n",
       "      <td>62.0</td>\n",
       "      <td>0</td>\n",
       "      <td>0</td>\n",
       "    </tr>\n",
       "  </tbody>\n",
       "</table>\n",
       "</div>"
      ],
      "text/plain": [
       "     Survived  Sex_num  Fare  Pclass  Embarked_num   Age  SibSp  Parch\n",
       "61          1        1  80.0       1          <NA>  38.0      0      0\n",
       "829         1        1  80.0       1          <NA>  62.0      0      0"
      ]
     },
     "execution_count": 226,
     "metadata": {},
     "output_type": "execute_result"
    }
   ],
   "source": [
    "passengers_short[passengers_short.Embarked_num.isna()]"
   ]
  },
  {
   "cell_type": "markdown",
   "metadata": {},
   "source": [
    "Considering there are only 2 passengers with absent numbers we can replace `nan`s manually. We'll replace `nan`s with `3` (Queenstown), considering this place of embarkation is underrepresented."
   ]
  },
  {
   "cell_type": "code",
   "execution_count": 227,
   "metadata": {},
   "outputs": [],
   "source": [
    "passengers_short.Embarked_num.fillna(3, inplace=True)"
   ]
  },
  {
   "cell_type": "code",
   "execution_count": 228,
   "metadata": {},
   "outputs": [
    {
     "data": {
      "text/plain": [
       "array([0.    , 4.0125, 5.    , 6.2375, 6.4375, 6.45  , 6.4958, 6.75  ,\n",
       "       6.8583, 6.95  ])"
      ]
     },
     "execution_count": 228,
     "metadata": {},
     "output_type": "execute_result"
    }
   ],
   "source": [
    "passengers_short.Fare.sort_values(ascending=True).unique()[:10]"
   ]
  },
  {
   "cell_type": "markdown",
   "metadata": {},
   "source": [
    "When dealing with `Fare`, first we are going to replace all `0`s with small random `float` values."
   ]
  },
  {
   "cell_type": "code",
   "execution_count": 229,
   "metadata": {},
   "outputs": [
    {
     "data": {
      "text/plain": [
       "array([11.8235,  5.5382,  7.2036,  6.8437,  6.7591, 13.1209, 14.2334,\n",
       "        7.7657, 13.1975, 13.8989, 10.1297,  7.4496, 13.2424,  7.1376,\n",
       "       12.4147])"
      ]
     },
     "execution_count": 229,
     "metadata": {},
     "output_type": "execute_result"
    }
   ],
   "source": [
    "rng = np.random.default_rng(123)\n",
    "rints = (rng.random(size=15) * 10 + 5).round(4)\n",
    "rints"
   ]
  },
  {
   "cell_type": "code",
   "execution_count": 230,
   "metadata": {},
   "outputs": [
    {
     "data": {
      "text/plain": [
       "0"
      ]
     },
     "execution_count": 230,
     "metadata": {},
     "output_type": "execute_result"
    }
   ],
   "source": [
    "for i in range(len(rints)):\n",
    "    passengers_short.Fare.replace(to_replace = 0.0, value = rints[i], inplace=True)\n",
    "\n",
    "# Check if any 0s left\n",
    "len(passengers_short[passengers_short.Fare == 0])"
   ]
  },
  {
   "cell_type": "markdown",
   "metadata": {},
   "source": [
    "We also are going to apply One-Hot encoding to `Sex_num`, `Pclass`, `Embarked_num` to show that there is no inherent order among the values of categorical data. "
   ]
  },
  {
   "cell_type": "code",
   "execution_count": 231,
   "metadata": {},
   "outputs": [
    {
     "data": {
      "text/html": [
       "<div>\n",
       "<style scoped>\n",
       "    .dataframe tbody tr th:only-of-type {\n",
       "        vertical-align: middle;\n",
       "    }\n",
       "\n",
       "    .dataframe tbody tr th {\n",
       "        vertical-align: top;\n",
       "    }\n",
       "\n",
       "    .dataframe thead th {\n",
       "        text-align: right;\n",
       "    }\n",
       "</style>\n",
       "<table border=\"1\" class=\"dataframe\">\n",
       "  <thead>\n",
       "    <tr style=\"text-align: right;\">\n",
       "      <th></th>\n",
       "      <th>Survived</th>\n",
       "      <th>Fare</th>\n",
       "      <th>Age</th>\n",
       "      <th>SibSp</th>\n",
       "      <th>Parch</th>\n",
       "      <th>Sex_num_0</th>\n",
       "      <th>Sex_num_1</th>\n",
       "      <th>Pclass_1</th>\n",
       "      <th>Pclass_2</th>\n",
       "      <th>Pclass_3</th>\n",
       "      <th>Embarked_num_1</th>\n",
       "      <th>Embarked_num_2</th>\n",
       "      <th>Embarked_num_3</th>\n",
       "    </tr>\n",
       "  </thead>\n",
       "  <tbody>\n",
       "    <tr>\n",
       "      <th>0</th>\n",
       "      <td>0</td>\n",
       "      <td>7.2500</td>\n",
       "      <td>22.0</td>\n",
       "      <td>1</td>\n",
       "      <td>0</td>\n",
       "      <td>1</td>\n",
       "      <td>0</td>\n",
       "      <td>0</td>\n",
       "      <td>0</td>\n",
       "      <td>1</td>\n",
       "      <td>1</td>\n",
       "      <td>0</td>\n",
       "      <td>0</td>\n",
       "    </tr>\n",
       "    <tr>\n",
       "      <th>1</th>\n",
       "      <td>1</td>\n",
       "      <td>71.2833</td>\n",
       "      <td>38.0</td>\n",
       "      <td>1</td>\n",
       "      <td>0</td>\n",
       "      <td>0</td>\n",
       "      <td>1</td>\n",
       "      <td>1</td>\n",
       "      <td>0</td>\n",
       "      <td>0</td>\n",
       "      <td>0</td>\n",
       "      <td>1</td>\n",
       "      <td>0</td>\n",
       "    </tr>\n",
       "    <tr>\n",
       "      <th>2</th>\n",
       "      <td>1</td>\n",
       "      <td>7.9250</td>\n",
       "      <td>26.0</td>\n",
       "      <td>0</td>\n",
       "      <td>0</td>\n",
       "      <td>0</td>\n",
       "      <td>1</td>\n",
       "      <td>0</td>\n",
       "      <td>0</td>\n",
       "      <td>1</td>\n",
       "      <td>1</td>\n",
       "      <td>0</td>\n",
       "      <td>0</td>\n",
       "    </tr>\n",
       "    <tr>\n",
       "      <th>3</th>\n",
       "      <td>1</td>\n",
       "      <td>53.1000</td>\n",
       "      <td>35.0</td>\n",
       "      <td>1</td>\n",
       "      <td>0</td>\n",
       "      <td>0</td>\n",
       "      <td>1</td>\n",
       "      <td>1</td>\n",
       "      <td>0</td>\n",
       "      <td>0</td>\n",
       "      <td>1</td>\n",
       "      <td>0</td>\n",
       "      <td>0</td>\n",
       "    </tr>\n",
       "    <tr>\n",
       "      <th>4</th>\n",
       "      <td>0</td>\n",
       "      <td>8.0500</td>\n",
       "      <td>35.0</td>\n",
       "      <td>0</td>\n",
       "      <td>0</td>\n",
       "      <td>1</td>\n",
       "      <td>0</td>\n",
       "      <td>0</td>\n",
       "      <td>0</td>\n",
       "      <td>1</td>\n",
       "      <td>1</td>\n",
       "      <td>0</td>\n",
       "      <td>0</td>\n",
       "    </tr>\n",
       "  </tbody>\n",
       "</table>\n",
       "</div>"
      ],
      "text/plain": [
       "   Survived     Fare   Age  SibSp  Parch  Sex_num_0  Sex_num_1  Pclass_1  \\\n",
       "0         0   7.2500  22.0      1      0          1          0         0   \n",
       "1         1  71.2833  38.0      1      0          0          1         1   \n",
       "2         1   7.9250  26.0      0      0          0          1         0   \n",
       "3         1  53.1000  35.0      1      0          0          1         1   \n",
       "4         0   8.0500  35.0      0      0          1          0         0   \n",
       "\n",
       "   Pclass_2  Pclass_3  Embarked_num_1  Embarked_num_2  Embarked_num_3  \n",
       "0         0         1               1               0               0  \n",
       "1         0         0               0               1               0  \n",
       "2         0         1               1               0               0  \n",
       "3         0         0               1               0               0  \n",
       "4         0         1               1               0               0  "
      ]
     },
     "execution_count": 231,
     "metadata": {},
     "output_type": "execute_result"
    }
   ],
   "source": [
    "passengers_short = pd.get_dummies(data=passengers_short, columns=['Sex_num', 'Pclass', 'Embarked_num'])\n",
    "passengers_short.head()"
   ]
  },
  {
   "cell_type": "markdown",
   "metadata": {},
   "source": [
    "## Select and Split the Data\n",
    "\n",
    "Now that we have cleaned and prepared our data, let’s select the columns we want to build our model on and store them in a variable named `features`. After that we'll select column `Survived` and store it a variable named `survival`."
   ]
  },
  {
   "cell_type": "code",
   "execution_count": 232,
   "metadata": {},
   "outputs": [
    {
     "data": {
      "text/html": [
       "<div>\n",
       "<style scoped>\n",
       "    .dataframe tbody tr th:only-of-type {\n",
       "        vertical-align: middle;\n",
       "    }\n",
       "\n",
       "    .dataframe tbody tr th {\n",
       "        vertical-align: top;\n",
       "    }\n",
       "\n",
       "    .dataframe thead th {\n",
       "        text-align: right;\n",
       "    }\n",
       "</style>\n",
       "<table border=\"1\" class=\"dataframe\">\n",
       "  <thead>\n",
       "    <tr style=\"text-align: right;\">\n",
       "      <th></th>\n",
       "      <th>Fare</th>\n",
       "      <th>Age</th>\n",
       "      <th>SibSp</th>\n",
       "      <th>Parch</th>\n",
       "      <th>Sex_num_0</th>\n",
       "      <th>Sex_num_1</th>\n",
       "      <th>Pclass_1</th>\n",
       "      <th>Pclass_2</th>\n",
       "      <th>Pclass_3</th>\n",
       "      <th>Embarked_num_1</th>\n",
       "      <th>Embarked_num_2</th>\n",
       "      <th>Embarked_num_3</th>\n",
       "    </tr>\n",
       "  </thead>\n",
       "  <tbody>\n",
       "    <tr>\n",
       "      <th>0</th>\n",
       "      <td>7.2500</td>\n",
       "      <td>22.0</td>\n",
       "      <td>1</td>\n",
       "      <td>0</td>\n",
       "      <td>1</td>\n",
       "      <td>0</td>\n",
       "      <td>0</td>\n",
       "      <td>0</td>\n",
       "      <td>1</td>\n",
       "      <td>1</td>\n",
       "      <td>0</td>\n",
       "      <td>0</td>\n",
       "    </tr>\n",
       "    <tr>\n",
       "      <th>1</th>\n",
       "      <td>71.2833</td>\n",
       "      <td>38.0</td>\n",
       "      <td>1</td>\n",
       "      <td>0</td>\n",
       "      <td>0</td>\n",
       "      <td>1</td>\n",
       "      <td>1</td>\n",
       "      <td>0</td>\n",
       "      <td>0</td>\n",
       "      <td>0</td>\n",
       "      <td>1</td>\n",
       "      <td>0</td>\n",
       "    </tr>\n",
       "    <tr>\n",
       "      <th>2</th>\n",
       "      <td>7.9250</td>\n",
       "      <td>26.0</td>\n",
       "      <td>0</td>\n",
       "      <td>0</td>\n",
       "      <td>0</td>\n",
       "      <td>1</td>\n",
       "      <td>0</td>\n",
       "      <td>0</td>\n",
       "      <td>1</td>\n",
       "      <td>1</td>\n",
       "      <td>0</td>\n",
       "      <td>0</td>\n",
       "    </tr>\n",
       "    <tr>\n",
       "      <th>3</th>\n",
       "      <td>53.1000</td>\n",
       "      <td>35.0</td>\n",
       "      <td>1</td>\n",
       "      <td>0</td>\n",
       "      <td>0</td>\n",
       "      <td>1</td>\n",
       "      <td>1</td>\n",
       "      <td>0</td>\n",
       "      <td>0</td>\n",
       "      <td>1</td>\n",
       "      <td>0</td>\n",
       "      <td>0</td>\n",
       "    </tr>\n",
       "    <tr>\n",
       "      <th>4</th>\n",
       "      <td>8.0500</td>\n",
       "      <td>35.0</td>\n",
       "      <td>0</td>\n",
       "      <td>0</td>\n",
       "      <td>1</td>\n",
       "      <td>0</td>\n",
       "      <td>0</td>\n",
       "      <td>0</td>\n",
       "      <td>1</td>\n",
       "      <td>1</td>\n",
       "      <td>0</td>\n",
       "      <td>0</td>\n",
       "    </tr>\n",
       "  </tbody>\n",
       "</table>\n",
       "</div>"
      ],
      "text/plain": [
       "      Fare   Age  SibSp  Parch  Sex_num_0  Sex_num_1  Pclass_1  Pclass_2  \\\n",
       "0   7.2500  22.0      1      0          1          0         0         0   \n",
       "1  71.2833  38.0      1      0          0          1         1         0   \n",
       "2   7.9250  26.0      0      0          0          1         0         0   \n",
       "3  53.1000  35.0      1      0          0          1         1         0   \n",
       "4   8.0500  35.0      0      0          1          0         0         0   \n",
       "\n",
       "   Pclass_3  Embarked_num_1  Embarked_num_2  Embarked_num_3  \n",
       "0         1               1               0               0  \n",
       "1         0               0               1               0  \n",
       "2         1               1               0               0  \n",
       "3         0               1               0               0  \n",
       "4         1               1               0               0  "
      ]
     },
     "execution_count": 232,
     "metadata": {},
     "output_type": "execute_result"
    }
   ],
   "source": [
    "features = passengers_short[['Fare', 'Age', 'SibSp', 'Parch', 'Sex_num_0', 'Sex_num_1',\n",
    "       'Pclass_1', 'Pclass_2', 'Pclass_3', 'Embarked_num_1', 'Embarked_num_2',\n",
    "       'Embarked_num_3']]\n",
    "features.head(5)"
   ]
  },
  {
   "cell_type": "code",
   "execution_count": 233,
   "metadata": {},
   "outputs": [],
   "source": [
    "survival = passengers_short[['Survived']]"
   ]
  },
  {
   "cell_type": "markdown",
   "metadata": {},
   "source": [
    "Now let's split the data into training and test sets. We’ll use the training set to train the model and the test set to evaluate the model."
   ]
  },
  {
   "cell_type": "code",
   "execution_count": 234,
   "metadata": {},
   "outputs": [],
   "source": [
    "# Perform train, test, split\n",
    "train_data, test_data, train_cats, test_cats = train_test_split(features, survival)"
   ]
  },
  {
   "cell_type": "markdown",
   "metadata": {},
   "source": [
    "## Normalize the Data\n",
    "\n",
    "We are going to apply z-scaling - scale the feature data, so it has mean = 0 and standard deviation = 1, to remove impact of different scales within it on the model performance, sklearn‘s Logistic Regression implementation uses implies normalization anyway.  "
   ]
  },
  {
   "cell_type": "code",
   "execution_count": 235,
   "metadata": {},
   "outputs": [],
   "source": [
    "scaler = StandardScaler()\n",
    "train_scaled = scaler.fit_transform(train_data)\n",
    "test_scaled = scaler.transform(test_data)"
   ]
  },
  {
   "cell_type": "markdown",
   "metadata": {},
   "source": [
    "## Create & Evaluate Logistic Regression Model \n",
    "\n",
    "Fitting the model will perform gradient descent to find the feature coefficients that minimize the log-loss for the training data."
   ]
  },
  {
   "cell_type": "code",
   "execution_count": 236,
   "metadata": {},
   "outputs": [
    {
     "data": {
      "text/plain": [
       "LogisticRegression()"
      ]
     },
     "execution_count": 236,
     "metadata": {},
     "output_type": "execute_result"
    }
   ],
   "source": [
    "model = LogisticRegression()\n",
    "model.fit(train_scaled, train_cats.Survived)"
   ]
  },
  {
   "cell_type": "markdown",
   "metadata": {},
   "source": [
    "The score function should return the percentage of correct classifications on testing data, or the accuracy."
   ]
  },
  {
   "cell_type": "code",
   "execution_count": 237,
   "metadata": {},
   "outputs": [
    {
     "name": "stdout",
     "output_type": "stream",
     "text": [
      "Accuracy: 80.0 %\n"
     ]
    }
   ],
   "source": [
    "print('Accuracy:', model.score(test_scaled, test_cats.Survived).round(1)*100, '%')"
   ]
  },
  {
   "cell_type": "code",
   "execution_count": 285,
   "metadata": {},
   "outputs": [
    {
     "name": "stdout",
     "output_type": "stream",
     "text": [
      "              precision    recall  f1-score   support\n",
      "\n",
      "           0       0.87      0.83      0.85       142\n",
      "           1       0.73      0.79      0.76        81\n",
      "\n",
      "    accuracy                           0.82       223\n",
      "   macro avg       0.80      0.81      0.80       223\n",
      "weighted avg       0.82      0.82      0.82       223\n",
      "\n"
     ]
    }
   ],
   "source": [
    "# Calculate evaluation metrics\n",
    "print(classification_report(test_cats.Survived, model.predict(test_scaled)))"
   ]
  },
  {
   "cell_type": "markdown",
   "metadata": {},
   "source": [
    "Accuracy level is sufficient, so now we can proceed with our research. So let's answer the question which feature is most important in predicting a passenger's survival on the sinking of the Titanic? To answer that we'll use model's coefficients, which are a good indicator of model's inner priorities. Let's find minimum and maximum coefficients i.e. most impactful in the list from model's perspective. "
   ]
  },
  {
   "cell_type": "code",
   "execution_count": 238,
   "metadata": {},
   "outputs": [
    {
     "data": {
      "text/plain": [
       "(0.5978348798795259, -0.5978348798795259)"
      ]
     },
     "execution_count": 238,
     "metadata": {},
     "output_type": "execute_result"
    }
   ],
   "source": [
    "model.coef_[0].max(), model.coef_[0].min()"
   ]
  },
  {
   "cell_type": "code",
   "execution_count": 239,
   "metadata": {},
   "outputs": [
    {
     "data": {
      "text/plain": [
       "[('Fare', 0.055196328395891905),\n",
       " ('Age', -0.5601920664596024),\n",
       " ('SibSp', -0.38412020234773425),\n",
       " ('Parch', 0.04467306575588518),\n",
       " ('Sex_num_0', -0.5978348798795259),\n",
       " ('Sex_num_1', 0.5978348798795259),\n",
       " ('Pclass_1', 0.5622082888081089),\n",
       " ('Pclass_2', 0.06725755615570136),\n",
       " ('Pclass_3', -0.5294654423961637),\n",
       " ('Embarked_num_1', -0.10962572644530263),\n",
       " ('Embarked_num_2', 0.07228299766942983),\n",
       " ('Embarked_num_3', 0.07207655254319037)]"
      ]
     },
     "execution_count": 239,
     "metadata": {},
     "output_type": "execute_result"
    }
   ],
   "source": [
    "list(zip(features.columns[:],model.coef_[0]))"
   ]
  },
  {
   "cell_type": "markdown",
   "metadata": {},
   "source": [
    "Looks like the feature with the maximum positive or negative impact on Titanic was person's sex, it means that being female would increase survival chances more than everything else and being male on the opposite decrease them drastically. Let's put coefficients on a graph to have a better understanding. "
   ]
  },
  {
   "cell_type": "code",
   "execution_count": 240,
   "metadata": {},
   "outputs": [
    {
     "data": {
      "image/png": "[encoded data removed]",
      "text/plain": [
       "<Figure size 1512x648 with 1 Axes>"
      ]
     },
     "metadata": {},
     "output_type": "display_data"
    }
   ],
   "source": [
    "def visualise_barchart(feature_lst, values):\n",
    "    # Prepare grid\n",
    "    plt.figure(figsize = (21,9))\n",
    "    \n",
    "    # Draw barplot\n",
    "    ax = sns.barplot(x = feature_lst, y = values)\n",
    "\n",
    "    # Add descriptions\n",
    "    plt.title('Features\\' Influence within Logistic Regression Model', fontsize='x-large')\n",
    "    plt.xlabel('Features', fontsize='large')\n",
    "    plt.ylabel('Coeficients', fontsize='large')\n",
    "    ax.set_xticklabels(['Fare', 'Age', 'Siblings or Spauses', 'Parents or Children', 'Males', 'Females', 'First Class',\n",
    "       'Second Class', 'Third Class', 'Southampton (Eng.)', 'Cherbourg (Fr.)', 'Queenstown (Irl.)'], rotation=30)\n",
    "\n",
    "    \n",
    "    return plt.show()\n",
    "\n",
    "visualise_barchart(features.columns[:], model.coef_[0] )"
   ]
  },
  {
   "cell_type": "markdown",
   "metadata": {},
   "source": [
    "From the graph we can see that as well as `Sex` most impactful features were:\n",
    "- `Passenger's Class`, but only the 1st and 3rd, model took Class instead of `Fare`, judging by the low impact of `Fare` itself.\n",
    "- Number of `Siblings or Spauses on board` have a huge negative coefficient meaning that many of those who had such relationships were likely to die. `Parents or Children on board` did not have such a big influence, but the small they had was also negative. \n",
    "- `Age`, in spite of small correlation had a big negative influence within model, from the graph we could see that most of the survivors among men were younger people, among women survived young and middle-aged. \n",
    "- Only 2 embarkation places have at least small impact on the resulting values. If a passenger had come aboard at France they are more likely to survive if in England - other way around. Further research is required to understand what was the cause of such pattern and whether it's only quantity of passengers at play, or some other factors (and there could be more, judging by the negative coefficients of those who `Embarked in Ireland`). \n",
    "\n",
    "\n",
    "## Simulation of Extrinsic Testing\n",
    "\n",
    "Let’s use our model to make predictions on the survival of several imagined passengers from a famous Cameron's movie \"Titanic\". We'll take the following characters:\n",
    "\n",
    "- `Jack Dawson` (born 1892-1912) is the deuteragonist in Titanic and the love interest of Rose DeWitt Bukater. He was a `third-class` passenger aboard the RMS Titanic. Died.\n",
    "- `Rose Dawson Calvert` (née DeWitt-Bukater, born 1895) was an American socialite and later actress. She was born in Philadelphia in 1895, but her exact birthdate is unknown. She was a `first-class` passenger aboard. Survived.\n",
    "- `Caledon Nathan Hockley`, often shortened to Cal, (1882 – 1929) was an American industrialist and the heir to a Pittsburgh steel fortune.\n",
    "In 1912 he was a `first-class` passenger, accompanying his 17-year-old fiancée Rose DeWitt Bukater, he survived the catastrophe.\n",
    "- `Ruth DeWitt Bukater` (born in 1860s) is the mother of Rose DeWitt Bukater. She was a `first-class` passenger and survived.\n",
    "- `Cora \"Coraline\" Cartmell` is a little girl who boarded the Titanic in 1912 with her father, Bert Cartmell and her unnamed mother, Mrs. Cartmell. She was a `third-class` passenger.\n",
    "- `Fabrizio De Rossi` was a supporting character in the film, Titanic. He was Jack Dawson's best friend and trustworthy companion. He was a `third-class` passenger and died.\n",
    "- `Trudy Bolt` served as the DeWitt Bukater Hockley family's maid aboard the RMS Titanic, presumably was located in a `first-class`, died in the catastrophe. \n",
    "- `Margaret Tobin Brown`, also known as \"The Unsinkable Molly Brown\". She was an American socialite, philanthropist and activist, `first-class` passenger, escaped catastrophe on lifeboat.\n",
    "- `Wallace Henry Hartley` (2 June 1878 – 15 April 1912) was an English violinist and the bandleader on the RMS Titanic. He led the eight-member band as the ship sank on 15 April 1912. Hartley perished in the sinking, he was a `second-class` passenger.\n",
    "- `Father Thomas Byles` was a Catholic priest and a `second-class` passenger on the RMS Titanic. Byles conducted church sessions for those on board. He stayed behind on the Titanic after she began sinking, though he was technically entitled to a lifeboat seat; refusing twice, died in catastrophe.\n",
    "\n",
    "Not all available information about these passengers covers our feature list, so we'll have to make some assumptions based on available info. The arrays store 12 feature values, in the following order: `Fare`, `Age`, `SibSp` (siblings/spouses), `Parch` (children/parents), `Sex_num_0` (Male), `Sex_num_1` (Female), `Pclass_1`, `Pclass_2`, `Pclass_3`, `Embarked_num_1`(Eng.), `Embarked_num_2`(Fr.), `Embarked_num_3`(Irl.).\n"
   ]
  },
  {
   "cell_type": "code",
   "execution_count": 274,
   "metadata": {},
   "outputs": [],
   "source": [
    "def predict_survival(model, scaler, passengers_data, features_columns, characters, survival_m, order):\n",
    "    sample_passengers = pd.DataFrame(passengers_data, columns=features_columns)\n",
    "    predicted = model.predict(scaler.transform(sample_passengers))\n",
    "    sample_passengers['Predicted_Survival'] = predicted\n",
    "    sample_passengers['Survival_in_Movie'] = survival_m\n",
    "    sample_passengers['Names'] = characters\n",
    "    sample_passengers = sample_passengers[order]\n",
    "    return sample_passengers"
   ]
  },
  {
   "cell_type": "code",
   "execution_count": 281,
   "metadata": {},
   "outputs": [
    {
     "data": {
      "text/html": [
       "<div>\n",
       "<style scoped>\n",
       "    .dataframe tbody tr th:only-of-type {\n",
       "        vertical-align: middle;\n",
       "    }\n",
       "\n",
       "    .dataframe tbody tr th {\n",
       "        vertical-align: top;\n",
       "    }\n",
       "\n",
       "    .dataframe thead th {\n",
       "        text-align: right;\n",
       "    }\n",
       "</style>\n",
       "<table border=\"1\" class=\"dataframe\">\n",
       "  <thead>\n",
       "    <tr style=\"text-align: right;\">\n",
       "      <th></th>\n",
       "      <th>Names</th>\n",
       "      <th>Survival_in_Movie</th>\n",
       "      <th>Predicted_Survival</th>\n",
       "      <th>Fare</th>\n",
       "      <th>Age</th>\n",
       "      <th>SibSp</th>\n",
       "      <th>Parch</th>\n",
       "      <th>Sex_num_0</th>\n",
       "      <th>Sex_num_1</th>\n",
       "      <th>Pclass_1</th>\n",
       "      <th>Pclass_2</th>\n",
       "      <th>Pclass_3</th>\n",
       "      <th>Embarked_num_1</th>\n",
       "      <th>Embarked_num_2</th>\n",
       "      <th>Embarked_num_3</th>\n",
       "    </tr>\n",
       "  </thead>\n",
       "  <tbody>\n",
       "    <tr>\n",
       "      <th>0</th>\n",
       "      <td>Jack</td>\n",
       "      <td>0</td>\n",
       "      <td>0</td>\n",
       "      <td>7.2500</td>\n",
       "      <td>20.0</td>\n",
       "      <td>0</td>\n",
       "      <td>0</td>\n",
       "      <td>1</td>\n",
       "      <td>0</td>\n",
       "      <td>0</td>\n",
       "      <td>0</td>\n",
       "      <td>1</td>\n",
       "      <td>1</td>\n",
       "      <td>0</td>\n",
       "      <td>0</td>\n",
       "    </tr>\n",
       "    <tr>\n",
       "      <th>1</th>\n",
       "      <td>Fabrizio</td>\n",
       "      <td>0</td>\n",
       "      <td>0</td>\n",
       "      <td>7.2500</td>\n",
       "      <td>23.0</td>\n",
       "      <td>0</td>\n",
       "      <td>0</td>\n",
       "      <td>1</td>\n",
       "      <td>0</td>\n",
       "      <td>0</td>\n",
       "      <td>0</td>\n",
       "      <td>1</td>\n",
       "      <td>1</td>\n",
       "      <td>0</td>\n",
       "      <td>0</td>\n",
       "    </tr>\n",
       "    <tr>\n",
       "      <th>2</th>\n",
       "      <td>Rose</td>\n",
       "      <td>1</td>\n",
       "      <td>1</td>\n",
       "      <td>452.3292</td>\n",
       "      <td>17.0</td>\n",
       "      <td>0</td>\n",
       "      <td>1</td>\n",
       "      <td>0</td>\n",
       "      <td>1</td>\n",
       "      <td>1</td>\n",
       "      <td>0</td>\n",
       "      <td>0</td>\n",
       "      <td>1</td>\n",
       "      <td>0</td>\n",
       "      <td>0</td>\n",
       "    </tr>\n",
       "    <tr>\n",
       "      <th>3</th>\n",
       "      <td>Cal</td>\n",
       "      <td>1</td>\n",
       "      <td>1</td>\n",
       "      <td>437.3292</td>\n",
       "      <td>30.0</td>\n",
       "      <td>0</td>\n",
       "      <td>0</td>\n",
       "      <td>1</td>\n",
       "      <td>0</td>\n",
       "      <td>1</td>\n",
       "      <td>0</td>\n",
       "      <td>0</td>\n",
       "      <td>1</td>\n",
       "      <td>0</td>\n",
       "      <td>0</td>\n",
       "    </tr>\n",
       "    <tr>\n",
       "      <th>4</th>\n",
       "      <td>Ruth</td>\n",
       "      <td>1</td>\n",
       "      <td>1</td>\n",
       "      <td>452.3292</td>\n",
       "      <td>43.5</td>\n",
       "      <td>0</td>\n",
       "      <td>1</td>\n",
       "      <td>0</td>\n",
       "      <td>1</td>\n",
       "      <td>1</td>\n",
       "      <td>0</td>\n",
       "      <td>0</td>\n",
       "      <td>1</td>\n",
       "      <td>0</td>\n",
       "      <td>0</td>\n",
       "    </tr>\n",
       "    <tr>\n",
       "      <th>5</th>\n",
       "      <td>Cora</td>\n",
       "      <td>0</td>\n",
       "      <td>1</td>\n",
       "      <td>8.0500</td>\n",
       "      <td>5.4</td>\n",
       "      <td>1</td>\n",
       "      <td>1</td>\n",
       "      <td>0</td>\n",
       "      <td>1</td>\n",
       "      <td>0</td>\n",
       "      <td>0</td>\n",
       "      <td>1</td>\n",
       "      <td>1</td>\n",
       "      <td>0</td>\n",
       "      <td>0</td>\n",
       "    </tr>\n",
       "    <tr>\n",
       "      <th>6</th>\n",
       "      <td>Trudy</td>\n",
       "      <td>0</td>\n",
       "      <td>1</td>\n",
       "      <td>120.0530</td>\n",
       "      <td>33.0</td>\n",
       "      <td>0</td>\n",
       "      <td>0</td>\n",
       "      <td>0</td>\n",
       "      <td>1</td>\n",
       "      <td>1</td>\n",
       "      <td>0</td>\n",
       "      <td>0</td>\n",
       "      <td>1</td>\n",
       "      <td>0</td>\n",
       "      <td>0</td>\n",
       "    </tr>\n",
       "    <tr>\n",
       "      <th>7</th>\n",
       "      <td>Molly Brown</td>\n",
       "      <td>1</td>\n",
       "      <td>1</td>\n",
       "      <td>315.3292</td>\n",
       "      <td>65.0</td>\n",
       "      <td>0</td>\n",
       "      <td>1</td>\n",
       "      <td>0</td>\n",
       "      <td>1</td>\n",
       "      <td>1</td>\n",
       "      <td>0</td>\n",
       "      <td>0</td>\n",
       "      <td>0</td>\n",
       "      <td>1</td>\n",
       "      <td>0</td>\n",
       "    </tr>\n",
       "    <tr>\n",
       "      <th>8</th>\n",
       "      <td>Violinist Bandleader</td>\n",
       "      <td>0</td>\n",
       "      <td>0</td>\n",
       "      <td>124.4527</td>\n",
       "      <td>33.0</td>\n",
       "      <td>1</td>\n",
       "      <td>0</td>\n",
       "      <td>1</td>\n",
       "      <td>0</td>\n",
       "      <td>0</td>\n",
       "      <td>1</td>\n",
       "      <td>0</td>\n",
       "      <td>1</td>\n",
       "      <td>0</td>\n",
       "      <td>0</td>\n",
       "    </tr>\n",
       "    <tr>\n",
       "      <th>9</th>\n",
       "      <td>Father Thomas</td>\n",
       "      <td>0</td>\n",
       "      <td>0</td>\n",
       "      <td>92.2300</td>\n",
       "      <td>42.5</td>\n",
       "      <td>0</td>\n",
       "      <td>0</td>\n",
       "      <td>1</td>\n",
       "      <td>0</td>\n",
       "      <td>0</td>\n",
       "      <td>1</td>\n",
       "      <td>0</td>\n",
       "      <td>1</td>\n",
       "      <td>0</td>\n",
       "      <td>0</td>\n",
       "    </tr>\n",
       "  </tbody>\n",
       "</table>\n",
       "</div>"
      ],
      "text/plain": [
       "                  Names  Survival_in_Movie  Predicted_Survival      Fare  \\\n",
       "0                  Jack                  0                   0    7.2500   \n",
       "1              Fabrizio                  0                   0    7.2500   \n",
       "2                  Rose                  1                   1  452.3292   \n",
       "3                   Cal                  1                   1  437.3292   \n",
       "4                  Ruth                  1                   1  452.3292   \n",
       "5                  Cora                  0                   1    8.0500   \n",
       "6                 Trudy                  0                   1  120.0530   \n",
       "7           Molly Brown                  1                   1  315.3292   \n",
       "8  Violinist Bandleader                  0                   0  124.4527   \n",
       "9         Father Thomas                  0                   0   92.2300   \n",
       "\n",
       "    Age  SibSp  Parch  Sex_num_0  Sex_num_1  Pclass_1  Pclass_2  Pclass_3  \\\n",
       "0  20.0      0      0          1          0         0         0         1   \n",
       "1  23.0      0      0          1          0         0         0         1   \n",
       "2  17.0      0      1          0          1         1         0         0   \n",
       "3  30.0      0      0          1          0         1         0         0   \n",
       "4  43.5      0      1          0          1         1         0         0   \n",
       "5   5.4      1      1          0          1         0         0         1   \n",
       "6  33.0      0      0          0          1         1         0         0   \n",
       "7  65.0      0      1          0          1         1         0         0   \n",
       "8  33.0      1      0          1          0         0         1         0   \n",
       "9  42.5      0      0          1          0         0         1         0   \n",
       "\n",
       "   Embarked_num_1  Embarked_num_2  Embarked_num_3  \n",
       "0               1               0               0  \n",
       "1               1               0               0  \n",
       "2               1               0               0  \n",
       "3               1               0               0  \n",
       "4               1               0               0  \n",
       "5               1               0               0  \n",
       "6               1               0               0  \n",
       "7               0               1               0  \n",
       "8               1               0               0  \n",
       "9               1               0               0  "
      ]
     },
     "execution_count": 281,
     "metadata": {},
     "output_type": "execute_result"
    }
   ],
   "source": [
    "fictional_characters = predict_survival(\n",
    "    model, \n",
    "    scaler, \n",
    "    passengers_data=[\n",
    "    [7.2500,20.0,0,0,1,0,0,0,1,1,0,0],\n",
    "    [7.2500,23.0,0,0,1,0,0,0,1,1,0,0], \n",
    "    [452.3292,17.0,0,1,0,1,1,0,0,1,0,0],\n",
    "    [437.3292,30.0,0,0,1,0,1,0,0,1,0,0],\n",
    "    [452.3292,43.5,0,1,0,1,1,0,0,1,0,0],\n",
    "    [8.0500,5.4,1,1,0,1,0,0,1,1,0,0],\n",
    "    [120.0530,33.0,0,0,0,1,1,0,0,1,0,0],\n",
    "    [315.3292,65.0,0,1,0,1,1,0,0,0,1,0],\n",
    "    [124.4527,33.0,1,0,1,0,0,1,0,1,0,0],\n",
    "    [92.2300,42.5,0,0,1,0,0,1,0,1,0,0]\n",
    "    ], \n",
    "    features_columns=features.columns,\n",
    "    characters = [  \n",
    "      'Jack', 'Fabrizio', 'Rose', 'Cal',\n",
    "      'Ruth', 'Cora', 'Trudy', 'Molly Brown', \n",
    "      'Violinist Bandleader', 'Father Thomas'\n",
    "      ],\n",
    "    survival_m = [0,0,1,1,1,0,0,1,0,0],\n",
    "    order = [\n",
    "      'Names', 'Survival_in_Movie', 'Predicted_Survival', \n",
    "      'Fare', 'Age', 'SibSp', 'Parch', 'Sex_num_0', 'Sex_num_1', 'Pclass_1',\n",
    "      'Pclass_2', 'Pclass_3', 'Embarked_num_1', 'Embarked_num_2',\n",
    "      'Embarked_num_3'\n",
    "      ]\n",
    "      )\n",
    "\n",
    "fictional_characters"
   ]
  },
  {
   "cell_type": "markdown",
   "metadata": {},
   "source": [
    "## Conclusion\n",
    "\n",
    "If we compare results of `Survival_in_Movie` and `Predicted_Survival` we'll find that model did pretty good estimation, with a couple of  exceptions like Trudy and Cora.\n",
    "\n",
    "These 2 could be considered as special cases for our model, because their parameters stand out compared to others. Trudy was a maid who should have been second or third-class passenger by her financial and social status, but was located in a very proximity with first-class passengers, so technically was considered also a first-class passenger. Though I made her fare  level close to one of  the second-class passengers, model predicted her survival. In the movie, as well, unfortunately, as in real life - almost all domestic servants, by the will of their owners or not, were left to the mercy of fate. As a result many of them, most likely, died, like the character of Trudy did. \n",
    "\n",
    "Cora's survival predicted by the model is not easy to explain. On one hand young females with low cost tickets and being third-class passengers were likely to die. But maybe she was too young to get in this category, and in spite having sibling and parents (those have negative coefficients within model) was predicted to survive. In the movie, though, this character also died, most likely to represent a sad truth of real-life implementation of the famous saying: \"Women and children first\".\n",
    "\n",
    "To account for such special cases one could implement regex special rules for the model."
   ]
  }
 ],
 "metadata": {
  "kernelspec": {
   "display_name": "Python 3.10.5 64-bit (windows store)",
   "language": "python",
   "name": "python3"
  },
  "language_info": {
   "codemirror_mode": {
    "name": "ipython",
    "version": 3
   },
   "file_extension": ".py",
   "mimetype": "text/x-python",
   "name": "python",
   "nbconvert_exporter": "python",
   "pygments_lexer": "ipython3",
   "version": "3.10.7"
  },
  "orig_nbformat": 4,
  "vscode": {
   "interpreter": {
    "hash": "a166e61b3f1e7b9ccc9f59f78d7cc3087a9ccbb0b1a7cff444b301613a633a54"
   }
  }
 },
 "nbformat": 4,
 "nbformat_minor": 2
}
