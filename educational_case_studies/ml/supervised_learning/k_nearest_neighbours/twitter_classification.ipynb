{
 "cells": [
  {
   "attachments": {},
   "cell_type": "markdown",
   "metadata": {},
   "source": [
    "# Twitter Classification\n",
    "\n",
    "The first goal of this project is to predict whether a tweet will go viral using a K-Nearest Neighbour classifier. The second is to determine whether a tweet was sent from New York, London, or Paris using Logistic Regression and Naive Bayes classifiers with vectorization of different sparsity levels applied to their features. Therefore, in the first part we'll try to understand what influences tweet's virality most: tweet's length, number of links/hashtags, language or account info. In the second part we will investigate how language influences the classification choice and how much we can additionally contribute to this choice using different vectorisation technics.\n",
    "\n",
    "Dataset is provided by codecademy. Data was collected somewhere\n",
    "\n",
    "## Classifying Tweets by Virality\n",
    "\n",
    "### Investigation and Cleaning\n",
    "\n",
    "Let's start by importing necessary tools, loading first part of the data `random_tweets` in `all_tweets` variable and displaying some basic info about this dataset.\n",
    "\n",
    "Note: random_tweets.json is a large file, so won't be uploaded to GitHub."
   ]
  },
  {
   "cell_type": "code",
   "execution_count": 78,
   "metadata": {},
   "outputs": [],
   "source": [
    "# Basic imports related to analysis\n",
    "import pandas as pd\n",
    "import numpy as np\n",
    "\n",
    "# Imports for files processing\n",
    "import os\n",
    "import pickle\n",
    "\n",
    "# Imports related to visualisation\n",
    "import matplotlib.pyplot as plt\n",
    "import seaborn as sns\n",
    "\n",
    "# Imports related to preprocessing\n",
    "from sklearn.preprocessing import scale\n",
    "import sklearn.utils\n",
    "\n",
    "\n",
    "# Imports related to ml\n",
    "from sklearn.model_selection import train_test_split\n",
    "from sklearn.neighbors import KNeighborsClassifier\n"
   ]
  },
  {
   "cell_type": "markdown",
   "metadata": {},
   "source": [
    "Note: we are going to use pickle to speed up running time, so in some cells will be placed pickle functions."
   ]
  },
  {
   "cell_type": "code",
   "execution_count": 2,
   "metadata": {},
   "outputs": [],
   "source": [
    "def pickle_object(object, file_path):\n",
    "    with open(file_path, 'wb') as f:\n",
    "        pickle.dump(object, f)\n",
    "\n",
    "def unpickle_object(file_path):\n",
    "    if not os.path.isfile(file_path):\n",
    "        return None\n",
    "    with open(file_path, 'rb') as f:\n",
    "        return pickle.load(f)\n",
    "\n",
    "def with_pickle(file_path, fun):\n",
    "    value = unpickle_object(file_path)\n",
    "    if value is None:\n",
    "        value = fun()\n",
    "        pickle_object(value, file_path)\n",
    "    return value"
   ]
  },
  {
   "cell_type": "code",
   "execution_count": 3,
   "metadata": {},
   "outputs": [
    {
     "data": {
      "text/html": [
       "<div>\n",
       "<style scoped>\n",
       "    .dataframe tbody tr th:only-of-type {\n",
       "        vertical-align: middle;\n",
       "    }\n",
       "\n",
       "    .dataframe tbody tr th {\n",
       "        vertical-align: top;\n",
       "    }\n",
       "\n",
       "    .dataframe thead th {\n",
       "        text-align: right;\n",
       "    }\n",
       "</style>\n",
       "<table border=\"1\" class=\"dataframe\">\n",
       "  <thead>\n",
       "    <tr style=\"text-align: right;\">\n",
       "      <th></th>\n",
       "      <th>created_at</th>\n",
       "      <th>id</th>\n",
       "      <th>id_str</th>\n",
       "      <th>text</th>\n",
       "      <th>truncated</th>\n",
       "      <th>entities</th>\n",
       "      <th>metadata</th>\n",
       "      <th>source</th>\n",
       "      <th>in_reply_to_status_id</th>\n",
       "      <th>in_reply_to_status_id_str</th>\n",
       "      <th>in_reply_to_user_id</th>\n",
       "      <th>in_reply_to_user_id_str</th>\n",
       "      <th>in_reply_to_screen_name</th>\n",
       "      <th>user</th>\n",
       "      <th>geo</th>\n",
       "      <th>coordinates</th>\n",
       "      <th>place</th>\n",
       "      <th>contributors</th>\n",
       "      <th>retweeted_status</th>\n",
       "      <th>is_quote_status</th>\n",
       "      <th>retweet_count</th>\n",
       "      <th>favorite_count</th>\n",
       "      <th>favorited</th>\n",
       "      <th>retweeted</th>\n",
       "      <th>lang</th>\n",
       "      <th>possibly_sensitive</th>\n",
       "      <th>quoted_status_id</th>\n",
       "      <th>quoted_status_id_str</th>\n",
       "      <th>extended_entities</th>\n",
       "      <th>quoted_status</th>\n",
       "      <th>withheld_in_countries</th>\n",
       "    </tr>\n",
       "  </thead>\n",
       "  <tbody>\n",
       "    <tr>\n",
       "      <th>0</th>\n",
       "      <td>2018-07-31 13:34:40+00:00</td>\n",
       "      <td>1024287229525598210</td>\n",
       "      <td>1024287229525598208</td>\n",
       "      <td>RT @KWWLStormTrack7: We are more than a month ...</td>\n",
       "      <td>False</td>\n",
       "      <td>{'hashtags': [], 'symbols': [], 'user_mentions...</td>\n",
       "      <td>{'iso_language_code': 'en', 'result_type': 're...</td>\n",
       "      <td>&lt;a href=\"http://twitter.com/download/android\" ...</td>\n",
       "      <td>NaN</td>\n",
       "      <td>NaN</td>\n",
       "      <td>NaN</td>\n",
       "      <td>NaN</td>\n",
       "      <td>None</td>\n",
       "      <td>{'id': 145388018, 'id_str': '145388018', 'name...</td>\n",
       "      <td>None</td>\n",
       "      <td>None</td>\n",
       "      <td>None</td>\n",
       "      <td>NaN</td>\n",
       "      <td>{'created_at': 'Mon Jul 30 16:49:41 +0000 2018...</td>\n",
       "      <td>False</td>\n",
       "      <td>3</td>\n",
       "      <td>0</td>\n",
       "      <td>False</td>\n",
       "      <td>False</td>\n",
       "      <td>en</td>\n",
       "      <td>NaN</td>\n",
       "      <td>NaN</td>\n",
       "      <td>NaN</td>\n",
       "      <td>NaN</td>\n",
       "      <td>NaN</td>\n",
       "      <td>NaN</td>\n",
       "    </tr>\n",
       "    <tr>\n",
       "      <th>1</th>\n",
       "      <td>2018-07-31 13:34:40+00:00</td>\n",
       "      <td>1024287229512953856</td>\n",
       "      <td>1024287229512953856</td>\n",
       "      <td>@hail_ee23 Thanks love its just the feeling of...</td>\n",
       "      <td>False</td>\n",
       "      <td>{'hashtags': [], 'symbols': [], 'user_mentions...</td>\n",
       "      <td>{'iso_language_code': 'en', 'result_type': 're...</td>\n",
       "      <td>&lt;a href=\"http://twitter.com/download/iphone\" r...</td>\n",
       "      <td>1.024128e+18</td>\n",
       "      <td>1.024128e+18</td>\n",
       "      <td>9.271857e+17</td>\n",
       "      <td>9.271857e+17</td>\n",
       "      <td>hail_ee23</td>\n",
       "      <td>{'id': 2407992339, 'id_str': '2407992339', 'na...</td>\n",
       "      <td>None</td>\n",
       "      <td>None</td>\n",
       "      <td>{'id': '26b41b13d49ea2bf', 'url': 'https://api...</td>\n",
       "      <td>NaN</td>\n",
       "      <td>NaN</td>\n",
       "      <td>False</td>\n",
       "      <td>0</td>\n",
       "      <td>0</td>\n",
       "      <td>False</td>\n",
       "      <td>False</td>\n",
       "      <td>en</td>\n",
       "      <td>NaN</td>\n",
       "      <td>NaN</td>\n",
       "      <td>NaN</td>\n",
       "      <td>NaN</td>\n",
       "      <td>NaN</td>\n",
       "      <td>NaN</td>\n",
       "    </tr>\n",
       "    <tr>\n",
       "      <th>2</th>\n",
       "      <td>2018-07-31 13:34:40+00:00</td>\n",
       "      <td>1024287229504569344</td>\n",
       "      <td>1024287229504569344</td>\n",
       "      <td>RT @TransMediaWatch: Pink News has more on the...</td>\n",
       "      <td>False</td>\n",
       "      <td>{'hashtags': [], 'symbols': [], 'user_mentions...</td>\n",
       "      <td>{'iso_language_code': 'en', 'result_type': 're...</td>\n",
       "      <td>&lt;a href=\"http://twitter.com/download/iphone\" r...</td>\n",
       "      <td>NaN</td>\n",
       "      <td>NaN</td>\n",
       "      <td>NaN</td>\n",
       "      <td>NaN</td>\n",
       "      <td>None</td>\n",
       "      <td>{'id': 901579698223931392, 'id_str': '90157969...</td>\n",
       "      <td>None</td>\n",
       "      <td>None</td>\n",
       "      <td>None</td>\n",
       "      <td>NaN</td>\n",
       "      <td>{'created_at': 'Tue Jul 31 11:03:32 +0000 2018...</td>\n",
       "      <td>False</td>\n",
       "      <td>5</td>\n",
       "      <td>0</td>\n",
       "      <td>False</td>\n",
       "      <td>False</td>\n",
       "      <td>en</td>\n",
       "      <td>0.0</td>\n",
       "      <td>NaN</td>\n",
       "      <td>NaN</td>\n",
       "      <td>NaN</td>\n",
       "      <td>NaN</td>\n",
       "      <td>NaN</td>\n",
       "    </tr>\n",
       "  </tbody>\n",
       "</table>\n",
       "</div>"
      ],
      "text/plain": [
       "                 created_at                   id               id_str  \\\n",
       "0 2018-07-31 13:34:40+00:00  1024287229525598210  1024287229525598208   \n",
       "1 2018-07-31 13:34:40+00:00  1024287229512953856  1024287229512953856   \n",
       "2 2018-07-31 13:34:40+00:00  1024287229504569344  1024287229504569344   \n",
       "\n",
       "                                                text  truncated  \\\n",
       "0  RT @KWWLStormTrack7: We are more than a month ...      False   \n",
       "1  @hail_ee23 Thanks love its just the feeling of...      False   \n",
       "2  RT @TransMediaWatch: Pink News has more on the...      False   \n",
       "\n",
       "                                            entities  \\\n",
       "0  {'hashtags': [], 'symbols': [], 'user_mentions...   \n",
       "1  {'hashtags': [], 'symbols': [], 'user_mentions...   \n",
       "2  {'hashtags': [], 'symbols': [], 'user_mentions...   \n",
       "\n",
       "                                            metadata  \\\n",
       "0  {'iso_language_code': 'en', 'result_type': 're...   \n",
       "1  {'iso_language_code': 'en', 'result_type': 're...   \n",
       "2  {'iso_language_code': 'en', 'result_type': 're...   \n",
       "\n",
       "                                              source  in_reply_to_status_id  \\\n",
       "0  <a href=\"http://twitter.com/download/android\" ...                    NaN   \n",
       "1  <a href=\"http://twitter.com/download/iphone\" r...           1.024128e+18   \n",
       "2  <a href=\"http://twitter.com/download/iphone\" r...                    NaN   \n",
       "\n",
       "   in_reply_to_status_id_str  in_reply_to_user_id  in_reply_to_user_id_str  \\\n",
       "0                        NaN                  NaN                      NaN   \n",
       "1               1.024128e+18         9.271857e+17             9.271857e+17   \n",
       "2                        NaN                  NaN                      NaN   \n",
       "\n",
       "  in_reply_to_screen_name                                               user  \\\n",
       "0                    None  {'id': 145388018, 'id_str': '145388018', 'name...   \n",
       "1               hail_ee23  {'id': 2407992339, 'id_str': '2407992339', 'na...   \n",
       "2                    None  {'id': 901579698223931392, 'id_str': '90157969...   \n",
       "\n",
       "    geo coordinates                                              place  \\\n",
       "0  None        None                                               None   \n",
       "1  None        None  {'id': '26b41b13d49ea2bf', 'url': 'https://api...   \n",
       "2  None        None                                               None   \n",
       "\n",
       "   contributors                                   retweeted_status  \\\n",
       "0           NaN  {'created_at': 'Mon Jul 30 16:49:41 +0000 2018...   \n",
       "1           NaN                                                NaN   \n",
       "2           NaN  {'created_at': 'Tue Jul 31 11:03:32 +0000 2018...   \n",
       "\n",
       "   is_quote_status  retweet_count  favorite_count  favorited  retweeted lang  \\\n",
       "0            False              3               0      False      False   en   \n",
       "1            False              0               0      False      False   en   \n",
       "2            False              5               0      False      False   en   \n",
       "\n",
       "   possibly_sensitive  quoted_status_id  quoted_status_id_str  \\\n",
       "0                 NaN               NaN                   NaN   \n",
       "1                 NaN               NaN                   NaN   \n",
       "2                 0.0               NaN                   NaN   \n",
       "\n",
       "  extended_entities quoted_status withheld_in_countries  \n",
       "0               NaN           NaN                   NaN  \n",
       "1               NaN           NaN                   NaN  \n",
       "2               NaN           NaN                   NaN  "
      ]
     },
     "execution_count": 3,
     "metadata": {},
     "output_type": "execute_result"
    }
   ],
   "source": [
    "# Display all columns\n",
    "pd.set_option('display.max_columns', None)\n",
    "\n",
    "# Read json file\n",
    "all_tweets = pd.read_json(\"random_tweets.json\", lines=True)\n",
    "all_tweets.head(3)"
   ]
  },
  {
   "cell_type": "code",
   "execution_count": 80,
   "metadata": {},
   "outputs": [],
   "source": [
    "def visualise_heatmap(dataset_corr, corr_objects, cmap):\n",
    "    # Prepare figure\n",
    "    plt.figure(figsize = (21,12))\n",
    "\n",
    "    # Draw heatmap as triangle\n",
    "    mask = np.triu(np.ones_like(dataset_corr, dtype=bool))\n",
    "    # Add descriptions\n",
    "    plt.title(' Correlations of ' + corr_objects, fontsize= 'x-large')\n",
    "    plt.xticks(rotation=45)\n",
    "\n",
    "    # Plot heatmap\n",
    "    heatmap = sns.heatmap(dataset_corr, annot=True, vmax=1, vmin=-1, cmap=cmap, mask=mask)\n",
    "    return heatmap"
   ]
  },
  {
   "cell_type": "markdown",
   "metadata": {},
   "source": [
    "That's a lot of columns. Let's check the dataset's metadata to find more. "
   ]
  },
  {
   "cell_type": "code",
   "execution_count": 4,
   "metadata": {},
   "outputs": [
    {
     "name": "stdout",
     "output_type": "stream",
     "text": [
      "<class 'pandas.core.frame.DataFrame'>\n",
      "RangeIndex: 11099 entries, 0 to 11098\n",
      "Data columns (total 31 columns):\n",
      " #   Column                     Non-Null Count  Dtype              \n",
      "---  ------                     --------------  -----              \n",
      " 0   created_at                 11099 non-null  datetime64[ns, UTC]\n",
      " 1   id                         11099 non-null  int64              \n",
      " 2   id_str                     11099 non-null  int64              \n",
      " 3   text                       11099 non-null  object             \n",
      " 4   truncated                  11099 non-null  bool               \n",
      " 5   entities                   11099 non-null  object             \n",
      " 6   metadata                   11099 non-null  object             \n",
      " 7   source                     11099 non-null  object             \n",
      " 8   in_reply_to_status_id      1402 non-null   float64            \n",
      " 9   in_reply_to_status_id_str  1402 non-null   float64            \n",
      " 10  in_reply_to_user_id        1503 non-null   float64            \n",
      " 11  in_reply_to_user_id_str    1503 non-null   float64            \n",
      " 12  in_reply_to_screen_name    1503 non-null   object             \n",
      " 13  user                       11099 non-null  object             \n",
      " 14  geo                        17 non-null     object             \n",
      " 15  coordinates                17 non-null     object             \n",
      " 16  place                      156 non-null    object             \n",
      " 17  contributors               0 non-null      float64            \n",
      " 18  retweeted_status           7372 non-null   object             \n",
      " 19  is_quote_status            11099 non-null  bool               \n",
      " 20  retweet_count              11099 non-null  int64              \n",
      " 21  favorite_count             11099 non-null  int64              \n",
      " 22  favorited                  11099 non-null  bool               \n",
      " 23  retweeted                  11099 non-null  bool               \n",
      " 24  lang                       11099 non-null  object             \n",
      " 25  possibly_sensitive         3192 non-null   float64            \n",
      " 26  quoted_status_id           1154 non-null   float64            \n",
      " 27  quoted_status_id_str       1154 non-null   float64            \n",
      " 28  extended_entities          1199 non-null   object             \n",
      " 29  quoted_status              327 non-null    object             \n",
      " 30  withheld_in_countries      2 non-null      object             \n",
      "dtypes: bool(4), datetime64[ns, UTC](1), float64(8), int64(4), object(14)\n",
      "memory usage: 2.3+ MB\n"
     ]
    }
   ],
   "source": [
    "all_tweets.info()"
   ]
  },
  {
   "cell_type": "markdown",
   "metadata": {},
   "source": [
    "Apparently, some columns are dictionaries, for example, column `user`. So we might use some information found within them. "
   ]
  },
  {
   "cell_type": "code",
   "execution_count": 5,
   "metadata": {},
   "outputs": [
    {
     "data": {
      "text/plain": [
       "{'id': 145388018,\n",
       " 'id_str': '145388018',\n",
       " 'name': 'Derek Wolkenhauer',\n",
       " 'screen_name': 'derekw221',\n",
       " 'location': 'Waterloo, Iowa',\n",
       " 'description': '',\n",
       " 'url': None,\n",
       " 'entities': {'description': {'urls': []}},\n",
       " 'protected': False,\n",
       " 'followers_count': 215,\n",
       " 'friends_count': 335,\n",
       " 'listed_count': 2,\n",
       " 'created_at': 'Tue May 18 21:30:10 +0000 2010',\n",
       " 'favourites_count': 3419,\n",
       " 'utc_offset': None,\n",
       " 'time_zone': None,\n",
       " 'geo_enabled': True,\n",
       " 'verified': False,\n",
       " 'statuses_count': 4475,\n",
       " 'lang': 'en',\n",
       " 'contributors_enabled': False,\n",
       " 'is_translator': False,\n",
       " 'is_translation_enabled': False,\n",
       " 'profile_background_color': '022330',\n",
       " 'profile_background_image_url': 'http://abs.twimg.com/images/themes/theme15/bg.png',\n",
       " 'profile_background_image_url_https': 'https://abs.twimg.com/images/themes/theme15/bg.png',\n",
       " 'profile_background_tile': False,\n",
       " 'profile_image_url': 'http://pbs.twimg.com/profile_images/995790590276243456/cgxRVviN_normal.jpg',\n",
       " 'profile_image_url_https': 'https://pbs.twimg.com/profile_images/995790590276243456/cgxRVviN_normal.jpg',\n",
       " 'profile_banner_url': 'https://pbs.twimg.com/profile_banners/145388018/1494937921',\n",
       " 'profile_link_color': '0084B4',\n",
       " 'profile_sidebar_border_color': 'A8C7F7',\n",
       " 'profile_sidebar_fill_color': 'C0DFEC',\n",
       " 'profile_text_color': '333333',\n",
       " 'profile_use_background_image': True,\n",
       " 'has_extended_profile': True,\n",
       " 'default_profile': False,\n",
       " 'default_profile_image': False,\n",
       " 'following': False,\n",
       " 'follow_request_sent': False,\n",
       " 'notifications': False,\n",
       " 'translator_type': 'none'}"
      ]
     },
     "execution_count": 5,
     "metadata": {},
     "output_type": "execute_result"
    }
   ],
   "source": [
    "all_tweets.loc[0][\"user\"]"
   ]
  },
  {
   "cell_type": "markdown",
   "metadata": {},
   "source": [
    "For example, we could fish out user's nick and location out of the `user` dictionary."
   ]
  },
  {
   "cell_type": "code",
   "execution_count": 6,
   "metadata": {},
   "outputs": [
    {
     "data": {
      "text/plain": [
       "'derekw221'"
      ]
     },
     "execution_count": 6,
     "metadata": {},
     "output_type": "execute_result"
    }
   ],
   "source": [
    "all_tweets.loc[0]['user']['screen_name']"
   ]
  },
  {
   "cell_type": "code",
   "execution_count": 7,
   "metadata": {},
   "outputs": [
    {
     "data": {
      "text/plain": [
       "'Waterloo, Iowa'"
      ]
     },
     "execution_count": 7,
     "metadata": {},
     "output_type": "execute_result"
    }
   ],
   "source": [
    "all_tweets.loc[0]['user']['location']"
   ]
  },
  {
   "cell_type": "markdown",
   "metadata": {},
   "source": [
    "Result: \n",
    "- There are a lot of empty fields in this dataset, some them marked as `NaN` and others as `None`, nevertheless both considered as missing values. \n",
    "- Some columns were auto-converted by `pandas` from strings to integers, though were meant to be kept as strings in `json`, as `id_str` for instance.  \n",
    "\n",
    "Considering our current goals, we won't need most of the data from this dataset, so there is no need to correct small flaws, mentioned above at the moment, we can just proceed as it is. "
   ]
  },
  {
   "cell_type": "markdown",
   "metadata": {},
   "source": [
    "### Defining Viral Tweets\n",
    "\n",
    "A K-Nearest Neighbor classifier is a supervised machine learning algorithm, so we need to have a dataset with tagged labels to work with it. So to predict virality we first need to mark each tweet in this dataset as `viral` or `not viral`.\n",
    "\n",
    "We will start by looking at statistics of retweets."
   ]
  },
  {
   "cell_type": "code",
   "execution_count": 8,
   "metadata": {},
   "outputs": [
    {
     "data": {
      "text/plain": [
       "count     11099.000000\n",
       "mean       2777.956392\n",
       "std       12180.169923\n",
       "min           0.000000\n",
       "25%           0.000000\n",
       "50%          13.000000\n",
       "75%         428.500000\n",
       "max      413719.000000\n",
       "Name: retweet_count, dtype: float64"
      ]
     },
     "execution_count": 8,
     "metadata": {},
     "output_type": "execute_result"
    }
   ],
   "source": [
    "all_tweets.retweet_count.describe()"
   ]
  },
  {
   "cell_type": "markdown",
   "metadata": {},
   "source": [
    "`50%` of tweets have 13 retweets, looks like a good number to determine whether tweet is viral or not."
   ]
  },
  {
   "cell_type": "code",
   "execution_count": 9,
   "metadata": {},
   "outputs": [
    {
     "data": {
      "text/plain": [
       "0    0\n",
       "1    0\n",
       "2    0\n",
       "3    1\n",
       "4    0\n",
       "Name: is_viral, dtype: int32"
      ]
     },
     "execution_count": 9,
     "metadata": {},
     "output_type": "execute_result"
    }
   ],
   "source": [
    "all_tweets['is_viral'] = np.where(all_tweets['retweet_count'] > all_tweets.retweet_count.median(), 1, 0)\n",
    "all_tweets.is_viral.head()"
   ]
  },
  {
   "cell_type": "markdown",
   "metadata": {},
   "source": [
    "### Making Features\n",
    "\n",
    "Now that we've created a label for every tweet in our dataset, we can begin thinking about which features might determine whether a tweet is viral. We can create new columns in our dataset to represent these features. \n",
    "\n",
    "Our fearues will be (some are self-explanatory): \n",
    "- `tweet_length`; \n",
    "- `followers_count` - Number of followers of an account a tweet was posted by; \n",
    "- `friends_count` - Number of friends of an account; \n",
    "- `tweet_hashtags` - Number of `#` signs in a tweet;\n",
    "- `tweet_links`; \n",
    "- `tweet_words_count`;\n",
    "- `words_avg_lenth` - average length of tweet's words.\n",
    "\n",
    "Note: Unfortunately the datasets I use in this project don't have `likes` column in them,  instead they have `favourite` column which was replaced by likes somewhere in 2015."
   ]
  },
  {
   "cell_type": "code",
   "execution_count": 10,
   "metadata": {},
   "outputs": [
    {
     "data": {
      "text/plain": [
       "0    140\n",
       "1     77\n",
       "2    140\n",
       "3    140\n",
       "4    140\n",
       "Name: tweet_length, dtype: int64"
      ]
     },
     "execution_count": 10,
     "metadata": {},
     "output_type": "execute_result"
    }
   ],
   "source": [
    "# Add new column to all_tweets dataset\n",
    "all_tweets['tweet_length'] = all_tweets.apply(lambda tweet: len(tweet['text']), axis=1)\n",
    "all_tweets.tweet_length.head()"
   ]
  },
  {
   "cell_type": "code",
   "execution_count": 11,
   "metadata": {},
   "outputs": [
    {
     "data": {
      "text/plain": [
       "0     215\n",
       "1     199\n",
       "2     196\n",
       "3    3313\n",
       "4     125\n",
       "Name: followers_count, dtype: int64"
      ]
     },
     "execution_count": 11,
     "metadata": {},
     "output_type": "execute_result"
    }
   ],
   "source": [
    "# Add new column to all_tweets dataset\n",
    "all_tweets['followers_count'] = all_tweets.apply(lambda tweet: tweet['user']['followers_count'], axis=1)\n",
    "all_tweets.followers_count.head()"
   ]
  },
  {
   "cell_type": "code",
   "execution_count": 12,
   "metadata": {},
   "outputs": [
    {
     "data": {
      "text/plain": [
       "0     335\n",
       "1     203\n",
       "2     558\n",
       "3    2272\n",
       "4     273\n",
       "Name: friends_count, dtype: int64"
      ]
     },
     "execution_count": 12,
     "metadata": {},
     "output_type": "execute_result"
    }
   ],
   "source": [
    "# Add new column to all_tweets dataset\n",
    "all_tweets['friends_count'] = all_tweets.apply(lambda tweet: tweet['user']['friends_count'], axis=1)\n",
    "all_tweets.friends_count.head()"
   ]
  },
  {
   "cell_type": "code",
   "execution_count": 13,
   "metadata": {},
   "outputs": [],
   "source": [
    "# Add new column to all_tweets dataset\n",
    "all_tweets['tweet_hashtags'] = all_tweets.apply(lambda tweet: tweet['text'].count('#'), axis=1)"
   ]
  },
  {
   "cell_type": "markdown",
   "metadata": {},
   "source": [
    "How many tweets have more than 5 hashtags? "
   ]
  },
  {
   "cell_type": "code",
   "execution_count": 14,
   "metadata": {},
   "outputs": [
    {
     "data": {
      "text/plain": [
       "35"
      ]
     },
     "execution_count": 14,
     "metadata": {},
     "output_type": "execute_result"
    }
   ],
   "source": [
    "len(all_tweets.tweet_hashtags[all_tweets.tweet_hashtags > 5])"
   ]
  },
  {
   "cell_type": "code",
   "execution_count": 15,
   "metadata": {},
   "outputs": [],
   "source": [
    "# Add new column to all_tweets dataset\n",
    "all_tweets['tweet_links'] = all_tweets['text'].str.count(r'http(s)?')"
   ]
  },
  {
   "cell_type": "markdown",
   "metadata": {},
   "source": [
    "How many tweets with more than one link we got?"
   ]
  },
  {
   "cell_type": "code",
   "execution_count": 16,
   "metadata": {},
   "outputs": [
    {
     "data": {
      "text/plain": [
       "176"
      ]
     },
     "execution_count": 16,
     "metadata": {},
     "output_type": "execute_result"
    }
   ],
   "source": [
    "len(all_tweets[all_tweets.tweet_links > 1])"
   ]
  },
  {
   "cell_type": "code",
   "execution_count": 17,
   "metadata": {},
   "outputs": [],
   "source": [
    "# Add new column to all_tweets dataset\n",
    "all_tweets['tweet_words_count'] = all_tweets.apply(lambda tweet: len(tweet['text'].split()), axis=1)\n"
   ]
  },
  {
   "cell_type": "markdown",
   "metadata": {},
   "source": [
    "How many words people use in tweets on average and in most cases? "
   ]
  },
  {
   "cell_type": "code",
   "execution_count": 18,
   "metadata": {},
   "outputs": [
    {
     "data": {
      "text/plain": [
       "count    11099.000000\n",
       "mean        19.461753\n",
       "std          5.680495\n",
       "min          1.000000\n",
       "25%         16.000000\n",
       "50%         21.000000\n",
       "75%         24.000000\n",
       "max         41.000000\n",
       "Name: tweet_words_count, dtype: float64"
      ]
     },
     "execution_count": 18,
     "metadata": {},
     "output_type": "execute_result"
    }
   ],
   "source": [
    "all_tweets.tweet_words_count.describe()"
   ]
  },
  {
   "cell_type": "code",
   "execution_count": 19,
   "metadata": {},
   "outputs": [
    {
     "data": {
      "text/plain": [
       "0    4.423077\n",
       "1    4.200000\n",
       "2    5.409091\n",
       "3    4.875000\n",
       "4    4.875000\n",
       "Name: words_avg_lenth, dtype: float64"
      ]
     },
     "execution_count": 19,
     "metadata": {},
     "output_type": "execute_result"
    }
   ],
   "source": [
    "# Add new column to all_tweets dataset\n",
    "all_tweets['words_avg_lenth'] = all_tweets.apply(lambda tweet: np.mean([len(word) for word in tweet['text'].split()]), axis=1)\n",
    "all_tweets.words_avg_lenth.head()\n"
   ]
  },
  {
   "cell_type": "markdown",
   "metadata": {},
   "source": [
    "Before we go any further let's take a glimpse to correlation matrix and understand what correlations our features have with tweet's virality."
   ]
  },
  {
   "cell_type": "code",
   "execution_count": 90,
   "metadata": {},
   "outputs": [
    {
     "data": {
      "text/html": [
       "<div>\n",
       "<style scoped>\n",
       "    .dataframe tbody tr th:only-of-type {\n",
       "        vertical-align: middle;\n",
       "    }\n",
       "\n",
       "    .dataframe tbody tr th {\n",
       "        vertical-align: top;\n",
       "    }\n",
       "\n",
       "    .dataframe thead th {\n",
       "        text-align: right;\n",
       "    }\n",
       "</style>\n",
       "<table border=\"1\" class=\"dataframe\">\n",
       "  <thead>\n",
       "    <tr style=\"text-align: right;\">\n",
       "      <th></th>\n",
       "      <th>is_viral</th>\n",
       "      <th>tweet_length</th>\n",
       "      <th>followers_count</th>\n",
       "      <th>friends_count</th>\n",
       "      <th>tweet_links</th>\n",
       "      <th>tweet_hashtags</th>\n",
       "      <th>tweet_words_count</th>\n",
       "      <th>words_avg_lenth</th>\n",
       "    </tr>\n",
       "  </thead>\n",
       "  <tbody>\n",
       "    <tr>\n",
       "      <th>is_viral</th>\n",
       "      <td>1.000000</td>\n",
       "      <td>0.222237</td>\n",
       "      <td>-0.019830</td>\n",
       "      <td>-0.016200</td>\n",
       "      <td>-0.252995</td>\n",
       "      <td>0.015000</td>\n",
       "      <td>0.260649</td>\n",
       "      <td>-0.102148</td>\n",
       "    </tr>\n",
       "    <tr>\n",
       "      <th>tweet_length</th>\n",
       "      <td>0.222237</td>\n",
       "      <td>1.000000</td>\n",
       "      <td>0.007666</td>\n",
       "      <td>0.030084</td>\n",
       "      <td>-0.064049</td>\n",
       "      <td>0.093148</td>\n",
       "      <td>0.815694</td>\n",
       "      <td>-0.119345</td>\n",
       "    </tr>\n",
       "    <tr>\n",
       "      <th>followers_count</th>\n",
       "      <td>-0.019830</td>\n",
       "      <td>0.007666</td>\n",
       "      <td>1.000000</td>\n",
       "      <td>0.059670</td>\n",
       "      <td>0.015929</td>\n",
       "      <td>-0.004509</td>\n",
       "      <td>0.007181</td>\n",
       "      <td>-0.003556</td>\n",
       "    </tr>\n",
       "    <tr>\n",
       "      <th>friends_count</th>\n",
       "      <td>-0.016200</td>\n",
       "      <td>0.030084</td>\n",
       "      <td>0.059670</td>\n",
       "      <td>1.000000</td>\n",
       "      <td>0.001047</td>\n",
       "      <td>0.014447</td>\n",
       "      <td>0.011182</td>\n",
       "      <td>0.007115</td>\n",
       "    </tr>\n",
       "    <tr>\n",
       "      <th>tweet_links</th>\n",
       "      <td>-0.252995</td>\n",
       "      <td>-0.064049</td>\n",
       "      <td>0.015929</td>\n",
       "      <td>0.001047</td>\n",
       "      <td>1.000000</td>\n",
       "      <td>0.075466</td>\n",
       "      <td>-0.334687</td>\n",
       "      <td>0.341057</td>\n",
       "    </tr>\n",
       "    <tr>\n",
       "      <th>tweet_hashtags</th>\n",
       "      <td>0.015000</td>\n",
       "      <td>0.093148</td>\n",
       "      <td>-0.004509</td>\n",
       "      <td>0.014447</td>\n",
       "      <td>0.075466</td>\n",
       "      <td>1.000000</td>\n",
       "      <td>-0.050531</td>\n",
       "      <td>0.122161</td>\n",
       "    </tr>\n",
       "    <tr>\n",
       "      <th>tweet_words_count</th>\n",
       "      <td>0.260649</td>\n",
       "      <td>0.815694</td>\n",
       "      <td>0.007181</td>\n",
       "      <td>0.011182</td>\n",
       "      <td>-0.334687</td>\n",
       "      <td>-0.050531</td>\n",
       "      <td>1.000000</td>\n",
       "      <td>-0.539950</td>\n",
       "    </tr>\n",
       "    <tr>\n",
       "      <th>words_avg_lenth</th>\n",
       "      <td>-0.102148</td>\n",
       "      <td>-0.119345</td>\n",
       "      <td>-0.003556</td>\n",
       "      <td>0.007115</td>\n",
       "      <td>0.341057</td>\n",
       "      <td>0.122161</td>\n",
       "      <td>-0.539950</td>\n",
       "      <td>1.000000</td>\n",
       "    </tr>\n",
       "  </tbody>\n",
       "</table>\n",
       "</div>"
      ],
      "text/plain": [
       "                   is_viral  tweet_length  followers_count  friends_count  \\\n",
       "is_viral           1.000000      0.222237        -0.019830      -0.016200   \n",
       "tweet_length       0.222237      1.000000         0.007666       0.030084   \n",
       "followers_count   -0.019830      0.007666         1.000000       0.059670   \n",
       "friends_count     -0.016200      0.030084         0.059670       1.000000   \n",
       "tweet_links       -0.252995     -0.064049         0.015929       0.001047   \n",
       "tweet_hashtags     0.015000      0.093148        -0.004509       0.014447   \n",
       "tweet_words_count  0.260649      0.815694         0.007181       0.011182   \n",
       "words_avg_lenth   -0.102148     -0.119345        -0.003556       0.007115   \n",
       "\n",
       "                   tweet_links  tweet_hashtags  tweet_words_count  \\\n",
       "is_viral             -0.252995        0.015000           0.260649   \n",
       "tweet_length         -0.064049        0.093148           0.815694   \n",
       "followers_count       0.015929       -0.004509           0.007181   \n",
       "friends_count         0.001047        0.014447           0.011182   \n",
       "tweet_links           1.000000        0.075466          -0.334687   \n",
       "tweet_hashtags        0.075466        1.000000          -0.050531   \n",
       "tweet_words_count    -0.334687       -0.050531           1.000000   \n",
       "words_avg_lenth       0.341057        0.122161          -0.539950   \n",
       "\n",
       "                   words_avg_lenth  \n",
       "is_viral                 -0.102148  \n",
       "tweet_length             -0.119345  \n",
       "followers_count          -0.003556  \n",
       "friends_count             0.007115  \n",
       "tweet_links               0.341057  \n",
       "tweet_hashtags            0.122161  \n",
       "tweet_words_count        -0.539950  \n",
       "words_avg_lenth           1.000000  "
      ]
     },
     "execution_count": 90,
     "metadata": {},
     "output_type": "execute_result"
    }
   ],
   "source": [
    "metrics = all_tweets[[\n",
    "    'text',\n",
    "    'is_viral',\n",
    "    'tweet_length', \n",
    "    'followers_count', \n",
    "    'friends_count', \n",
    "    'tweet_links', \n",
    "    'tweet_hashtags', \n",
    "    'tweet_words_count', \n",
    "    'words_avg_lenth'\n",
    "    ]]\n",
    "metrics.corr()"
   ]
  },
  {
   "cell_type": "markdown",
   "metadata": {},
   "source": [
    "Result: there is a small positive correlation of virality with `tweet_length` (0.22), `tweet_words_count`(0.26), small negative with  `tweet_links`(-0.25) and even smaller negative with `words_avg_lenth`(-0.1). That's not great, but not too bad either.\n",
    "\n",
    "Let's proceed with the project by creating separate variables `features` in which we'll put all our new columns and `classes`, where `is_viral` column will go to."
   ]
  },
  {
   "cell_type": "code",
   "execution_count": 20,
   "metadata": {},
   "outputs": [],
   "source": [
    "features = all_tweets[\n",
    "    ['tweet_length', \n",
    "    'followers_count', \n",
    "    'friends_count', \n",
    "    'tweet_links', \n",
    "    'tweet_hashtags', \n",
    "    'tweet_words_count', \n",
    "    'words_avg_lenth']\n",
    "    ]\n",
    "classes = all_tweets.is_viral"
   ]
  },
  {
   "cell_type": "markdown",
   "metadata": {},
   "source": [
    "### Normalizing The Data\n",
    "\n",
    "Let's now normalise our features so their scales wouldn't be so drastically different and model would give them adequate rate of importance. We are going to use Z-score normalization from `scikit-learn`."
   ]
  },
  {
   "cell_type": "code",
   "execution_count": 21,
   "metadata": {},
   "outputs": [
    {
     "data": {
      "text/plain": [
       "array([ 0.6164054 , -0.02878298, -0.14483305, -0.78415588, -0.32045057,\n",
       "        1.15105133, -0.63295806])"
      ]
     },
     "execution_count": 21,
     "metadata": {},
     "output_type": "execute_result"
    }
   ],
   "source": [
    "features_scaled = scale(features)\n",
    "\n",
    "# Display first row\n",
    "features_scaled[0]"
   ]
  },
  {
   "cell_type": "markdown",
   "metadata": {},
   "source": [
    "### Creating Training and Testing Sets\n",
    "\n",
    "To evaluate the effectiveness of our classifier, we now split `features_scaled` and `classes` into a training sets and testing sets using scikit-learn's `train_test_split` function."
   ]
  },
  {
   "cell_type": "code",
   "execution_count": 22,
   "metadata": {},
   "outputs": [
    {
     "data": {
      "text/plain": [
       "8237    1\n",
       "198     1\n",
       "7877    0\n",
       "5771    0\n",
       "7258    1\n",
       "Name: is_viral, dtype: int32"
      ]
     },
     "execution_count": 22,
     "metadata": {},
     "output_type": "execute_result"
    }
   ],
   "source": [
    "# Split data into training and testing sets\n",
    "train_features, test_features, train_classes, test_classes = train_test_split(\n",
    "    features_scaled, \n",
    "    classes, \n",
    "    train_size=0.8, \n",
    "    test_size=0.2, \n",
    "    random_state=3\n",
    "    )\n",
    "\n",
    "# Display first 5 rows\n",
    "train_classes[:5]"
   ]
  },
  {
   "cell_type": "code",
   "execution_count": 23,
   "metadata": {},
   "outputs": [
    {
     "data": {
      "text/plain": [
       "array([[ 0.6164054 , -0.02737219, -0.1083415 , -0.78415588, -0.32045057,\n",
       "         0.62290454, -0.26795305],\n",
       "       [ 0.6164054 , -0.02977649, -0.16118231, -0.78415588, -0.32045057,\n",
       "         0.44685561, -0.21798353],\n",
       "       [ 0.58049776, -0.02694497, -0.12900696,  1.11738358, -0.32045057,\n",
       "        -0.08129118,  0.37086248],\n",
       "       [ 0.6164054 , -0.02532058,  0.06888449,  1.11738358, -0.32045057,\n",
       "        -1.66573155,  3.84443672],\n",
       "       [-0.85580803, -0.02402901, -0.0683185 ,  1.11738358, -0.32045057,\n",
       "        -0.7854869 ,  0.00874893]])"
      ]
     },
     "execution_count": 23,
     "metadata": {},
     "output_type": "execute_result"
    }
   ],
   "source": [
    "# Display first 5 rows\n",
    "train_features[:5]"
   ]
  },
  {
   "cell_type": "markdown",
   "metadata": {},
   "source": [
    "### Find best K value\n",
    "\n",
    "Our next task is to find the `k` nearest classified neighbours of the unclassified point using K-Nearest Neighbour Algorithm. \n",
    "\n",
    "The idea behind it is finding `k` number of known data-points that are most related from features perspective to the unknown data-point using distance formula, after what just put the unknown data-point in the same class as the majority of known most related to it data-points already are. \n",
    "\n",
    "But before creating the best possible classifier we should find the best value for the parameter `n_neighbors` or `k`. To find it we'll try to run the classifier with a bunch of different values from 1 to 200 and choose the one with the highest accuracy level. \n"
   ]
  },
  {
   "cell_type": "code",
   "execution_count": 24,
   "metadata": {},
   "outputs": [],
   "source": [
    "# Get accuracy scores for 200 different k values\n",
    "def get_scores():\n",
    "    scores=[]\n",
    "    for k in range(1, 200):\n",
    "        # Instantiate model\n",
    "        classifier = KNeighborsClassifier(n_neighbors=k)\n",
    "        # Train the model\n",
    "        classifier.fit(train_features, train_classes)\n",
    "        # Get model's accuracy\n",
    "        scores.append(classifier.score(test_features, test_classes))\n",
    "\n",
    "    # Get first 5 accuracy values\n",
    "    return scores\n",
    "\n",
    "scores = with_pickle('pickles/get_scores.pickle', lambda: get_scores()) "
   ]
  },
  {
   "cell_type": "markdown",
   "metadata": {},
   "source": [
    "Let's get those values on a graph to see how the accuracy changes depending on the `k`- value changes."
   ]
  },
  {
   "cell_type": "code",
   "execution_count": 25,
   "metadata": {},
   "outputs": [
    {
     "data": {
      "text/plain": [
       "Text(0, 0.5, 'Accuracy')"
      ]
     },
     "execution_count": 25,
     "metadata": {},
     "output_type": "execute_result"
    },
    {
     "data": {
      "image/png": "[encoded data removed]",
      "text/plain": [
       "<Figure size 1080x720 with 1 Axes>"
      ]
     },
     "metadata": {
      "needs_background": "light"
     },
     "output_type": "display_data"
    }
   ],
   "source": [
    "plt.figure(figsize=(15,10))\n",
    "plt.plot(range(1, 200), scores, color='Indigo')\n",
    "plt.fill_between(range(1, 200), 0.66, scores,\n",
    "                 facecolor=\"Indigo\", # The fill color\n",
    "                 color='Indigo',     # The outline color\n",
    "                 alpha=0.2) \n",
    "\n",
    "plt.title('K-value vs Accuracy', fontsize=15)\n",
    "plt.xlabel('k-value', fontsize=14)\n",
    "plt.ylabel('Accuracy', fontsize=14)"
   ]
  },
  {
   "cell_type": "markdown",
   "metadata": {},
   "source": [
    "Now we can find our best value of k by the highest accuracy value."
   ]
  },
  {
   "cell_type": "code",
   "execution_count": 26,
   "metadata": {},
   "outputs": [
    {
     "data": {
      "text/plain": [
       "0.7315315315315315"
      ]
     },
     "execution_count": 26,
     "metadata": {},
     "output_type": "execute_result"
    }
   ],
   "source": [
    "# Get maximum value of accuracy\n",
    "np.max(scores)"
   ]
  },
  {
   "cell_type": "code",
   "execution_count": 27,
   "metadata": {},
   "outputs": [
    {
     "data": {
      "text/plain": [
       "9"
      ]
     },
     "execution_count": 27,
     "metadata": {},
     "output_type": "execute_result"
    }
   ],
   "source": [
    "# Find k value that gets maximum accuracy\n",
    "scores.index(np.max(scores)) + 1"
   ]
  },
  {
   "cell_type": "code",
   "execution_count": 28,
   "metadata": {},
   "outputs": [
    {
     "name": "stdout",
     "output_type": "stream",
     "text": [
      "Accuracy:  73.0 %\n"
     ]
    }
   ],
   "source": [
    "# Instantiate model with best k\n",
    "best_k_classifier = KNeighborsClassifier(n_neighbors=scores.index(np.max(scores)) + 1)\n",
    "# Train the model\n",
    "best_k_classifier.fit(train_features, train_classes)\n",
    "# Get model's accuracy\n",
    "print('Accuracy: ', best_k_classifier.score(test_features, test_classes).round(2) *100, '%')"
   ]
  },
  {
   "cell_type": "markdown",
   "metadata": {},
   "source": [
    "### Emulation of Extrinsic evaluation\n",
    "\n",
    "Now we are going to get 10 viral tweets to this date 04.08.22 and 10 non viral tweets from english speaking twitter accounts and will test our classifier on them."
   ]
  },
  {
   "cell_type": "code",
   "execution_count": 29,
   "metadata": {},
   "outputs": [
    {
     "data": {
      "text/html": [
       "<div>\n",
       "<style scoped>\n",
       "    .dataframe tbody tr th:only-of-type {\n",
       "        vertical-align: middle;\n",
       "    }\n",
       "\n",
       "    .dataframe tbody tr th {\n",
       "        vertical-align: top;\n",
       "    }\n",
       "\n",
       "    .dataframe thead th {\n",
       "        text-align: right;\n",
       "    }\n",
       "</style>\n",
       "<table border=\"1\" class=\"dataframe\">\n",
       "  <thead>\n",
       "    <tr style=\"text-align: right;\">\n",
       "      <th></th>\n",
       "      <th>text</th>\n",
       "      <th>friends_count</th>\n",
       "      <th>followers_count</th>\n",
       "      <th>is_viral</th>\n",
       "    </tr>\n",
       "  </thead>\n",
       "  <tbody>\n",
       "    <tr>\n",
       "      <th>0</th>\n",
       "      <td>A Wren's real voice.</td>\n",
       "      <td>80</td>\n",
       "      <td>1415393</td>\n",
       "      <td>1</td>\n",
       "    </tr>\n",
       "    <tr>\n",
       "      <th>1</th>\n",
       "      <td>Welcome to the Paldea region, Trainers! 🤩 A sprawling land of vast open spaces— dotted with lakes, towering peaks, wastelands, and perilous mountain ranges. See you there! 🧳❤️💜 #PokemonScarletViolet</td>\n",
       "      <td>50</td>\n",
       "      <td>7240285</td>\n",
       "      <td>1</td>\n",
       "    </tr>\n",
       "    <tr>\n",
       "      <th>2</th>\n",
       "      <td>After 11 years with #lcfc, Kasper Schmeichel has joined Nice, ending his incredible spell with the Foxes 💙</td>\n",
       "      <td>126</td>\n",
       "      <td>2566960</td>\n",
       "      <td>1</td>\n",
       "    </tr>\n",
       "    <tr>\n",
       "      <th>3</th>\n",
       "      <td>Joker 2' takes place largely in Arkham Asylum</td>\n",
       "      <td>123</td>\n",
       "      <td>626594</td>\n",
       "      <td>1</td>\n",
       "    </tr>\n",
       "    <tr>\n",
       "      <th>4</th>\n",
       "      <td>BUTTER DOG #PokemonScarletViolet</td>\n",
       "      <td>657</td>\n",
       "      <td>15899</td>\n",
       "      <td>1</td>\n",
       "    </tr>\n",
       "    <tr>\n",
       "      <th>5</th>\n",
       "      <td>It's great to work at the interface of hardware, software, and biology, because you can get frustrated by three entirely different kinds of toolchains</td>\n",
       "      <td>582</td>\n",
       "      <td>570</td>\n",
       "      <td>1</td>\n",
       "    </tr>\n",
       "    <tr>\n",
       "      <th>6</th>\n",
       "      <td>The BioSynSys symposium on Synthetic and Systems Biology is now open for registrations/ submissions. Date: 12-14 September 2022. Location: The Learning Planet Institute, Paris. Register at: https://biosynsys2022.sciencesconf.org</td>\n",
       "      <td>535</td>\n",
       "      <td>468</td>\n",
       "      <td>1</td>\n",
       "    </tr>\n",
       "    <tr>\n",
       "      <th>7</th>\n",
       "      <td>If you're interested in a DPhil @OxfordBiology studying ecology/evolution/genomics of host-parasite interactions, get in touch. Friendly lab and timely questions! #globalclimatechange #infectiousdisease</td>\n",
       "      <td>1051</td>\n",
       "      <td>2549</td>\n",
       "      <td>1</td>\n",
       "    </tr>\n",
       "    <tr>\n",
       "      <th>8</th>\n",
       "      <td>Here's how it sounds when rival gangs of giant otters spot each other.</td>\n",
       "      <td>111</td>\n",
       "      <td>1661</td>\n",
       "      <td>1</td>\n",
       "    </tr>\n",
       "    <tr>\n",
       "      <th>9</th>\n",
       "      <td>After almost 2 decades of #research &amp; #exploration with some fantastic collaborations along the way we were able to compile this booklet on #skyisland #reptiles of #WesternGhats. With support from @InsideNatGeo we publish 500 printed copies &amp; free #ebook. A 🧵:</td>\n",
       "      <td>1120</td>\n",
       "      <td>1448</td>\n",
       "      <td>1</td>\n",
       "    </tr>\n",
       "    <tr>\n",
       "      <th>10</th>\n",
       "      <td>Whoever decided that that my Vizio TV needed an update that made it constantly try and turn to the SmartCast input should be publicly flogged.</td>\n",
       "      <td>2550</td>\n",
       "      <td>47220</td>\n",
       "      <td>0</td>\n",
       "    </tr>\n",
       "    <tr>\n",
       "      <th>11</th>\n",
       "      <td>Hey, @VinnyCaravella and I spent some time in Elden Ring trying to run a horse up a cliff and make a guy swim in full plate armor.</td>\n",
       "      <td>590</td>\n",
       "      <td>88982</td>\n",
       "      <td>0</td>\n",
       "    </tr>\n",
       "    <tr>\n",
       "      <th>12</th>\n",
       "      <td>working on the album again, folks join us stream begins now http://twitch.tv/vektroidlive</td>\n",
       "      <td>902</td>\n",
       "      <td>23477</td>\n",
       "      <td>0</td>\n",
       "    </tr>\n",
       "    <tr>\n",
       "      <th>13</th>\n",
       "      <td>Dear @jaytholen one day I'd really like to pick your brain for 80s/90s CCM recommendations if you have any. Feel like you might know some extremely choice stuff.</td>\n",
       "      <td>946</td>\n",
       "      <td>8719</td>\n",
       "      <td>0</td>\n",
       "    </tr>\n",
       "    <tr>\n",
       "      <th>14</th>\n",
       "      <td>SLUSHWAWE 2022 was an absolutely extraordinary event, and I'm so grateful to everyone that attended and all the amazing, talented artists that performed. Here's to #slushwave2023 ! 🥂</td>\n",
       "      <td>682</td>\n",
       "      <td>4293</td>\n",
       "      <td>0</td>\n",
       "    </tr>\n",
       "    <tr>\n",
       "      <th>15</th>\n",
       "      <td>actual value stolen looks to be somewhere between $5 and $10 million (so far)</td>\n",
       "      <td>1917</td>\n",
       "      <td>79902</td>\n",
       "      <td>0</td>\n",
       "    </tr>\n",
       "    <tr>\n",
       "      <th>16</th>\n",
       "      <td>You have not witnessed hell until you open wp-admin in a WordPress website and see fifty plugins.</td>\n",
       "      <td>559</td>\n",
       "      <td>1814</td>\n",
       "      <td>0</td>\n",
       "    </tr>\n",
       "    <tr>\n",
       "      <th>17</th>\n",
       "      <td>Strongylopus grayii - Clicking Stream Frog. From Noordhoek, Western Cape. https://tyroneping.co.za/amphibians-of-</td>\n",
       "      <td>454</td>\n",
       "      <td>2754</td>\n",
       "      <td>0</td>\n",
       "    </tr>\n",
       "    <tr>\n",
       "      <th>18</th>\n",
       "      <td>BREAKING: Agency Strategic Planner Comes Up With Unique Insight That Today's Families Lead 'Busy, Hectic Lifestyles' According To Stock Photo In Deck</td>\n",
       "      <td>0</td>\n",
       "      <td>92442</td>\n",
       "      <td>0</td>\n",
       "    </tr>\n",
       "    <tr>\n",
       "      <th>19</th>\n",
       "      <td>Today's Newsletter: GOOGLE LIES, NOBODY CARES. https://bit.ly/3OHyROR</td>\n",
       "      <td>5818</td>\n",
       "      <td>36998</td>\n",
       "      <td>0</td>\n",
       "    </tr>\n",
       "  </tbody>\n",
       "</table>\n",
       "</div>"
      ],
      "text/plain": [
       "                                                                                                                                                                                                                                                                    text  \\\n",
       "0                                                                                                                                                                                                                                                   A Wren's real voice.   \n",
       "1                                                                 Welcome to the Paldea region, Trainers! 🤩 A sprawling land of vast open spaces— dotted with lakes, towering peaks, wastelands, and perilous mountain ranges. See you there! 🧳❤️💜 #PokemonScarletViolet   \n",
       "2                                                                                                                                                             After 11 years with #lcfc, Kasper Schmeichel has joined Nice, ending his incredible spell with the Foxes 💙   \n",
       "3                                                                                                                                                                                                                          Joker 2' takes place largely in Arkham Asylum   \n",
       "4                                                                                                                                                                                                                                       BUTTER DOG #PokemonScarletViolet   \n",
       "5                                                                                                                 It's great to work at the interface of hardware, software, and biology, because you can get frustrated by three entirely different kinds of toolchains   \n",
       "6                                   The BioSynSys symposium on Synthetic and Systems Biology is now open for registrations/ submissions. Date: 12-14 September 2022. Location: The Learning Planet Institute, Paris. Register at: https://biosynsys2022.sciencesconf.org   \n",
       "7                                                             If you're interested in a DPhil @OxfordBiology studying ecology/evolution/genomics of host-parasite interactions, get in touch. Friendly lab and timely questions! #globalclimatechange #infectiousdisease   \n",
       "8                                                                                                                                                                                                 Here's how it sounds when rival gangs of giant otters spot each other.   \n",
       "9   After almost 2 decades of #research & #exploration with some fantastic collaborations along the way we were able to compile this booklet on #skyisland #reptiles of #WesternGhats. With support from @InsideNatGeo we publish 500 printed copies & free #ebook. A 🧵:   \n",
       "10                                                                                                                        Whoever decided that that my Vizio TV needed an update that made it constantly try and turn to the SmartCast input should be publicly flogged.   \n",
       "11                                                                                                                                    Hey, @VinnyCaravella and I spent some time in Elden Ring trying to run a horse up a cliff and make a guy swim in full plate armor.   \n",
       "12                                                                                                                                                                             working on the album again, folks join us stream begins now http://twitch.tv/vektroidlive   \n",
       "13                                                                                                     Dear @jaytholen one day I'd really like to pick your brain for 80s/90s CCM recommendations if you have any. Feel like you might know some extremely choice stuff.   \n",
       "14                                                                                SLUSHWAWE 2022 was an absolutely extraordinary event, and I'm so grateful to everyone that attended and all the amazing, talented artists that performed. Here's to #slushwave2023 ! 🥂   \n",
       "15                                                                                                                                                                                         actual value stolen looks to be somewhere between $5 and $10 million (so far)   \n",
       "16                                                                                                                                                                     You have not witnessed hell until you open wp-admin in a WordPress website and see fifty plugins.   \n",
       "17                                                                                                                                                     Strongylopus grayii - Clicking Stream Frog. From Noordhoek, Western Cape. https://tyroneping.co.za/amphibians-of-   \n",
       "18                                                                                                                 BREAKING: Agency Strategic Planner Comes Up With Unique Insight That Today's Families Lead 'Busy, Hectic Lifestyles' According To Stock Photo In Deck   \n",
       "19                                                                                                                                                                                                 Today's Newsletter: GOOGLE LIES, NOBODY CARES. https://bit.ly/3OHyROR   \n",
       "\n",
       "    friends_count  followers_count  is_viral  \n",
       "0              80          1415393         1  \n",
       "1              50          7240285         1  \n",
       "2             126          2566960         1  \n",
       "3             123           626594         1  \n",
       "4             657            15899         1  \n",
       "5             582              570         1  \n",
       "6             535              468         1  \n",
       "7            1051             2549         1  \n",
       "8             111             1661         1  \n",
       "9            1120             1448         1  \n",
       "10           2550            47220         0  \n",
       "11            590            88982         0  \n",
       "12            902            23477         0  \n",
       "13            946             8719         0  \n",
       "14            682             4293         0  \n",
       "15           1917            79902         0  \n",
       "16            559             1814         0  \n",
       "17            454             2754         0  \n",
       "18              0            92442         0  \n",
       "19           5818            36998         0  "
      ]
     },
     "execution_count": 29,
     "metadata": {},
     "output_type": "execute_result"
    }
   ],
   "source": [
    "# Read json file\n",
    "fresh_tweets = pd.read_json(\"fresh_test_tweets.json\", lines=True)\n",
    "pd.set_option('display.max_colwidth', None)\n",
    "fresh_tweets"
   ]
  },
  {
   "cell_type": "markdown",
   "metadata": {},
   "source": [
    "As we can see not all tweets that have gone viral have thousands of followers. But if one would browse through `Explore` page of Twitter, like I did, one could find out that most accounts which produce viral tweets have a lot of followers. Although not all posts of such accounts are retweeted heavily, sometimes they have just many likes on them. Anyway, let's add missing coulmns to create full list of features. "
   ]
  },
  {
   "cell_type": "code",
   "execution_count": 30,
   "metadata": {},
   "outputs": [
    {
     "data": {
      "text/html": [
       "<div>\n",
       "<style scoped>\n",
       "    .dataframe tbody tr th:only-of-type {\n",
       "        vertical-align: middle;\n",
       "    }\n",
       "\n",
       "    .dataframe tbody tr th {\n",
       "        vertical-align: top;\n",
       "    }\n",
       "\n",
       "    .dataframe thead th {\n",
       "        text-align: right;\n",
       "    }\n",
       "</style>\n",
       "<table border=\"1\" class=\"dataframe\">\n",
       "  <thead>\n",
       "    <tr style=\"text-align: right;\">\n",
       "      <th></th>\n",
       "      <th>text</th>\n",
       "      <th>friends_count</th>\n",
       "      <th>followers_count</th>\n",
       "      <th>is_viral</th>\n",
       "      <th>tweet_length</th>\n",
       "      <th>tweet_hashtags</th>\n",
       "      <th>tweet_links</th>\n",
       "      <th>tweet_words_count</th>\n",
       "      <th>words_avg_lenth</th>\n",
       "    </tr>\n",
       "  </thead>\n",
       "  <tbody>\n",
       "    <tr>\n",
       "      <th>0</th>\n",
       "      <td>A Wren's real voice.</td>\n",
       "      <td>80</td>\n",
       "      <td>1415393</td>\n",
       "      <td>1</td>\n",
       "      <td>20</td>\n",
       "      <td>0</td>\n",
       "      <td>0</td>\n",
       "      <td>4</td>\n",
       "      <td>4.250000</td>\n",
       "    </tr>\n",
       "    <tr>\n",
       "      <th>1</th>\n",
       "      <td>Welcome to the Paldea region, Trainers! 🤩 A sprawling land of vast open spaces— dotted with lakes, towering peaks, wastelands, and perilous mountain ranges. See you there! 🧳❤️💜 #PokemonScarletViolet</td>\n",
       "      <td>50</td>\n",
       "      <td>7240285</td>\n",
       "      <td>1</td>\n",
       "      <td>198</td>\n",
       "      <td>1</td>\n",
       "      <td>0</td>\n",
       "      <td>29</td>\n",
       "      <td>5.862069</td>\n",
       "    </tr>\n",
       "    <tr>\n",
       "      <th>2</th>\n",
       "      <td>After 11 years with #lcfc, Kasper Schmeichel has joined Nice, ending his incredible spell with the Foxes 💙</td>\n",
       "      <td>126</td>\n",
       "      <td>2566960</td>\n",
       "      <td>1</td>\n",
       "      <td>106</td>\n",
       "      <td>1</td>\n",
       "      <td>0</td>\n",
       "      <td>18</td>\n",
       "      <td>4.944444</td>\n",
       "    </tr>\n",
       "  </tbody>\n",
       "</table>\n",
       "</div>"
      ],
      "text/plain": [
       "                                                                                                                                                                                                     text  \\\n",
       "0                                                                                                                                                                                    A Wren's real voice.   \n",
       "1  Welcome to the Paldea region, Trainers! 🤩 A sprawling land of vast open spaces— dotted with lakes, towering peaks, wastelands, and perilous mountain ranges. See you there! 🧳❤️💜 #PokemonScarletViolet   \n",
       "2                                                                                              After 11 years with #lcfc, Kasper Schmeichel has joined Nice, ending his incredible spell with the Foxes 💙   \n",
       "\n",
       "   friends_count  followers_count  is_viral  tweet_length  tweet_hashtags  \\\n",
       "0             80          1415393         1            20               0   \n",
       "1             50          7240285         1           198               1   \n",
       "2            126          2566960         1           106               1   \n",
       "\n",
       "   tweet_links  tweet_words_count  words_avg_lenth  \n",
       "0            0                  4         4.250000  \n",
       "1            0                 29         5.862069  \n",
       "2            0                 18         4.944444  "
      ]
     },
     "execution_count": 30,
     "metadata": {},
     "output_type": "execute_result"
    }
   ],
   "source": [
    "def add_columns(dataframe):\n",
    "    dataframe['tweet_length'] = dataframe.apply(lambda tweet: len(tweet['text']), axis=1)\n",
    "    dataframe['tweet_hashtags'] = dataframe.apply(lambda tweet: tweet['text'].count('#'), axis=1)\n",
    "    dataframe['tweet_links'] = dataframe['text'].str.count(r'http(s)?')\n",
    "    dataframe['tweet_words_count'] = dataframe.apply(lambda tweet: len(tweet['text'].split()), axis=1)\n",
    "    dataframe['words_avg_lenth'] = dataframe.apply(lambda tweet: np.mean([len(word) for word in tweet['text'].split()]), axis=1)\n",
    "    return dataframe\n",
    "\n",
    "\n",
    "fresh_tweets = add_columns(fresh_tweets)\n",
    "fresh_tweets[:3]"
   ]
  },
  {
   "cell_type": "code",
   "execution_count": 31,
   "metadata": {},
   "outputs": [
    {
     "data": {
      "text/html": [
       "<div>\n",
       "<style scoped>\n",
       "    .dataframe tbody tr th:only-of-type {\n",
       "        vertical-align: middle;\n",
       "    }\n",
       "\n",
       "    .dataframe tbody tr th {\n",
       "        vertical-align: top;\n",
       "    }\n",
       "\n",
       "    .dataframe thead th {\n",
       "        text-align: right;\n",
       "    }\n",
       "</style>\n",
       "<table border=\"1\" class=\"dataframe\">\n",
       "  <thead>\n",
       "    <tr style=\"text-align: right;\">\n",
       "      <th></th>\n",
       "      <th>text</th>\n",
       "      <th>friends_count</th>\n",
       "      <th>followers_count</th>\n",
       "      <th>is_viral</th>\n",
       "      <th>tweet_length</th>\n",
       "      <th>tweet_hashtags</th>\n",
       "      <th>tweet_links</th>\n",
       "      <th>tweet_words_count</th>\n",
       "      <th>words_avg_lenth</th>\n",
       "    </tr>\n",
       "  </thead>\n",
       "  <tbody>\n",
       "    <tr>\n",
       "      <th>0</th>\n",
       "      <td>BUTTER DOG #PokemonScarletViolet</td>\n",
       "      <td>657</td>\n",
       "      <td>15899</td>\n",
       "      <td>1</td>\n",
       "      <td>32</td>\n",
       "      <td>1</td>\n",
       "      <td>0</td>\n",
       "      <td>3</td>\n",
       "      <td>10.000000</td>\n",
       "    </tr>\n",
       "    <tr>\n",
       "      <th>1</th>\n",
       "      <td>Hey, @VinnyCaravella and I spent some time in Elden Ring trying to run a horse up a cliff and make a guy swim in full plate armor.</td>\n",
       "      <td>590</td>\n",
       "      <td>88982</td>\n",
       "      <td>0</td>\n",
       "      <td>130</td>\n",
       "      <td>0</td>\n",
       "      <td>0</td>\n",
       "      <td>27</td>\n",
       "      <td>3.851852</td>\n",
       "    </tr>\n",
       "    <tr>\n",
       "      <th>2</th>\n",
       "      <td>BREAKING: Agency Strategic Planner Comes Up With Unique Insight That Today's Families Lead 'Busy, Hectic Lifestyles' According To Stock Photo In Deck</td>\n",
       "      <td>0</td>\n",
       "      <td>92442</td>\n",
       "      <td>0</td>\n",
       "      <td>149</td>\n",
       "      <td>0</td>\n",
       "      <td>0</td>\n",
       "      <td>22</td>\n",
       "      <td>5.818182</td>\n",
       "    </tr>\n",
       "  </tbody>\n",
       "</table>\n",
       "</div>"
      ],
      "text/plain": [
       "                                                                                                                                                    text  \\\n",
       "0                                                                                                                       BUTTER DOG #PokemonScarletViolet   \n",
       "1                     Hey, @VinnyCaravella and I spent some time in Elden Ring trying to run a horse up a cliff and make a guy swim in full plate armor.   \n",
       "2  BREAKING: Agency Strategic Planner Comes Up With Unique Insight That Today's Families Lead 'Busy, Hectic Lifestyles' According To Stock Photo In Deck   \n",
       "\n",
       "   friends_count  followers_count  is_viral  tweet_length  tweet_hashtags  \\\n",
       "0            657            15899         1            32               1   \n",
       "1            590            88982         0           130               0   \n",
       "2              0            92442         0           149               0   \n",
       "\n",
       "   tweet_links  tweet_words_count  words_avg_lenth  \n",
       "0            0                  3        10.000000  \n",
       "1            0                 27         3.851852  \n",
       "2            0                 22         5.818182  "
      ]
     },
     "execution_count": 31,
     "metadata": {},
     "output_type": "execute_result"
    }
   ],
   "source": [
    "features_fresh_shuffled = sklearn.utils.shuffle(fresh_tweets).reset_index(drop=True)\n",
    "features_fresh_shuffled[:3]"
   ]
  },
  {
   "cell_type": "markdown",
   "metadata": {},
   "source": [
    "Now we can calculate missing features."
   ]
  },
  {
   "cell_type": "code",
   "execution_count": 32,
   "metadata": {},
   "outputs": [
    {
     "data": {
      "text/html": [
       "<div>\n",
       "<style scoped>\n",
       "    .dataframe tbody tr th:only-of-type {\n",
       "        vertical-align: middle;\n",
       "    }\n",
       "\n",
       "    .dataframe tbody tr th {\n",
       "        vertical-align: top;\n",
       "    }\n",
       "\n",
       "    .dataframe thead th {\n",
       "        text-align: right;\n",
       "    }\n",
       "</style>\n",
       "<table border=\"1\" class=\"dataframe\">\n",
       "  <thead>\n",
       "    <tr style=\"text-align: right;\">\n",
       "      <th></th>\n",
       "      <th>tweet_length</th>\n",
       "      <th>followers_count</th>\n",
       "      <th>friends_count</th>\n",
       "      <th>tweet_links</th>\n",
       "      <th>tweet_hashtags</th>\n",
       "      <th>tweet_words_count</th>\n",
       "      <th>words_avg_lenth</th>\n",
       "    </tr>\n",
       "  </thead>\n",
       "  <tbody>\n",
       "    <tr>\n",
       "      <th>0</th>\n",
       "      <td>20</td>\n",
       "      <td>1415393</td>\n",
       "      <td>80</td>\n",
       "      <td>0</td>\n",
       "      <td>0</td>\n",
       "      <td>4</td>\n",
       "      <td>4.250000</td>\n",
       "    </tr>\n",
       "    <tr>\n",
       "      <th>1</th>\n",
       "      <td>198</td>\n",
       "      <td>7240285</td>\n",
       "      <td>50</td>\n",
       "      <td>0</td>\n",
       "      <td>1</td>\n",
       "      <td>29</td>\n",
       "      <td>5.862069</td>\n",
       "    </tr>\n",
       "    <tr>\n",
       "      <th>2</th>\n",
       "      <td>106</td>\n",
       "      <td>2566960</td>\n",
       "      <td>126</td>\n",
       "      <td>0</td>\n",
       "      <td>1</td>\n",
       "      <td>18</td>\n",
       "      <td>4.944444</td>\n",
       "    </tr>\n",
       "    <tr>\n",
       "      <th>3</th>\n",
       "      <td>45</td>\n",
       "      <td>626594</td>\n",
       "      <td>123</td>\n",
       "      <td>0</td>\n",
       "      <td>0</td>\n",
       "      <td>8</td>\n",
       "      <td>4.750000</td>\n",
       "    </tr>\n",
       "    <tr>\n",
       "      <th>4</th>\n",
       "      <td>32</td>\n",
       "      <td>15899</td>\n",
       "      <td>657</td>\n",
       "      <td>0</td>\n",
       "      <td>1</td>\n",
       "      <td>3</td>\n",
       "      <td>10.000000</td>\n",
       "    </tr>\n",
       "  </tbody>\n",
       "</table>\n",
       "</div>"
      ],
      "text/plain": [
       "   tweet_length  followers_count  friends_count  tweet_links  tweet_hashtags  \\\n",
       "0            20          1415393             80            0               0   \n",
       "1           198          7240285             50            0               1   \n",
       "2           106          2566960            126            0               1   \n",
       "3            45           626594            123            0               0   \n",
       "4            32            15899            657            0               1   \n",
       "\n",
       "   tweet_words_count  words_avg_lenth  \n",
       "0                  4         4.250000  \n",
       "1                 29         5.862069  \n",
       "2                 18         4.944444  \n",
       "3                  8         4.750000  \n",
       "4                  3        10.000000  "
      ]
     },
     "execution_count": 32,
     "metadata": {},
     "output_type": "execute_result"
    }
   ],
   "source": [
    "features_fresh = fresh_tweets[\n",
    "    ['tweet_length', \n",
    "    'followers_count', \n",
    "    'friends_count', \n",
    "    'tweet_links', \n",
    "    'tweet_hashtags', \n",
    "    'tweet_words_count', \n",
    "    'words_avg_lenth']\n",
    "    ]\n",
    "features_fresh[:5]"
   ]
  },
  {
   "cell_type": "code",
   "execution_count": 33,
   "metadata": {},
   "outputs": [
    {
     "data": {
      "text/plain": [
       "array([[-1.64290742,  0.48872682, -0.67399778, -0.5       , -0.44232587,\n",
       "        -1.54795547, -0.96346468],\n",
       "       [ 1.11593712,  4.03624296, -0.6974371 , -0.5       ,  0.29488391,\n",
       "         1.03197031, -0.06426285],\n",
       "       [-0.30998253,  1.19006214, -0.63805748, -0.5       ,  0.29488391,\n",
       "        -0.10319703, -0.57610798]])"
      ]
     },
     "execution_count": 33,
     "metadata": {},
     "output_type": "execute_result"
    }
   ],
   "source": [
    "features_fresh_scaled = scale(features_fresh)\n",
    "features_fresh_scaled[:3]"
   ]
  },
  {
   "cell_type": "code",
   "execution_count": 34,
   "metadata": {},
   "outputs": [
    {
     "data": {
      "text/plain": [
       "[0, 0, 0, 0, 0, 0, 1, 0, 1, 1, 0, 0, 0, 1, 1, 0, 0, 0, 0, 0]"
      ]
     },
     "execution_count": 34,
     "metadata": {},
     "output_type": "execute_result"
    }
   ],
   "source": [
    "fresh_predicts = best_k_classifier.predict(features_fresh_scaled).tolist()\n",
    "fresh_predicts"
   ]
  },
  {
   "cell_type": "code",
   "execution_count": 68,
   "metadata": {},
   "outputs": [
    {
     "data": {
      "text/html": [
       "<div>\n",
       "<style scoped>\n",
       "    .dataframe tbody tr th:only-of-type {\n",
       "        vertical-align: middle;\n",
       "    }\n",
       "\n",
       "    .dataframe tbody tr th {\n",
       "        vertical-align: top;\n",
       "    }\n",
       "\n",
       "    .dataframe thead th {\n",
       "        text-align: right;\n",
       "    }\n",
       "</style>\n",
       "<table border=\"1\" class=\"dataframe\">\n",
       "  <thead>\n",
       "    <tr style=\"text-align: right;\">\n",
       "      <th></th>\n",
       "      <th>text</th>\n",
       "      <th>is_viral</th>\n",
       "      <th>predicted_virality</th>\n",
       "      <th>tweet_length</th>\n",
       "      <th>followers_count</th>\n",
       "      <th>friends_count</th>\n",
       "      <th>tweet_links</th>\n",
       "      <th>tweet_hashtags</th>\n",
       "      <th>tweet_words_count</th>\n",
       "      <th>words_avg_lenth</th>\n",
       "    </tr>\n",
       "  </thead>\n",
       "  <tbody>\n",
       "    <tr>\n",
       "      <th>0</th>\n",
       "      <td>BUTTER DOG #PokemonScarletViolet</td>\n",
       "      <td>1</td>\n",
       "      <td>0</td>\n",
       "      <td>32</td>\n",
       "      <td>15899</td>\n",
       "      <td>657</td>\n",
       "      <td>0</td>\n",
       "      <td>1</td>\n",
       "      <td>3</td>\n",
       "      <td>10.000000</td>\n",
       "    </tr>\n",
       "    <tr>\n",
       "      <th>1</th>\n",
       "      <td>Hey, @VinnyCaravella and I spent some time in Elden Ring trying to run a horse up a cliff and make a guy swim in full plate armor.</td>\n",
       "      <td>0</td>\n",
       "      <td>0</td>\n",
       "      <td>130</td>\n",
       "      <td>88982</td>\n",
       "      <td>590</td>\n",
       "      <td>0</td>\n",
       "      <td>0</td>\n",
       "      <td>27</td>\n",
       "      <td>3.851852</td>\n",
       "    </tr>\n",
       "    <tr>\n",
       "      <th>2</th>\n",
       "      <td>BREAKING: Agency Strategic Planner Comes Up With Unique Insight That Today's Families Lead 'Busy, Hectic Lifestyles' According To Stock Photo In Deck</td>\n",
       "      <td>0</td>\n",
       "      <td>0</td>\n",
       "      <td>149</td>\n",
       "      <td>92442</td>\n",
       "      <td>0</td>\n",
       "      <td>0</td>\n",
       "      <td>0</td>\n",
       "      <td>22</td>\n",
       "      <td>5.818182</td>\n",
       "    </tr>\n",
       "  </tbody>\n",
       "</table>\n",
       "</div>"
      ],
      "text/plain": [
       "                                                                                                                                                    text  \\\n",
       "0                                                                                                                       BUTTER DOG #PokemonScarletViolet   \n",
       "1                     Hey, @VinnyCaravella and I spent some time in Elden Ring trying to run a horse up a cliff and make a guy swim in full plate armor.   \n",
       "2  BREAKING: Agency Strategic Planner Comes Up With Unique Insight That Today's Families Lead 'Busy, Hectic Lifestyles' According To Stock Photo In Deck   \n",
       "\n",
       "   is_viral  predicted_virality  tweet_length  followers_count  friends_count  \\\n",
       "0         1                   0            32            15899            657   \n",
       "1         0                   0           130            88982            590   \n",
       "2         0                   0           149            92442              0   \n",
       "\n",
       "   tweet_links  tweet_hashtags  tweet_words_count  words_avg_lenth  \n",
       "0            0               1                  3        10.000000  \n",
       "1            0               0                 27         3.851852  \n",
       "2            0               0                 22         5.818182  "
      ]
     },
     "execution_count": 68,
     "metadata": {},
     "output_type": "execute_result"
    }
   ],
   "source": [
    "features_fresh_shuffled['predicted_virality'] = fresh_predicts\n",
    "features_fresh_shuffled = features_fresh_shuffled[[\n",
    "    'text',\n",
    "    'is_viral',\n",
    "    'predicted_virality',\n",
    "    'tweet_length', \n",
    "    'followers_count', \n",
    "    'friends_count', \n",
    "    'tweet_links', \n",
    "    'tweet_hashtags', \n",
    "    'tweet_words_count', \n",
    "    'words_avg_lenth']]\n",
    "features_fresh_shuffled[:3]"
   ]
  },
  {
   "cell_type": "code",
   "execution_count": 75,
   "metadata": {},
   "outputs": [
    {
     "data": {
      "text/html": [
       "<div>\n",
       "<style scoped>\n",
       "    .dataframe tbody tr th:only-of-type {\n",
       "        vertical-align: middle;\n",
       "    }\n",
       "\n",
       "    .dataframe tbody tr th {\n",
       "        vertical-align: top;\n",
       "    }\n",
       "\n",
       "    .dataframe thead th {\n",
       "        text-align: right;\n",
       "    }\n",
       "</style>\n",
       "<table border=\"1\" class=\"dataframe\">\n",
       "  <thead>\n",
       "    <tr style=\"text-align: right;\">\n",
       "      <th></th>\n",
       "      <th>negatives</th>\n",
       "      <th>positives</th>\n",
       "    </tr>\n",
       "  </thead>\n",
       "  <tbody>\n",
       "    <tr>\n",
       "      <th>0</th>\n",
       "      <td>7</td>\n",
       "      <td>8</td>\n",
       "    </tr>\n",
       "    <tr>\n",
       "      <th>1</th>\n",
       "      <td>3</td>\n",
       "      <td>2</td>\n",
       "    </tr>\n",
       "  </tbody>\n",
       "</table>\n",
       "</div>"
      ],
      "text/plain": [
       "   negatives  positives\n",
       "0          7          8\n",
       "1          3          2"
      ]
     },
     "execution_count": 75,
     "metadata": {},
     "output_type": "execute_result"
    }
   ],
   "source": [
    "pd.DataFrame(confusion_matrix(fresh_predicts, features_fresh_shuffled.is_viral), columns = ['negatives', 'positives']) \n"
   ]
  },
  {
   "cell_type": "markdown",
   "metadata": {},
   "source": [
    "This output tells us that there are:\n",
    "- `7` true negatives, `3` false negative, \n",
    "- `2` true positives, and `8` false positives. \n",
    "\n",
    "That is a pretty bad result. Ideally, we want the numbers on the main diagonal (in this case, 7 and 2, which are the true negatives and true positives, respectively) to be as large as possible."
   ]
  },
  {
   "cell_type": "markdown",
   "metadata": {},
   "source": [
    "\n",
    "\n",
    "## Classifying Tweets by Location\n",
    "\n",
    "We've been given three files: `new_york.json`, `london.json`, and `paris.json`. These three files contain tweets that we gathered from those locations. The goal is to create a classification algorithm that can classify any tweet (or sentence) and predict whether that sentence came from New York, London, or Paris. \n",
    "\n",
    "We are going to use text augmentation by BERT to generate more data and even it out between classes if required. \n",
    "To get better possible classification for current dataset we are going to compare 2 variants:\n",
    " - Sparse matrix from Count Vectoriser with Multinomial Naive Bayes classifier.\n",
    " - Dense matrix from word2vec with Logistic Regression classifier.\n",
    "\n",
    "Let's start by performing necessary imports."
   ]
  },
  {
   "cell_type": "code",
   "execution_count": 37,
   "metadata": {},
   "outputs": [],
   "source": [
    "# Imports related to preprocessing\n",
    "from nltk import word_tokenize\n",
    "from nltk.corpus import stopwords\n",
    "import re\n",
    "\n",
    "# Imports related to ml\n",
    "import nlpaug.augmenter.word as naw\n",
    "import gensim\n",
    "from sklearn.linear_model import LogisticRegression\n",
    "from sklearn.feature_extraction.text import CountVectorizer\n",
    "from sklearn.naive_bayes import MultinomialNB\n",
    "\n",
    "\n",
    "# Imports related to evaluation\n",
    "from sklearn.metrics import classification_report\n",
    "from sklearn.metrics import confusion_matrix"
   ]
  },
  {
   "cell_type": "markdown",
   "metadata": {},
   "source": [
    "### Investigate Data"
   ]
  },
  {
   "cell_type": "code",
   "execution_count": 38,
   "metadata": {},
   "outputs": [
    {
     "data": {
      "text/html": [
       "<div>\n",
       "<style scoped>\n",
       "    .dataframe tbody tr th:only-of-type {\n",
       "        vertical-align: middle;\n",
       "    }\n",
       "\n",
       "    .dataframe tbody tr th {\n",
       "        vertical-align: top;\n",
       "    }\n",
       "\n",
       "    .dataframe thead th {\n",
       "        text-align: right;\n",
       "    }\n",
       "</style>\n",
       "<table border=\"1\" class=\"dataframe\">\n",
       "  <thead>\n",
       "    <tr style=\"text-align: right;\">\n",
       "      <th></th>\n",
       "      <th>created_at</th>\n",
       "      <th>id</th>\n",
       "      <th>id_str</th>\n",
       "      <th>text</th>\n",
       "      <th>display_text_range</th>\n",
       "      <th>source</th>\n",
       "      <th>truncated</th>\n",
       "      <th>in_reply_to_status_id</th>\n",
       "      <th>in_reply_to_status_id_str</th>\n",
       "      <th>in_reply_to_user_id</th>\n",
       "      <th>in_reply_to_user_id_str</th>\n",
       "      <th>in_reply_to_screen_name</th>\n",
       "      <th>user</th>\n",
       "      <th>geo</th>\n",
       "      <th>coordinates</th>\n",
       "      <th>place</th>\n",
       "      <th>contributors</th>\n",
       "      <th>is_quote_status</th>\n",
       "      <th>quote_count</th>\n",
       "      <th>reply_count</th>\n",
       "      <th>retweet_count</th>\n",
       "      <th>favorite_count</th>\n",
       "      <th>entities</th>\n",
       "      <th>favorited</th>\n",
       "      <th>retweeted</th>\n",
       "      <th>filter_level</th>\n",
       "      <th>lang</th>\n",
       "      <th>timestamp_ms</th>\n",
       "      <th>extended_tweet</th>\n",
       "      <th>possibly_sensitive</th>\n",
       "      <th>quoted_status_id</th>\n",
       "      <th>quoted_status_id_str</th>\n",
       "      <th>quoted_status</th>\n",
       "      <th>quoted_status_permalink</th>\n",
       "      <th>extended_entities</th>\n",
       "      <th>withheld_in_countries</th>\n",
       "    </tr>\n",
       "  </thead>\n",
       "  <tbody>\n",
       "    <tr>\n",
       "      <th>0</th>\n",
       "      <td>2018-07-26 13:32:33+00:00</td>\n",
       "      <td>1022474755625164800</td>\n",
       "      <td>1022474755625164800</td>\n",
       "      <td>@DelgadoforNY19 Calendar marked.</td>\n",
       "      <td>[16, 32]</td>\n",
       "      <td>&lt;a href=\"http://twitter.com/download/android\" rel=\"nofollow\"&gt;Twitter for Android&lt;/a&gt;</td>\n",
       "      <td>False</td>\n",
       "      <td>1.022208e+18</td>\n",
       "      <td>1.022208e+18</td>\n",
       "      <td>8.290618e+17</td>\n",
       "      <td>8.290618e+17</td>\n",
       "      <td>DelgadoforNY19</td>\n",
       "      <td>{'id': 316616881, 'id_str': '316616881', 'name': 'Adam Ford', 'screen_name': 'NYCVermouth', 'location': 'New York City', 'url': 'http://www.fordobrien.com', 'description': 'White Collar Criminal Defense Lawyer. Atsby Vermouth founder. Authored the Vermouth book. I keep threatening to start a podcast.', 'translator_type': 'none', 'protected': False, 'verified': False, 'followers_count': 612, 'friends_count': 615, 'listed_count': 17, 'favourites_count': 3813, 'statuses_count': 2109, 'created_at': 'Mon Jun 13 18:23:44 +0000 2011', 'utc_offset': None, 'time_zone': None, 'geo_enabled': True, 'lang': 'en', 'contributors_enabled': False, 'is_translator': False, 'profile_background_color': 'C0DEED', 'profile_background_image_url': 'http://abs.twimg.com/images/themes/theme1/bg.png', 'profile_background_image_url_https': 'https://abs.twimg.com/images/themes/theme1/bg.png', 'profile_background_tile': False, 'profile_link_color': '1DA1F2', 'profile_sidebar_border_color': 'C0DEED', 'profile_sidebar_fill_color': 'DDEEF6', 'profile_text_color': '333333', 'profile_use_background_image': True, 'profile_image_url': 'http://pbs.twimg.com/profile_images/666809966087569408/2SXv_gFM_normal.jpg', 'profile_image_url_https': 'https://pbs.twimg.com/profile_images/666809966087569408/2SXv_gFM_normal.jpg', 'profile_banner_url': 'https://pbs.twimg.com/profile_banners/316616881/1447815868', 'default_profile': True, 'default_profile_image': False, 'following': None, 'follow_request_sent': None, 'notifications': None}</td>\n",
       "      <td>None</td>\n",
       "      <td>None</td>\n",
       "      <td>{'id': '01a9a39529b27f36', 'url': 'https://api.twitter.com/1.1/geo/id/01a9a39529b27f36.json', 'place_type': 'city', 'name': 'Manhattan', 'full_name': 'Manhattan, NY', 'country_code': 'US', 'country': 'United States', 'bounding_box': {'type': 'Polygon', 'coordinates': [[[-74.026675, 40.683935], [-74.026675, 40.877483], [-73.910408, 40.877483], [-73.910408, 40.683935]]]}, 'attributes': {}}</td>\n",
       "      <td>NaN</td>\n",
       "      <td>False</td>\n",
       "      <td>0</td>\n",
       "      <td>0</td>\n",
       "      <td>0</td>\n",
       "      <td>0</td>\n",
       "      <td>{'hashtags': [], 'urls': [], 'user_mentions': [{'screen_name': 'DelgadoforNY19', 'name': 'Antonio Delgado', 'id': 829061809135030272, 'id_str': '829061809135030272', 'indices': [0, 15]}], 'symbols': []}</td>\n",
       "      <td>False</td>\n",
       "      <td>False</td>\n",
       "      <td>low</td>\n",
       "      <td>en</td>\n",
       "      <td>2018-07-26 13:32:33.060</td>\n",
       "      <td>NaN</td>\n",
       "      <td>NaN</td>\n",
       "      <td>NaN</td>\n",
       "      <td>NaN</td>\n",
       "      <td>NaN</td>\n",
       "      <td>NaN</td>\n",
       "      <td>NaN</td>\n",
       "      <td>NaN</td>\n",
       "    </tr>\n",
       "  </tbody>\n",
       "</table>\n",
       "</div>"
      ],
      "text/plain": [
       "                 created_at                   id               id_str  \\\n",
       "0 2018-07-26 13:32:33+00:00  1022474755625164800  1022474755625164800   \n",
       "\n",
       "                               text display_text_range  \\\n",
       "0  @DelgadoforNY19 Calendar marked.           [16, 32]   \n",
       "\n",
       "                                                                                 source  \\\n",
       "0  <a href=\"http://twitter.com/download/android\" rel=\"nofollow\">Twitter for Android</a>   \n",
       "\n",
       "   truncated  in_reply_to_status_id  in_reply_to_status_id_str  \\\n",
       "0      False           1.022208e+18               1.022208e+18   \n",
       "\n",
       "   in_reply_to_user_id  in_reply_to_user_id_str in_reply_to_screen_name  \\\n",
       "0         8.290618e+17             8.290618e+17          DelgadoforNY19   \n",
       "\n",
       "                                                                                                                                                                                                                                                                                                                                                                                                                                                                                                                                                                                                                                                                                                                                                                                                                                                                                                                                                                                                                                                                                                                                                                                                                                                                                                                                                                                                                                                                                                                                                                     user  \\\n",
       "0  {'id': 316616881, 'id_str': '316616881', 'name': 'Adam Ford', 'screen_name': 'NYCVermouth', 'location': 'New York City', 'url': 'http://www.fordobrien.com', 'description': 'White Collar Criminal Defense Lawyer. Atsby Vermouth founder. Authored the Vermouth book. I keep threatening to start a podcast.', 'translator_type': 'none', 'protected': False, 'verified': False, 'followers_count': 612, 'friends_count': 615, 'listed_count': 17, 'favourites_count': 3813, 'statuses_count': 2109, 'created_at': 'Mon Jun 13 18:23:44 +0000 2011', 'utc_offset': None, 'time_zone': None, 'geo_enabled': True, 'lang': 'en', 'contributors_enabled': False, 'is_translator': False, 'profile_background_color': 'C0DEED', 'profile_background_image_url': 'http://abs.twimg.com/images/themes/theme1/bg.png', 'profile_background_image_url_https': 'https://abs.twimg.com/images/themes/theme1/bg.png', 'profile_background_tile': False, 'profile_link_color': '1DA1F2', 'profile_sidebar_border_color': 'C0DEED', 'profile_sidebar_fill_color': 'DDEEF6', 'profile_text_color': '333333', 'profile_use_background_image': True, 'profile_image_url': 'http://pbs.twimg.com/profile_images/666809966087569408/2SXv_gFM_normal.jpg', 'profile_image_url_https': 'https://pbs.twimg.com/profile_images/666809966087569408/2SXv_gFM_normal.jpg', 'profile_banner_url': 'https://pbs.twimg.com/profile_banners/316616881/1447815868', 'default_profile': True, 'default_profile_image': False, 'following': None, 'follow_request_sent': None, 'notifications': None}   \n",
       "\n",
       "    geo coordinates  \\\n",
       "0  None        None   \n",
       "\n",
       "                                                                                                                                                                                                                                                                                                                                                                                                    place  \\\n",
       "0  {'id': '01a9a39529b27f36', 'url': 'https://api.twitter.com/1.1/geo/id/01a9a39529b27f36.json', 'place_type': 'city', 'name': 'Manhattan', 'full_name': 'Manhattan, NY', 'country_code': 'US', 'country': 'United States', 'bounding_box': {'type': 'Polygon', 'coordinates': [[[-74.026675, 40.683935], [-74.026675, 40.877483], [-73.910408, 40.877483], [-73.910408, 40.683935]]]}, 'attributes': {}}   \n",
       "\n",
       "   contributors  is_quote_status  quote_count  reply_count  retweet_count  \\\n",
       "0           NaN            False            0            0              0   \n",
       "\n",
       "   favorite_count  \\\n",
       "0               0   \n",
       "\n",
       "                                                                                                                                                                                                     entities  \\\n",
       "0  {'hashtags': [], 'urls': [], 'user_mentions': [{'screen_name': 'DelgadoforNY19', 'name': 'Antonio Delgado', 'id': 829061809135030272, 'id_str': '829061809135030272', 'indices': [0, 15]}], 'symbols': []}   \n",
       "\n",
       "   favorited  retweeted filter_level lang            timestamp_ms  \\\n",
       "0      False      False          low   en 2018-07-26 13:32:33.060   \n",
       "\n",
       "  extended_tweet  possibly_sensitive  quoted_status_id  quoted_status_id_str  \\\n",
       "0            NaN                 NaN               NaN                   NaN   \n",
       "\n",
       "  quoted_status quoted_status_permalink extended_entities  \\\n",
       "0           NaN                     NaN               NaN   \n",
       "\n",
       "  withheld_in_countries  \n",
       "0                   NaN  "
      ]
     },
     "execution_count": 38,
     "metadata": {},
     "output_type": "execute_result"
    }
   ],
   "source": [
    "ny_tweets = pd.read_json(\"new_york.json\", lines=True)\n",
    "ny_tweets.head(1)"
   ]
  },
  {
   "cell_type": "code",
   "execution_count": 39,
   "metadata": {},
   "outputs": [
    {
     "data": {
      "text/plain": [
       "array(['en', 'es', 'und', 'ja', 'ht', 'in', 'tl', 'fr', 'ur', 'ar', 'it',\n",
       "       'tr', 'no', 'ca', 'de', 'hu', 'sv', 'nl', 'pt', 'pl', 'cy', 'lv',\n",
       "       'et', 'ru', 'ro', 'zh', 'ko', 'lt', 'hi', 'da', 'am', 'th', 'cs'],\n",
       "      dtype=object)"
      ]
     },
     "execution_count": 39,
     "metadata": {},
     "output_type": "execute_result"
    }
   ],
   "source": [
    "ny_tweets.lang.unique()"
   ]
  },
  {
   "cell_type": "code",
   "execution_count": 40,
   "metadata": {},
   "outputs": [
    {
     "data": {
      "text/html": [
       "<div>\n",
       "<style scoped>\n",
       "    .dataframe tbody tr th:only-of-type {\n",
       "        vertical-align: middle;\n",
       "    }\n",
       "\n",
       "    .dataframe tbody tr th {\n",
       "        vertical-align: top;\n",
       "    }\n",
       "\n",
       "    .dataframe thead th {\n",
       "        text-align: right;\n",
       "    }\n",
       "</style>\n",
       "<table border=\"1\" class=\"dataframe\">\n",
       "  <thead>\n",
       "    <tr style=\"text-align: right;\">\n",
       "      <th></th>\n",
       "      <th>created_at</th>\n",
       "      <th>id</th>\n",
       "      <th>id_str</th>\n",
       "      <th>text</th>\n",
       "      <th>source</th>\n",
       "      <th>truncated</th>\n",
       "      <th>in_reply_to_status_id</th>\n",
       "      <th>in_reply_to_status_id_str</th>\n",
       "      <th>in_reply_to_user_id</th>\n",
       "      <th>in_reply_to_user_id_str</th>\n",
       "      <th>in_reply_to_screen_name</th>\n",
       "      <th>user</th>\n",
       "      <th>geo</th>\n",
       "      <th>coordinates</th>\n",
       "      <th>place</th>\n",
       "      <th>contributors</th>\n",
       "      <th>is_quote_status</th>\n",
       "      <th>quote_count</th>\n",
       "      <th>reply_count</th>\n",
       "      <th>retweet_count</th>\n",
       "      <th>favorite_count</th>\n",
       "      <th>entities</th>\n",
       "      <th>favorited</th>\n",
       "      <th>retweeted</th>\n",
       "      <th>filter_level</th>\n",
       "      <th>lang</th>\n",
       "      <th>timestamp_ms</th>\n",
       "      <th>display_text_range</th>\n",
       "      <th>extended_entities</th>\n",
       "      <th>possibly_sensitive</th>\n",
       "      <th>quoted_status_id</th>\n",
       "      <th>quoted_status_id_str</th>\n",
       "      <th>quoted_status</th>\n",
       "      <th>quoted_status_permalink</th>\n",
       "      <th>extended_tweet</th>\n",
       "    </tr>\n",
       "  </thead>\n",
       "  <tbody>\n",
       "    <tr>\n",
       "      <th>0</th>\n",
       "      <td>2018-07-27 17:40:45+00:00</td>\n",
       "      <td>1022899608396156928</td>\n",
       "      <td>1022899608396156928</td>\n",
       "      <td>Bulletin météo parisien : des grêlons énormes s'abattent sur nous. La température à dégringoler de 36 A20 😍😍😍😍😍</td>\n",
       "      <td>&lt;a href=\"http://twitter.com/download/android\" rel=\"nofollow\"&gt;Twitter for Android&lt;/a&gt;</td>\n",
       "      <td>False</td>\n",
       "      <td>NaN</td>\n",
       "      <td>NaN</td>\n",
       "      <td>NaN</td>\n",
       "      <td>NaN</td>\n",
       "      <td>None</td>\n",
       "      <td>{'id': 898983688960167936, 'id_str': '898983688960167936', 'name': 'l'idiopathe', 'screen_name': 'olivier7399', 'location': 'Paris, France', 'url': None, 'description': '#bibliothécaire et #francophone', 'translator_type': 'none', 'protected': False, 'verified': False, 'followers_count': 18, 'friends_count': 21, 'listed_count': 1, 'favourites_count': 1906, 'statuses_count': 236, 'created_at': 'Sat Aug 19 19:03:08 +0000 2017', 'utc_offset': None, 'time_zone': None, 'geo_enabled': True, 'lang': 'fr', 'contributors_enabled': False, 'is_translator': False, 'profile_background_color': 'F5F8FA', 'profile_background_image_url': '', 'profile_background_image_url_https': '', 'profile_background_tile': False, 'profile_link_color': '1DA1F2', 'profile_sidebar_border_color': 'C0DEED', 'profile_sidebar_fill_color': 'DDEEF6', 'profile_text_color': '333333', 'profile_use_background_image': True, 'profile_image_url': 'http://pbs.twimg.com/profile_images/898989015017414656/vYg0YFEE_normal.jpg', 'profile_image_url_https': 'https://pbs.twimg.com/profile_images/898989015017414656/vYg0YFEE_normal.jpg', 'default_profile': True, 'default_profile_image': False, 'following': None, 'follow_request_sent': None, 'notifications': None}</td>\n",
       "      <td>None</td>\n",
       "      <td>None</td>\n",
       "      <td>{'id': '09f6a7707f18e0b1', 'url': 'https://api.twitter.com/1.1/geo/id/09f6a7707f18e0b1.json', 'place_type': 'city', 'name': 'Paris', 'full_name': 'Paris, France', 'country_code': 'FR', 'country': 'France', 'bounding_box': {'type': 'Polygon', 'coordinates': [[[2.224101, 48.815521], [2.224101, 48.902146], [2.469905, 48.902146], [2.469905, 48.815521]]]}, 'attributes': {}}</td>\n",
       "      <td>NaN</td>\n",
       "      <td>False</td>\n",
       "      <td>0</td>\n",
       "      <td>0</td>\n",
       "      <td>0</td>\n",
       "      <td>0</td>\n",
       "      <td>{'hashtags': [], 'urls': [], 'user_mentions': [], 'symbols': []}</td>\n",
       "      <td>False</td>\n",
       "      <td>False</td>\n",
       "      <td>low</td>\n",
       "      <td>fr</td>\n",
       "      <td>2018-07-27 17:40:45.854</td>\n",
       "      <td>NaN</td>\n",
       "      <td>NaN</td>\n",
       "      <td>NaN</td>\n",
       "      <td>NaN</td>\n",
       "      <td>NaN</td>\n",
       "      <td>NaN</td>\n",
       "      <td>NaN</td>\n",
       "      <td>NaN</td>\n",
       "    </tr>\n",
       "  </tbody>\n",
       "</table>\n",
       "</div>"
      ],
      "text/plain": [
       "                 created_at                   id               id_str  \\\n",
       "0 2018-07-27 17:40:45+00:00  1022899608396156928  1022899608396156928   \n",
       "\n",
       "                                                                                                              text  \\\n",
       "0  Bulletin météo parisien : des grêlons énormes s'abattent sur nous. La température à dégringoler de 36 A20 😍😍😍😍😍   \n",
       "\n",
       "                                                                                 source  \\\n",
       "0  <a href=\"http://twitter.com/download/android\" rel=\"nofollow\">Twitter for Android</a>   \n",
       "\n",
       "   truncated  in_reply_to_status_id  in_reply_to_status_id_str  \\\n",
       "0      False                    NaN                        NaN   \n",
       "\n",
       "   in_reply_to_user_id  in_reply_to_user_id_str in_reply_to_screen_name  \\\n",
       "0                  NaN                      NaN                    None   \n",
       "\n",
       "                                                                                                                                                                                                                                                                                                                                                                                                                                                                                                                                                                                                                                                                                                                                                                                                                                                                                                                                                                                                                                                                                                                                                                                                                                                                        user  \\\n",
       "0  {'id': 898983688960167936, 'id_str': '898983688960167936', 'name': 'l'idiopathe', 'screen_name': 'olivier7399', 'location': 'Paris, France', 'url': None, 'description': '#bibliothécaire et #francophone', 'translator_type': 'none', 'protected': False, 'verified': False, 'followers_count': 18, 'friends_count': 21, 'listed_count': 1, 'favourites_count': 1906, 'statuses_count': 236, 'created_at': 'Sat Aug 19 19:03:08 +0000 2017', 'utc_offset': None, 'time_zone': None, 'geo_enabled': True, 'lang': 'fr', 'contributors_enabled': False, 'is_translator': False, 'profile_background_color': 'F5F8FA', 'profile_background_image_url': '', 'profile_background_image_url_https': '', 'profile_background_tile': False, 'profile_link_color': '1DA1F2', 'profile_sidebar_border_color': 'C0DEED', 'profile_sidebar_fill_color': 'DDEEF6', 'profile_text_color': '333333', 'profile_use_background_image': True, 'profile_image_url': 'http://pbs.twimg.com/profile_images/898989015017414656/vYg0YFEE_normal.jpg', 'profile_image_url_https': 'https://pbs.twimg.com/profile_images/898989015017414656/vYg0YFEE_normal.jpg', 'default_profile': True, 'default_profile_image': False, 'following': None, 'follow_request_sent': None, 'notifications': None}   \n",
       "\n",
       "    geo coordinates  \\\n",
       "0  None        None   \n",
       "\n",
       "                                                                                                                                                                                                                                                                                                                                                                                 place  \\\n",
       "0  {'id': '09f6a7707f18e0b1', 'url': 'https://api.twitter.com/1.1/geo/id/09f6a7707f18e0b1.json', 'place_type': 'city', 'name': 'Paris', 'full_name': 'Paris, France', 'country_code': 'FR', 'country': 'France', 'bounding_box': {'type': 'Polygon', 'coordinates': [[[2.224101, 48.815521], [2.224101, 48.902146], [2.469905, 48.902146], [2.469905, 48.815521]]]}, 'attributes': {}}   \n",
       "\n",
       "   contributors  is_quote_status  quote_count  reply_count  retweet_count  \\\n",
       "0           NaN            False            0            0              0   \n",
       "\n",
       "   favorite_count  \\\n",
       "0               0   \n",
       "\n",
       "                                                           entities  \\\n",
       "0  {'hashtags': [], 'urls': [], 'user_mentions': [], 'symbols': []}   \n",
       "\n",
       "   favorited  retweeted filter_level lang            timestamp_ms  \\\n",
       "0      False      False          low   fr 2018-07-27 17:40:45.854   \n",
       "\n",
       "  display_text_range extended_entities  possibly_sensitive  quoted_status_id  \\\n",
       "0                NaN               NaN                 NaN               NaN   \n",
       "\n",
       "   quoted_status_id_str quoted_status quoted_status_permalink extended_tweet  \n",
       "0                   NaN           NaN                     NaN            NaN  "
      ]
     },
     "execution_count": 40,
     "metadata": {},
     "output_type": "execute_result"
    }
   ],
   "source": [
    "p_tweets = pd.read_json(\"paris.json\", lines=True)\n",
    "p_tweets.head(1)"
   ]
  },
  {
   "cell_type": "code",
   "execution_count": 41,
   "metadata": {},
   "outputs": [
    {
     "data": {
      "text/plain": [
       "array(['fr', 'in', 'ar', 'en', 'pt', 'ru', 'und', 'es', 'nl', 'ro', 'it',\n",
       "       'tl', 'zh', 'tr', 'ja', 'de', 'uk', 'ca', 'ur', 'ht', 'et', 'pl',\n",
       "       'ko', 'fi', 'hi', 'sv', 'fa', 'vi', 'is'], dtype=object)"
      ]
     },
     "execution_count": 41,
     "metadata": {},
     "output_type": "execute_result"
    }
   ],
   "source": [
    "p_tweets.lang.unique()"
   ]
  },
  {
   "cell_type": "code",
   "execution_count": 42,
   "metadata": {},
   "outputs": [
    {
     "data": {
      "text/html": [
       "<div>\n",
       "<style scoped>\n",
       "    .dataframe tbody tr th:only-of-type {\n",
       "        vertical-align: middle;\n",
       "    }\n",
       "\n",
       "    .dataframe tbody tr th {\n",
       "        vertical-align: top;\n",
       "    }\n",
       "\n",
       "    .dataframe thead th {\n",
       "        text-align: right;\n",
       "    }\n",
       "</style>\n",
       "<table border=\"1\" class=\"dataframe\">\n",
       "  <thead>\n",
       "    <tr style=\"text-align: right;\">\n",
       "      <th></th>\n",
       "      <th>created_at</th>\n",
       "      <th>id</th>\n",
       "      <th>id_str</th>\n",
       "      <th>text</th>\n",
       "      <th>display_text_range</th>\n",
       "      <th>source</th>\n",
       "      <th>truncated</th>\n",
       "      <th>in_reply_to_status_id</th>\n",
       "      <th>in_reply_to_status_id_str</th>\n",
       "      <th>in_reply_to_user_id</th>\n",
       "      <th>in_reply_to_user_id_str</th>\n",
       "      <th>in_reply_to_screen_name</th>\n",
       "      <th>user</th>\n",
       "      <th>geo</th>\n",
       "      <th>coordinates</th>\n",
       "      <th>place</th>\n",
       "      <th>contributors</th>\n",
       "      <th>is_quote_status</th>\n",
       "      <th>extended_tweet</th>\n",
       "      <th>quote_count</th>\n",
       "      <th>reply_count</th>\n",
       "      <th>retweet_count</th>\n",
       "      <th>favorite_count</th>\n",
       "      <th>entities</th>\n",
       "      <th>favorited</th>\n",
       "      <th>retweeted</th>\n",
       "      <th>filter_level</th>\n",
       "      <th>lang</th>\n",
       "      <th>timestamp_ms</th>\n",
       "      <th>possibly_sensitive</th>\n",
       "      <th>quoted_status_id</th>\n",
       "      <th>quoted_status_id_str</th>\n",
       "      <th>quoted_status</th>\n",
       "      <th>quoted_status_permalink</th>\n",
       "      <th>extended_entities</th>\n",
       "    </tr>\n",
       "  </thead>\n",
       "  <tbody>\n",
       "    <tr>\n",
       "      <th>0</th>\n",
       "      <td>2018-07-26 13:39:30+00:00</td>\n",
       "      <td>1022476504855400449</td>\n",
       "      <td>1022476504855400448</td>\n",
       "      <td>@bbclaurak i agree Laura but the Party you seem to support so strongly is slowly doing the same thing . . . and usi… https://t.co/tsRsVBozIR</td>\n",
       "      <td>[11, 140]</td>\n",
       "      <td>&lt;a href=\"http://twitter.com/download/iphone\" rel=\"nofollow\"&gt;Twitter for iPhone&lt;/a&gt;</td>\n",
       "      <td>True</td>\n",
       "      <td>1.022447e+18</td>\n",
       "      <td>1.022447e+18</td>\n",
       "      <td>61183568.0</td>\n",
       "      <td>61183568.0</td>\n",
       "      <td>bbclaurak</td>\n",
       "      <td>{'id': 340170806, 'id_str': '340170806', 'name': 'Big Bobs bastard beans', 'screen_name': 'annoyed_aldo', 'location': None, 'url': None, 'description': 'Memento Mori . . . check my timeline before following me 😒😒 come at me bitches . . . I’ll just block your racist, hateful asses . . .', 'translator_type': 'none', 'protected': False, 'verified': False, 'followers_count': 775, 'friends_count': 1523, 'listed_count': 60, 'favourites_count': 16805, 'statuses_count': 38211, 'created_at': 'Fri Jul 22 07:43:07 +0000 2011', 'utc_offset': None, 'time_zone': None, 'geo_enabled': True, 'lang': 'en', 'contributors_enabled': False, 'is_translator': False, 'profile_background_color': 'C0DEED', 'profile_background_image_url': 'http://abs.twimg.com/images/themes/theme1/bg.png', 'profile_background_image_url_https': 'https://abs.twimg.com/images/themes/theme1/bg.png', 'profile_background_tile': False, 'profile_link_color': '1DA1F2', 'profile_sidebar_border_color': 'C0DEED', 'profile_sidebar_fill_color': 'DDEEF6', 'profile_text_color': '333333', 'profile_use_background_image': True, 'profile_image_url': 'http://pbs.twimg.com/profile_images/1022042988418134016/jgnVpHD2_normal.jpg', 'profile_image_url_https': 'https://pbs.twimg.com/profile_images/1022042988418134016/jgnVpHD2_normal.jpg', 'profile_banner_url': 'https://pbs.twimg.com/profile_banners/340170806/1483202068', 'default_profile': True, 'default_profile_image': False, 'following': None, 'follow_request_sent': None, 'notifications': None}</td>\n",
       "      <td>None</td>\n",
       "      <td>None</td>\n",
       "      <td>{'id': '58f909abfd95e133', 'url': 'https://api.twitter.com/1.1/geo/id/58f909abfd95e133.json', 'place_type': 'city', 'name': 'Lewisham', 'full_name': 'Lewisham, London', 'country_code': 'GB', 'country': 'United Kingdom', 'bounding_box': {'type': 'Polygon', 'coordinates': [[[-0.074547, 51.414087], [-0.074547, 51.494127], [0.038567, 51.494127], [0.038567, 51.414087]]]}, 'attributes': {}}</td>\n",
       "      <td>NaN</td>\n",
       "      <td>False</td>\n",
       "      <td>{'full_text': '@bbclaurak i agree Laura but the Party you seem to support so strongly is slowly doing the same thing . . . and using you as their puppet 😐😐😐', 'display_text_range': [11, 141], 'entities': {'hashtags': [], 'urls': [], 'user_mentions': [{'screen_name': 'bbclaurak', 'name': 'Laura Kuenssberg', 'id': 61183568, 'id_str': '61183568', 'indices': [0, 10]}], 'symbols': []}}</td>\n",
       "      <td>0</td>\n",
       "      <td>0</td>\n",
       "      <td>0</td>\n",
       "      <td>0</td>\n",
       "      <td>{'hashtags': [], 'urls': [{'url': 'https://t.co/tsRsVBozIR', 'expanded_url': 'https://twitter.com/i/web/status/1022476504855400449', 'display_url': 'twitter.com/i/web/status/1…', 'indices': [117, 140]}], 'user_mentions': [{'screen_name': 'bbclaurak', 'name': 'Laura Kuenssberg', 'id': 61183568, 'id_str': '61183568', 'indices': [0, 10]}], 'symbols': []}</td>\n",
       "      <td>False</td>\n",
       "      <td>False</td>\n",
       "      <td>low</td>\n",
       "      <td>en</td>\n",
       "      <td>2018-07-26 13:39:30.109</td>\n",
       "      <td>NaN</td>\n",
       "      <td>NaN</td>\n",
       "      <td>NaN</td>\n",
       "      <td>NaN</td>\n",
       "      <td>NaN</td>\n",
       "      <td>NaN</td>\n",
       "    </tr>\n",
       "  </tbody>\n",
       "</table>\n",
       "</div>"
      ],
      "text/plain": [
       "                 created_at                   id               id_str  \\\n",
       "0 2018-07-26 13:39:30+00:00  1022476504855400449  1022476504855400448   \n",
       "\n",
       "                                                                                                                                           text  \\\n",
       "0  @bbclaurak i agree Laura but the Party you seem to support so strongly is slowly doing the same thing . . . and usi… https://t.co/tsRsVBozIR   \n",
       "\n",
       "  display_text_range  \\\n",
       "0          [11, 140]   \n",
       "\n",
       "                                                                               source  \\\n",
       "0  <a href=\"http://twitter.com/download/iphone\" rel=\"nofollow\">Twitter for iPhone</a>   \n",
       "\n",
       "   truncated  in_reply_to_status_id  in_reply_to_status_id_str  \\\n",
       "0       True           1.022447e+18               1.022447e+18   \n",
       "\n",
       "   in_reply_to_user_id  in_reply_to_user_id_str in_reply_to_screen_name  \\\n",
       "0           61183568.0               61183568.0               bbclaurak   \n",
       "\n",
       "                                                                                                                                                                                                                                                                                                                                                                                                                                                                                                                                                                                                                                                                                                                                                                                                                                                                                                                                                                                                                                                                                                                                                                                                                                                                                                                                                                                                                                                                                                                                                           user  \\\n",
       "0  {'id': 340170806, 'id_str': '340170806', 'name': 'Big Bobs bastard beans', 'screen_name': 'annoyed_aldo', 'location': None, 'url': None, 'description': 'Memento Mori . . . check my timeline before following me 😒😒 come at me bitches . . . I’ll just block your racist, hateful asses . . .', 'translator_type': 'none', 'protected': False, 'verified': False, 'followers_count': 775, 'friends_count': 1523, 'listed_count': 60, 'favourites_count': 16805, 'statuses_count': 38211, 'created_at': 'Fri Jul 22 07:43:07 +0000 2011', 'utc_offset': None, 'time_zone': None, 'geo_enabled': True, 'lang': 'en', 'contributors_enabled': False, 'is_translator': False, 'profile_background_color': 'C0DEED', 'profile_background_image_url': 'http://abs.twimg.com/images/themes/theme1/bg.png', 'profile_background_image_url_https': 'https://abs.twimg.com/images/themes/theme1/bg.png', 'profile_background_tile': False, 'profile_link_color': '1DA1F2', 'profile_sidebar_border_color': 'C0DEED', 'profile_sidebar_fill_color': 'DDEEF6', 'profile_text_color': '333333', 'profile_use_background_image': True, 'profile_image_url': 'http://pbs.twimg.com/profile_images/1022042988418134016/jgnVpHD2_normal.jpg', 'profile_image_url_https': 'https://pbs.twimg.com/profile_images/1022042988418134016/jgnVpHD2_normal.jpg', 'profile_banner_url': 'https://pbs.twimg.com/profile_banners/340170806/1483202068', 'default_profile': True, 'default_profile_image': False, 'following': None, 'follow_request_sent': None, 'notifications': None}   \n",
       "\n",
       "    geo coordinates  \\\n",
       "0  None        None   \n",
       "\n",
       "                                                                                                                                                                                                                                                                                                                                                                                                 place  \\\n",
       "0  {'id': '58f909abfd95e133', 'url': 'https://api.twitter.com/1.1/geo/id/58f909abfd95e133.json', 'place_type': 'city', 'name': 'Lewisham', 'full_name': 'Lewisham, London', 'country_code': 'GB', 'country': 'United Kingdom', 'bounding_box': {'type': 'Polygon', 'coordinates': [[[-0.074547, 51.414087], [-0.074547, 51.494127], [0.038567, 51.494127], [0.038567, 51.414087]]]}, 'attributes': {}}   \n",
       "\n",
       "   contributors  is_quote_status  \\\n",
       "0           NaN            False   \n",
       "\n",
       "                                                                                                                                                                                                                                                                                                                                                                                    extended_tweet  \\\n",
       "0  {'full_text': '@bbclaurak i agree Laura but the Party you seem to support so strongly is slowly doing the same thing . . . and using you as their puppet 😐😐😐', 'display_text_range': [11, 141], 'entities': {'hashtags': [], 'urls': [], 'user_mentions': [{'screen_name': 'bbclaurak', 'name': 'Laura Kuenssberg', 'id': 61183568, 'id_str': '61183568', 'indices': [0, 10]}], 'symbols': []}}   \n",
       "\n",
       "   quote_count  reply_count  retweet_count  favorite_count  \\\n",
       "0            0            0              0               0   \n",
       "\n",
       "                                                                                                                                                                                                                                                                                                                                                            entities  \\\n",
       "0  {'hashtags': [], 'urls': [{'url': 'https://t.co/tsRsVBozIR', 'expanded_url': 'https://twitter.com/i/web/status/1022476504855400449', 'display_url': 'twitter.com/i/web/status/1…', 'indices': [117, 140]}], 'user_mentions': [{'screen_name': 'bbclaurak', 'name': 'Laura Kuenssberg', 'id': 61183568, 'id_str': '61183568', 'indices': [0, 10]}], 'symbols': []}   \n",
       "\n",
       "   favorited  retweeted filter_level lang            timestamp_ms  \\\n",
       "0      False      False          low   en 2018-07-26 13:39:30.109   \n",
       "\n",
       "   possibly_sensitive  quoted_status_id  quoted_status_id_str quoted_status  \\\n",
       "0                 NaN               NaN                   NaN           NaN   \n",
       "\n",
       "  quoted_status_permalink extended_entities  \n",
       "0                     NaN               NaN  "
      ]
     },
     "execution_count": 42,
     "metadata": {},
     "output_type": "execute_result"
    }
   ],
   "source": [
    "l_tweets = pd.read_json(\"london.json\", lines=True)\n",
    "l_tweets.head(1)"
   ]
  },
  {
   "cell_type": "code",
   "execution_count": 43,
   "metadata": {},
   "outputs": [
    {
     "data": {
      "text/plain": [
       "array(['en', 'und', 'ru', 'ar', 'et', 'pt', 'es', 'it', 'ta', 'tl', 'tr',\n",
       "       'fr', 'ja', 'pl', 'fa', 'in', 'zh', 'ur', 'iw', 'da', 'ko', 'te',\n",
       "       'cy', 'hi', 'ht', 'de', 'sv', 'ro', 'nl', 'hu', 'eu', 'ca', 'fi',\n",
       "       'dv', 'cs', 'uk', 'th'], dtype=object)"
      ]
     },
     "execution_count": 43,
     "metadata": {},
     "output_type": "execute_result"
    }
   ],
   "source": [
    "l_tweets.lang.unique()"
   ]
  },
  {
   "cell_type": "markdown",
   "metadata": {},
   "source": [
    "Result: Paris' tweets are mostly in French, but there are some English, Arabic, Spanish  and other languages in each dataset, so we'll add all these languages to stop words set below, but it's clear that the main distinctive characteristic for Paris's dataset will be dominance of French in tweets."
   ]
  },
  {
   "cell_type": "code",
   "execution_count": 44,
   "metadata": {},
   "outputs": [
    {
     "name": "stdout",
     "output_type": "stream",
     "text": [
      "<class 'pandas.core.frame.DataFrame'>\n",
      "RangeIndex: 4723 entries, 0 to 4722\n",
      "Data columns (total 36 columns):\n",
      " #   Column                     Non-Null Count  Dtype              \n",
      "---  ------                     --------------  -----              \n",
      " 0   created_at                 4723 non-null   datetime64[ns, UTC]\n",
      " 1   id                         4723 non-null   int64              \n",
      " 2   id_str                     4723 non-null   int64              \n",
      " 3   text                       4723 non-null   object             \n",
      " 4   display_text_range         2811 non-null   object             \n",
      " 5   source                     4723 non-null   object             \n",
      " 6   truncated                  4723 non-null   bool               \n",
      " 7   in_reply_to_status_id      1668 non-null   float64            \n",
      " 8   in_reply_to_status_id_str  1668 non-null   float64            \n",
      " 9   in_reply_to_user_id        1829 non-null   float64            \n",
      " 10  in_reply_to_user_id_str    1829 non-null   float64            \n",
      " 11  in_reply_to_screen_name    1829 non-null   object             \n",
      " 12  user                       4723 non-null   object             \n",
      " 13  geo                        668 non-null    object             \n",
      " 14  coordinates                668 non-null    object             \n",
      " 15  place                      4723 non-null   object             \n",
      " 16  contributors               0 non-null      float64            \n",
      " 17  is_quote_status            4723 non-null   bool               \n",
      " 18  quote_count                4723 non-null   int64              \n",
      " 19  reply_count                4723 non-null   int64              \n",
      " 20  retweet_count              4723 non-null   int64              \n",
      " 21  favorite_count             4723 non-null   int64              \n",
      " 22  entities                   4723 non-null   object             \n",
      " 23  favorited                  4723 non-null   bool               \n",
      " 24  retweeted                  4723 non-null   bool               \n",
      " 25  filter_level               4723 non-null   object             \n",
      " 26  lang                       4723 non-null   object             \n",
      " 27  timestamp_ms               4723 non-null   datetime64[ns]     \n",
      " 28  extended_tweet             1227 non-null   object             \n",
      " 29  possibly_sensitive         2286 non-null   float64            \n",
      " 30  quoted_status_id           795 non-null    float64            \n",
      " 31  quoted_status_id_str       795 non-null    float64            \n",
      " 32  quoted_status              795 non-null    object             \n",
      " 33  quoted_status_permalink    795 non-null    object             \n",
      " 34  extended_entities          451 non-null    object             \n",
      " 35  withheld_in_countries      1 non-null      object             \n",
      "dtypes: bool(4), datetime64[ns, UTC](1), datetime64[ns](1), float64(8), int64(6), object(16)\n",
      "memory usage: 1.2+ MB\n"
     ]
    }
   ],
   "source": [
    "ny_tweets.info()"
   ]
  },
  {
   "cell_type": "code",
   "execution_count": 45,
   "metadata": {},
   "outputs": [
    {
     "name": "stdout",
     "output_type": "stream",
     "text": [
      "<class 'pandas.core.frame.DataFrame'>\n",
      "RangeIndex: 2510 entries, 0 to 2509\n",
      "Data columns (total 35 columns):\n",
      " #   Column                     Non-Null Count  Dtype              \n",
      "---  ------                     --------------  -----              \n",
      " 0   created_at                 2510 non-null   datetime64[ns, UTC]\n",
      " 1   id                         2510 non-null   int64              \n",
      " 2   id_str                     2510 non-null   int64              \n",
      " 3   text                       2510 non-null   object             \n",
      " 4   source                     2510 non-null   object             \n",
      " 5   truncated                  2510 non-null   bool               \n",
      " 6   in_reply_to_status_id      1040 non-null   float64            \n",
      " 7   in_reply_to_status_id_str  1040 non-null   float64            \n",
      " 8   in_reply_to_user_id        1101 non-null   float64            \n",
      " 9   in_reply_to_user_id_str    1101 non-null   float64            \n",
      " 10  in_reply_to_screen_name    1101 non-null   object             \n",
      " 11  user                       2510 non-null   object             \n",
      " 12  geo                        176 non-null    object             \n",
      " 13  coordinates                176 non-null    object             \n",
      " 14  place                      2510 non-null   object             \n",
      " 15  contributors               0 non-null      float64            \n",
      " 16  is_quote_status            2510 non-null   bool               \n",
      " 17  quote_count                2510 non-null   int64              \n",
      " 18  reply_count                2510 non-null   int64              \n",
      " 19  retweet_count              2510 non-null   int64              \n",
      " 20  favorite_count             2510 non-null   int64              \n",
      " 21  entities                   2510 non-null   object             \n",
      " 22  favorited                  2510 non-null   bool               \n",
      " 23  retweeted                  2510 non-null   bool               \n",
      " 24  filter_level               2510 non-null   object             \n",
      " 25  lang                       2510 non-null   object             \n",
      " 26  timestamp_ms               2510 non-null   datetime64[ns]     \n",
      " 27  display_text_range         1248 non-null   object             \n",
      " 28  extended_entities          298 non-null    object             \n",
      " 29  possibly_sensitive         653 non-null    float64            \n",
      " 30  quoted_status_id           362 non-null    float64            \n",
      " 31  quoted_status_id_str       362 non-null    float64            \n",
      " 32  quoted_status              362 non-null    object             \n",
      " 33  quoted_status_permalink    362 non-null    object             \n",
      " 34  extended_tweet             470 non-null    object             \n",
      "dtypes: bool(4), datetime64[ns, UTC](1), datetime64[ns](1), float64(8), int64(6), object(15)\n",
      "memory usage: 617.8+ KB\n"
     ]
    }
   ],
   "source": [
    "p_tweets.info()"
   ]
  },
  {
   "cell_type": "code",
   "execution_count": 46,
   "metadata": {},
   "outputs": [
    {
     "name": "stdout",
     "output_type": "stream",
     "text": [
      "<class 'pandas.core.frame.DataFrame'>\n",
      "RangeIndex: 5341 entries, 0 to 5340\n",
      "Data columns (total 35 columns):\n",
      " #   Column                     Non-Null Count  Dtype              \n",
      "---  ------                     --------------  -----              \n",
      " 0   created_at                 5341 non-null   datetime64[ns, UTC]\n",
      " 1   id                         5341 non-null   int64              \n",
      " 2   id_str                     5341 non-null   int64              \n",
      " 3   text                       5341 non-null   object             \n",
      " 4   display_text_range         3535 non-null   object             \n",
      " 5   source                     5341 non-null   object             \n",
      " 6   truncated                  5341 non-null   bool               \n",
      " 7   in_reply_to_status_id      2230 non-null   float64            \n",
      " 8   in_reply_to_status_id_str  2230 non-null   float64            \n",
      " 9   in_reply_to_user_id        2444 non-null   float64            \n",
      " 10  in_reply_to_user_id_str    2444 non-null   float64            \n",
      " 11  in_reply_to_screen_name    2444 non-null   object             \n",
      " 12  user                       5341 non-null   object             \n",
      " 13  geo                        672 non-null    object             \n",
      " 14  coordinates                672 non-null    object             \n",
      " 15  place                      5341 non-null   object             \n",
      " 16  contributors               0 non-null      float64            \n",
      " 17  is_quote_status            5341 non-null   bool               \n",
      " 18  extended_tweet             1520 non-null   object             \n",
      " 19  quote_count                5341 non-null   int64              \n",
      " 20  reply_count                5341 non-null   int64              \n",
      " 21  retweet_count              5341 non-null   int64              \n",
      " 22  favorite_count             5341 non-null   int64              \n",
      " 23  entities                   5341 non-null   object             \n",
      " 24  favorited                  5341 non-null   bool               \n",
      " 25  retweeted                  5341 non-null   bool               \n",
      " 26  filter_level               5341 non-null   object             \n",
      " 27  lang                       5341 non-null   object             \n",
      " 28  timestamp_ms               5341 non-null   datetime64[ns]     \n",
      " 29  possibly_sensitive         2394 non-null   float64            \n",
      " 30  quoted_status_id           682 non-null    float64            \n",
      " 31  quoted_status_id_str       682 non-null    float64            \n",
      " 32  quoted_status              682 non-null    object             \n",
      " 33  quoted_status_permalink    682 non-null    object             \n",
      " 34  extended_entities          580 non-null    object             \n",
      "dtypes: bool(4), datetime64[ns, UTC](1), datetime64[ns](1), float64(8), int64(6), object(15)\n",
      "memory usage: 1.3+ MB\n"
     ]
    }
   ],
   "source": [
    "l_tweets.info()"
   ]
  },
  {
   "cell_type": "markdown",
   "metadata": {},
   "source": [
    "The same flaws that we had in the previous dataset are present here, but I doubt that they would do any harm right now, so proceeding analysing datasets as they are.\n",
    "\n",
    "### Text augmentation\n",
    "\n",
    "To increase our chances of getting good results from intrinsic testing we are going to perform automatic text augmentation using BERT. Our augmenter accepts only list of strings, so we are going to convert our texts to lists and remove links from them to make things easier for further preprocessing steps. "
   ]
  },
  {
   "cell_type": "code",
   "execution_count": 47,
   "metadata": {},
   "outputs": [
    {
     "data": {
      "text/plain": [
       "[\"Bulletin météo parisien : des grêlons énormes s'abattent sur nous. La température à dégringoler de 36 A20 😍😍😍😍😍\",\n",
       " 'Prêt pour le match #USORCL ',\n",
       " \"MAIS QOIDBDNND'SLS'SLSLLSLS''D DBDODNDNODJDBKDLDLDLLDMDMDMEMD' DNDBISKENvzjks\\nKENTARO MIURA N'EST PAS UN HUMAIN \",\n",
       " '@ToursFC Où peut on le championnat de National...?',\n",
       " 'Les tismey ils sont bas qu’a tromper leur go et faire les putes']"
      ]
     },
     "execution_count": 47,
     "metadata": {},
     "output_type": "execute_result"
    }
   ],
   "source": [
    "# Remove links and convert to lists each dataset\n",
    "def convert_clean(dataset):\n",
    "    return dataset.text.str.replace(r'''[(http(s)?):\\/\\/(www\\.)?a-zA-Z0-9@:%._\\+~#=]{2,256}\\.[a-z]{2,6}\\b([-a-zA-Z0-9@:%_\\+.~#?&//=]*)''', \n",
    "    '', \n",
    "    regex=True\n",
    "    ).to_list()\n",
    "\n",
    "p_tw_list = convert_clean(p_tweets)\n",
    "l_tw_list = convert_clean(l_tweets)\n",
    "ny_tw_list = convert_clean(ny_tweets)\n",
    "p_tw_list[:5]"
   ]
  },
  {
   "cell_type": "code",
   "execution_count": 48,
   "metadata": {},
   "outputs": [],
   "source": [
    "def text_augment(text):\n",
    "    # Augment texts using BERT\n",
    "    aug = naw.ContextualWordEmbsAug(model_path='bert-base-multilingual-uncased', aug_p=0.1)\n",
    "    return aug.augment(text)"
   ]
  },
  {
   "cell_type": "markdown",
   "metadata": {},
   "source": [
    "We are going to augment the whole list of tweets from Paris and those from NY but partially. The goal is to get about 5000 tweets for each city as a result."
   ]
  },
  {
   "cell_type": "code",
   "execution_count": 49,
   "metadata": {},
   "outputs": [
    {
     "data": {
      "text/plain": [
       "5020"
      ]
     },
     "execution_count": 49,
     "metadata": {},
     "output_type": "execute_result"
    }
   ],
   "source": [
    "# Augment Paris' tweets\n",
    "p_aug = with_pickle('pickles/p_aug.pickle', lambda : text_augment(p_tw_list))\n",
    "# Augment NY's tweets\n",
    "ny_aug = with_pickle('pickles/ny_aug.pickle', lambda : text_augment(ny_tw_list[:1000]))\n",
    "\n",
    "# Attach augmented tweets from Paris to initial list\n",
    "p_tweets_aug = p_tw_list + p_aug\n",
    "# Get new number of Paris tweets\n",
    "len(p_tweets_aug)"
   ]
  },
  {
   "cell_type": "code",
   "execution_count": 50,
   "metadata": {},
   "outputs": [
    {
     "data": {
      "text/plain": [
       "5723"
      ]
     },
     "execution_count": 50,
     "metadata": {},
     "output_type": "execute_result"
    }
   ],
   "source": [
    "# Attach augmented tweets from NY to initial list\n",
    "ny_tweets_aug = ny_tw_list + ny_aug\n",
    "len(ny_tweets_aug)"
   ]
  },
  {
   "cell_type": "code",
   "execution_count": 51,
   "metadata": {},
   "outputs": [
    {
     "data": {
      "text/plain": [
       "16084"
      ]
     },
     "execution_count": 51,
     "metadata": {},
     "output_type": "execute_result"
    }
   ],
   "source": [
    "# Collect all tweets in one list\n",
    "all_tweets_aug = ny_tweets_aug + p_tweets_aug + l_tw_list\n",
    "# Get total number of tweets\n",
    "len(all_tweets_aug)"
   ]
  },
  {
   "cell_type": "markdown",
   "metadata": {},
   "source": [
    "Result: we got ourselves `16 084` tweets for further work."
   ]
  },
  {
   "cell_type": "markdown",
   "metadata": {},
   "source": [
    "### Preprocessing\n",
    "\n",
    "One of our feature modelling technics - word embeddings, using word2vec, requires cleaned and tokenised text, so we'll preprocess our augmented text for it and then devide it for training and testing sets. "
   ]
  },
  {
   "cell_type": "code",
   "execution_count": 52,
   "metadata": {},
   "outputs": [],
   "source": [
    "# Make stop words set from several languages\n",
    "all_stopwords = set()\n",
    "languages = ['english', 'french', 'arabic', 'spanish', 'indonesian', 'portuguese', 'russian']\n",
    "for language in languages:\n",
    "    all_stopwords |= set(stopwords.words(language))"
   ]
  },
  {
   "cell_type": "code",
   "execution_count": 53,
   "metadata": {},
   "outputs": [],
   "source": [
    "# Preprocess the text.\n",
    "def preprocess_corpus(texts):\n",
    "    def remove_stops_digits(tokens):\n",
    "        # Nested function that lowercases, removes stopwords, digits if they are not from a list of tokens\n",
    "        return [token.lower() for token in tokens if token not in all_stopwords\n",
    "            and not token.isdigit()\n",
    "            and re.match(r'\\W+', token) is None] \n",
    "    return [remove_stops_digits(word_tokenize(text)) for text in texts]\n"
   ]
  },
  {
   "cell_type": "code",
   "execution_count": 54,
   "metadata": {},
   "outputs": [
    {
     "data": {
      "text/plain": [
       "[['delgadoforny19', 'calendar', 'marked'],\n",
       " ['petition', 'ban', 'one', 'spritz', 'cologne'],\n",
       " ['people', 'really', 'making', 'beef', 'head', 'lol']]"
      ]
     },
     "execution_count": 54,
     "metadata": {},
     "output_type": "execute_result"
    }
   ],
   "source": [
    "text_processed = preprocess_corpus(all_tweets_aug)\n",
    "text_processed[:3]"
   ]
  },
  {
   "cell_type": "markdown",
   "metadata": {},
   "source": [
    "### Creating Training and Testing Sets for 1st Classifier"
   ]
  },
  {
   "cell_type": "markdown",
   "metadata": {},
   "source": [
    "Considering, we using supervised algos, we need a list of labels to teach our models, so let's make it from augmented texts. Labels will be associated with the tweets: \n",
    "- `0` New York tweet;\n",
    "- `1` London tweet, \n",
    "- `2` Paris tweet. "
   ]
  },
  {
   "cell_type": "code",
   "execution_count": 55,
   "metadata": {},
   "outputs": [
    {
     "data": {
      "text/plain": [
       "([0, 0, 0, 0, 0], [2, 2, 2, 2, 2])"
      ]
     },
     "execution_count": 55,
     "metadata": {},
     "output_type": "execute_result"
    }
   ],
   "source": [
    "labels = [0] * len(ny_tweets_aug) + [1] * len(p_tweets_aug) + [2] * len(l_tw_list)\n",
    "# Get 5 first and 5 last labels\n",
    "labels[:5], labels[-5:]"
   ]
  },
  {
   "cell_type": "markdown",
   "metadata": {},
   "source": [
    "With labels created, we can proceed to splitting data and labels to training and testing sets."
   ]
  },
  {
   "cell_type": "code",
   "execution_count": 56,
   "metadata": {},
   "outputs": [
    {
     "data": {
      "text/plain": [
       "[['aziz_ajax', 'نقراها'],\n",
       " ['whitecarz',\n",
       "  'tomfawcett88',\n",
       "  'queen_of_gif',\n",
       "  'gnasherjew',\n",
       "  'mrjamesob',\n",
       "  'labouragainstas',\n",
       "  'uklabour',\n",
       "  'catch',\n",
       "  'phrase',\n",
       "  'almost',\n",
       "  't…'],\n",
       " ['right', 'robtiffany', 'enjoy', 'rest']]"
      ]
     },
     "execution_count": 56,
     "metadata": {},
     "output_type": "execute_result"
    }
   ],
   "source": [
    "# Split data and labels for train and test\n",
    "train_data, test_data, train_labels, test_labels = train_test_split(\n",
    "    text_processed, \n",
    "    labels, \n",
    "    train_size=0.8, \n",
    "    test_size=0.2, \n",
    "    random_state=3\n",
    "    )\n",
    "\n",
    "train_data[:3]"
   ]
  },
  {
   "cell_type": "markdown",
   "metadata": {},
   "source": [
    "### Create Word Embeddings\n",
    "\n",
    "Now we are going to use our train data to create embeddings. "
   ]
  },
  {
   "cell_type": "code",
   "execution_count": 57,
   "metadata": {},
   "outputs": [],
   "source": [
    "def train_word2vec(train_data, vector_size, window, min_count, workers, sg, epochs):\n",
    "    # Instantiate embedding model\n",
    "    w2v_model = gensim.models.Word2Vec(\n",
    "        train_data,\n",
    "        vector_size=vector_size, \n",
    "        window=window, \n",
    "        min_count=min_count, \n",
    "        workers=workers,\n",
    "        sg=sg, \n",
    "        epochs=epochs)\n",
    "    return w2v_model\n",
    "\n",
    "# Train embedding model\n",
    "w2v_model = with_pickle('pickles/w2v_model.pickle', lambda : train_word2vec(\n",
    "    train_data=train_data, \n",
    "    vector_size=1000, \n",
    "    window=5, \n",
    "    min_count=1, \n",
    "    workers=2, \n",
    "    sg=1, \n",
    "    epochs=1500))"
   ]
  },
  {
   "cell_type": "code",
   "execution_count": 58,
   "metadata": {},
   "outputs": [
    {
     "data": {
      "text/plain": [
       "array([ 0.08027908, -0.03416432,  0.07948664,  0.01527151, -0.25814508])"
      ]
     },
     "execution_count": 58,
     "metadata": {},
     "output_type": "execute_result"
    }
   ],
   "source": [
    "# Creating a feature vector by averaging all embeddings for all sentences\n",
    "def embedding_features(list_of_lists):\n",
    "    DIMENSION = 1000\n",
    "    zero_vector = np.zeros(DIMENSION)\n",
    "    feats = []\n",
    "    for tokens in list_of_lists:\n",
    "        feat_for_this =  np.zeros(DIMENSION)\n",
    "        count_for_this = 0 + 1e-5 # to avoid divide-by-zero \n",
    "        for token in tokens:\n",
    "            if token in w2v_model.wv:\n",
    "                feat_for_this += w2v_model.wv[token]\n",
    "                count_for_this +=1\n",
    "        if(count_for_this!=0):\n",
    "            feats.append(feat_for_this/count_for_this) \n",
    "        else:\n",
    "            feats.append(zero_vector)\n",
    "    return feats\n",
    "\n",
    "\n",
    "train_vectors = embedding_features(train_data)\n",
    "train_vectors[0][:5]"
   ]
  },
  {
   "cell_type": "markdown",
   "metadata": {},
   "source": [
    "### Create Logistic Regression Classifier\n",
    "\n",
    "It's time to give the embeddings to the classifier to train it."
   ]
  },
  {
   "cell_type": "code",
   "execution_count": 59,
   "metadata": {},
   "outputs": [
    {
     "data": {
      "text/plain": [
       "LogisticRegression(max_iter=1200)"
      ]
     },
     "execution_count": 59,
     "metadata": {},
     "output_type": "execute_result"
    }
   ],
   "source": [
    "# Instantiate classifier\n",
    "classifier_lr = LogisticRegression(max_iter=1200)\n",
    "# Train classifier\n",
    "classifier_lr.fit(train_vectors, train_labels)"
   ]
  },
  {
   "cell_type": "markdown",
   "metadata": {},
   "source": [
    "Now we have first out of 2 classifiers trained. To evaluate the test results of its classification we are going to use automatically building text report showing the main classification metrics for each class:\n",
    "\n",
    "    - Precision;\n",
    "    - Recall;\n",
    "    - F1 score;\n",
    "\n",
    "When we'll get the second classifier ready we'll also use `confusion matrix` to understand how many predicions were indeed correct. "
   ]
  },
  {
   "cell_type": "code",
   "execution_count": 60,
   "metadata": {},
   "outputs": [
    {
     "name": "stdout",
     "output_type": "stream",
     "text": [
      "              precision    recall  f1-score   support\n",
      "\n",
      "           0       0.56      0.70      0.62      1133\n",
      "           1       0.88      0.77      0.82      1018\n",
      "           2       0.63      0.53      0.58      1066\n",
      "\n",
      "    accuracy                           0.67      3217\n",
      "   macro avg       0.69      0.67      0.67      3217\n",
      "weighted avg       0.68      0.67      0.67      3217\n",
      "\n"
     ]
    }
   ],
   "source": [
    "# Get predicted labels for test data\n",
    "preds = classifier_lr.predict(embedding_features(test_data))\n",
    "\n",
    "# Calculate evaluation metrics\n",
    "print(classification_report(test_labels, preds))"
   ]
  },
  {
   "cell_type": "markdown",
   "metadata": {},
   "source": [
    "Result: First classifier has `67%` of accuracy, which is not great but not too bad either. As one might have guessed it does pretty good on the Paris tweets with `precision`, `recall` and `F1-score` of `88%`, `77%`, `82%` accordingly. But not as good with NY and London tweets with those same metrics in a range from `54%` to `70%`.\n",
    "\n",
    "\n",
    "### Creating Training and Testing Set for 2nd Classifier\n",
    "\n",
    "Let's try using sparse matrix and Naive Bayes classifier. This vectoriser uses a raw text, so we'll split the augmented version of it and then will transform it to vectors. "
   ]
  },
  {
   "cell_type": "code",
   "execution_count": 61,
   "metadata": {},
   "outputs": [
    {
     "data": {
      "text/plain": [
       "[['aziz_ajax', 'نقراها'],\n",
       " ['whitecarz',\n",
       "  'tomfawcett88',\n",
       "  'queen_of_gif',\n",
       "  'gnasherjew',\n",
       "  'mrjamesob',\n",
       "  'labouragainstas',\n",
       "  'uklabour',\n",
       "  'catch',\n",
       "  'phrase',\n",
       "  'almost',\n",
       "  't…'],\n",
       " ['right', 'robtiffany', 'enjoy', 'rest']]"
      ]
     },
     "execution_count": 61,
     "metadata": {},
     "output_type": "execute_result"
    }
   ],
   "source": [
    "# Split data and labels for train and test\n",
    "train_data1, test_data1, train_labels1, test_labels1= train_test_split(\n",
    "    all_tweets_aug, \n",
    "    labels, \n",
    "    train_size=0.8, \n",
    "    test_size=0.2, \n",
    "    random_state=3\n",
    "    )\n",
    "\n",
    "train_data[:3]"
   ]
  },
  {
   "cell_type": "markdown",
   "metadata": {},
   "source": [
    "### Create Naive Bayes Classifier"
   ]
  },
  {
   "cell_type": "code",
   "execution_count": 62,
   "metadata": {},
   "outputs": [],
   "source": [
    "# Instantiate vectoriser\n",
    "counter = CountVectorizer()\n",
    "# Train vectoriser\n",
    "counter.fit(train_data1)\n",
    "\n",
    "# Transform train data to vectors\n",
    "train_counts = counter.transform(train_data1)\n",
    "# Transform test data to vectors\n",
    "test_counts = counter.transform(test_data1)"
   ]
  },
  {
   "cell_type": "code",
   "execution_count": 63,
   "metadata": {},
   "outputs": [
    {
     "data": {
      "text/plain": [
       "MultinomialNB()"
      ]
     },
     "execution_count": 63,
     "metadata": {},
     "output_type": "execute_result"
    }
   ],
   "source": [
    "# Instantiate NB classifier\n",
    "classifier_mlnb = MultinomialNB()\n",
    "# Train NB classifier\n",
    "classifier_mlnb.fit(train_counts, train_labels1)"
   ]
  },
  {
   "cell_type": "markdown",
   "metadata": {},
   "source": [
    "### Evaluate Naive Bayes classifier and Compare Results\n"
   ]
  },
  {
   "cell_type": "code",
   "execution_count": 64,
   "metadata": {},
   "outputs": [
    {
     "name": "stdout",
     "output_type": "stream",
     "text": [
      "Accuracy: 74.0 %\n"
     ]
    }
   ],
   "source": [
    "# Get accuracy of NB classifier\n",
    "print('Accuracy:', classifier_mlnb.score(test_counts, test_labels).round(2) * 100, '%')"
   ]
  },
  {
   "cell_type": "markdown",
   "metadata": {},
   "source": [
    "Result: Naive Bayes classifier accuracy is better and reaches up to `74%`. But is it the same for all classes or as it's in the case of Linear Regression - superb only for Paris tweets? Let's compare results of 2 classifiers using confusion matrix. "
   ]
  },
  {
   "cell_type": "code",
   "execution_count": 91,
   "metadata": {},
   "outputs": [
    {
     "data": {
      "text/html": [
       "<div>\n",
       "<style scoped>\n",
       "    .dataframe tbody tr th:only-of-type {\n",
       "        vertical-align: middle;\n",
       "    }\n",
       "\n",
       "    .dataframe tbody tr th {\n",
       "        vertical-align: top;\n",
       "    }\n",
       "\n",
       "    .dataframe thead th {\n",
       "        text-align: right;\n",
       "    }\n",
       "</style>\n",
       "<table border=\"1\" class=\"dataframe\">\n",
       "  <thead>\n",
       "    <tr style=\"text-align: right;\">\n",
       "      <th></th>\n",
       "      <th>NY</th>\n",
       "      <th>Paris</th>\n",
       "      <th>London</th>\n",
       "    </tr>\n",
       "  </thead>\n",
       "  <tbody>\n",
       "    <tr>\n",
       "      <th>0</th>\n",
       "      <td>960</td>\n",
       "      <td>151</td>\n",
       "      <td>397</td>\n",
       "    </tr>\n",
       "    <tr>\n",
       "      <th>1</th>\n",
       "      <td>33</td>\n",
       "      <td>812</td>\n",
       "      <td>49</td>\n",
       "    </tr>\n",
       "    <tr>\n",
       "      <th>2</th>\n",
       "      <td>140</td>\n",
       "      <td>55</td>\n",
       "      <td>620</td>\n",
       "    </tr>\n",
       "  </tbody>\n",
       "</table>\n",
       "</div>"
      ],
      "text/plain": [
       "    NY  Paris  London\n",
       "0  960    151     397\n",
       "1   33    812      49\n",
       "2  140     55     620"
      ]
     },
     "execution_count": 91,
     "metadata": {},
     "output_type": "execute_result"
    }
   ],
   "source": [
    "# Naive Bayes classifier matrix\n",
    "preds1 = classifier_mlnb.predict(test_counts)\n",
    "\n",
    "pd.DataFrame(confusion_matrix(preds1, test_labels), columns = ['NY', 'Paris', 'London']) \n",
    "\n"
   ]
  },
  {
   "cell_type": "code",
   "execution_count": 92,
   "metadata": {},
   "outputs": [
    {
     "data": {
      "text/html": [
       "<div>\n",
       "<style scoped>\n",
       "    .dataframe tbody tr th:only-of-type {\n",
       "        vertical-align: middle;\n",
       "    }\n",
       "\n",
       "    .dataframe tbody tr th {\n",
       "        vertical-align: top;\n",
       "    }\n",
       "\n",
       "    .dataframe thead th {\n",
       "        text-align: right;\n",
       "    }\n",
       "</style>\n",
       "<table border=\"1\" class=\"dataframe\">\n",
       "  <thead>\n",
       "    <tr style=\"text-align: right;\">\n",
       "      <th></th>\n",
       "      <th>NY</th>\n",
       "      <th>Paris</th>\n",
       "      <th>London</th>\n",
       "    </tr>\n",
       "  </thead>\n",
       "  <tbody>\n",
       "    <tr>\n",
       "      <th>0</th>\n",
       "      <td>792</td>\n",
       "      <td>174</td>\n",
       "      <td>446</td>\n",
       "    </tr>\n",
       "    <tr>\n",
       "      <th>1</th>\n",
       "      <td>57</td>\n",
       "      <td>787</td>\n",
       "      <td>50</td>\n",
       "    </tr>\n",
       "    <tr>\n",
       "      <th>2</th>\n",
       "      <td>284</td>\n",
       "      <td>57</td>\n",
       "      <td>570</td>\n",
       "    </tr>\n",
       "  </tbody>\n",
       "</table>\n",
       "</div>"
      ],
      "text/plain": [
       "    NY  Paris  London\n",
       "0  792    174     446\n",
       "1   57    787      50\n",
       "2  284     57     570"
      ]
     },
     "execution_count": 92,
     "metadata": {},
     "output_type": "execute_result"
    }
   ],
   "source": [
    "# Logistic Regression classifier matrix\n",
    "pd.DataFrame(confusion_matrix(preds, test_labels), columns = ['NY', 'Paris', 'London']) \n"
   ]
  },
  {
   "cell_type": "markdown",
   "metadata": {},
   "source": [
    "Result: Multinomial NB Classifier with sparse matrix has beaten the results of Logistic Regression with dense matrix. Though the main diagonals of both matrixes display the largest numbers, which is good, the numer of false positives in NY tweets which are confused with London's and vice versa is very high: in range from `140` (false positives of London that belong to NY in NB classifier results) to `446` (false positives of NY that belong to London in LR classifier results). Paris is doing much better in both classifications with the ranges of false positives `33 to 49` for NB and `50 to 57` for LR. \n",
    "\n",
    "\n",
    "## Conclusion\n",
    "\n",
    "We have created K-Nearest Neighbour classifier to determine whether a random tweet will go viral or not. Although we have selected features that potentially could influence tweet's virality and intrinsic testing showed `73%` of accuracy. In practice though, there were too much false positives and algorithm predicted less than `50%` of real tweets correctly. One can think of many reasons for that, but the main one would probably be the absence of causal features (those that directly cause increase of virality) and the fact that we've seen a small feature correlations with virality speaks in favour of this hypothesis. This classifier could definitely benefit from adding likes_count column, but even this won't be a causal feature, merely a proxy for it. To understand what causes virality we should have dived deeper into the types of content that cause virality and find patterns there.\n",
    "\n",
    "We have created 2 classifiers, but used different technics of feature modelling to understand whether we can contribute to classifier's accuracy using more optimized vectorization method. Though we have even up data points within different classes the dominance of French language in Paris tweets remained the most significant criterion and dense matrix produced even lower accuracy than the simple sparse one. Consequentially one might consider using pretrained word embeddings to get better results from applying this technique, but using simple methods as NB classifier and Count Vectorizer might still get decent results without applying many efforts, making it a valuable strategy on its own. "
   ]
  }
 ],
 "metadata": {
  "kernelspec": {
   "display_name": "Python 3.10.5 64-bit (windows store)",
   "language": "python",
   "name": "python3"
  },
  "language_info": {
   "codemirror_mode": {
    "name": "ipython",
    "version": 3
   },
   "file_extension": ".py",
   "mimetype": "text/x-python",
   "name": "python",
   "nbconvert_exporter": "python",
   "pygments_lexer": "ipython3",
   "version": "3.10.6"
  },
  "orig_nbformat": 4,
  "vscode": {
   "interpreter": {
    "hash": "a166e61b3f1e7b9ccc9f59f78d7cc3087a9ccbb0b1a7cff444b301613a633a54"
   }
  }
 },
 "nbformat": 4,
 "nbformat_minor": 2
}
