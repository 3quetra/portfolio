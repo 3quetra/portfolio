{
 "cells": [
  {
   "attachments": {},
   "cell_type": "markdown",
   "metadata": {},
   "source": [
    "# Arrays and strings\n",
    "\n",
    "\"In terms of algorithm problems, arrays (1D) and strings are very similar: they both represent an ordered group of elements. Most algorithm problems will include either an array or string as part of the input, so it's important to be comfortable with the basic operations and to learn the most common patterns\". (leetcode.com)\n",
    "\n",
    "The goal of this project is to get comfortable with basic python operations that involve arrays and strings.\n",
    "\n",
    "## Two pointers\n",
    "\n",
    "Two-pointers is an extremely common technique used to solve array and string problems. It involves having two integer variables that both move along an iterable. \n",
    "\n",
    "### Problem 1\n",
    "\n",
    "Write a function that reverses a string. The input string is given as an array of characters `s`.\n",
    "\n",
    "You must do this by modifying the input array in-place with `O(1)` extra memory."
   ]
  },
  {
   "cell_type": "code",
   "execution_count": 99,
   "metadata": {},
   "outputs": [],
   "source": [
    "s = [\"h\",\"e\",\"l\",\"l\",\"o\"]"
   ]
  },
  {
   "attachments": {},
   "cell_type": "markdown",
   "metadata": {},
   "source": [
    "#### Solution"
   ]
  },
  {
   "cell_type": "code",
   "execution_count": 100,
   "metadata": {},
   "outputs": [],
   "source": [
    "def reverse_input_string(s):\n",
    "    left, right = 0, len(s) - 1\n",
    "\n",
    "    while left < right:\n",
    "        s[left], s[right] = s[right], s[left]\n",
    "        left, right = left + 1, right - 1"
   ]
  },
  {
   "attachments": {},
   "cell_type": "markdown",
   "metadata": {},
   "source": [
    "#### Test cases:"
   ]
  },
  {
   "cell_type": "code",
   "execution_count": 103,
   "metadata": {},
   "outputs": [
    {
     "name": "stdout",
     "output_type": "stream",
     "text": [
      "['o', 'l', 'l', 'e', 'h']\n"
     ]
    }
   ],
   "source": [
    "# Odd number of letters\n",
    "reverse_input_string(s)\n",
    "print(s)"
   ]
  },
  {
   "cell_type": "code",
   "execution_count": 104,
   "metadata": {},
   "outputs": [
    {
     "name": "stdout",
     "output_type": "stream",
     "text": [
      "['k', 'c', 'o', 'r']\n"
     ]
    }
   ],
   "source": [
    "# Even number of letters\n",
    "s1 = ['r', 'o', 'c', 'k']\n",
    "reverse_input_string(s1)\n",
    "print(s1)"
   ]
  },
  {
   "attachments": {},
   "cell_type": "markdown",
   "metadata": {},
   "source": [
    "Computational complexity: `O(n)`"
   ]
  },
  {
   "attachments": {},
   "cell_type": "markdown",
   "metadata": {},
   "source": [
    "### Problem 2\n",
    "\n",
    "Given an integer array `ints` sorted in non-decreasing order, return an array of the squares of each number sorted in non-decreasing order."
   ]
  },
  {
   "cell_type": "code",
   "execution_count": 5,
   "metadata": {},
   "outputs": [],
   "source": [
    "ints = [-4,-1,0,3,10]"
   ]
  },
  {
   "attachments": {},
   "cell_type": "markdown",
   "metadata": {},
   "source": [
    "#### Solution"
   ]
  },
  {
   "cell_type": "code",
   "execution_count": 6,
   "metadata": {},
   "outputs": [],
   "source": [
    "def sorted_squares(ints):\n",
    "    n = len(ints)\n",
    "    left, right = 0, n - 1\n",
    "    ans = [0] * n\n",
    "\n",
    "    for i in range(n - 1, -1, -1):\n",
    "        if abs(ints[left]) < abs(ints[right]):\n",
    "            square = ints[right]\n",
    "            right -= 1\n",
    "        \n",
    "        else: \n",
    "            square = ints[left]\n",
    "            left += 1\n",
    "    \n",
    "        ans[i] += square * square\n",
    "\n",
    "    return ans"
   ]
  },
  {
   "attachments": {},
   "cell_type": "markdown",
   "metadata": {},
   "source": [
    "#### Test cases:"
   ]
  },
  {
   "cell_type": "code",
   "execution_count": 7,
   "metadata": {},
   "outputs": [
    {
     "data": {
      "text/plain": [
       "[0, 1, 9, 16, 100]"
      ]
     },
     "execution_count": 7,
     "metadata": {},
     "output_type": "execute_result"
    }
   ],
   "source": [
    "sorted_squares(ints)"
   ]
  },
  {
   "attachments": {},
   "cell_type": "markdown",
   "metadata": {},
   "source": [
    "Computational complexity: `O(n)`"
   ]
  },
  {
   "attachments": {},
   "cell_type": "markdown",
   "metadata": {},
   "source": [
    "### Problem 3\n",
    "\n",
    "Given a string `s`, return `true` if it is a palindrome, `false` otherwise.\n",
    "\n",
    "A string is a palindrome if it reads the same forward as backward. That means, after reversing it, it is still the same string. For example: \"abcdcba\", or \"racecar\"."
   ]
  },
  {
   "cell_type": "code",
   "execution_count": 74,
   "metadata": {},
   "outputs": [],
   "source": [
    "s1 = 'foxtrot'\n",
    "s2 = 'racecar'\n",
    "s3 = 'moloolom'\n",
    "s4 = 'rock'"
   ]
  },
  {
   "attachments": {},
   "cell_type": "markdown",
   "metadata": {},
   "source": [
    "#### Solution"
   ]
  },
  {
   "cell_type": "code",
   "execution_count": 79,
   "metadata": {},
   "outputs": [],
   "source": [
    "def palindrome_check(s):\n",
    "    left, right = 0, len(s) - 1\n",
    "\n",
    "    while left < right:\n",
    "        if s[left] != s[right]:\n",
    "            return False\n",
    "        left, right = left + 1, right - 1\n",
    "    return True"
   ]
  },
  {
   "attachments": {},
   "cell_type": "markdown",
   "metadata": {},
   "source": [
    "#### Test cases:"
   ]
  },
  {
   "cell_type": "code",
   "execution_count": 80,
   "metadata": {},
   "outputs": [
    {
     "data": {
      "text/plain": [
       "False"
      ]
     },
     "execution_count": 80,
     "metadata": {},
     "output_type": "execute_result"
    }
   ],
   "source": [
    "# Odd number of letters, not palindrome\n",
    "palindrome_check(s1)"
   ]
  },
  {
   "cell_type": "code",
   "execution_count": 81,
   "metadata": {},
   "outputs": [
    {
     "data": {
      "text/plain": [
       "True"
      ]
     },
     "execution_count": 81,
     "metadata": {},
     "output_type": "execute_result"
    }
   ],
   "source": [
    "# Odd number of letters, palindrome\n",
    "palindrome_check(s2)"
   ]
  },
  {
   "cell_type": "code",
   "execution_count": 82,
   "metadata": {},
   "outputs": [
    {
     "data": {
      "text/plain": [
       "True"
      ]
     },
     "execution_count": 82,
     "metadata": {},
     "output_type": "execute_result"
    }
   ],
   "source": [
    "# Even number of letters, palindrome\n",
    "palindrome_check(s3)"
   ]
  },
  {
   "cell_type": "code",
   "execution_count": 83,
   "metadata": {},
   "outputs": [
    {
     "data": {
      "text/plain": [
       "False"
      ]
     },
     "execution_count": 83,
     "metadata": {},
     "output_type": "execute_result"
    }
   ],
   "source": [
    "# Even number of letters, not palindrome\n",
    "palindrome_check(s4)"
   ]
  },
  {
   "attachments": {},
   "cell_type": "markdown",
   "metadata": {},
   "source": [
    "Computational complexity: `O(n)`"
   ]
  },
  {
   "attachments": {},
   "cell_type": "markdown",
   "metadata": {},
   "source": [
    "### Problem 4\n",
    "\n",
    "Given a sorted array of unique integers and a `target` integer, return `true` if there exists a pair of numbers that sum to `target`, `false` otherwise."
   ]
  },
  {
   "cell_type": "code",
   "execution_count": 139,
   "metadata": {},
   "outputs": [],
   "source": [
    "arr = [1, 2, 4, 6, 8, 9, 14, 15] \n",
    "target = 13"
   ]
  },
  {
   "cell_type": "code",
   "execution_count": 146,
   "metadata": {},
   "outputs": [],
   "source": [
    "def compare_to_target(arr, target):\n",
    "    left, right = 0, len(arr) - 1\n",
    "\n",
    "    while left < right:\n",
    "        curr = arr[left] + arr[right]\n",
    "        if curr == target:\n",
    "            return True\n",
    "        elif curr > target:\n",
    "            right -= 1\n",
    "        else:\n",
    "            left += 1\n",
    "\n",
    "    return False\n",
    "\n"
   ]
  },
  {
   "attachments": {},
   "cell_type": "markdown",
   "metadata": {},
   "source": [
    "#### Test cases:"
   ]
  },
  {
   "cell_type": "code",
   "execution_count": 147,
   "metadata": {},
   "outputs": [
    {
     "data": {
      "text/plain": [
       "True"
      ]
     },
     "execution_count": 147,
     "metadata": {},
     "output_type": "execute_result"
    }
   ],
   "source": [
    "# There is a sum which equals to target\n",
    "compare_to_target(arr, target)"
   ]
  },
  {
   "cell_type": "code",
   "execution_count": 150,
   "metadata": {},
   "outputs": [
    {
     "data": {
      "text/plain": [
       "False"
      ]
     },
     "execution_count": 150,
     "metadata": {},
     "output_type": "execute_result"
    }
   ],
   "source": [
    "# There is no sum which equals to target\n",
    "compare_to_target(\n",
    "    [3, 5, 6, 7, 9, 11, 13], \n",
    "    55\n",
    "    )"
   ]
  },
  {
   "attachments": {},
   "cell_type": "markdown",
   "metadata": {},
   "source": [
    "Computational complexity: `O(n)`"
   ]
  },
  {
   "attachments": {},
   "cell_type": "markdown",
   "metadata": {},
   "source": [
    "### Problem 5\n",
    "\n",
    "Given two sorted integer arrays `arr1` and `arr2`, return a new array that combines both of them and is also sorted."
   ]
  },
  {
   "cell_type": "code",
   "execution_count": 186,
   "metadata": {},
   "outputs": [],
   "source": [
    "arr1 = [0, 0, 2, 5, 6, 8]\n",
    "arr2 = [3, 6, 10]"
   ]
  },
  {
   "attachments": {},
   "cell_type": "markdown",
   "metadata": {},
   "source": [
    "#### Solution"
   ]
  },
  {
   "cell_type": "code",
   "execution_count": 189,
   "metadata": {},
   "outputs": [],
   "source": [
    "def combine_arrs(arr1, arr2):\n",
    "    i = j = 0 \n",
    "    ans = []\n",
    "\n",
    "    while i < len(arr1) and j < len(arr2):\n",
    "        if arr1[i] < arr2[j]:\n",
    "            ans.append(arr1[i])\n",
    "            i += 1\n",
    "        else:\n",
    "            ans.append(arr2[j])\n",
    "            j += 1\n",
    "\n",
    "    while i < len(arr1):\n",
    "            ans.append(arr1[i])\n",
    "            i += 1\n",
    "\n",
    "    while j < len(arr2):\n",
    "            ans.append(arr2[j])\n",
    "            j += 1\n",
    "    return ans"
   ]
  },
  {
   "attachments": {},
   "cell_type": "markdown",
   "metadata": {},
   "source": [
    "#### Test case:"
   ]
  },
  {
   "cell_type": "code",
   "execution_count": 190,
   "metadata": {},
   "outputs": [
    {
     "data": {
      "text/plain": [
       "[0, 0, 2, 3, 5, 6, 6, 8, 10]"
      ]
     },
     "execution_count": 190,
     "metadata": {},
     "output_type": "execute_result"
    }
   ],
   "source": [
    "combine_arrs(arr1, arr2)"
   ]
  },
  {
   "attachments": {},
   "cell_type": "markdown",
   "metadata": {},
   "source": [
    "### Problem 6\n",
    "\n",
    "Given two strings `st1` and `st2`, return `true` if `st1` is a subsequence of `st2`, or `false` otherwise.\n",
    "\n",
    "A subsequence of a string is a sequence of characters that can be obtained by deleting some (or none) of the characters from the original string, while maintaining the relative order of the remaining characters. For example, \"ace\" is a subsequence of \"abcde\" while \"aec\" is not."
   ]
  },
  {
   "cell_type": "code",
   "execution_count": 35,
   "metadata": {},
   "outputs": [],
   "source": [
    "st1 = 'ace'\n",
    "st2 = 'afgchse'"
   ]
  },
  {
   "attachments": {},
   "cell_type": "markdown",
   "metadata": {},
   "source": [
    "#### Solution"
   ]
  },
  {
   "cell_type": "code",
   "execution_count": 36,
   "metadata": {},
   "outputs": [],
   "source": [
    "def subseq_check(st1, st2):\n",
    "    i = j = 0\n",
    "\n",
    "    while i < len(st1) and j < len(st2):\n",
    "        if st1[i] == st2[j]:\n",
    "            i += 1\n",
    "        else:\n",
    "            j += 1\n",
    "\n",
    "    return i == len(st1)"
   ]
  },
  {
   "attachments": {},
   "cell_type": "markdown",
   "metadata": {},
   "source": [
    "#### Test cases:"
   ]
  },
  {
   "cell_type": "code",
   "execution_count": 37,
   "metadata": {},
   "outputs": [
    {
     "data": {
      "text/plain": [
       "True"
      ]
     },
     "execution_count": 37,
     "metadata": {},
     "output_type": "execute_result"
    }
   ],
   "source": [
    "# Is a subsequence\n",
    "subseq_check(st1, st2)"
   ]
  },
  {
   "cell_type": "code",
   "execution_count": 33,
   "metadata": {},
   "outputs": [
    {
     "data": {
      "text/plain": [
       "False"
      ]
     },
     "execution_count": 33,
     "metadata": {},
     "output_type": "execute_result"
    }
   ],
   "source": [
    "# Is not a subsequence\n",
    "subseq_check('kr', 'afgchse')"
   ]
  },
  {
   "attachments": {},
   "cell_type": "markdown",
   "metadata": {},
   "source": [
    "Computational complexity: `O(n)`"
   ]
  },
  {
   "attachments": {},
   "cell_type": "markdown",
   "metadata": {},
   "source": [
    "### Problem 7\n",
    "\n",
    "Given a string `s`, reverse the order of characters in each word within a sentence while still preserving whitespace and initial word order.\n",
    "\n",
    "Constraints:\n",
    "\n",
    "- `1 <= s.length <= 5 * 104`\n",
    "- `s` contains printable ASCII characters.\n",
    "- `s` does not contain any leading or trailing spaces.\n",
    "- There is at least one word in `s`.\n",
    "- All the words in `s` are separated by a single space.\n"
   ]
  },
  {
   "cell_type": "code",
   "execution_count": 63,
   "metadata": {},
   "outputs": [],
   "source": [
    "st4 = \"Good Dog\"\n",
    "st5 = \"How's life?\""
   ]
  },
  {
   "attachments": {},
   "cell_type": "markdown",
   "metadata": {},
   "source": [
    "#### Solution 1 (Two Pointers)"
   ]
  },
  {
   "cell_type": "code",
   "execution_count": 66,
   "metadata": {},
   "outputs": [],
   "source": [
    "def reverse_words(s):\n",
    "    # Convert string to list, to be able to swap letters' order\n",
    "    s = list(s) + [' '] \n",
    "    left = 0\n",
    "\n",
    "    for i in range(len(s)):\n",
    "        if s[i] == ' ':\n",
    "            right = i - 1\n",
    "            while left < right:\n",
    "                s[left], s[right] = s[right], s[left]\n",
    "                left, right = left + 1, right - 1\n",
    "            left = i + 1\n",
    "            \n",
    "    return ''.join(s[:-1]) # Convert list back to string"
   ]
  },
  {
   "attachments": {},
   "cell_type": "markdown",
   "metadata": {},
   "source": [
    "### Test case:"
   ]
  },
  {
   "cell_type": "code",
   "execution_count": 75,
   "metadata": {},
   "outputs": [
    {
     "data": {
      "text/plain": [
       "'dooG goD'"
      ]
     },
     "execution_count": 75,
     "metadata": {},
     "output_type": "execute_result"
    }
   ],
   "source": [
    "reverse_words(st4)"
   ]
  },
  {
   "attachments": {},
   "cell_type": "markdown",
   "metadata": {},
   "source": [
    "Computational complexity:\n",
    "- time `O(n)`\n",
    "- space `O(n)`"
   ]
  },
  {
   "attachments": {},
   "cell_type": "markdown",
   "metadata": {},
   "source": [
    "#### Solution 2 (Pythonic)"
   ]
  },
  {
   "cell_type": "code",
   "execution_count": 71,
   "metadata": {},
   "outputs": [],
   "source": [
    "def reverse_words_pythonic(s):\n",
    "    return ' '.join([w[::-1] for w in s.split(' ')])"
   ]
  },
  {
   "attachments": {},
   "cell_type": "markdown",
   "metadata": {},
   "source": [
    "### Test case:"
   ]
  },
  {
   "cell_type": "code",
   "execution_count": 74,
   "metadata": {},
   "outputs": [
    {
     "data": {
      "text/plain": [
       "\"s'woH ?efil\""
      ]
     },
     "execution_count": 74,
     "metadata": {},
     "output_type": "execute_result"
    }
   ],
   "source": [
    "reverse_words_pythonic(st5)"
   ]
  },
  {
   "attachments": {},
   "cell_type": "markdown",
   "metadata": {},
   "source": [
    "Computational complexity:\n",
    "- time `O(n)`\n",
    "- space `O(n)`"
   ]
  },
  {
   "attachments": {},
   "cell_type": "markdown",
   "metadata": {},
   "source": [
    "### Problem 8\n",
    "\n",
    "Given a string `s`, reverse the string according to the following rules:\n",
    "\n",
    "- All the characters that are not English letters remain in the same position.\n",
    "- All the English letters (lowercase or uppercase) should be reversed.\n",
    "\n",
    "Return `s` after reversing it.\n",
    "\n",
    "Constraints:\n",
    "\n",
    "- `1 <= s.length <= 100`\n",
    "- `s` consists of characters with ASCII values in the range `[33, 122]`.\n",
    "- `s` does not contain `'\\\"'` or `'\\\\'`.\n"
   ]
  },
  {
   "cell_type": "code",
   "execution_count": 88,
   "metadata": {},
   "outputs": [],
   "source": [
    "st6 = 'be-in!'"
   ]
  },
  {
   "attachments": {},
   "cell_type": "markdown",
   "metadata": {},
   "source": [
    "#### Solution"
   ]
  },
  {
   "cell_type": "code",
   "execution_count": 93,
   "metadata": {},
   "outputs": [],
   "source": [
    "def reverse_letters(s):\n",
    "    ans = []\n",
    "    j = -1\n",
    "\n",
    "    for i in range(len(s)):\n",
    "        if s[i].isalpha():\n",
    "            while not s[j].isalpha():\n",
    "                j -= 1\n",
    "            ans.append(s[j])\n",
    "            j -= 1\n",
    "        else:\n",
    "            ans.append(s[i])\n",
    "            \n",
    "    return ''.join(ans)\n"
   ]
  },
  {
   "attachments": {},
   "cell_type": "markdown",
   "metadata": {},
   "source": [
    "### Test cases:"
   ]
  },
  {
   "cell_type": "code",
   "execution_count": 94,
   "metadata": {},
   "outputs": [
    {
     "data": {
      "text/plain": [
       "'ni-eb!'"
      ]
     },
     "execution_count": 94,
     "metadata": {},
     "output_type": "execute_result"
    }
   ],
   "source": [
    "reverse_letters(st6)"
   ]
  },
  {
   "cell_type": "code",
   "execution_count": 98,
   "metadata": {},
   "outputs": [
    {
     "data": {
      "text/plain": [
       "'_t?s6'"
      ]
     },
     "execution_count": 98,
     "metadata": {},
     "output_type": "execute_result"
    }
   ],
   "source": [
    "reverse_letters('_s?t6')"
   ]
  },
  {
   "attachments": {},
   "cell_type": "markdown",
   "metadata": {},
   "source": [
    "Computational complexity:\n",
    "- time `O(n)`\n",
    "- space `O(n)`"
   ]
  },
  {
   "attachments": {},
   "cell_type": "markdown",
   "metadata": {},
   "source": [
    "### Problem 9\n",
    "\n",
    "Given an integer array `arr`, move all `0'`s to the end of it while maintaining the relative order of the non-zero elements.\n",
    "\n",
    "Note that you must do this in-place without making a copy of the array."
   ]
  },
  {
   "cell_type": "code",
   "execution_count": 4,
   "metadata": {},
   "outputs": [],
   "source": [
    "arr1 = [0,1,0,3,12]"
   ]
  },
  {
   "attachments": {},
   "cell_type": "markdown",
   "metadata": {},
   "source": [
    "#### Solution"
   ]
  },
  {
   "cell_type": "code",
   "execution_count": 5,
   "metadata": {},
   "outputs": [],
   "source": [
    "def move_zeros(arr):\n",
    "    last = 0\n",
    "\n",
    "    for curr in range(len(arr)):\n",
    "        if arr[curr] != 0:\n",
    "            arr[curr], arr[last] = arr[last], arr[curr]\n",
    "            last += 1\n",
    "            "
   ]
  },
  {
   "attachments": {},
   "cell_type": "markdown",
   "metadata": {},
   "source": [
    "### Test case:"
   ]
  },
  {
   "cell_type": "code",
   "execution_count": 6,
   "metadata": {},
   "outputs": [
    {
     "name": "stdout",
     "output_type": "stream",
     "text": [
      "[1, 3, 12, 0, 0]\n"
     ]
    }
   ],
   "source": [
    "move_zeros(arr1)\n",
    "print(arr1)"
   ]
  },
  {
   "attachments": {},
   "cell_type": "markdown",
   "metadata": {},
   "source": [
    "Computational complexity:\n",
    "- time `O(n)` - gives us a good best-case, when most of the elements are 0. \n",
    "- space `O(1)` "
   ]
  },
  {
   "attachments": {},
   "cell_type": "markdown",
   "metadata": {},
   "source": [
    "### Problem 10\n",
    "\n",
    "Given a `0`-indexed string `word` and a character `ch`, reverse the segment of `word` that starts at index `0` and ends at the index of the first occurrence of `ch` (inclusive). If the character `ch` does not exist in word, do nothing.\n",
    "\n",
    "For example, if `word = \"abcdefd\"` and `ch = \"d\"`, then you should reverse the segment that starts at 0 and ends at 3 (inclusive). The resulting string will be `\"dcbaefd\"`.\n",
    "\n",
    "Return the resulting string.\n",
    "\n",
    "Constraints:\n",
    "\n",
    "- `1 <= word.length <= 250`\n",
    "- `word` consists of lowercase English letters.\n",
    "- `ch` is a lowercase English letter.\n"
   ]
  },
  {
   "cell_type": "code",
   "execution_count": 13,
   "metadata": {},
   "outputs": [],
   "source": [
    "word = 'emosword'\n",
    "ch = 's'"
   ]
  },
  {
   "attachments": {},
   "cell_type": "markdown",
   "metadata": {},
   "source": [
    "#### Solution 1 (Two Pointers)"
   ]
  },
  {
   "cell_type": "code",
   "execution_count": 14,
   "metadata": {},
   "outputs": [],
   "source": [
    "def reverse_prefix(word, ch):\n",
    "    if not ch in word:\n",
    "        return ''.join(word)\n",
    "    j = 0\n",
    "    word = list(word)\n",
    "\n",
    "    for i in range(len(word)):\n",
    "        if word[i] == ch:\n",
    "            while j < i:\n",
    "                word[j], word[i] = word[i], word[j]\n",
    "                j, i = j + 1, i - 1\n",
    "            return ''.join(word)"
   ]
  },
  {
   "attachments": {},
   "cell_type": "markdown",
   "metadata": {},
   "source": [
    "Computational complexity:\n",
    "- time `O(n)`\n",
    "- space `O(n)`"
   ]
  },
  {
   "attachments": {},
   "cell_type": "markdown",
   "metadata": {},
   "source": [
    "#### Solution 2 (Slices, Pythonic)"
   ]
  },
  {
   "cell_type": "code",
   "execution_count": 16,
   "metadata": {},
   "outputs": [],
   "source": [
    "def reverse_prefix_2(word, ch):\n",
    "    return word[:word.index(ch) + 1][::-1] + word[word.index(ch) + 1:] if ch in word else word"
   ]
  },
  {
   "attachments": {},
   "cell_type": "markdown",
   "metadata": {},
   "source": [
    "#### Solution 3 (str.find(), Pythonic)"
   ]
  },
  {
   "cell_type": "code",
   "execution_count": 18,
   "metadata": {},
   "outputs": [],
   "source": [
    "def reverse_prefix_3(word, ch):\n",
    "    return word[:word.find(ch) + 1][::-1] + word[word.find(ch) + 1:]"
   ]
  },
  {
   "attachments": {},
   "cell_type": "markdown",
   "metadata": {},
   "source": [
    "### Test cases:"
   ]
  },
  {
   "cell_type": "code",
   "execution_count": 15,
   "metadata": {},
   "outputs": [
    {
     "data": {
      "text/plain": [
       "'someword'"
      ]
     },
     "execution_count": 15,
     "metadata": {},
     "output_type": "execute_result"
    }
   ],
   "source": [
    "reverse_prefix(word, ch)"
   ]
  },
  {
   "cell_type": "code",
   "execution_count": 17,
   "metadata": {},
   "outputs": [
    {
     "data": {
      "text/plain": [
       "'someword'"
      ]
     },
     "execution_count": 17,
     "metadata": {},
     "output_type": "execute_result"
    }
   ],
   "source": [
    "reverse_prefix_2(word, ch)"
   ]
  },
  {
   "cell_type": "code",
   "execution_count": 19,
   "metadata": {},
   "outputs": [
    {
     "data": {
      "text/plain": [
       "'someword'"
      ]
     },
     "execution_count": 19,
     "metadata": {},
     "output_type": "execute_result"
    }
   ],
   "source": [
    "reverse_prefix_3(word, ch)"
   ]
  },
  {
   "attachments": {},
   "cell_type": "markdown",
   "metadata": {},
   "source": [
    "## Sliding window\n",
    "\n",
    "Sliding window is a common approach to solving problems related to arrays.\n",
    "\n",
    "### Problem 1\n",
    "\n",
    "Given an array of positive integers `nums` and an integer `k`, \n",
    "find the length of the longest subarray whose sum is less than or equal to `k`."
   ]
  },
  {
   "cell_type": "code",
   "execution_count": 85,
   "metadata": {},
   "outputs": [],
   "source": [
    "nums = [2,6,2,7,4,8]\n",
    "k = 12"
   ]
  },
  {
   "attachments": {},
   "cell_type": "markdown",
   "metadata": {},
   "source": [
    "#### Solution"
   ]
  },
  {
   "cell_type": "code",
   "execution_count": 86,
   "metadata": {},
   "outputs": [],
   "source": [
    "def find_lengest_sub1(nums, k):\n",
    "    ans = left = curr = 0\n",
    "\n",
    "    for right in range(len(nums)): # go through the indexes of the nums list where each index is considered a right bound\n",
    "        curr += nums[right]\n",
    "            \n",
    "        while curr > k: # while the sum of the current window is greater than k - shift window to the left and update the sum\n",
    "            curr -= nums[left]\n",
    "            left +=1\n",
    "        \n",
    "        ans = max(ans, right - left + 1) # find the max length of the window\n",
    "        \n",
    "    return ans"
   ]
  },
  {
   "attachments": {},
   "cell_type": "markdown",
   "metadata": {},
   "source": [
    "#### Test cases:"
   ]
  },
  {
   "cell_type": "code",
   "execution_count": 87,
   "metadata": {},
   "outputs": [
    {
     "data": {
      "text/plain": [
       "3"
      ]
     },
     "execution_count": 87,
     "metadata": {},
     "output_type": "execute_result"
    }
   ],
   "source": [
    "# When sum of at least several numbers gives sum of less than or equals to k\n",
    "find_lengest_sub1(\n",
    "    nums,\n",
    "    k\n",
    ")"
   ]
  },
  {
   "cell_type": "code",
   "execution_count": 88,
   "metadata": {},
   "outputs": [
    {
     "data": {
      "text/plain": [
       "5"
      ]
     },
     "execution_count": 88,
     "metadata": {},
     "output_type": "execute_result"
    }
   ],
   "source": [
    "# When sum of all numbers is less than k\n",
    "find_lengest_sub1(\n",
    "    [2,1,2,2,0,1],\n",
    "    7\n",
    ")"
   ]
  },
  {
   "cell_type": "code",
   "execution_count": 89,
   "metadata": {},
   "outputs": [
    {
     "data": {
      "text/plain": [
       "1"
      ]
     },
     "execution_count": 89,
     "metadata": {},
     "output_type": "execute_result"
    }
   ],
   "source": [
    "# When the sum of even 2 numbers excedes k\n",
    "find_lengest_sub1(\n",
    "    [21,3,11,34,81,78],\n",
    "    11\n",
    ")"
   ]
  },
  {
   "cell_type": "code",
   "execution_count": 90,
   "metadata": {},
   "outputs": [
    {
     "data": {
      "text/plain": [
       "1"
      ]
     },
     "execution_count": 90,
     "metadata": {},
     "output_type": "execute_result"
    }
   ],
   "source": [
    "# When there is 1 number in the list that is equal to k\n",
    "find_lengest_sub1(\n",
    "    [21,55,12,34,81,78],\n",
    "    12\n",
    ")"
   ]
  },
  {
   "cell_type": "code",
   "execution_count": 91,
   "metadata": {},
   "outputs": [
    {
     "data": {
      "text/plain": [
       "0"
      ]
     },
     "execution_count": 91,
     "metadata": {},
     "output_type": "execute_result"
    }
   ],
   "source": [
    "# When every number in the list is greater than k\n",
    "find_lengest_sub1(\n",
    "    [21,55,66,34,81,78],\n",
    "    15\n",
    ")"
   ]
  },
  {
   "attachments": {},
   "cell_type": "markdown",
   "metadata": {},
   "source": [
    "Computational complexity: `O(n)`"
   ]
  },
  {
   "attachments": {},
   "cell_type": "markdown",
   "metadata": {},
   "source": [
    "### Problem 2\n",
    "\n",
    "You are given a binary substring `s` (a string containing only `0` and `1`). You may choose up to one `0` and flip it to a `1`. What is the length of the longest substring achievable that contains only `1`?"
   ]
  },
  {
   "cell_type": "code",
   "execution_count": 92,
   "metadata": {},
   "outputs": [],
   "source": [
    "s = ['1','1', '1', '0', '1', '1', '0', '0']"
   ]
  },
  {
   "attachments": {},
   "cell_type": "markdown",
   "metadata": {},
   "source": [
    "#### Solution"
   ]
  },
  {
   "cell_type": "code",
   "execution_count": 93,
   "metadata": {},
   "outputs": [],
   "source": [
    "def find_length_sub2(s):\n",
    "    ans = left = curr = 0\n",
    "\n",
    "    for right in range(len(s)):        \n",
    "        if s[right] == '0':\n",
    "            curr += 1\n",
    "\n",
    "            while curr > 1:\n",
    "                if s[left] == '0':\n",
    "                    curr -= 1\n",
    "                left += 1 \n",
    "\n",
    "        ans = max(ans, right - left + 1)\n",
    "\n",
    "    return ans"
   ]
  },
  {
   "attachments": {},
   "cell_type": "markdown",
   "metadata": {},
   "source": [
    "#### Test cases:"
   ]
  },
  {
   "cell_type": "code",
   "execution_count": 94,
   "metadata": {},
   "outputs": [
    {
     "data": {
      "text/plain": [
       "6"
      ]
     },
     "execution_count": 94,
     "metadata": {},
     "output_type": "execute_result"
    }
   ],
   "source": [
    "# There are several 1 in a row from the beginning of the list of strings\n",
    "find_length_sub2(s)"
   ]
  },
  {
   "cell_type": "code",
   "execution_count": 95,
   "metadata": {},
   "outputs": [
    {
     "data": {
      "text/plain": [
       "1"
      ]
     },
     "execution_count": 95,
     "metadata": {},
     "output_type": "execute_result"
    }
   ],
   "source": [
    "# There is only one number - '0'\n",
    "find_length_sub2(['0'])"
   ]
  },
  {
   "cell_type": "code",
   "execution_count": 96,
   "metadata": {},
   "outputs": [
    {
     "data": {
      "text/plain": [
       "1"
      ]
     },
     "execution_count": 96,
     "metadata": {},
     "output_type": "execute_result"
    }
   ],
   "source": [
    "# There is only one number - '1'\n",
    "find_length_sub2(['1'])"
   ]
  },
  {
   "cell_type": "code",
   "execution_count": 97,
   "metadata": {},
   "outputs": [
    {
     "data": {
      "text/plain": [
       "1"
      ]
     },
     "execution_count": 97,
     "metadata": {},
     "output_type": "execute_result"
    }
   ],
   "source": [
    "# There are no '1's\n",
    "find_length_sub2(['0', '0', '0'])"
   ]
  },
  {
   "cell_type": "code",
   "execution_count": 98,
   "metadata": {},
   "outputs": [
    {
     "data": {
      "text/plain": [
       "2"
      ]
     },
     "execution_count": 98,
     "metadata": {},
     "output_type": "execute_result"
    }
   ],
   "source": [
    "# There is one '1'\n",
    "find_length_sub2(['0', '0', '1'])"
   ]
  },
  {
   "attachments": {},
   "cell_type": "markdown",
   "metadata": {},
   "source": [
    "Computational complexity: `O(n)`"
   ]
  },
  {
   "attachments": {},
   "cell_type": "markdown",
   "metadata": {},
   "source": [
    "### Problem 3 \n",
    "\n",
    "Given an array of positive integers `nums2` and an integer `f`, return the number of subarrays where the product of all the elements in the subarray is strictly less than `f`."
   ]
  },
  {
   "cell_type": "code",
   "execution_count": 99,
   "metadata": {},
   "outputs": [],
   "source": [
    "nums2 = [10, 5, 2, 6] \n",
    "f = 100"
   ]
  },
  {
   "attachments": {},
   "cell_type": "markdown",
   "metadata": {},
   "source": [
    "#### Solution"
   ]
  },
  {
   "cell_type": "code",
   "execution_count": 100,
   "metadata": {},
   "outputs": [],
   "source": [
    "def find_num_of_subs(nums, f):\n",
    "    if f < 1:\n",
    "        return 0\n",
    "    \n",
    "    ans = left = 0\n",
    "    curr = 1\n",
    "    \n",
    "    for right in range(len(nums)):\n",
    "        curr *= nums[right]\n",
    "\n",
    "        while curr >= f:\n",
    "            curr //= nums[left]\n",
    "            left += 1\n",
    "\n",
    "        ans += right - left + 1\n",
    "\n",
    "    return ans"
   ]
  },
  {
   "attachments": {},
   "cell_type": "markdown",
   "metadata": {},
   "source": [
    "#### Test cases:"
   ]
  },
  {
   "cell_type": "code",
   "execution_count": 101,
   "metadata": {},
   "outputs": [
    {
     "data": {
      "text/plain": [
       "8"
      ]
     },
     "execution_count": 101,
     "metadata": {},
     "output_type": "execute_result"
    }
   ],
   "source": [
    "# When there are given just random numbers and random f\n",
    "find_num_of_subs(nums2, f)"
   ]
  },
  {
   "cell_type": "code",
   "execution_count": 102,
   "metadata": {},
   "outputs": [
    {
     "data": {
      "text/plain": [
       "46"
      ]
     },
     "execution_count": 102,
     "metadata": {},
     "output_type": "execute_result"
    }
   ],
   "source": [
    "# When there is a 0 in the list and f is equal to the product of numbers before 0 \n",
    "find_num_of_subs(\n",
    "    [45, 2, 0, 5, 6, 22, 3, 45, 87, 23],\n",
    "    90\n",
    ")"
   ]
  },
  {
   "cell_type": "code",
   "execution_count": 103,
   "metadata": {},
   "outputs": [
    {
     "data": {
      "text/plain": [
       "55"
      ]
     },
     "execution_count": 103,
     "metadata": {},
     "output_type": "execute_result"
    }
   ],
   "source": [
    "# When there is a 0 in the list and f is above the product of numbers before 0 \n",
    "find_num_of_subs(\n",
    "    [45, 2, 0, 5, 6, 22, 3, 45, 87, 23],\n",
    "    91\n",
    ")"
   ]
  },
  {
   "attachments": {},
   "cell_type": "markdown",
   "metadata": {},
   "source": [
    "Computational complexity: `O(n)`"
   ]
  },
  {
   "attachments": {},
   "cell_type": "markdown",
   "metadata": {},
   "source": [
    "### Problem 4\n",
    "\n",
    "Given an integer array `nums3` and an integer `d`, find the sum of the subarray with the largest sum whose length is `d`."
   ]
  },
  {
   "cell_type": "code",
   "execution_count": 104,
   "metadata": {},
   "outputs": [],
   "source": [
    "nums3 = [5, 2, -2, 5, -2, 4, 3] \n",
    "d = 2"
   ]
  },
  {
   "attachments": {},
   "cell_type": "markdown",
   "metadata": {},
   "source": [
    "#### Solution"
   ]
  },
  {
   "cell_type": "code",
   "execution_count": 105,
   "metadata": {},
   "outputs": [],
   "source": [
    "def largest_sum(nums3, d):\n",
    "    curr = ans = 0\n",
    "\n",
    "    for i in range(d): \n",
    "        curr += nums3[i]\n",
    "\n",
    "    ans = curr\n",
    "\n",
    "    for j in range(d, len(nums3)):\n",
    "        curr += nums3[j] - nums3[j - d]\n",
    "\n",
    "        ans = max(ans, curr)\n",
    "\n",
    "    return ans"
   ]
  },
  {
   "attachments": {},
   "cell_type": "markdown",
   "metadata": {},
   "source": [
    "#### Test cases:"
   ]
  },
  {
   "cell_type": "code",
   "execution_count": 106,
   "metadata": {},
   "outputs": [
    {
     "data": {
      "text/plain": [
       "7"
      ]
     },
     "execution_count": 106,
     "metadata": {},
     "output_type": "execute_result"
    }
   ],
   "source": [
    "# When numbers are random\n",
    "largest_sum(nums3, d)"
   ]
  },
  {
   "cell_type": "code",
   "execution_count": 107,
   "metadata": {},
   "outputs": [
    {
     "data": {
      "text/plain": [
       "2"
      ]
     },
     "execution_count": 107,
     "metadata": {},
     "output_type": "execute_result"
    }
   ],
   "source": [
    "# When there is only one positive number and other numbers equal to '0'\n",
    "largest_sum(\n",
    "    [0, 0, 0, 0, 0, 2, 0, 0],\n",
    "    3\n",
    ")"
   ]
  },
  {
   "cell_type": "code",
   "execution_count": 108,
   "metadata": {},
   "outputs": [
    {
     "data": {
      "text/plain": [
       "-108"
      ]
     },
     "execution_count": 108,
     "metadata": {},
     "output_type": "execute_result"
    }
   ],
   "source": [
    "# When there is a big negative number\n",
    "largest_sum( \n",
    "    [0, 1, 0, 0, -111, 2, 0, 0],\n",
    "    5\n",
    ")"
   ]
  },
  {
   "attachments": {},
   "cell_type": "markdown",
   "metadata": {},
   "source": [
    "Computational complexity: `O(n)`."
   ]
  },
  {
   "attachments": {},
   "cell_type": "markdown",
   "metadata": {},
   "source": [
    "### Problem 5 \n",
    "\n",
    "You are given an integer array `nums4` consisting of `n` elements, and an integer `v`.\n",
    "\n",
    "Find a contiguous subarray whose length is equal to `v` that has the maximum average value and return this value. "
   ]
  },
  {
   "cell_type": "code",
   "execution_count": 109,
   "metadata": {},
   "outputs": [],
   "source": [
    "nums4 = [1, 2, 2, 1, 3]\n",
    "v = 2"
   ]
  },
  {
   "attachments": {},
   "cell_type": "markdown",
   "metadata": {},
   "source": [
    "#### Solution"
   ]
  },
  {
   "cell_type": "code",
   "execution_count": 110,
   "metadata": {},
   "outputs": [],
   "source": [
    "def largest_avg(nums4, v):\n",
    "    ans = curr = 0\n",
    "\n",
    "    for i in range(v): \n",
    "        curr += nums4[i]\n",
    "\n",
    "    ans = curr\n",
    "\n",
    "    for j in range(v, len(nums4)):\n",
    "        curr += nums4[j] - nums4[j - v]\n",
    "\n",
    "        ans = max(ans, curr)\n",
    "\n",
    "    return ans / v"
   ]
  },
  {
   "attachments": {},
   "cell_type": "markdown",
   "metadata": {},
   "source": [
    "#### Test cases:"
   ]
  },
  {
   "cell_type": "code",
   "execution_count": 111,
   "metadata": {},
   "outputs": [
    {
     "data": {
      "text/plain": [
       "2.0"
      ]
     },
     "execution_count": 111,
     "metadata": {},
     "output_type": "execute_result"
    }
   ],
   "source": [
    "# With small random values\n",
    "largest_avg(nums4, v)"
   ]
  },
  {
   "cell_type": "code",
   "execution_count": 112,
   "metadata": {},
   "outputs": [
    {
     "data": {
      "text/plain": [
       "7.0"
      ]
     },
     "execution_count": 112,
     "metadata": {},
     "output_type": "execute_result"
    }
   ],
   "source": [
    "# With window size 1\n",
    "largest_avg(\n",
    "    [0, 6, 7, 0, 0, 0, 0, 0, 0],\n",
    "    1\n",
    ")"
   ]
  },
  {
   "cell_type": "code",
   "execution_count": 113,
   "metadata": {},
   "outputs": [
    {
     "data": {
      "text/plain": [
       "30000.0"
      ]
     },
     "execution_count": 113,
     "metadata": {},
     "output_type": "execute_result"
    }
   ],
   "source": [
    "# With big values and zeros\n",
    "largest_avg(\n",
    "    [0, 30000, 20000, 0, 0, 50000, 0, 40000],\n",
    "    3\n",
    ")"
   ]
  },
  {
   "attachments": {},
   "cell_type": "markdown",
   "metadata": {},
   "source": [
    "Computational complexity: `O(n)`"
   ]
  },
  {
   "attachments": {},
   "cell_type": "markdown",
   "metadata": {},
   "source": [
    "### Problem 6\n",
    "\n",
    "Given a binary array `nums` and an integer `m`, return the maximum number of consecutive 1's in the array if you can flip at most `m` 0's."
   ]
  },
  {
   "cell_type": "code",
   "execution_count": 114,
   "metadata": {},
   "outputs": [],
   "source": [
    "nums5 = [0, 1, 1, 0, 1, 1, 0, 1, 1, 1, 0, 0, 0, 1, 1]\n",
    "m = 2"
   ]
  },
  {
   "attachments": {},
   "cell_type": "markdown",
   "metadata": {},
   "source": [
    "#### Solution "
   ]
  },
  {
   "cell_type": "code",
   "execution_count": 115,
   "metadata": {},
   "outputs": [],
   "source": [
    "def find_lengest_sub3(nums, m):\n",
    "    curr = ans = left = 0\n",
    "\n",
    "    for right in range(len(nums)):\n",
    "        if nums[right] == 0:\n",
    "            curr += 1\n",
    "        \n",
    "        while curr > m:\n",
    "            if nums[left] == 0:\n",
    "                curr -= 1\n",
    "            left += 1\n",
    "\n",
    "        ans = max(ans, right - left + 1)\n",
    "\n",
    "    return ans\n"
   ]
  },
  {
   "attachments": {},
   "cell_type": "markdown",
   "metadata": {},
   "source": [
    "#### Test cases:"
   ]
  },
  {
   "cell_type": "code",
   "execution_count": 116,
   "metadata": {},
   "outputs": [
    {
     "data": {
      "text/plain": [
       "9"
      ]
     },
     "execution_count": 116,
     "metadata": {},
     "output_type": "execute_result"
    }
   ],
   "source": [
    "# Random binary array \n",
    "find_lengest_sub3(nums5, m)"
   ]
  },
  {
   "cell_type": "code",
   "execution_count": 117,
   "metadata": {},
   "outputs": [
    {
     "data": {
      "text/plain": [
       "2"
      ]
     },
     "execution_count": 117,
     "metadata": {},
     "output_type": "execute_result"
    }
   ],
   "source": [
    "# No 1s\n",
    "find_lengest_sub3(\n",
    "    [0, 0, 0, 0, 0],\n",
    "    2\n",
    ")"
   ]
  },
  {
   "cell_type": "code",
   "execution_count": 118,
   "metadata": {},
   "outputs": [
    {
     "data": {
      "text/plain": [
       "5"
      ]
     },
     "execution_count": 118,
     "metadata": {},
     "output_type": "execute_result"
    }
   ],
   "source": [
    "# No 0s\n",
    "find_lengest_sub3(\n",
    "    [1, 1, 1, 1, 1],\n",
    "    2\n",
    ")"
   ]
  },
  {
   "attachments": {},
   "cell_type": "markdown",
   "metadata": {},
   "source": [
    "Computational complexity: `O(n)`"
   ]
  },
  {
   "attachments": {},
   "cell_type": "markdown",
   "metadata": {},
   "source": [
    "## Prefix Sum\n",
    "\n",
    "### Problem 1\n",
    "\n",
    "Given an array `nums`. We define a running sum of an array as `runningSum[i] = sum(nums[0]…nums[i])`. Return the running sum of `nums`."
   ]
  },
  {
   "cell_type": "code",
   "execution_count": 119,
   "metadata": {},
   "outputs": [],
   "source": [
    "nums6 = [3,1,2,10,1]"
   ]
  },
  {
   "attachments": {},
   "cell_type": "markdown",
   "metadata": {},
   "source": [
    "#### Solution"
   ]
  },
  {
   "cell_type": "code",
   "execution_count": 120,
   "metadata": {},
   "outputs": [],
   "source": [
    "def prefix_sum(nums):\n",
    "    prefix = [nums[0]]\n",
    "    for i in range(1, len(nums)):\n",
    "        prefix.append(nums[i] + prefix[-1])\n",
    "\n",
    "    return prefix"
   ]
  },
  {
   "cell_type": "code",
   "execution_count": 121,
   "metadata": {},
   "outputs": [
    {
     "data": {
      "text/plain": [
       "[3, 4, 6, 16, 17]"
      ]
     },
     "execution_count": 121,
     "metadata": {},
     "output_type": "execute_result"
    }
   ],
   "source": [
    "prefix_sum(nums6)"
   ]
  },
  {
   "attachments": {},
   "cell_type": "markdown",
   "metadata": {},
   "source": [
    "Computational complexity: `O(n)`"
   ]
  },
  {
   "attachments": {},
   "cell_type": "markdown",
   "metadata": {},
   "source": [
    "### Problem 2\n",
    "\n",
    "Given an integer array `nums`, an array queries where `queries[i] = [x, y]` and an integer `limit`, return a boolean array that represents the answer to each query. A query is `true` if the sum of the subarray from `x` to `y` is less than `limit`, or `false` otherwise."
   ]
  },
  {
   "cell_type": "code",
   "execution_count": 122,
   "metadata": {},
   "outputs": [],
   "source": [
    "nums7 = [1, 6, 3, 2, 7, 2]\n",
    "queries = [[0, 3], [2, 5], [2, 4]]\n",
    "limit = 13"
   ]
  },
  {
   "attachments": {},
   "cell_type": "markdown",
   "metadata": {},
   "source": [
    "#### Solution"
   ]
  },
  {
   "cell_type": "code",
   "execution_count": 123,
   "metadata": {},
   "outputs": [],
   "source": [
    "def sub_sum(nums, queries, limit):\n",
    "    prefix = [nums[0]]\n",
    "    for i in range(1, len(nums)):\n",
    "        prefix.append(nums[i] + prefix[-1])\n",
    "\n",
    "    ans = []\n",
    "\n",
    "    for x,y in queries:\n",
    "        curr = prefix[y] - prefix[x] + nums[x]\n",
    "        ans.append(curr < limit)\n",
    "\n",
    "    return ans\n",
    "\n"
   ]
  },
  {
   "cell_type": "code",
   "execution_count": 124,
   "metadata": {},
   "outputs": [
    {
     "data": {
      "text/plain": [
       "[True, False, True]"
      ]
     },
     "execution_count": 124,
     "metadata": {},
     "output_type": "execute_result"
    }
   ],
   "source": [
    "sub_sum(nums7, queries, limit)"
   ]
  },
  {
   "attachments": {},
   "cell_type": "markdown",
   "metadata": {},
   "source": [
    "Computational complexity: `O(n+m)`"
   ]
  },
  {
   "attachments": {},
   "cell_type": "markdown",
   "metadata": {},
   "source": [
    "### Problem 3\n",
    "\n",
    "Given an integer array `nums`, find the number of ways to split the array into two parts so that the first section has a sum greater than or equal to the sum of the second section. The second section should have at least one number."
   ]
  },
  {
   "cell_type": "code",
   "execution_count": 125,
   "metadata": {},
   "outputs": [],
   "source": [
    "nums8 = [1, 3, 2, 5, 5, 6, 3, 2, 6]"
   ]
  },
  {
   "attachments": {},
   "cell_type": "markdown",
   "metadata": {},
   "source": [
    "#### Solution 1"
   ]
  },
  {
   "cell_type": "code",
   "execution_count": 126,
   "metadata": {},
   "outputs": [],
   "source": [
    "def split_array(nums):\n",
    "    n = len(nums)\n",
    "    prefix = [nums[0]]\n",
    "    ans = 0\n",
    "\n",
    "    for i in range(1, n):\n",
    "        prefix.append(nums[i] + prefix[-1])\n",
    "\n",
    "    for i in range(n - 1):\n",
    "        left_section = prefix[i]\n",
    "        right_section = prefix[-1] - left_section\n",
    "        if left_section >= right_section:\n",
    "            ans += 1\n",
    "\n",
    "    return ans"
   ]
  },
  {
   "cell_type": "code",
   "execution_count": 127,
   "metadata": {},
   "outputs": [
    {
     "data": {
      "text/plain": [
       "3"
      ]
     },
     "execution_count": 127,
     "metadata": {},
     "output_type": "execute_result"
    }
   ],
   "source": [
    "split_array(nums8)"
   ]
  },
  {
   "attachments": {},
   "cell_type": "markdown",
   "metadata": {},
   "source": [
    "Computational complexity: `O(n)`"
   ]
  },
  {
   "attachments": {},
   "cell_type": "markdown",
   "metadata": {},
   "source": [
    "#### Solution 2"
   ]
  },
  {
   "cell_type": "code",
   "execution_count": 128,
   "metadata": {},
   "outputs": [],
   "source": [
    "def split_array2(nums):\n",
    "    ans = left_section = 0\n",
    "    total = sum(nums)\n",
    "\n",
    "    for i in range(len(nums) - 1):\n",
    "        left_section += nums[i]\n",
    "        right_section = total - left_section\n",
    "        if left_section >= right_section:\n",
    "            ans += 1\n",
    "            \n",
    "    return ans\n"
   ]
  },
  {
   "cell_type": "code",
   "execution_count": 129,
   "metadata": {},
   "outputs": [
    {
     "data": {
      "text/plain": [
       "3"
      ]
     },
     "execution_count": 129,
     "metadata": {},
     "output_type": "execute_result"
    }
   ],
   "source": [
    "split_array2(nums8)"
   ]
  },
  {
   "attachments": {},
   "cell_type": "markdown",
   "metadata": {},
   "source": [
    "Space complexity: `O(1)`"
   ]
  },
  {
   "attachments": {},
   "cell_type": "markdown",
   "metadata": {},
   "source": [
    "### Problem 4\n",
    "\n",
    "Given an array of integers `nums`, you start with an initial positive value `startValue`.\n",
    "\n",
    "In each iteration, you calculate the step by step sum of `startValue` plus elements in `nums` (from left to right).\n",
    "\n",
    "Return the minimum positive value of `startValue` such that the step by step sum is never less than 1."
   ]
  },
  {
   "cell_type": "code",
   "execution_count": 130,
   "metadata": {},
   "outputs": [],
   "source": [
    "nums9 = [-3,2,-3,4,2]"
   ]
  },
  {
   "attachments": {},
   "cell_type": "markdown",
   "metadata": {},
   "source": [
    "#### Solution"
   ]
  },
  {
   "cell_type": "code",
   "execution_count": 131,
   "metadata": {},
   "outputs": [],
   "source": [
    "def min_start_val(nums):\n",
    "    total = min_val = 0\n",
    "\n",
    "    for num in nums:\n",
    "        total += num\n",
    "        min_val = min(min_val, total)\n",
    "\n",
    "    return 1-min_val"
   ]
  },
  {
   "cell_type": "code",
   "execution_count": 132,
   "metadata": {},
   "outputs": [
    {
     "data": {
      "text/plain": [
       "5"
      ]
     },
     "execution_count": 132,
     "metadata": {},
     "output_type": "execute_result"
    }
   ],
   "source": [
    "min_start_val(nums9)"
   ]
  },
  {
   "attachments": {},
   "cell_type": "markdown",
   "metadata": {},
   "source": [
    "Time complexity: `O(n)`, space complexity `O(1)`."
   ]
  },
  {
   "attachments": {},
   "cell_type": "markdown",
   "metadata": {},
   "source": [
    "### Problem 5\n",
    "\n",
    "You are given a `0`-indexed array `nums` of `n` integers, and an integer `k`.\n",
    "\n",
    "The k-radius average for a subarray of `nums` centered at some index `i` with the radius `k` is the average of all elements in `nums` between the indices `i - k` and `i + k` (inclusive). If there are less than `k` elements before or after the index `i`, then the k-radius average is `-1`.\n",
    "\n",
    "Build and return an array `avgs` of length `n` where `avgs[i]` is the k-radius average for the subarray centered at index `i`.\n",
    "\n",
    "The average of `x` elements is the sum of the `x` elements divided by `x`, using integer division. The integer division truncates toward zero, which means losing its fractional part.\n",
    "\n",
    "For example, the average of four elements `2, 3, 1, 5` is `(2 + 3 + 1 + 5) / 4 = 11 / 4 = 2.75`, which truncates to `2`.\n"
   ]
  },
  {
   "cell_type": "code",
   "execution_count": 133,
   "metadata": {},
   "outputs": [],
   "source": [
    "nums10 = [7,4,3,9,1,8,5,2,6]\n",
    "k1 = 3"
   ]
  },
  {
   "attachments": {},
   "cell_type": "markdown",
   "metadata": {},
   "source": [
    "#### Solution 1 (Prefix Sum)"
   ]
  },
  {
   "cell_type": "code",
   "execution_count": 134,
   "metadata": {},
   "outputs": [],
   "source": [
    "def k_radius_avg1(nums, k):\n",
    "    if k == 0:\n",
    "        return nums\n",
    "    \n",
    "    n = len(nums)\n",
    "    avgs = [-1] * n\n",
    "    prefix = [nums[0]]\n",
    "\n",
    "    if (k * 2 + 1) > n:\n",
    "        return avgs\n",
    "    \n",
    "    for i in range(1, n):\n",
    "        prefix.append(nums[i] + prefix[-1])\n",
    "\n",
    "    for j in range(k, n - k):\n",
    "        left_bound, right_bound = j - k, j + k\n",
    "        avg_sum = prefix[right_bound] - prefix[left_bound] + nums[left_bound]\n",
    "        avgs[j] = avg_sum // (k * 2 + 1)\n",
    "\n",
    "    return avgs"
   ]
  },
  {
   "cell_type": "code",
   "execution_count": 135,
   "metadata": {},
   "outputs": [
    {
     "data": {
      "text/plain": [
       "[-1, -1, -1, 5, 4, 4, -1, -1, -1]"
      ]
     },
     "execution_count": 135,
     "metadata": {},
     "output_type": "execute_result"
    }
   ],
   "source": [
    "k_radius_avg1(nums10, k1)"
   ]
  },
  {
   "attachments": {},
   "cell_type": "markdown",
   "metadata": {},
   "source": [
    "Time complexity: `O(n)`, space complexity `O(n)`."
   ]
  },
  {
   "attachments": {},
   "cell_type": "markdown",
   "metadata": {},
   "source": [
    "#### Solution 2 (Sliding Window)"
   ]
  },
  {
   "cell_type": "code",
   "execution_count": 136,
   "metadata": {},
   "outputs": [],
   "source": [
    "def k_radius_avg2(nums, k):\n",
    "    if k == 0:\n",
    "        return nums\n",
    "    \n",
    "    n = len(nums)\n",
    "    avgs = [-1] * n\n",
    "    window_size = k * 2 + 1\n",
    "\n",
    "    if window_size > n:\n",
    "        return avgs\n",
    "    \n",
    "    window_sum = sum(nums[:window_size])\n",
    "    avgs[k] = window_sum // window_size\n",
    "    \n",
    "    for i in range(window_size, n):\n",
    "        window_sum = (window_sum - nums[i - window_size] + nums[i])\n",
    "        avgs[i - k] = window_sum // window_size\n",
    "\n",
    "    return avgs"
   ]
  },
  {
   "cell_type": "code",
   "execution_count": 137,
   "metadata": {},
   "outputs": [
    {
     "data": {
      "text/plain": [
       "[-1, -1, -1, 5, 4, 4, -1, -1, -1]"
      ]
     },
     "execution_count": 137,
     "metadata": {},
     "output_type": "execute_result"
    }
   ],
   "source": [
    "k_radius_avg2(nums10, k1)"
   ]
  },
  {
   "attachments": {},
   "cell_type": "markdown",
   "metadata": {},
   "source": [
    "Time complexity: `O(n)`, space complexity `O(1)`."
   ]
  }
 ],
 "metadata": {
  "kernelspec": {
   "display_name": "Python 3",
   "language": "python",
   "name": "python3"
  },
  "language_info": {
   "codemirror_mode": {
    "name": "ipython",
    "version": 3
   },
   "file_extension": ".py",
   "mimetype": "text/x-python",
   "name": "python",
   "nbconvert_exporter": "python",
   "pygments_lexer": "ipython3",
   "version": "3.10.11"
  },
  "orig_nbformat": 4
 },
 "nbformat": 4,
 "nbformat_minor": 2
}
