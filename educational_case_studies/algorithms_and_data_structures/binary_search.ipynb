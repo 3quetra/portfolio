{
 "cells": [
  {
   "cell_type": "markdown",
   "metadata": {},
   "source": [
    "# Optimizing Chocolate Sharing with Binary Search\n",
    "\n",
    "- Problem: Sharing a chocolate bar fairly among 11 people.\n",
    "- Objective: Maximize the sweetness of the piece with minimal sweetness.\n",
    "\n",
    "Short [**presentation**](Optimizing%20Chocolate%20Sharing%20with%20Binary%20Search.pdf).\n",
    "\n",
    "We have one chocolate bar that consists of some chunks. Each chunk has its own sweetness given by the array sweetness.\n",
    "We want to share the chocolate with our 11 (`num_of_people`) group mates,  so we start cutting the chocolate bar into 11  (`num_of_people`) pieces using 10 (`num_of_people-1`) cuts, each piece consists of some consecutive chunks.\n",
    "We will divide the pieces randomly, but someone will get a piece with the minimum total sweetness. We don't want to create an unfair cut, so we want to maximize the sweetness of such a piece, or in other words: find the maximum availible total sweetness for a peace with minimal sweetness.\n",
    "\n",
    "Solution:\n",
    "\n",
    "We use binary search to solve this problem.\n",
    "We start by initializing low boundary to be the minimum element in sweetness (can't get a piece less sweet, than the chunk with minimum sweetness) and high to be `sum(sweetness) / (num_of_people - 1)`. If we take 91 as a total sweetness of our the bar, then we can't divide 91 into 11 pieces and get more than 4 of maximum availible total sweetness.\n",
    "Each time we calculate mid to be the average of  low and high and check whether it is possible to cut the chocolate bar into `num_of_people - 1` pieces such, that each piece has total sweetness at least mid. If so, update the maximum availible total sweetness using mid and set `low = mid + 1`. Otherwise, set `high = mid - 1`. Finally, return the maximum availible total sweetness.\n",
    "\n",
    "\n",
    "Let's start by implementing binary search algorithm. "
   ]
  },
  {
   "cell_type": "code",
   "execution_count": 1,
   "metadata": {},
   "outputs": [],
   "source": [
    "# import related functions\n",
    "from random import randrange"
   ]
  },
  {
   "cell_type": "code",
   "execution_count": 2,
   "metadata": {},
   "outputs": [
    {
     "data": {
      "text/plain": [
       "[1500, 1550, 1600, 1650, 1700, 1750, 1800, 1850, 1900, 1950]"
      ]
     },
     "execution_count": 2,
     "metadata": {},
     "output_type": "execute_result"
    }
   ],
   "source": [
    "# create list of even nums for testing\n",
    "even_nums = [num for num in range(0, 2000, 50)]\n",
    "even_nums[-10:]"
   ]
  },
  {
   "cell_type": "code",
   "execution_count": 3,
   "metadata": {},
   "outputs": [
    {
     "data": {
      "text/plain": [
       "[1971, 1974, 1977, 1980, 1983, 1986, 1989, 1992, 1995, 1998]"
      ]
     },
     "execution_count": 3,
     "metadata": {},
     "output_type": "execute_result"
    }
   ],
   "source": [
    "# create list of odd nums for testing\n",
    "odd_nums = [num for num in range(0, 2000, 3)]\n",
    "odd_nums[-10:]"
   ]
  },
  {
   "cell_type": "code",
   "execution_count": 4,
   "metadata": {},
   "outputs": [
    {
     "data": {
      "text/plain": [
       "[1747, 1907, 1632, 1727, 1492, 879, 308, 897, 1349, 1281]"
      ]
     },
     "execution_count": 4,
     "metadata": {},
     "output_type": "execute_result"
    }
   ],
   "source": [
    "# create list of random nums for testing\n",
    "rand_nums = [randrange(0, 2000) for i in range(0, 2000, 4)]\n",
    "rand_nums[:10]"
   ]
  },
  {
   "cell_type": "code",
   "execution_count": 5,
   "metadata": {},
   "outputs": [],
   "source": [
    "# sort random list and remove duplicates\n",
    "def sort_lst(lst):\n",
    "    return list(sorted(lst))"
   ]
  },
  {
   "cell_type": "code",
   "execution_count": 6,
   "metadata": {},
   "outputs": [
    {
     "data": {
      "text/plain": [
       "[12, 25, 26, 26, 30, 31, 35, 37, 40, 41]"
      ]
     },
     "execution_count": 6,
     "metadata": {},
     "output_type": "execute_result"
    }
   ],
   "source": [
    "# test sorting and removing duplicates\n",
    "sort_lst(rand_nums)[:10]"
   ]
  },
  {
   "cell_type": "code",
   "execution_count": 7,
   "metadata": {},
   "outputs": [],
   "source": [
    "def binary_search(lst):\n",
    "\n",
    "    '''Ask user to input a number and put it in a key variable. Find the first middle index and check if\n",
    "    its value equals to the key. If no then loop through the list.\n",
    "\n",
    "    We compare the key and the current value of the middle index.\n",
    "    If the key is greater we find the new middle index in the slice to right from the current middle.\n",
    "    If the key is less we find the new middle index in the slice to left from the current middle.\n",
    "    \n",
    "    In each case we find a new middle index and check if it equals to the key.'''\n",
    "\n",
    "    lst = sort_lst(lst)\n",
    "\n",
    "    target = int(input('Enter search target'))\n",
    "    left = 0\n",
    "    right = len(lst) - 1\n",
    "    \n",
    "    while left <= right:\n",
    "        mid = (left + right) // 2\n",
    "\n",
    "        if lst[mid] == target:\n",
    "            return f'Here is the number your were looking for: {lst[mid]}'\n",
    "        \n",
    "        elif lst[mid] > target:\n",
    "            right = mid - 1\n",
    "        else:\n",
    "            left = mid + 1\n",
    "\n",
    "    return f'There is no element \"{target}\" in the list.'\n"
   ]
  },
  {
   "cell_type": "code",
   "execution_count": 8,
   "metadata": {},
   "outputs": [
    {
     "data": {
      "text/plain": [
       "[12, 25, 26, 26, 30, 31, 35, 37, 40, 41]"
      ]
     },
     "execution_count": 8,
     "metadata": {},
     "output_type": "execute_result"
    }
   ],
   "source": [
    "sort_lst(rand_nums)[:10]"
   ]
  },
  {
   "cell_type": "code",
   "execution_count": 9,
   "metadata": {},
   "outputs": [
    {
     "data": {
      "text/plain": [
       "'Here is the number your were looking for: 30'"
      ]
     },
     "execution_count": 9,
     "metadata": {},
     "output_type": "execute_result"
    }
   ],
   "source": [
    "# test binary search with random nums\n",
    "binary_search(rand_nums)"
   ]
  },
  {
   "cell_type": "code",
   "execution_count": 10,
   "metadata": {},
   "outputs": [
    {
     "data": {
      "text/plain": [
       "[1500, 1550, 1600, 1650, 1700, 1750, 1800, 1850, 1900, 1950]"
      ]
     },
     "execution_count": 10,
     "metadata": {},
     "output_type": "execute_result"
    }
   ],
   "source": [
    "even_nums[-10:]"
   ]
  },
  {
   "cell_type": "code",
   "execution_count": 11,
   "metadata": {},
   "outputs": [
    {
     "data": {
      "text/plain": [
       "'Here is the number your were looking for: 1700'"
      ]
     },
     "execution_count": 11,
     "metadata": {},
     "output_type": "execute_result"
    }
   ],
   "source": [
    "# test binary search with even nums\n",
    "binary_search(even_nums)"
   ]
  },
  {
   "cell_type": "code",
   "execution_count": 12,
   "metadata": {},
   "outputs": [
    {
     "data": {
      "text/plain": [
       "[1971, 1974, 1977, 1980, 1983, 1986, 1989, 1992, 1995, 1998]"
      ]
     },
     "execution_count": 12,
     "metadata": {},
     "output_type": "execute_result"
    }
   ],
   "source": [
    "odd_nums[-10:]"
   ]
  },
  {
   "cell_type": "code",
   "execution_count": 13,
   "metadata": {},
   "outputs": [
    {
     "data": {
      "text/plain": [
       "'There is no element \"244\" in the list.'"
      ]
     },
     "execution_count": 13,
     "metadata": {},
     "output_type": "execute_result"
    }
   ],
   "source": [
    "# test binary search with odd nums\n",
    "binary_search(odd_nums)"
   ]
  },
  {
   "cell_type": "markdown",
   "metadata": {},
   "source": [
    "## Chocolate bar problem"
   ]
  },
  {
   "cell_type": "code",
   "execution_count": 14,
   "metadata": {},
   "outputs": [],
   "source": [
    "def maximize_sweetness(sweetness):\n",
    "    # Input number of people and make number of cuts out of it\n",
    "    number_of_people = int(input('Enter the number of group mates:'))\n",
    "\n",
    "\n",
    "    # Initialize the boundaries\n",
    "    min_sweet = min(sweetness) # left = 1 beacause it's minimum possible sweetness\n",
    "    max_sweet = sum(sweetness) // number_of_people # right = (total sweetness) / (number of people)\n",
    "    \n",
    "    while min_sweet < max_sweet:\n",
    "        # Find the middle index between left and right boundary indexes.\n",
    "        mid = (min_sweet + max_sweet + 1) // 2\n",
    "        cur_sweetness = 0   # Total sweetness for the current person.\n",
    "        people_with_chocolate = 0   # Number of people who have a piece with sweetness >= to mid.  \n",
    "        \n",
    "        # Start assigning chunks to the current person.\n",
    "        for s in sweetness:\n",
    "            cur_sweetness += s\n",
    "            \n",
    "            # If the current total sweetness is >= mid, \n",
    "            if cur_sweetness >= mid:\n",
    "                people_with_chocolate += 1 # we make a cut \n",
    "                cur_sweetness = 0 # and move on to the next person\n",
    "\n",
    "        if people_with_chocolate >= number_of_people:\n",
    "            min_sweet = mid\n",
    "        else:\n",
    "            max_sweet = mid - 1 # Find maximum availible total sweetness\n",
    "            \n",
    "    return f'Maximum availible total sweetness is {max_sweet}. What means, we can not give a chunk with the total sweetness lower than {max_sweet} to one person.'"
   ]
  },
  {
   "cell_type": "code",
   "execution_count": 15,
   "metadata": {},
   "outputs": [
    {
     "data": {
      "text/plain": [
       "'Maximum availible total sweetness is 4. What means, we can not give a chunk with the total sweetness lower than 4 to one person.'"
      ]
     },
     "execution_count": 15,
     "metadata": {},
     "output_type": "execute_result"
    }
   ],
   "source": [
    "maximize_sweetness(sweetness = [10, 7, 9, 6, 8, 5, 11, 2, 13, 4, 3, 1, 12])"
   ]
  },
  {
   "cell_type": "code",
   "execution_count": 16,
   "metadata": {},
   "outputs": [
    {
     "data": {
      "text/plain": [
       "'Maximum availible total sweetness is 16. What means, we can not give a chunk with the total sweetness lower than 16 to one person.'"
      ]
     },
     "execution_count": 16,
     "metadata": {},
     "output_type": "execute_result"
    }
   ],
   "source": [
    "maximize_sweetness(sweetness = [1, 2, 5, 2, 3, 7, 9, 4, 2, 5, 7, 3, 9, 7, 5, 4, 3, 5, 3, 6])"
   ]
  },
  {
   "cell_type": "markdown",
   "metadata": {},
   "source": [
    "## Conclusion:\n",
    "\n",
    "- Binary search efficiently maximizes sweetness.\n",
    "- Fairly distribute chocolate among friends.\n",
    "- Optimal solution for chocolate lovers!"
   ]
  }
 ],
 "metadata": {
  "kernelspec": {
   "display_name": "Python 3",
   "language": "python",
   "name": "python3"
  },
  "language_info": {
   "codemirror_mode": {
    "name": "ipython",
    "version": 3
   },
   "file_extension": ".py",
   "mimetype": "text/x-python",
   "name": "python",
   "nbconvert_exporter": "python",
   "pygments_lexer": "ipython3",
   "version": "3.10.11"
  },
  "orig_nbformat": 4
 },
 "nbformat": 4,
 "nbformat_minor": 2
}
