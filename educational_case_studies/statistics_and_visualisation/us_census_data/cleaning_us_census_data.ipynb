{
 "cells": [
  {
   "cell_type": "markdown",
   "metadata": {},
   "source": [
    "# Cleaning US Census Data\n",
    "\n",
    "The goal of this project is to make US Census data scalable and repeatable, converting data from multiple CSV files to pandas' DataFrames, as well as to collect some interesting insights from it and create informative visualisations as a result. \n",
    "\n",
    "\n",
    "## Data Investigation\n",
    "\n",
    "The first visualization we are going to make is a scatterplot that shows the average income in a state vs the percentage of women in that state. To implement this task we first need to convert CSV files to DataFrames to make them flexible and applicable for various data analytical tasks, visualisation among them.\n",
    "\n",
    "After importing all necessary tools for work, we'll loop through the census files available and load them into DataFrames, using glob. Then, concatenate all of those DataFrames together into one DataFrame and call it `us_census`."
   ]
  },
  {
   "cell_type": "code",
   "execution_count": 1,
   "metadata": {},
   "outputs": [
    {
     "data": {
      "text/html": [
       "<div>\n",
       "<style scoped>\n",
       "    .dataframe tbody tr th:only-of-type {\n",
       "        vertical-align: middle;\n",
       "    }\n",
       "\n",
       "    .dataframe tbody tr th {\n",
       "        vertical-align: top;\n",
       "    }\n",
       "\n",
       "    .dataframe thead th {\n",
       "        text-align: right;\n",
       "    }\n",
       "</style>\n",
       "<table border=\"1\" class=\"dataframe\">\n",
       "  <thead>\n",
       "    <tr style=\"text-align: right;\">\n",
       "      <th></th>\n",
       "      <th>Unnamed: 0</th>\n",
       "      <th>State</th>\n",
       "      <th>TotalPop</th>\n",
       "      <th>Hispanic</th>\n",
       "      <th>White</th>\n",
       "      <th>Black</th>\n",
       "      <th>Native</th>\n",
       "      <th>Asian</th>\n",
       "      <th>Pacific</th>\n",
       "      <th>Income</th>\n",
       "      <th>GenderPop</th>\n",
       "    </tr>\n",
       "  </thead>\n",
       "  <tbody>\n",
       "    <tr>\n",
       "      <th>0</th>\n",
       "      <td>0</td>\n",
       "      <td>New Jersey</td>\n",
       "      <td>8904413</td>\n",
       "      <td>18.74950049950049%</td>\n",
       "      <td>56.488761238761285%</td>\n",
       "      <td>14.387862137862117%</td>\n",
       "      <td>0.11533466533466513%</td>\n",
       "      <td>8.159990009990018%</td>\n",
       "      <td>0.031318681318681325%</td>\n",
       "      <td>$76581.08341708542</td>\n",
       "      <td>4343027M_4561386F</td>\n",
       "    </tr>\n",
       "    <tr>\n",
       "      <th>1</th>\n",
       "      <td>1</td>\n",
       "      <td>New Mexico</td>\n",
       "      <td>2084117</td>\n",
       "      <td>45.28293172690762%</td>\n",
       "      <td>40.69799196787147%</td>\n",
       "      <td>1.7550200803212852%</td>\n",
       "      <td>9.248594377510045%</td>\n",
       "      <td>1.23433734939759%</td>\n",
       "      <td>0.04277108433734938%</td>\n",
       "      <td>$47329.96787148595</td>\n",
       "      <td>1032414M_1051703F</td>\n",
       "    </tr>\n",
       "    <tr>\n",
       "      <th>2</th>\n",
       "      <td>2</td>\n",
       "      <td>New York</td>\n",
       "      <td>19673174</td>\n",
       "      <td>17.241424747786684%</td>\n",
       "      <td>56.4701050030883%</td>\n",
       "      <td>15.668046119003515%</td>\n",
       "      <td>0.32163887173152117%</td>\n",
       "      <td>7.8971587399629355%</td>\n",
       "      <td>0.023450689726168417%</td>\n",
       "      <td>$64290.74911292006</td>\n",
       "      <td>9541801M_10131373F</td>\n",
       "    </tr>\n",
       "    <tr>\n",
       "      <th>3</th>\n",
       "      <td>3</td>\n",
       "      <td>North Carolina</td>\n",
       "      <td>9845333</td>\n",
       "      <td>8.464762782128062%</td>\n",
       "      <td>64.5976508521419%</td>\n",
       "      <td>21.3951174573929%</td>\n",
       "      <td>1.0854905573468434%</td>\n",
       "      <td>2.317457392906495%</td>\n",
       "      <td>0.05232611699677568%</td>\n",
       "      <td>$49937.46413697362</td>\n",
       "      <td>4795408M_5049925F</td>\n",
       "    </tr>\n",
       "    <tr>\n",
       "      <th>4</th>\n",
       "      <td>4</td>\n",
       "      <td>North Dakota</td>\n",
       "      <td>721640</td>\n",
       "      <td>2.832682926829267%</td>\n",
       "      <td>87.44829268292683%</td>\n",
       "      <td>1.2843902439024397%</td>\n",
       "      <td>5.651219512195119%</td>\n",
       "      <td>0.9619512195121945%</td>\n",
       "      <td>NaN</td>\n",
       "      <td>$58188.112195121954</td>\n",
       "      <td>367963M_353677F</td>\n",
       "    </tr>\n",
       "  </tbody>\n",
       "</table>\n",
       "</div>"
      ],
      "text/plain": [
       "   Unnamed: 0           State  TotalPop             Hispanic  \\\n",
       "0           0      New Jersey   8904413   18.74950049950049%   \n",
       "1           1      New Mexico   2084117   45.28293172690762%   \n",
       "2           2        New York  19673174  17.241424747786684%   \n",
       "3           3  North Carolina   9845333   8.464762782128062%   \n",
       "4           4    North Dakota    721640   2.832682926829267%   \n",
       "\n",
       "                 White                Black                Native  \\\n",
       "0  56.488761238761285%  14.387862137862117%  0.11533466533466513%   \n",
       "1   40.69799196787147%  1.7550200803212852%    9.248594377510045%   \n",
       "2    56.4701050030883%  15.668046119003515%  0.32163887173152117%   \n",
       "3    64.5976508521419%    21.3951174573929%   1.0854905573468434%   \n",
       "4   87.44829268292683%  1.2843902439024397%    5.651219512195119%   \n",
       "\n",
       "                 Asian                Pacific               Income  \\\n",
       "0   8.159990009990018%  0.031318681318681325%   $76581.08341708542   \n",
       "1    1.23433734939759%   0.04277108433734938%   $47329.96787148595   \n",
       "2  7.8971587399629355%  0.023450689726168417%   $64290.74911292006   \n",
       "3   2.317457392906495%   0.05232611699677568%   $49937.46413697362   \n",
       "4  0.9619512195121945%                    NaN  $58188.112195121954   \n",
       "\n",
       "            GenderPop  \n",
       "0   4343027M_4561386F  \n",
       "1   1032414M_1051703F  \n",
       "2  9541801M_10131373F  \n",
       "3   4795408M_5049925F  \n",
       "4     367963M_353677F  "
      ]
     },
     "execution_count": 1,
     "metadata": {},
     "output_type": "execute_result"
    }
   ],
   "source": [
    "import pandas as pd\n",
    "import matplotlib.pyplot as plt\n",
    "import seaborn as sns\n",
    "import glob\n",
    "\n",
    "# Upload csv file to DataFrame\n",
    "states = glob.glob('state*.csv')\n",
    "df_list = []\n",
    "for i in states:\n",
    "  data = pd.read_csv(i)\n",
    "  df_list.append(data)   \n",
    "us_census = pd.concat(df_list).reset_index(drop=True)\n",
    "\n",
    "us_census.head(5)"
   ]
  },
  {
   "cell_type": "markdown",
   "metadata": {},
   "source": [
    "Let's start by looking at the data types of the `us_census` DataFrame in case they might hinder us as we try to make histograms."
   ]
  },
  {
   "cell_type": "code",
   "execution_count": 2,
   "metadata": {},
   "outputs": [
    {
     "data": {
      "text/plain": [
       "Unnamed: 0     int64\n",
       "State         object\n",
       "TotalPop       int64\n",
       "Hispanic      object\n",
       "White         object\n",
       "Black         object\n",
       "Native        object\n",
       "Asian         object\n",
       "Pacific       object\n",
       "Income        object\n",
       "GenderPop     object\n",
       "dtype: object"
      ]
     },
     "execution_count": 2,
     "metadata": {},
     "output_type": "execute_result"
    }
   ],
   "source": [
    "us_census.dtypes"
   ]
  },
  {
   "cell_type": "markdown",
   "metadata": {},
   "source": [
    "Seems like many numerical values have been written as an `object` data type instead of integers or floats. We can not work with such types, so let's convert them to more useful ones. Considering that we will probably need to perform this action repeatedly let's write a function that would remove unnecessary symbols and perform reformating simultaneously."
   ]
  },
  {
   "cell_type": "code",
   "execution_count": 3,
   "metadata": {},
   "outputs": [],
   "source": [
    "# Remove= unnecessary symbols & reformating\n",
    "cut_the_tails = lambda column: pd.to_numeric(column.replace('[\\$%MF]', '', regex=True))"
   ]
  },
  {
   "cell_type": "markdown",
   "metadata": {},
   "source": [
    "Let's use our function to turn the \"Income\" column into a numerical type."
   ]
  },
  {
   "cell_type": "code",
   "execution_count": 4,
   "metadata": {},
   "outputs": [
    {
     "data": {
      "text/plain": [
       "dtype('float64')"
      ]
     },
     "execution_count": 4,
     "metadata": {},
     "output_type": "execute_result"
    }
   ],
   "source": [
    "# Remove unnecessary symbols & reformat Income\n",
    "us_census.Income = cut_the_tails(us_census.Income)\n",
    "us_census.Income.dtypes"
   ]
  },
  {
   "cell_type": "markdown",
   "metadata": {},
   "source": [
    "Now let's look at the \"GenderPop\" column. We are going to separate this into two columns to `Males` and `Females` as well as to remove unnecessary symbols and convert both to numerical datatypes to get the result we need."
   ]
  },
  {
   "cell_type": "code",
   "execution_count": 5,
   "metadata": {},
   "outputs": [
    {
     "data": {
      "text/html": [
       "<div>\n",
       "<style scoped>\n",
       "    .dataframe tbody tr th:only-of-type {\n",
       "        vertical-align: middle;\n",
       "    }\n",
       "\n",
       "    .dataframe tbody tr th {\n",
       "        vertical-align: top;\n",
       "    }\n",
       "\n",
       "    .dataframe thead th {\n",
       "        text-align: right;\n",
       "    }\n",
       "</style>\n",
       "<table border=\"1\" class=\"dataframe\">\n",
       "  <thead>\n",
       "    <tr style=\"text-align: right;\">\n",
       "      <th></th>\n",
       "      <th>State</th>\n",
       "      <th>TotalPop</th>\n",
       "      <th>Hispanic</th>\n",
       "      <th>White</th>\n",
       "      <th>Black</th>\n",
       "      <th>Native</th>\n",
       "      <th>Asian</th>\n",
       "      <th>Pacific</th>\n",
       "      <th>Income</th>\n",
       "      <th>Males</th>\n",
       "      <th>Females</th>\n",
       "    </tr>\n",
       "  </thead>\n",
       "  <tbody>\n",
       "    <tr>\n",
       "      <th>0</th>\n",
       "      <td>New Jersey</td>\n",
       "      <td>8904413</td>\n",
       "      <td>18.74950049950049%</td>\n",
       "      <td>56.488761238761285%</td>\n",
       "      <td>14.387862137862117%</td>\n",
       "      <td>0.11533466533466513%</td>\n",
       "      <td>8.159990009990018%</td>\n",
       "      <td>0.031318681318681325%</td>\n",
       "      <td>76581.083417</td>\n",
       "      <td>4343027</td>\n",
       "      <td>4561386.0</td>\n",
       "    </tr>\n",
       "    <tr>\n",
       "      <th>1</th>\n",
       "      <td>New Mexico</td>\n",
       "      <td>2084117</td>\n",
       "      <td>45.28293172690762%</td>\n",
       "      <td>40.69799196787147%</td>\n",
       "      <td>1.7550200803212852%</td>\n",
       "      <td>9.248594377510045%</td>\n",
       "      <td>1.23433734939759%</td>\n",
       "      <td>0.04277108433734938%</td>\n",
       "      <td>47329.967871</td>\n",
       "      <td>1032414</td>\n",
       "      <td>1051703.0</td>\n",
       "    </tr>\n",
       "    <tr>\n",
       "      <th>2</th>\n",
       "      <td>New York</td>\n",
       "      <td>19673174</td>\n",
       "      <td>17.241424747786684%</td>\n",
       "      <td>56.4701050030883%</td>\n",
       "      <td>15.668046119003515%</td>\n",
       "      <td>0.32163887173152117%</td>\n",
       "      <td>7.8971587399629355%</td>\n",
       "      <td>0.023450689726168417%</td>\n",
       "      <td>64290.749113</td>\n",
       "      <td>9541801</td>\n",
       "      <td>10131373.0</td>\n",
       "    </tr>\n",
       "    <tr>\n",
       "      <th>3</th>\n",
       "      <td>North Carolina</td>\n",
       "      <td>9845333</td>\n",
       "      <td>8.464762782128062%</td>\n",
       "      <td>64.5976508521419%</td>\n",
       "      <td>21.3951174573929%</td>\n",
       "      <td>1.0854905573468434%</td>\n",
       "      <td>2.317457392906495%</td>\n",
       "      <td>0.05232611699677568%</td>\n",
       "      <td>49937.464137</td>\n",
       "      <td>4795408</td>\n",
       "      <td>5049925.0</td>\n",
       "    </tr>\n",
       "    <tr>\n",
       "      <th>4</th>\n",
       "      <td>North Dakota</td>\n",
       "      <td>721640</td>\n",
       "      <td>2.832682926829267%</td>\n",
       "      <td>87.44829268292683%</td>\n",
       "      <td>1.2843902439024397%</td>\n",
       "      <td>5.651219512195119%</td>\n",
       "      <td>0.9619512195121945%</td>\n",
       "      <td>NaN</td>\n",
       "      <td>58188.112195</td>\n",
       "      <td>367963</td>\n",
       "      <td>353677.0</td>\n",
       "    </tr>\n",
       "  </tbody>\n",
       "</table>\n",
       "</div>"
      ],
      "text/plain": [
       "            State  TotalPop             Hispanic                White  \\\n",
       "0      New Jersey   8904413   18.74950049950049%  56.488761238761285%   \n",
       "1      New Mexico   2084117   45.28293172690762%   40.69799196787147%   \n",
       "2        New York  19673174  17.241424747786684%    56.4701050030883%   \n",
       "3  North Carolina   9845333   8.464762782128062%    64.5976508521419%   \n",
       "4    North Dakota    721640   2.832682926829267%   87.44829268292683%   \n",
       "\n",
       "                 Black                Native                Asian  \\\n",
       "0  14.387862137862117%  0.11533466533466513%   8.159990009990018%   \n",
       "1  1.7550200803212852%    9.248594377510045%    1.23433734939759%   \n",
       "2  15.668046119003515%  0.32163887173152117%  7.8971587399629355%   \n",
       "3    21.3951174573929%   1.0854905573468434%   2.317457392906495%   \n",
       "4  1.2843902439024397%    5.651219512195119%  0.9619512195121945%   \n",
       "\n",
       "                 Pacific        Income    Males     Females  \n",
       "0  0.031318681318681325%  76581.083417  4343027   4561386.0  \n",
       "1   0.04277108433734938%  47329.967871  1032414   1051703.0  \n",
       "2  0.023450689726168417%  64290.749113  9541801  10131373.0  \n",
       "3   0.05232611699677568%  49937.464137  4795408   5049925.0  \n",
       "4                    NaN  58188.112195   367963    353677.0  "
      ]
     },
     "execution_count": 5,
     "metadata": {},
     "output_type": "execute_result"
    }
   ],
   "source": [
    "# Remove unnecessary symbols\n",
    "us_census.GenderPop = us_census.GenderPop.replace('M|F', '', regex=True)\n",
    "# Split GenderPop in Males and Females\n",
    "genders = us_census.GenderPop.str.split('_')\n",
    "us_census['Males'] = genders.str.get(0)\n",
    "us_census['Females'] = genders.str.get(1)\n",
    "# Reformat resulting 2 colums\n",
    "us_census.Males = pd.to_numeric(us_census.Males)\n",
    "us_census.Females = pd.to_numeric(us_census.Females)\n",
    "# Remove GenderPop from the table\n",
    "us_census.drop(['GenderPop', 'Unnamed: 0'], axis=1, inplace=True)\n",
    "\n",
    "us_census.head(5)"
   ]
  },
  {
   "cell_type": "markdown",
   "metadata": {},
   "source": [
    "Seems we have some comprehensive result, but to double check our work let's remove from needed columns `nan` values and duplicates. "
   ]
  },
  {
   "cell_type": "code",
   "execution_count": 6,
   "metadata": {},
   "outputs": [],
   "source": [
    "# Fill omitted values for Females with the mean across the state\n",
    "us_census.Females = us_census.Females.fillna(us_census.TotalPop - us_census.Males)\n",
    "# Remove duplicates \n",
    "us_census = us_census.drop_duplicates()\n"
   ]
  },
  {
   "cell_type": "markdown",
   "metadata": {},
   "source": [
    "Now let's reshape our data according best practices:\n",
    "- Each variable as a separate column\n",
    "- Each row as a separate observation\n",
    "\n",
    "And save only required columns to a separate variable `us_census_by_gender`.\n"
   ]
  },
  {
   "cell_type": "code",
   "execution_count": 7,
   "metadata": {},
   "outputs": [
    {
     "data": {
      "text/html": [
       "<div>\n",
       "<style scoped>\n",
       "    .dataframe tbody tr th:only-of-type {\n",
       "        vertical-align: middle;\n",
       "    }\n",
       "\n",
       "    .dataframe tbody tr th {\n",
       "        vertical-align: top;\n",
       "    }\n",
       "\n",
       "    .dataframe thead th {\n",
       "        text-align: right;\n",
       "    }\n",
       "</style>\n",
       "<table border=\"1\" class=\"dataframe\">\n",
       "  <thead>\n",
       "    <tr style=\"text-align: right;\">\n",
       "      <th></th>\n",
       "      <th>State</th>\n",
       "      <th>TotalPop</th>\n",
       "      <th>Income</th>\n",
       "      <th>Sex</th>\n",
       "      <th>PopulationBySex</th>\n",
       "    </tr>\n",
       "  </thead>\n",
       "  <tbody>\n",
       "    <tr>\n",
       "      <th>0</th>\n",
       "      <td>New Jersey</td>\n",
       "      <td>8904413</td>\n",
       "      <td>76581.083417</td>\n",
       "      <td>Males</td>\n",
       "      <td>4343027.0</td>\n",
       "    </tr>\n",
       "    <tr>\n",
       "      <th>1</th>\n",
       "      <td>New Mexico</td>\n",
       "      <td>2084117</td>\n",
       "      <td>47329.967871</td>\n",
       "      <td>Males</td>\n",
       "      <td>1032414.0</td>\n",
       "    </tr>\n",
       "    <tr>\n",
       "      <th>2</th>\n",
       "      <td>New York</td>\n",
       "      <td>19673174</td>\n",
       "      <td>64290.749113</td>\n",
       "      <td>Males</td>\n",
       "      <td>9541801.0</td>\n",
       "    </tr>\n",
       "    <tr>\n",
       "      <th>3</th>\n",
       "      <td>North Carolina</td>\n",
       "      <td>9845333</td>\n",
       "      <td>49937.464137</td>\n",
       "      <td>Males</td>\n",
       "      <td>4795408.0</td>\n",
       "    </tr>\n",
       "    <tr>\n",
       "      <th>4</th>\n",
       "      <td>North Dakota</td>\n",
       "      <td>721640</td>\n",
       "      <td>58188.112195</td>\n",
       "      <td>Males</td>\n",
       "      <td>367963.0</td>\n",
       "    </tr>\n",
       "    <tr>\n",
       "      <th>...</th>\n",
       "      <td>...</td>\n",
       "      <td>...</td>\n",
       "      <td>...</td>\n",
       "      <td>...</td>\n",
       "      <td>...</td>\n",
       "    </tr>\n",
       "    <tr>\n",
       "      <th>67</th>\n",
       "      <td>Missouri</td>\n",
       "      <td>6045448</td>\n",
       "      <td>49763.987726</td>\n",
       "      <td>Females</td>\n",
       "      <td>3081445.0</td>\n",
       "    </tr>\n",
       "    <tr>\n",
       "      <th>68</th>\n",
       "      <td>Montana</td>\n",
       "      <td>1014699</td>\n",
       "      <td>47645.682836</td>\n",
       "      <td>Females</td>\n",
       "      <td>504536.0</td>\n",
       "    </tr>\n",
       "    <tr>\n",
       "      <th>69</th>\n",
       "      <td>Nebraska</td>\n",
       "      <td>1869365</td>\n",
       "      <td>55916.469697</td>\n",
       "      <td>Females</td>\n",
       "      <td>939759.0</td>\n",
       "    </tr>\n",
       "    <tr>\n",
       "      <th>70</th>\n",
       "      <td>Nevada</td>\n",
       "      <td>2798636</td>\n",
       "      <td>55526.525074</td>\n",
       "      <td>Females</td>\n",
       "      <td>1390901.0</td>\n",
       "    </tr>\n",
       "    <tr>\n",
       "      <th>71</th>\n",
       "      <td>New Hampshire</td>\n",
       "      <td>1324201</td>\n",
       "      <td>68728.859589</td>\n",
       "      <td>Females</td>\n",
       "      <td>670717.0</td>\n",
       "    </tr>\n",
       "  </tbody>\n",
       "</table>\n",
       "<p>72 rows × 5 columns</p>\n",
       "</div>"
      ],
      "text/plain": [
       "             State  TotalPop        Income      Sex  PopulationBySex\n",
       "0       New Jersey   8904413  76581.083417    Males        4343027.0\n",
       "1       New Mexico   2084117  47329.967871    Males        1032414.0\n",
       "2         New York  19673174  64290.749113    Males        9541801.0\n",
       "3   North Carolina   9845333  49937.464137    Males        4795408.0\n",
       "4     North Dakota    721640  58188.112195    Males         367963.0\n",
       "..             ...       ...           ...      ...              ...\n",
       "67        Missouri   6045448  49763.987726  Females        3081445.0\n",
       "68         Montana   1014699  47645.682836  Females         504536.0\n",
       "69        Nebraska   1869365  55916.469697  Females         939759.0\n",
       "70          Nevada   2798636  55526.525074  Females        1390901.0\n",
       "71   New Hampshire   1324201  68728.859589  Females         670717.0\n",
       "\n",
       "[72 rows x 5 columns]"
      ]
     },
     "execution_count": 7,
     "metadata": {},
     "output_type": "execute_result"
    }
   ],
   "source": [
    "us_census_by_gender = pd.melt(\n",
    "    frame=us_census,\n",
    "    id_vars=[\"State\",'TotalPop', 'Income'], \n",
    "    value_vars=['Males', 'Females'],\n",
    "    value_name='PopulationBySex', \n",
    "    var_name=\"Sex\"\n",
    ")\n",
    "us_census_by_gender"
   ]
  },
  {
   "cell_type": "markdown",
   "metadata": {},
   "source": [
    "Additionaly we need to add a \"Percentage of Sexes\" feature to our table to have necessary for the scatterplot info. "
   ]
  },
  {
   "cell_type": "code",
   "execution_count": 8,
   "metadata": {},
   "outputs": [
    {
     "data": {
      "text/html": [
       "<div>\n",
       "<style scoped>\n",
       "    .dataframe tbody tr th:only-of-type {\n",
       "        vertical-align: middle;\n",
       "    }\n",
       "\n",
       "    .dataframe tbody tr th {\n",
       "        vertical-align: top;\n",
       "    }\n",
       "\n",
       "    .dataframe thead th {\n",
       "        text-align: right;\n",
       "    }\n",
       "</style>\n",
       "<table border=\"1\" class=\"dataframe\">\n",
       "  <thead>\n",
       "    <tr style=\"text-align: right;\">\n",
       "      <th></th>\n",
       "      <th>State</th>\n",
       "      <th>TotalPop</th>\n",
       "      <th>Income</th>\n",
       "      <th>Sex</th>\n",
       "      <th>PopulationBySex</th>\n",
       "      <th>PercentageOfSexes</th>\n",
       "    </tr>\n",
       "  </thead>\n",
       "  <tbody>\n",
       "    <tr>\n",
       "      <th>0</th>\n",
       "      <td>New Jersey</td>\n",
       "      <td>8904413</td>\n",
       "      <td>76581.083417</td>\n",
       "      <td>Males</td>\n",
       "      <td>4343027.0</td>\n",
       "      <td>48.773872</td>\n",
       "    </tr>\n",
       "    <tr>\n",
       "      <th>1</th>\n",
       "      <td>New Mexico</td>\n",
       "      <td>2084117</td>\n",
       "      <td>47329.967871</td>\n",
       "      <td>Males</td>\n",
       "      <td>1032414.0</td>\n",
       "      <td>49.537238</td>\n",
       "    </tr>\n",
       "    <tr>\n",
       "      <th>2</th>\n",
       "      <td>New York</td>\n",
       "      <td>19673174</td>\n",
       "      <td>64290.749113</td>\n",
       "      <td>Males</td>\n",
       "      <td>9541801.0</td>\n",
       "      <td>48.501584</td>\n",
       "    </tr>\n",
       "    <tr>\n",
       "      <th>3</th>\n",
       "      <td>North Carolina</td>\n",
       "      <td>9845333</td>\n",
       "      <td>49937.464137</td>\n",
       "      <td>Males</td>\n",
       "      <td>4795408.0</td>\n",
       "      <td>48.707423</td>\n",
       "    </tr>\n",
       "    <tr>\n",
       "      <th>4</th>\n",
       "      <td>North Dakota</td>\n",
       "      <td>721640</td>\n",
       "      <td>58188.112195</td>\n",
       "      <td>Males</td>\n",
       "      <td>367963.0</td>\n",
       "      <td>50.989829</td>\n",
       "    </tr>\n",
       "  </tbody>\n",
       "</table>\n",
       "</div>"
      ],
      "text/plain": [
       "            State  TotalPop        Income    Sex  PopulationBySex  \\\n",
       "0      New Jersey   8904413  76581.083417  Males        4343027.0   \n",
       "1      New Mexico   2084117  47329.967871  Males        1032414.0   \n",
       "2        New York  19673174  64290.749113  Males        9541801.0   \n",
       "3  North Carolina   9845333  49937.464137  Males        4795408.0   \n",
       "4    North Dakota    721640  58188.112195  Males         367963.0   \n",
       "\n",
       "   PercentageOfSexes  \n",
       "0          48.773872  \n",
       "1          49.537238  \n",
       "2          48.501584  \n",
       "3          48.707423  \n",
       "4          50.989829  "
      ]
     },
     "execution_count": 8,
     "metadata": {},
     "output_type": "execute_result"
    }
   ],
   "source": [
    "us_census_by_gender['PercentageOfSexes'] = us_census_by_gender.PopulationBySex / us_census_by_gender.TotalPop * 100\n",
    "us_census_by_gender.head(5)"
   ]
  },
  {
   "cell_type": "markdown",
   "metadata": {},
   "source": [
    "## Income Visualisation via Scatter Plot\n",
    "\n",
    "\n",
    "Now we should have the columns we need to make the graph. Let's use matplotlib to make a scatterplot."
   ]
  },
  {
   "cell_type": "code",
   "execution_count": 9,
   "metadata": {},
   "outputs": [
    {
     "data": {
      "image/png": "[encoded data removed]",
      "text/plain": [
       "<Figure size 432x288 with 1 Axes>"
      ]
     },
     "metadata": {
      "needs_background": "light"
     },
     "output_type": "display_data"
    }
   ],
   "source": [
    "# Create scatter plot: Females & Income\n",
    "plt.scatter(us_census_by_gender.PercentageOfSexes[us_census_by_gender.Sex == 'Females'], us_census_by_gender.Income[us_census_by_gender.Sex == 'Females']) \n",
    "# Add titles to plot\n",
    "plt.ylabel('Average Income')\n",
    "plt.xlabel('Percentage of Women')\n",
    "\n",
    "plt.show()\n"
   ]
  },
  {
   "cell_type": "markdown",
   "metadata": {},
   "source": [
    "Result: The distribution of dots across the plot is uniform, with no obvious correlation between states' average income and the proportion of women in each of them, so if the issue with payment inequality still exists by the time of data collection - the scatterplot is probably not an effective method of analysis for this matter, in any case, further investigation is required. "
   ]
  },
  {
   "cell_type": "markdown",
   "metadata": {},
   "source": [
    "## Race Data Visualisation via Histogram\n",
    "\n",
    "Now let's make some histograms out of the race data that we have. As result, we should get the ratio of the number of states to the percentage of residents in them.\n",
    "\n",
    "First we are going to remove unnecessary \"%\" symbols, convert values to numerical values and replace `nan` with 0 (because unlike with genders we can't obtain missing value by subtracting every other available race value from the total - resulting value could contain other less widespread national minorities). "
   ]
  },
  {
   "cell_type": "code",
   "execution_count": 10,
   "metadata": {},
   "outputs": [],
   "source": [
    "# Remove excessive symbols and convert to numeric\n",
    "nationalities = ['Hispanic', 'White', 'Black', 'Native', 'Asian', 'Pacific']\n",
    "for column in nationalities:\n",
    "  us_census[column] = cut_the_tails(us_census[column])\n",
    "# Fill nan's with 0\n",
    "us_census.Pacific = us_census.Pacific.fillna(0)"
   ]
  },
  {
   "cell_type": "markdown",
   "metadata": {},
   "source": [
    "Once again, let's reshape our data, but now in accordance with the race."
   ]
  },
  {
   "cell_type": "code",
   "execution_count": 11,
   "metadata": {},
   "outputs": [
    {
     "data": {
      "text/html": [
       "<div>\n",
       "<style scoped>\n",
       "    .dataframe tbody tr th:only-of-type {\n",
       "        vertical-align: middle;\n",
       "    }\n",
       "\n",
       "    .dataframe tbody tr th {\n",
       "        vertical-align: top;\n",
       "    }\n",
       "\n",
       "    .dataframe thead th {\n",
       "        text-align: right;\n",
       "    }\n",
       "</style>\n",
       "<table border=\"1\" class=\"dataframe\">\n",
       "  <thead>\n",
       "    <tr style=\"text-align: right;\">\n",
       "      <th></th>\n",
       "      <th>State</th>\n",
       "      <th>RaceType</th>\n",
       "      <th>PopulationByRace</th>\n",
       "    </tr>\n",
       "  </thead>\n",
       "  <tbody>\n",
       "    <tr>\n",
       "      <th>0</th>\n",
       "      <td>New Jersey</td>\n",
       "      <td>Hispanic</td>\n",
       "      <td>18.749500</td>\n",
       "    </tr>\n",
       "    <tr>\n",
       "      <th>1</th>\n",
       "      <td>New Mexico</td>\n",
       "      <td>Hispanic</td>\n",
       "      <td>45.282932</td>\n",
       "    </tr>\n",
       "    <tr>\n",
       "      <th>2</th>\n",
       "      <td>New York</td>\n",
       "      <td>Hispanic</td>\n",
       "      <td>17.241425</td>\n",
       "    </tr>\n",
       "    <tr>\n",
       "      <th>3</th>\n",
       "      <td>North Carolina</td>\n",
       "      <td>Hispanic</td>\n",
       "      <td>8.464763</td>\n",
       "    </tr>\n",
       "    <tr>\n",
       "      <th>4</th>\n",
       "      <td>North Dakota</td>\n",
       "      <td>Hispanic</td>\n",
       "      <td>2.832683</td>\n",
       "    </tr>\n",
       "    <tr>\n",
       "      <th>...</th>\n",
       "      <td>...</td>\n",
       "      <td>...</td>\n",
       "      <td>...</td>\n",
       "    </tr>\n",
       "    <tr>\n",
       "      <th>211</th>\n",
       "      <td>Missouri</td>\n",
       "      <td>Pacific</td>\n",
       "      <td>0.101657</td>\n",
       "    </tr>\n",
       "    <tr>\n",
       "      <th>212</th>\n",
       "      <td>Montana</td>\n",
       "      <td>Pacific</td>\n",
       "      <td>0.072222</td>\n",
       "    </tr>\n",
       "    <tr>\n",
       "      <th>213</th>\n",
       "      <td>Nebraska</td>\n",
       "      <td>Pacific</td>\n",
       "      <td>0.057143</td>\n",
       "    </tr>\n",
       "    <tr>\n",
       "      <th>214</th>\n",
       "      <td>Nevada</td>\n",
       "      <td>Pacific</td>\n",
       "      <td>0.574521</td>\n",
       "    </tr>\n",
       "    <tr>\n",
       "      <th>215</th>\n",
       "      <td>New Hampshire</td>\n",
       "      <td>Pacific</td>\n",
       "      <td>0.016096</td>\n",
       "    </tr>\n",
       "  </tbody>\n",
       "</table>\n",
       "<p>216 rows × 3 columns</p>\n",
       "</div>"
      ],
      "text/plain": [
       "              State  RaceType  PopulationByRace\n",
       "0        New Jersey  Hispanic         18.749500\n",
       "1        New Mexico  Hispanic         45.282932\n",
       "2          New York  Hispanic         17.241425\n",
       "3    North Carolina  Hispanic          8.464763\n",
       "4      North Dakota  Hispanic          2.832683\n",
       "..              ...       ...               ...\n",
       "211        Missouri   Pacific          0.101657\n",
       "212         Montana   Pacific          0.072222\n",
       "213        Nebraska   Pacific          0.057143\n",
       "214          Nevada   Pacific          0.574521\n",
       "215   New Hampshire   Pacific          0.016096\n",
       "\n",
       "[216 rows x 3 columns]"
      ]
     },
     "execution_count": 11,
     "metadata": {},
     "output_type": "execute_result"
    }
   ],
   "source": [
    "us_census_by_race = pd.melt(\n",
    "    frame=us_census,\n",
    "    id_vars=[\"State\"], \n",
    "    value_vars=nationalities, \n",
    "    value_name=\"PopulationByRace\", \n",
    "    var_name=\"RaceType\"\n",
    ")\n",
    "us_census_by_race"
   ]
  },
  {
   "cell_type": "markdown",
   "metadata": {},
   "source": [
    "Now let's plot histograms of different nationalities on a grid for better comparison."
   ]
  },
  {
   "cell_type": "code",
   "execution_count": 12,
   "metadata": {},
   "outputs": [
    {
     "data": {
      "text/plain": [
       "<seaborn.axisgrid.FacetGrid at 0x1ba063ae740>"
      ]
     },
     "execution_count": 12,
     "metadata": {},
     "output_type": "execute_result"
    },
    {
     "data": {
      "image/png": "[encoded data removed]",
      "text/plain": [
       "<Figure size 1296x576 with 6 Axes>"
      ]
     },
     "metadata": {
      "needs_background": "light"
     },
     "output_type": "display_data"
    }
   ],
   "source": [
    "# Create grid\n",
    "g = sns.FacetGrid(data=us_census_by_race, col='RaceType', col_wrap=3, height=4, aspect=1.5, hue='RaceType', palette=['#f9ccac', '#fbefcc', '#674d3c', '#f4a688', '#d9ad7c', '#a2836e'])\n",
    "# Add plots to grid\n",
    "g.map_dataframe(sns.histplot, x='PopulationByRace', binwidth=5)\n"
   ]
  },
  {
   "cell_type": "markdown",
   "metadata": {},
   "source": [
    "## Conclusion\n",
    "\n",
    "We can clearly see that the majority of the population in all states is white which can mean a broad spectrum of people with European and British ancestry.\n",
    "\n",
    "The number of people with Hispanic and African ancestry in many states is also very high. \n",
    "\n",
    "The people with Asian ancestry and Native Americans are significantly less represented across different states compared to European, British, African and Hispanic representatives. \n",
    "\n",
    "The least percentage in this dataset consists of people who have Pacific ancestry. "
   ]
  }
 ],
 "metadata": {
  "interpreter": {
   "hash": "7836a9483238820c2898d47b3e9b184c638aad228733b35228ced2f19c03f12e"
  },
  "kernelspec": {
   "display_name": "Python 3.10.2 64-bit (windows store)",
   "language": "python",
   "name": "python3"
  },
  "language_info": {
   "codemirror_mode": {
    "name": "ipython",
    "version": 3
   },
   "file_extension": ".py",
   "mimetype": "text/x-python",
   "name": "python",
   "nbconvert_exporter": "python",
   "pygments_lexer": "ipython3",
   "version": "3.10.4"
  },
  "orig_nbformat": 4
 },
 "nbformat": 4,
 "nbformat_minor": 2
}
