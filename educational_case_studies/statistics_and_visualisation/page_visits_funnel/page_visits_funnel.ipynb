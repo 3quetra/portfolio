{
 "cells": [
  {
   "cell_type": "markdown",
   "metadata": {},
   "source": [
    "# Page Visits Funnel\n",
    "\n",
    "The goal of this project is to analyze data on visits to a website of Cool T-Shirts Inc. My job, as an analyst is to build a funnel, which is a description of how many people continue to the next step of a multi-step process, using Pandas.\n",
    "\n",
    "In this case, our funnel is going to describe the following process:\n",
    "\n",
    "    1. A user visits CoolTShirts.com\n",
    "    2. A user adds a t-shirt to their cart\n",
    "    3. A user clicks “checkout”\n",
    "    4. A user actually purchases a t-shirt\n",
    "\n",
    "First we need to import Pandas library and prepare csv files that we are going to analyze. Files contain the fillowing info:\n",
    "\n",
    "- Visits file - list of all users who have visited the website.\n",
    "- Cart file - list of all users who have added a t-shirt to their cart.\n",
    "- Checkout - list of all users who have started the checkout.\n",
    "- Purchase - list of all users who have purchased a t-shirt.\n"
   ]
  },
  {
   "cell_type": "code",
   "execution_count": 1,
   "metadata": {},
   "outputs": [],
   "source": [
    "import pandas as pd\n",
    "\n",
    "# Read csv files \n",
    "visits = pd.read_csv('visits.csv',\n",
    "                     parse_dates=[1])\n",
    "cart = pd.read_csv('cart.csv',\n",
    "                   parse_dates=[1])\n",
    "checkout = pd.read_csv('checkout.csv',\n",
    "                       parse_dates=[1])\n",
    "purchase = pd.read_csv('purchase.csv',\n",
    "                       parse_dates=[1])\n"
   ]
  },
  {
   "cell_type": "markdown",
   "metadata": {},
   "source": [
    "Let's inspect the DataFrames to know exactly what we are dealing with. Below is an example of the first 5 rows of the each given csv file in piles."
   ]
  },
  {
   "cell_type": "code",
   "execution_count": 2,
   "metadata": {},
   "outputs": [
    {
     "data": {
      "text/html": [
       "<div>\n",
       "<style scoped>\n",
       "    .dataframe tbody tr th:only-of-type {\n",
       "        vertical-align: middle;\n",
       "    }\n",
       "\n",
       "    .dataframe tbody tr th {\n",
       "        vertical-align: top;\n",
       "    }\n",
       "\n",
       "    .dataframe thead th {\n",
       "        text-align: right;\n",
       "    }\n",
       "</style>\n",
       "<table border=\"1\" class=\"dataframe\">\n",
       "  <thead>\n",
       "    <tr style=\"text-align: right;\">\n",
       "      <th></th>\n",
       "      <th>user_id</th>\n",
       "      <th>visit_time</th>\n",
       "      <th>cart_time</th>\n",
       "      <th>checkout_time</th>\n",
       "      <th>purchase_time</th>\n",
       "    </tr>\n",
       "  </thead>\n",
       "  <tbody>\n",
       "    <tr>\n",
       "      <th>0</th>\n",
       "      <td>943647ef-3682-4750-a2e1-918ba6f16188</td>\n",
       "      <td>2017-04-07 15:14:00</td>\n",
       "      <td>NaT</td>\n",
       "      <td>NaT</td>\n",
       "      <td>NaT</td>\n",
       "    </tr>\n",
       "    <tr>\n",
       "      <th>1</th>\n",
       "      <td>0c3a3dd0-fb64-4eac-bf84-ba069ce409f2</td>\n",
       "      <td>2017-01-26 14:24:00</td>\n",
       "      <td>NaT</td>\n",
       "      <td>NaT</td>\n",
       "      <td>NaT</td>\n",
       "    </tr>\n",
       "    <tr>\n",
       "      <th>2</th>\n",
       "      <td>6e0b2d60-4027-4d9a-babd-0e7d40859fb1</td>\n",
       "      <td>2017-08-20 08:23:00</td>\n",
       "      <td>NaT</td>\n",
       "      <td>NaT</td>\n",
       "      <td>NaT</td>\n",
       "    </tr>\n",
       "    <tr>\n",
       "      <th>3</th>\n",
       "      <td>6879527e-c5a6-4d14-b2da-50b85212b0ab</td>\n",
       "      <td>2017-11-04 18:15:00</td>\n",
       "      <td>NaT</td>\n",
       "      <td>NaT</td>\n",
       "      <td>NaT</td>\n",
       "    </tr>\n",
       "    <tr>\n",
       "      <th>4</th>\n",
       "      <td>a84327ff-5daa-4ba1-b789-d5b4caf81e96</td>\n",
       "      <td>2017-02-27 11:25:00</td>\n",
       "      <td>NaT</td>\n",
       "      <td>NaT</td>\n",
       "      <td>NaT</td>\n",
       "    </tr>\n",
       "    <tr>\n",
       "      <th>0</th>\n",
       "      <td>2be90e7c-9cca-44e0-bcc5-124b945ff168</td>\n",
       "      <td>NaT</td>\n",
       "      <td>2017-11-07 20:45:00</td>\n",
       "      <td>NaT</td>\n",
       "      <td>NaT</td>\n",
       "    </tr>\n",
       "    <tr>\n",
       "      <th>1</th>\n",
       "      <td>4397f73f-1da3-4ab3-91af-762792e25973</td>\n",
       "      <td>NaT</td>\n",
       "      <td>2017-05-27 01:35:00</td>\n",
       "      <td>NaT</td>\n",
       "      <td>NaT</td>\n",
       "    </tr>\n",
       "    <tr>\n",
       "      <th>2</th>\n",
       "      <td>a9db3d4b-0a0a-4398-a55a-ebb2c7adf663</td>\n",
       "      <td>NaT</td>\n",
       "      <td>2017-03-04 10:38:00</td>\n",
       "      <td>NaT</td>\n",
       "      <td>NaT</td>\n",
       "    </tr>\n",
       "    <tr>\n",
       "      <th>3</th>\n",
       "      <td>b594862a-36c5-47d5-b818-6e9512b939b3</td>\n",
       "      <td>NaT</td>\n",
       "      <td>2017-09-27 08:22:00</td>\n",
       "      <td>NaT</td>\n",
       "      <td>NaT</td>\n",
       "    </tr>\n",
       "    <tr>\n",
       "      <th>4</th>\n",
       "      <td>a68a16e2-94f0-4ce8-8ce3-784af0bbb974</td>\n",
       "      <td>NaT</td>\n",
       "      <td>2017-07-26 15:48:00</td>\n",
       "      <td>NaT</td>\n",
       "      <td>NaT</td>\n",
       "    </tr>\n",
       "    <tr>\n",
       "      <th>0</th>\n",
       "      <td>d33bdc47-4afa-45bc-b4e4-dbe948e34c0d</td>\n",
       "      <td>NaT</td>\n",
       "      <td>NaT</td>\n",
       "      <td>2017-06-25 09:29:00</td>\n",
       "      <td>NaT</td>\n",
       "    </tr>\n",
       "    <tr>\n",
       "      <th>1</th>\n",
       "      <td>4ac186f0-9954-4fea-8a27-c081e428e34e</td>\n",
       "      <td>NaT</td>\n",
       "      <td>NaT</td>\n",
       "      <td>2017-04-07 20:11:00</td>\n",
       "      <td>NaT</td>\n",
       "    </tr>\n",
       "    <tr>\n",
       "      <th>2</th>\n",
       "      <td>3c9c78a7-124a-4b77-8d2e-e1926e011e7d</td>\n",
       "      <td>NaT</td>\n",
       "      <td>NaT</td>\n",
       "      <td>2017-07-13 11:38:00</td>\n",
       "      <td>NaT</td>\n",
       "    </tr>\n",
       "    <tr>\n",
       "      <th>3</th>\n",
       "      <td>89fe330a-8966-4756-8f7c-3bdbcd47279a</td>\n",
       "      <td>NaT</td>\n",
       "      <td>NaT</td>\n",
       "      <td>2017-04-20 16:15:00</td>\n",
       "      <td>NaT</td>\n",
       "    </tr>\n",
       "    <tr>\n",
       "      <th>4</th>\n",
       "      <td>3ccdaf69-2d30-40de-b083-51372881aedd</td>\n",
       "      <td>NaT</td>\n",
       "      <td>NaT</td>\n",
       "      <td>2017-01-08 20:52:00</td>\n",
       "      <td>NaT</td>\n",
       "    </tr>\n",
       "    <tr>\n",
       "      <th>0</th>\n",
       "      <td>4b44ace4-2721-47a0-b24b-15fbfa2abf85</td>\n",
       "      <td>NaT</td>\n",
       "      <td>NaT</td>\n",
       "      <td>NaT</td>\n",
       "      <td>2017-05-11 04:25:00</td>\n",
       "    </tr>\n",
       "    <tr>\n",
       "      <th>1</th>\n",
       "      <td>02e684ae-a448-408f-a9ff-dcb4a5c99aac</td>\n",
       "      <td>NaT</td>\n",
       "      <td>NaT</td>\n",
       "      <td>NaT</td>\n",
       "      <td>2017-09-05 08:45:00</td>\n",
       "    </tr>\n",
       "    <tr>\n",
       "      <th>2</th>\n",
       "      <td>4b4bc391-749e-4b90-ab8f-4f6e3c84d6dc</td>\n",
       "      <td>NaT</td>\n",
       "      <td>NaT</td>\n",
       "      <td>NaT</td>\n",
       "      <td>2017-11-20 20:49:00</td>\n",
       "    </tr>\n",
       "    <tr>\n",
       "      <th>3</th>\n",
       "      <td>a5dbb25f-3c36-4103-9030-9f7c6241cd8d</td>\n",
       "      <td>NaT</td>\n",
       "      <td>NaT</td>\n",
       "      <td>NaT</td>\n",
       "      <td>2017-01-22 15:18:00</td>\n",
       "    </tr>\n",
       "    <tr>\n",
       "      <th>4</th>\n",
       "      <td>46a3186d-7f5a-4ab9-87af-84d05bfd4867</td>\n",
       "      <td>NaT</td>\n",
       "      <td>NaT</td>\n",
       "      <td>NaT</td>\n",
       "      <td>2017-06-11 11:32:00</td>\n",
       "    </tr>\n",
       "  </tbody>\n",
       "</table>\n",
       "</div>"
      ],
      "text/plain": [
       "                                user_id          visit_time  \\\n",
       "0  943647ef-3682-4750-a2e1-918ba6f16188 2017-04-07 15:14:00   \n",
       "1  0c3a3dd0-fb64-4eac-bf84-ba069ce409f2 2017-01-26 14:24:00   \n",
       "2  6e0b2d60-4027-4d9a-babd-0e7d40859fb1 2017-08-20 08:23:00   \n",
       "3  6879527e-c5a6-4d14-b2da-50b85212b0ab 2017-11-04 18:15:00   \n",
       "4  a84327ff-5daa-4ba1-b789-d5b4caf81e96 2017-02-27 11:25:00   \n",
       "0  2be90e7c-9cca-44e0-bcc5-124b945ff168                 NaT   \n",
       "1  4397f73f-1da3-4ab3-91af-762792e25973                 NaT   \n",
       "2  a9db3d4b-0a0a-4398-a55a-ebb2c7adf663                 NaT   \n",
       "3  b594862a-36c5-47d5-b818-6e9512b939b3                 NaT   \n",
       "4  a68a16e2-94f0-4ce8-8ce3-784af0bbb974                 NaT   \n",
       "0  d33bdc47-4afa-45bc-b4e4-dbe948e34c0d                 NaT   \n",
       "1  4ac186f0-9954-4fea-8a27-c081e428e34e                 NaT   \n",
       "2  3c9c78a7-124a-4b77-8d2e-e1926e011e7d                 NaT   \n",
       "3  89fe330a-8966-4756-8f7c-3bdbcd47279a                 NaT   \n",
       "4  3ccdaf69-2d30-40de-b083-51372881aedd                 NaT   \n",
       "0  4b44ace4-2721-47a0-b24b-15fbfa2abf85                 NaT   \n",
       "1  02e684ae-a448-408f-a9ff-dcb4a5c99aac                 NaT   \n",
       "2  4b4bc391-749e-4b90-ab8f-4f6e3c84d6dc                 NaT   \n",
       "3  a5dbb25f-3c36-4103-9030-9f7c6241cd8d                 NaT   \n",
       "4  46a3186d-7f5a-4ab9-87af-84d05bfd4867                 NaT   \n",
       "\n",
       "            cart_time       checkout_time       purchase_time  \n",
       "0                 NaT                 NaT                 NaT  \n",
       "1                 NaT                 NaT                 NaT  \n",
       "2                 NaT                 NaT                 NaT  \n",
       "3                 NaT                 NaT                 NaT  \n",
       "4                 NaT                 NaT                 NaT  \n",
       "0 2017-11-07 20:45:00                 NaT                 NaT  \n",
       "1 2017-05-27 01:35:00                 NaT                 NaT  \n",
       "2 2017-03-04 10:38:00                 NaT                 NaT  \n",
       "3 2017-09-27 08:22:00                 NaT                 NaT  \n",
       "4 2017-07-26 15:48:00                 NaT                 NaT  \n",
       "0                 NaT 2017-06-25 09:29:00                 NaT  \n",
       "1                 NaT 2017-04-07 20:11:00                 NaT  \n",
       "2                 NaT 2017-07-13 11:38:00                 NaT  \n",
       "3                 NaT 2017-04-20 16:15:00                 NaT  \n",
       "4                 NaT 2017-01-08 20:52:00                 NaT  \n",
       "0                 NaT                 NaT 2017-05-11 04:25:00  \n",
       "1                 NaT                 NaT 2017-09-05 08:45:00  \n",
       "2                 NaT                 NaT 2017-11-20 20:49:00  \n",
       "3                 NaT                 NaT 2017-01-22 15:18:00  \n",
       "4                 NaT                 NaT 2017-06-11 11:32:00  "
      ]
     },
     "execution_count": 2,
     "metadata": {},
     "output_type": "execute_result"
    }
   ],
   "source": [
    "pd.concat([visits.head(5), cart.head(5), checkout.head(5), purchase.head(5)])"
   ]
  },
  {
   "cell_type": "markdown",
   "metadata": {},
   "source": [
    "What percent of users who visited Cool T-Shirts Inc. ended up not placing a t-shirt in their cart?"
   ]
  },
  {
   "cell_type": "code",
   "execution_count": 3,
   "metadata": {},
   "outputs": [
    {
     "name": "stdout",
     "output_type": "stream",
     "text": [
      "82.60%\n"
     ]
    }
   ],
   "source": [
    "def to_perc(df1, df2, column_name):\n",
    "  merge = pd.merge(df1, df2, how = 'left')\n",
    "  print('{:.2%}'.format(merge[column_name].isna().sum() / len(merge)))\n",
    "  return\n",
    "\n",
    "# Get percentage of users who didn't place t-shirt in their cart\n",
    "to_perc(visits, cart, 'cart_time')"
   ]
  },
  {
   "cell_type": "markdown",
   "metadata": {},
   "source": [
    "What percentage of users put items in their cart, but did not proceed to checkout?"
   ]
  },
  {
   "cell_type": "code",
   "execution_count": 4,
   "metadata": {},
   "outputs": [
    {
     "name": "stdout",
     "output_type": "stream",
     "text": [
      "25.31%\n"
     ]
    }
   ],
   "source": [
    "# Get percentage of users who put items in their cart, but did not proceed to checkout\n",
    "to_perc(cart, checkout, 'checkout_time')"
   ]
  },
  {
   "cell_type": "markdown",
   "metadata": {},
   "source": [
    "What percentage of users proceeded to checkout, but did not purchase a t-shirt?"
   ]
  },
  {
   "cell_type": "code",
   "execution_count": 5,
   "metadata": {},
   "outputs": [
    {
     "name": "stdout",
     "output_type": "stream",
     "text": [
      "16.89%\n"
     ]
    }
   ],
   "source": [
    "# Get percentage of users proceeded to checkout, but did not purchase a t-shirt\n",
    "to_perc(checkout, purchase, 'purchase_time')"
   ]
  },
  {
   "cell_type": "markdown",
   "metadata": {},
   "source": [
    "What is the average time from initial visit to final purchase?"
   ]
  },
  {
   "cell_type": "code",
   "execution_count": 6,
   "metadata": {},
   "outputs": [
    {
     "name": "stdout",
     "output_type": "stream",
     "text": [
      "0 days 00:43:12.380952380\n"
     ]
    }
   ],
   "source": [
    "# Average time from initial visit to final purchase\n",
    "a = pd.merge(visits, purchase, how='right')\n",
    "a['time_to_purchase'] = a.purchase_time - a.visit_time\n",
    "print(a.time_to_purchase.mean())"
   ]
  },
  {
   "cell_type": "markdown",
   "metadata": {},
   "source": [
    "### Conclusion \n",
    "\n",
    "If in our analysis we consider only one factor - the highest percentage of users not completing a given step - then the first step of the funnel would be the weakest. It has `82.60%` of those who didn't even add anything in the cart. It can indicate that products look not enticing enough by themselves or are represented poorly on the website, or maybe the process of adding a product to a cart is not clear for users. \n",
    "\n",
    "So the answer to the main question: how might Cool T-Shirts Inc. change their website to fix this problem? - might consist of the following steps:\n",
    "- Analyse how users find the goods personally? Do they find what they seek? \n",
    "- Analyse goods' representation on the website. Is design optimal, goal-oriented and esthetically pleasing? \n",
    "- Analyse the process of adding a good to a cart. Does it trigger focused thinking processes or the actions can be performed in an easy, nearly automatic way? \n",
    "\n",
    "Depending on the answers to these questions Cool T-Shirts Inc. would have to either redesign their T-shots or bits of their website. \n",
    "\n"
   ]
  }
 ],
 "metadata": {
  "kernelspec": {
   "display_name": "Python 3.10.7 64-bit (microsoft store)",
   "language": "python",
   "name": "python3"
  },
  "language_info": {
   "codemirror_mode": {
    "name": "ipython",
    "version": 3
   },
   "file_extension": ".py",
   "mimetype": "text/x-python",
   "name": "python",
   "nbconvert_exporter": "python",
   "pygments_lexer": "ipython3",
   "version": "3.10.7"
  },
  "orig_nbformat": 4,
  "vscode": {
   "interpreter": {
    "hash": "a166e61b3f1e7b9ccc9f59f78d7cc3087a9ccbb0b1a7cff444b301613a633a54"
   }
  }
 },
 "nbformat": 4,
 "nbformat_minor": 2
}
