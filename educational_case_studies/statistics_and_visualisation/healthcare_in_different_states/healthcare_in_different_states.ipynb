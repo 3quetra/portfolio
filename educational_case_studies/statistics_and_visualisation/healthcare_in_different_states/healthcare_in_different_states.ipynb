{
 "cells": [
  {
   "cell_type": "markdown",
   "metadata": {},
   "source": [
    "# Healthcare in Different States\n",
    "\n",
    "In this project, we will use boxplots to investigate the way hospitals in different states across the United States charge their patients for medical procedures. The data originally came from the United State Health and Human Services Department.\n",
    "\n",
    "## Data Investigation\n",
    "\n",
    "Let's import nrcessary libraries and the dataset into a variable named `healthcare`. "
   ]
  },
  {
   "cell_type": "code",
   "execution_count": 69,
   "metadata": {},
   "outputs": [],
   "source": [
    "import pandas as pd\n",
    "from matplotlib import pyplot as plt\n",
    "\n",
    "healthcare = pd.read_csv(\"healthcare.csv\")"
   ]
  },
  {
   "cell_type": "markdown",
   "metadata": {},
   "source": [
    "Now we going to take a look at what data we have to work with. "
   ]
  },
  {
   "cell_type": "code",
   "execution_count": 70,
   "metadata": {},
   "outputs": [
    {
     "data": {
      "text/html": [
       "<div>\n",
       "<style scoped>\n",
       "    .dataframe tbody tr th:only-of-type {\n",
       "        vertical-align: middle;\n",
       "    }\n",
       "\n",
       "    .dataframe tbody tr th {\n",
       "        vertical-align: top;\n",
       "    }\n",
       "\n",
       "    .dataframe thead th {\n",
       "        text-align: right;\n",
       "    }\n",
       "</style>\n",
       "<table border=\"1\" class=\"dataframe\">\n",
       "  <thead>\n",
       "    <tr style=\"text-align: right;\">\n",
       "      <th></th>\n",
       "      <th>DRG Definition</th>\n",
       "      <th>Provider Id</th>\n",
       "      <th>Provider Name</th>\n",
       "      <th>Provider Street Address</th>\n",
       "      <th>Provider City</th>\n",
       "      <th>Provider State</th>\n",
       "      <th>Provider Zip Code</th>\n",
       "      <th>Hospital Referral Region Description</th>\n",
       "      <th>Total Discharges</th>\n",
       "      <th>Average Covered Charges</th>\n",
       "      <th>Average Total Payments</th>\n",
       "      <th>Average Medicare Payments</th>\n",
       "    </tr>\n",
       "  </thead>\n",
       "  <tbody>\n",
       "    <tr>\n",
       "      <th>0</th>\n",
       "      <td>039 - EXTRACRANIAL PROCEDURES W/O CC/MCC</td>\n",
       "      <td>10001</td>\n",
       "      <td>SOUTHEAST ALABAMA MEDICAL CENTER</td>\n",
       "      <td>1108 ROSS CLARK CIRCLE</td>\n",
       "      <td>DOTHAN</td>\n",
       "      <td>AL</td>\n",
       "      <td>36301</td>\n",
       "      <td>AL - Dothan</td>\n",
       "      <td>91</td>\n",
       "      <td>32963.07</td>\n",
       "      <td>5777.24</td>\n",
       "      <td>4763.73</td>\n",
       "    </tr>\n",
       "    <tr>\n",
       "      <th>1</th>\n",
       "      <td>039 - EXTRACRANIAL PROCEDURES W/O CC/MCC</td>\n",
       "      <td>10005</td>\n",
       "      <td>MARSHALL MEDICAL CENTER SOUTH</td>\n",
       "      <td>2505 U S HIGHWAY 431 NORTH</td>\n",
       "      <td>BOAZ</td>\n",
       "      <td>AL</td>\n",
       "      <td>35957</td>\n",
       "      <td>AL - Birmingham</td>\n",
       "      <td>14</td>\n",
       "      <td>15131.85</td>\n",
       "      <td>5787.57</td>\n",
       "      <td>4976.71</td>\n",
       "    </tr>\n",
       "    <tr>\n",
       "      <th>2</th>\n",
       "      <td>039 - EXTRACRANIAL PROCEDURES W/O CC/MCC</td>\n",
       "      <td>10006</td>\n",
       "      <td>ELIZA COFFEE MEMORIAL HOSPITAL</td>\n",
       "      <td>205 MARENGO STREET</td>\n",
       "      <td>FLORENCE</td>\n",
       "      <td>AL</td>\n",
       "      <td>35631</td>\n",
       "      <td>AL - Birmingham</td>\n",
       "      <td>24</td>\n",
       "      <td>37560.37</td>\n",
       "      <td>5434.95</td>\n",
       "      <td>4453.79</td>\n",
       "    </tr>\n",
       "    <tr>\n",
       "      <th>3</th>\n",
       "      <td>039 - EXTRACRANIAL PROCEDURES W/O CC/MCC</td>\n",
       "      <td>10011</td>\n",
       "      <td>ST VINCENT'S EAST</td>\n",
       "      <td>50 MEDICAL PARK EAST DRIVE</td>\n",
       "      <td>BIRMINGHAM</td>\n",
       "      <td>AL</td>\n",
       "      <td>35235</td>\n",
       "      <td>AL - Birmingham</td>\n",
       "      <td>25</td>\n",
       "      <td>13998.28</td>\n",
       "      <td>5417.56</td>\n",
       "      <td>4129.16</td>\n",
       "    </tr>\n",
       "    <tr>\n",
       "      <th>4</th>\n",
       "      <td>039 - EXTRACRANIAL PROCEDURES W/O CC/MCC</td>\n",
       "      <td>10016</td>\n",
       "      <td>SHELBY BAPTIST MEDICAL CENTER</td>\n",
       "      <td>1000 FIRST STREET NORTH</td>\n",
       "      <td>ALABASTER</td>\n",
       "      <td>AL</td>\n",
       "      <td>35007</td>\n",
       "      <td>AL - Birmingham</td>\n",
       "      <td>18</td>\n",
       "      <td>31633.27</td>\n",
       "      <td>5658.33</td>\n",
       "      <td>4851.44</td>\n",
       "    </tr>\n",
       "  </tbody>\n",
       "</table>\n",
       "</div>"
      ],
      "text/plain": [
       "                             DRG Definition  Provider Id  \\\n",
       "0  039 - EXTRACRANIAL PROCEDURES W/O CC/MCC        10001   \n",
       "1  039 - EXTRACRANIAL PROCEDURES W/O CC/MCC        10005   \n",
       "2  039 - EXTRACRANIAL PROCEDURES W/O CC/MCC        10006   \n",
       "3  039 - EXTRACRANIAL PROCEDURES W/O CC/MCC        10011   \n",
       "4  039 - EXTRACRANIAL PROCEDURES W/O CC/MCC        10016   \n",
       "\n",
       "                      Provider Name     Provider Street Address Provider City  \\\n",
       "0  SOUTHEAST ALABAMA MEDICAL CENTER      1108 ROSS CLARK CIRCLE        DOTHAN   \n",
       "1     MARSHALL MEDICAL CENTER SOUTH  2505 U S HIGHWAY 431 NORTH          BOAZ   \n",
       "2    ELIZA COFFEE MEMORIAL HOSPITAL          205 MARENGO STREET      FLORENCE   \n",
       "3                 ST VINCENT'S EAST  50 MEDICAL PARK EAST DRIVE    BIRMINGHAM   \n",
       "4     SHELBY BAPTIST MEDICAL CENTER     1000 FIRST STREET NORTH     ALABASTER   \n",
       "\n",
       "  Provider State  Provider Zip Code Hospital Referral Region Description  \\\n",
       "0             AL              36301                          AL - Dothan   \n",
       "1             AL              35957                      AL - Birmingham   \n",
       "2             AL              35631                      AL - Birmingham   \n",
       "3             AL              35235                      AL - Birmingham   \n",
       "4             AL              35007                      AL - Birmingham   \n",
       "\n",
       "    Total Discharges    Average Covered Charges    Average Total Payments   \\\n",
       "0                  91                   32963.07                   5777.24   \n",
       "1                  14                   15131.85                   5787.57   \n",
       "2                  24                   37560.37                   5434.95   \n",
       "3                  25                   13998.28                   5417.56   \n",
       "4                  18                   31633.27                   5658.33   \n",
       "\n",
       "   Average Medicare Payments  \n",
       "0                    4763.73  \n",
       "1                    4976.71  \n",
       "2                    4453.79  \n",
       "3                    4129.16  \n",
       "4                    4851.44  "
      ]
     },
     "execution_count": 70,
     "metadata": {},
     "output_type": "execute_result"
    }
   ],
   "source": [
    "healthcare.head(5)"
   ]
  },
  {
   "cell_type": "markdown",
   "metadata": {},
   "source": [
    "Let's check how many unique diagnoses there are in the dataset. "
   ]
  },
  {
   "cell_type": "code",
   "execution_count": 71,
   "metadata": {},
   "outputs": [
    {
     "data": {
      "text/plain": [
       "100"
      ]
     },
     "execution_count": 71,
     "metadata": {},
     "output_type": "execute_result"
    }
   ],
   "source": [
    "len(healthcare[\"DRG Definition\"].unique())"
   ]
  },
  {
   "cell_type": "markdown",
   "metadata": {},
   "source": [
    "There are many different kinds of them, so to be focused, let's get one of them, for instance \"069 - TRANSIENT ISCHEMIA\"."
   ]
  },
  {
   "cell_type": "code",
   "execution_count": 72,
   "metadata": {},
   "outputs": [
    {
     "data": {
      "text/plain": [
       "array(['039 - EXTRACRANIAL PROCEDURES W/O CC/MCC',\n",
       "       '057 - DEGENERATIVE NERVOUS SYSTEM DISORDERS W/O MCC',\n",
       "       '069 - TRANSIENT ISCHEMIA',\n",
       "       '064 - INTRACRANIAL HEMORRHAGE OR CEREBRAL INFARCTION W MCC',\n",
       "       '065 - INTRACRANIAL HEMORRHAGE OR CEREBRAL INFARCTION W CC',\n",
       "       '066 - INTRACRANIAL HEMORRHAGE OR CEREBRAL INFARCTION W/O CC/MCC',\n",
       "       '074 - CRANIAL & PERIPHERAL NERVE DISORDERS W/O MCC',\n",
       "       '101 - SEIZURES W/O MCC', '149 - DYSEQUILIBRIUM',\n",
       "       '176 - PULMONARY EMBOLISM W/O MCC'], dtype=object)"
      ]
     },
     "execution_count": 72,
     "metadata": {},
     "output_type": "execute_result"
    }
   ],
   "source": [
    "healthcare[\"DRG Definition\"].unique()[:10]"
   ]
  },
  {
   "cell_type": "markdown",
   "metadata": {},
   "source": [
    "Now we need to grab only those rows from the dataset that mention \"069 - TRANSIENT ISCHEMIA\". "
   ]
  },
  {
   "cell_type": "code",
   "execution_count": 73,
   "metadata": {},
   "outputs": [
    {
     "data": {
      "text/plain": [
       "1962"
      ]
     },
     "execution_count": 73,
     "metadata": {},
     "output_type": "execute_result"
    }
   ],
   "source": [
    "ischemia = healthcare[healthcare['DRG Definition'] == '069 - TRANSIENT ISCHEMIA']\n",
    "len(ischemia)"
   ]
  },
  {
   "cell_type": "markdown",
   "metadata": {},
   "source": [
    "There are also many of them (1962), so let's check only 5 of them."
   ]
  },
  {
   "cell_type": "code",
   "execution_count": 74,
   "metadata": {},
   "outputs": [
    {
     "data": {
      "text/html": [
       "<div>\n",
       "<style scoped>\n",
       "    .dataframe tbody tr th:only-of-type {\n",
       "        vertical-align: middle;\n",
       "    }\n",
       "\n",
       "    .dataframe tbody tr th {\n",
       "        vertical-align: top;\n",
       "    }\n",
       "\n",
       "    .dataframe thead th {\n",
       "        text-align: right;\n",
       "    }\n",
       "</style>\n",
       "<table border=\"1\" class=\"dataframe\">\n",
       "  <thead>\n",
       "    <tr style=\"text-align: right;\">\n",
       "      <th></th>\n",
       "      <th>DRG Definition</th>\n",
       "      <th>Provider Id</th>\n",
       "      <th>Provider Name</th>\n",
       "      <th>Provider Street Address</th>\n",
       "      <th>Provider City</th>\n",
       "      <th>Provider State</th>\n",
       "      <th>Provider Zip Code</th>\n",
       "      <th>Hospital Referral Region Description</th>\n",
       "      <th>Total Discharges</th>\n",
       "      <th>Average Covered Charges</th>\n",
       "      <th>Average Total Payments</th>\n",
       "      <th>Average Medicare Payments</th>\n",
       "    </tr>\n",
       "  </thead>\n",
       "  <tbody>\n",
       "    <tr>\n",
       "      <th>1763</th>\n",
       "      <td>069 - TRANSIENT ISCHEMIA</td>\n",
       "      <td>10047</td>\n",
       "      <td>GEORGIANA HOSPITAL</td>\n",
       "      <td>515 MIRANDA ST</td>\n",
       "      <td>GEORGIANA</td>\n",
       "      <td>AL</td>\n",
       "      <td>36033</td>\n",
       "      <td>AL - Montgomery</td>\n",
       "      <td>32</td>\n",
       "      <td>5062.59</td>\n",
       "      <td>4277.31</td>\n",
       "      <td>3386.18</td>\n",
       "    </tr>\n",
       "    <tr>\n",
       "      <th>2157</th>\n",
       "      <td>069 - TRANSIENT ISCHEMIA</td>\n",
       "      <td>10049</td>\n",
       "      <td>MEDICAL CENTER ENTERPRISE</td>\n",
       "      <td>400 N EDWARDS STREET</td>\n",
       "      <td>ENTERPRISE</td>\n",
       "      <td>AL</td>\n",
       "      <td>36330</td>\n",
       "      <td>AL - Dothan</td>\n",
       "      <td>17</td>\n",
       "      <td>22034.35</td>\n",
       "      <td>3758.00</td>\n",
       "      <td>2674.82</td>\n",
       "    </tr>\n",
       "    <tr>\n",
       "      <th>2297</th>\n",
       "      <td>069 - TRANSIENT ISCHEMIA</td>\n",
       "      <td>10054</td>\n",
       "      <td>PARKWAY MEDICAL CENTER</td>\n",
       "      <td>1874 BELTLINE RD SW</td>\n",
       "      <td>DECATUR</td>\n",
       "      <td>AL</td>\n",
       "      <td>35601</td>\n",
       "      <td>AL - Huntsville</td>\n",
       "      <td>20</td>\n",
       "      <td>23957.70</td>\n",
       "      <td>5708.65</td>\n",
       "      <td>2796.80</td>\n",
       "    </tr>\n",
       "    <tr>\n",
       "      <th>2624</th>\n",
       "      <td>069 - TRANSIENT ISCHEMIA</td>\n",
       "      <td>10055</td>\n",
       "      <td>FLOWERS HOSPITAL</td>\n",
       "      <td>4370 WEST MAIN STREET</td>\n",
       "      <td>DOTHAN</td>\n",
       "      <td>AL</td>\n",
       "      <td>36305</td>\n",
       "      <td>AL - Dothan</td>\n",
       "      <td>17</td>\n",
       "      <td>26806.52</td>\n",
       "      <td>4006.23</td>\n",
       "      <td>2688.11</td>\n",
       "    </tr>\n",
       "    <tr>\n",
       "      <th>2760</th>\n",
       "      <td>069 - TRANSIENT ISCHEMIA</td>\n",
       "      <td>10056</td>\n",
       "      <td>ST VINCENT'S BIRMINGHAM</td>\n",
       "      <td>810 ST VINCENT'S DRIVE</td>\n",
       "      <td>BIRMINGHAM</td>\n",
       "      <td>AL</td>\n",
       "      <td>35205</td>\n",
       "      <td>AL - Birmingham</td>\n",
       "      <td>49</td>\n",
       "      <td>12191.95</td>\n",
       "      <td>3857.10</td>\n",
       "      <td>2691.10</td>\n",
       "    </tr>\n",
       "  </tbody>\n",
       "</table>\n",
       "</div>"
      ],
      "text/plain": [
       "                DRG Definition  Provider Id              Provider Name  \\\n",
       "1763  069 - TRANSIENT ISCHEMIA        10047         GEORGIANA HOSPITAL   \n",
       "2157  069 - TRANSIENT ISCHEMIA        10049  MEDICAL CENTER ENTERPRISE   \n",
       "2297  069 - TRANSIENT ISCHEMIA        10054     PARKWAY MEDICAL CENTER   \n",
       "2624  069 - TRANSIENT ISCHEMIA        10055           FLOWERS HOSPITAL   \n",
       "2760  069 - TRANSIENT ISCHEMIA        10056    ST VINCENT'S BIRMINGHAM   \n",
       "\n",
       "     Provider Street Address Provider City Provider State  Provider Zip Code  \\\n",
       "1763          515 MIRANDA ST     GEORGIANA             AL              36033   \n",
       "2157    400 N EDWARDS STREET    ENTERPRISE             AL              36330   \n",
       "2297     1874 BELTLINE RD SW       DECATUR             AL              35601   \n",
       "2624   4370 WEST MAIN STREET        DOTHAN             AL              36305   \n",
       "2760  810 ST VINCENT'S DRIVE    BIRMINGHAM             AL              35205   \n",
       "\n",
       "     Hospital Referral Region Description   Total Discharges   \\\n",
       "1763                      AL - Montgomery                  32   \n",
       "2157                          AL - Dothan                  17   \n",
       "2297                      AL - Huntsville                  20   \n",
       "2624                          AL - Dothan                  17   \n",
       "2760                      AL - Birmingham                  49   \n",
       "\n",
       "       Average Covered Charges    Average Total Payments   \\\n",
       "1763                    5062.59                   4277.31   \n",
       "2157                   22034.35                   3758.00   \n",
       "2297                   23957.70                   5708.65   \n",
       "2624                   26806.52                   4006.23   \n",
       "2760                   12191.95                   3857.10   \n",
       "\n",
       "      Average Medicare Payments  \n",
       "1763                    3386.18  \n",
       "2157                    2674.82  \n",
       "2297                    2796.80  \n",
       "2624                    2688.11  \n",
       "2760                    2691.10  "
      ]
     },
     "execution_count": 74,
     "metadata": {},
     "output_type": "execute_result"
    }
   ],
   "source": [
    "ischemia.head(5)"
   ]
  },
  {
   "cell_type": "markdown",
   "metadata": {},
   "source": [
    "## Separating By State\n",
    "\n",
    "Now we want to separate the dataset by state. Eventually, we’ll use a for loop to do this for every state, but for now, let’s prove to ourselves that we can make a boxplot for at least one state, Alabama for instance. When we printed the head, we saw the first few rows had a 'Provider State' of \"AL\". Those were exactly the hospitals of Alabama.\n",
    "\n",
    "So let's get every transient ischemia diagnosis in Alabama."
   ]
  },
  {
   "cell_type": "code",
   "execution_count": 75,
   "metadata": {},
   "outputs": [
    {
     "data": {
      "text/plain": [
       "48"
      ]
     },
     "execution_count": 75,
     "metadata": {},
     "output_type": "execute_result"
    }
   ],
   "source": [
    "alabama_ischemia = ischemia[ischemia['Provider State'] == \"AL\"]\n",
    "len(alabama_ischemia)"
   ]
  },
  {
   "cell_type": "markdown",
   "metadata": {},
   "source": [
    "There are 48 diagnosed cases of ischemia in Alabama, let's check 5:"
   ]
  },
  {
   "cell_type": "code",
   "execution_count": 76,
   "metadata": {},
   "outputs": [
    {
     "data": {
      "text/html": [
       "<div>\n",
       "<style scoped>\n",
       "    .dataframe tbody tr th:only-of-type {\n",
       "        vertical-align: middle;\n",
       "    }\n",
       "\n",
       "    .dataframe tbody tr th {\n",
       "        vertical-align: top;\n",
       "    }\n",
       "\n",
       "    .dataframe thead th {\n",
       "        text-align: right;\n",
       "    }\n",
       "</style>\n",
       "<table border=\"1\" class=\"dataframe\">\n",
       "  <thead>\n",
       "    <tr style=\"text-align: right;\">\n",
       "      <th></th>\n",
       "      <th>DRG Definition</th>\n",
       "      <th>Provider Id</th>\n",
       "      <th>Provider Name</th>\n",
       "      <th>Provider Street Address</th>\n",
       "      <th>Provider City</th>\n",
       "      <th>Provider State</th>\n",
       "      <th>Provider Zip Code</th>\n",
       "      <th>Hospital Referral Region Description</th>\n",
       "      <th>Total Discharges</th>\n",
       "      <th>Average Covered Charges</th>\n",
       "      <th>Average Total Payments</th>\n",
       "      <th>Average Medicare Payments</th>\n",
       "    </tr>\n",
       "  </thead>\n",
       "  <tbody>\n",
       "    <tr>\n",
       "      <th>1763</th>\n",
       "      <td>069 - TRANSIENT ISCHEMIA</td>\n",
       "      <td>10047</td>\n",
       "      <td>GEORGIANA HOSPITAL</td>\n",
       "      <td>515 MIRANDA ST</td>\n",
       "      <td>GEORGIANA</td>\n",
       "      <td>AL</td>\n",
       "      <td>36033</td>\n",
       "      <td>AL - Montgomery</td>\n",
       "      <td>32</td>\n",
       "      <td>5062.59</td>\n",
       "      <td>4277.31</td>\n",
       "      <td>3386.18</td>\n",
       "    </tr>\n",
       "    <tr>\n",
       "      <th>2157</th>\n",
       "      <td>069 - TRANSIENT ISCHEMIA</td>\n",
       "      <td>10049</td>\n",
       "      <td>MEDICAL CENTER ENTERPRISE</td>\n",
       "      <td>400 N EDWARDS STREET</td>\n",
       "      <td>ENTERPRISE</td>\n",
       "      <td>AL</td>\n",
       "      <td>36330</td>\n",
       "      <td>AL - Dothan</td>\n",
       "      <td>17</td>\n",
       "      <td>22034.35</td>\n",
       "      <td>3758.00</td>\n",
       "      <td>2674.82</td>\n",
       "    </tr>\n",
       "    <tr>\n",
       "      <th>2297</th>\n",
       "      <td>069 - TRANSIENT ISCHEMIA</td>\n",
       "      <td>10054</td>\n",
       "      <td>PARKWAY MEDICAL CENTER</td>\n",
       "      <td>1874 BELTLINE RD SW</td>\n",
       "      <td>DECATUR</td>\n",
       "      <td>AL</td>\n",
       "      <td>35601</td>\n",
       "      <td>AL - Huntsville</td>\n",
       "      <td>20</td>\n",
       "      <td>23957.70</td>\n",
       "      <td>5708.65</td>\n",
       "      <td>2796.80</td>\n",
       "    </tr>\n",
       "    <tr>\n",
       "      <th>2624</th>\n",
       "      <td>069 - TRANSIENT ISCHEMIA</td>\n",
       "      <td>10055</td>\n",
       "      <td>FLOWERS HOSPITAL</td>\n",
       "      <td>4370 WEST MAIN STREET</td>\n",
       "      <td>DOTHAN</td>\n",
       "      <td>AL</td>\n",
       "      <td>36305</td>\n",
       "      <td>AL - Dothan</td>\n",
       "      <td>17</td>\n",
       "      <td>26806.52</td>\n",
       "      <td>4006.23</td>\n",
       "      <td>2688.11</td>\n",
       "    </tr>\n",
       "    <tr>\n",
       "      <th>2760</th>\n",
       "      <td>069 - TRANSIENT ISCHEMIA</td>\n",
       "      <td>10056</td>\n",
       "      <td>ST VINCENT'S BIRMINGHAM</td>\n",
       "      <td>810 ST VINCENT'S DRIVE</td>\n",
       "      <td>BIRMINGHAM</td>\n",
       "      <td>AL</td>\n",
       "      <td>35205</td>\n",
       "      <td>AL - Birmingham</td>\n",
       "      <td>49</td>\n",
       "      <td>12191.95</td>\n",
       "      <td>3857.10</td>\n",
       "      <td>2691.10</td>\n",
       "    </tr>\n",
       "  </tbody>\n",
       "</table>\n",
       "</div>"
      ],
      "text/plain": [
       "                DRG Definition  Provider Id              Provider Name  \\\n",
       "1763  069 - TRANSIENT ISCHEMIA        10047         GEORGIANA HOSPITAL   \n",
       "2157  069 - TRANSIENT ISCHEMIA        10049  MEDICAL CENTER ENTERPRISE   \n",
       "2297  069 - TRANSIENT ISCHEMIA        10054     PARKWAY MEDICAL CENTER   \n",
       "2624  069 - TRANSIENT ISCHEMIA        10055           FLOWERS HOSPITAL   \n",
       "2760  069 - TRANSIENT ISCHEMIA        10056    ST VINCENT'S BIRMINGHAM   \n",
       "\n",
       "     Provider Street Address Provider City Provider State  Provider Zip Code  \\\n",
       "1763          515 MIRANDA ST     GEORGIANA             AL              36033   \n",
       "2157    400 N EDWARDS STREET    ENTERPRISE             AL              36330   \n",
       "2297     1874 BELTLINE RD SW       DECATUR             AL              35601   \n",
       "2624   4370 WEST MAIN STREET        DOTHAN             AL              36305   \n",
       "2760  810 ST VINCENT'S DRIVE    BIRMINGHAM             AL              35205   \n",
       "\n",
       "     Hospital Referral Region Description   Total Discharges   \\\n",
       "1763                      AL - Montgomery                  32   \n",
       "2157                          AL - Dothan                  17   \n",
       "2297                      AL - Huntsville                  20   \n",
       "2624                          AL - Dothan                  17   \n",
       "2760                      AL - Birmingham                  49   \n",
       "\n",
       "       Average Covered Charges    Average Total Payments   \\\n",
       "1763                    5062.59                   4277.31   \n",
       "2157                   22034.35                   3758.00   \n",
       "2297                   23957.70                   5708.65   \n",
       "2624                   26806.52                   4006.23   \n",
       "2760                   12191.95                   3857.10   \n",
       "\n",
       "      Average Medicare Payments  \n",
       "1763                    3386.18  \n",
       "2157                    2674.82  \n",
       "2297                    2796.80  \n",
       "2624                    2688.11  \n",
       "2760                    2691.10  "
      ]
     },
     "execution_count": 76,
     "metadata": {},
     "output_type": "execute_result"
    }
   ],
   "source": [
    "alabama_ischemia.head(5)"
   ]
  },
  {
   "cell_type": "markdown",
   "metadata": {},
   "source": [
    "We now have all of the hospitals in Alabama that have a diagnosed ischemia. We want to find the average cost of those diagnoses. These value is stored in the column ' Average Covered Charges '. Let's get only these values."
   ]
  },
  {
   "cell_type": "code",
   "execution_count": 77,
   "metadata": {},
   "outputs": [
    {
     "data": {
      "text/plain": [
       "array([ 5062.59, 22034.35, 23957.7 , 26806.52, 12191.95,  9692.54,\n",
       "        8942.76, 47517.38,  8277.  , 31843.14, 20688.83, 14260.  ,\n",
       "       17091.66,  9614.28, 18208.  , 20022.66, 22626.67, 11959.91,\n",
       "       17312.93, 15894.84,  7370.96, 26658.31,  6357.5 , 14936.14,\n",
       "       12116.75, 19739.66, 23076.94, 18391.71, 12411.15, 22162.81,\n",
       "        6105.17, 20436.68, 13605.33, 17991.55,  5543.5 ,  7195.08,\n",
       "       15524.21, 29608.67, 36930.39, 15692.79, 17018.21, 19088.51,\n",
       "       27809.16, 50127.26, 12925.61,  5787.56, 15085.33, 17244.11])"
      ]
     },
     "execution_count": 77,
     "metadata": {},
     "output_type": "execute_result"
    }
   ],
   "source": [
    "costs = alabama_ischemia[' Average Covered Charges '].values\n",
    "costs"
   ]
  },
  {
   "cell_type": "markdown",
   "metadata": {},
   "source": [
    "Now we can make a boxplot of those values."
   ]
  },
  {
   "cell_type": "code",
   "execution_count": 78,
   "metadata": {},
   "outputs": [
    {
     "data": {
      "image/png": "[encoded data removed]",
      "text/plain": [
       "<Figure size 432x288 with 1 Axes>"
      ]
     },
     "metadata": {
      "needs_background": "light"
     },
     "output_type": "display_data"
    }
   ],
   "source": [
    "plt.boxplot(costs)\n",
    "plt.show()\n",
    "plt.close()"
   ]
  },
  {
   "cell_type": "markdown",
   "metadata": {},
   "source": [
    "## Making a Boxplot for All States\n",
    "\n",
    "We’ve made a boxplot for one state. But how does that state compare to the others? Let’s make a boxplot for every state.\n",
    "\n",
    "To begin, we first need to create a list of all the states in our dataset and save to the variable `states`."
   ]
  },
  {
   "cell_type": "code",
   "execution_count": 79,
   "metadata": {},
   "outputs": [
    {
     "data": {
      "text/plain": [
       "array(['AL', 'AZ', 'AR', 'CA', 'CO', 'PA', 'AK', 'CT', 'DE', 'DC', 'FL',\n",
       "       'GA', 'HI', 'ID', 'IL', 'IN', 'IA', 'KS', 'KY', 'LA', 'ME', 'MD',\n",
       "       'MA', 'MI', 'MN', 'MS', 'MO', 'MT', 'NE', 'NV', 'NH', 'NJ', 'NM',\n",
       "       'NY', 'NC', 'ND', 'OH', 'OK', 'OR', 'RI', 'SC', 'SD', 'TN', 'TX',\n",
       "       'UT', 'VT', 'VA', 'WA', 'WV', 'WI'], dtype=object)"
      ]
     },
     "execution_count": 79,
     "metadata": {},
     "output_type": "execute_result"
    }
   ],
   "source": [
    "states = ischemia['Provider State'].unique()\n",
    "states"
   ]
  },
  {
   "cell_type": "markdown",
   "metadata": {},
   "source": [
    "We’ll now separate the main dataset into a list of average costs grouped by state. Once again we need only values."
   ]
  },
  {
   "cell_type": "code",
   "execution_count": 80,
   "metadata": {},
   "outputs": [
    {
     "data": {
      "text/plain": [
       "[array([ 5062.59, 22034.35, 23957.7 , 26806.52, 12191.95,  9692.54,\n",
       "         8942.76, 47517.38,  8277.  , 31843.14, 20688.83, 14260.  ,\n",
       "        17091.66,  9614.28, 18208.  , 20022.66, 22626.67, 11959.91,\n",
       "        17312.93, 15894.84,  7370.96, 26658.31,  6357.5 , 14936.14,\n",
       "        12116.75, 19739.66, 23076.94, 18391.71, 12411.15, 22162.81,\n",
       "         6105.17, 20436.68, 13605.33, 17991.55,  5543.5 ,  7195.08,\n",
       "        15524.21, 29608.67, 36930.39, 15692.79, 17018.21, 19088.51,\n",
       "        27809.16, 50127.26, 12925.61,  5787.56, 15085.33, 17244.11]),\n",
       " array([21987.52, 34225.53, 23602.38, 18275.15, 23649.81, 18121.1 ,\n",
       "        19952.86, 18954.58, 22005.56, 30355.1 , 24891.75, 13842.12,\n",
       "        25693.8 , 24893.61, 23885.45, 21440.61, 28194.13, 24392.38,\n",
       "        24837.8 , 22143.1 , 25436.41, 21405.11, 39917.  , 17427.72,\n",
       "        20405.61, 26602.32, 24603.35, 32239.42, 23728.5 , 29496.1 ])]"
      ]
     },
     "execution_count": 80,
     "metadata": {},
     "output_type": "execute_result"
    }
   ],
   "source": [
    "datasets = []\n",
    "for state in states:\n",
    "  datasets.append(ischemia[ischemia['Provider State'] == state][' Average Covered Charges '].values)\n",
    "datasets[:2]"
   ]
  },
  {
   "cell_type": "markdown",
   "metadata": {},
   "source": [
    "Variable `datasets` now contains 50 arrays — one for each state.\n",
    "\n",
    "Let's draw 50 boxplots."
   ]
  },
  {
   "cell_type": "code",
   "execution_count": 81,
   "metadata": {},
   "outputs": [
    {
     "data": {
      "image/png": "[encoded data removed]",
      "text/plain": [
       "<Figure size 1440x576 with 1 Axes>"
      ]
     },
     "metadata": {
      "needs_background": "light"
     },
     "output_type": "display_data"
    }
   ],
   "source": [
    "plt.figure(figsize=(20,8)) \n",
    "\n",
    "plt.boxplot(datasets, labels = states)\n",
    "plt.show()"
   ]
  },
  {
   "cell_type": "markdown",
   "metadata": {},
   "source": [
    "\n",
    "## Conclusion\n",
    "\n",
    "- California, New Jersey, and Florida have the largest spreads of costs. \n",
    "Vermont has almost no spread.\n",
    "\n",
    "- The state with the largest median cost for a ischemia diagnosis is New Jersey. The state with the smallest median cost is Maryland.\n",
    "\n",
    "- California, Georgia, and Tennessee all have a fair number of outliers."
   ]
  }
 ],
 "metadata": {
  "kernelspec": {
   "display_name": "Python 3.10.7 64-bit (microsoft store)",
   "language": "python",
   "name": "python3"
  },
  "language_info": {
   "codemirror_mode": {
    "name": "ipython",
    "version": 3
   },
   "file_extension": ".py",
   "mimetype": "text/x-python",
   "name": "python",
   "nbconvert_exporter": "python",
   "pygments_lexer": "ipython3",
   "version": "3.10.7"
  },
  "orig_nbformat": 4,
  "vscode": {
   "interpreter": {
    "hash": "a166e61b3f1e7b9ccc9f59f78d7cc3087a9ccbb0b1a7cff444b301613a633a54"
   }
  }
 },
 "nbformat": 4,
 "nbformat_minor": 2
}
